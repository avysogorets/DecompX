{
 "cells": [
  {
   "cell_type": "code",
   "execution_count": 1,
   "metadata": {},
   "outputs": [],
   "source": [
    "import torch\n",
    "import numpy as np\n",
    "import matplotlib.pyplot as plt\n",
    "\n",
    "from scipy.stats import pearsonr\n",
    "\n",
    "import datasets\n",
    "from tqdm.notebook import tqdm\n",
    "\n",
    "from transformers import (\n",
    "    AutoTokenizer,\n",
    "    AutoModelForSequenceClassification,\n",
    "    DataCollatorWithPadding\n",
    ")"
   ]
  },
  {
   "cell_type": "code",
   "execution_count": 2,
   "metadata": {},
   "outputs": [
    {
     "data": {
      "text/plain": [
       "'cuda'"
      ]
     },
     "execution_count": 2,
     "metadata": {},
     "output_type": "execute_result"
    }
   ],
   "source": [
    "MODELS = {\n",
    "    # \"mnli-e0\": \"bert-base-uncased\",\n",
    "    \"mnli-e1\": \"/home/modaresi/projects/globenc_analysis/outputs/models/output_mnli_bert-base-uncased_0001_SEED0042/checkpoint-12272\",\n",
    "    \"mnli-e2\": \"/home/modaresi/projects/globenc_analysis/outputs/models/output_mnli_bert-base-uncased_0001_SEED0042/checkpoint-24544\",\n",
    "    \"mnli-e3\": \"/home/modaresi/projects/globenc_analysis/outputs/models/output_mnli_bert-base-uncased_0001_SEED0042/checkpoint-36816\",\n",
    "    \"mnli-e4\": \"/home/modaresi/projects/globenc_analysis/outputs/models/output_mnli_bert-base-uncased_0001_SEED0042/checkpoint-49088\",\n",
    "    \"mnli-e5\": \"/home/modaresi/projects/globenc_analysis/outputs/models/output_mnli_bert-base-uncased_0001_SEED0042/checkpoint-61360\",\n",
    "}\n",
    "\n",
    "TASK = \"mnli\"\n",
    " \n",
    "SET = \"train\"  # train/validation/validation_matched\n",
    "\n",
    "DEVICE = 'cuda' if torch.cuda.is_available() else 'cpu'\n",
    "DEVICE"
   ]
  },
  {
   "cell_type": "code",
   "execution_count": 5,
   "metadata": {},
   "outputs": [
    {
     "name": "stderr",
     "output_type": "stream",
     "text": [
      "Reusing dataset glue (/opt/huggingface/datasets/glue/mnli/1.0.0/dacbe3125aa31d7f70367a07a8a9e72a5a0bfeb5fc42e75c9db75b96da6053ad)\n"
     ]
    },
    {
     "data": {
      "application/vnd.jupyter.widget-view+json": {
       "model_id": "d05eb6fea8df40fca7d090b9cabc59ad",
       "version_major": 2,
       "version_minor": 0
      },
      "text/plain": [
       "  0%|          | 0/5 [00:00<?, ?it/s]"
      ]
     },
     "metadata": {},
     "output_type": "display_data"
    },
    {
     "data": {
      "text/plain": [
       "DatasetDict({\n",
       "    train: Dataset({\n",
       "        features: ['premise', 'hypothesis', 'label', 'idx'],\n",
       "        num_rows: 392702\n",
       "    })\n",
       "    validation_matched: Dataset({\n",
       "        features: ['premise', 'hypothesis', 'label', 'idx'],\n",
       "        num_rows: 9815\n",
       "    })\n",
       "    validation_mismatched: Dataset({\n",
       "        features: ['premise', 'hypothesis', 'label', 'idx'],\n",
       "        num_rows: 9832\n",
       "    })\n",
       "    test_matched: Dataset({\n",
       "        features: ['premise', 'hypothesis', 'label', 'idx'],\n",
       "        num_rows: 9796\n",
       "    })\n",
       "    test_mismatched: Dataset({\n",
       "        features: ['premise', 'hypothesis', 'label', 'idx'],\n",
       "        num_rows: 9847\n",
       "    })\n",
       "})"
      ]
     },
     "execution_count": 5,
     "metadata": {},
     "output_type": "execute_result"
    }
   ],
   "source": [
    "GLUE_TASKS = [\"cola\", \"mnli\", \"mnli-mm\", \"mrpc\", \"qnli\", \"qqp\", \"rte\", \"sst2\", \"stsb\", \"wnli\"]\n",
    "\n",
    "BATCH_SIZE = 24\n",
    "MAX_LENGTH = 128\n",
    "\n",
    "actual_task = \"mnli\" if TASK == \"mnli-mm\" else TASK\n",
    "dataset = datasets.load_dataset(\"glue\", actual_task)\n",
    "metric = datasets.load_metric('glue', actual_task)\n",
    "task_to_keys = {\n",
    "    \"cola\": (\"sentence\", None),\n",
    "    \"mnli\": (\"premise\", \"hypothesis\"),\n",
    "    \"mnli-mm\": (\"premise\", \"hypothesis\"),\n",
    "    \"mrpc\": (\"sentence1\", \"sentence2\"),\n",
    "    \"qnli\": (\"question\", \"sentence\"),\n",
    "    \"qqp\": (\"question1\", \"question2\"),\n",
    "    \"rte\": (\"sentence1\", \"sentence2\"),\n",
    "    \"sst2\": (\"sentence\", None),\n",
    "    \"stsb\": (\"sentence1\", \"sentence2\"),\n",
    "    \"wnli\": (\"sentence1\", \"sentence2\"),\n",
    "}\n",
    "SENTENCE1_KEY, SENTENCE2_KEY = task_to_keys[TASK]\n",
    "tokenizer = None\n",
    "sel_dataset = None\n",
    "dataset"
   ]
  },
  {
   "cell_type": "code",
   "execution_count": 4,
   "metadata": {},
   "outputs": [],
   "source": [
    "def preprocess_function_wrapped(tokenizer):\n",
    "    def preprocess_function(examples):\n",
    "        # Tokenize the texts\n",
    "        args = (\n",
    "            (examples[SENTENCE1_KEY],) if SENTENCE2_KEY is None else (examples[SENTENCE1_KEY], examples[SENTENCE2_KEY])\n",
    "        )\n",
    "        result = tokenizer(*args, padding=False, max_length=MAX_LENGTH, truncation=True)\n",
    "        return result\n",
    "    return preprocess_function\n",
    "\n",
    "def token_id_to_tokens_mapper(tokenizer, sample):\n",
    "    length = len(sample[\"input_ids\"])\n",
    "    return tokenizer.convert_ids_to_tokens(sample[\"input_ids\"])[:length], length\n",
    "\n",
    "from IPython.display import display, HTML\n",
    "# def print_globenc(globenc, tokenized_text, discrete=False, prefix=\"\"): \n",
    "#     if len(globenc.shape) == 2: \n",
    "#         globenc = np.expand_dims(globenc, axis=0) \n",
    "#     # norm_cls = globenc\n",
    "#     # norm_cls = np.flip(norm_cls, axis=0) \n",
    "#     # row_sums = norm_cls.max(axis=1) \n",
    "#     # norm_cls = norm_cls / row_sums[:, np.newaxis] \n",
    "#     html = prefix \n",
    "#     if discrete: \n",
    "#         cls_attention = np.argsort(np.argsort(norm_cls[0, :])) / len(norm_cls[0, :]) \n",
    "#     else: \n",
    "#         cls_attention = globenc / globenc.max()\n",
    "#     for i in range(len(tokenized_text)): \n",
    "#         html += (f\"<span style='background-color: rgba(10, {cls_attention[i]*255}, 10, {cls_attention[i] / 1.5}); \" \n",
    "#                  f\"font-size: {int(cls_attention[i]*18 + 1)}px; \" \n",
    "#                  f\"font-weight: {int(cls_attention[i]*900)};'>\") \n",
    "#         html += tokenized_text[i] \n",
    "#         html += \"</span> \" \n",
    "#     display(HTML(html))\n",
    "\n",
    "def print_globenc(globenc, tokenized_text, discrete=False, prefix=\"\", no_cls=False):\n",
    "    # if len(globenc.shape) == 2:\n",
    "    #     globenc = np.expand_dims(globenc, axis=0)\n",
    "    # norm_cls = globenc[:, 0, :]\n",
    "    # norm_cls = np.flip(norm_cls, axis=0)\n",
    "    # row_sums = norm_cls.max(axis=1)\n",
    "    # norm_cls = norm_cls / row_sums[:, np.newaxis]\n",
    "    html = prefix\n",
    "    if discrete:\n",
    "        cls_attention = np.argsort(np.argsort(norm_cls[0, :])) / len(norm_cls[0, :])\n",
    "    else:\n",
    "        cls_attention = globenc / globenc.max()\n",
    "    for i in range(len(tokenized_text)):\n",
    "        html += (f\"<span style='\"\n",
    "                 f\"background-color: rgba({cls_attention[i]*255}, {cls_attention[i]*255}, 0, {cls_attention[i] / 1.5}); \"\n",
    "#                  f\"background-color: rgba(200, {cls_attention[i]*255}, 10, 1.0); \"\n",
    "#                  f\"font-size: {int(cls_attention[i]*18 + 1)}px; \"\n",
    "#                  f\"font-weight: {int(cls_attention[i]*900)};\"\n",
    "                 f\"font-weight: {int(800)};\"\n",
    "                 \"'>\")\n",
    "        html += tokenized_text[i]\n",
    "        html += \"</span> \"\n",
    "    display(HTML(html))"
   ]
  },
  {
   "cell_type": "code",
   "execution_count": 49,
   "metadata": {},
   "outputs": [
    {
     "data": {
      "application/vnd.jupyter.widget-view+json": {
       "model_id": "c33668375f3043058e7c9f9c3dc3bef8",
       "version_major": 2,
       "version_minor": 0
      },
      "text/plain": [
       "Models:   0%|          | 0/5 [00:00<?, ?it/s]"
      ]
     },
     "metadata": {},
     "output_type": "display_data"
    },
    {
     "data": {
      "text/html": [
       "mnli-e1 <span style='background-color: rgba(94.81105327606201, 94.81105327606201, 0, 0.24787203470865884); font-weight: 800;'>[CLS]</span> <span style='background-color: rgba(23.848420903086662, 23.848420903086662, 0, 0.06234881281852722); font-weight: 800;'>he</span> <span style='background-color: rgba(63.073043525218964, 63.073043525218964, 0, 0.16489684581756592); font-weight: 800;'>sat</span> <span style='background-color: rgba(53.352237939834595, 53.352237939834595, 0, 0.13948297500610352); font-weight: 800;'>down</span> <span style='background-color: rgba(37.94701337814331, 37.94701337814331, 0, 0.09920787811279297); font-weight: 800;'>in</span> <span style='background-color: rgba(45.44037468731403, 45.44037468731403, 0, 0.11879836519559224); font-weight: 800;'>one</span> <span style='background-color: rgba(22.501182295382023, 22.501182295382023, 0, 0.05882662038008372); font-weight: 800;'>of</span> <span style='background-color: rgba(16.451980993151665, 16.451980993151665, 0, 0.043011715014775596); font-weight: 800;'>the</span> <span style='background-color: rgba(55.01020297408104, 55.01020297408104, 0, 0.14381752411524454); font-weight: 800;'>big</span> <span style='background-color: rgba(74.49361190199852, 74.49361190199852, 0, 0.19475454092025757); font-weight: 800;'>arm</span> <span style='background-color: rgba(54.850493744015694, 54.850493744015694, 0, 0.14339998364448547); font-weight: 800;'>-</span> <span style='background-color: rgba(217.9588732123375, 217.9588732123375, 0, 0.569827119509379); font-weight: 800;'>chairs</span> <span style='background-color: rgba(116.10094606876373, 116.10094606876373, 0, 0.3035318851470947); font-weight: 800;'>facing</span> <span style='background-color: rgba(21.181104630231857, 21.181104630231857, 0, 0.05537543694178263); font-weight: 800;'>the</span> <span style='background-color: rgba(100.73574095964432, 100.73574095964432, 0, 0.2633614142735799); font-weight: 800;'>couch</span> <span style='background-color: rgba(18.875072970986366, 18.875072970986366, 0, 0.049346596002578735); font-weight: 800;'>.</span> <span style='background-color: rgba(25.767069049179554, 25.767069049179554, 0, 0.0673648864030838); font-weight: 800;'>[SEP]</span> <span style='background-color: rgba(31.466704308986664, 31.466704308986664, 0, 0.08226589361826579); font-weight: 800;'>he</span> <span style='background-color: rgba(66.09340265393257, 66.09340265393257, 0, 0.1727932095527649); font-weight: 800;'>sat</span> <span style='background-color: rgba(50.194717571139336, 50.194717571139336, 0, 0.13122801979382834); font-weight: 800;'>down</span> <span style='background-color: rgba(35.224900245666504, 35.224900245666504, 0, 0.09209124247233073); font-weight: 800;'>on</span> <span style='background-color: rgba(24.67295005917549, 24.67295005917549, 0, 0.06450444459915161); font-weight: 800;'>the</span> <span style='background-color: rgba(136.37936353683472, 136.37936353683472, 0, 0.35654735565185547); font-weight: 800;'>couch</span> <span style='background-color: rgba(57.642146944999695, 57.642146944999695, 0, 0.15069842338562012); font-weight: 800;'>that</span> <span style='background-color: rgba(168.51694464683533, 168.51694464683533, 0, 0.4405671755472819); font-weight: 800;'>faced</span> <span style='background-color: rgba(67.8214967250824, 67.8214967250824, 0, 0.17731110254923502); font-weight: 800;'>a</span> <span style='background-color: rgba(255.0, 255.0, 0, 0.6666666666666666); font-weight: 800;'>chair</span> <span style='background-color: rgba(37.91704058647156, 37.91704058647156, 0, 0.09912951787312825); font-weight: 800;'>.</span> <span style='background-color: rgba(35.35155884921551, 35.35155884921551, 0, 0.09242237607638042); font-weight: 800;'>[SEP]</span> "
      ],
      "text/plain": [
       "<IPython.core.display.HTML object>"
      ]
     },
     "metadata": {},
     "output_type": "display_data"
    },
    {
     "name": "stdout",
     "output_type": "stream",
     "text": [
      "Corr: 0.9636886075299456\n"
     ]
    },
    {
     "data": {
      "text/html": [
       "mnli-e2 <span style='background-color: rgba(52.16096766293049, 52.16096766293049, 0, 0.1363685429096222); font-weight: 800;'>[CLS]</span> <span style='background-color: rgba(16.054127141833305, 16.054127141833305, 0, 0.041971574227015175); font-weight: 800;'>he</span> <span style='background-color: rgba(39.76007089018822, 39.76007089018822, 0, 0.10394789775212605); font-weight: 800;'>sat</span> <span style='background-color: rgba(39.09392863512039, 39.09392863512039, 0, 0.10220634937286377); font-weight: 800;'>down</span> <span style='background-color: rgba(17.355703599750996, 17.355703599750996, 0, 0.04537438849608103); font-weight: 800;'>in</span> <span style='background-color: rgba(15.928624626249075, 15.928624626249075, 0, 0.04164346307516098); font-weight: 800;'>one</span> <span style='background-color: rgba(12.3252447322011, 12.3252447322011, 0, 0.03222286204497019); font-weight: 800;'>of</span> <span style='background-color: rgba(10.339125506579876, 10.339125506579876, 0, 0.027030393481254578); font-weight: 800;'>the</span> <span style='background-color: rgba(33.229095339775085, 33.229095339775085, 0, 0.08687345186869304); font-weight: 800;'>big</span> <span style='background-color: rgba(52.35227979719639, 52.35227979719639, 0, 0.13686870535214743); font-weight: 800;'>arm</span> <span style='background-color: rgba(23.176434561610222, 23.176434561610222, 0, 0.06059198578198751); font-weight: 800;'>-</span> <span style='background-color: rgba(175.16718059778214, 175.16718059778214, 0, 0.457953413327535); font-weight: 800;'>chairs</span> <span style='background-color: rgba(77.75693759322166, 77.75693759322166, 0, 0.20328611135482788); font-weight: 800;'>facing</span> <span style='background-color: rgba(19.382982216775417, 19.382982216775417, 0, 0.050674463311831154); font-weight: 800;'>the</span> <span style='background-color: rgba(125.49449801445007, 125.49449801445007, 0, 0.32809019088745117); font-weight: 800;'>couch</span> <span style='background-color: rgba(15.962709747254848, 15.962709747254848, 0, 0.04173257450262705); font-weight: 800;'>.</span> <span style='background-color: rgba(19.22754965722561, 19.22754965722561, 0, 0.0502681036790212); font-weight: 800;'>[SEP]</span> <span style='background-color: rgba(18.353581354022026, 18.353581354022026, 0, 0.04798321922620138); font-weight: 800;'>he</span> <span style='background-color: rgba(45.78866019845009, 45.78866019845009, 0, 0.1197089155515035); font-weight: 800;'>sat</span> <span style='background-color: rgba(35.50025627017021, 35.50025627017021, 0, 0.09281112750371297); font-weight: 800;'>down</span> <span style='background-color: rgba(23.26915718615055, 23.26915718615055, 0, 0.060834397872289024); font-weight: 800;'>on</span> <span style='background-color: rgba(14.762131869792938, 14.762131869792938, 0, 0.038593808809916176); font-weight: 800;'>the</span> <span style='background-color: rgba(134.79767560958862, 134.79767560958862, 0, 0.35241222381591797); font-weight: 800;'>couch</span> <span style='background-color: rgba(37.753645554184914, 37.753645554184914, 0, 0.0987023413181305); font-weight: 800;'>that</span> <span style='background-color: rgba(116.18739902973175, 116.18739902973175, 0, 0.303757905960083); font-weight: 800;'>faced</span> <span style='background-color: rgba(40.26626832783222, 40.26626832783222, 0, 0.1052712897459666); font-weight: 800;'>a</span> <span style='background-color: rgba(255.0, 255.0, 0, 0.6666666666666666); font-weight: 800;'>chair</span> <span style='background-color: rgba(34.175521954894066, 34.175521954894066, 0, 0.08934776981671651); font-weight: 800;'>.</span> <span style='background-color: rgba(23.488289527595043, 23.488289527595043, 0, 0.06140729288260142); font-weight: 800;'>[SEP]</span> "
      ],
      "text/plain": [
       "<IPython.core.display.HTML object>"
      ]
     },
     "metadata": {},
     "output_type": "display_data"
    },
    {
     "name": "stdout",
     "output_type": "stream",
     "text": [
      "Corr: 0.9864787814821108\n"
     ]
    },
    {
     "data": {
      "text/html": [
       "mnli-e3 <span style='background-color: rgba(52.61193126440048, 52.61193126440048, 0, 0.13754753271738687); font-weight: 800;'>[CLS]</span> <span style='background-color: rgba(19.485960491001606, 19.485960491001606, 0, 0.05094368755817413); font-weight: 800;'>he</span> <span style='background-color: rgba(43.33035171031952, 43.33035171031952, 0, 0.1132819652557373); font-weight: 800;'>sat</span> <span style='background-color: rgba(24.93984393775463, 24.93984393775463, 0, 0.06520220637321472); font-weight: 800;'>down</span> <span style='background-color: rgba(22.22399476915598, 22.22399476915598, 0, 0.05810194710890452); font-weight: 800;'>in</span> <span style='background-color: rgba(34.24091264605522, 34.24091264605522, 0, 0.0895187258720398); font-weight: 800;'>one</span> <span style='background-color: rgba(23.626729398965836, 23.626729398965836, 0, 0.061769227186838783); font-weight: 800;'>of</span> <span style='background-color: rgba(15.736309345811605, 15.736309345811605, 0, 0.04114067802826563); font-weight: 800;'>the</span> <span style='background-color: rgba(47.606836035847664, 47.606836035847664, 0, 0.12446231643358867); font-weight: 800;'>big</span> <span style='background-color: rgba(56.58475488424301, 56.58475488424301, 0, 0.14793399969736734); font-weight: 800;'>arm</span> <span style='background-color: rgba(27.76793908327818, 27.76793908327818, 0, 0.0725959191719691); font-weight: 800;'>-</span> <span style='background-color: rgba(200.74423134326935, 200.74423134326935, 0, 0.5248215198516846); font-weight: 800;'>chairs</span> <span style='background-color: rgba(94.31249722838402, 94.31249722838402, 0, 0.24656862020492554); font-weight: 800;'>facing</span> <span style='background-color: rgba(18.446442671120167, 18.446442671120167, 0, 0.04822599391142527); font-weight: 800;'>the</span> <span style='background-color: rgba(119.02773141860962, 119.02773141860962, 0, 0.3111836115519206); font-weight: 800;'>couch</span> <span style='background-color: rgba(28.291131108999252, 28.291131108999252, 0, 0.07396374146143596); font-weight: 800;'>.</span> <span style='background-color: rgba(20.656440183520317, 20.656440183520317, 0, 0.054003765185674034); font-weight: 800;'>[SEP]</span> <span style='background-color: rgba(21.25568512827158, 21.25568512827158, 0, 0.05557041863600413); font-weight: 800;'>he</span> <span style='background-color: rgba(50.21570384502411, 50.21570384502411, 0, 0.13128288586934408); font-weight: 800;'>sat</span> <span style='background-color: rgba(29.55134868621826, 29.55134868621826, 0, 0.07725842793782552); font-weight: 800;'>down</span> <span style='background-color: rgba(25.558198057115078, 25.558198057115078, 0, 0.06681881844997406); font-weight: 800;'>on</span> <span style='background-color: rgba(19.212546162307262, 19.212546162307262, 0, 0.05022887885570526); font-weight: 800;'>the</span> <span style='background-color: rgba(122.89622023701668, 122.89622023701668, 0, 0.3212973078091939); font-weight: 800;'>couch</span> <span style='background-color: rgba(39.0788434445858, 39.0788434445858, 0, 0.10216691096623738); font-weight: 800;'>that</span> <span style='background-color: rgba(144.64319050312042, 144.64319050312042, 0, 0.37815213203430176); font-weight: 800;'>faced</span> <span style='background-color: rgba(49.69331547617912, 49.69331547617912, 0, 0.12991716464360556); font-weight: 800;'>a</span> <span style='background-color: rgba(255.0, 255.0, 0, 0.6666666666666666); font-weight: 800;'>chair</span> <span style='background-color: rgba(43.937977105379105, 43.937977105379105, 0, 0.1148705283800761); font-weight: 800;'>.</span> <span style='background-color: rgba(32.173428386449814, 32.173428386449814, 0, 0.08411353826522827); font-weight: 800;'>[SEP]</span> "
      ],
      "text/plain": [
       "<IPython.core.display.HTML object>"
      ]
     },
     "metadata": {},
     "output_type": "display_data"
    },
    {
     "name": "stdout",
     "output_type": "stream",
     "text": [
      "Corr: 0.9864836155935834\n"
     ]
    },
    {
     "data": {
      "text/html": [
       "mnli-e4 <span style='background-color: rgba(72.26721256971359, 72.26721256971359, 0, 0.18893388907114664); font-weight: 800;'>[CLS]</span> <span style='background-color: rgba(14.153714217245579, 14.153714217245579, 0, 0.03700317442417145); font-weight: 800;'>he</span> <span style='background-color: rgba(39.19945277273655, 39.19945277273655, 0, 0.10248222947120667); font-weight: 800;'>sat</span> <span style='background-color: rgba(24.13013018667698, 24.13013018667698, 0, 0.06308530767758687); font-weight: 800;'>down</span> <span style='background-color: rgba(23.843494467437267, 23.843494467437267, 0, 0.062335933248202004); font-weight: 800;'>in</span> <span style='background-color: rgba(27.201459780335426, 27.201459780335426, 0, 0.0711149275302887); font-weight: 800;'>one</span> <span style='background-color: rgba(17.72003374993801, 17.72003374993801, 0, 0.04632688562075297); font-weight: 800;'>of</span> <span style='background-color: rgba(17.81417179852724, 17.81417179852724, 0, 0.04657299816608429); font-weight: 800;'>the</span> <span style='background-color: rgba(55.249096155166626, 55.249096155166626, 0, 0.14444208145141602); font-weight: 800;'>big</span> <span style='background-color: rgba(61.090461909770966, 61.090461909770966, 0, 0.15971362590789795); font-weight: 800;'>arm</span> <span style='background-color: rgba(48.7072379887104, 48.7072379887104, 0, 0.1273391842842102); font-weight: 800;'>-</span> <span style='background-color: rgba(217.21168130636215, 217.21168130636215, 0, 0.5678736766179403); font-weight: 800;'>chairs</span> <span style='background-color: rgba(97.60784760117531, 97.60784760117531, 0, 0.25518391529719037); font-weight: 800;'>facing</span> <span style='background-color: rgba(19.38896119594574, 19.38896119594574, 0, 0.0506900946299235); font-weight: 800;'>the</span> <span style='background-color: rgba(117.76322767138481, 117.76322767138481, 0, 0.30787771940231323); font-weight: 800;'>couch</span> <span style='background-color: rgba(21.287118941545486, 21.287118941545486, 0, 0.0556525985399882); font-weight: 800;'>.</span> <span style='background-color: rgba(21.425300426781178, 21.425300426781178, 0, 0.056013857324918113); font-weight: 800;'>[SEP]</span> <span style='background-color: rgba(15.376388859003782, 15.376388859003782, 0, 0.04019970943530401); font-weight: 800;'>he</span> <span style='background-color: rgba(46.33776493370533, 46.33776493370533, 0, 0.12114448348681132); font-weight: 800;'>sat</span> <span style='background-color: rgba(28.42386368662119, 28.42386368662119, 0, 0.07431075473626454); font-weight: 800;'>down</span> <span style='background-color: rgba(23.503144830465317, 23.503144830465317, 0, 0.06144613027572632); font-weight: 800;'>on</span> <span style='background-color: rgba(20.448895320296288, 20.448895320296288, 0, 0.053461164236068726); font-weight: 800;'>the</span> <span style='background-color: rgba(121.63036376237869, 121.63036376237869, 0, 0.3179878791173299); font-weight: 800;'>couch</span> <span style='background-color: rgba(48.30620750784874, 48.30620750784874, 0, 0.12629073858261108); font-weight: 800;'>that</span> <span style='background-color: rgba(125.38713857531548, 125.38713857531548, 0, 0.32780951261520386); font-weight: 800;'>faced</span> <span style='background-color: rgba(74.51073378324509, 74.51073378324509, 0, 0.1947993040084839); font-weight: 800;'>a</span> <span style='background-color: rgba(255.0, 255.0, 0, 0.6666666666666666); font-weight: 800;'>chair</span> <span style='background-color: rgba(30.935346521437168, 30.935346521437168, 0, 0.08087672293186188); font-weight: 800;'>.</span> <span style='background-color: rgba(29.039136171340942, 29.039136171340942, 0, 0.07591931025187175); font-weight: 800;'>[SEP]</span> "
      ],
      "text/plain": [
       "<IPython.core.display.HTML object>"
      ]
     },
     "metadata": {},
     "output_type": "display_data"
    },
    {
     "name": "stdout",
     "output_type": "stream",
     "text": [
      "Corr: 0.9950280429647553\n"
     ]
    },
    {
     "data": {
      "text/html": [
       "mnli-e5 <span style='background-color: rgba(73.02787855267525, 73.02787855267525, 0, 0.1909225583076477); font-weight: 800;'>[CLS]</span> <span style='background-color: rgba(16.33702766150236, 16.33702766150236, 0, 0.04271118342876434); font-weight: 800;'>he</span> <span style='background-color: rgba(37.02719673514366, 37.02719673514366, 0, 0.09680312871932983); font-weight: 800;'>sat</span> <span style='background-color: rgba(21.957587264478207, 21.957587264478207, 0, 0.05740545690059662); font-weight: 800;'>down</span> <span style='background-color: rgba(20.535828955471516, 20.535828955471516, 0, 0.053688441713651024); font-weight: 800;'>in</span> <span style='background-color: rgba(23.337276130914688, 23.337276130914688, 0, 0.061012486616770424); font-weight: 800;'>one</span> <span style='background-color: rgba(16.26550029963255, 16.26550029963255, 0, 0.042524183789889015); font-weight: 800;'>of</span> <span style='background-color: rgba(17.465464510023594, 17.465464510023594, 0, 0.04566134512424469); font-weight: 800;'>the</span> <span style='background-color: rgba(51.171618551015854, 51.171618551015854, 0, 0.13378200928370157); font-weight: 800;'>big</span> <span style='background-color: rgba(51.52704007923603, 51.52704007923603, 0, 0.13471121589342752); font-weight: 800;'>arm</span> <span style='background-color: rgba(36.081473082304, 36.081473082304, 0, 0.09433064858118693); font-weight: 800;'>-</span> <span style='background-color: rgba(201.20687931776047, 201.20687931776047, 0, 0.5260310570398966); font-weight: 800;'>chairs</span> <span style='background-color: rgba(91.87774747610092, 91.87774747610092, 0, 0.24020326137542725); font-weight: 800;'>facing</span> <span style='background-color: rgba(19.76812954992056, 19.76812954992056, 0, 0.051681384444236755); font-weight: 800;'>the</span> <span style='background-color: rgba(115.1602229475975, 115.1602229475975, 0, 0.30107247829437256); font-weight: 800;'>couch</span> <span style='background-color: rgba(27.23144967108965, 27.23144967108965, 0, 0.071193332473437); font-weight: 800;'>.</span> <span style='background-color: rgba(17.103524431586266, 17.103524431586266, 0, 0.04471509655316671); font-weight: 800;'>[SEP]</span> <span style='background-color: rgba(16.137658059597015, 16.137658059597015, 0, 0.042189955711364746); font-weight: 800;'>he</span> <span style='background-color: rgba(45.70312298834324, 45.70312298834324, 0, 0.1194852888584137); font-weight: 800;'>sat</span> <span style='background-color: rgba(27.228755615651608, 27.228755615651608, 0, 0.07118628919124603); font-weight: 800;'>down</span> <span style='background-color: rgba(24.287800826132298, 24.287800826132298, 0, 0.06349751849969228); font-weight: 800;'>on</span> <span style='background-color: rgba(22.702674083411694, 22.702674083411694, 0, 0.05935339629650116); font-weight: 800;'>the</span> <span style='background-color: rgba(123.97163853049278, 123.97163853049278, 0, 0.3241088589032491); font-weight: 800;'>couch</span> <span style='background-color: rgba(56.552677005529404, 56.552677005529404, 0, 0.14785013596216837); font-weight: 800;'>that</span> <span style='background-color: rgba(127.07222655415535, 127.07222655415535, 0, 0.33221497138341266); font-weight: 800;'>faced</span> <span style='background-color: rgba(55.803000032901764, 55.803000032901764, 0, 0.14589019616444907); font-weight: 800;'>a</span> <span style='background-color: rgba(255.0, 255.0, 0, 0.6666666666666666); font-weight: 800;'>chair</span> <span style='background-color: rgba(24.229253567755222, 24.229253567755222, 0, 0.06334445377190907); font-weight: 800;'>.</span> <span style='background-color: rgba(20.9003908932209, 20.9003908932209, 0, 0.054641544818878174); font-weight: 800;'>[SEP]</span> "
      ],
      "text/plain": [
       "<IPython.core.display.HTML object>"
      ]
     },
     "metadata": {},
     "output_type": "display_data"
    }
   ],
   "source": [
    "# tokenizer = None\n",
    "# sel_dataset = None\n",
    "idx = 314093\n",
    "prev_sals = None\n",
    "for name, path in tqdm(MODELS.items(), desc=\"Models\"):\n",
    "    model = AutoModelForSequenceClassification.from_pretrained(path)\n",
    "    tokenizer = AutoTokenizer.from_pretrained(path, use_fast=True, max_length=128) if tokenizer is None else tokenizer\n",
    "\n",
    "    sel_dataset = dataset[SET].map(preprocess_function_wrapped(tokenizer), batched=True, batch_size=1024) if sel_dataset is None else sel_dataset\n",
    "    dataset_size = len(sel_dataset)\n",
    "\n",
    "    tokens, length = token_id_to_tokens_mapper(tokenizer, sel_dataset[idx])\n",
    "    inputs = {\n",
    "        'input_ids': torch.tensor([sel_dataset[idx]['input_ids']], dtype=torch.int32),\n",
    "        'attention_mask': torch.tensor([sel_dataset[idx]['attention_mask']], dtype=torch.int32),\n",
    "        'token_type_ids': torch.tensor([sel_dataset[idx]['token_type_ids']], dtype=torch.int32),\n",
    "    }\n",
    "    labels = torch.tensor([sel_dataset[idx]['label']])\n",
    "    output = model(**inputs, output_hidden_states=True)\n",
    "\n",
    "    output.hidden_states[0].retain_grad()\n",
    "    logits = output.logits\n",
    "    target_class_l_sum = torch.gather(logits, 1, labels.unsqueeze(-1)).sum()\n",
    "    target_class_l_sum.backward()\n",
    "    \n",
    "    inputXgradient = output.hidden_states[0].grad * output.hidden_states[0]\n",
    "    saliencies = torch.norm(inputXgradient, dim=-1).detach()\n",
    "    model.zero_grad()\n",
    "    if prev_sals is not None:\n",
    "        print(\"Corr:\", pearsonr(prev_sals, saliencies[0].numpy())[0])\n",
    "    prev_sals = saliencies[0].numpy()\n",
    "    print_globenc(saliencies[0].numpy(), tokens, prefix=name + \" \")\n"
   ]
  },
  {
   "cell_type": "code",
   "execution_count": 50,
   "metadata": {},
   "outputs": [
    {
     "data": {
      "application/vnd.jupyter.widget-view+json": {
       "model_id": "5c5699a5e92e497caffe7fc4f208afdc",
       "version_major": 2,
       "version_minor": 0
      },
      "text/plain": [
       "Models:   0%|          | 0/5 [00:00<?, ?it/s]"
      ]
     },
     "metadata": {},
     "output_type": "display_data"
    },
    {
     "data": {
      "text/html": [
       "mnli-e1 <span style='background-color: rgba(128.13128292560577, 128.13128292560577, 0, 0.33498374621073407); font-weight: 800;'>[CLS]</span> <span style='background-color: rgba(130.25574892759323, 130.25574892759323, 0, 0.3405379056930542); font-weight: 800;'>three</span> <span style='background-color: rgba(136.85625314712524, 136.85625314712524, 0, 0.3577941258748372); font-weight: 800;'>hours</span> <span style='background-color: rgba(107.17798367142677, 107.17798367142677, 0, 0.2802038788795471); font-weight: 800;'>was</span> <span style='background-color: rgba(55.10639101266861, 55.10639101266861, 0, 0.1440689961115519); font-weight: 800;'>more</span> <span style='background-color: rgba(63.28643627464771, 63.28643627464771, 0, 0.16545473535855612); font-weight: 800;'>than</span> <span style='background-color: rgba(99.59227591753006, 99.59227591753006, 0, 0.26037196318308514); font-weight: 800;'>enough</span> <span style='background-color: rgba(49.018038511276245, 49.018038511276245, 0, 0.12815173467000326); font-weight: 800;'>for</span> <span style='background-color: rgba(60.91653384268284, 60.91653384268284, 0, 0.15925891200701395); font-weight: 800;'>mr</span> <span style='background-color: rgba(36.59864813089371, 36.59864813089371, 0, 0.09568274021148682); font-weight: 800;'>.</span> <span style='background-color: rgba(87.35850557684898, 87.35850557684898, 0, 0.228388249874115); font-weight: 800;'>brown</span> <span style='background-color: rgba(23.479080721735954, 23.479080721735954, 0, 0.061383217573165894); font-weight: 800;'>.</span> <span style='background-color: rgba(34.97434549033642, 34.97434549033642, 0, 0.09143619736035664); font-weight: 800;'>[SEP]</span> <span style='background-color: rgba(86.32828205823898, 86.32828205823898, 0, 0.22569485505421957); font-weight: 800;'>mr</span> <span style='background-color: rgba(31.50359082967043, 31.50359082967043, 0, 0.08236232896645863); font-weight: 800;'>.</span> <span style='background-color: rgba(117.30293557047844, 117.30293557047844, 0, 0.30667434136072796); font-weight: 800;'>brown</span> <span style='background-color: rgba(255.0, 255.0, 0, 0.6666666666666666); font-weight: 800;'>felt</span> <span style='background-color: rgba(66.54186218976974, 66.54186218976974, 0, 0.17396565278371176); font-weight: 800;'>that</span> <span style='background-color: rgba(126.11715540289879, 126.11715540289879, 0, 0.32971805334091187); font-weight: 800;'>three</span> <span style='background-color: rgba(129.07246202230453, 129.07246202230453, 0, 0.33744434515635174); font-weight: 800;'>hours</span> <span style='background-color: rgba(64.35733661055565, 64.35733661055565, 0, 0.1682544747988383); font-weight: 800;'>was</span> <span style='background-color: rgba(70.53788736462593, 70.53788736462593, 0, 0.18441277742385864); font-weight: 800;'>more</span> <span style='background-color: rgba(76.40472695231438, 76.40472695231438, 0, 0.19975092013676962); font-weight: 800;'>than</span> <span style='background-color: rgba(110.07048726081848, 110.07048726081848, 0, 0.2877659797668457); font-weight: 800;'>enough</span> <span style='background-color: rgba(44.535780027508736, 44.535780027508736, 0, 0.11643341183662415); font-weight: 800;'>for</span> <span style='background-color: rgba(81.04205891489983, 81.04205891489983, 0, 0.21187466382980347); font-weight: 800;'>him</span> <span style='background-color: rgba(42.84771300852299, 42.84771300852299, 0, 0.11202016472816467); font-weight: 800;'>.</span> <span style='background-color: rgba(31.28693025559187, 31.28693025559187, 0, 0.08179589609305064); font-weight: 800;'>[SEP]</span> "
      ],
      "text/plain": [
       "<IPython.core.display.HTML object>"
      ]
     },
     "metadata": {},
     "output_type": "display_data"
    },
    {
     "name": "stdout",
     "output_type": "stream",
     "text": [
      "Corr: 0.6708251144252246\n"
     ]
    },
    {
     "data": {
      "text/html": [
       "mnli-e2 <span style='background-color: rgba(132.56929278373718, 132.56929278373718, 0, 0.3465863863627116); font-weight: 800;'>[CLS]</span> <span style='background-color: rgba(87.37556666135788, 87.37556666135788, 0, 0.22843285401662192); font-weight: 800;'>three</span> <span style='background-color: rgba(108.58331546187401, 108.58331546187401, 0, 0.28387794891993207); font-weight: 800;'>hours</span> <span style='background-color: rgba(101.93210676312447, 101.93210676312447, 0, 0.2664891680081685); font-weight: 800;'>was</span> <span style='background-color: rgba(53.072249963879585, 53.072249963879585, 0, 0.1387509802977244); font-weight: 800;'>more</span> <span style='background-color: rgba(66.74252182245255, 66.74252182245255, 0, 0.17449025313059488); font-weight: 800;'>than</span> <span style='background-color: rgba(99.99892249703407, 99.99892249703407, 0, 0.2614350914955139); font-weight: 800;'>enough</span> <span style='background-color: rgba(51.556507498025894, 51.556507498025894, 0, 0.13478825489679971); font-weight: 800;'>for</span> <span style='background-color: rgba(148.95763099193573, 148.95763099193573, 0, 0.3894317150115967); font-weight: 800;'>mr</span> <span style='background-color: rgba(46.31213150918484, 46.31213150918484, 0, 0.12107746799786885); font-weight: 800;'>.</span> <span style='background-color: rgba(176.61788195371628, 176.61788195371628, 0, 0.46174609661102295); font-weight: 800;'>brown</span> <span style='background-color: rgba(45.86793914437294, 45.86793914437294, 0, 0.11991618076960246); font-weight: 800;'>.</span> <span style='background-color: rgba(40.874980464577675, 40.874980464577675, 0, 0.10686269402503967); font-weight: 800;'>[SEP]</span> <span style='background-color: rgba(164.59534227848053, 164.59534227848053, 0, 0.4303146203358968); font-weight: 800;'>mr</span> <span style='background-color: rgba(162.9638922214508, 162.9638922214508, 0, 0.4260493914286296); font-weight: 800;'>.</span> <span style='background-color: rgba(215.32982468605042, 215.32982468605042, 0, 0.56295379002889); font-weight: 800;'>brown</span> <span style='background-color: rgba(255.0, 255.0, 0, 0.6666666666666666); font-weight: 800;'>felt</span> <span style='background-color: rgba(92.77592048048973, 92.77592048048973, 0, 0.2425514260927836); font-weight: 800;'>that</span> <span style='background-color: rgba(85.89764356613159, 85.89764356613159, 0, 0.22456900278727213); font-weight: 800;'>three</span> <span style='background-color: rgba(105.1004983484745, 105.1004983484745, 0, 0.2747725447018941); font-weight: 800;'>hours</span> <span style='background-color: rgba(62.93134532868862, 62.93134532868862, 0, 0.1645263930161794); font-weight: 800;'>was</span> <span style='background-color: rgba(61.44542746245861, 61.44542746245861, 0, 0.1606416404247284); font-weight: 800;'>more</span> <span style='background-color: rgba(55.821204856038094, 55.821204856038094, 0, 0.14593779047330221); font-weight: 800;'>than</span> <span style='background-color: rgba(106.81541472673416, 106.81541472673416, 0, 0.2792559862136841); font-weight: 800;'>enough</span> <span style='background-color: rgba(52.975529953837395, 52.975529953837395, 0, 0.13849811752637228); font-weight: 800;'>for</span> <span style='background-color: rgba(97.68974840641022, 97.68974840641022, 0, 0.2553980350494385); font-weight: 800;'>him</span> <span style='background-color: rgba(50.52786089479923, 50.52786089479923, 0, 0.13209898273150125); font-weight: 800;'>.</span> <span style='background-color: rgba(31.9878501445055, 31.9878501445055, 0, 0.08362836639086406); font-weight: 800;'>[SEP]</span> "
      ],
      "text/plain": [
       "<IPython.core.display.HTML object>"
      ]
     },
     "metadata": {},
     "output_type": "display_data"
    },
    {
     "name": "stdout",
     "output_type": "stream",
     "text": [
      "Corr: 0.93518511826332\n"
     ]
    },
    {
     "data": {
      "text/html": [
       "mnli-e3 <span style='background-color: rgba(140.73573857545853, 140.73573857545853, 0, 0.36793657143910724); font-weight: 800;'>[CLS]</span> <span style='background-color: rgba(111.3919347524643, 111.3919347524643, 0, 0.291220744450887); font-weight: 800;'>three</span> <span style='background-color: rgba(104.40717995166779, 104.40717995166779, 0, 0.27295994758605957); font-weight: 800;'>hours</span> <span style='background-color: rgba(66.7104971408844, 66.7104971408844, 0, 0.1744065284729004); font-weight: 800;'>was</span> <span style='background-color: rgba(54.673879221081734, 54.673879221081734, 0, 0.14293824632962546); font-weight: 800;'>more</span> <span style='background-color: rgba(63.43590125441551, 63.43590125441551, 0, 0.1658454934755961); font-weight: 800;'>than</span> <span style='background-color: rgba(125.95682680606842, 125.95682680606842, 0, 0.3292988936106364); font-weight: 800;'>enough</span> <span style='background-color: rgba(68.85820269584656, 68.85820269584656, 0, 0.18002144495646158); font-weight: 800;'>for</span> <span style='background-color: rgba(145.5270990729332, 145.5270990729332, 0, 0.38046300411224365); font-weight: 800;'>mr</span> <span style='background-color: rgba(50.48222154378891, 50.48222154378891, 0, 0.1319796641667684); font-weight: 800;'>.</span> <span style='background-color: rgba(213.93490433692932, 213.93490433692932, 0, 0.5593069394429525); font-weight: 800;'>brown</span> <span style='background-color: rgba(43.951105400919914, 43.951105400919914, 0, 0.11490485072135925); font-weight: 800;'>.</span> <span style='background-color: rgba(52.84344524145126, 52.84344524145126, 0, 0.13815279801686606); font-weight: 800;'>[SEP]</span> <span style='background-color: rgba(147.245914041996, 147.245914041996, 0, 0.3849566380182902); font-weight: 800;'>mr</span> <span style='background-color: rgba(98.19779634475708, 98.19779634475708, 0, 0.2567262649536133); font-weight: 800;'>.</span> <span style='background-color: rgba(241.5146604180336, 241.5146604180336, 0, 0.6314108769098917); font-weight: 800;'>brown</span> <span style='background-color: rgba(255.0, 255.0, 0, 0.6666666666666666); font-weight: 800;'>felt</span> <span style='background-color: rgba(87.52552941441536, 87.52552941441536, 0, 0.2288249135017395); font-weight: 800;'>that</span> <span style='background-color: rgba(94.89455759525299, 94.89455759525299, 0, 0.2480903466542562); font-weight: 800;'>three</span> <span style='background-color: rgba(112.89545327425003, 112.89545327425003, 0, 0.2951515118281047); font-weight: 800;'>hours</span> <span style='background-color: rgba(55.11568531394005, 55.11568531394005, 0, 0.14409329493840536); font-weight: 800;'>was</span> <span style='background-color: rgba(54.340751096606255, 54.340751096606255, 0, 0.14206732312838236); font-weight: 800;'>more</span> <span style='background-color: rgba(53.51176477968693, 53.51176477968693, 0, 0.13990003863970438); font-weight: 800;'>than</span> <span style='background-color: rgba(106.19006708264351, 106.19006708264351, 0, 0.2776210904121399); font-weight: 800;'>enough</span> <span style='background-color: rgba(58.47622498869896, 58.47622498869896, 0, 0.15287901957829794); font-weight: 800;'>for</span> <span style='background-color: rgba(110.50702303647995, 110.50702303647995, 0, 0.288907249768575); font-weight: 800;'>him</span> <span style='background-color: rgba(89.22073245048523, 89.22073245048523, 0, 0.23325681686401367); font-weight: 800;'>.</span> <span style='background-color: rgba(33.09772878885269, 33.09772878885269, 0, 0.08653000990549724); font-weight: 800;'>[SEP]</span> "
      ],
      "text/plain": [
       "<IPython.core.display.HTML object>"
      ]
     },
     "metadata": {},
     "output_type": "display_data"
    },
    {
     "name": "stdout",
     "output_type": "stream",
     "text": [
      "Corr: 0.7228107813981285\n"
     ]
    },
    {
     "data": {
      "text/html": [
       "mnli-e4 <span style='background-color: rgba(127.67562657594681, 127.67562657594681, 0, 0.3337924877802531); font-weight: 800;'>[CLS]</span> <span style='background-color: rgba(227.08172768354416, 227.08172768354416, 0, 0.5936777194341024); font-weight: 800;'>three</span> <span style='background-color: rgba(180.25924175977707, 180.25924175977707, 0, 0.4712659915288289); font-weight: 800;'>hours</span> <span style='background-color: rgba(106.42900586128235, 106.42900586128235, 0, 0.2782457669576009); font-weight: 800;'>was</span> <span style='background-color: rgba(91.78195461630821, 91.78195461630821, 0, 0.239952822526296); font-weight: 800;'>more</span> <span style='background-color: rgba(96.7457726597786, 96.7457726597786, 0, 0.25293012460072833); font-weight: 800;'>than</span> <span style='background-color: rgba(157.07670092582703, 157.07670092582703, 0, 0.4106580416361491); font-weight: 800;'>enough</span> <span style='background-color: rgba(64.26881656050682, 64.26881656050682, 0, 0.16802304983139038); font-weight: 800;'>for</span> <span style='background-color: rgba(119.6897166967392, 119.6897166967392, 0, 0.31291429201761883); font-weight: 800;'>mr</span> <span style='background-color: rgba(35.71360342204571, 35.71360342204571, 0, 0.09336889783541362); font-weight: 800;'>.</span> <span style='background-color: rgba(164.3432942032814, 164.3432942032814, 0, 0.42965567111968994); font-weight: 800;'>brown</span> <span style='background-color: rgba(59.49534170329571, 59.49534170329571, 0, 0.1555433770020803); font-weight: 800;'>.</span> <span style='background-color: rgba(41.52660369873047, 41.52660369873047, 0, 0.1085662841796875); font-weight: 800;'>[SEP]</span> <span style='background-color: rgba(115.17302066087723, 115.17302066087723, 0, 0.30110593636830646); font-weight: 800;'>mr</span> <span style='background-color: rgba(59.0603144466877, 59.0603144466877, 0, 0.15440605084101358); font-weight: 800;'>.</span> <span style='background-color: rgba(181.44567489624023, 181.44567489624023, 0, 0.47436777750651044); font-weight: 800;'>brown</span> <span style='background-color: rgba(255.0, 255.0, 0, 0.6666666666666666); font-weight: 800;'>felt</span> <span style='background-color: rgba(112.14738741517067, 112.14738741517067, 0, 0.29319578409194946); font-weight: 800;'>that</span> <span style='background-color: rgba(201.16199612617493, 201.16199612617493, 0, 0.5259137153625488); font-weight: 800;'>three</span> <span style='background-color: rgba(161.00132793188095, 161.00132793188095, 0, 0.4209185043970744); font-weight: 800;'>hours</span> <span style='background-color: rgba(85.94778567552567, 85.94778567552567, 0, 0.22470009326934814); font-weight: 800;'>was</span> <span style='background-color: rgba(93.24031636118889, 93.24031636118889, 0, 0.24376553297042847); font-weight: 800;'>more</span> <span style='background-color: rgba(78.50126445293427, 78.50126445293427, 0, 0.2052320639292399); font-weight: 800;'>than</span> <span style='background-color: rgba(181.7124965786934, 181.7124965786934, 0, 0.47506535053253174); font-weight: 800;'>enough</span> <span style='background-color: rgba(66.64034530520439, 66.64034530520439, 0, 0.1742231249809265); font-weight: 800;'>for</span> <span style='background-color: rgba(109.83694419264793, 109.83694419264793, 0, 0.2871554096539815); font-weight: 800;'>him</span> <span style='background-color: rgba(88.3888278901577, 88.3888278901577, 0, 0.23108190298080444); font-weight: 800;'>.</span> <span style='background-color: rgba(57.3750364780426, 57.3750364780426, 0, 0.15000009536743164); font-weight: 800;'>[SEP]</span> "
      ],
      "text/plain": [
       "<IPython.core.display.HTML object>"
      ]
     },
     "metadata": {},
     "output_type": "display_data"
    },
    {
     "name": "stdout",
     "output_type": "stream",
     "text": [
      "Corr: 0.991289830362293\n"
     ]
    },
    {
     "data": {
      "text/html": [
       "mnli-e5 <span style='background-color: rgba(124.45843040943146, 124.45843040943146, 0, 0.3253815174102783); font-weight: 800;'>[CLS]</span> <span style='background-color: rgba(231.64469003677368, 231.64469003677368, 0, 0.6056070327758789); font-weight: 800;'>three</span> <span style='background-color: rgba(172.29372918605804, 172.29372918605804, 0, 0.4504411220550537); font-weight: 800;'>hours</span> <span style='background-color: rgba(91.48919552564621, 91.48919552564621, 0, 0.2391874392827352); font-weight: 800;'>was</span> <span style='background-color: rgba(92.84224212169647, 92.84224212169647, 0, 0.2427248160044352); font-weight: 800;'>more</span> <span style='background-color: rgba(110.11450409889221, 110.11450409889221, 0, 0.2878810564676921); font-weight: 800;'>than</span> <span style='background-color: rgba(182.05940276384354, 182.05940276384354, 0, 0.4759722948074341); font-weight: 800;'>enough</span> <span style='background-color: rgba(73.76195356249809, 73.76195356249809, 0, 0.19284170866012573); font-weight: 800;'>for</span> <span style='background-color: rgba(114.5384319126606, 114.5384319126606, 0, 0.29944688081741333); font-weight: 800;'>mr</span> <span style='background-color: rgba(37.85812094807625, 37.85812094807625, 0, 0.09897547960281372); font-weight: 800;'>.</span> <span style='background-color: rgba(165.01123756170273, 165.01123756170273, 0, 0.43140192826588947); font-weight: 800;'>brown</span> <span style='background-color: rgba(56.117683947086334, 56.117683947086334, 0, 0.14671289920806885); font-weight: 800;'>.</span> <span style='background-color: rgba(39.73537981510162, 39.73537981510162, 0, 0.1038833459218343); font-weight: 800;'>[SEP]</span> <span style='background-color: rgba(115.84587335586548, 115.84587335586548, 0, 0.30286502838134766); font-weight: 800;'>mr</span> <span style='background-color: rgba(58.24826002120972, 58.24826002120972, 0, 0.1522830327351888); font-weight: 800;'>.</span> <span style='background-color: rgba(183.4958776831627, 183.4958776831627, 0, 0.4797277847925822); font-weight: 800;'>brown</span> <span style='background-color: rgba(255.0, 255.0, 0, 0.6666666666666666); font-weight: 800;'>felt</span> <span style='background-color: rgba(105.48340380191803, 105.48340380191803, 0, 0.2757736047108968); font-weight: 800;'>that</span> <span style='background-color: rgba(192.37610757350922, 192.37610757350922, 0, 0.5029440720876058); font-weight: 800;'>three</span> <span style='background-color: rgba(159.72116142511368, 159.72116142511368, 0, 0.41757166385650635); font-weight: 800;'>hours</span> <span style='background-color: rgba(85.03328114748001, 85.03328114748001, 0, 0.22230923175811768); font-weight: 800;'>was</span> <span style='background-color: rgba(88.3203175663948, 88.3203175663948, 0, 0.2309027910232544); font-weight: 800;'>more</span> <span style='background-color: rgba(84.52756628394127, 84.52756628394127, 0, 0.2209871013959249); font-weight: 800;'>than</span> <span style='background-color: rgba(190.34558773040771, 190.34558773040771, 0, 0.4976355234781901); font-weight: 800;'>enough</span> <span style='background-color: rgba(74.52518060803413, 74.52518060803413, 0, 0.19483707348505655); font-weight: 800;'>for</span> <span style='background-color: rgba(111.01444780826569, 111.01444780826569, 0, 0.290233850479126); font-weight: 800;'>him</span> <span style='background-color: rgba(89.351567029953, 89.351567029953, 0, 0.2335988680521647); font-weight: 800;'>.</span> <span style='background-color: rgba(59.98513162136078, 59.98513162136078, 0, 0.15682387351989746); font-weight: 800;'>[SEP]</span> "
      ],
      "text/plain": [
       "<IPython.core.display.HTML object>"
      ]
     },
     "metadata": {},
     "output_type": "display_data"
    }
   ],
   "source": [
    "# tokenizer = None\n",
    "# sel_dataset = None\n",
    "idx = 81139\n",
    "prev_sals = None\n",
    "for name, path in tqdm(MODELS.items(), desc=\"Models\"):\n",
    "    model = AutoModelForSequenceClassification.from_pretrained(path)\n",
    "    tokenizer = AutoTokenizer.from_pretrained(path, use_fast=True, max_length=128) if tokenizer is None else tokenizer\n",
    "\n",
    "    sel_dataset = dataset[SET].map(preprocess_function_wrapped(tokenizer), batched=True, batch_size=1024) if sel_dataset is None else sel_dataset\n",
    "    dataset_size = len(sel_dataset)\n",
    "\n",
    "    tokens, length = token_id_to_tokens_mapper(tokenizer, sel_dataset[idx])\n",
    "    inputs = {\n",
    "        'input_ids': torch.tensor([sel_dataset[idx]['input_ids']], dtype=torch.int32),\n",
    "        'attention_mask': torch.tensor([sel_dataset[idx]['attention_mask']], dtype=torch.int32),\n",
    "        'token_type_ids': torch.tensor([sel_dataset[idx]['token_type_ids']], dtype=torch.int32),\n",
    "    }\n",
    "    labels = torch.tensor([sel_dataset[idx]['label']])\n",
    "    output = model(**inputs, output_hidden_states=True)\n",
    "\n",
    "    output.hidden_states[0].retain_grad()\n",
    "    logits = output.logits\n",
    "    target_class_l_sum = torch.gather(logits, 1, labels.unsqueeze(-1)).sum()\n",
    "    target_class_l_sum.backward()\n",
    "    \n",
    "    inputXgradient = output.hidden_states[0].grad * output.hidden_states[0]\n",
    "    saliencies = torch.norm(inputXgradient, dim=-1).detach()\n",
    "    model.zero_grad()\n",
    "    if prev_sals is not None:\n",
    "        print(\"Corr:\", pearsonr(prev_sals, saliencies[0].numpy())[0])\n",
    "    prev_sals = saliencies[0].numpy()\n",
    "    print_globenc(saliencies[0].numpy(), tokens, prefix=name + \" \")\n"
   ]
  },
  {
   "cell_type": "code",
   "execution_count": 52,
   "metadata": {},
   "outputs": [
    {
     "data": {
      "application/vnd.jupyter.widget-view+json": {
       "model_id": "b34c2c17a06a464aa6a4bcea0e67ea98",
       "version_major": 2,
       "version_minor": 0
      },
      "text/plain": [
       "Models:   0%|          | 0/5 [00:00<?, ?it/s]"
      ]
     },
     "metadata": {},
     "output_type": "display_data"
    },
    {
     "data": {
      "text/html": [
       "mnli-e1 <span style='background-color: rgba(120.04793107509613, 120.04793107509613, 0, 0.31385080019632977); font-weight: 800;'>[CLS]</span> <span style='background-color: rgba(96.98715850710869, 96.98715850710869, 0, 0.25356119871139526); font-weight: 800;'>ad</span> <span style='background-color: rgba(118.68381187319756, 118.68381187319756, 0, 0.3102844754854838); font-weight: 800;'>##rin</span> <span style='background-color: rgba(166.79495304822922, 166.79495304822922, 0, 0.43606523672739667); font-weight: 800;'>whistled</span> <span style='background-color: rgba(144.73044902086258, 144.73044902086258, 0, 0.3783802588780721); font-weight: 800;'>and</span> <span style='background-color: rgba(47.48466119170189, 47.48466119170189, 0, 0.1241429050763448); font-weight: 800;'>the</span> <span style='background-color: rgba(100.79476699233055, 100.79476699233055, 0, 0.2635157306989034); font-weight: 800;'>sound</span> <span style='background-color: rgba(211.58207058906555, 211.58207058906555, 0, 0.5531557401021322); font-weight: 800;'>startled</span> <span style='background-color: rgba(60.51736146211624, 60.51736146211624, 0, 0.15821532408396402); font-weight: 800;'>ca</span> <span style='background-color: rgba(33.44531513750553, 33.44531513750553, 0, 0.08743873238563538); font-weight: 800;'>'</span> <span style='background-color: rgba(55.929244458675385, 55.929244458675385, 0, 0.1462202469507853); font-weight: 800;'>da</span> <span style='background-color: rgba(65.4060423374176, 65.4060423374176, 0, 0.17099618911743164); font-weight: 800;'>##an</span> <span style='background-color: rgba(54.096709191799164, 54.096709191799164, 0, 0.14142930507659912); font-weight: 800;'>.</span> <span style='background-color: rgba(37.99293391406536, 37.99293391406536, 0, 0.09932793180147807); font-weight: 800;'>[SEP]</span> <span style='background-color: rgba(57.66184888780117, 57.66184888780117, 0, 0.1507499317328135); font-weight: 800;'>ca</span> <span style='background-color: rgba(47.571566328406334, 47.571566328406334, 0, 0.12437010804812114); font-weight: 800;'>'</span> <span style='background-color: rgba(114.60611388087273, 114.60611388087273, 0, 0.29962382713953656); font-weight: 800;'>da</span> <span style='background-color: rgba(134.548120200634, 134.548120200634, 0, 0.35175979137420654); font-weight: 800;'>##an</span> <span style='background-color: rgba(189.55019921064377, 189.55019921064377, 0, 0.4955560763676961); font-weight: 800;'>whistled</span> <span style='background-color: rgba(186.00091606378555, 186.00091606378555, 0, 0.48627690474192303); font-weight: 800;'>and</span> <span style='background-color: rgba(255.0, 255.0, 0, 0.6666666666666666); font-weight: 800;'>startled</span> <span style='background-color: rgba(90.5688089132309, 90.5688089132309, 0, 0.23678119977315268); font-weight: 800;'>ad</span> <span style='background-color: rgba(117.659972012043, 117.659972012043, 0, 0.3076077699661255); font-weight: 800;'>##rin</span> <span style='background-color: rgba(56.24447174370289, 56.24447174370289, 0, 0.14704437057177225); font-weight: 800;'>.</span> <span style='background-color: rgba(35.45258782804012, 35.45258782804012, 0, 0.09268650412559509); font-weight: 800;'>[SEP]</span> "
      ],
      "text/plain": [
       "<IPython.core.display.HTML object>"
      ]
     },
     "metadata": {},
     "output_type": "display_data"
    },
    {
     "name": "stdout",
     "output_type": "stream",
     "text": [
      "Corr: 0.9426896125433669\n"
     ]
    },
    {
     "data": {
      "text/html": [
       "mnli-e2 <span style='background-color: rgba(163.77756536006927, 163.77756536006927, 0, 0.4281766414642334); font-weight: 800;'>[CLS]</span> <span style='background-color: rgba(147.63046860694885, 147.63046860694885, 0, 0.38596200942993164); font-weight: 800;'>ad</span> <span style='background-color: rgba(214.01716232299805, 214.01716232299805, 0, 0.5595219930013021); font-weight: 800;'>##rin</span> <span style='background-color: rgba(202.8347423672676, 202.8347423672676, 0, 0.5302869081497192); font-weight: 800;'>whistled</span> <span style='background-color: rgba(129.1943594813347, 129.1943594813347, 0, 0.3377630313237508); font-weight: 800;'>and</span> <span style='background-color: rgba(73.35290551185608, 73.35290551185608, 0, 0.1917723019917806); font-weight: 800;'>the</span> <span style='background-color: rgba(137.39599138498306, 137.39599138498306, 0, 0.3592052062352498); font-weight: 800;'>sound</span> <span style='background-color: rgba(220.59576451778412, 220.59576451778412, 0, 0.5767209529876709); font-weight: 800;'>startled</span> <span style='background-color: rgba(69.89520505070686, 69.89520505070686, 0, 0.18273256222407022); font-weight: 800;'>ca</span> <span style='background-color: rgba(43.131591975688934, 43.131591975688934, 0, 0.11276233196258545); font-weight: 800;'>'</span> <span style='background-color: rgba(63.91079977154732, 63.91079977154732, 0, 0.1670870582262675); font-weight: 800;'>da</span> <span style='background-color: rgba(80.30147105455399, 80.30147105455399, 0, 0.2099384864171346); font-weight: 800;'>##an</span> <span style='background-color: rgba(77.31516569852829, 77.31516569852829, 0, 0.20213115215301514); font-weight: 800;'>.</span> <span style='background-color: rgba(44.000894129276276, 44.000894129276276, 0, 0.11503501733144124); font-weight: 800;'>[SEP]</span> <span style='background-color: rgba(78.72887223958969, 78.72887223958969, 0, 0.20582711696624756); font-weight: 800;'>ca</span> <span style='background-color: rgba(61.370989456772804, 61.370989456772804, 0, 0.16044703125953674); font-weight: 800;'>'</span> <span style='background-color: rgba(113.71153548359871, 113.71153548359871, 0, 0.2972850600878398); font-weight: 800;'>da</span> <span style='background-color: rgba(154.76536095142365, 154.76536095142365, 0, 0.40461532274882); font-weight: 800;'>##an</span> <span style='background-color: rgba(252.42115437984467, 252.42115437984467, 0, 0.659924586613973); font-weight: 800;'>whistled</span> <span style='background-color: rgba(232.15866565704346, 232.15866565704346, 0, 0.6069507598876953); font-weight: 800;'>and</span> <span style='background-color: rgba(255.0, 255.0, 0, 0.6666666666666666); font-weight: 800;'>startled</span> <span style='background-color: rgba(110.98509818315506, 110.98509818315506, 0, 0.29015711943308514); font-weight: 800;'>ad</span> <span style='background-color: rgba(135.83024740219116, 135.83024740219116, 0, 0.3551117579142253); font-weight: 800;'>##rin</span> <span style='background-color: rgba(66.62015318870544, 66.62015318870544, 0, 0.17417033513387045); font-weight: 800;'>.</span> <span style='background-color: rgba(41.341272443532944, 41.341272443532944, 0, 0.10808175802230835); font-weight: 800;'>[SEP]</span> "
      ],
      "text/plain": [
       "<IPython.core.display.HTML object>"
      ]
     },
     "metadata": {},
     "output_type": "display_data"
    },
    {
     "name": "stdout",
     "output_type": "stream",
     "text": [
      "Corr: 0.5417381184122058\n"
     ]
    },
    {
     "data": {
      "text/html": [
       "mnli-e3 <span style='background-color: rgba(53.832509368658066, 53.832509368658066, 0, 0.14073858658472696); font-weight: 800;'>[CLS]</span> <span style='background-color: rgba(188.25445353984833, 188.25445353984833, 0, 0.49216850598653156); font-weight: 800;'>ad</span> <span style='background-color: rgba(255.0, 255.0, 0, 0.6666666666666666); font-weight: 800;'>##rin</span> <span style='background-color: rgba(129.5718464255333, 129.5718464255333, 0, 0.3387499252955119); font-weight: 800;'>whistled</span> <span style='background-color: rgba(28.693235032260418, 28.693235032260418, 0, 0.07501499354839325); font-weight: 800;'>and</span> <span style='background-color: rgba(18.41113306581974, 18.41113306581974, 0, 0.048133681217829384); font-weight: 800;'>the</span> <span style='background-color: rgba(45.64476191997528, 45.64476191997528, 0, 0.11933271090189616); font-weight: 800;'>sound</span> <span style='background-color: rgba(68.18915739655495, 68.18915739655495, 0, 0.1782723069190979); font-weight: 800;'>startled</span> <span style='background-color: rgba(46.394811272621155, 46.394811272621155, 0, 0.1212936242421468); font-weight: 800;'>ca</span> <span style='background-color: rgba(27.574101984500885, 27.574101984500885, 0, 0.07208915551503499); font-weight: 800;'>'</span> <span style='background-color: rgba(53.808532655239105, 53.808532655239105, 0, 0.14067590236663818); font-weight: 800;'>da</span> <span style='background-color: rgba(57.35422879457474, 57.35422879457474, 0, 0.14994569619496664); font-weight: 800;'>##an</span> <span style='background-color: rgba(23.765606246888638, 23.765606246888638, 0, 0.06213230391343435); font-weight: 800;'>.</span> <span style='background-color: rgba(20.788802281022072, 20.788802281022072, 0, 0.054349809885025024); font-weight: 800;'>[SEP]</span> <span style='background-color: rgba(54.86388802528381, 54.86388802528381, 0, 0.14343500137329102); font-weight: 800;'>ca</span> <span style='background-color: rgba(46.00827321410179, 46.00827321410179, 0, 0.12028306722640991); font-weight: 800;'>'</span> <span style='background-color: rgba(113.38673651218414, 113.38673651218414, 0, 0.2964359124501546); font-weight: 800;'>da</span> <span style='background-color: rgba(150.4822763800621, 150.4822763800621, 0, 0.39341771602630615); font-weight: 800;'>##an</span> <span style='background-color: rgba(107.38514855504036, 107.38514855504036, 0, 0.2807454864184062); font-weight: 800;'>whistled</span> <span style='background-color: rgba(35.58923989534378, 35.58923989534378, 0, 0.09304376443227132); font-weight: 800;'>and</span> <span style='background-color: rgba(86.8571224808693, 86.8571224808693, 0, 0.22707744439442953); font-weight: 800;'>startled</span> <span style='background-color: rgba(63.96570682525635, 63.96570682525635, 0, 0.16723060607910156); font-weight: 800;'>ad</span> <span style='background-color: rgba(85.55076777935028, 85.55076777935028, 0, 0.2236621379852295); font-weight: 800;'>##rin</span> <span style='background-color: rgba(19.23698265105486, 19.23698265105486, 0, 0.05029276510079702); font-weight: 800;'>.</span> <span style='background-color: rgba(19.552056044340134, 19.552056044340134, 0, 0.051116486390431724); font-weight: 800;'>[SEP]</span> "
      ],
      "text/plain": [
       "<IPython.core.display.HTML object>"
      ]
     },
     "metadata": {},
     "output_type": "display_data"
    },
    {
     "name": "stdout",
     "output_type": "stream",
     "text": [
      "Corr: 0.9659932744600644\n"
     ]
    },
    {
     "data": {
      "text/html": [
       "mnli-e4 <span style='background-color: rgba(60.57142876088619, 60.57142876088619, 0, 0.15835667649904886); font-weight: 800;'>[CLS]</span> <span style='background-color: rgba(194.43239003419876, 194.43239003419876, 0, 0.5083199739456177); font-weight: 800;'>ad</span> <span style='background-color: rgba(255.0, 255.0, 0, 0.6666666666666666); font-weight: 800;'>##rin</span> <span style='background-color: rgba(114.73333105444908, 114.73333105444908, 0, 0.29995642105738324); font-weight: 800;'>whistled</span> <span style='background-color: rgba(29.530974179506302, 29.530974179506302, 0, 0.07720516125361125); font-weight: 800;'>and</span> <span style='background-color: rgba(24.531618542969227, 24.531618542969227, 0, 0.06413495043913524); font-weight: 800;'>the</span> <span style='background-color: rgba(48.26197788119316, 48.26197788119316, 0, 0.12617510557174683); font-weight: 800;'>sound</span> <span style='background-color: rgba(106.5244871377945, 106.5244871377945, 0, 0.27849539120992023); font-weight: 800;'>startled</span> <span style='background-color: rgba(52.73287497460842, 52.73287497460842, 0, 0.13786372542381287); font-weight: 800;'>ca</span> <span style='background-color: rgba(33.52734133601189, 33.52734133601189, 0, 0.08765317996342976); font-weight: 800;'>'</span> <span style='background-color: rgba(54.85969305038452, 54.85969305038452, 0, 0.14342403411865234); font-weight: 800;'>da</span> <span style='background-color: rgba(62.1859735250473, 62.1859735250473, 0, 0.16257770856221518); font-weight: 800;'>##an</span> <span style='background-color: rgba(23.292624726891518, 23.292624726891518, 0, 0.06089575091997782); font-weight: 800;'>.</span> <span style='background-color: rgba(22.40903154015541, 22.40903154015541, 0, 0.05858570337295532); font-weight: 800;'>[SEP]</span> <span style='background-color: rgba(50.33570520579815, 50.33570520579815, 0, 0.13159661491711935); font-weight: 800;'>ca</span> <span style='background-color: rgba(37.1678613871336, 37.1678613871336, 0, 0.09717087944348653); font-weight: 800;'>'</span> <span style='background-color: rgba(95.46568214893341, 95.46568214893341, 0, 0.24958348274230957); font-weight: 800;'>da</span> <span style='background-color: rgba(125.10927468538284, 125.10927468538284, 0, 0.3270830710728963); font-weight: 800;'>##an</span> <span style='background-color: rgba(103.53649467229843, 103.53649467229843, 0, 0.2706836462020874); font-weight: 800;'>whistled</span> <span style='background-color: rgba(43.46974343061447, 43.46974343061447, 0, 0.11364638805389404); font-weight: 800;'>and</span> <span style='background-color: rgba(128.68836343288422, 128.68836343288422, 0, 0.3364401658376058); font-weight: 800;'>startled</span> <span style='background-color: rgba(86.5301576256752, 86.5301576256752, 0, 0.22622263431549072); font-weight: 800;'>ad</span> <span style='background-color: rgba(110.46216264367104, 110.46216264367104, 0, 0.288789967695872); font-weight: 800;'>##rin</span> <span style='background-color: rgba(21.418474093079567, 21.418474093079567, 0, 0.05599601070086161); font-weight: 800;'>.</span> <span style='background-color: rgba(21.53488464653492, 21.53488464653492, 0, 0.056300352017084755); font-weight: 800;'>[SEP]</span> "
      ],
      "text/plain": [
       "<IPython.core.display.HTML object>"
      ]
     },
     "metadata": {},
     "output_type": "display_data"
    },
    {
     "name": "stdout",
     "output_type": "stream",
     "text": [
      "Corr: 0.9537608660033299\n"
     ]
    },
    {
     "data": {
      "text/html": [
       "mnli-e5 <span style='background-color: rgba(58.69239538908005, 58.69239538908005, 0, 0.15344417095184326); font-weight: 800;'>[CLS]</span> <span style='background-color: rgba(188.93267154693604, 188.93267154693604, 0, 0.4939416249593099); font-weight: 800;'>ad</span> <span style='background-color: rgba(255.0, 255.0, 0, 0.6666666666666666); font-weight: 800;'>##rin</span> <span style='background-color: rgba(179.11366403102875, 179.11366403102875, 0, 0.46827101707458496); font-weight: 800;'>whistled</span> <span style='background-color: rgba(56.33659020066261, 56.33659020066261, 0, 0.14728520313898721); font-weight: 800;'>and</span> <span style='background-color: rgba(26.288002096116543, 26.288002096116543, 0, 0.06872680286566417); font-weight: 800;'>the</span> <span style='background-color: rgba(62.298394292593, 62.298394292593, 0, 0.16287161906560263); font-weight: 800;'>sound</span> <span style='background-color: rgba(123.61790791153908, 123.61790791153908, 0, 0.323184072971344); font-weight: 800;'>startled</span> <span style='background-color: rgba(66.38208836317062, 66.38208836317062, 0, 0.17354794343312582); font-weight: 800;'>ca</span> <span style='background-color: rgba(38.306884467601776, 38.306884467601776, 0, 0.10014871756235759); font-weight: 800;'>'</span> <span style='background-color: rgba(55.85999317467213, 55.85999317467213, 0, 0.14603919784228006); font-weight: 800;'>da</span> <span style='background-color: rgba(48.09727191925049, 48.09727191925049, 0, 0.12574450174967447); font-weight: 800;'>##an</span> <span style='background-color: rgba(22.548134475946426, 22.548134475946426, 0, 0.05894937117894491); font-weight: 800;'>.</span> <span style='background-color: rgba(21.034662388265133, 21.034662388265133, 0, 0.0549925814072291); font-weight: 800;'>[SEP]</span> <span style='background-color: rgba(66.6526186466217, 66.6526186466217, 0, 0.1742552121480306); font-weight: 800;'>ca</span> <span style='background-color: rgba(43.5528601706028, 43.5528601706028, 0, 0.1138636867205302); font-weight: 800;'>'</span> <span style='background-color: rgba(78.59901800751686, 78.59901800751686, 0, 0.20548762877782187); font-weight: 800;'>da</span> <span style='background-color: rgba(93.77568483352661, 93.77568483352661, 0, 0.24516518910725912); font-weight: 800;'>##an</span> <span style='background-color: rgba(127.16915175318718, 127.16915175318718, 0, 0.3324683705965678); font-weight: 800;'>whistled</span> <span style='background-color: rgba(46.62293203175068, 46.62293203175068, 0, 0.12189001838366191); font-weight: 800;'>and</span> <span style='background-color: rgba(144.00093376636505, 144.00093376636505, 0, 0.37647302945454914); font-weight: 800;'>startled</span> <span style='background-color: rgba(74.89524275064468, 74.89524275064468, 0, 0.19580455621083578); font-weight: 800;'>ad</span> <span style='background-color: rgba(107.28677183389664, 107.28677183389664, 0, 0.2804882923762004); font-weight: 800;'>##rin</span> <span style='background-color: rgba(21.142143420875072, 21.142143420875072, 0, 0.05527357757091522); font-weight: 800;'>.</span> <span style='background-color: rgba(19.87231995910406, 19.87231995910406, 0, 0.05195377767086029); font-weight: 800;'>[SEP]</span> "
      ],
      "text/plain": [
       "<IPython.core.display.HTML object>"
      ]
     },
     "metadata": {},
     "output_type": "display_data"
    }
   ],
   "source": [
    "# tokenizer = None\n",
    "# sel_dataset = None\n",
    "idx = 364274\n",
    "prev_sals = None\n",
    "for name, path in tqdm(MODELS.items(), desc=\"Models\"):\n",
    "    model = AutoModelForSequenceClassification.from_pretrained(path)\n",
    "    tokenizer = AutoTokenizer.from_pretrained(path, use_fast=True, max_length=128) if tokenizer is None else tokenizer\n",
    "\n",
    "    sel_dataset = dataset[SET].map(preprocess_function_wrapped(tokenizer), batched=True, batch_size=1024) if sel_dataset is None else sel_dataset\n",
    "    dataset_size = len(sel_dataset)\n",
    "\n",
    "    tokens, length = token_id_to_tokens_mapper(tokenizer, sel_dataset[idx])\n",
    "    inputs = {\n",
    "        'input_ids': torch.tensor([sel_dataset[idx]['input_ids']], dtype=torch.int32),\n",
    "        'attention_mask': torch.tensor([sel_dataset[idx]['attention_mask']], dtype=torch.int32),\n",
    "        'token_type_ids': torch.tensor([sel_dataset[idx]['token_type_ids']], dtype=torch.int32),\n",
    "    }\n",
    "    labels = torch.tensor([sel_dataset[idx]['label']])\n",
    "    output = model(**inputs, output_hidden_states=True)\n",
    "\n",
    "    output.hidden_states[0].retain_grad()\n",
    "    logits = output.logits\n",
    "    target_class_l_sum = torch.gather(logits, 1, labels.unsqueeze(-1)).sum()\n",
    "    target_class_l_sum.backward()\n",
    "    \n",
    "    inputXgradient = output.hidden_states[0].grad * output.hidden_states[0]\n",
    "    saliencies = torch.norm(inputXgradient, dim=-1).detach()\n",
    "    model.zero_grad()\n",
    "    if prev_sals is not None:\n",
    "        print(\"Corr:\", pearsonr(prev_sals, saliencies[0].numpy())[0])\n",
    "    prev_sals = saliencies[0].numpy()\n",
    "    print_globenc(saliencies[0].numpy(), tokens, prefix=name + \" \")\n"
   ]
  },
  {
   "cell_type": "code",
   "execution_count": 54,
   "metadata": {},
   "outputs": [
    {
     "name": "stdout",
     "output_type": "stream",
     "text": [
      "### 24638 ###\n"
     ]
    },
    {
     "data": {
      "text/html": [
       "mnli-e1 <span style='background-color: rgba(104.4616386294365, 104.4616386294365, 0, 0.27310232321421307); font-weight: 800;'>[CLS]</span> <span style='background-color: rgba(25.119703486561775, 25.119703486561775, 0, 0.06567242741584778); font-weight: 800;'>yeah</span> <span style='background-color: rgba(16.550458408892155, 16.550458408892155, 0, 0.04326917231082916); font-weight: 800;'>i</span> <span style='background-color: rgba(29.035372473299503, 29.035372473299503, 0, 0.07590947051843007); font-weight: 800;'>tell</span> <span style='background-color: rgba(17.376302294433117, 17.376302294433117, 0, 0.0454282412926356); font-weight: 800;'>you</span> <span style='background-color: rgba(42.49790757894516, 42.49790757894516, 0, 0.11110564072926839); font-weight: 800;'>what</span> <span style='background-color: rgba(20.482175834476948, 20.482175834476948, 0, 0.0535481721162796); font-weight: 800;'>the</span> <span style='background-color: rgba(66.86470806598663, 66.86470806598663, 0, 0.17480969429016113); font-weight: 800;'>first</span> <span style='background-color: rgba(59.585146084427834, 59.585146084427834, 0, 0.15577815969785055); font-weight: 800;'>three</span> <span style='background-color: rgba(50.468701869249344, 50.468701869249344, 0, 0.1319443186124166); font-weight: 800;'>days</span> <span style='background-color: rgba(27.310132049024105, 27.310132049024105, 0, 0.07139903803666432); font-weight: 800;'>i</span> <span style='background-color: rgba(31.311640329658985, 31.311640329658985, 0, 0.0818604975938797); font-weight: 800;'>was</span> <span style='background-color: rgba(255.0, 255.0, 0, 0.6666666666666666); font-weight: 800;'>glued</span> <span style='background-color: rgba(22.57493443787098, 22.57493443787098, 0, 0.05901943643887838); font-weight: 800;'>to</span> <span style='background-color: rgba(13.543364368379116, 13.543364368379116, 0, 0.035407488544782005); font-weight: 800;'>the</span> <span style='background-color: rgba(80.41737243533134, 80.41737243533134, 0, 0.21024149656295776); font-weight: 800;'>television</span> <span style='background-color: rgba(19.39290728420019, 19.39290728420019, 0, 0.050700411200523376); font-weight: 800;'>[SEP]</span> <span style='background-color: rgba(23.742100708186626, 23.742100708186626, 0, 0.06207085152467092); font-weight: 800;'>i</span> <span style='background-color: rgba(68.89885291457176, 68.89885291457176, 0, 0.1801277200380961); font-weight: 800;'>watched</span> <span style='background-color: rgba(53.870590925216675, 53.870590925216675, 0, 0.1408381462097168); font-weight: 800;'>tv</span> <span style='background-color: rgba(43.030661791563034, 43.030661791563034, 0, 0.1124984622001648); font-weight: 800;'>on</span> <span style='background-color: rgba(57.22656324505806, 57.22656324505806, 0, 0.14961193005243936); font-weight: 800;'>and</span> <span style='background-color: rgba(84.27073806524277, 84.27073806524277, 0, 0.22031565507253012); font-weight: 800;'>off</span> <span style='background-color: rgba(38.01871933043003, 38.01871933043003, 0, 0.09939534465471904); font-weight: 800;'>for</span> <span style='background-color: rgba(47.78243601322174, 47.78243601322174, 0, 0.12492140134175618); font-weight: 800;'>three</span> <span style='background-color: rgba(47.30882942676544, 47.30882942676544, 0, 0.12368321418762207); font-weight: 800;'>days</span> <span style='background-color: rgba(12.246284019201994, 12.246284019201994, 0, 0.032016428808371224); font-weight: 800;'>.</span> <span style='background-color: rgba(13.809791821986437, 13.809791821986437, 0, 0.03610403090715408); font-weight: 800;'>[SEP]</span> "
      ],
      "text/plain": [
       "<IPython.core.display.HTML object>"
      ]
     },
     "metadata": {},
     "output_type": "display_data"
    },
    {
     "name": "stdout",
     "output_type": "stream",
     "text": [
      "Corr: 0.7877146852355619\n"
     ]
    },
    {
     "data": {
      "text/html": [
       "mnli-e2 <span style='background-color: rgba(105.20231768488884, 105.20231768488884, 0, 0.275038739045461); font-weight: 800;'>[CLS]</span> <span style='background-color: rgba(33.629677444696426, 33.629677444696426, 0, 0.08792072534561157); font-weight: 800;'>yeah</span> <span style='background-color: rgba(15.301760863512754, 15.301760863512754, 0, 0.04000460356473923); font-weight: 800;'>i</span> <span style='background-color: rgba(28.04726019501686, 28.04726019501686, 0, 0.07332617044448853); font-weight: 800;'>tell</span> <span style='background-color: rgba(16.79494298994541, 16.79494298994541, 0, 0.0439083476861318); font-weight: 800;'>you</span> <span style='background-color: rgba(35.88213957846165, 35.88213957846165, 0, 0.09380951523780823); font-weight: 800;'>what</span> <span style='background-color: rgba(20.069139897823334, 20.069139897823334, 0, 0.052468339602152504); font-weight: 800;'>the</span> <span style='background-color: rgba(60.569297075271606, 60.569297075271606, 0, 0.15835110346476236); font-weight: 800;'>first</span> <span style='background-color: rgba(56.60548657178879, 56.60548657178879, 0, 0.1479882001876831); font-weight: 800;'>three</span> <span style='background-color: rgba(91.03901088237762, 91.03901088237762, 0, 0.23801048596700033); font-weight: 800;'>days</span> <span style='background-color: rgba(32.496414855122566, 32.496414855122566, 0, 0.08495794733365376); font-weight: 800;'>i</span> <span style='background-color: rgba(23.934169001877308, 23.934169001877308, 0, 0.06257299085458119); font-weight: 800;'>was</span> <span style='background-color: rgba(238.861323595047, 238.861323595047, 0, 0.624474048614502); font-weight: 800;'>glued</span> <span style='background-color: rgba(50.00413879752159, 50.00413879752159, 0, 0.13072977463404337); font-weight: 800;'>to</span> <span style='background-color: rgba(23.08400832116604, 23.08400832116604, 0, 0.06035034855206808); font-weight: 800;'>the</span> <span style='background-color: rgba(121.11518740653992, 121.11518740653992, 0, 0.31664101282755536); font-weight: 800;'>television</span> <span style='background-color: rgba(36.11498348414898, 36.11498348414898, 0, 0.09441825747489929); font-weight: 800;'>[SEP]</span> <span style='background-color: rgba(51.68310910463333, 51.68310910463333, 0, 0.13511923948923746); font-weight: 800;'>i</span> <span style='background-color: rgba(126.2744365632534, 126.2744365632534, 0, 0.3301292459170024); font-weight: 800;'>watched</span> <span style='background-color: rgba(113.46271723508835, 113.46271723508835, 0, 0.2966345548629761); font-weight: 800;'>tv</span> <span style='background-color: rgba(100.29886320233345, 100.29886320233345, 0, 0.26221925020217896); font-weight: 800;'>on</span> <span style='background-color: rgba(131.904738843441, 131.904738843441, 0, 0.34484899044036865); font-weight: 800;'>and</span> <span style='background-color: rgba(255.0, 255.0, 0, 0.6666666666666666); font-weight: 800;'>off</span> <span style='background-color: rgba(81.75783410668373, 81.75783410668373, 0, 0.2137459715207418); font-weight: 800;'>for</span> <span style='background-color: rgba(70.13869598507881, 70.13869598507881, 0, 0.1833691398302714); font-weight: 800;'>three</span> <span style='background-color: rgba(100.41088119149208, 100.41088119149208, 0, 0.26251210769017536); font-weight: 800;'>days</span> <span style='background-color: rgba(29.27055325359106, 29.27055325359106, 0, 0.07652432223161061); font-weight: 800;'>.</span> <span style='background-color: rgba(21.880033425986767, 21.880033425986767, 0, 0.05720270176728567); font-weight: 800;'>[SEP]</span> "
      ],
      "text/plain": [
       "<IPython.core.display.HTML object>"
      ]
     },
     "metadata": {},
     "output_type": "display_data"
    },
    {
     "name": "stdout",
     "output_type": "stream",
     "text": [
      "Corr: 0.884317937354894\n"
     ]
    },
    {
     "data": {
      "text/html": [
       "mnli-e3 <span style='background-color: rgba(65.92151507735252, 65.92151507735252, 0, 0.1723438302675883); font-weight: 800;'>[CLS]</span> <span style='background-color: rgba(36.23335473239422, 36.23335473239422, 0, 0.09472772479057312); font-weight: 800;'>yeah</span> <span style='background-color: rgba(15.216025114059448, 15.216025114059448, 0, 0.03978045781453451); font-weight: 800;'>i</span> <span style='background-color: rgba(32.183410450816154, 32.183410450816154, 0, 0.08413963516553243); font-weight: 800;'>tell</span> <span style='background-color: rgba(19.099644720554352, 19.099644720554352, 0, 0.04993371168772379); font-weight: 800;'>you</span> <span style='background-color: rgba(41.98636382818222, 41.98636382818222, 0, 0.10976827144622803); font-weight: 800;'>what</span> <span style='background-color: rgba(20.430141426622868, 20.430141426622868, 0, 0.05341213444868723); font-weight: 800;'>the</span> <span style='background-color: rgba(64.03943046927452, 64.03943046927452, 0, 0.16742334763209024); font-weight: 800;'>first</span> <span style='background-color: rgba(70.8282221853733, 70.8282221853733, 0, 0.1851718227068583); font-weight: 800;'>three</span> <span style='background-color: rgba(89.15409162640572, 89.15409162640572, 0, 0.2330825924873352); font-weight: 800;'>days</span> <span style='background-color: rgba(27.99151338636875, 27.99151338636875, 0, 0.07318042715390523); font-weight: 800;'>i</span> <span style='background-color: rgba(25.96543550491333, 25.96543550491333, 0, 0.06788349151611328); font-weight: 800;'>was</span> <span style='background-color: rgba(255.0, 255.0, 0, 0.6666666666666666); font-weight: 800;'>glued</span> <span style='background-color: rgba(39.156864657998085, 39.156864657998085, 0, 0.10237088799476624); font-weight: 800;'>to</span> <span style='background-color: rgba(19.636255726218224, 19.636255726218224, 0, 0.0513366162776947); font-weight: 800;'>the</span> <span style='background-color: rgba(113.6053691804409, 113.6053691804409, 0, 0.2970075011253357); font-weight: 800;'>television</span> <span style='background-color: rgba(24.66823261231184, 24.66823261231184, 0, 0.06449211140473683); font-weight: 800;'>[SEP]</span> <span style='background-color: rgba(59.796517342329025, 59.796517342329025, 0, 0.15633076429367065); font-weight: 800;'>i</span> <span style='background-color: rgba(83.81292343139648, 83.81292343139648, 0, 0.2191187540690104); font-weight: 800;'>watched</span> <span style='background-color: rgba(83.80305156111717, 83.80305156111717, 0, 0.21909294525782266); font-weight: 800;'>tv</span> <span style='background-color: rgba(74.50658440589905, 74.50658440589905, 0, 0.19478845596313477); font-weight: 800;'>on</span> <span style='background-color: rgba(159.2199531197548, 159.2199531197548, 0, 0.41626131534576416); font-weight: 800;'>and</span> <span style='background-color: rgba(122.53950297832489, 122.53950297832489, 0, 0.32036471366882324); font-weight: 800;'>off</span> <span style='background-color: rgba(66.46519750356674, 66.46519750356674, 0, 0.17376522223154703); font-weight: 800;'>for</span> <span style='background-color: rgba(77.96230137348175, 77.96230137348175, 0, 0.20382301012674967); font-weight: 800;'>three</span> <span style='background-color: rgba(92.42858871817589, 92.42858871817589, 0, 0.24164336919784546); font-weight: 800;'>days</span> <span style='background-color: rgba(21.289723701775074, 21.289723701775074, 0, 0.055659408370653786); font-weight: 800;'>.</span> <span style='background-color: rgba(17.142411544919014, 17.142411544919014, 0, 0.0448167622089386); font-weight: 800;'>[SEP]</span> "
      ],
      "text/plain": [
       "<IPython.core.display.HTML object>"
      ]
     },
     "metadata": {},
     "output_type": "display_data"
    },
    {
     "name": "stdout",
     "output_type": "stream",
     "text": [
      "Corr: 0.941260779392162\n"
     ]
    },
    {
     "data": {
      "text/html": [
       "mnli-e4 <span style='background-color: rgba(54.35398958623409, 54.35398958623409, 0, 0.14210193355878195); font-weight: 800;'>[CLS]</span> <span style='background-color: rgba(34.88800652325153, 34.88800652325153, 0, 0.09121047457059224); font-weight: 800;'>yeah</span> <span style='background-color: rgba(17.219520807266235, 17.219520807266235, 0, 0.04501835505167643); font-weight: 800;'>i</span> <span style='background-color: rgba(30.97747676074505, 30.97747676074505, 0, 0.08098686734835307); font-weight: 800;'>tell</span> <span style='background-color: rgba(18.3560873195529, 18.3560873195529, 0, 0.04798977077007294); font-weight: 800;'>you</span> <span style='background-color: rgba(42.49800257384777, 42.49800257384777, 0, 0.11110588908195496); font-weight: 800;'>what</span> <span style='background-color: rgba(20.534457229077816, 20.534457229077816, 0, 0.05368485550085703); font-weight: 800;'>the</span> <span style='background-color: rgba(64.70200091600418, 64.70200091600418, 0, 0.16915555795033774); font-weight: 800;'>first</span> <span style='background-color: rgba(69.62369441986084, 69.62369441986084, 0, 0.1820227305094401); font-weight: 800;'>three</span> <span style='background-color: rgba(89.3876650929451, 89.3876650929451, 0, 0.23369324207305908); font-weight: 800;'>days</span> <span style='background-color: rgba(32.229672968387604, 32.229672968387604, 0, 0.08426058292388916); font-weight: 800;'>i</span> <span style='background-color: rgba(28.45799345523119, 28.45799345523119, 0, 0.0743999828894933); font-weight: 800;'>was</span> <span style='background-color: rgba(255.0, 255.0, 0, 0.6666666666666666); font-weight: 800;'>glued</span> <span style='background-color: rgba(41.335048377513885, 41.335048377513885, 0, 0.10806548595428467); font-weight: 800;'>to</span> <span style='background-color: rgba(18.10390055179596, 18.10390055179596, 0, 0.04733045895894369); font-weight: 800;'>the</span> <span style='background-color: rgba(105.07815554738045, 105.07815554738045, 0, 0.2747141321500142); font-weight: 800;'>television</span> <span style='background-color: rgba(25.84895085543394, 25.84895085543394, 0, 0.06757895648479462); font-weight: 800;'>[SEP]</span> <span style='background-color: rgba(51.21126942336559, 51.21126942336559, 0, 0.13388567169507345); font-weight: 800;'>i</span> <span style='background-color: rgba(92.63394489884377, 92.63394489884377, 0, 0.24218024810155234); font-weight: 800;'>watched</span> <span style='background-color: rgba(98.84053185582161, 98.84053185582161, 0, 0.2584066192309062); font-weight: 800;'>tv</span> <span style='background-color: rgba(107.68950462341309, 107.68950462341309, 0, 0.2815411885579427); font-weight: 800;'>on</span> <span style='background-color: rgba(87.12332099676132, 87.12332099676132, 0, 0.227773388226827); font-weight: 800;'>and</span> <span style='background-color: rgba(157.57742285728455, 157.57742285728455, 0, 0.41196711858113605); font-weight: 800;'>off</span> <span style='background-color: rgba(80.57735905051231, 80.57735905051231, 0, 0.21065976222356161); font-weight: 800;'>for</span> <span style='background-color: rgba(84.02780190110207, 84.02780190110207, 0, 0.21968052784601846); font-weight: 800;'>three</span> <span style='background-color: rgba(108.47135066986084, 108.47135066986084, 0, 0.2835852305094401); font-weight: 800;'>days</span> <span style='background-color: rgba(18.492437303066254, 18.492437303066254, 0, 0.048346241315205894); font-weight: 800;'>.</span> <span style='background-color: rgba(22.676426991820335, 22.676426991820335, 0, 0.05928477644920349); font-weight: 800;'>[SEP]</span> "
      ],
      "text/plain": [
       "<IPython.core.display.HTML object>"
      ]
     },
     "metadata": {},
     "output_type": "display_data"
    },
    {
     "name": "stdout",
     "output_type": "stream",
     "text": [
      "Corr: 0.9842848461106477\n"
     ]
    },
    {
     "data": {
      "text/html": [
       "mnli-e5 <span style='background-color: rgba(65.30024841427803, 65.30024841427803, 0, 0.1707196036974589); font-weight: 800;'>[CLS]</span> <span style='background-color: rgba(28.944777734577656, 28.944777734577656, 0, 0.0756726215283076); font-weight: 800;'>yeah</span> <span style='background-color: rgba(13.30091742798686, 13.30091742798686, 0, 0.03477364033460617); font-weight: 800;'>i</span> <span style='background-color: rgba(22.14625284075737, 22.14625284075737, 0, 0.05789870023727417); font-weight: 800;'>tell</span> <span style='background-color: rgba(13.803056683391333, 13.803056683391333, 0, 0.03608642270167669); font-weight: 800;'>you</span> <span style='background-color: rgba(27.117334194481373, 27.117334194481373, 0, 0.07089499135812123); font-weight: 800;'>what</span> <span style='background-color: rgba(15.417780987918377, 15.417780987918377, 0, 0.04030792415142059); font-weight: 800;'>the</span> <span style='background-color: rgba(47.350327000021935, 47.350327000021935, 0, 0.12379170457522075); font-weight: 800;'>first</span> <span style='background-color: rgba(52.21474997699261, 52.21474997699261, 0, 0.13650915026664734); font-weight: 800;'>three</span> <span style='background-color: rgba(61.04699604213238, 61.04699604213238, 0, 0.15959998965263367); font-weight: 800;'>days</span> <span style='background-color: rgba(25.99625565111637, 25.99625565111637, 0, 0.06796406706174214); font-weight: 800;'>i</span> <span style='background-color: rgba(22.60437335819006, 22.60437335819006, 0, 0.0590964009364446); font-weight: 800;'>was</span> <span style='background-color: rgba(255.0, 255.0, 0, 0.6666666666666666); font-weight: 800;'>glued</span> <span style='background-color: rgba(39.09292548894882, 39.09292548894882, 0, 0.10220372676849365); font-weight: 800;'>to</span> <span style='background-color: rgba(15.293153375387192, 15.293153375387192, 0, 0.039982100327809654); font-weight: 800;'>the</span> <span style='background-color: rgba(86.6237998008728, 86.6237998008728, 0, 0.2264674504597982); font-weight: 800;'>television</span> <span style='background-color: rgba(21.29422266036272, 21.29422266036272, 0, 0.055671170353889465); font-weight: 800;'>[SEP]</span> <span style='background-color: rgba(42.20010235905647, 42.20010235905647, 0, 0.11032706499099731); font-weight: 800;'>i</span> <span style='background-color: rgba(78.84880140423775, 78.84880140423775, 0, 0.20614065726598105); font-weight: 800;'>watched</span> <span style='background-color: rgba(80.92538997530937, 80.92538997530937, 0, 0.21156964699427286); font-weight: 800;'>tv</span> <span style='background-color: rgba(90.01951038837433, 90.01951038837433, 0, 0.23534512519836426); font-weight: 800;'>on</span> <span style='background-color: rgba(83.50133255124092, 83.50133255124092, 0, 0.21830413738886514); font-weight: 800;'>and</span> <span style='background-color: rgba(139.4838121533394, 139.4838121533394, 0, 0.364663561185201); font-weight: 800;'>off</span> <span style='background-color: rgba(61.386477425694466, 61.386477425694466, 0, 0.16048752268155417); font-weight: 800;'>for</span> <span style='background-color: rgba(71.05861142277718, 71.05861142277718, 0, 0.18577414751052856); font-weight: 800;'>three</span> <span style='background-color: rgba(75.51390275359154, 75.51390275359154, 0, 0.19742196798324585); font-weight: 800;'>days</span> <span style='background-color: rgba(16.497496850788593, 16.497496850788593, 0, 0.04313071072101593); font-weight: 800;'>.</span> <span style='background-color: rgba(19.63287390768528, 19.63287390768528, 0, 0.05132777492205302); font-weight: 800;'>[SEP]</span> "
      ],
      "text/plain": [
       "<IPython.core.display.HTML object>"
      ]
     },
     "metadata": {},
     "output_type": "display_data"
    }
   ],
   "source": [
    "# tokenizer = None\n",
    "# sel_dataset = None\n",
    "idx = 24638\n",
    "prev_sals = None\n",
    "print(f\"### {idx} ###\")\n",
    "for name, path in MODELS.items():\n",
    "    model = AutoModelForSequenceClassification.from_pretrained(path)\n",
    "    tokenizer = AutoTokenizer.from_pretrained(path, use_fast=True, max_length=128) if tokenizer is None else tokenizer\n",
    "\n",
    "    sel_dataset = dataset[SET].map(preprocess_function_wrapped(tokenizer), batched=True, batch_size=1024) if sel_dataset is None else sel_dataset\n",
    "    dataset_size = len(sel_dataset)\n",
    "\n",
    "    tokens, length = token_id_to_tokens_mapper(tokenizer, sel_dataset[idx])\n",
    "    inputs = {\n",
    "        'input_ids': torch.tensor([sel_dataset[idx]['input_ids']], dtype=torch.int32),\n",
    "        'attention_mask': torch.tensor([sel_dataset[idx]['attention_mask']], dtype=torch.int32),\n",
    "        'token_type_ids': torch.tensor([sel_dataset[idx]['token_type_ids']], dtype=torch.int32),\n",
    "    }\n",
    "    labels = torch.tensor([sel_dataset[idx]['label']])\n",
    "    output = model(**inputs, output_hidden_states=True)\n",
    "\n",
    "    output.hidden_states[0].retain_grad()\n",
    "    logits = output.logits\n",
    "    target_class_l_sum = torch.gather(logits, 1, labels.unsqueeze(-1)).sum()\n",
    "    target_class_l_sum.backward()\n",
    "    \n",
    "    inputXgradient = output.hidden_states[0].grad * output.hidden_states[0]\n",
    "    saliencies = torch.norm(inputXgradient, dim=-1).detach()\n",
    "    model.zero_grad()\n",
    "    if prev_sals is not None:\n",
    "        print(\"Corr:\", pearsonr(prev_sals, saliencies[0].numpy())[0])\n",
    "    prev_sals = saliencies[0].numpy()\n",
    "    print_globenc(saliencies[0].numpy(), tokens, prefix=name + \" \")\n"
   ]
  },
  {
   "cell_type": "code",
   "execution_count": 62,
   "metadata": {},
   "outputs": [
    {
     "name": "stdout",
     "output_type": "stream",
     "text": [
      "### 192454 ###\n"
     ]
    },
    {
     "data": {
      "text/html": [
       "mnli-e1 <span style='background-color: rgba(61.103084832429886, 61.103084832429886, 0, 0.15974662701288858); font-weight: 800;'>[CLS]</span> <span style='background-color: rgba(30.48193395137787, 30.48193395137787, 0, 0.07969133059183757); font-weight: 800;'>no</span> <span style='background-color: rgba(36.75583429634571, 36.75583429634571, 0, 0.09609368443489075); font-weight: 800;'>!</span> <span style='background-color: rgba(55.56306950747967, 55.56306950747967, 0, 0.1452629268169403); font-weight: 800;'>we</span> <span style='background-color: rgba(36.17238700389862, 36.17238700389862, 0, 0.09456833203633626); font-weight: 800;'>have</span> <span style='background-color: rgba(64.12141487002373, 64.12141487002373, 0, 0.16763768593470255); font-weight: 800;'>other</span> <span style='background-color: rgba(60.25547571480274, 60.25547571480274, 0, 0.1575306554635366); font-weight: 800;'>things</span> <span style='background-color: rgba(28.82322035729885, 28.82322035729885, 0, 0.07535482446352641); font-weight: 800;'>to</span> <span style='background-color: rgba(180.0258430838585, 180.0258430838585, 0, 0.47065579891204834); font-weight: 800;'>buy</span> <span style='background-color: rgba(45.53627394139767, 45.53627394139767, 0, 0.11904908219973247); font-weight: 800;'>!</span> <span style='background-color: rgba(30.46862706542015, 30.46862706542015, 0, 0.07965654134750366); font-weight: 800;'>'</span> <span style='background-color: rgba(25.23029465228319, 25.23029465228319, 0, 0.065961554646492); font-weight: 800;'>[SEP]</span> <span style='background-color: rgba(27.944103330373764, 27.944103330373764, 0, 0.0730564792950948); font-weight: 800;'>no</span> <span style='background-color: rgba(41.35379657149315, 41.35379657149315, 0, 0.10811450084050496); font-weight: 800;'>!</span> <span style='background-color: rgba(33.72442916035652, 33.72442916035652, 0, 0.0881684422492981); font-weight: 800;'>we</span> <span style='background-color: rgba(77.59974762797356, 77.59974762797356, 0, 0.2028751571973165); font-weight: 800;'>need</span> <span style='background-color: rgba(40.37607483565807, 40.37607483565807, 0, 0.1055583655834198); font-weight: 800;'>to</span> <span style='background-color: rgba(255.0, 255.0, 0, 0.6666666666666666); font-weight: 800;'>save</span> <span style='background-color: rgba(86.55254602432251, 86.55254602432251, 0, 0.22628116607666016); font-weight: 800;'>our</span> <span style='background-color: rgba(175.41006356477737, 175.41006356477737, 0, 0.4585884014765422); font-weight: 800;'>money</span> <span style='background-color: rgba(57.01112240552902, 57.01112240552902, 0, 0.14904868602752686); font-weight: 800;'>because</span> <span style='background-color: rgba(40.30424349009991, 40.30424349009991, 0, 0.10537057121594746); font-weight: 800;'>we</span> <span style='background-color: rgba(38.92947345972061, 38.92947345972061, 0, 0.10177640120188396); font-weight: 800;'>have</span> <span style='background-color: rgba(59.627662003040314, 59.627662003040314, 0, 0.15588931242624918); font-weight: 800;'>other</span> <span style='background-color: rgba(47.52187639474869, 47.52187639474869, 0, 0.12424019972483318); font-weight: 800;'>things</span> <span style='background-color: rgba(31.688656099140644, 31.688656099140644, 0, 0.08284615973631541); font-weight: 800;'>to</span> <span style='background-color: rgba(77.62312397360802, 77.62312397360802, 0, 0.20293627182642618); font-weight: 800;'>buy</span> <span style='background-color: rgba(34.89978589117527, 34.89978589117527, 0, 0.0912412703037262); font-weight: 800;'>.</span> <span style='background-color: rgba(29.274383448064327, 29.274383448064327, 0, 0.07653433581193288); font-weight: 800;'>[SEP]</span> "
      ],
      "text/plain": [
       "<IPython.core.display.HTML object>"
      ]
     },
     "metadata": {},
     "output_type": "display_data"
    },
    {
     "name": "stdout",
     "output_type": "stream",
     "text": [
      "Corr: 0.9374757943435119\n"
     ]
    },
    {
     "data": {
      "text/html": [
       "mnli-e2 <span style='background-color: rgba(56.340511590242386, 56.340511590242386, 0, 0.14729545513788858); font-weight: 800;'>[CLS]</span> <span style='background-color: rgba(22.834405414760113, 22.834405414760113, 0, 0.05969779193401337); font-weight: 800;'>no</span> <span style='background-color: rgba(32.36077353358269, 32.36077353358269, 0, 0.08460332949956258); font-weight: 800;'>!</span> <span style='background-color: rgba(39.90397296845913, 39.90397296845913, 0, 0.10432411233584087); font-weight: 800;'>we</span> <span style='background-color: rgba(28.906473889946938, 28.906473889946938, 0, 0.0755724807580312); font-weight: 800;'>have</span> <span style='background-color: rgba(65.38980200886726, 65.38980200886726, 0, 0.17095373074213663); font-weight: 800;'>other</span> <span style='background-color: rgba(60.097738578915596, 60.097738578915596, 0, 0.15711827079455057); font-weight: 800;'>things</span> <span style='background-color: rgba(34.63328339159489, 34.63328339159489, 0, 0.09054453174273173); font-weight: 800;'>to</span> <span style='background-color: rgba(255.0, 255.0, 0, 0.6666666666666666); font-weight: 800;'>buy</span> <span style='background-color: rgba(55.31410686671734, 55.31410686671734, 0, 0.14461204409599304); font-weight: 800;'>!</span> <span style='background-color: rgba(19.70631066709757, 19.70631066709757, 0, 0.051519766449928284); font-weight: 800;'>'</span> <span style='background-color: rgba(33.87805871665478, 33.87805871665478, 0, 0.08857008814811707); font-weight: 800;'>[SEP]</span> <span style='background-color: rgba(24.09174084663391, 24.09174084663391, 0, 0.06298494338989258); font-weight: 800;'>no</span> <span style='background-color: rgba(28.88685554265976, 28.88685554265976, 0, 0.07552119096120198); font-weight: 800;'>!</span> <span style='background-color: rgba(31.68945975601673, 31.68945975601673, 0, 0.08284826080004375); font-weight: 800;'>we</span> <span style='background-color: rgba(45.40394224226475, 45.40394224226475, 0, 0.11870311697324117); font-weight: 800;'>need</span> <span style='background-color: rgba(35.75624093413353, 35.75624093413353, 0, 0.09348036845525105); font-weight: 800;'>to</span> <span style='background-color: rgba(237.5880727171898, 237.5880727171898, 0, 0.6211452881495158); font-weight: 800;'>save</span> <span style='background-color: rgba(73.43448713421822, 73.43448713421822, 0, 0.19198558727900186); font-weight: 800;'>our</span> <span style='background-color: rgba(168.17427903413773, 168.17427903413773, 0, 0.4396713177363078); font-weight: 800;'>money</span> <span style='background-color: rgba(42.61885888874531, 42.61885888874531, 0, 0.1114218533039093); font-weight: 800;'>because</span> <span style='background-color: rgba(28.232399560511112, 28.232399560511112, 0, 0.07381019492944081); font-weight: 800;'>we</span> <span style='background-color: rgba(28.8429431989789, 28.8429431989789, 0, 0.07540638744831085); font-weight: 800;'>have</span> <span style='background-color: rgba(47.08567500114441, 47.08567500114441, 0, 0.12309980392456055); font-weight: 800;'>other</span> <span style='background-color: rgba(43.29869940876961, 43.29869940876961, 0, 0.11319921414057414); font-weight: 800;'>things</span> <span style='background-color: rgba(43.46237562596798, 43.46237562596798, 0, 0.11362712581952412); font-weight: 800;'>to</span> <span style='background-color: rgba(136.56553834676743, 136.56553834676743, 0, 0.3570340871810913); font-weight: 800;'>buy</span> <span style='background-color: rgba(52.37776882946491, 52.37776882946491, 0, 0.13693534334500632); font-weight: 800;'>.</span> <span style='background-color: rgba(31.818555928766727, 31.818555928766727, 0, 0.08318576713403066); font-weight: 800;'>[SEP]</span> "
      ],
      "text/plain": [
       "<IPython.core.display.HTML object>"
      ]
     },
     "metadata": {},
     "output_type": "display_data"
    },
    {
     "name": "stdout",
     "output_type": "stream",
     "text": [
      "Corr: 0.9692294978046911\n"
     ]
    },
    {
     "data": {
      "text/html": [
       "mnli-e3 <span style='background-color: rgba(68.5995277762413, 68.5995277762413, 0, 0.17934517065684); font-weight: 800;'>[CLS]</span> <span style='background-color: rgba(23.425898775458336, 23.425898775458336, 0, 0.061244179805119835); font-weight: 800;'>no</span> <span style='background-color: rgba(30.07836900651455, 30.07836900651455, 0, 0.07863625884056091); font-weight: 800;'>!</span> <span style='background-color: rgba(28.91945969313383, 28.91945969313383, 0, 0.07560643057028453); font-weight: 800;'>we</span> <span style='background-color: rgba(20.625772029161453, 20.625772029161453, 0, 0.053923587004343666); font-weight: 800;'>have</span> <span style='background-color: rgba(33.77953000366688, 33.77953000366688, 0, 0.08831249674161275); font-weight: 800;'>other</span> <span style='background-color: rgba(46.53476156294346, 46.53476156294346, 0, 0.12165950735410054); font-weight: 800;'>things</span> <span style='background-color: rgba(37.534499913454056, 37.534499913454056, 0, 0.09812941153844197); font-weight: 800;'>to</span> <span style='background-color: rgba(226.5123662352562, 226.5123662352562, 0, 0.5921891927719116); font-weight: 800;'>buy</span> <span style='background-color: rgba(52.11668103933334, 52.11668103933334, 0, 0.136252760887146); font-weight: 800;'>!</span> <span style='background-color: rgba(27.122781202197075, 27.122781202197075, 0, 0.07090923190116882); font-weight: 800;'>'</span> <span style='background-color: rgba(22.627599611878395, 22.627599611878395, 0, 0.05915712316830953); font-weight: 800;'>[SEP]</span> <span style='background-color: rgba(20.175441093742847, 20.175441093742847, 0, 0.0527462512254715); font-weight: 800;'>no</span> <span style='background-color: rgba(23.67017436772585, 23.67017436772585, 0, 0.061882808804512024); font-weight: 800;'>!</span> <span style='background-color: rgba(21.06751922518015, 21.06751922518015, 0, 0.05507848163445791); font-weight: 800;'>we</span> <span style='background-color: rgba(29.592428281903267, 29.592428281903267, 0, 0.07736582557360332); font-weight: 800;'>need</span> <span style='background-color: rgba(50.93827307224274, 50.93827307224274, 0, 0.13317195574442545); font-weight: 800;'>to</span> <span style='background-color: rgba(255.0, 255.0, 0, 0.6666666666666666); font-weight: 800;'>save</span> <span style='background-color: rgba(55.162795186042786, 55.162795186042786, 0, 0.14421645800272623); font-weight: 800;'>our</span> <span style='background-color: rgba(122.83497512340546, 122.83497512340546, 0, 0.3211371898651123); font-weight: 800;'>money</span> <span style='background-color: rgba(35.11636666953564, 35.11636666953564, 0, 0.09180749456087749); font-weight: 800;'>because</span> <span style='background-color: rgba(21.983543671667576, 21.983543671667576, 0, 0.0574733167886734); font-weight: 800;'>we</span> <span style='background-color: rgba(18.30260518938303, 18.30260518938303, 0, 0.04784994820753733); font-weight: 800;'>have</span> <span style='background-color: rgba(26.460843421518803, 26.460843421518803, 0, 0.06917867561181386); font-weight: 800;'>other</span> <span style='background-color: rgba(34.0081637352705, 34.0081637352705, 0, 0.0889102319876353); font-weight: 800;'>things</span> <span style='background-color: rgba(23.60867466777563, 23.60867466777563, 0, 0.06172202527523041); font-weight: 800;'>to</span> <span style='background-color: rgba(141.60125613212585, 141.60125613212585, 0, 0.37019936243693036); font-weight: 800;'>buy</span> <span style='background-color: rgba(76.17298498749733, 76.17298498749733, 0, 0.19914505879084268); font-weight: 800;'>.</span> <span style='background-color: rgba(25.079963319003582, 25.079963319003582, 0, 0.06556853155295055); font-weight: 800;'>[SEP]</span> "
      ],
      "text/plain": [
       "<IPython.core.display.HTML object>"
      ]
     },
     "metadata": {},
     "output_type": "display_data"
    },
    {
     "name": "stdout",
     "output_type": "stream",
     "text": [
      "Corr: 0.9869057326385663\n"
     ]
    },
    {
     "data": {
      "text/html": [
       "mnli-e4 <span style='background-color: rgba(63.43378856778145, 63.43378856778145, 0, 0.16583997011184692); font-weight: 800;'>[CLS]</span> <span style='background-color: rgba(29.33281861245632, 29.33281861245632, 0, 0.07668710748354594); font-weight: 800;'>no</span> <span style='background-color: rgba(37.441792488098145, 37.441792488098145, 0, 0.09788703918457031); font-weight: 800;'>!</span> <span style='background-color: rgba(33.50162051618099, 33.50162051618099, 0, 0.08758593599001567); font-weight: 800;'>we</span> <span style='background-color: rgba(24.658400639891624, 24.658400639891624, 0, 0.06446640690167744); font-weight: 800;'>have</span> <span style='background-color: rgba(41.42127335071564, 41.42127335071564, 0, 0.1082909107208252); font-weight: 800;'>other</span> <span style='background-color: rgba(58.63855227828026, 58.63855227828026, 0, 0.15330340464909872); font-weight: 800;'>things</span> <span style='background-color: rgba(48.09120364487171, 48.09120364487171, 0, 0.12572863698005676); font-weight: 800;'>to</span> <span style='background-color: rgba(254.61229920387268, 254.61229920387268, 0, 0.6656530698140463); font-weight: 800;'>buy</span> <span style='background-color: rgba(73.77449288964272, 73.77449288964272, 0, 0.1928744912147522); font-weight: 800;'>!</span> <span style='background-color: rgba(31.73910789191723, 31.73910789191723, 0, 0.08297805984814961); font-weight: 800;'>'</span> <span style='background-color: rgba(32.42465190589428, 32.42465190589428, 0, 0.08477033178011577); font-weight: 800;'>[SEP]</span> <span style='background-color: rgba(27.814355492591858, 27.814355492591858, 0, 0.07271726926167806); font-weight: 800;'>no</span> <span style='background-color: rgba(34.56361413002014, 34.56361413002014, 0, 0.0903623898824056); font-weight: 800;'>!</span> <span style='background-color: rgba(29.07951470464468, 29.07951470464468, 0, 0.07602487504482269); font-weight: 800;'>we</span> <span style='background-color: rgba(40.35509616136551, 40.35509616136551, 0, 0.10550351937611897); font-weight: 800;'>need</span> <span style='background-color: rgba(52.19758629798889, 52.19758629798889, 0, 0.13646427790323892); font-weight: 800;'>to</span> <span style='background-color: rgba(255.0, 255.0, 0, 0.6666666666666666); font-weight: 800;'>save</span> <span style='background-color: rgba(64.21716973185539, 64.21716973185539, 0, 0.1678880254427592); font-weight: 800;'>our</span> <span style='background-color: rgba(109.28653612732887, 109.28653612732887, 0, 0.285716434319814); font-weight: 800;'>money</span> <span style='background-color: rgba(46.6542499512434, 46.6542499512434, 0, 0.12197189529736836); font-weight: 800;'>because</span> <span style='background-color: rgba(28.412469998002052, 28.412469998002052, 0, 0.07428096731503804); font-weight: 800;'>we</span> <span style='background-color: rgba(26.192114241421223, 26.192114241421223, 0, 0.06847611566384633); font-weight: 800;'>have</span> <span style='background-color: rgba(38.12607876956463, 38.12607876956463, 0, 0.09967602292696635); font-weight: 800;'>other</span> <span style='background-color: rgba(50.390676856040955, 50.390676856040955, 0, 0.13174033164978027); font-weight: 800;'>things</span> <span style='background-color: rgba(25.305486917495728, 25.305486917495728, 0, 0.06615813573201497); font-weight: 800;'>to</span> <span style='background-color: rgba(177.5731810927391, 177.5731810927391, 0, 0.4642436106999715); font-weight: 800;'>buy</span> <span style='background-color: rgba(64.12718296051025, 64.12718296051025, 0, 0.16765276590983072); font-weight: 800;'>.</span> <span style='background-color: rgba(24.36928365379572, 24.36928365379572, 0, 0.06371054550011952); font-weight: 800;'>[SEP]</span> "
      ],
      "text/plain": [
       "<IPython.core.display.HTML object>"
      ]
     },
     "metadata": {},
     "output_type": "display_data"
    },
    {
     "name": "stdout",
     "output_type": "stream",
     "text": [
      "Corr: 0.9977108173607421\n"
     ]
    },
    {
     "data": {
      "text/html": [
       "mnli-e5 <span style='background-color: rgba(62.41045027971268, 62.41045027971268, 0, 0.16316457589467367); font-weight: 800;'>[CLS]</span> <span style='background-color: rgba(35.078444704413414, 35.078444704413414, 0, 0.09170835216840108); font-weight: 800;'>no</span> <span style='background-color: rgba(41.094943061470985, 41.094943061470985, 0, 0.10743775963783264); font-weight: 800;'>!</span> <span style='background-color: rgba(37.839277759194374, 37.839277759194374, 0, 0.09892621636390686); font-weight: 800;'>we</span> <span style='background-color: rgba(27.932705841958523, 27.932705841958523, 0, 0.07302668193976085); font-weight: 800;'>have</span> <span style='background-color: rgba(47.01597534120083, 47.01597534120083, 0, 0.12291758259137471); font-weight: 800;'>other</span> <span style='background-color: rgba(62.30984307825565, 62.30984307825565, 0, 0.16290155053138733); font-weight: 800;'>things</span> <span style='background-color: rgba(44.96042624115944, 44.96042624115944, 0, 0.1175435980161031); font-weight: 800;'>to</span> <span style='background-color: rgba(241.45936578512192, 241.45936578512192, 0, 0.6312663157780966); font-weight: 800;'>buy</span> <span style='background-color: rgba(74.74821344017982, 74.74821344017982, 0, 0.1954201658566793); font-weight: 800;'>!</span> <span style='background-color: rgba(37.42232993245125, 37.42232993245125, 0, 0.09783615668614705); font-weight: 800;'>'</span> <span style='background-color: rgba(34.280601516366005, 34.280601516366005, 0, 0.08962248762448628); font-weight: 800;'>[SEP]</span> <span style='background-color: rgba(35.45593924820423, 35.45593924820423, 0, 0.09269526600837708); font-weight: 800;'>no</span> <span style='background-color: rgba(41.35240584611893, 41.35240584611893, 0, 0.10811086495717366); font-weight: 800;'>!</span> <span style='background-color: rgba(32.72504858672619, 32.72504858672619, 0, 0.08555568257967631); font-weight: 800;'>we</span> <span style='background-color: rgba(47.09566846489906, 47.09566846489906, 0, 0.12312593062718709); font-weight: 800;'>need</span> <span style='background-color: rgba(52.75097720324993, 52.75097720324993, 0, 0.13791105151176453); font-weight: 800;'>to</span> <span style='background-color: rgba(255.0, 255.0, 0, 0.6666666666666666); font-weight: 800;'>save</span> <span style='background-color: rgba(64.23798501491547, 64.23798501491547, 0, 0.16794244448343912); font-weight: 800;'>our</span> <span style='background-color: rgba(107.21158146858215, 107.21158146858215, 0, 0.28029171625773114); font-weight: 800;'>money</span> <span style='background-color: rgba(54.33649152517319, 54.33649152517319, 0, 0.14205618699391684); font-weight: 800;'>because</span> <span style='background-color: rgba(34.57578107714653, 34.57578107714653, 0, 0.09039419889450073); font-weight: 800;'>we</span> <span style='background-color: rgba(31.482218876481056, 31.482218876481056, 0, 0.08230645457903545); font-weight: 800;'>have</span> <span style='background-color: rgba(45.18796943128109, 45.18796943128109, 0, 0.11813848217328389); font-weight: 800;'>other</span> <span style='background-color: rgba(56.13485522568226, 56.13485522568226, 0, 0.14675779143969217); font-weight: 800;'>things</span> <span style='background-color: rgba(27.545231133699417, 27.545231133699417, 0, 0.07201367616653442); font-weight: 800;'>to</span> <span style='background-color: rgba(189.46291029453278, 189.46291029453278, 0, 0.4953278700510661); font-weight: 800;'>buy</span> <span style='background-color: rgba(67.32659608125687, 67.32659608125687, 0, 0.1760172446568807); font-weight: 800;'>.</span> <span style='background-color: rgba(25.878615863621235, 25.878615863621235, 0, 0.06765651206175487); font-weight: 800;'>[SEP]</span> "
      ],
      "text/plain": [
       "<IPython.core.display.HTML object>"
      ]
     },
     "metadata": {},
     "output_type": "display_data"
    }
   ],
   "source": [
    "# tokenizer = None\n",
    "# sel_dataset = None\n",
    "idx = 192454\n",
    "prev_sals = None\n",
    "print(f\"### {idx} ###\")\n",
    "for name, path in MODELS.items():\n",
    "    model = AutoModelForSequenceClassification.from_pretrained(path)\n",
    "    tokenizer = AutoTokenizer.from_pretrained(path, use_fast=True, max_length=128) if tokenizer is None else tokenizer\n",
    "\n",
    "    sel_dataset = dataset[SET].map(preprocess_function_wrapped(tokenizer), batched=True, batch_size=1024) if sel_dataset is None else sel_dataset\n",
    "    dataset_size = len(sel_dataset)\n",
    "\n",
    "    tokens, length = token_id_to_tokens_mapper(tokenizer, sel_dataset[idx])\n",
    "    inputs = {\n",
    "        'input_ids': torch.tensor([sel_dataset[idx]['input_ids']], dtype=torch.int32),\n",
    "        'attention_mask': torch.tensor([sel_dataset[idx]['attention_mask']], dtype=torch.int32),\n",
    "        'token_type_ids': torch.tensor([sel_dataset[idx]['token_type_ids']], dtype=torch.int32),\n",
    "    }\n",
    "    labels = torch.tensor([sel_dataset[idx]['label']])\n",
    "    output = model(**inputs, output_hidden_states=True)\n",
    "\n",
    "    output.hidden_states[0].retain_grad()\n",
    "    logits = output.logits\n",
    "    target_class_l_sum = torch.gather(logits, 1, labels.unsqueeze(-1)).sum()\n",
    "    target_class_l_sum.backward()\n",
    "    \n",
    "    inputXgradient = output.hidden_states[0].grad * output.hidden_states[0]\n",
    "    saliencies = torch.norm(inputXgradient, dim=-1).detach()\n",
    "    model.zero_grad()\n",
    "    if prev_sals is not None:\n",
    "        print(\"Corr:\", pearsonr(prev_sals, saliencies[0].numpy())[0])\n",
    "    prev_sals = saliencies[0].numpy()\n",
    "    print_globenc(saliencies[0].numpy(), tokens, prefix=name + \" \")\n"
   ]
  },
  {
   "cell_type": "code",
   "execution_count": 6,
   "metadata": {},
   "outputs": [
    {
     "data": {
      "application/vnd.jupyter.widget-view+json": {
       "model_id": "a7276023103c496c8227b4c7d4f00ea8",
       "version_major": 2,
       "version_minor": 0
      },
      "text/plain": [
       "Models:   0%|          | 0/5 [00:00<?, ?it/s]"
      ]
     },
     "metadata": {},
     "output_type": "display_data"
    },
    {
     "name": "stderr",
     "output_type": "stream",
     "text": [
      "Parameter 'function'=<function preprocess_function_wrapped.<locals>.preprocess_function at 0x7f89ffeca440> of the transform datasets.arrow_dataset.Dataset._map_single couldn't be hashed properly, a random hash was used instead. Make sure your transforms and parameters are serializable with pickle or dill for the dataset fingerprinting and caching to work. If you reuse this transform, the caching mechanism will consider it to be different from the previous calls and recompute everything. This warning is only showed once. Subsequent hashing failures won't be showed.\n"
     ]
    },
    {
     "data": {
      "application/vnd.jupyter.widget-view+json": {
       "model_id": "1e85522b773c429ea207fdbe868b08db",
       "version_major": 2,
       "version_minor": 0
      },
      "text/plain": [
       "  0%|          | 0/384 [00:00<?, ?ba/s]"
      ]
     },
     "metadata": {},
     "output_type": "display_data"
    }
   ],
   "source": [
    "### HTA\n",
    "idx = 314093\n",
    "prev_sals = None\n",
    "for name, path in tqdm(MODELS.items(), desc=\"Models\"):\n",
    "    model = AutoModelForSequenceClassification.from_pretrained(path)\n",
    "    model.to(DEVICE)\n",
    "    tokenizer = AutoTokenizer.from_pretrained(path, use_fast=True, max_length=128) if tokenizer is None else tokenizer\n",
    "\n",
    "    sel_dataset = dataset[SET].map(preprocess_function_wrapped(tokenizer), batched=True, batch_size=1024) if sel_dataset is None else sel_dataset\n",
    "    dataset_size = len(sel_dataset)\n",
    "\n",
    "    tokens, length = token_id_to_tokens_mapper(tokenizer, sel_dataset[idx])\n",
    "    inputs = {\n",
    "        'input_ids': torch.tensor([sel_dataset[idx]['input_ids']], dtype=torch.int32).to(DEVICE),\n",
    "        'attention_mask': torch.tensor([sel_dataset[idx]['attention_mask']], dtype=torch.int32).to(DEVICE),\n",
    "        'token_type_ids': torch.tensor([sel_dataset[idx]['token_type_ids']], dtype=torch.int32).to(DEVICE),\n",
    "    }\n",
    "    labels = torch.tensor([sel_dataset[idx]['label']]).to(DEVICE)\n",
    "    output = model(**inputs, output_hidden_states=True)\n",
    "\n",
    "    output.hidden_states[0].retain_grad()\n",
    "    # logits = output.logits\n",
    "    # target_class_l_sum = torch.gather(logits, 1, labels.unsqueeze(-1)).sum()\n",
    "    # target_class_l_sum.backward()\n",
    "    \n",
    "    # inputXgradient = output.hidden_states[0].grad * output.hidden_states[0]\n",
    "    # saliencies = torch.norm(inputXgradient, dim=-1).detach()\n",
    "    # model.zero_grad()\n",
    "    # if prev_sals is not None:\n",
    "    #     print(\"Corr:\", pearsonr(prev_sals, saliencies[0].numpy())[0])\n",
    "    # prev_sals = saliencies[0].numpy()\n",
    "    # print_globenc(saliencies[0].numpy(), tokens, prefix=name + \" \")\n"
   ]
  },
  {
   "cell_type": "code",
   "execution_count": null,
   "metadata": {},
   "outputs": [],
   "source": []
  }
 ],
 "metadata": {
  "kernelspec": {
   "display_name": "Python 3.7.13 ('globenc-venv')",
   "language": "python",
   "name": "python3"
  },
  "language_info": {
   "codemirror_mode": {
    "name": "ipython",
    "version": 3
   },
   "file_extension": ".py",
   "mimetype": "text/x-python",
   "name": "python",
   "nbconvert_exporter": "python",
   "pygments_lexer": "ipython3",
   "version": "3.7.13"
  },
  "orig_nbformat": 4,
  "vscode": {
   "interpreter": {
    "hash": "ad96aab5654ccd4e66bf13bd728d9d4512a27ebcee40fc973a7275c9c55ebd75"
   }
  }
 },
 "nbformat": 4,
 "nbformat_minor": 2
}
