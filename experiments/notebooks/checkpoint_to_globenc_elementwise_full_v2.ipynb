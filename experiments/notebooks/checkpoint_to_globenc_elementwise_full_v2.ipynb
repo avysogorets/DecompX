{
 "cells": [
  {
   "cell_type": "code",
   "execution_count": 1,
   "metadata": {
    "scrolled": true
   },
   "outputs": [
    {
     "name": "stdout",
     "output_type": "stream",
     "text": [
      "fatal: destination path 'GlobEnc' already exists and is not an empty directory.\r\n"
     ]
    }
   ],
   "source": [
    "# ! pip install datasets==1.18.3\n",
    "# ! pip install transformers==4.18.0\n",
    "! git clone https://github.com/mohsenfayyaz/GlobEnc"
   ]
  },
  {
   "cell_type": "code",
   "execution_count": 1,
   "metadata": {},
   "outputs": [
    {
     "name": "stderr",
     "output_type": "stream",
     "text": [
      "2022-12-13 17:43:48.204850: I tensorflow/core/platform/cpu_feature_guard.cc:193] This TensorFlow binary is optimized with oneAPI Deep Neural Network Library (oneDNN) to use the following CPU instructions in performance-critical operations:  AVX2 AVX512F AVX512_VNNI FMA\n",
      "To enable them in other operations, rebuild TensorFlow with the appropriate compiler flags.\n",
      "2022-12-13 17:43:48.379651: I tensorflow/core/util/port.cc:104] oneDNN custom operations are on. You may see slightly different numerical results due to floating-point round-off errors from different computation orders. To turn them off, set the environment variable `TF_ENABLE_ONEDNN_OPTS=0`.\n",
      "2022-12-13 17:43:48.975933: W tensorflow/compiler/xla/stream_executor/platform/default/dso_loader.cc:64] Could not load dynamic library 'libnvinfer.so.7'; dlerror: libnvinfer.so.7: cannot open shared object file: No such file or directory\n",
      "2022-12-13 17:43:48.976021: W tensorflow/compiler/xla/stream_executor/platform/default/dso_loader.cc:64] Could not load dynamic library 'libnvinfer_plugin.so.7'; dlerror: libnvinfer_plugin.so.7: cannot open shared object file: No such file or directory\n",
      "2022-12-13 17:43:48.976028: W tensorflow/compiler/tf2tensorrt/utils/py_utils.cc:38] TF-TRT Warning: Cannot dlopen some TensorRT libraries. If you would like to use Nvidia GPU with TensorRT, please make sure the missing libraries mentioned above are installed properly.\n"
     ]
    }
   ],
   "source": [
    "import torch\n",
    "import numpy as np\n",
    "import datasets\n",
    "import pickle\n",
    "import pathlib\n",
    "import os\n",
    "from importlib import reload\n",
    "\n",
    "from tqdm.auto import tqdm\n",
    "from transformers import AutoTokenizer\n",
    "from torch.utils.data import DataLoader\n",
    "from transformers import DataCollatorWithPadding\n",
    "from transformers.trainer_pt_utils import LengthGroupedSampler\n",
    "\n",
    "from GlobEnc.src.modeling.modeling_bert_elementwise_full import BertForSequenceClassification\n",
    "# from GlobEnc.src.modeling.modeling_electra import ElectraForSequenceClassification\n",
    "# from GlobEnc.src.attention_rollout import AttentionRollout"
   ]
  },
  {
   "cell_type": "code",
   "execution_count": 12,
   "metadata": {},
   "outputs": [
    {
     "data": {
      "text/plain": [
       "'cuda'"
      ]
     },
     "execution_count": 12,
     "metadata": {},
     "output_type": "execute_result"
    }
   ],
   "source": [
    "ROOT_DIR = \"/home/modaresi/projects/globenc_analysis/outputs/globencs_elementwise_full\"\n",
    "# MODELS = {\n",
    "#     \"sst2-e0\": \"bert-large-uncased\",\n",
    "#     \"sst2-e1\": \"/home/modaresi/projects/globenc_analysis/outputs/models/output_sst2_bert-large-uncased_0001_SEED0042/checkpoint-2105\",\n",
    "#     \"sst2-e2\": \"/home/modaresi/projects/globenc_analysis/outputs/models/output_sst2_bert-large-uncased_0001_SEED0042/checkpoint-4210\",\n",
    "#     \"sst2-e3\": \"/home/modaresi/projects/globenc_analysis/outputs/models/output_sst2_bert-large-uncased_0001_SEED0042/checkpoint-6315\",\n",
    "#     \"sst2-e4\": \"/home/modaresi/projects/globenc_analysis/outputs/models/output_sst2_bert-large-uncased_0001_SEED0042/checkpoint-8420\",\n",
    "#     \"sst2-e5\": \"/home/modaresi/projects/globenc_analysis/outputs/models/output_sst2_bert-large-uncased_0001_SEED0042/checkpoint-10525\",\n",
    "# }\n",
    "# MODELS = {\n",
    "#     \"sst2-e0\": \"bert-base-uncased\",\n",
    "#     \"sst2-e1\": \"/home/modaresi/projects/globenc_analysis/outputs/models/output_sst2_bert-base-uncased_0001_SEED0042/checkpoint-2105\",\n",
    "#     \"sst2-e2\": \"/home/modaresi/projects/globenc_analysis/outputs/models/output_sst2_bert-base-uncased_0001_SEED0042/checkpoint-4210\",\n",
    "#     \"sst2-e3\": \"/home/modaresi/projects/globenc_analysis/outputs/models/output_sst2_bert-base-uncased_0001_SEED0042/checkpoint-6315\",\n",
    "#     \"sst2-e4\": \"/home/modaresi/projects/globenc_analysis/outputs/models/output_sst2_bert-base-uncased_0001_SEED0042/checkpoint-8420\",\n",
    "    # \"sst2-e5\": \"/home/modaresi/projects/globenc_analysis/outputs/models/output_sst2_bert-base-uncased_0001_SEED0042/checkpoint-10525\",\n",
    "# }\n",
    "MODELS = {\n",
    "#     \"mnli-e0\": \"bert-base-uncased\",\n",
    "#     \"mnli-e1\": \"/home/modaresi/projects/globenc_analysis/outputs/models/output_mnli_bert-base-uncased_0001_SEED0042/checkpoint-12272\",\n",
    "#     \"mnli-e2\": \"/home/modaresi/projects/globenc_analysis/outputs/models/output_mnli_bert-base-uncased_0001_SEED0042/checkpoint-24544\",\n",
    "#     \"mnli-e3\": \"/home/modaresi/projects/globenc_analysis/outputs/models/output_mnli_bert-base-uncased_0001_SEED0042/checkpoint-36816\",\n",
    "#     \"mnli-e4\": \"/home/modaresi/projects/globenc_analysis/outputs/models/output_mnli_bert-base-uncased_0001_SEED0042/checkpoint-49088\",\n",
    "    \"mnli-e5\": \"/home/modaresi/projects/globenc_analysis/outputs/models/output_mnli_bert-base-uncased_0001_SEED0042/checkpoint-61360\",\n",
    "}\n",
    "# MODELS = {\n",
    "#     \"cola-e0\": \"bert-base-uncased\",\n",
    "#     \"cola-e1\": \"/home/modaresi/projects/globenc_analysis/outputs/models/output_cola_bert-base-uncased_0001_SEED0042/checkpoint-268\",\n",
    "#     \"cola-e2\": \"/home/modaresi/projects/globenc_analysis/outputs/models/output_cola_bert-base-uncased_0001_SEED0042/checkpoint-536\",\n",
    "#     \"cola-e3\": \"/home/modaresi/projects/globenc_analysis/outputs/models/output_cola_bert-base-uncased_0001_SEED0042/checkpoint-804\",\n",
    "#     \"cola-e4\": \"/home/modaresi/projects/globenc_analysis/outputs/models/output_cola_bert-base-uncased_0001_SEED0042/checkpoint-1072\",\n",
    "#     \"cola-e5\": \"/home/modaresi/projects/globenc_analysis/outputs/models/output_cola_bert-base-uncased_0001_SEED0042/checkpoint-1340\",\n",
    "# }\n",
    "# MODELS = {\n",
    "#     \"mrpc-e0\": \"bert-base-uncased\",\n",
    "#     \"mrpc-e1\": \"/home/modaresi/projects/globenc_analysis/outputs/models/output_mrpc_bert-base-uncased_0001_SEED0042/checkpoint-115\",\n",
    "#     \"mrpc-e2\": \"/home/modaresi/projects/globenc_analysis/outputs/models/output_mrpc_bert-base-uncased_0001_SEED0042/checkpoint-230\",\n",
    "#     \"mrpc-e3\": \"/home/modaresi/projects/globenc_analysis/outputs/models/output_mrpc_bert-base-uncased_0001_SEED0042/checkpoint-345\",\n",
    "#     \"mrpc-e4\": \"/home/modaresi/projects/globenc_analysis/outputs/models/output_mrpc_bert-base-uncased_0001_SEED0042/checkpoint-460\",\n",
    "#     \"mrpc-e5\": \"/home/modaresi/projects/globenc_analysis/outputs/models/output_mrpc_bert-base-uncased_0001_SEED0042/checkpoint-575\",\n",
    "# }\n",
    "# MODELS = {\n",
    "#     \"qnli-e0\": \"bert-base-uncased\",\n",
    "#     \"qnli-e1\": \"/home/modaresi/projects/globenc_analysis/outputs/models/output_qnli_bert-base-uncased_0001_SEED0042/checkpoint-3274\",\n",
    "#     \"qnli-e2\": \"/home/modaresi/projects/globenc_analysis/outputs/models/output_qnli_bert-base-uncased_0001_SEED0042/checkpoint-6548\",\n",
    "#     \"qnli-e3\": \"/home/modaresi/projects/globenc_analysis/outputs/models/output_qnli_bert-base-uncased_0001_SEED0042/checkpoint-9822\",\n",
    "#     \"qnli-e4\": \"/home/modaresi/projects/globenc_analysis/outputs/models/output_qnli_bert-base-uncased_0001_SEED0042/checkpoint-13096\",\n",
    "#     \"qnli-e5\": \"/home/modaresi/projects/globenc_analysis/outputs/models/output_qnli_bert-base-uncased_0001_SEED0042/checkpoint-16370\",\n",
    "# }\n",
    "\n",
    "# MULTI BERT\n",
    "# MODELS = {\n",
    "#     \"multibert-qnli-s0\": \"google/multiberts-seed_0\",\n",
    "#     \"multibert-qnli-s1\": \"google/multiberts-seed_1\",\n",
    "#     \"multibert-qnli-s2\": \"google/multiberts-seed_2\",\n",
    "#     \"multibert-qnli-s3\": \"google/multiberts-seed_3\",\n",
    "#     \"multibert-qnli-s4\": \"google/multiberts-seed_4\",\n",
    "#     \"multibert-qnli-s5\": \"google/multiberts-seed_5\",\n",
    "# }\n",
    "\n",
    "# MODELS = {\n",
    "#     \"multibert-mrpc-s0\": \"google/multiberts-seed_0\",\n",
    "#     \"multibert-mrpc-s1\": \"google/multiberts-seed_1\",\n",
    "#     \"multibert-mrpc-s2\": \"google/multiberts-seed_2\",\n",
    "#     \"multibert-mrpc-s3\": \"google/multiberts-seed_3\",\n",
    "#     \"multibert-mrpc-s4\": \"google/multiberts-seed_4\",\n",
    "#     \"multibert-mrpc-s5\": \"google/multiberts-seed_5\",\n",
    "# }\n",
    "\n",
    "# MODELS = {\n",
    "#     \"multibert-cola-s0\": \"google/multiberts-seed_0\",\n",
    "#     \"multibert-cola-s1\": \"google/multiberts-seed_1\",\n",
    "#     \"multibert-cola-s2\": \"google/multiberts-seed_2\",\n",
    "#     \"multibert-cola-s3\": \"google/multiberts-seed_3\",\n",
    "#     \"multibert-cola-s4\": \"google/multiberts-seed_4\",\n",
    "#     \"multibert-cola-s5\": \"google/multiberts-seed_5\",\n",
    "# }\n",
    "\n",
    "# MODELS = {\n",
    "#     \"multibert-qnli-e0\": \"google/multiberts-seed_0-step_0k\",\n",
    "#     \"multibert-qnli-e1\": \"google/multiberts-seed_0-step_400k\",\n",
    "#     \"multibert-qnli-e2\": \"google/multiberts-seed_0-step_800k\",\n",
    "#     \"multibert-qnli-e3\": \"google/multiberts-seed_0-step_1200k\",\n",
    "#     \"multibert-qnli-e4\": \"google/multiberts-seed_0-step_1600k\",\n",
    "#     \"multibert-qnli-e5\": \"google/multiberts-seed_0-step_2000k\",\n",
    "# }\n",
    "\n",
    "# MODELS = {\n",
    "#     \"multibert-sst2-e0-20k\": \"google/multiberts-seed_0-step_0k\",\n",
    "#     \"multibert-sst2-e1-20k\": \"google/multiberts-seed_0-step_20k\",\n",
    "#     \"multibert-sst2-e2-20k\": \"google/multiberts-seed_0-step_40k\",\n",
    "#     \"multibert-sst2-e3-20k\": \"google/multiberts-seed_0-step_60k\",\n",
    "#     \"multibert-sst2-e4-20k\": \"google/multiberts-seed_0-step_80k\",\n",
    "#     \"multibert-sst2-e5-20k\": \"google/multiberts-seed_0-step_100k\",\n",
    "# }\n",
    "\n",
    "# MODELS = {\n",
    "#     \"multibert-sst2-e0-400k\": \"google/multiberts-seed_0-step_0k\",\n",
    "#     \"multibert-sst2-e1-400k\": \"google/multiberts-seed_0-step_400k\",\n",
    "#     \"multibert-sst2-e2-400k\": \"google/multiberts-seed_0-step_800k\",\n",
    "#     \"multibert-sst2-e3-400k\": \"google/multiberts-seed_0-step_1200k\",\n",
    "#     \"multibert-sst2-e4-400k\": \"google/multiberts-seed_0-step_1600k\",\n",
    "#     \"multibert-sst2-e5-400k\": \"google/multiberts-seed_0-step_2000k\",\n",
    "# }\n",
    "\n",
    "TASK = \"mnli\"\n",
    " \n",
    "SET = \"validation_matched\"  # train/validation/validation_matched\n",
    "SAVE_CLS = True\n",
    "\n",
    "DEVICE = 'cuda' if torch.cuda.is_available() else 'cpu'\n",
    "DEVICE"
   ]
  },
  {
   "cell_type": "code",
   "execution_count": 13,
   "metadata": {},
   "outputs": [
    {
     "name": "stderr",
     "output_type": "stream",
     "text": [
      "Reusing dataset glue (/opt/huggingface/datasets/glue/mnli/1.0.0/dacbe3125aa31d7f70367a07a8a9e72a5a0bfeb5fc42e75c9db75b96da6053ad)\n"
     ]
    },
    {
     "data": {
      "application/vnd.jupyter.widget-view+json": {
       "model_id": "0fc1e627eb7b48e0ac1cf50c2de7c1a6",
       "version_major": 2,
       "version_minor": 0
      },
      "text/plain": [
       "  0%|          | 0/5 [00:00<?, ?it/s]"
      ]
     },
     "metadata": {},
     "output_type": "display_data"
    },
    {
     "data": {
      "text/plain": [
       "DatasetDict({\n",
       "    train: Dataset({\n",
       "        features: ['premise', 'hypothesis', 'label', 'idx'],\n",
       "        num_rows: 392702\n",
       "    })\n",
       "    validation_matched: Dataset({\n",
       "        features: ['premise', 'hypothesis', 'label', 'idx'],\n",
       "        num_rows: 9815\n",
       "    })\n",
       "    validation_mismatched: Dataset({\n",
       "        features: ['premise', 'hypothesis', 'label', 'idx'],\n",
       "        num_rows: 9832\n",
       "    })\n",
       "    test_matched: Dataset({\n",
       "        features: ['premise', 'hypothesis', 'label', 'idx'],\n",
       "        num_rows: 9796\n",
       "    })\n",
       "    test_mismatched: Dataset({\n",
       "        features: ['premise', 'hypothesis', 'label', 'idx'],\n",
       "        num_rows: 9847\n",
       "    })\n",
       "})"
      ]
     },
     "execution_count": 13,
     "metadata": {},
     "output_type": "execute_result"
    }
   ],
   "source": [
    "GLUE_TASKS = [\"cola\", \"mnli\", \"mnli-mm\", \"mrpc\", \"qnli\", \"qqp\", \"rte\", \"sst2\", \"stsb\", \"wnli\"]\n",
    "\n",
    "BATCH_SIZE = 8\n",
    "MAX_LENGTH = 128\n",
    "\n",
    "actual_task = \"mnli\" if TASK == \"mnli-mm\" else TASK\n",
    "dataset = datasets.load_dataset(\"glue\", actual_task)\n",
    "metric = datasets.load_metric('glue', actual_task)\n",
    "task_to_keys = {\n",
    "    \"cola\": (\"sentence\", None),\n",
    "    \"mnli\": (\"premise\", \"hypothesis\"),\n",
    "    \"mnli-mm\": (\"premise\", \"hypothesis\"),\n",
    "    \"mrpc\": (\"sentence1\", \"sentence2\"),\n",
    "    \"qnli\": (\"question\", \"sentence\"),\n",
    "    \"qqp\": (\"question1\", \"question2\"),\n",
    "    \"rte\": (\"sentence1\", \"sentence2\"),\n",
    "    \"sst2\": (\"sentence\", None),\n",
    "    \"stsb\": (\"sentence1\", \"sentence2\"),\n",
    "    \"wnli\": (\"sentence1\", \"sentence2\"),\n",
    "}\n",
    "SENTENCE1_KEY, SENTENCE2_KEY = task_to_keys[TASK]\n",
    "dataset"
   ]
  },
  {
   "cell_type": "code",
   "execution_count": 14,
   "metadata": {},
   "outputs": [],
   "source": [
    "def preprocess_function_wrapped(tokenizer):\n",
    "    def preprocess_function(examples):\n",
    "        # Tokenize the texts\n",
    "        args = (\n",
    "            (examples[SENTENCE1_KEY],) if SENTENCE2_KEY is None else (examples[SENTENCE1_KEY], examples[SENTENCE2_KEY])\n",
    "        )\n",
    "        result = tokenizer(*args, padding=False, max_length=MAX_LENGTH, truncation=True)\n",
    "        return result\n",
    "    return preprocess_function\n",
    "\n",
    "def token_id_to_tokens_mapper(tokenizer, sample):\n",
    "    length = len(sample[\"input_ids\"])\n",
    "    return tokenizer.convert_ids_to_tokens(sample[\"input_ids\"])[:length], length\n",
    "\n",
    "def save_pickle(obj, path):\n",
    "    pathlib.Path(os.path.dirname(path)).mkdir(parents=True, exist_ok=True) \n",
    "    with open(path, 'wb') as f:\n",
    "        pickle.dump(obj, f, protocol=pickle.HIGHEST_PROTOCOL)\n",
    "    print(f\"Saved {path}\")"
   ]
  },
  {
   "cell_type": "code",
   "execution_count": 17,
   "metadata": {
    "scrolled": false
   },
   "outputs": [
    {
     "data": {
      "application/vnd.jupyter.widget-view+json": {
       "model_id": "dce79ba9b99e4292b0cc17dc31cee305",
       "version_major": 2,
       "version_minor": 0
      },
      "text/plain": [
       "Models:   0%|          | 0/1 [00:00<?, ?it/s]"
      ]
     },
     "metadata": {},
     "output_type": "display_data"
    },
    {
     "data": {
      "application/vnd.jupyter.widget-view+json": {
       "model_id": "3777df2556134df6bcd19bdcc00019d7",
       "version_major": 2,
       "version_minor": 0
      },
      "text/plain": [
       "  0%|          | 0/10 [00:00<?, ?ba/s]"
      ]
     },
     "metadata": {},
     "output_type": "display_data"
    },
    {
     "data": {
      "application/vnd.jupyter.widget-view+json": {
       "model_id": "59f524cca0d24efcb5a6600a16018695",
       "version_major": 2,
       "version_minor": 0
      },
      "text/plain": [
       "Tokenize:   0%|          | 0/9815 [00:00<?, ?it/s]"
      ]
     },
     "metadata": {},
     "output_type": "display_data"
    },
    {
     "data": {
      "application/vnd.jupyter.widget-view+json": {
       "model_id": "2e36ed3ece8440ee9d95c813d9a273d3",
       "version_major": 2,
       "version_minor": 0
      },
      "text/plain": [
       "GlobEnc:   0%|          | 0/1227 [00:00<?, ?it/s]"
      ]
     },
     "metadata": {},
     "output_type": "display_data"
    },
    {
     "name": "stdout",
     "output_type": "stream",
     "text": [
      "Saved /home/modaresi/projects/globenc_analysis/outputs/globencs_elementwise_full/mnli-e5_validation_matched_-home-modaresi-projects-globenc_analysis-outputs-models-output_mnli_bert-base-uncased_0001_SEED0042-checkpoint-61360.pickle\n"
     ]
    }
   ],
   "source": [
    "for name, path in tqdm(MODELS.items(), desc=\"Models\"):\n",
    "    model = BertForSequenceClassification.from_pretrained(path)\n",
    "    tokenizer = AutoTokenizer.from_pretrained(path, use_fast=True, max_length=MAX_LENGTH)\n",
    "\n",
    "    sel_dataset = dataset[SET].map(preprocess_function_wrapped(tokenizer), batched=True, batch_size=1024)\n",
    "    dataset_size = len(sel_dataset)\n",
    "    steps = int(np.ceil(dataset_size / BATCH_SIZE))\n",
    "\n",
    "    globencs = {\"globenc\": [], \"tokens\": [], \"cls\": []}\n",
    "    lengths = []\n",
    "\n",
    "    for i in tqdm(range(dataset_size), desc=\"Tokenize\"):\n",
    "        tokens, length = token_id_to_tokens_mapper(tokenizer, sel_dataset[i])\n",
    "        globencs[\"tokens\"].append(tokens)\n",
    "        lengths.append(length)\n",
    "\n",
    "    generator = torch.Generator()\n",
    "    generator.manual_seed(int(torch.empty((), dtype=torch.int64).random_().item()))\n",
    "\n",
    "    sampler = LengthGroupedSampler(\n",
    "        BATCH_SIZE,\n",
    "        lengths=lengths,\n",
    "        model_input_name=tokenizer.model_input_names[0],\n",
    "        generator=generator,\n",
    "    )\n",
    "\n",
    "    collator = DataCollatorWithPadding(\n",
    "        tokenizer=tokenizer\n",
    "    )\n",
    "\n",
    "    sel_dataset = sel_dataset.add_column(\"length\", lengths)\n",
    "    sel_dataset.set_format(type=\"torch\", columns=[\"input_ids\", \"token_type_ids\", \"attention_mask\", \"length\", \"idx\"])\n",
    "\n",
    "    dataloader = DataLoader(\n",
    "                sel_dataset,\n",
    "                batch_size=BATCH_SIZE,\n",
    "                sampler=sampler,\n",
    "                collate_fn=collator\n",
    "    )\n",
    "\n",
    "    model.to(DEVICE)\n",
    "\n",
    "    it = iter(dataloader)\n",
    "\n",
    "    idxes = []\n",
    "    shuffled_globencs, shuffled_cls = [], []\n",
    "    with torch.no_grad():\n",
    "        for i in tqdm(range(steps), desc=\"GlobEnc\"):\n",
    "            batch = next(it)\n",
    "            input_batch = {k: batch[k].to(DEVICE) for k in [\"input_ids\", \"token_type_ids\", \"attention_mask\"]}\n",
    "            if SAVE_CLS:\n",
    "                logits, hidden_states, norms, _ = model(**input_batch, output_attentions=False,  \n",
    "                                                     return_dict=False, output_globenc=True, output_hidden_states=True)\n",
    "            else:\n",
    "                logits, norms = model(**input_batch, output_attentions=False,  \n",
    "                                                     return_dict=False, output_globenc=True, output_hidden_states=False)\n",
    "            globenc = norms.squeeze().cpu().numpy()\n",
    "            batch_lengths = batch[\"length\"].numpy()\n",
    "            idxes.extend(batch['idx'].tolist())\n",
    "            shuffled_globencs.extend([globenc[j][:batch_lengths[j],:batch_lengths[j]] for j in range(len(globenc))])\n",
    "            \n",
    "            if SAVE_CLS:\n",
    "                cls_repr = hidden_states[-1][:, 0, :].cpu().numpy()  # [13, batch, len, 768]\n",
    "                shuffled_cls.extend(cls_repr)\n",
    "    inverse_idxes = np.argsort(idxes)\n",
    "    globencs[\"globenc\"] = [shuffled_globencs[inverse_idxes[i]] for i in range(dataset_size)]\n",
    "    if SAVE_CLS:\n",
    "        globencs[\"cls\"] = [shuffled_cls[inverse_idxes[i]] for i in range(dataset_size)]\n",
    "    save_pickle(globencs, f\"{ROOT_DIR}/{name}_{SET}_{list(MODELS.values())[0].replace('/', '-')}.pickle\")"
   ]
  },
  {
   "cell_type": "code",
   "execution_count": 28,
   "metadata": {},
   "outputs": [
    {
     "name": "stdout",
     "output_type": "stream",
     "text": [
      "{'premise': \"Calcutta seems to be the only other production center having any pretensions to artistic creativity at all, but ironically you're actually more likely to see the works of Satyajit Ray or Mrinal Sen shown in Europe or North America than in India itself.\", 'hypothesis': \"Most of Mrinal Sen's work can be found in European collections.\", 'label': 1, 'idx': 7}\n",
      "['[CLS]', 'calcutta', 'seems', 'to', 'be', 'the', 'only', 'other', 'production', 'center', 'having', 'any', 'pre', '##tension', '##s', 'to', 'artistic', 'creativity', 'at', 'all', ',', 'but', 'ironically', 'you', \"'\", 're', 'actually', 'more', 'likely', 'to', 'see', 'the', 'works', 'of', 'sat', '##ya', '##jit', 'ray', 'or', 'mri', '##nal', 'sen', 'shown', 'in', 'europe', 'or', 'north', 'america', 'than', 'in', 'india', 'itself', '.', '[SEP]', 'most', 'of', 'mri', '##nal', 'sen', \"'\", 's', 'work', 'can', 'be', 'found', 'in', 'european', 'collections', '.', '[SEP]']\n",
      "[0.25948188 0.05316531 0.03512719 0.01616167 0.02574688 0.02765952\n",
      " 0.06827066 0.04734108 0.04030926 0.05876353 0.01622736 0.04148386\n",
      " 0.03350316 0.03399115 0.01044605 0.01172803 0.07899389 0.03688163\n",
      " 0.02043569 0.01533769 0.01571108 0.0475877  0.05865931 0.0856687\n",
      " 0.02466248 0.0183686  0.0757493  0.12953773 0.10298268 0.04300625\n",
      " 0.05823825 0.03839971 0.06777971 0.02819466 0.0154896  0.02026767\n",
      " 0.04602135 0.03591597 0.14775519 0.02558085 0.03473759 0.03453648\n",
      " 0.16371593 0.04513748 0.23859593 0.08161776 0.03629316 0.04409396\n",
      " 0.10638443 0.03124364 0.04409318 0.05770203 0.02508889 0.2076704\n",
      " 1.         0.12780924 0.03051989 0.03513265 0.03358741 0.03157428\n",
      " 0.04522666 0.07628478 0.10926504 0.05683172 0.10769604 0.06258979\n",
      " 0.21241966 0.4203818  0.06646583 0.22350575]\n"
     ]
    },
    {
     "data": {
      "text/plain": [
       "<AxesSubplot:>"
      ]
     },
     "execution_count": 28,
     "metadata": {},
     "output_type": "execute_result"
    },
    {
     "data": {
      "image/png": "[encoded data removed]",
      "text/plain": [
       "<Figure size 432x288 with 2 Axes>"
      ]
     },
     "metadata": {
      "needs_background": "light"
     },
     "output_type": "display_data"
    }
   ],
   "source": [
    "from seaborn import heatmap\n",
    "idx = 7\n",
    "print(dataset[SET][idx])\n",
    "print(globencs[\"tokens\"][idx])\n",
    "print(globencs[\"globenc\"][idx][0] / globencs[\"globenc\"][idx][0].max())\n",
    "heatmap(globencs[\"globenc\"][idx])"
   ]
  },
  {
   "cell_type": "code",
   "execution_count": 6,
   "metadata": {},
   "outputs": [
    {
     "name": "stdout",
     "output_type": "stream",
     "text": [
      "a\n"
     ]
    }
   ],
   "source": [
    "print(\"a\")"
   ]
  },
  {
   "cell_type": "code",
   "execution_count": 12,
   "metadata": {},
   "outputs": [
    {
     "data": {
      "application/vnd.jupyter.widget-view+json": {
       "model_id": "9aafc14c9697448b86cbc721816cf1f3",
       "version_major": 2,
       "version_minor": 0
      },
      "text/plain": [
       "GlobEnc:   0%|          | 0/2807 [00:00<?, ?it/s]"
      ]
     },
     "metadata": {},
     "output_type": "display_data"
    },
    {
     "ename": "KeyboardInterrupt",
     "evalue": "",
     "output_type": "error",
     "traceback": [
      "\u001b[0;31m---------------------------------------------------------------------------\u001b[0m",
      "\u001b[0;31mKeyboardInterrupt\u001b[0m                         Traceback (most recent call last)",
      "\u001b[0;32m/tmp/ipykernel_4160127/3142391982.py\u001b[0m in \u001b[0;36m<module>\u001b[0;34m\u001b[0m\n\u001b[1;32m     13\u001b[0m             logits, norms = model(**input_batch, output_attentions=False, output_norms=False, \n\u001b[1;32m     14\u001b[0m                                                     return_dict=False, output_globenc=True, output_hidden_states=False)\n\u001b[0;32m---> 15\u001b[0;31m         \u001b[0mglobenc\u001b[0m \u001b[0;34m=\u001b[0m \u001b[0mnorms\u001b[0m\u001b[0;34m.\u001b[0m\u001b[0msqueeze\u001b[0m\u001b[0;34m(\u001b[0m\u001b[0;34m)\u001b[0m\u001b[0;34m.\u001b[0m\u001b[0mcpu\u001b[0m\u001b[0;34m(\u001b[0m\u001b[0;34m)\u001b[0m\u001b[0;34m.\u001b[0m\u001b[0mnumpy\u001b[0m\u001b[0;34m(\u001b[0m\u001b[0;34m)\u001b[0m\u001b[0;34m\u001b[0m\u001b[0;34m\u001b[0m\u001b[0m\n\u001b[0m\u001b[1;32m     16\u001b[0m         \u001b[0mbatch_lengths\u001b[0m \u001b[0;34m=\u001b[0m \u001b[0mbatch\u001b[0m\u001b[0;34m[\u001b[0m\u001b[0;34m\"length\"\u001b[0m\u001b[0;34m]\u001b[0m\u001b[0;34m.\u001b[0m\u001b[0mnumpy\u001b[0m\u001b[0;34m(\u001b[0m\u001b[0;34m)\u001b[0m\u001b[0;34m\u001b[0m\u001b[0;34m\u001b[0m\u001b[0m\n\u001b[1;32m     17\u001b[0m         \u001b[0midxes\u001b[0m\u001b[0;34m.\u001b[0m\u001b[0mextend\u001b[0m\u001b[0;34m(\u001b[0m\u001b[0mbatch\u001b[0m\u001b[0;34m[\u001b[0m\u001b[0;34m'idx'\u001b[0m\u001b[0;34m]\u001b[0m\u001b[0;34m.\u001b[0m\u001b[0mtolist\u001b[0m\u001b[0;34m(\u001b[0m\u001b[0;34m)\u001b[0m\u001b[0;34m)\u001b[0m\u001b[0;34m\u001b[0m\u001b[0;34m\u001b[0m\u001b[0m\n",
      "\u001b[0;31mKeyboardInterrupt\u001b[0m: "
     ]
    }
   ],
   "source": [
    "it = iter(dataloader)\n",
    "\n",
    "idxes = []\n",
    "shuffled_globencs, shuffled_cls = [], []\n",
    "with torch.no_grad():\n",
    "    for i in tqdm(range(steps), desc=\"GlobEnc\"):\n",
    "        batch = next(it)\n",
    "        input_batch = {k: batch[k].to(DEVICE) for k in [\"input_ids\", \"token_type_ids\", \"attention_mask\"]}\n",
    "        if SAVE_CLS:\n",
    "            logits, hidden_states, norms = model(**input_batch, output_attentions=False, output_norms=False, \n",
    "                                                    return_dict=False, output_globenc=True, output_hidden_states=True)\n",
    "        else:\n",
    "            logits, norms = model(**input_batch, output_attentions=False, output_norms=False, \n",
    "                                                    return_dict=False, output_globenc=True, output_hidden_states=False)\n",
    "        globenc = norms.squeeze().cpu().numpy()\n",
    "        batch_lengths = batch[\"length\"].numpy()\n",
    "        idxes.extend(batch['idx'].tolist())\n",
    "        shuffled_globencs.extend([globenc[j][:batch_lengths[j],:batch_lengths[j]] for j in range(len(globenc))])"
   ]
  },
  {
   "cell_type": "code",
   "execution_count": 7,
   "metadata": {},
   "outputs": [
    {
     "name": "stdout",
     "output_type": "stream",
     "text": [
      "Saved /home/modaresi/projects/globenc_analysis/outputs/globencs_elementwise/sst2-e5_validation_bert-base-uncased.pickle\n"
     ]
    }
   ],
   "source": [
    "save_pickle(globencs, f\"{ROOT_DIR}/sst2-e5_validation_bert-base-uncased.pickle\")"
   ]
  },
  {
   "cell_type": "code",
   "execution_count": null,
   "metadata": {},
   "outputs": [],
   "source": []
  }
 ],
 "metadata": {
  "kernelspec": {
   "display_name": "Python 3 (ipykernel)",
   "language": "python",
   "name": "python3"
  },
  "language_info": {
   "codemirror_mode": {
    "name": "ipython",
    "version": 3
   },
   "file_extension": ".py",
   "mimetype": "text/x-python",
   "name": "python",
   "nbconvert_exporter": "python",
   "pygments_lexer": "ipython3",
   "version": "3.7.13 (default, Mar 29 2022, 02:18:16) \n[GCC 7.5.0]"
  },
  "vscode": {
   "interpreter": {
    "hash": "ad96aab5654ccd4e66bf13bd728d9d4512a27ebcee40fc973a7275c9c55ebd75"
   }
  }
 },
 "nbformat": 4,
 "nbformat_minor": 2
}
