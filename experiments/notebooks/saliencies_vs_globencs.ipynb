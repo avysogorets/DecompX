{
 "cells": [
  {
   "cell_type": "code",
   "execution_count": 8,
   "id": "a601f14e",
   "metadata": {},
   "outputs": [],
   "source": [
    "import torch\n",
    "import numpy as np\n",
    "from transformers import AutoTokenizer, BertTokenizer\n",
    "from datasets import load_dataset\n",
    "from tqdm.notebook import tqdm\n",
    "from importlib import reload\n",
    "import matplotlib.pyplot as plt\n",
    "import pickle\n",
    "import lzma\n",
    "import yaml\n",
    "import pandas as pd\n",
    "from scipy.stats import spearmanr, pearsonr\n",
    "\n",
    "# SELECTED_GPU = 0\n",
    "# if torch.cuda.is_available():\n",
    "#     # Tell PyTorch to use the GPU.    \n",
    "#     device = torch.device(\"cuda:{}\".format(SELECTED_GPU))\n",
    "#     print('There are %d GPU(s) available.' % torch.cuda.device_count())\n",
    "#     print('We will use the GPU:', torch.cuda.get_device_name(SELECTED_GPU))\n",
    "# else:\n",
    "#     device = \"cpu\"\n",
    "\n",
    "globencs_v2_dir = \"/home/modaresi/projects/globenc_analysis/outputs/globencs_elementwise\"\n",
    "globencs_dir = \"/home/modaresi/projects/globenc_analysis/outputs/globencs\"\n",
    "saliencies_dir = \"/home/modaresi/projects/globenc_analysis/outputs/saliencies\"\n",
    "configs = {\n",
    "    \"mnli-val\": {\n",
    "        \"globenc_path\": lambda epoch : f\"{globencs_dir}/mnli-e{epoch}_validation_matched_bert-base-uncased.pickle\",\n",
    "        \"globenc_v2_path\": lambda epoch : f\"{globencs_v2_dir}/mnli-e{epoch}_validation_matched_bert-base-uncased.pickle\",\n",
    "        \"saliency_path\": lambda step : f\"{saliencies_dir}/mnli_bert-base-uncased_0001_SEED0042_checkpoint-{step}.npy\",\n",
    "        \"hf_ds\": \"mnli\",\n",
    "    },\n",
    "    \"sst2-val\": {\n",
    "        \"globenc_path\": lambda epoch : f\"{globencs_dir}/sst2-e{epoch}_validation_bert-base-uncased.pickle\",\n",
    "        \"globenc_v2_path\": lambda epoch : f\"{globencs_v2_dir}/sst2-e{epoch}_validation_bert-base-uncased.pickle\",\n",
    "        \"saliency_path\": lambda step : f\"{saliencies_dir}/sst2_bert-base-uncased_0001_SEED0042_checkpoint-{step}.npy\",\n",
    "        \"hf_ds\": \"mnli\",\n",
    "    }\n",
    "}\n",
    "\n",
    "CONFIG_NAME = \"mnli-val\"\n",
    "CONFIG = configs[CONFIG_NAME]\n",
    "EPOCH = 5\n",
    "STEP = 61360"
   ]
  },
  {
   "cell_type": "code",
   "execution_count": 2,
   "id": "bfea2c9b",
   "metadata": {},
   "outputs": [],
   "source": [
    "def load_pickle(path, no_cls=False, no_sep=False):\n",
    "    with open(path, 'rb') as f:\n",
    "        data = pickle.load(f)\n",
    "    if no_cls:\n",
    "        data[\"tokens\"] = [d[1:] for d in data[\"tokens\"]]\n",
    "        data[\"globenc\"] = [np.array(d)[:, 1:] for d in data[\"globenc\"]]\n",
    "    if no_sep:\n",
    "        data[\"tokens\"] = [d[:-1] for d in data[\"tokens\"]]\n",
    "        data[\"globenc\"] = [np.array(d)[:, :-1] for d in data[\"globenc\"]]\n",
    "    data = pd.DataFrame(data)\n",
    "    before_size = len(data)\n",
    "    data = data[data[\"tokens\"].map(len) > 1]\n",
    "    after_size = len(data)\n",
    "    print(f\"Read {path}: {before_size}->{after_size} \")\n",
    "    return data.to_dict(orient=\"list\"), data.index"
   ]
  },
  {
   "cell_type": "code",
   "execution_count": 3,
   "id": "fb116889",
   "metadata": {},
   "outputs": [
    {
     "name": "stdout",
     "output_type": "stream",
     "text": [
      "Read /home/modaresi/projects/globenc_analysis/outputs/globencs/mnli-e5_validation_matched_bert-base-uncased.pickle: 9815->9815 \n"
     ]
    }
   ],
   "source": [
    "globencs, DATASET_KEEP_IDX = load_pickle(CONFIG[\"globenc_path\"](EPOCH), no_cls=True, no_sep=True)"
   ]
  },
  {
   "cell_type": "code",
   "execution_count": 4,
   "id": "de141b72",
   "metadata": {},
   "outputs": [
    {
     "data": {
      "text/plain": [
       "(9815, 128)"
      ]
     },
     "execution_count": 4,
     "metadata": {},
     "output_type": "execute_result"
    }
   ],
   "source": [
    "saliencies = np.load(CONFIG[\"saliency_path\"](STEP))\n",
    "saliencies.shape"
   ]
  },
  {
   "cell_type": "code",
   "execution_count": 5,
   "id": "a2b343f4",
   "metadata": {},
   "outputs": [
    {
     "data": {
      "application/vnd.jupyter.widget-view+json": {
       "model_id": "b46e7db436504a42927d2c28759fa24f",
       "version_major": 2,
       "version_minor": 0
      },
      "text/plain": [
       "  0%|          | 0/9815 [00:00<?, ?it/s]"
      ]
     },
     "metadata": {},
     "output_type": "display_data"
    }
   ],
   "source": [
    "spearmans = []\n",
    "\n",
    "for i in tqdm(range(len(saliencies))):\n",
    "    zero_indices = np.where(saliencies[i]==0.0)[0]\n",
    "    spearmans.append(pearsonr(\n",
    "        globencs[\"globenc\"][i][0],\n",
    "        saliencies[i][1:zero_indices[0]-1 if len(zero_indices) > 0 else len(saliencies[i])-1]\n",
    "    )[0])"
   ]
  },
  {
   "cell_type": "code",
   "execution_count": 6,
   "id": "948461b3",
   "metadata": {},
   "outputs": [
    {
     "data": {
      "text/plain": [
       "0.7334786331446184"
      ]
     },
     "execution_count": 6,
     "metadata": {},
     "output_type": "execute_result"
    }
   ],
   "source": [
    "np.mean(spearmans)"
   ]
  },
  {
   "cell_type": "code",
   "execution_count": 9,
   "id": "f0ec3734",
   "metadata": {},
   "outputs": [
    {
     "data": {
      "text/plain": [
       "{'whiskers': [<matplotlib.lines.Line2D at 0x7f8cf15ab790>,\n",
       "  <matplotlib.lines.Line2D at 0x7f8cf15aba90>],\n",
       " 'caps': [<matplotlib.lines.Line2D at 0x7f8cf15abdd0>,\n",
       "  <matplotlib.lines.Line2D at 0x7f8cf1547150>],\n",
       " 'boxes': [<matplotlib.lines.Line2D at 0x7f8cf15ab550>],\n",
       " 'medians': [<matplotlib.lines.Line2D at 0x7f8cf15474d0>],\n",
       " 'fliers': [<matplotlib.lines.Line2D at 0x7f8cf1547810>],\n",
       " 'means': []}"
      ]
     },
     "execution_count": 9,
     "metadata": {},
     "output_type": "execute_result"
    },
    {
     "data": {
      "image/png": "[encoded data removed]",
      "text/plain": [
       "<Figure size 432x288 with 1 Axes>"
      ]
     },
     "metadata": {
      "needs_background": "light"
     },
     "output_type": "display_data"
    }
   ],
   "source": [
    "plt.boxplot(spearmans)"
   ]
  },
  {
   "cell_type": "code",
   "execution_count": 10,
   "id": "aabd711c",
   "metadata": {},
   "outputs": [
    {
     "name": "stdout",
     "output_type": "stream",
     "text": [
      "Read /home/modaresi/projects/globenc_analysis/outputs/globencs_elementwise/mnli-e5_validation_matched_bert-base-uncased.pickle: 9815->9815 \n"
     ]
    }
   ],
   "source": [
    "globencs_v2, DATASET_KEEP_IDX = load_pickle(CONFIG[\"globenc_v2_path\"](EPOCH), no_cls=True, no_sep=True)"
   ]
  },
  {
   "cell_type": "code",
   "execution_count": 14,
   "id": "d4619683",
   "metadata": {},
   "outputs": [
    {
     "data": {
      "application/vnd.jupyter.widget-view+json": {
       "model_id": "817ca5e41f5d4447ab80b6063b780ce5",
       "version_major": 2,
       "version_minor": 0
      },
      "text/plain": [
       "  0%|          | 0/9815 [00:00<?, ?it/s]"
      ]
     },
     "metadata": {},
     "output_type": "display_data"
    }
   ],
   "source": [
    "spearmans = []\n",
    "\n",
    "for i in tqdm(range(len(saliencies))):\n",
    "    zero_indices = np.where(saliencies[i]==0.0)[0]\n",
    "    spearmans.append(pearsonr(\n",
    "        globencs_v2[\"globenc\"][i][0],\n",
    "        saliencies[i][1:zero_indices[0]-1 if len(zero_indices) > 0 else len(saliencies[i])-1]\n",
    "    )[0])"
   ]
  },
  {
   "cell_type": "code",
   "execution_count": 15,
   "id": "752d5f93",
   "metadata": {},
   "outputs": [
    {
     "data": {
      "text/plain": [
       "0.6919210087977724"
      ]
     },
     "execution_count": 15,
     "metadata": {},
     "output_type": "execute_result"
    }
   ],
   "source": [
    "np.mean(spearmans)"
   ]
  },
  {
   "cell_type": "code",
   "execution_count": 16,
   "id": "beda867b",
   "metadata": {},
   "outputs": [
    {
     "data": {
      "text/plain": [
       "{'whiskers': [<matplotlib.lines.Line2D at 0x7f8cf051e710>,\n",
       "  <matplotlib.lines.Line2D at 0x7f8cf0521c10>],\n",
       " 'caps': [<matplotlib.lines.Line2D at 0x7f8cf0525290>,\n",
       "  <matplotlib.lines.Line2D at 0x7f8cf052a050>],\n",
       " 'boxes': [<matplotlib.lines.Line2D at 0x7f8cf051b950>],\n",
       " 'medians': [<matplotlib.lines.Line2D at 0x7f8cf052d0d0>],\n",
       " 'fliers': [<matplotlib.lines.Line2D at 0x7f8cf0531c50>],\n",
       " 'means': []}"
      ]
     },
     "execution_count": 16,
     "metadata": {},
     "output_type": "execute_result"
    },
    {
     "data": {
      "image/png": "[encoded data removed]",
      "text/plain": [
       "<Figure size 432x288 with 1 Axes>"
      ]
     },
     "metadata": {
      "needs_background": "light"
     },
     "output_type": "display_data"
    }
   ],
   "source": [
    "plt.boxplot(spearmans)"
   ]
  },
  {
   "cell_type": "code",
   "execution_count": 37,
   "id": "bbb263a6",
   "metadata": {},
   "outputs": [
    {
     "data": {
      "text/plain": [
       "array([0.15651974, 0.07549041, 0.17119136, 0.07975227, 0.06964646,\n",
       "       0.0764088 , 0.07232241, 0.08714885, 0.08571834, 0.12580132],\n",
       "      dtype=float32)"
      ]
     },
     "execution_count": 37,
     "metadata": {},
     "output_type": "execute_result"
    }
   ],
   "source": [
    "globencs_v2[\"globenc\"][2273][0] / globencs_v2[\"globenc\"][2273][0].sum()"
   ]
  },
  {
   "cell_type": "code",
   "execution_count": 36,
   "id": "df4c751f",
   "metadata": {},
   "outputs": [
    {
     "data": {
      "text/plain": [
       "array([0.10450382, 0.13512684, 0.10423704, 0.13808046, 0.07613528,\n",
       "       0.1273203 , 0.11021214, 0.06423578, 0.10371768, 0.03643072],\n",
       "      dtype=float32)"
      ]
     },
     "execution_count": 36,
     "metadata": {},
     "output_type": "execute_result"
    }
   ],
   "source": [
    "saliencies[2273][1:11] / saliencies[2273][1:11].sum()"
   ]
  },
  {
   "cell_type": "code",
   "execution_count": 39,
   "id": "96015615",
   "metadata": {},
   "outputs": [
    {
     "data": {
      "text/plain": [
       "['football',\n",
       " 'and',\n",
       " 'baseball',\n",
       " 'and',\n",
       " '[SEP]',\n",
       " 'both',\n",
       " 'football',\n",
       " 'and',\n",
       " 'baseball',\n",
       " '.']"
      ]
     },
     "execution_count": 39,
     "metadata": {},
     "output_type": "execute_result"
    }
   ],
   "source": [
    "globencs_v2[\"tokens\"][2273]"
   ]
  },
  {
   "cell_type": "code",
   "execution_count": 22,
   "id": "8912c845",
   "metadata": {},
   "outputs": [
    {
     "data": {
      "text/plain": [
       "{'whiskers': [<matplotlib.lines.Line2D at 0x7f4830f96590>,\n",
       "  <matplotlib.lines.Line2D at 0x7f4830f96890>],\n",
       " 'caps': [<matplotlib.lines.Line2D at 0x7f4830f96c10>,\n",
       "  <matplotlib.lines.Line2D at 0x7f4830f96f50>],\n",
       " 'boxes': [<matplotlib.lines.Line2D at 0x7f4830f96350>],\n",
       " 'medians': [<matplotlib.lines.Line2D at 0x7f4830f97350>],\n",
       " 'fliers': [<matplotlib.lines.Line2D at 0x7f4830f97690>],\n",
       " 'means': []}"
      ]
     },
     "execution_count": 22,
     "metadata": {},
     "output_type": "execute_result"
    },
    {
     "data": {
      "image/png": "[encoded data removed]",
      "text/plain": [
       "<Figure size 432x288 with 1 Axes>"
      ]
     },
     "metadata": {
      "needs_background": "light"
     },
     "output_type": "display_data"
    }
   ],
   "source": [
    "import matplotlib.pyplot as plt\n",
    "plt.boxplot(spearmans)"
   ]
  },
  {
   "cell_type": "code",
   "execution_count": 27,
   "id": "51d2fba7",
   "metadata": {},
   "outputs": [
    {
     "data": {
      "text/plain": [
       "0.7232285951572017"
      ]
     },
     "execution_count": 27,
     "metadata": {},
     "output_type": "execute_result"
    }
   ],
   "source": [
    "np.median(spearmans)"
   ]
  },
  {
   "cell_type": "code",
   "execution_count": null,
   "id": "acd60105",
   "metadata": {},
   "outputs": [],
   "source": []
  }
 ],
 "metadata": {
  "kernelspec": {
   "display_name": "Python 3.7.13 ('globenc-venv')",
   "language": "python",
   "name": "python3"
  },
  "language_info": {
   "codemirror_mode": {
    "name": "ipython",
    "version": 3
   },
   "file_extension": ".py",
   "mimetype": "text/x-python",
   "name": "python",
   "nbconvert_exporter": "python",
   "pygments_lexer": "ipython3",
   "version": "3.7.13"
  },
  "vscode": {
   "interpreter": {
    "hash": "ad96aab5654ccd4e66bf13bd728d9d4512a27ebcee40fc973a7275c9c55ebd75"
   }
  }
 },
 "nbformat": 4,
 "nbformat_minor": 5
}
