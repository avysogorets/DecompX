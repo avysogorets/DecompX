{
 "cells": [
  {
   "cell_type": "code",
   "execution_count": 10,
   "metadata": {},
   "outputs": [],
   "source": [
    "import numpy as np\n",
    "import datasets\n",
    "import pickle\n",
    "import pathlib\n",
    "import os\n",
    "from scipy import stats\n",
    "from tqdm.auto import tqdm\n",
    "import seaborn as sns\n",
    "import matplotlib\n",
    "import matplotlib.pyplot as plt\n",
    "import pandas as pd\n",
    "from IPython.display import display, HTML\n",
    "from datasets import load_dataset\n",
    "\n",
    "configs = {\n",
    "    \"sst2\": {\n",
    "        \"globenc_path\": lambda epoch : f\"/home/modaresi/projects/globenc_analysis/outputs/globencs_elementwise/sst2-e{epoch}_train_bert-base-uncased.pickle\",\n",
    "        \"logits_path\": \"/home/modaresi/projects/globenc_analysis/outputs/models/output_sst2_bert-base-uncased_0001_SEED0042/training_dynamics_after_step/\",\n",
    "        \"hf_ds\": \"sst2\",\n",
    "    },\n",
    "    \"mnli\": {\n",
    "        \"globenc_path\": lambda epoch : f\"/home/modaresi/projects/globenc_analysis/outputs/globencs_elementwise/mnli-e{epoch}_train_bert-base-uncased.pickle\",\n",
    "        \"logits_path\": \"/home/modaresi/projects/globenc_analysis/outputs/models/output_mnli_bert-base-uncased_0001_SEED0042/training_dynamics_after_epoch\",\n",
    "        \"hf_ds\": \"mnli\",\n",
    "    }\n",
    "}\n",
    "\n",
    "CONFIG = configs[\"sst2\"]  # sst2/mnli"
   ]
  },
  {
   "cell_type": "code",
   "execution_count": 11,
   "metadata": {},
   "outputs": [],
   "source": [
    "def load_pickle(path):\n",
    "    with open(path, 'rb') as f:\n",
    "        data = pickle.load(f)\n",
    "    print(f\"Read {path}\")\n",
    "    return data"
   ]
  },
  {
   "cell_type": "code",
   "execution_count": 12,
   "metadata": {},
   "outputs": [
    {
     "data": {
      "application/vnd.jupyter.widget-view+json": {
       "model_id": "80606e76d5de4c98a4cc56b3ec94c162",
       "version_major": 2,
       "version_minor": 0
      },
      "text/plain": [
       "  0%|          | 0/6 [00:00<?, ?it/s]"
      ]
     },
     "metadata": {},
     "output_type": "display_data"
    },
    {
     "name": "stdout",
     "output_type": "stream",
     "text": [
      "Read /home/modaresi/projects/globenc_analysis/outputs/globencs_elementwise/sst2-e0_train_bert-base-uncased.pickle\n",
      "Read /home/modaresi/projects/globenc_analysis/outputs/globencs_elementwise/sst2-e1_train_bert-base-uncased.pickle\n",
      "Read /home/modaresi/projects/globenc_analysis/outputs/globencs_elementwise/sst2-e2_train_bert-base-uncased.pickle\n",
      "Read /home/modaresi/projects/globenc_analysis/outputs/globencs_elementwise/sst2-e3_train_bert-base-uncased.pickle\n",
      "Read /home/modaresi/projects/globenc_analysis/outputs/globencs_elementwise/sst2-e4_train_bert-base-uncased.pickle\n",
      "Read /home/modaresi/projects/globenc_analysis/outputs/globencs_elementwise/sst2-e5_train_bert-base-uncased.pickle\n"
     ]
    }
   ],
   "source": [
    "globencs = list()  # [epoch, {globenc, tokens}, #]\n",
    "for epoch in tqdm(range(6)):\n",
    "    data = load_pickle(CONFIG[\"globenc_path\"](epoch))\n",
    "    globencs.append(data)"
   ]
  },
  {
   "cell_type": "code",
   "execution_count": 13,
   "metadata": {},
   "outputs": [
    {
     "data": {
      "text/plain": [
       "(67349, 64)"
      ]
     },
     "execution_count": 13,
     "metadata": {},
     "output_type": "execute_result"
    }
   ],
   "source": [
    "sals = np.load(\"sst2_train_sals.npy\")\n",
    "sals.shape"
   ]
  },
  {
   "cell_type": "code",
   "execution_count": 25,
   "metadata": {},
   "outputs": [
    {
     "data": {
      "application/vnd.jupyter.widget-view+json": {
       "model_id": "f3771d5b9cb949ca8adb4d4dfe5068db",
       "version_major": 2,
       "version_minor": 0
      },
      "text/plain": [
       "  0%|          | 0/67349 [00:00<?, ?it/s]"
      ]
     },
     "metadata": {},
     "output_type": "display_data"
    }
   ],
   "source": [
    "spearmans = []\n",
    "for i in tqdm(range(len(sals))):\n",
    "    globenc_i = globencs[-1][\"globenc\"][i][0]\n",
    "    length = min(len(globenc_i), 64)\n",
    "    spearmans.append(stats.spearmanr(sals[i, 1:length], globenc_i[1:length])[0])"
   ]
  },
  {
   "cell_type": "code",
   "execution_count": 31,
   "metadata": {},
   "outputs": [
    {
     "data": {
      "text/plain": [
       "<AxesSubplot:>"
      ]
     },
     "execution_count": 31,
     "metadata": {},
     "output_type": "execute_result"
    },
    {
     "data": {
      "image/png": "[encoded data removed]",
      "text/plain": [
       "<Figure size 432x288 with 2 Axes>"
      ]
     },
     "metadata": {
      "needs_background": "light"
     },
     "output_type": "display_data"
    }
   ],
   "source": [
    "from seaborn import heatmap\n",
    "\n",
    "heatmap(globencs[-1][\"globenc\"][120])"
   ]
  },
  {
   "cell_type": "code",
   "execution_count": null,
   "metadata": {},
   "outputs": [],
   "source": []
  }
 ],
 "metadata": {
  "kernelspec": {
   "display_name": "Python 3.7.13 ('globenc-venv')",
   "language": "python",
   "name": "python3"
  },
  "language_info": {
   "codemirror_mode": {
    "name": "ipython",
    "version": 3
   },
   "file_extension": ".py",
   "mimetype": "text/x-python",
   "name": "python",
   "nbconvert_exporter": "python",
   "pygments_lexer": "ipython3",
   "version": "3.7.13"
  },
  "orig_nbformat": 4,
  "vscode": {
   "interpreter": {
    "hash": "ad96aab5654ccd4e66bf13bd728d9d4512a27ebcee40fc973a7275c9c55ebd75"
   }
  }
 },
 "nbformat": 4,
 "nbformat_minor": 2
}
