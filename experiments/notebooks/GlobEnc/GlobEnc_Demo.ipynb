{
  "nbformat": 4,
  "nbformat_minor": 0,
  "metadata": {
    "colab": {
      "name": "GlobEnc_Demo.ipynb",
      "provenance": [],
      "collapsed_sections": [],
      "authorship_tag": "ABX9TyOyb0S+fBjQ2wrgucmm8WUV",
      "include_colab_link": true
    },
    "kernelspec": {
      "name": "python3",
      "display_name": "Python 3"
    },
    "language_info": {
      "name": "python"
    },
    "widgets": {
      "application/vnd.jupyter.widget-state+json": {
        "77850b8b86e14ce4836a6757995d8b02": {
          "model_module": "@jupyter-widgets/controls",
          "model_name": "HBoxModel",
          "model_module_version": "1.5.0",
          "state": {
            "_dom_classes": [],
            "_model_module": "@jupyter-widgets/controls",
            "_model_module_version": "1.5.0",
            "_model_name": "HBoxModel",
            "_view_count": null,
            "_view_module": "@jupyter-widgets/controls",
            "_view_module_version": "1.5.0",
            "_view_name": "HBoxView",
            "box_style": "",
            "children": [
              "IPY_MODEL_a422f2f8005a4d3cac767dfbe60cee56",
              "IPY_MODEL_174a3e64950142298a42e506c38850cf",
              "IPY_MODEL_e41c7430e57a4f6d8b2197dc57a93977"
            ],
            "layout": "IPY_MODEL_4107c1e4579e4f169470a2185c26b1de"
          }
        },
        "a422f2f8005a4d3cac767dfbe60cee56": {
          "model_module": "@jupyter-widgets/controls",
          "model_name": "HTMLModel",
          "model_module_version": "1.5.0",
          "state": {
            "_dom_classes": [],
            "_model_module": "@jupyter-widgets/controls",
            "_model_module_version": "1.5.0",
            "_model_name": "HTMLModel",
            "_view_count": null,
            "_view_module": "@jupyter-widgets/controls",
            "_view_module_version": "1.5.0",
            "_view_name": "HTMLView",
            "description": "",
            "description_tooltip": null,
            "layout": "IPY_MODEL_78880489405e4313b5aff33d503ae7b1",
            "placeholder": "​",
            "style": "IPY_MODEL_a574c9dae2d149bab8bcfe5899db1e55",
            "value": "100%"
          }
        },
        "174a3e64950142298a42e506c38850cf": {
          "model_module": "@jupyter-widgets/controls",
          "model_name": "FloatProgressModel",
          "model_module_version": "1.5.0",
          "state": {
            "_dom_classes": [],
            "_model_module": "@jupyter-widgets/controls",
            "_model_module_version": "1.5.0",
            "_model_name": "FloatProgressModel",
            "_view_count": null,
            "_view_module": "@jupyter-widgets/controls",
            "_view_module_version": "1.5.0",
            "_view_name": "ProgressView",
            "bar_style": "success",
            "description": "",
            "description_tooltip": null,
            "layout": "IPY_MODEL_c53a924c9e6743db83783adf1b6be39d",
            "max": 1,
            "min": 0,
            "orientation": "horizontal",
            "style": "IPY_MODEL_fc114bc4a07a4eb9873c1ac447b176c9",
            "value": 1
          }
        },
        "e41c7430e57a4f6d8b2197dc57a93977": {
          "model_module": "@jupyter-widgets/controls",
          "model_name": "HTMLModel",
          "model_module_version": "1.5.0",
          "state": {
            "_dom_classes": [],
            "_model_module": "@jupyter-widgets/controls",
            "_model_module_version": "1.5.0",
            "_model_name": "HTMLModel",
            "_view_count": null,
            "_view_module": "@jupyter-widgets/controls",
            "_view_module_version": "1.5.0",
            "_view_name": "HTMLView",
            "description": "",
            "description_tooltip": null,
            "layout": "IPY_MODEL_8424ab34c6474d92940164bb112699ee",
            "placeholder": "​",
            "style": "IPY_MODEL_de1fafa4383b42e6ae80670705df85b1",
            "value": " 1/1 [00:00&lt;00:00, 18.25it/s]"
          }
        },
        "4107c1e4579e4f169470a2185c26b1de": {
          "model_module": "@jupyter-widgets/base",
          "model_name": "LayoutModel",
          "model_module_version": "1.2.0",
          "state": {
            "_model_module": "@jupyter-widgets/base",
            "_model_module_version": "1.2.0",
            "_model_name": "LayoutModel",
            "_view_count": null,
            "_view_module": "@jupyter-widgets/base",
            "_view_module_version": "1.2.0",
            "_view_name": "LayoutView",
            "align_content": null,
            "align_items": null,
            "align_self": null,
            "border": null,
            "bottom": null,
            "display": null,
            "flex": null,
            "flex_flow": null,
            "grid_area": null,
            "grid_auto_columns": null,
            "grid_auto_flow": null,
            "grid_auto_rows": null,
            "grid_column": null,
            "grid_gap": null,
            "grid_row": null,
            "grid_template_areas": null,
            "grid_template_columns": null,
            "grid_template_rows": null,
            "height": null,
            "justify_content": null,
            "justify_items": null,
            "left": null,
            "margin": null,
            "max_height": null,
            "max_width": null,
            "min_height": null,
            "min_width": null,
            "object_fit": null,
            "object_position": null,
            "order": null,
            "overflow": null,
            "overflow_x": null,
            "overflow_y": null,
            "padding": null,
            "right": null,
            "top": null,
            "visibility": null,
            "width": null
          }
        },
        "78880489405e4313b5aff33d503ae7b1": {
          "model_module": "@jupyter-widgets/base",
          "model_name": "LayoutModel",
          "model_module_version": "1.2.0",
          "state": {
            "_model_module": "@jupyter-widgets/base",
            "_model_module_version": "1.2.0",
            "_model_name": "LayoutModel",
            "_view_count": null,
            "_view_module": "@jupyter-widgets/base",
            "_view_module_version": "1.2.0",
            "_view_name": "LayoutView",
            "align_content": null,
            "align_items": null,
            "align_self": null,
            "border": null,
            "bottom": null,
            "display": null,
            "flex": null,
            "flex_flow": null,
            "grid_area": null,
            "grid_auto_columns": null,
            "grid_auto_flow": null,
            "grid_auto_rows": null,
            "grid_column": null,
            "grid_gap": null,
            "grid_row": null,
            "grid_template_areas": null,
            "grid_template_columns": null,
            "grid_template_rows": null,
            "height": null,
            "justify_content": null,
            "justify_items": null,
            "left": null,
            "margin": null,
            "max_height": null,
            "max_width": null,
            "min_height": null,
            "min_width": null,
            "object_fit": null,
            "object_position": null,
            "order": null,
            "overflow": null,
            "overflow_x": null,
            "overflow_y": null,
            "padding": null,
            "right": null,
            "top": null,
            "visibility": null,
            "width": null
          }
        },
        "a574c9dae2d149bab8bcfe5899db1e55": {
          "model_module": "@jupyter-widgets/controls",
          "model_name": "DescriptionStyleModel",
          "model_module_version": "1.5.0",
          "state": {
            "_model_module": "@jupyter-widgets/controls",
            "_model_module_version": "1.5.0",
            "_model_name": "DescriptionStyleModel",
            "_view_count": null,
            "_view_module": "@jupyter-widgets/base",
            "_view_module_version": "1.2.0",
            "_view_name": "StyleView",
            "description_width": ""
          }
        },
        "c53a924c9e6743db83783adf1b6be39d": {
          "model_module": "@jupyter-widgets/base",
          "model_name": "LayoutModel",
          "model_module_version": "1.2.0",
          "state": {
            "_model_module": "@jupyter-widgets/base",
            "_model_module_version": "1.2.0",
            "_model_name": "LayoutModel",
            "_view_count": null,
            "_view_module": "@jupyter-widgets/base",
            "_view_module_version": "1.2.0",
            "_view_name": "LayoutView",
            "align_content": null,
            "align_items": null,
            "align_self": null,
            "border": null,
            "bottom": null,
            "display": null,
            "flex": null,
            "flex_flow": null,
            "grid_area": null,
            "grid_auto_columns": null,
            "grid_auto_flow": null,
            "grid_auto_rows": null,
            "grid_column": null,
            "grid_gap": null,
            "grid_row": null,
            "grid_template_areas": null,
            "grid_template_columns": null,
            "grid_template_rows": null,
            "height": null,
            "justify_content": null,
            "justify_items": null,
            "left": null,
            "margin": null,
            "max_height": null,
            "max_width": null,
            "min_height": null,
            "min_width": null,
            "object_fit": null,
            "object_position": null,
            "order": null,
            "overflow": null,
            "overflow_x": null,
            "overflow_y": null,
            "padding": null,
            "right": null,
            "top": null,
            "visibility": null,
            "width": null
          }
        },
        "fc114bc4a07a4eb9873c1ac447b176c9": {
          "model_module": "@jupyter-widgets/controls",
          "model_name": "ProgressStyleModel",
          "model_module_version": "1.5.0",
          "state": {
            "_model_module": "@jupyter-widgets/controls",
            "_model_module_version": "1.5.0",
            "_model_name": "ProgressStyleModel",
            "_view_count": null,
            "_view_module": "@jupyter-widgets/base",
            "_view_module_version": "1.2.0",
            "_view_name": "StyleView",
            "bar_color": null,
            "description_width": ""
          }
        },
        "8424ab34c6474d92940164bb112699ee": {
          "model_module": "@jupyter-widgets/base",
          "model_name": "LayoutModel",
          "model_module_version": "1.2.0",
          "state": {
            "_model_module": "@jupyter-widgets/base",
            "_model_module_version": "1.2.0",
            "_model_name": "LayoutModel",
            "_view_count": null,
            "_view_module": "@jupyter-widgets/base",
            "_view_module_version": "1.2.0",
            "_view_name": "LayoutView",
            "align_content": null,
            "align_items": null,
            "align_self": null,
            "border": null,
            "bottom": null,
            "display": null,
            "flex": null,
            "flex_flow": null,
            "grid_area": null,
            "grid_auto_columns": null,
            "grid_auto_flow": null,
            "grid_auto_rows": null,
            "grid_column": null,
            "grid_gap": null,
            "grid_row": null,
            "grid_template_areas": null,
            "grid_template_columns": null,
            "grid_template_rows": null,
            "height": null,
            "justify_content": null,
            "justify_items": null,
            "left": null,
            "margin": null,
            "max_height": null,
            "max_width": null,
            "min_height": null,
            "min_width": null,
            "object_fit": null,
            "object_position": null,
            "order": null,
            "overflow": null,
            "overflow_x": null,
            "overflow_y": null,
            "padding": null,
            "right": null,
            "top": null,
            "visibility": null,
            "width": null
          }
        },
        "de1fafa4383b42e6ae80670705df85b1": {
          "model_module": "@jupyter-widgets/controls",
          "model_name": "DescriptionStyleModel",
          "model_module_version": "1.5.0",
          "state": {
            "_model_module": "@jupyter-widgets/controls",
            "_model_module_version": "1.5.0",
            "_model_name": "DescriptionStyleModel",
            "_view_count": null,
            "_view_module": "@jupyter-widgets/base",
            "_view_module_version": "1.2.0",
            "_view_name": "StyleView",
            "description_width": ""
          }
        }
      }
    }
  },
  "cells": [
    {
      "cell_type": "markdown",
      "metadata": {
        "id": "view-in-github",
        "colab_type": "text"
      },
      "source": [
        "<a href=\"https://colab.research.google.com/github/mohsenfayyaz/GlobEnc/blob/main/GlobEnc_Demo.ipynb\" target=\"_parent\"><img src=\"https://colab.research.google.com/assets/colab-badge.svg\" alt=\"Open In Colab\"/></a>"
      ]
    },
    {
      "cell_type": "markdown",
      "source": [
        "# Install requirements / Clone repository"
      ],
      "metadata": {
        "id": "ZDutUoiJXgX4"
      }
    },
    {
      "cell_type": "code",
      "execution_count": 2,
      "metadata": {
        "id": "5HP2B216XHDv"
      },
      "outputs": [],
      "source": [
        "! pip install datasets==1.18.3\n",
        "! pip install transformers==4.18.0\n",
        "! git clone https://github.com/mohsenfayyaz/GlobEnc"
      ]
    },
    {
      "cell_type": "markdown",
      "source": [
        "# Config (Change model and sentence here)"
      ],
      "metadata": {
        "id": "bArksVLTYIzg"
      }
    },
    {
      "cell_type": "code",
      "source": [
        "import torch\n",
        "import numpy as np\n",
        "from transformers import AutoTokenizer\n",
        "from GlobEnc.src.modeling.modeling_bert import BertForSequenceClassification\n",
        "from GlobEnc.src.modeling.modeling_electra import ElectraForSequenceClassification\n",
        "from GlobEnc.src.attention_rollout import AttentionRollout\n",
        "\n",
        "config = {\n",
        "    # As of now, BERT and ELECTRA are supported. You can choose any checkpoing of these models.\n",
        "    ### BERT-base\n",
        "    \"MODEL\": \"TehranNLP-org/bert-base-uncased-cls-sst2\"\n",
        "    # \"MODEL\": \"TehranNLP-org/bert-base-uncased-cls-mnli\"\n",
        "    # \"MODEL\": \"TehranNLP-org/bert-base-uncased-cls-hatexplain\"\n",
        "    ### BERT-large\n",
        "    # \"MODEL\": \"TehranNLP-org/bert-large-sst2\"\n",
        "    # \"MODEL\": \"TehranNLP-org/bert-large-mnli\"\n",
        "    # \"MODEL\": \"TehranNLP-org/bert-large-hateXplain\"\n",
        "    ### ELECTRA\n",
        "    # \"MODEL\": \"TehranNLP-org/electra-base-sst2\"\n",
        "    # \"MODEL\": \"TehranNLP-org/electra-base-mnli\"\n",
        "    # \"MODEL\": \"TehranNLP-org/electra-base-hateXplain\"\n",
        "}\n",
        "SENTENCE = \"A deep and meaningful film.\""
      ],
      "metadata": {
        "id": "G197Rd6-X1-b"
      },
      "execution_count": 7,
      "outputs": []
    },
    {
      "cell_type": "markdown",
      "source": [
        "# Load corresponding model/tokenizer\n",
        "As of now, BERT and ELECTRA are supported. You can choose any checkpoing of these models."
      ],
      "metadata": {
        "id": "ZCzoK7wQYazJ"
      }
    },
    {
      "cell_type": "code",
      "source": [
        "tokenizer = AutoTokenizer.from_pretrained(config[\"MODEL\"])\n",
        "tokenized_sentence = tokenizer.encode_plus(SENTENCE, return_tensors=\"pt\")\n",
        "if \"bert\" in config[\"MODEL\"]:\n",
        "    model = BertForSequenceClassification.from_pretrained(config[\"MODEL\"])\n",
        "elif \"electra\" in config[\"MODEL\"]:\n",
        "    model = ElectraForSequenceClassification.from_pretrained(config[\"MODEL\"])\n",
        "else:\n",
        "    raise Exception(f\"Not implented model: {config['MODEL']}\")"
      ],
      "metadata": {
        "id": "x2e8z7KPYZd6"
      },
      "execution_count": 9,
      "outputs": []
    },
    {
      "cell_type": "markdown",
      "source": [
        "# Compute GlobEnc"
      ],
      "metadata": {
        "id": "Hxs_CUkzZnCO"
      }
    },
    {
      "cell_type": "code",
      "source": [
        "# Extract single layer attentions\n",
        "with torch.no_grad():\n",
        "    logits, attentions, norms = model(**tokenized_sentence, output_attentions=True, output_norms=True, return_dict=False)\n",
        "    num_layers = len(attentions)\n",
        "    norm_nenc = torch.stack([norms[i][4] for i in range(num_layers)]).squeeze().cpu().numpy()\n",
        "    print(\"Single layer N-Enc token attribution:\", norm_nenc.shape)\n",
        "\n",
        "    # Aggregate and compute GlobEnc\n",
        "    globenc = AttentionRollout().compute_flows([norm_nenc], output_hidden_states=True)[0]\n",
        "    globenc = np.array(globenc)\n",
        "    print(\"Aggregated N-Enc token attribution (GlobEnc):\", globenc.shape)"
      ],
      "metadata": {
        "colab": {
          "base_uri": "https://localhost:8080/",
          "height": 85,
          "referenced_widgets": [
            "77850b8b86e14ce4836a6757995d8b02",
            "a422f2f8005a4d3cac767dfbe60cee56",
            "174a3e64950142298a42e506c38850cf",
            "e41c7430e57a4f6d8b2197dc57a93977",
            "4107c1e4579e4f169470a2185c26b1de",
            "78880489405e4313b5aff33d503ae7b1",
            "a574c9dae2d149bab8bcfe5899db1e55",
            "c53a924c9e6743db83783adf1b6be39d",
            "fc114bc4a07a4eb9873c1ac447b176c9",
            "8424ab34c6474d92940164bb112699ee",
            "de1fafa4383b42e6ae80670705df85b1"
          ]
        },
        "id": "bZuNrXCXY-1q",
        "outputId": "7730e396-975e-41db-f1b4-1a9636f144b8"
      },
      "execution_count": 10,
      "outputs": [
        {
          "output_type": "stream",
          "name": "stdout",
          "text": [
            "Single layer N-Enc token attribution: (12, 8, 8)\n"
          ]
        },
        {
          "output_type": "display_data",
          "data": {
            "text/plain": [
              "  0%|          | 0/1 [00:00<?, ?it/s]"
            ],
            "application/vnd.jupyter.widget-view+json": {
              "version_major": 2,
              "version_minor": 0,
              "model_id": "77850b8b86e14ce4836a6757995d8b02"
            }
          },
          "metadata": {}
        },
        {
          "output_type": "stream",
          "name": "stdout",
          "text": [
            "Aggregated N-Enc token attribution (GlobEnc): (12, 8, 8)\n"
          ]
        }
      ]
    },
    {
      "cell_type": "markdown",
      "source": [
        "# Visualization"
      ],
      "metadata": {
        "id": "mlSpzrHFfJf0"
      }
    },
    {
      "cell_type": "code",
      "source": [
        "import seaborn as sns\n",
        "import pandas as pd\n",
        "import numpy as np\n",
        "import matplotlib.pyplot as plt\n",
        "import matplotlib.gridspec as gridspec\n",
        "import matplotlib.backends.backend_pdf\n",
        "\n",
        "tokenized_text = tokenizer.convert_ids_to_tokens(tokenized_sentence[\"input_ids\"][0])\n",
        "plt.figure(figsize=(14, 8))\n",
        "norm_cls = globenc[:, 0, :]\n",
        "norm_cls = np.flip(norm_cls, axis=0)\n",
        "row_sums = norm_cls.max(axis=1)\n",
        "norm_cls = norm_cls / row_sums[:, np.newaxis]\n",
        "df = pd.DataFrame(norm_cls, columns=tokenized_text, index=range(len(norm_cls), 0, -1))\n",
        "ax = sns.heatmap(df, cmap=\"Reds\", square=True)\n",
        "bottom, top = ax.get_ylim()\n",
        "ax.set_ylim(bottom + 0.5, top - 0.5)\n",
        "plt.title(\"GlobEnc\", fontsize=16)\n",
        "plt.ylabel(\"Layer\", fontsize=16)\n",
        "plt.xticks(rotation = 90, fontsize=16)\n",
        "plt.yticks(fontsize=13)\n",
        "plt.gcf().subplots_adjust(bottom=0.2)\n",
        "print(\"logits:\", logits)"
      ],
      "metadata": {
        "colab": {
          "base_uri": "https://localhost:8080/",
          "height": 557
        },
        "id": "E6VcPkbMe8p7",
        "outputId": "14fb08e3-03f0-4ead-e3ab-fbfaacd67d34"
      },
      "execution_count": 11,
      "outputs": [
        {
          "output_type": "stream",
          "name": "stdout",
          "text": [
            "logits: tensor([[-4.7060,  4.0975]])\n"
          ]
        },
        {
          "output_type": "display_data",
          "data": {
            "text/plain": [
              "<Figure size 1008x576 with 2 Axes>"
            ],
            "image/png": "[encoded data removed]"
          },
          "metadata": {
            "needs_background": "light"
          }
        }
      ]
    },
    {
      "cell_type": "code",
      "source": [
        ""
      ],
      "metadata": {
        "id": "a_GmFa-Pg5gi"
      },
      "execution_count": 117,
      "outputs": []
    }
  ]
}