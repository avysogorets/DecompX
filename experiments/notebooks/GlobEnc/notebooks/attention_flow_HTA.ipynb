{
 "cells": [
  {
   "cell_type": "code",
   "execution_count": null,
   "metadata": {
    "id": "MaNQn1FHe5Z1"
   },
   "outputs": [],
   "source": [
    "# !pip install transformers==3.0.0\n",
    "# !pip install datasets\n",
    "# !wget https://raw.githubusercontent.com/gorokoba560/norm-analysis-of-transformer/5dc8fb3b541f696288dec46fbd610d97a1a1ade2/emnlp2021/transformers/src/transformers/modeling_bert.py"
   ]
  },
  {
   "cell_type": "markdown",
   "metadata": {},
   "source": [
    "## Setup"
   ]
  },
  {
   "cell_type": "code",
   "execution_count": 67,
   "metadata": {
    "colab": {
     "base_uri": "https://localhost:8080/"
    },
    "id": "OwASO1dYd74m",
    "outputId": "616291ef-7731-4977-85be-6620c303b75f",
    "pycharm": {
     "is_executing": false
    }
   },
   "outputs": [
    {
     "name": "stdout",
     "output_type": "stream",
     "text": [
      "There are 1 GPU(s) available.\n",
      "We will use the GPU: NVIDIA GeForce GTX 1070\n"
     ]
    },
    {
     "data": {
      "text/plain": [
       "{'MODEL_CHECKPOINT': 'bert-base-uncased',\n",
       " 'MODEL_NAME': 'bert-base-uncased',\n",
       " 'DATASET': 'sst2',\n",
       " 'SALIENCY_BLANK_OUT_PATH': './saliency/sst2_val_sals_normbased_selfFT.npy',\n",
       " 'SALS_MAX_LENGTH': 64,\n",
       " 'HTA_PATH': './HTA/sst2_val256_HTA_undiv_PreTrained_alllayers.npy',\n",
       " 'FLOW_METHOD': 'rollout',\n",
       " 'NUM_CPUS': 12,\n",
       " 'OUTPUT_HIDDEN_STATES': True,\n",
       " 'DATASET_SIZE_LIMIT': 256,\n",
       " 'DELETE_SEP': False}"
      ]
     },
     "execution_count": 67,
     "metadata": {},
     "output_type": "execute_result"
    }
   ],
   "source": [
    "import torch\n",
    "import numpy as np\n",
    "# from modeling_bert import BertForSequenceClassification\n",
    "from transformers import BertForSequenceClassification\n",
    "from transformers import BertTokenizer\n",
    "from datasets import load_dataset\n",
    "from tqdm.notebook import tqdm\n",
    "from importlib import reload\n",
    "import pickle\n",
    "import lzma\n",
    "import yaml\n",
    "\n",
    "SELECTED_GPU = 0\n",
    "if torch.cuda.is_available():\n",
    "    # Tell PyTorch to use the GPU.    \n",
    "    device = torch.device(\"cuda:{}\".format(SELECTED_GPU))\n",
    "    print('There are %d GPU(s) available.' % torch.cuda.device_count())\n",
    "    print('We will use the GPU:', torch.cuda.get_device_name(SELECTED_GPU))\n",
    "else:\n",
    "    device = \"cpu\"\n",
    "\n",
    "ATTENTION_NORM_TYPES = {\n",
    "#     \"head_attn_n\": 0,\n",
    "    \"N\": 1,\n",
    "    \"N-Res\": 2,\n",
    "    \"N-ResLN\": 3,\n",
    "    \"N-Enc\": 4\n",
    "#     \"attn_n_ratio\": 5,\n",
    "#     \"attnres_n_ratio\": 6,\n",
    "#     \"attnresln_n_ratio\": 7\n",
    "#     \"N-Enc_ratio\": 8\n",
    "}\n",
    "\n",
    "class FlowMethods:\n",
    "    ROLLOUT = \"rollout\"\n",
    "    MAX_FLOW = \"maxflow\"\n",
    "\n",
    "with open('src/configs/experiments_config.yaml', \"r\") as f:\n",
    "    config = yaml.safe_load(f)\n",
    "    \n",
    "### Editable:\n",
    "config = config[\"SST2\"]  # [SST2, MNLI, HATEXPLAIN] (Load different experiments config i.e. model, dataset and more)\n",
    "\n",
    "config[\"FLOW_METHOD\"] = FlowMethods.ROLLOUT\n",
    "config[\"NUM_CPUS\"] = 12  # If n<2 ? sequential : use p_map\n",
    "config[\"OUTPUT_HIDDEN_STATES\"] = True  # Default: True (Outputs flow up to each layer)\n",
    "config[\"DATASET_SIZE_LIMIT\"] = 256  # Default: None (no limit)\n",
    "config[\"DELETE_SEP\"] = False  # Default: False (Visualizations will not work if set to True)\n",
    "\n",
    "config[\"MODEL_CHECKPOINT\"] = \"bert-base-uncased\"\n",
    "\n",
    "config"
   ]
  },
  {
   "cell_type": "markdown",
   "metadata": {},
   "source": [
    "## Model/Tokenizer/Dataset"
   ]
  },
  {
   "cell_type": "code",
   "execution_count": 68,
   "metadata": {
    "colab": {
     "base_uri": "https://localhost:8080/"
    },
    "id": "bnmZXCdif2dq",
    "outputId": "1f8eeb6a-acd9-471d-f0c2-30f2500668b4"
   },
   "outputs": [
    {
     "name": "stderr",
     "output_type": "stream",
     "text": [
      "Some weights of the model checkpoint at bert-base-uncased were not used when initializing BertForSequenceClassification: ['cls.predictions.bias', 'cls.predictions.transform.dense.weight', 'cls.predictions.transform.dense.bias', 'cls.predictions.decoder.weight', 'cls.seq_relationship.weight', 'cls.seq_relationship.bias', 'cls.predictions.transform.LayerNorm.weight', 'cls.predictions.transform.LayerNorm.bias']\n",
      "- This IS expected if you are initializing BertForSequenceClassification from the checkpoint of a model trained on another task or with another architecture (e.g. initializing a BertForSequenceClassification model from a BertForPretraining model).\n",
      "- This IS NOT expected if you are initializing BertForSequenceClassification from the checkpoint of a model that you expect to be exactly identical (initializing a BertForSequenceClassification model from a BertForSequenceClassification model).\n",
      "Some weights of BertForSequenceClassification were not initialized from the model checkpoint at bert-base-uncased and are newly initialized: ['classifier.weight', 'classifier.bias']\n",
      "You should probably TRAIN this model on a down-stream task to be able to use it for predictions and inference.\n",
      "Reusing dataset glue (C:\\Users\\Mohsen\\.cache\\huggingface\\datasets\\glue\\sst2\\1.0.0\\dacbe3125aa31d7f70367a07a8a9e72a5a0bfeb5fc42e75c9db75b96da6053ad)\n"
     ]
    },
    {
     "data": {
      "text/plain": [
       "'bert-base-uncased'"
      ]
     },
     "execution_count": 68,
     "metadata": {},
     "output_type": "execute_result"
    }
   ],
   "source": [
    "import src.task_loaders\n",
    "reload(src.task_loaders)\n",
    "\n",
    "tokenizer = BertTokenizer.from_pretrained(config[\"MODEL_NAME\"])\n",
    "model = BertForSequenceClassification.from_pretrained(config[\"MODEL_CHECKPOINT\"], local_files_only=False)\n",
    "task_loader = src.task_loaders.TaskLoader(tokenizer, count=config[\"DATASET_SIZE_LIMIT\"], \n",
    "                                          max_length=config[\"SALS_MAX_LENGTH\"])\n",
    "\n",
    "dataset, encoder_func = task_loader.load_task(config[\"DATASET\"])\n",
    "config[\"MODEL_CHECKPOINT\"]"
   ]
  },
  {
   "cell_type": "markdown",
   "metadata": {},
   "source": [
    "## Extract Attentions"
   ]
  },
  {
   "cell_type": "code",
   "execution_count": 69,
   "metadata": {
    "colab": {
     "base_uri": "https://localhost:8080/",
     "height": 49,
     "referenced_widgets": [
      "6dbf9c19c2f04507809736f2fc2b0204",
      "eb1c1c28d03046019546ac3c873b1570",
      "e46069d00558434fb871b09e431c127b",
      "3285707e45b5465384b973ba6789dd51",
      "5ed2be4b2b644030877b8c8dfff212af",
      "aa2270981ede4dc394616e144d28612d",
      "4d84d12803084eaea6efe35b6effdf6b",
      "35b8fdaa6593485581316b6d387d3ac2",
      "4592fad2c6b944ac95d80ab4ceaba7cd",
      "22975517dd83411ba507a4224d83a929",
      "9339c21e45504986bf430499b8fbbca8"
     ]
    },
    "id": "MxUCCuq0hLYt",
    "outputId": "7076fd09-bce7-4ca9-8adf-162383dc26b4"
   },
   "outputs": [
    {
     "data": {
      "application/vnd.jupyter.widget-view+json": {
       "model_id": "8d6cfc3c50c442c29df8ca1cc7658798",
       "version_major": 2,
       "version_minor": 0
      },
      "text/plain": [
       "  0%|          | 0/256 [00:00<?, ?it/s]"
      ]
     },
     "metadata": {},
     "output_type": "display_data"
    },
    {
     "name": "stdout",
     "output_type": "stream",
     "text": [
      "(12, 25, 25) (12, 25, 25)\n"
     ]
    }
   ],
   "source": [
    "import src.model_attentions\n",
    "reload(src.model_attentions)\n",
    "\n",
    "raw_attentions, norms_list = src.model_attentions.extract_attentions(model, encoder_func, len(dataset), device, \n",
    "                                                                     config[\"DELETE_SEP\"])\n",
    "print(raw_attentions[-1].shape, norms_list[3][-1].shape)"
   ]
  },
  {
   "cell_type": "code",
   "execution_count": 70,
   "metadata": {},
   "outputs": [
    {
     "data": {
      "application/vnd.jupyter.widget-view+json": {
       "model_id": "c12be3130ce84bbeb2daee36c7e17fe5",
       "version_major": 2,
       "version_minor": 0
      },
      "text/plain": [
       "  0%|          | 0/256 [00:00<?, ?it/s]"
      ]
     },
     "metadata": {},
     "output_type": "display_data"
    },
    {
     "data": {
      "text/plain": [
       "dict_keys(['W-FixedRes', 'W-Res', 'N-FixedRes'])"
      ]
     },
     "execution_count": 70,
     "metadata": {},
     "output_type": "execute_result"
    }
   ],
   "source": [
    "import src.model_attentions\n",
    "reload(src.model_attentions)\n",
    "\n",
    "r_ratio_attentions = src.model_attentions.build_ratio_residual_attentions(raw_attentions, norms_list)\n",
    "r_ratio_attentions.keys()"
   ]
  },
  {
   "cell_type": "markdown",
   "metadata": {},
   "source": [
    "## Compute Attention Rollout/MaxFlow"
   ]
  },
  {
   "cell_type": "code",
   "execution_count": 99,
   "metadata": {
    "colab": {
     "base_uri": "https://localhost:8080/",
     "height": 49,
     "referenced_widgets": [
      "692f6219c44a4671be44fa63ab7f66bb",
      "b2789c1fd4c644e8beb418340d912cb4",
      "cd86681f9a814914a13d9d5c2204f8e9",
      "dfc507b035fb4abb8aec7657c5062e28",
      "062fc07f7b7544c29a66b4a27479c8a3",
      "ddde60d75e4e4f64af8cfceae8f001b0",
      "9bdb6ba6066e4c97a1a5dc2925c6971f",
      "fe48b10d483748628664e64821345fa2",
      "4376e6334a76494987ae85d972b1c0bc",
      "71e163c95217429d81808b11df592487",
      "00b68ecbf8894341b0d68c6382a3408e"
     ]
    },
    "id": "crdogougpJWD",
    "outputId": "d9df4194-6882-465a-aa3a-36c7ebbf672a",
    "scrolled": true
   },
   "outputs": [
    {
     "name": "stdout",
     "output_type": "stream",
     "text": [
      "<bound method AttentionRollout.compute_flows of <src.attention_rollout.AttentionRollout object at 0x0000019F83BC8128>>\n"
     ]
    },
    {
     "data": {
      "application/vnd.jupyter.widget-view+json": {
       "model_id": "03024c3b868b4adb95cf48b604378c3b",
       "version_major": 2,
       "version_minor": 0
      },
      "text/plain": [
       "W___________:   0%|          | 0/256 [00:00<?, ?it/s]"
      ]
     },
     "metadata": {},
     "output_type": "display_data"
    },
    {
     "data": {
      "application/vnd.jupyter.widget-view+json": {
       "model_id": "5a23161b55854a77a1d271ccb951298d",
       "version_major": 2,
       "version_minor": 0
      },
      "text/plain": [
       "W-FixedRes__:   0%|          | 0/256 [00:00<?, ?it/s]"
      ]
     },
     "metadata": {},
     "output_type": "display_data"
    },
    {
     "data": {
      "application/vnd.jupyter.widget-view+json": {
       "model_id": "c659a364e979421fb07124084bff20df",
       "version_major": 2,
       "version_minor": 0
      },
      "text/plain": [
       "W-Res_______:   0%|          | 0/256 [00:00<?, ?it/s]"
      ]
     },
     "metadata": {},
     "output_type": "display_data"
    },
    {
     "data": {
      "application/vnd.jupyter.widget-view+json": {
       "model_id": "aee33a44da574a439167ef5202ded0b4",
       "version_major": 2,
       "version_minor": 0
      },
      "text/plain": [
       "N-FixedRes__:   0%|          | 0/256 [00:00<?, ?it/s]"
      ]
     },
     "metadata": {},
     "output_type": "display_data"
    },
    {
     "data": {
      "application/vnd.jupyter.widget-view+json": {
       "model_id": "e75b1d80bd614ebf94e68affdbf7ff5b",
       "version_major": 2,
       "version_minor": 0
      },
      "text/plain": [
       "N___________:   0%|          | 0/256 [00:00<?, ?it/s]"
      ]
     },
     "metadata": {},
     "output_type": "display_data"
    },
    {
     "data": {
      "application/vnd.jupyter.widget-view+json": {
       "model_id": "52f0c20d0466437eafb1fe2240eefb29",
       "version_major": 2,
       "version_minor": 0
      },
      "text/plain": [
       "N-Res_______:   0%|          | 0/256 [00:00<?, ?it/s]"
      ]
     },
     "metadata": {},
     "output_type": "display_data"
    },
    {
     "data": {
      "application/vnd.jupyter.widget-view+json": {
       "model_id": "2cc9ea9f4d26404ea07eeec91244895d",
       "version_major": 2,
       "version_minor": 0
      },
      "text/plain": [
       "N-ResLN_____:   0%|          | 0/256 [00:00<?, ?it/s]"
      ]
     },
     "metadata": {},
     "output_type": "display_data"
    },
    {
     "data": {
      "application/vnd.jupyter.widget-view+json": {
       "model_id": "612fe27794044ce1ab55535924eb7d22",
       "version_major": 2,
       "version_minor": 0
      },
      "text/plain": [
       "N-Enc_______:   0%|          | 0/256 [00:00<?, ?it/s]"
      ]
     },
     "metadata": {},
     "output_type": "display_data"
    },
    {
     "data": {
      "application/vnd.jupyter.widget-view+json": {
       "model_id": "4d521bd2e3a64672ae642b233765ffa5",
       "version_major": 2,
       "version_minor": 0
      },
      "text/plain": [
       "HTA_________:   0%|          | 0/256 [00:00<?, ?it/s]"
      ]
     },
     "metadata": {},
     "output_type": "display_data"
    },
    {
     "name": "stdout",
     "output_type": "stream",
     "text": [
      "dict_keys(['W', 'W-FixedRes', 'W-Res', 'N-FixedRes', 'N', 'N-Res', 'N-ResLN', 'N-Enc', 'HTA']) (12, 25, 25)\n"
     ]
    }
   ],
   "source": [
    "import src.attention_flow_abstract\n",
    "reload(src.attention_flow_abstract)\n",
    "import src.attention_rollout\n",
    "reload(src.attention_rollout)\n",
    "import src.attention_max_flow\n",
    "reload(src.attention_max_flow)\n",
    "\n",
    "flow_class = src.attention_rollout.AttentionRollout() if config[\"FLOW_METHOD\"] == FlowMethods.ROLLOUT else src.attention_max_flow.AttentionMaxFlow()\n",
    "flow_function = flow_class.compute_flows\n",
    "print(flow_function)\n",
    "\n",
    "attention_flows = dict()\n",
    "\n",
    "# a = flow_function(raw_attentions[:2], add_fixed_residual=True, desc=\"raw\".ljust(11, '_'), num_cpus=NUM_CPUS)\n",
    "\n",
    "local_attentions = {\"W\": raw_attentions}\n",
    "for key, attention_mat in r_ratio_attentions.items():\n",
    "    local_attentions[key] = attention_mat\n",
    "for key, value in ATTENTION_NORM_TYPES.items():\n",
    "    local_attentions[key] = norms_list[value]\n",
    "    \n",
    "## ADD LOCAL HTA\n",
    "hta = np.load(config[\"HTA_PATH\"])\n",
    "local_attentions[\"HTA\"] = []\n",
    "for i in range(hta.shape[1]):\n",
    "    length = min(len(local_attentions[\"W\"][i][0]), len(hta[0][i]))\n",
    "    \n",
    "#     local_attentions[\"HTA\"].append(np.swapaxes(hta[:, i, :length, :length], 1, 2))\n",
    "    local_attentions[\"HTA\"].append(hta[:, i, :length, :length] / np.sum(hta[:, i, :length, :length], axis=-1, keepdims=True))\n",
    "    \n",
    "    \n",
    "\n",
    "# COMPUTE FLOW\n",
    "for key, local_attention in local_attentions.items():\n",
    "    attention_flows[key] = flow_function(local_attention, \n",
    "                                         desc=key.ljust(12, '_'),\n",
    "                                         output_hidden_states = config[\"OUTPUT_HIDDEN_STATES\"],\n",
    "                                         num_cpus=config[\"NUM_CPUS\"])    \n",
    "\n",
    "# file_name = f\"{DATASET}_{MODEL_CHECKPOINT.split('/')[-1]}_{FLOW_METHOD}.pickle_lzma\"\n",
    "# with lzma.open(file_name, 'wb') as f:\n",
    "#     print(\"Saving...\")\n",
    "#     pickle.dump(attention_flows, f, protocol=pickle.HIGHEST_PROTOCOL)\n",
    "#     print(f\"Saved attentions to [{file_name}]\")\n",
    "    \n",
    "print(attention_flows.keys(), attention_flows[\"N\"][-1].shape)"
   ]
  },
  {
   "cell_type": "markdown",
   "metadata": {},
   "source": [
    "## Compute Metrics (Compare to saliency)"
   ]
  },
  {
   "cell_type": "markdown",
   "metadata": {},
   "source": [
    "### Flow Correlation"
   ]
  },
  {
   "cell_type": "code",
   "execution_count": 100,
   "metadata": {
    "id": "fB0cUDrziaYx",
    "scrolled": true
   },
   "outputs": [
    {
     "data": {
      "application/vnd.jupyter.widget-view+json": {
       "model_id": "632d4f92f57a4542a3c752337b5ae8e1",
       "version_major": 2,
       "version_minor": 0
      },
      "text/plain": [
       "W___________:   0%|          | 0/256 [00:00<?, ?it/s]"
      ]
     },
     "metadata": {},
     "output_type": "display_data"
    },
    {
     "data": {
      "application/vnd.jupyter.widget-view+json": {
       "model_id": "cdcceef49ef64c24bb02a03e559e0ab8",
       "version_major": 2,
       "version_minor": 0
      },
      "text/plain": [
       "W-FixedRes__:   0%|          | 0/256 [00:00<?, ?it/s]"
      ]
     },
     "metadata": {},
     "output_type": "display_data"
    },
    {
     "data": {
      "application/vnd.jupyter.widget-view+json": {
       "model_id": "5b073f5eba4942e398f40c6262124bfb",
       "version_major": 2,
       "version_minor": 0
      },
      "text/plain": [
       "W-Res_______:   0%|          | 0/256 [00:00<?, ?it/s]"
      ]
     },
     "metadata": {},
     "output_type": "display_data"
    },
    {
     "data": {
      "application/vnd.jupyter.widget-view+json": {
       "model_id": "364c02d351444f87998c77f5b6f4d9fe",
       "version_major": 2,
       "version_minor": 0
      },
      "text/plain": [
       "N-FixedRes__:   0%|          | 0/256 [00:00<?, ?it/s]"
      ]
     },
     "metadata": {},
     "output_type": "display_data"
    },
    {
     "data": {
      "application/vnd.jupyter.widget-view+json": {
       "model_id": "21ffc3227112487da2ec4db76ceff98e",
       "version_major": 2,
       "version_minor": 0
      },
      "text/plain": [
       "N___________:   0%|          | 0/256 [00:00<?, ?it/s]"
      ]
     },
     "metadata": {},
     "output_type": "display_data"
    },
    {
     "data": {
      "application/vnd.jupyter.widget-view+json": {
       "model_id": "0f916a9002cf4529b29b7a45e5f34084",
       "version_major": 2,
       "version_minor": 0
      },
      "text/plain": [
       "N-Res_______:   0%|          | 0/256 [00:00<?, ?it/s]"
      ]
     },
     "metadata": {},
     "output_type": "display_data"
    },
    {
     "data": {
      "application/vnd.jupyter.widget-view+json": {
       "model_id": "a0bfad2e36c04d86a275b9fa889070af",
       "version_major": 2,
       "version_minor": 0
      },
      "text/plain": [
       "N-ResLN_____:   0%|          | 0/256 [00:00<?, ?it/s]"
      ]
     },
     "metadata": {},
     "output_type": "display_data"
    },
    {
     "data": {
      "application/vnd.jupyter.widget-view+json": {
       "model_id": "7e2c83babd114e20975ecf49204e4968",
       "version_major": 2,
       "version_minor": 0
      },
      "text/plain": [
       "N-Enc_______:   0%|          | 0/256 [00:00<?, ?it/s]"
      ]
     },
     "metadata": {},
     "output_type": "display_data"
    },
    {
     "data": {
      "application/vnd.jupyter.widget-view+json": {
       "model_id": "afc34008d3eb4b659c451b8b0fb5d171",
       "version_major": 2,
       "version_minor": 0
      },
      "text/plain": [
       "HTA_________:   0%|          | 0/256 [00:00<?, ?it/s]"
      ]
     },
     "metadata": {},
     "output_type": "display_data"
    },
    {
     "name": "stdout",
     "output_type": "stream",
     "text": [
      "W-L1                    -0.53 ± 0.16\n",
      "W-L2                    -0.14 ± 0.25\n",
      "W-L3                    -0.12 ± 0.25\n",
      "W-L4                    -0.11 ± 0.25\n",
      "W-L5                    -0.11 ± 0.25\n",
      "W-L6                    -0.11 ± 0.25\n",
      "W-L7                    -0.11 ± 0.25\n",
      "W-L8                    -0.11 ± 0.25\n",
      "W-L9                    -0.11 ± 0.25\n",
      "W-L10                   -0.11 ± 0.25\n",
      "W-L11                   -0.11 ± 0.25\n",
      "W-L12                   -0.11 ± 0.25\n",
      "W-FixedRes-L1           -0.53 ± 0.16\n",
      "W-FixedRes-L2           -0.43 ± 0.20\n",
      "W-FixedRes-L3           -0.39 ± 0.21\n",
      "W-FixedRes-L4           -0.31 ± 0.23\n",
      "W-FixedRes-L5           -0.27 ± 0.25\n",
      "W-FixedRes-L6           -0.27 ± 0.25\n",
      "W-FixedRes-L7           -0.25 ± 0.26\n",
      "W-FixedRes-L8           -0.26 ± 0.26\n",
      "W-FixedRes-L9           -0.27 ± 0.26\n",
      "W-FixedRes-L10          -0.27 ± 0.26\n",
      "W-FixedRes-L11          -0.27 ± 0.26\n",
      "W-FixedRes-L12          -0.27 ± 0.26\n",
      "W-Res-L1                -0.53 ± 0.16\n",
      "W-Res-L2                -0.50 ± 0.18\n",
      "W-Res-L3                -0.48 ± 0.18\n",
      "W-Res-L4                -0.38 ± 0.21\n",
      "W-Res-L5                -0.29 ± 0.23\n",
      "W-Res-L6                -0.26 ± 0.24\n",
      "W-Res-L7                -0.18 ± 0.26\n",
      "W-Res-L8                -0.16 ± 0.26\n",
      "W-Res-L9                -0.13 ± 0.27\n",
      "W-Res-L10               -0.11 ± 0.27\n",
      "W-Res-L11               -0.07 ± 0.27\n",
      "W-Res-L12               0.01 ± 0.27\n",
      "N-FixedRes-L1           -0.49 ± 0.18\n",
      "N-FixedRes-L2           -0.21 ± 0.23\n",
      "N-FixedRes-L3           -0.06 ± 0.24\n",
      "N-FixedRes-L4           0.22 ± 0.24\n",
      "N-FixedRes-L5           0.29 ± 0.24\n",
      "N-FixedRes-L6           0.32 ± 0.24\n",
      "N-FixedRes-L7           0.33 ± 0.24\n",
      "N-FixedRes-L8           0.34 ± 0.23\n",
      "N-FixedRes-L9           0.34 ± 0.23\n",
      "N-FixedRes-L10          0.34 ± 0.23\n",
      "N-FixedRes-L11          0.34 ± 0.23\n",
      "N-FixedRes-L12          0.34 ± 0.23\n",
      "N-L1                    -0.50 ± 0.18\n",
      "N-L2                    0.10 ± 0.25\n",
      "N-L3                    0.19 ± 0.25\n",
      "N-L4                    0.28 ± 0.23\n",
      "N-L5                    0.29 ± 0.22\n",
      "N-L6                    0.30 ± 0.22\n",
      "N-L7                    0.30 ± 0.22\n",
      "N-L8                    0.30 ± 0.22\n",
      "N-L9                    0.30 ± 0.22\n",
      "N-L10                   0.30 ± 0.22\n",
      "N-L11                   0.30 ± 0.22\n",
      "N-L12                   0.30 ± 0.22\n",
      "N-Res-L1                -0.49 ± 0.18\n",
      "N-Res-L2                -0.24 ± 0.23\n",
      "N-Res-L3                0.02 ± 0.25\n",
      "N-Res-L4                0.48 ± 0.20\n",
      "N-Res-L5                0.59 ± 0.17\n",
      "N-Res-L6                0.65 ± 0.14\n",
      "N-Res-L7                0.67 ± 0.14\n",
      "N-Res-L8                0.68 ± 0.14\n",
      "N-Res-L9                0.69 ± 0.14\n",
      "N-Res-L10               0.69 ± 0.14\n",
      "N-Res-L11               0.69 ± 0.14\n",
      "N-Res-L12               0.69 ± 0.14\n",
      "N-ResLN-L1              -0.49 ± 0.18\n",
      "N-ResLN-L2              -0.43 ± 0.20\n",
      "N-ResLN-L3              -0.39 ± 0.21\n",
      "N-ResLN-L4              -0.30 ± 0.23\n",
      "N-ResLN-L5              -0.27 ± 0.24\n",
      "N-ResLN-L6              -0.26 ± 0.26\n",
      "N-ResLN-L7              -0.23 ± 0.26\n",
      "N-ResLN-L8              -0.23 ± 0.26\n",
      "N-ResLN-L9              -0.24 ± 0.26\n",
      "N-ResLN-L10             -0.25 ± 0.26\n",
      "N-ResLN-L11             -0.25 ± 0.26\n",
      "N-ResLN-L12             -0.25 ± 0.26\n",
      "N-Enc-L1                -0.49 ± 0.18\n",
      "N-Enc-L2                -0.12 ± 0.24\n",
      "N-Enc-L3                0.25 ± 0.23\n",
      "N-Enc-L4                0.62 ± 0.17\n",
      "N-Enc-L5                0.68 ± 0.16\n",
      "N-Enc-L6                0.73 ± 0.13\n",
      "N-Enc-L7                0.75 ± 0.12\n",
      "N-Enc-L8                0.75 ± 0.12\n",
      "N-Enc-L9                0.76 ± 0.12\n",
      "N-Enc-L10               0.76 ± 0.12\n",
      "N-Enc-L11               0.76 ± 0.12\n",
      "N-Enc-L12               0.76 ± 0.12\n",
      "HTA-L1                  -0.43 ± 0.19\n",
      "HTA-L2                  -0.15 ± 0.24\n",
      "HTA-L3                  -0.02 ± 0.26\n",
      "HTA-L4                  0.11 ± 0.26\n",
      "HTA-L5                  0.13 ± 0.26\n",
      "HTA-L6                  0.13 ± 0.26\n",
      "HTA-L7                  0.13 ± 0.26\n",
      "HTA-L8                  0.12 ± 0.26\n",
      "HTA-L9                  0.12 ± 0.26\n",
      "HTA-L10                 0.12 ± 0.26\n",
      "HTA-L11                 0.12 ± 0.26\n",
      "HTA-L12                 0.12 ± 0.26\n"
     ]
    }
   ],
   "source": [
    "import matplotlib.pyplot as plt\n",
    "from matplotlib import cm\n",
    "import seaborn as sns\n",
    "import src.metrics\n",
    "reload(src.metrics)\n",
    "\n",
    "# spearmans_raw_flow = src.metrics.compute_spearman_correlation(raw_attentions_rollouts, \n",
    "#                                                          SALIENCY_BLANK_OUT_PATH)\n",
    "\n",
    "spearmans = dict()  # spearmans[key]: (#batch, #layers, spearman)\n",
    "for key in attention_flows.keys():\n",
    "    spearmans[key] = src.metrics.compute_spearman_correlation(attention_flows[key], \n",
    "                                                              config[\"SALIENCY_BLANK_OUT_PATH\"],\n",
    "                                                              aggregation=\"CLS\",\n",
    "                                                              desc=key.ljust(12, '_'),\n",
    "                                                              max_length=config[\"SALS_MAX_LENGTH\"])\n",
    "\n",
    "\n",
    "# PRINT\n",
    "for key in spearmans.keys():\n",
    "    spearman = np.array(spearmans[key])\n",
    "    max_layer = np.argmax(np.mean(spearman, axis=0))\n",
    "#     print(f\"Max Layer: {max_layer+1}\", f\"{key}\", f\"{np.mean(spearman[:, max_layer]):.2f}\", f\"± {np.std(spearman[:, max_layer]):.2f}\")\n",
    "    layers = spearmans[key][0].shape[0]\n",
    "    for layer in range(layers):\n",
    "        spearman = np.array(spearmans[key])[:, layer]\n",
    "        layer_text = f\"-L{layer+1}\" if layers > 1 else \"\"\n",
    "        print(f\"{key}{layer_text}\".ljust(23), f\"{np.mean(spearman):.2f}\", f\"± {np.std(spearman):.2f}\")"
   ]
  },
  {
   "cell_type": "code",
   "execution_count": 95,
   "metadata": {},
   "outputs": [
    {
     "data": {
      "image/png": "[encoded data removed]",
      "text/plain": [
       "<Figure size 432x288 with 1 Axes>"
      ]
     },
     "metadata": {
      "needs_background": "light"
     },
     "output_type": "display_data"
    }
   ],
   "source": [
    "# PLOT\n",
    "fig = plt.figure(figsize=(6, 4))\n",
    "cmap = plt.get_cmap(\"tab10\")\n",
    "markers = ['D', 'o', '^', '*', 's', '+', 'x', '.', 'X']\n",
    "c = 0\n",
    "for key in spearmans.keys():\n",
    "    if key in [\"N-ResLN\", \"W-FixedRes\", \"N-FixedRes\"]:\n",
    "        continue\n",
    "    layers = spearmans[key][0].shape[0]\n",
    "    spearman = np.array(spearmans[key])\n",
    "    with plt.style.context(\"ggplot\"):\n",
    "        x = range(1, layers + 1)\n",
    "        plt.plot(x, np.mean(spearman, axis=0), markers[c], label=key, color=cmap(c))\n",
    "        plt.plot(x, np.mean(spearman, axis=0), color=cmap(c))\n",
    "        plt.fill_between(x, \n",
    "                         np.mean(spearman, axis=0) - np.std(spearman, axis=0), \n",
    "                         np.mean(spearman, axis=0) + np.std(spearman, axis=0),\n",
    "                         alpha=0.2, color=cmap(c))\n",
    "        plt.xticks(x)\n",
    "        \n",
    "    c += 1\n",
    "plt.legend(loc=\"upper left\")\n",
    "dataset_name_map = {\"sst2\": \"SST2\", \"mnli\": \"MNLI\", \"hatexplain\": \"HATEXPLAIN\"}\n",
    "plt.title(f\"Attention Rollout SpearmanR Correlation on {dataset_name_map[config['DATASET']]} Dataset\", fontsize=11)\n",
    "plt.ylabel(\"SpearmanR Correlation\")\n",
    "plt.xlabel(\"Layer\")\n",
    "fig.tight_layout()\n",
    "# filename = f'figures/{title}_{model}.pdf' if show_hist else f'figures/compact_{title}_{model}.pdf'\n",
    "file_name = f\"{config['DATASET']}_{config['MODEL_CHECKPOINT'].split('/')[-1]}_{config['FLOW_METHOD']}_spearman.pdf\"\n",
    "fig.savefig(file_name, dpi=50)"
   ]
  },
  {
   "cell_type": "markdown",
   "metadata": {},
   "source": [
    "### HTA"
   ]
  },
  {
   "cell_type": "code",
   "execution_count": 101,
   "metadata": {},
   "outputs": [
    {
     "data": {
      "image/png": "[encoded data removed]",
      "text/plain": [
       "<Figure size 1080x288 with 8 Axes>"
      ]
     },
     "metadata": {
      "needs_background": "light"
     },
     "output_type": "display_data"
    },
    {
     "data": {
      "image/png": "[encoded data removed]",
      "text/plain": [
       "<Figure size 1080x288 with 8 Axes>"
      ]
     },
     "metadata": {
      "needs_background": "light"
     },
     "output_type": "display_data"
    }
   ],
   "source": [
    "hta = np.load(config[\"HTA_PATH\"])\n",
    "hta.shape\n",
    "\n",
    "import seaborn as sns\n",
    "\n",
    "for layer in [0, 11]:\n",
    "    plt.figure(figsize=(15, 4))\n",
    "    plt.subplot(1,4,1)\n",
    "#     sns.heatmap(hta[layer, 1, :10, :10], cmap=\"Reds\", square=True)\n",
    "    sns.heatmap(local_attentions[\"HTA\"][1][layer], cmap=\"Reds\", square=True)\n",
    "    plt.title(f\"HTA-L{layer+1}\")\n",
    "    plt.subplot(1,4,2)\n",
    "    sns.heatmap(local_attentions[\"W\"][1][layer], cmap=\"Reds\", square=True)\n",
    "    plt.title(f\"W-L{layer+1}\")\n",
    "    plt.subplot(1,4,3)\n",
    "    sns.heatmap(local_attentions[\"N-ResLN\"][1][layer], cmap=\"Reds\", square=True)\n",
    "    plt.title(f\"N-ResLN-L{layer+1}\")\n",
    "    plt.subplot(1,4,4)\n",
    "    sns.heatmap(local_attentions[\"N-Enc\"][1][layer], cmap=\"Reds\", square=True)\n",
    "    plt.title(f\"N-Enc-L{layer+1}\")"
   ]
  },
  {
   "cell_type": "code",
   "execution_count": 51,
   "metadata": {},
   "outputs": [
    {
     "name": "stdout",
     "output_type": "stream",
     "text": [
      "W\n",
      " -0.5515151515151515\n",
      "N-Enc\n",
      " 0.6242424242424242\n"
     ]
    }
   ],
   "source": [
    "print(\"W\\n\", spearmans[\"W\"][1][11])\n",
    "print(\"N-Enc\\n\", spearmans[\"N-Enc\"][1][11])"
   ]
  },
  {
   "cell_type": "code",
   "execution_count": 52,
   "metadata": {},
   "outputs": [
    {
     "data": {
      "application/vnd.jupyter.widget-view+json": {
       "model_id": "7e8cc1c177cf4c46a5c2b6c2582114ab",
       "version_major": 2,
       "version_minor": 0
      },
      "text/plain": [
       "W___________:   0%|          | 0/256 [00:00<?, ?it/s]"
      ]
     },
     "metadata": {},
     "output_type": "display_data"
    },
    {
     "ename": "KeyboardInterrupt",
     "evalue": "",
     "output_type": "error",
     "traceback": [
      "\u001b[1;31m---------------------------------------------------------------------------\u001b[0m",
      "\u001b[1;31mKeyboardInterrupt\u001b[0m                         Traceback (most recent call last)",
      "\u001b[1;32m<ipython-input-52-8dfbf885c02e>\u001b[0m in \u001b[0;36m<module>\u001b[1;34m\u001b[0m\n\u001b[0;32m      8\u001b[0m     spearmans[key] = src.metrics.compute_spearman_correlation_hta(local_attentions[key], \n\u001b[0;32m      9\u001b[0m                                                                   \u001b[0mconfig\u001b[0m\u001b[1;33m[\u001b[0m\u001b[1;34m\"HTA_PATH\"\u001b[0m\u001b[1;33m]\u001b[0m\u001b[1;33m,\u001b[0m\u001b[1;33m\u001b[0m\u001b[1;33m\u001b[0m\u001b[0m\n\u001b[1;32m---> 10\u001b[1;33m                                                                   desc=key.ljust(12, '_'),)\n\u001b[0m\u001b[0;32m     11\u001b[0m \u001b[1;33m\u001b[0m\u001b[0m\n\u001b[0;32m     12\u001b[0m \u001b[0mspearmans\u001b[0m\u001b[1;33m[\u001b[0m\u001b[1;34m\"W\"\u001b[0m\u001b[1;33m]\u001b[0m\u001b[1;33m[\u001b[0m\u001b[1;36m1\u001b[0m\u001b[1;33m]\u001b[0m\u001b[1;33m.\u001b[0m\u001b[0mshape\u001b[0m\u001b[1;33m\u001b[0m\u001b[1;33m\u001b[0m\u001b[0m\n",
      "\u001b[1;32mF:\\Programming\\DNN\\NLP\\Attention_Flow\\attention-flow\\src\\metrics.py\u001b[0m in \u001b[0;36mcompute_spearman_correlation_hta\u001b[1;34m(attentions_list, hta_file_address, desc, max_length)\u001b[0m\n\u001b[0;32m     58\u001b[0m             \u001b[1;32mfor\u001b[0m \u001b[0mattender\u001b[0m \u001b[1;32min\u001b[0m \u001b[0mrange\u001b[0m\u001b[1;33m(\u001b[0m\u001b[0mlength\u001b[0m\u001b[1;33m)\u001b[0m\u001b[1;33m:\u001b[0m\u001b[1;33m\u001b[0m\u001b[1;33m\u001b[0m\u001b[0m\n\u001b[0;32m     59\u001b[0m                 i_layer_spearmans.append(spearmanr(attentions_list[i][layer][attender][:length],\n\u001b[1;32m---> 60\u001b[1;33m                                              hta[layer][i][attender][:length]).correlation)\n\u001b[0m\u001b[0;32m     61\u001b[0m             \u001b[0mi_spearmans\u001b[0m\u001b[1;33m.\u001b[0m\u001b[0mappend\u001b[0m\u001b[1;33m(\u001b[0m\u001b[0mnp\u001b[0m\u001b[1;33m.\u001b[0m\u001b[0marray\u001b[0m\u001b[1;33m(\u001b[0m\u001b[0mi_layer_spearmans\u001b[0m\u001b[1;33m)\u001b[0m\u001b[1;33m)\u001b[0m\u001b[1;33m\u001b[0m\u001b[1;33m\u001b[0m\u001b[0m\n\u001b[0;32m     62\u001b[0m         \u001b[0mspearmans\u001b[0m\u001b[1;33m.\u001b[0m\u001b[0mappend\u001b[0m\u001b[1;33m(\u001b[0m\u001b[0mnp\u001b[0m\u001b[1;33m.\u001b[0m\u001b[0marray\u001b[0m\u001b[1;33m(\u001b[0m\u001b[0mi_spearmans\u001b[0m\u001b[1;33m)\u001b[0m\u001b[1;33m)\u001b[0m\u001b[1;33m\u001b[0m\u001b[1;33m\u001b[0m\u001b[0m\n",
      "\u001b[1;32m~\\Anaconda3\\envs\\attention-env\\lib\\site-packages\\scipy\\stats\\stats.py\u001b[0m in \u001b[0;36mspearmanr\u001b[1;34m(a, b, axis, nan_policy)\u001b[0m\n\u001b[0;32m   4215\u001b[0m                 \u001b[0mvariable_has_nan\u001b[0m \u001b[1;33m=\u001b[0m \u001b[0mnp\u001b[0m\u001b[1;33m.\u001b[0m\u001b[0misnan\u001b[0m\u001b[1;33m(\u001b[0m\u001b[0ma\u001b[0m\u001b[1;33m)\u001b[0m\u001b[1;33m.\u001b[0m\u001b[0msum\u001b[0m\u001b[1;33m(\u001b[0m\u001b[0maxis\u001b[0m\u001b[1;33m=\u001b[0m\u001b[0maxisout\u001b[0m\u001b[1;33m)\u001b[0m\u001b[1;33m\u001b[0m\u001b[1;33m\u001b[0m\u001b[0m\n\u001b[0;32m   4216\u001b[0m \u001b[1;33m\u001b[0m\u001b[0m\n\u001b[1;32m-> 4217\u001b[1;33m     \u001b[0ma_ranked\u001b[0m \u001b[1;33m=\u001b[0m \u001b[0mnp\u001b[0m\u001b[1;33m.\u001b[0m\u001b[0mapply_along_axis\u001b[0m\u001b[1;33m(\u001b[0m\u001b[0mrankdata\u001b[0m\u001b[1;33m,\u001b[0m \u001b[0maxisout\u001b[0m\u001b[1;33m,\u001b[0m \u001b[0ma\u001b[0m\u001b[1;33m)\u001b[0m\u001b[1;33m\u001b[0m\u001b[1;33m\u001b[0m\u001b[0m\n\u001b[0m\u001b[0;32m   4218\u001b[0m     \u001b[0mrs\u001b[0m \u001b[1;33m=\u001b[0m \u001b[0mnp\u001b[0m\u001b[1;33m.\u001b[0m\u001b[0mcorrcoef\u001b[0m\u001b[1;33m(\u001b[0m\u001b[0ma_ranked\u001b[0m\u001b[1;33m,\u001b[0m \u001b[0mrowvar\u001b[0m\u001b[1;33m=\u001b[0m\u001b[0maxisout\u001b[0m\u001b[1;33m)\u001b[0m\u001b[1;33m\u001b[0m\u001b[1;33m\u001b[0m\u001b[0m\n\u001b[0;32m   4219\u001b[0m     \u001b[0mdof\u001b[0m \u001b[1;33m=\u001b[0m \u001b[0mn_obs\u001b[0m \u001b[1;33m-\u001b[0m \u001b[1;36m2\u001b[0m  \u001b[1;31m# degrees of freedom\u001b[0m\u001b[1;33m\u001b[0m\u001b[1;33m\u001b[0m\u001b[0m\n",
      "\u001b[1;32m<__array_function__ internals>\u001b[0m in \u001b[0;36mapply_along_axis\u001b[1;34m(*args, **kwargs)\u001b[0m\n",
      "\u001b[1;32m~\\Anaconda3\\envs\\attention-env\\lib\\site-packages\\numpy\\lib\\shape_base.py\u001b[0m in \u001b[0;36mapply_along_axis\u001b[1;34m(func1d, axis, arr, *args, **kwargs)\u001b[0m\n\u001b[0;32m    377\u001b[0m             \u001b[1;34m'Cannot apply_along_axis when any iteration dimensions are 0'\u001b[0m\u001b[1;33m\u001b[0m\u001b[1;33m\u001b[0m\u001b[0m\n\u001b[0;32m    378\u001b[0m         ) from None\n\u001b[1;32m--> 379\u001b[1;33m     \u001b[0mres\u001b[0m \u001b[1;33m=\u001b[0m \u001b[0masanyarray\u001b[0m\u001b[1;33m(\u001b[0m\u001b[0mfunc1d\u001b[0m\u001b[1;33m(\u001b[0m\u001b[0minarr_view\u001b[0m\u001b[1;33m[\u001b[0m\u001b[0mind0\u001b[0m\u001b[1;33m]\u001b[0m\u001b[1;33m,\u001b[0m \u001b[1;33m*\u001b[0m\u001b[0margs\u001b[0m\u001b[1;33m,\u001b[0m \u001b[1;33m**\u001b[0m\u001b[0mkwargs\u001b[0m\u001b[1;33m)\u001b[0m\u001b[1;33m)\u001b[0m\u001b[1;33m\u001b[0m\u001b[1;33m\u001b[0m\u001b[0m\n\u001b[0m\u001b[0;32m    380\u001b[0m \u001b[1;33m\u001b[0m\u001b[0m\n\u001b[0;32m    381\u001b[0m     \u001b[1;31m# build a buffer for storing evaluations of func1d.\u001b[0m\u001b[1;33m\u001b[0m\u001b[1;33m\u001b[0m\u001b[1;33m\u001b[0m\u001b[0m\n",
      "\u001b[1;32m~\\Anaconda3\\envs\\attention-env\\lib\\site-packages\\scipy\\stats\\stats.py\u001b[0m in \u001b[0;36mrankdata\u001b[1;34m(a, method, axis)\u001b[0m\n\u001b[0;32m   8048\u001b[0m \u001b[1;33m\u001b[0m\u001b[0m\n\u001b[0;32m   8049\u001b[0m     \u001b[1;31m# cumulative counts of each unique value\u001b[0m\u001b[1;33m\u001b[0m\u001b[1;33m\u001b[0m\u001b[1;33m\u001b[0m\u001b[0m\n\u001b[1;32m-> 8050\u001b[1;33m     \u001b[0mcount\u001b[0m \u001b[1;33m=\u001b[0m \u001b[0mnp\u001b[0m\u001b[1;33m.\u001b[0m\u001b[0mr_\u001b[0m\u001b[1;33m[\u001b[0m\u001b[0mnp\u001b[0m\u001b[1;33m.\u001b[0m\u001b[0mnonzero\u001b[0m\u001b[1;33m(\u001b[0m\u001b[0mobs\u001b[0m\u001b[1;33m)\u001b[0m\u001b[1;33m[\u001b[0m\u001b[1;36m0\u001b[0m\u001b[1;33m]\u001b[0m\u001b[1;33m,\u001b[0m \u001b[0mlen\u001b[0m\u001b[1;33m(\u001b[0m\u001b[0mobs\u001b[0m\u001b[1;33m)\u001b[0m\u001b[1;33m]\u001b[0m\u001b[1;33m\u001b[0m\u001b[1;33m\u001b[0m\u001b[0m\n\u001b[0m\u001b[0;32m   8051\u001b[0m \u001b[1;33m\u001b[0m\u001b[0m\n\u001b[0;32m   8052\u001b[0m     \u001b[1;32mif\u001b[0m \u001b[0mmethod\u001b[0m \u001b[1;33m==\u001b[0m \u001b[1;34m'max'\u001b[0m\u001b[1;33m:\u001b[0m\u001b[1;33m\u001b[0m\u001b[1;33m\u001b[0m\u001b[0m\n",
      "\u001b[1;32m~\\Anaconda3\\envs\\attention-env\\lib\\site-packages\\numpy\\lib\\index_tricks.py\u001b[0m in \u001b[0;36m__getitem__\u001b[1;34m(self, key)\u001b[0m\n\u001b[0;32m    404\u001b[0m                 \u001b[0mobjs\u001b[0m\u001b[1;33m[\u001b[0m\u001b[0mk\u001b[0m\u001b[1;33m]\u001b[0m \u001b[1;33m=\u001b[0m \u001b[0mobjs\u001b[0m\u001b[1;33m[\u001b[0m\u001b[0mk\u001b[0m\u001b[1;33m]\u001b[0m\u001b[1;33m.\u001b[0m\u001b[0mastype\u001b[0m\u001b[1;33m(\u001b[0m\u001b[0mfinal_dtype\u001b[0m\u001b[1;33m)\u001b[0m\u001b[1;33m\u001b[0m\u001b[1;33m\u001b[0m\u001b[0m\n\u001b[0;32m    405\u001b[0m \u001b[1;33m\u001b[0m\u001b[0m\n\u001b[1;32m--> 406\u001b[1;33m         \u001b[0mres\u001b[0m \u001b[1;33m=\u001b[0m \u001b[0mself\u001b[0m\u001b[1;33m.\u001b[0m\u001b[0mconcatenate\u001b[0m\u001b[1;33m(\u001b[0m\u001b[0mtuple\u001b[0m\u001b[1;33m(\u001b[0m\u001b[0mobjs\u001b[0m\u001b[1;33m)\u001b[0m\u001b[1;33m,\u001b[0m \u001b[0maxis\u001b[0m\u001b[1;33m=\u001b[0m\u001b[0maxis\u001b[0m\u001b[1;33m)\u001b[0m\u001b[1;33m\u001b[0m\u001b[1;33m\u001b[0m\u001b[0m\n\u001b[0m\u001b[0;32m    407\u001b[0m \u001b[1;33m\u001b[0m\u001b[0m\n\u001b[0;32m    408\u001b[0m         \u001b[1;32mif\u001b[0m \u001b[0mmatrix\u001b[0m\u001b[1;33m:\u001b[0m\u001b[1;33m\u001b[0m\u001b[1;33m\u001b[0m\u001b[0m\n",
      "\u001b[1;32m<__array_function__ internals>\u001b[0m in \u001b[0;36mconcatenate\u001b[1;34m(*args, **kwargs)\u001b[0m\n",
      "\u001b[1;31mKeyboardInterrupt\u001b[0m: "
     ]
    }
   ],
   "source": [
    "import src.metrics\n",
    "reload(src.metrics)\n",
    "\n",
    "spearmans = dict()  # spearmans[key]: (#batch, #layers, spearman)\n",
    "for key in local_attentions.keys():\n",
    "    if key not in [\"W\", \"N-Res\", \"N-ResLN\", \"N-Enc\"]:\n",
    "        continue\n",
    "    spearmans[key] = src.metrics.compute_spearman_correlation_hta(local_attentions[key], \n",
    "                                                                  config[\"HTA_PATH\"],\n",
    "                                                                  desc=key.ljust(12, '_'),)\n",
    "    \n",
    "spearmans[\"W\"][1].shape\n",
    "\n",
    "# PRINT\n"
   ]
  },
  {
   "cell_type": "code",
   "execution_count": 149,
   "metadata": {},
   "outputs": [
    {
     "name": "stdout",
     "output_type": "stream",
     "text": [
      "---------\n",
      "W-L1                    0.87 ± 0.09\n",
      "W-L2                    0.86 ± 0.07\n",
      "W-L3                    0.86 ± 0.05\n",
      "W-L4                    0.84 ± 0.11\n",
      "W-L5                    0.89 ± 0.05\n",
      "W-L6                    0.89 ± 0.08\n",
      "W-L7                    0.89 ± 0.09\n",
      "W-L8                    0.90 ± 0.09\n",
      "W-L9                    0.89 ± 0.06\n",
      "W-L10                   0.92 ± 0.04\n",
      "W-L11                   0.92 ± 0.04\n",
      "W-L12                   0.90 ± 0.04\n",
      "---------\n",
      "N-Res-L1                0.93 ± 0.03\n",
      "N-Res-L2                0.95 ± 0.02\n",
      "N-Res-L3                0.96 ± 0.02\n",
      "N-Res-L4                0.96 ± 0.02\n",
      "N-Res-L5                0.90 ± 0.09\n",
      "N-Res-L6                0.92 ± 0.08\n",
      "N-Res-L7                0.92 ± 0.09\n",
      "N-Res-L8                0.93 ± 0.07\n",
      "N-Res-L9                0.90 ± 0.11\n",
      "N-Res-L10               0.94 ± 0.06\n",
      "N-Res-L11               0.95 ± 0.05\n",
      "N-Res-L12               0.84 ± 0.11\n",
      "---------\n",
      "N-ResLN-L1              0.93 ± 0.03\n",
      "N-ResLN-L2              0.95 ± 0.02\n",
      "N-ResLN-L3              0.96 ± 0.02\n",
      "N-ResLN-L4              0.96 ± 0.02\n",
      "N-ResLN-L5              0.91 ± 0.08\n",
      "N-ResLN-L6              0.92 ± 0.07\n",
      "N-ResLN-L7              0.92 ± 0.09\n",
      "N-ResLN-L8              0.93 ± 0.07\n",
      "N-ResLN-L9              0.90 ± 0.11\n",
      "N-ResLN-L10             0.94 ± 0.06\n",
      "N-ResLN-L11             0.95 ± 0.05\n",
      "N-ResLN-L12             0.87 ± 0.09\n",
      "---------\n",
      "N-Enc-L1                0.93 ± 0.03\n",
      "N-Enc-L2                0.95 ± 0.02\n",
      "N-Enc-L3                0.96 ± 0.02\n",
      "N-Enc-L4                0.96 ± 0.02\n",
      "N-Enc-L5                0.91 ± 0.09\n",
      "N-Enc-L6                0.92 ± 0.08\n",
      "N-Enc-L7                0.92 ± 0.09\n",
      "N-Enc-L8                0.93 ± 0.07\n",
      "N-Enc-L9                0.90 ± 0.11\n",
      "N-Enc-L10               0.94 ± 0.06\n",
      "N-Enc-L11               0.95 ± 0.05\n",
      "N-Enc-L12               0.84 ± 0.11\n"
     ]
    }
   ],
   "source": [
    "hta_spearmans = {}\n",
    "for key in spearmans.keys():\n",
    "    print(\"---------\")\n",
    "    hta_spearmans[key] = [[] for _ in range(12)]\n",
    "    for i in range(len(spearmans[\"W\"])):\n",
    "        for layer in range(12):\n",
    "            hta_spearmans[key][layer].append(np.mean(spearmans[key][i][layer]))\n",
    "    hta_spearmans[key] = np.array(hta_spearmans[key])\n",
    "    for layer in range(12):\n",
    "        layer_text = f\"-L{layer+1}\"\n",
    "        print(f\"{key}{layer_text}\".ljust(23), f\"{np.mean(hta_spearmans[key][layer]):.2f}\",\n",
    "              f\"± {np.std(hta_spearmans[key][layer]):.2f}\")\n",
    "\n",
    "# np.array(s[layer])\n",
    "# for key in local_attentions.keys():\n",
    "# "
   ]
  },
  {
   "cell_type": "code",
   "execution_count": 67,
   "metadata": {},
   "outputs": [
    {
     "data": {
      "text/plain": [
       "(12, 24)"
      ]
     },
     "execution_count": 67,
     "metadata": {},
     "output_type": "execute_result"
    }
   ],
   "source": [
    "spearmans[\"W\"][2].shape"
   ]
  },
  {
   "cell_type": "markdown",
   "metadata": {},
   "source": [
    "### Single Layers Correlation"
   ]
  },
  {
   "cell_type": "code",
   "execution_count": 10,
   "metadata": {
    "scrolled": true
   },
   "outputs": [
    {
     "data": {
      "application/vnd.jupyter.widget-view+json": {
       "model_id": "0448c0e7da3e487a941a48e7de269702",
       "version_major": 2,
       "version_minor": 0
      },
      "text/plain": [
       "raw 0_________:   0%|          | 0/256 [00:00<?, ?it/s]"
      ]
     },
     "metadata": {},
     "output_type": "display_data"
    },
    {
     "data": {
      "application/vnd.jupyter.widget-view+json": {
       "model_id": "dc5aa87d2d584f1bb66aebf998f229f2",
       "version_major": 2,
       "version_minor": 0
      },
      "text/plain": [
       "N 0___________:   0%|          | 0/256 [00:00<?, ?it/s]"
      ]
     },
     "metadata": {},
     "output_type": "display_data"
    },
    {
     "data": {
      "application/vnd.jupyter.widget-view+json": {
       "model_id": "6b4c93756c0d484090b23a8180d4ee98",
       "version_major": 2,
       "version_minor": 0
      },
      "text/plain": [
       "N-Res 0_______:   0%|          | 0/256 [00:00<?, ?it/s]"
      ]
     },
     "metadata": {},
     "output_type": "display_data"
    },
    {
     "data": {
      "application/vnd.jupyter.widget-view+json": {
       "model_id": "290ce0787a3d465baa1f6bd9dafa51c6",
       "version_major": 2,
       "version_minor": 0
      },
      "text/plain": [
       "N-ResLN 0_____:   0%|          | 0/256 [00:00<?, ?it/s]"
      ]
     },
     "metadata": {},
     "output_type": "display_data"
    },
    {
     "data": {
      "application/vnd.jupyter.widget-view+json": {
       "model_id": "f706d195481a425293d6d9f5c85b7216",
       "version_major": 2,
       "version_minor": 0
      },
      "text/plain": [
       "N-Enc 0_______:   0%|          | 0/256 [00:00<?, ?it/s]"
      ]
     },
     "metadata": {},
     "output_type": "display_data"
    },
    {
     "data": {
      "application/vnd.jupyter.widget-view+json": {
       "model_id": "21e7b135a8524f19ab06bbb993524d8a",
       "version_major": 2,
       "version_minor": 0
      },
      "text/plain": [
       "raw 1_________:   0%|          | 0/256 [00:00<?, ?it/s]"
      ]
     },
     "metadata": {},
     "output_type": "display_data"
    },
    {
     "data": {
      "application/vnd.jupyter.widget-view+json": {
       "model_id": "accadb44b0c64f3f99d9d90b575787f7",
       "version_major": 2,
       "version_minor": 0
      },
      "text/plain": [
       "N 1___________:   0%|          | 0/256 [00:00<?, ?it/s]"
      ]
     },
     "metadata": {},
     "output_type": "display_data"
    },
    {
     "data": {
      "application/vnd.jupyter.widget-view+json": {
       "model_id": "1a31786eb0a94a6f926916bcd74c8ad9",
       "version_major": 2,
       "version_minor": 0
      },
      "text/plain": [
       "N-Res 1_______:   0%|          | 0/256 [00:00<?, ?it/s]"
      ]
     },
     "metadata": {},
     "output_type": "display_data"
    },
    {
     "data": {
      "application/vnd.jupyter.widget-view+json": {
       "model_id": "13354f45476644488030825098024aec",
       "version_major": 2,
       "version_minor": 0
      },
      "text/plain": [
       "N-ResLN 1_____:   0%|          | 0/256 [00:00<?, ?it/s]"
      ]
     },
     "metadata": {},
     "output_type": "display_data"
    },
    {
     "data": {
      "application/vnd.jupyter.widget-view+json": {
       "model_id": "157f2bc8b195432c93d03e32c708457c",
       "version_major": 2,
       "version_minor": 0
      },
      "text/plain": [
       "N-Enc 1_______:   0%|          | 0/256 [00:00<?, ?it/s]"
      ]
     },
     "metadata": {},
     "output_type": "display_data"
    },
    {
     "data": {
      "application/vnd.jupyter.widget-view+json": {
       "model_id": "af27323e11c34bb1bcd52ce69de86320",
       "version_major": 2,
       "version_minor": 0
      },
      "text/plain": [
       "raw 2_________:   0%|          | 0/256 [00:00<?, ?it/s]"
      ]
     },
     "metadata": {},
     "output_type": "display_data"
    },
    {
     "data": {
      "application/vnd.jupyter.widget-view+json": {
       "model_id": "bd4d3db4524f489e9a72f37ae23d48ef",
       "version_major": 2,
       "version_minor": 0
      },
      "text/plain": [
       "N 2___________:   0%|          | 0/256 [00:00<?, ?it/s]"
      ]
     },
     "metadata": {},
     "output_type": "display_data"
    },
    {
     "data": {
      "application/vnd.jupyter.widget-view+json": {
       "model_id": "f6ff90c532704d3b8b5daf8664fa0103",
       "version_major": 2,
       "version_minor": 0
      },
      "text/plain": [
       "N-Res 2_______:   0%|          | 0/256 [00:00<?, ?it/s]"
      ]
     },
     "metadata": {},
     "output_type": "display_data"
    },
    {
     "data": {
      "application/vnd.jupyter.widget-view+json": {
       "model_id": "5e14cb49924c4895a84c5874000002a0",
       "version_major": 2,
       "version_minor": 0
      },
      "text/plain": [
       "N-ResLN 2_____:   0%|          | 0/256 [00:00<?, ?it/s]"
      ]
     },
     "metadata": {},
     "output_type": "display_data"
    },
    {
     "data": {
      "application/vnd.jupyter.widget-view+json": {
       "model_id": "f77465f7e4f247cf801a030d456be31a",
       "version_major": 2,
       "version_minor": 0
      },
      "text/plain": [
       "N-Enc 2_______:   0%|          | 0/256 [00:00<?, ?it/s]"
      ]
     },
     "metadata": {},
     "output_type": "display_data"
    },
    {
     "data": {
      "application/vnd.jupyter.widget-view+json": {
       "model_id": "8e10618aa7694db6ac8648c2c6b56a59",
       "version_major": 2,
       "version_minor": 0
      },
      "text/plain": [
       "raw 3_________:   0%|          | 0/256 [00:00<?, ?it/s]"
      ]
     },
     "metadata": {},
     "output_type": "display_data"
    },
    {
     "data": {
      "application/vnd.jupyter.widget-view+json": {
       "model_id": "63f150ac95064986a66ae085d4bb4dfe",
       "version_major": 2,
       "version_minor": 0
      },
      "text/plain": [
       "N 3___________:   0%|          | 0/256 [00:00<?, ?it/s]"
      ]
     },
     "metadata": {},
     "output_type": "display_data"
    },
    {
     "data": {
      "application/vnd.jupyter.widget-view+json": {
       "model_id": "8142ae1c3fbf47c2b59e2f0f4654a293",
       "version_major": 2,
       "version_minor": 0
      },
      "text/plain": [
       "N-Res 3_______:   0%|          | 0/256 [00:00<?, ?it/s]"
      ]
     },
     "metadata": {},
     "output_type": "display_data"
    },
    {
     "data": {
      "application/vnd.jupyter.widget-view+json": {
       "model_id": "49ee5ab94fbd44e1a0259aa0bb329841",
       "version_major": 2,
       "version_minor": 0
      },
      "text/plain": [
       "N-ResLN 3_____:   0%|          | 0/256 [00:00<?, ?it/s]"
      ]
     },
     "metadata": {},
     "output_type": "display_data"
    },
    {
     "data": {
      "application/vnd.jupyter.widget-view+json": {
       "model_id": "9f35cd0276da456aa601935d248acf18",
       "version_major": 2,
       "version_minor": 0
      },
      "text/plain": [
       "N-Enc 3_______:   0%|          | 0/256 [00:00<?, ?it/s]"
      ]
     },
     "metadata": {},
     "output_type": "display_data"
    },
    {
     "data": {
      "application/vnd.jupyter.widget-view+json": {
       "model_id": "96bbefe42ed54f46978b7a37e7f17d32",
       "version_major": 2,
       "version_minor": 0
      },
      "text/plain": [
       "raw 4_________:   0%|          | 0/256 [00:00<?, ?it/s]"
      ]
     },
     "metadata": {},
     "output_type": "display_data"
    },
    {
     "data": {
      "application/vnd.jupyter.widget-view+json": {
       "model_id": "e844b2e0a95c414e85beaadc1af6c36f",
       "version_major": 2,
       "version_minor": 0
      },
      "text/plain": [
       "N 4___________:   0%|          | 0/256 [00:00<?, ?it/s]"
      ]
     },
     "metadata": {},
     "output_type": "display_data"
    },
    {
     "data": {
      "application/vnd.jupyter.widget-view+json": {
       "model_id": "d9f723e3dc764ee69f496a1af2d72c67",
       "version_major": 2,
       "version_minor": 0
      },
      "text/plain": [
       "N-Res 4_______:   0%|          | 0/256 [00:00<?, ?it/s]"
      ]
     },
     "metadata": {},
     "output_type": "display_data"
    },
    {
     "data": {
      "application/vnd.jupyter.widget-view+json": {
       "model_id": "1a0032233982406bba7e2e3fa450cd62",
       "version_major": 2,
       "version_minor": 0
      },
      "text/plain": [
       "N-ResLN 4_____:   0%|          | 0/256 [00:00<?, ?it/s]"
      ]
     },
     "metadata": {},
     "output_type": "display_data"
    },
    {
     "data": {
      "application/vnd.jupyter.widget-view+json": {
       "model_id": "4afaa1ea254845ba9103c0696fdfca43",
       "version_major": 2,
       "version_minor": 0
      },
      "text/plain": [
       "N-Enc 4_______:   0%|          | 0/256 [00:00<?, ?it/s]"
      ]
     },
     "metadata": {},
     "output_type": "display_data"
    },
    {
     "data": {
      "application/vnd.jupyter.widget-view+json": {
       "model_id": "f2caa97def334cb5b84f9f3fafdf2696",
       "version_major": 2,
       "version_minor": 0
      },
      "text/plain": [
       "raw 5_________:   0%|          | 0/256 [00:00<?, ?it/s]"
      ]
     },
     "metadata": {},
     "output_type": "display_data"
    },
    {
     "data": {
      "application/vnd.jupyter.widget-view+json": {
       "model_id": "a345cfaa71d04aaa9556b6a8cc14f934",
       "version_major": 2,
       "version_minor": 0
      },
      "text/plain": [
       "N 5___________:   0%|          | 0/256 [00:00<?, ?it/s]"
      ]
     },
     "metadata": {},
     "output_type": "display_data"
    },
    {
     "data": {
      "application/vnd.jupyter.widget-view+json": {
       "model_id": "7eec0c9de9d84fa5a73b7b1e57deab35",
       "version_major": 2,
       "version_minor": 0
      },
      "text/plain": [
       "N-Res 5_______:   0%|          | 0/256 [00:00<?, ?it/s]"
      ]
     },
     "metadata": {},
     "output_type": "display_data"
    },
    {
     "data": {
      "application/vnd.jupyter.widget-view+json": {
       "model_id": "3d51107046c14ba4ade957a31377adaf",
       "version_major": 2,
       "version_minor": 0
      },
      "text/plain": [
       "N-ResLN 5_____:   0%|          | 0/256 [00:00<?, ?it/s]"
      ]
     },
     "metadata": {},
     "output_type": "display_data"
    },
    {
     "data": {
      "application/vnd.jupyter.widget-view+json": {
       "model_id": "443dd81abfc740f58eaa2907d134145e",
       "version_major": 2,
       "version_minor": 0
      },
      "text/plain": [
       "N-Enc 5_______:   0%|          | 0/256 [00:00<?, ?it/s]"
      ]
     },
     "metadata": {},
     "output_type": "display_data"
    },
    {
     "data": {
      "application/vnd.jupyter.widget-view+json": {
       "model_id": "6897eaf41d3342979d80e5718476ed15",
       "version_major": 2,
       "version_minor": 0
      },
      "text/plain": [
       "raw 6_________:   0%|          | 0/256 [00:00<?, ?it/s]"
      ]
     },
     "metadata": {},
     "output_type": "display_data"
    },
    {
     "data": {
      "application/vnd.jupyter.widget-view+json": {
       "model_id": "0cdee34c63ee4c4fba7635362eddc960",
       "version_major": 2,
       "version_minor": 0
      },
      "text/plain": [
       "N 6___________:   0%|          | 0/256 [00:00<?, ?it/s]"
      ]
     },
     "metadata": {},
     "output_type": "display_data"
    },
    {
     "data": {
      "application/vnd.jupyter.widget-view+json": {
       "model_id": "db5e1d3a54a045a0bfe9d1b26dee44d5",
       "version_major": 2,
       "version_minor": 0
      },
      "text/plain": [
       "N-Res 6_______:   0%|          | 0/256 [00:00<?, ?it/s]"
      ]
     },
     "metadata": {},
     "output_type": "display_data"
    },
    {
     "data": {
      "application/vnd.jupyter.widget-view+json": {
       "model_id": "02ce66b5364f445782d29a94e793cb0a",
       "version_major": 2,
       "version_minor": 0
      },
      "text/plain": [
       "N-ResLN 6_____:   0%|          | 0/256 [00:00<?, ?it/s]"
      ]
     },
     "metadata": {},
     "output_type": "display_data"
    },
    {
     "data": {
      "application/vnd.jupyter.widget-view+json": {
       "model_id": "f81d8f6fd1984d6cb9dd6ef13e6dd387",
       "version_major": 2,
       "version_minor": 0
      },
      "text/plain": [
       "N-Enc 6_______:   0%|          | 0/256 [00:00<?, ?it/s]"
      ]
     },
     "metadata": {},
     "output_type": "display_data"
    },
    {
     "data": {
      "application/vnd.jupyter.widget-view+json": {
       "model_id": "ebf03984bd59467bb0de25379a7660bf",
       "version_major": 2,
       "version_minor": 0
      },
      "text/plain": [
       "raw 7_________:   0%|          | 0/256 [00:00<?, ?it/s]"
      ]
     },
     "metadata": {},
     "output_type": "display_data"
    },
    {
     "data": {
      "application/vnd.jupyter.widget-view+json": {
       "model_id": "4111cf8f8e3c458e9335167e6e05f044",
       "version_major": 2,
       "version_minor": 0
      },
      "text/plain": [
       "N 7___________:   0%|          | 0/256 [00:00<?, ?it/s]"
      ]
     },
     "metadata": {},
     "output_type": "display_data"
    },
    {
     "data": {
      "application/vnd.jupyter.widget-view+json": {
       "model_id": "4191150191df46ac8d8d5578653875f0",
       "version_major": 2,
       "version_minor": 0
      },
      "text/plain": [
       "N-Res 7_______:   0%|          | 0/256 [00:00<?, ?it/s]"
      ]
     },
     "metadata": {},
     "output_type": "display_data"
    },
    {
     "data": {
      "application/vnd.jupyter.widget-view+json": {
       "model_id": "f2b2c1e13362421c8fc407cdde6ea422",
       "version_major": 2,
       "version_minor": 0
      },
      "text/plain": [
       "N-ResLN 7_____:   0%|          | 0/256 [00:00<?, ?it/s]"
      ]
     },
     "metadata": {},
     "output_type": "display_data"
    },
    {
     "data": {
      "application/vnd.jupyter.widget-view+json": {
       "model_id": "3f1e35a58a7c4ba6ab7d7482b1be6e2c",
       "version_major": 2,
       "version_minor": 0
      },
      "text/plain": [
       "N-Enc 7_______:   0%|          | 0/256 [00:00<?, ?it/s]"
      ]
     },
     "metadata": {},
     "output_type": "display_data"
    },
    {
     "data": {
      "application/vnd.jupyter.widget-view+json": {
       "model_id": "7e10f7b5cead4a4c8fa03031a0b620e1",
       "version_major": 2,
       "version_minor": 0
      },
      "text/plain": [
       "raw 8_________:   0%|          | 0/256 [00:00<?, ?it/s]"
      ]
     },
     "metadata": {},
     "output_type": "display_data"
    },
    {
     "data": {
      "application/vnd.jupyter.widget-view+json": {
       "model_id": "0520b431e7ff4043b27e6c9d20197fc2",
       "version_major": 2,
       "version_minor": 0
      },
      "text/plain": [
       "N 8___________:   0%|          | 0/256 [00:00<?, ?it/s]"
      ]
     },
     "metadata": {},
     "output_type": "display_data"
    },
    {
     "data": {
      "application/vnd.jupyter.widget-view+json": {
       "model_id": "105d08fd5c114172862f7c2e3e8e00d6",
       "version_major": 2,
       "version_minor": 0
      },
      "text/plain": [
       "N-Res 8_______:   0%|          | 0/256 [00:00<?, ?it/s]"
      ]
     },
     "metadata": {},
     "output_type": "display_data"
    },
    {
     "data": {
      "application/vnd.jupyter.widget-view+json": {
       "model_id": "cdea14ebdb9646568c72c05deef12524",
       "version_major": 2,
       "version_minor": 0
      },
      "text/plain": [
       "N-ResLN 8_____:   0%|          | 0/256 [00:00<?, ?it/s]"
      ]
     },
     "metadata": {},
     "output_type": "display_data"
    },
    {
     "data": {
      "application/vnd.jupyter.widget-view+json": {
       "model_id": "0e8772991d0a4dcb860fa0ef6afd4dde",
       "version_major": 2,
       "version_minor": 0
      },
      "text/plain": [
       "N-Enc 8_______:   0%|          | 0/256 [00:00<?, ?it/s]"
      ]
     },
     "metadata": {},
     "output_type": "display_data"
    },
    {
     "data": {
      "application/vnd.jupyter.widget-view+json": {
       "model_id": "94e2838661284dbb98d2ff3fc7581bdb",
       "version_major": 2,
       "version_minor": 0
      },
      "text/plain": [
       "raw 9_________:   0%|          | 0/256 [00:00<?, ?it/s]"
      ]
     },
     "metadata": {},
     "output_type": "display_data"
    },
    {
     "data": {
      "application/vnd.jupyter.widget-view+json": {
       "model_id": "c8acbc3a0a8441b9bb47f67e5ca15262",
       "version_major": 2,
       "version_minor": 0
      },
      "text/plain": [
       "N 9___________:   0%|          | 0/256 [00:00<?, ?it/s]"
      ]
     },
     "metadata": {},
     "output_type": "display_data"
    },
    {
     "data": {
      "application/vnd.jupyter.widget-view+json": {
       "model_id": "a183f371c71a412da225691af4dac780",
       "version_major": 2,
       "version_minor": 0
      },
      "text/plain": [
       "N-Res 9_______:   0%|          | 0/256 [00:00<?, ?it/s]"
      ]
     },
     "metadata": {},
     "output_type": "display_data"
    },
    {
     "data": {
      "application/vnd.jupyter.widget-view+json": {
       "model_id": "e2f7737cf3ed4fcbbb3371987a8ccf23",
       "version_major": 2,
       "version_minor": 0
      },
      "text/plain": [
       "N-ResLN 9_____:   0%|          | 0/256 [00:00<?, ?it/s]"
      ]
     },
     "metadata": {},
     "output_type": "display_data"
    },
    {
     "data": {
      "application/vnd.jupyter.widget-view+json": {
       "model_id": "0cfe5882a71e4d6399c4ee9da248b54d",
       "version_major": 2,
       "version_minor": 0
      },
      "text/plain": [
       "N-Enc 9_______:   0%|          | 0/256 [00:00<?, ?it/s]"
      ]
     },
     "metadata": {},
     "output_type": "display_data"
    },
    {
     "data": {
      "application/vnd.jupyter.widget-view+json": {
       "model_id": "4eb3710c3488443e90a163984c019c46",
       "version_major": 2,
       "version_minor": 0
      },
      "text/plain": [
       "raw 10________:   0%|          | 0/256 [00:00<?, ?it/s]"
      ]
     },
     "metadata": {},
     "output_type": "display_data"
    },
    {
     "data": {
      "application/vnd.jupyter.widget-view+json": {
       "model_id": "b0bf5dd2392b44f0b3cf5436829d0a98",
       "version_major": 2,
       "version_minor": 0
      },
      "text/plain": [
       "N 10__________:   0%|          | 0/256 [00:00<?, ?it/s]"
      ]
     },
     "metadata": {},
     "output_type": "display_data"
    },
    {
     "data": {
      "application/vnd.jupyter.widget-view+json": {
       "model_id": "1207a09676db459a9b7760a100e3202d",
       "version_major": 2,
       "version_minor": 0
      },
      "text/plain": [
       "N-Res 10______:   0%|          | 0/256 [00:00<?, ?it/s]"
      ]
     },
     "metadata": {},
     "output_type": "display_data"
    },
    {
     "data": {
      "application/vnd.jupyter.widget-view+json": {
       "model_id": "ae5c2204b78f42a580d6fb6908d72353",
       "version_major": 2,
       "version_minor": 0
      },
      "text/plain": [
       "N-ResLN 10____:   0%|          | 0/256 [00:00<?, ?it/s]"
      ]
     },
     "metadata": {},
     "output_type": "display_data"
    },
    {
     "data": {
      "application/vnd.jupyter.widget-view+json": {
       "model_id": "ba89f9454c55469abae43ab39db49c95",
       "version_major": 2,
       "version_minor": 0
      },
      "text/plain": [
       "N-Enc 10______:   0%|          | 0/256 [00:00<?, ?it/s]"
      ]
     },
     "metadata": {},
     "output_type": "display_data"
    },
    {
     "data": {
      "application/vnd.jupyter.widget-view+json": {
       "model_id": "1b23f6b28bb74b448c47b34f17267775",
       "version_major": 2,
       "version_minor": 0
      },
      "text/plain": [
       "raw 11________:   0%|          | 0/256 [00:00<?, ?it/s]"
      ]
     },
     "metadata": {},
     "output_type": "display_data"
    },
    {
     "data": {
      "application/vnd.jupyter.widget-view+json": {
       "model_id": "75126a6052854849b314ab0123c7a25e",
       "version_major": 2,
       "version_minor": 0
      },
      "text/plain": [
       "N 11__________:   0%|          | 0/256 [00:00<?, ?it/s]"
      ]
     },
     "metadata": {},
     "output_type": "display_data"
    },
    {
     "data": {
      "application/vnd.jupyter.widget-view+json": {
       "model_id": "7470bce7ee7d4775bec1aefb688856fd",
       "version_major": 2,
       "version_minor": 0
      },
      "text/plain": [
       "N-Res 11______:   0%|          | 0/256 [00:00<?, ?it/s]"
      ]
     },
     "metadata": {},
     "output_type": "display_data"
    },
    {
     "data": {
      "application/vnd.jupyter.widget-view+json": {
       "model_id": "3d02661bc7424176bfb53162f971491e",
       "version_major": 2,
       "version_minor": 0
      },
      "text/plain": [
       "N-ResLN 11____:   0%|          | 0/256 [00:00<?, ?it/s]"
      ]
     },
     "metadata": {},
     "output_type": "display_data"
    },
    {
     "data": {
      "application/vnd.jupyter.widget-view+json": {
       "model_id": "6f45a4d368a24f8fa1e0018e42f45577",
       "version_major": 2,
       "version_minor": 0
      },
      "text/plain": [
       "N-Enc 11______:   0%|          | 0/256 [00:00<?, ?it/s]"
      ]
     },
     "metadata": {},
     "output_type": "display_data"
    },
    {
     "name": "stdout",
     "output_type": "stream",
     "text": [
      "Max Layer: 5 raw 0.32 ± 0.21\n",
      "1 raw          -0.52 ± 0.16\n",
      "2 raw          -0.39 ± 0.23\n",
      "3 raw          -0.14 ± 0.26\n",
      "4 raw          0.14 ± 0.24\n",
      "5 raw          0.32 ± 0.21\n",
      "6 raw          0.19 ± 0.25\n",
      "7 raw          0.11 ± 0.25\n",
      "8 raw          0.14 ± 0.24\n",
      "9 raw          0.09 ± 0.23\n",
      "10 raw         0.16 ± 0.23\n",
      "11 raw         0.05 ± 0.24\n",
      "12 raw         0.14 ± 0.25\n",
      "Max Layer: 5 N 0.41 ± 0.21\n",
      "1 N            -0.49 ± 0.18\n",
      "2 N            -0.32 ± 0.23\n",
      "3 N            0.12 ± 0.25\n",
      "4 N            0.39 ± 0.19\n",
      "5 N            0.41 ± 0.21\n",
      "6 N            0.29 ± 0.24\n",
      "7 N            0.17 ± 0.26\n",
      "8 N            0.22 ± 0.24\n",
      "9 N            0.18 ± 0.24\n",
      "10 N           0.26 ± 0.23\n",
      "11 N           0.26 ± 0.23\n",
      "12 N           0.40 ± 0.23\n",
      "Max Layer: 5 N-Res 0.41 ± 0.20\n",
      "1 N-Res        -0.47 ± 0.18\n",
      "2 N-Res        -0.32 ± 0.23\n",
      "3 N-Res        0.12 ± 0.25\n",
      "4 N-Res        0.40 ± 0.19\n",
      "5 N-Res        0.41 ± 0.20\n",
      "6 N-Res        0.31 ± 0.23\n",
      "7 N-Res        0.21 ± 0.25\n",
      "8 N-Res        0.24 ± 0.24\n",
      "9 N-Res        0.23 ± 0.23\n",
      "10 N-Res       0.30 ± 0.22\n",
      "11 N-Res       0.29 ± 0.23\n",
      "12 N-Res       0.41 ± 0.21\n",
      "Max Layer: 12 N-ResLN 0.40 ± 0.21\n",
      "1 N-ResLN      -0.47 ± 0.17\n",
      "2 N-ResLN      -0.32 ± 0.24\n",
      "3 N-ResLN      0.15 ± 0.25\n",
      "4 N-ResLN      0.40 ± 0.19\n",
      "5 N-ResLN      0.40 ± 0.20\n",
      "6 N-ResLN      0.30 ± 0.23\n",
      "7 N-ResLN      0.21 ± 0.25\n",
      "8 N-ResLN      0.23 ± 0.24\n",
      "9 N-ResLN      0.23 ± 0.23\n",
      "10 N-ResLN     0.30 ± 0.22\n",
      "11 N-ResLN     0.29 ± 0.23\n",
      "12 N-ResLN     0.40 ± 0.21\n",
      "Max Layer: 4 N-Enc 0.41 ± 0.19\n",
      "1 N-Enc        -0.47 ± 0.18\n",
      "2 N-Enc        -0.32 ± 0.24\n",
      "3 N-Enc        0.15 ± 0.25\n",
      "4 N-Enc        0.41 ± 0.19\n",
      "5 N-Enc        0.41 ± 0.20\n",
      "6 N-Enc        0.31 ± 0.23\n",
      "7 N-Enc        0.21 ± 0.25\n",
      "8 N-Enc        0.23 ± 0.24\n",
      "9 N-Enc        0.23 ± 0.23\n",
      "10 N-Enc       0.30 ± 0.22\n",
      "11 N-Enc       0.29 ± 0.23\n",
      "12 N-Enc       0.41 ± 0.20\n"
     ]
    },
    {
     "data": {
      "text/plain": [
       "<matplotlib.legend.Legend at 0x19911bdfb00>"
      ]
     },
     "execution_count": 10,
     "metadata": {},
     "output_type": "execute_result"
    },
    {
     "data": {
      "image/png": "[encoded data removed]",
      "text/plain": [
       "<Figure size 1152x432 with 1 Axes>"
      ]
     },
     "metadata": {
      "needs_background": "light"
     },
     "output_type": "display_data"
    }
   ],
   "source": [
    "import src.metrics\n",
    "reload(src.metrics)\n",
    "\n",
    "spearmans_attentions = dict()\n",
    "spearmans_attentions[\"raw\"] = []\n",
    "for key, value in ATTENTION_NORM_TYPES.items():\n",
    "    spearmans_attentions[key] = []\n",
    "\n",
    "for layer in range(12):\n",
    "    spearmans_attentions[\"raw\"].append(src.metrics.compute_spearman_correlation([r[layer] for r in raw_attentions], \n",
    "                                                                                config[\"SALIENCY_BLANK_OUT_PATH\"],\n",
    "                                                                                desc=f\"raw {layer}\".ljust(14, '_'),\n",
    "                                                                                max_length=config[\"SALS_MAX_LENGTH\"]))\n",
    "    \n",
    "    for key, value in ATTENTION_NORM_TYPES.items():\n",
    "        spearmans_attentions[key].append(src.metrics.compute_spearman_correlation([n[layer] for n in norms_list[value]], \n",
    "                                                                                  config[\"SALIENCY_BLANK_OUT_PATH\"],\n",
    "                                                                                  desc=f\"{key} {layer}\".ljust(14, '_'),\n",
    "                                                                                  max_length=config[\"SALS_MAX_LENGTH\"]))\n",
    "#PRINT\n",
    "for key, value in spearmans_attentions.items():\n",
    "    spearmans = np.array(spearmans_attentions[key])\n",
    "    max_layer = np.argmax(np.mean(spearmans_attentions[key], axis=1))\n",
    "    print(f\"Max Layer: {max_layer+1}\", f\"{key}\", f\"{np.mean(spearmans_attentions[key][max_layer]):.2f}\", f\"± {np.std(spearmans_attentions[key][max_layer]):.2f}\")\n",
    "    for layer in range(12):\n",
    "        print(f\"{layer+1} {key}\".ljust(14), \n",
    "              f\"{np.mean(spearmans_attentions[key][layer]):.2f}\",\n",
    "              f\"± {np.std(spearmans_attentions[key][layer]):.2f}\")\n",
    "\n",
    "# PLOT\n",
    "plt.figure(figsize=(16, 6))\n",
    "colors = [\"b\", \"g\", \"r\", \"c\", \"m\"]\n",
    "markers = ['D', 'o', '^', 's', '*']\n",
    "c = 0\n",
    "for key, value in spearmans_attentions.items():\n",
    "    y_mean = []\n",
    "    y_std = []\n",
    "    for layer in range(12):\n",
    "        y_mean.append(np.mean(spearmans_attentions[key][layer]))\n",
    "        y_std.append(np.std(spearmans_attentions[key][layer]))\n",
    "    y_mean = np.array(y_mean)\n",
    "    y_std = np.array(y_std)\n",
    "    plt.plot(range(12), y_mean, markers[c], label=key, color=colors[c])\n",
    "    plt.plot(range(12), y_mean, color=colors[c])\n",
    "    plt.fill_between(range(12), \n",
    "                     y_mean - y_std, \n",
    "                     y_mean + y_std,\n",
    "                     alpha=0.2, color=colors[c])\n",
    "    c += 1\n",
    "plt.legend(loc=\"upper left\")"
   ]
  },
  {
   "cell_type": "markdown",
   "metadata": {},
   "source": [
    "## Visualization"
   ]
  },
  {
   "cell_type": "code",
   "execution_count": 53,
   "metadata": {},
   "outputs": [],
   "source": [
    "import seaborn as sns\n",
    "import pandas as pd\n",
    "import numpy as np\n",
    "import matplotlib.pyplot as plt\n",
    "import matplotlib.gridspec as gridspec\n",
    "\n",
    "def plot_heatmap(norm, tokenized_text, title=\"\"):\n",
    "    df = pd.DataFrame(norm, columns=tokenized_text, index=tokenized_text)\n",
    "    sns.heatmap(df,cmap=\"Reds\",square=True)\n",
    "    plt.title(title)\n",
    "    plt.gcf().subplots_adjust(bottom=0.2)"
   ]
  },
  {
   "cell_type": "markdown",
   "metadata": {},
   "source": [
    "### Attention Flow"
   ]
  },
  {
   "cell_type": "code",
   "execution_count": 102,
   "metadata": {
    "scrolled": false
   },
   "outputs": [
    {
     "data": {
      "image/png": "[encoded data removed]",
      "text/plain": [
       "<Figure size 1152x936 with 18 Axes>"
      ]
     },
     "metadata": {
      "needs_background": "light"
     },
     "output_type": "display_data"
    }
   ],
   "source": [
    "### 12 Layers in One (Just CLS)\n",
    "import matplotlib.backends.backend_pdf\n",
    "\n",
    "def plot_flow_heatmaps_cls(idx, specific_method=None):\n",
    "    encoded = encoder_func(idx)\n",
    "    tokenized_text = tokenizer.convert_ids_to_tokens(encoded[\"input_ids\"][0])\n",
    "    if specific_method is None:\n",
    "        plt.figure(figsize=(16, 13))\n",
    "    else:\n",
    "        plt.figure(figsize=(6, 6))\n",
    "    c = 1\n",
    "    for key in attention_flows.keys():\n",
    "        # N-Enc, N-Res\n",
    "        if specific_method is not None and key != specific_method:\n",
    "            continue\n",
    "        if specific_method is None:\n",
    "            plt.subplot(3, 4, c)\n",
    "            c += 1\n",
    "        else:\n",
    "            plt.subplot(1, 1, c)\n",
    "        norm_cls = attention_flows[key][idx][:, 0, :]\n",
    "        norm_cls = np.flip(norm_cls, axis=0)\n",
    "        row_sums = norm_cls.max(axis=1)\n",
    "        norm_cls = norm_cls / row_sums[:, np.newaxis]\n",
    "        \n",
    "        df = pd.DataFrame(norm_cls, columns=tokenized_text, index=range(12, 0, -1))\n",
    "        sns.heatmap(df,cmap=\"Reds\",square=True)\n",
    "        plt.title(key, fontsize=16)\n",
    "#         plt.ylabel(\"Layer\", fontsize=16)\n",
    "#         plt.xticks(rotation = 90, fontsize=16)\n",
    "#         plt.yticks(fontsize=13)\n",
    "        plt.gcf().subplots_adjust(bottom=0.2)\n",
    "        \n",
    "# 320, 493, 599, 746\n",
    "idx = 4\n",
    "pdf = matplotlib.backends.backend_pdf.PdfPages(f\"{config['DATASET']}_{idx}_rollout_cls.pdf\")\n",
    "# plot_flow_heatmaps_cls(idx, specific_method=\"N-Res\")\n",
    "plot_flow_heatmaps_cls(idx, specific_method=None)\n",
    "fig.tight_layout()\n",
    "plt.savefig(pdf, format='pdf')\n",
    "pdf.close()\n",
    "\n",
    "\n",
    "# for i in range(800):\n",
    "#     test_idx = i\n",
    "#     encoded = encoder_func(test_idx)\n",
    "#     tokenized_text = tokenizer.convert_ids_to_tokens(encoded[\"input_ids\"][0])\n",
    "#     if 5 < len(tokenized_text) < 12 and \"#\" not in \"\".join(tokenized_text):\n",
    "#         print(\"idx =\", i)\n",
    "#         plot_flow_heatmaps_cls(test_idx, specific_method=\"N-Res\")\n",
    "#         plt.show()"
   ]
  },
  {
   "cell_type": "code",
   "execution_count": 66,
   "metadata": {
    "id": "oeHyiUtkzUeH",
    "scrolled": false
   },
   "outputs": [
    {
     "data": {
      "image/png": "[encoded data removed]",
      "text/plain": [
       "<Figure size 1152x936 with 18 Axes>"
      ]
     },
     "metadata": {
      "needs_background": "light"
     },
     "output_type": "display_data"
    }
   ],
   "source": [
    "import matplotlib.backends.backend_pdf\n",
    "\n",
    "def plot_flow_heatmaps(idx, layer=-1):\n",
    "    encoded = encoder_func(idx)\n",
    "    tokenized_text = tokenizer.convert_ids_to_tokens(encoded[\"input_ids\"][0])\n",
    "    plt.figure(figsize=(16, 13))\n",
    "    c = 1\n",
    "    for key in attention_flows.keys():\n",
    "        plt.subplot(3, 4, c)\n",
    "        c += 1\n",
    "        norm = attention_flows[key][idx][layer] / np.max(attention_flows[key][idx][layer])\n",
    "        plot_heatmap(norm, tokenized_text, key)\n",
    "        plt.xticks(rotation = 90, fontsize=16)\n",
    "        plt.title(key, fontsize=16)\n",
    "        plt.yticks(rotation = 0, fontsize=16)\n",
    "        plt.yticks(fontsize=12)\n",
    "        \n",
    "\n",
    "# for i in range(800):\n",
    "#     test_idx = i\n",
    "#     encoded = encoder_func(test_idx)\n",
    "#     tokenized_text = tokenizer.convert_ids_to_tokens(encoded[\"input_ids\"][0])\n",
    "#     if 2 < len(tokenized_text) < 5:\n",
    "#         print(\"idx =\", i)\n",
    "#         plot_flow_heatmaps(test_idx)\n",
    "#         plt.show()\n",
    "\n",
    "pdf = matplotlib.backends.backend_pdf.PdfPages(f\"{config['DATASET']}_{idx}_rollout12_tokens.pdf\")\n",
    "plot_flow_heatmaps(idx=4)\n",
    "fig.tight_layout()\n",
    "plt.savefig(pdf, format='pdf')\n",
    "pdf.close()\n",
    "\n",
    "# pdf = matplotlib.backends.backend_pdf.PdfPages(f\"{config['DATASET']}_flow_aggregate_layers.pdf\")\n",
    "# for layer in range(len(attention_flows[\"W\"][0])):\n",
    "#     plot_flow_heatmaps(idx=32, layer=layer)\n",
    "#     plt.suptitle(f\"Layer {layer}\", fontsize=12)\n",
    "#     plt.savefig(pdf, format='pdf')\n",
    "# pdf.close()"
   ]
  },
  {
   "cell_type": "code",
   "execution_count": null,
   "metadata": {},
   "outputs": [],
   "source": [
    "# attention_flows[\"attnresln_n\"][0][-1]/1e19"
   ]
  },
  {
   "cell_type": "markdown",
   "metadata": {},
   "source": [
    "### Attention in single layers (w/o flow)"
   ]
  },
  {
   "cell_type": "code",
   "execution_count": null,
   "metadata": {
    "colab": {
     "base_uri": "https://localhost:8080/",
     "height": 282
    },
    "id": "tYZnfOGovfiD",
    "outputId": "971bf810-79fc-43b6-f69e-08823f73d11d",
    "scrolled": true
   },
   "outputs": [],
   "source": [
    "import matplotlib.backends.backend_pdf\n",
    "\n",
    "def plot_layers_heatmap(idx, layer):\n",
    "    encoded = encoder_func(idx)\n",
    "    tokenized_text = tokenizer.convert_ids_to_tokens(encoded[\"input_ids\"][0])\n",
    "    plt.figure(figsize=(25, 6))\n",
    "    # Plot Raw Attention\n",
    "    plt.subplot(1, 4, 1)\n",
    "    norm = raw_attentions[idx][layer]\n",
    "    plot_heatmap(norm, tokenized_text, \"Attn-W\")\n",
    "    # Plot Norm Attentions\n",
    "    c = 2\n",
    "    for key, value in ATTENTION_NORM_TYPES.items():\n",
    "        plt.subplot(1, 4, c)\n",
    "        c += 1\n",
    "        norm = norms_list[value][idx][layer]\n",
    "        plot_heatmap(norm, tokenized_text, key)\n",
    "\n",
    "test_idx = 32\n",
    "pdf = matplotlib.backends.backend_pdf.PdfPages(\"layers.pdf\")\n",
    "for layer in range(12):\n",
    "    plot_layers_heatmap(test_idx, layer)\n",
    "    plt.suptitle(f\"Layer {layer}\", fontsize=12)\n",
    "    plt.savefig(pdf, format='pdf')\n",
    "pdf.close()"
   ]
  },
  {
   "cell_type": "code",
   "execution_count": null,
   "metadata": {},
   "outputs": [],
   "source": []
  },
  {
   "cell_type": "code",
   "execution_count": null,
   "metadata": {},
   "outputs": [],
   "source": []
  }
 ],
 "metadata": {
  "accelerator": "GPU",
  "colab": {
   "name": "AttentionRolloutCheck.ipynb",
   "provenance": []
  },
  "kernelspec": {
   "display_name": "Python 3",
   "language": "python",
   "name": "python3"
  },
  "language_info": {
   "codemirror_mode": {
    "name": "ipython",
    "version": 3
   },
   "file_extension": ".py",
   "mimetype": "text/x-python",
   "name": "python",
   "nbconvert_exporter": "python",
   "pygments_lexer": "ipython3",
   "version": "3.6.15"
  },
  "pycharm": {
   "stem_cell": {
    "cell_type": "raw",
    "metadata": {
     "collapsed": false
    },
    "source": []
   }
  },
  "widgets": {
   "application/vnd.jupyter.widget-state+json": {
    "00b68ecbf8894341b0d68c6382a3408e": {
     "model_module": "@jupyter-widgets/base",
     "model_module_version": "1.2.0",
     "model_name": "LayoutModel",
     "state": {
      "_model_module": "@jupyter-widgets/base",
      "_model_module_version": "1.2.0",
      "_model_name": "LayoutModel",
      "_view_count": null,
      "_view_module": "@jupyter-widgets/base",
      "_view_module_version": "1.2.0",
      "_view_name": "LayoutView",
      "align_content": null,
      "align_items": null,
      "align_self": null,
      "border": null,
      "bottom": null,
      "display": null,
      "flex": null,
      "flex_flow": null,
      "grid_area": null,
      "grid_auto_columns": null,
      "grid_auto_flow": null,
      "grid_auto_rows": null,
      "grid_column": null,
      "grid_gap": null,
      "grid_row": null,
      "grid_template_areas": null,
      "grid_template_columns": null,
      "grid_template_rows": null,
      "height": null,
      "justify_content": null,
      "justify_items": null,
      "left": null,
      "margin": null,
      "max_height": null,
      "max_width": null,
      "min_height": null,
      "min_width": null,
      "object_fit": null,
      "object_position": null,
      "order": null,
      "overflow": null,
      "overflow_x": null,
      "overflow_y": null,
      "padding": null,
      "right": null,
      "top": null,
      "visibility": null,
      "width": null
     }
    },
    "062fc07f7b7544c29a66b4a27479c8a3": {
     "model_module": "@jupyter-widgets/controls",
     "model_module_version": "1.5.0",
     "model_name": "HTMLModel",
     "state": {
      "_dom_classes": [],
      "_model_module": "@jupyter-widgets/controls",
      "_model_module_version": "1.5.0",
      "_model_name": "HTMLModel",
      "_view_count": null,
      "_view_module": "@jupyter-widgets/controls",
      "_view_module_version": "1.5.0",
      "_view_name": "HTMLView",
      "description": "",
      "description_tooltip": null,
      "layout": "IPY_MODEL_00b68ecbf8894341b0d68c6382a3408e",
      "placeholder": "​",
      "style": "IPY_MODEL_71e163c95217429d81808b11df592487",
      "value": " 256/256 [00:00&lt;00:00, 1285.46it/s]"
     }
    },
    "13c3f45eb5a447dda29d89aa4eac1563": {
     "model_module": "@jupyter-widgets/base",
     "model_module_version": "1.2.0",
     "model_name": "LayoutModel",
     "state": {
      "_model_module": "@jupyter-widgets/base",
      "_model_module_version": "1.2.0",
      "_model_name": "LayoutModel",
      "_view_count": null,
      "_view_module": "@jupyter-widgets/base",
      "_view_module_version": "1.2.0",
      "_view_name": "LayoutView",
      "align_content": null,
      "align_items": null,
      "align_self": null,
      "border": null,
      "bottom": null,
      "display": null,
      "flex": null,
      "flex_flow": null,
      "grid_area": null,
      "grid_auto_columns": null,
      "grid_auto_flow": null,
      "grid_auto_rows": null,
      "grid_column": null,
      "grid_gap": null,
      "grid_row": null,
      "grid_template_areas": null,
      "grid_template_columns": null,
      "grid_template_rows": null,
      "height": null,
      "justify_content": null,
      "justify_items": null,
      "left": null,
      "margin": null,
      "max_height": null,
      "max_width": null,
      "min_height": null,
      "min_width": null,
      "object_fit": null,
      "object_position": null,
      "order": null,
      "overflow": null,
      "overflow_x": null,
      "overflow_y": null,
      "padding": null,
      "right": null,
      "top": null,
      "visibility": null,
      "width": null
     }
    },
    "1ac063b4e5c84d86bdce7beea90bfbaa": {
     "model_module": "@jupyter-widgets/controls",
     "model_module_version": "1.5.0",
     "model_name": "DescriptionStyleModel",
     "state": {
      "_model_module": "@jupyter-widgets/controls",
      "_model_module_version": "1.5.0",
      "_model_name": "DescriptionStyleModel",
      "_view_count": null,
      "_view_module": "@jupyter-widgets/base",
      "_view_module_version": "1.2.0",
      "_view_name": "StyleView",
      "description_width": ""
     }
    },
    "22975517dd83411ba507a4224d83a929": {
     "model_module": "@jupyter-widgets/controls",
     "model_module_version": "1.5.0",
     "model_name": "DescriptionStyleModel",
     "state": {
      "_model_module": "@jupyter-widgets/controls",
      "_model_module_version": "1.5.0",
      "_model_name": "DescriptionStyleModel",
      "_view_count": null,
      "_view_module": "@jupyter-widgets/base",
      "_view_module_version": "1.2.0",
      "_view_name": "StyleView",
      "description_width": ""
     }
    },
    "2cd5c49c4e44414cac95dc8f564c6447": {
     "model_module": "@jupyter-widgets/controls",
     "model_module_version": "1.5.0",
     "model_name": "FloatProgressModel",
     "state": {
      "_dom_classes": [],
      "_model_module": "@jupyter-widgets/controls",
      "_model_module_version": "1.5.0",
      "_model_name": "FloatProgressModel",
      "_view_count": null,
      "_view_module": "@jupyter-widgets/controls",
      "_view_module_version": "1.5.0",
      "_view_name": "ProgressView",
      "bar_style": "success",
      "description": "",
      "description_tooltip": null,
      "layout": "IPY_MODEL_ad222e6f87c245a8b48857d571f7ad73",
      "max": 256,
      "min": 0,
      "orientation": "horizontal",
      "style": "IPY_MODEL_64b2691bc5fb440d8bd75f4b05c6afd6",
      "value": 256
     }
    },
    "3285707e45b5465384b973ba6789dd51": {
     "model_module": "@jupyter-widgets/controls",
     "model_module_version": "1.5.0",
     "model_name": "FloatProgressModel",
     "state": {
      "_dom_classes": [],
      "_model_module": "@jupyter-widgets/controls",
      "_model_module_version": "1.5.0",
      "_model_name": "FloatProgressModel",
      "_view_count": null,
      "_view_module": "@jupyter-widgets/controls",
      "_view_module_version": "1.5.0",
      "_view_name": "ProgressView",
      "bar_style": "success",
      "description": "",
      "description_tooltip": null,
      "layout": "IPY_MODEL_4592fad2c6b944ac95d80ab4ceaba7cd",
      "max": 256,
      "min": 0,
      "orientation": "horizontal",
      "style": "IPY_MODEL_35b8fdaa6593485581316b6d387d3ac2",
      "value": 256
     }
    },
    "35b8fdaa6593485581316b6d387d3ac2": {
     "model_module": "@jupyter-widgets/controls",
     "model_module_version": "1.5.0",
     "model_name": "ProgressStyleModel",
     "state": {
      "_model_module": "@jupyter-widgets/controls",
      "_model_module_version": "1.5.0",
      "_model_name": "ProgressStyleModel",
      "_view_count": null,
      "_view_module": "@jupyter-widgets/base",
      "_view_module_version": "1.2.0",
      "_view_name": "StyleView",
      "bar_color": null,
      "description_width": ""
     }
    },
    "4376e6334a76494987ae85d972b1c0bc": {
     "model_module": "@jupyter-widgets/base",
     "model_module_version": "1.2.0",
     "model_name": "LayoutModel",
     "state": {
      "_model_module": "@jupyter-widgets/base",
      "_model_module_version": "1.2.0",
      "_model_name": "LayoutModel",
      "_view_count": null,
      "_view_module": "@jupyter-widgets/base",
      "_view_module_version": "1.2.0",
      "_view_name": "LayoutView",
      "align_content": null,
      "align_items": null,
      "align_self": null,
      "border": null,
      "bottom": null,
      "display": null,
      "flex": null,
      "flex_flow": null,
      "grid_area": null,
      "grid_auto_columns": null,
      "grid_auto_flow": null,
      "grid_auto_rows": null,
      "grid_column": null,
      "grid_gap": null,
      "grid_row": null,
      "grid_template_areas": null,
      "grid_template_columns": null,
      "grid_template_rows": null,
      "height": null,
      "justify_content": null,
      "justify_items": null,
      "left": null,
      "margin": null,
      "max_height": null,
      "max_width": null,
      "min_height": null,
      "min_width": null,
      "object_fit": null,
      "object_position": null,
      "order": null,
      "overflow": null,
      "overflow_x": null,
      "overflow_y": null,
      "padding": null,
      "right": null,
      "top": null,
      "visibility": null,
      "width": null
     }
    },
    "44e2bfe4ba5e47fb8bd7488774c55feb": {
     "model_module": "@jupyter-widgets/controls",
     "model_module_version": "1.5.0",
     "model_name": "HTMLModel",
     "state": {
      "_dom_classes": [],
      "_model_module": "@jupyter-widgets/controls",
      "_model_module_version": "1.5.0",
      "_model_name": "HTMLModel",
      "_view_count": null,
      "_view_module": "@jupyter-widgets/controls",
      "_view_module_version": "1.5.0",
      "_view_name": "HTMLView",
      "description": "",
      "description_tooltip": null,
      "layout": "IPY_MODEL_bbf42144a15242adb01984d943ae8d1d",
      "placeholder": "​",
      "style": "IPY_MODEL_e901d5a0279a42e49269c2465d8985e5",
      "value": " 232k/232k [00:00&lt;00:00, 563kB/s]"
     }
    },
    "4592fad2c6b944ac95d80ab4ceaba7cd": {
     "model_module": "@jupyter-widgets/base",
     "model_module_version": "1.2.0",
     "model_name": "LayoutModel",
     "state": {
      "_model_module": "@jupyter-widgets/base",
      "_model_module_version": "1.2.0",
      "_model_name": "LayoutModel",
      "_view_count": null,
      "_view_module": "@jupyter-widgets/base",
      "_view_module_version": "1.2.0",
      "_view_name": "LayoutView",
      "align_content": null,
      "align_items": null,
      "align_self": null,
      "border": null,
      "bottom": null,
      "display": null,
      "flex": null,
      "flex_flow": null,
      "grid_area": null,
      "grid_auto_columns": null,
      "grid_auto_flow": null,
      "grid_auto_rows": null,
      "grid_column": null,
      "grid_gap": null,
      "grid_row": null,
      "grid_template_areas": null,
      "grid_template_columns": null,
      "grid_template_rows": null,
      "height": null,
      "justify_content": null,
      "justify_items": null,
      "left": null,
      "margin": null,
      "max_height": null,
      "max_width": null,
      "min_height": null,
      "min_width": null,
      "object_fit": null,
      "object_position": null,
      "order": null,
      "overflow": null,
      "overflow_x": null,
      "overflow_y": null,
      "padding": null,
      "right": null,
      "top": null,
      "visibility": null,
      "width": null
     }
    },
    "4d84d12803084eaea6efe35b6effdf6b": {
     "model_module": "@jupyter-widgets/base",
     "model_module_version": "1.2.0",
     "model_name": "LayoutModel",
     "state": {
      "_model_module": "@jupyter-widgets/base",
      "_model_module_version": "1.2.0",
      "_model_name": "LayoutModel",
      "_view_count": null,
      "_view_module": "@jupyter-widgets/base",
      "_view_module_version": "1.2.0",
      "_view_name": "LayoutView",
      "align_content": null,
      "align_items": null,
      "align_self": null,
      "border": null,
      "bottom": null,
      "display": null,
      "flex": null,
      "flex_flow": null,
      "grid_area": null,
      "grid_auto_columns": null,
      "grid_auto_flow": null,
      "grid_auto_rows": null,
      "grid_column": null,
      "grid_gap": null,
      "grid_row": null,
      "grid_template_areas": null,
      "grid_template_columns": null,
      "grid_template_rows": null,
      "height": null,
      "justify_content": null,
      "justify_items": null,
      "left": null,
      "margin": null,
      "max_height": null,
      "max_width": null,
      "min_height": null,
      "min_width": null,
      "object_fit": null,
      "object_position": null,
      "order": null,
      "overflow": null,
      "overflow_x": null,
      "overflow_y": null,
      "padding": null,
      "right": null,
      "top": null,
      "visibility": null,
      "width": null
     }
    },
    "4f20da76f18d40089837d5b6363d2c7c": {
     "model_module": "@jupyter-widgets/controls",
     "model_module_version": "1.5.0",
     "model_name": "HBoxModel",
     "state": {
      "_dom_classes": [],
      "_model_module": "@jupyter-widgets/controls",
      "_model_module_version": "1.5.0",
      "_model_name": "HBoxModel",
      "_view_count": null,
      "_view_module": "@jupyter-widgets/controls",
      "_view_module_version": "1.5.0",
      "_view_name": "HBoxView",
      "box_style": "",
      "children": [
       "IPY_MODEL_ae6967648f4c46a7931e0bc9e145445b",
       "IPY_MODEL_703e144da8344b8db7c92e67a7f67097",
       "IPY_MODEL_44e2bfe4ba5e47fb8bd7488774c55feb"
      ],
      "layout": "IPY_MODEL_13c3f45eb5a447dda29d89aa4eac1563"
     }
    },
    "5ed2be4b2b644030877b8c8dfff212af": {
     "model_module": "@jupyter-widgets/controls",
     "model_module_version": "1.5.0",
     "model_name": "HTMLModel",
     "state": {
      "_dom_classes": [],
      "_model_module": "@jupyter-widgets/controls",
      "_model_module_version": "1.5.0",
      "_model_name": "HTMLModel",
      "_view_count": null,
      "_view_module": "@jupyter-widgets/controls",
      "_view_module_version": "1.5.0",
      "_view_name": "HTMLView",
      "description": "",
      "description_tooltip": null,
      "layout": "IPY_MODEL_9339c21e45504986bf430499b8fbbca8",
      "placeholder": "​",
      "style": "IPY_MODEL_22975517dd83411ba507a4224d83a929",
      "value": " 256/256 [00:12&lt;00:00, 21.64it/s]"
     }
    },
    "64b2691bc5fb440d8bd75f4b05c6afd6": {
     "model_module": "@jupyter-widgets/controls",
     "model_module_version": "1.5.0",
     "model_name": "ProgressStyleModel",
     "state": {
      "_model_module": "@jupyter-widgets/controls",
      "_model_module_version": "1.5.0",
      "_model_name": "ProgressStyleModel",
      "_view_count": null,
      "_view_module": "@jupyter-widgets/base",
      "_view_module_version": "1.2.0",
      "_view_name": "StyleView",
      "bar_color": null,
      "description_width": ""
     }
    },
    "692f6219c44a4671be44fa63ab7f66bb": {
     "model_module": "@jupyter-widgets/controls",
     "model_module_version": "1.5.0",
     "model_name": "HBoxModel",
     "state": {
      "_dom_classes": [],
      "_model_module": "@jupyter-widgets/controls",
      "_model_module_version": "1.5.0",
      "_model_name": "HBoxModel",
      "_view_count": null,
      "_view_module": "@jupyter-widgets/controls",
      "_view_module_version": "1.5.0",
      "_view_name": "HBoxView",
      "box_style": "",
      "children": [
       "IPY_MODEL_cd86681f9a814914a13d9d5c2204f8e9",
       "IPY_MODEL_dfc507b035fb4abb8aec7657c5062e28",
       "IPY_MODEL_062fc07f7b7544c29a66b4a27479c8a3"
      ],
      "layout": "IPY_MODEL_b2789c1fd4c644e8beb418340d912cb4"
     }
    },
    "6dbf9c19c2f04507809736f2fc2b0204": {
     "model_module": "@jupyter-widgets/controls",
     "model_module_version": "1.5.0",
     "model_name": "HBoxModel",
     "state": {
      "_dom_classes": [],
      "_model_module": "@jupyter-widgets/controls",
      "_model_module_version": "1.5.0",
      "_model_name": "HBoxModel",
      "_view_count": null,
      "_view_module": "@jupyter-widgets/controls",
      "_view_module_version": "1.5.0",
      "_view_name": "HBoxView",
      "box_style": "",
      "children": [
       "IPY_MODEL_e46069d00558434fb871b09e431c127b",
       "IPY_MODEL_3285707e45b5465384b973ba6789dd51",
       "IPY_MODEL_5ed2be4b2b644030877b8c8dfff212af"
      ],
      "layout": "IPY_MODEL_eb1c1c28d03046019546ac3c873b1570"
     }
    },
    "703e144da8344b8db7c92e67a7f67097": {
     "model_module": "@jupyter-widgets/controls",
     "model_module_version": "1.5.0",
     "model_name": "FloatProgressModel",
     "state": {
      "_dom_classes": [],
      "_model_module": "@jupyter-widgets/controls",
      "_model_module_version": "1.5.0",
      "_model_name": "FloatProgressModel",
      "_view_count": null,
      "_view_module": "@jupyter-widgets/controls",
      "_view_module_version": "1.5.0",
      "_view_name": "ProgressView",
      "bar_style": "success",
      "description": "",
      "description_tooltip": null,
      "layout": "IPY_MODEL_760407cb1c4648f198eafc76b6b99bbd",
      "max": 231508,
      "min": 0,
      "orientation": "horizontal",
      "style": "IPY_MODEL_ce18882c12e74faba3c9b724e21f8513",
      "value": 231508
     }
    },
    "71e163c95217429d81808b11df592487": {
     "model_module": "@jupyter-widgets/controls",
     "model_module_version": "1.5.0",
     "model_name": "DescriptionStyleModel",
     "state": {
      "_model_module": "@jupyter-widgets/controls",
      "_model_module_version": "1.5.0",
      "_model_name": "DescriptionStyleModel",
      "_view_count": null,
      "_view_module": "@jupyter-widgets/base",
      "_view_module_version": "1.2.0",
      "_view_name": "StyleView",
      "description_width": ""
     }
    },
    "760407cb1c4648f198eafc76b6b99bbd": {
     "model_module": "@jupyter-widgets/base",
     "model_module_version": "1.2.0",
     "model_name": "LayoutModel",
     "state": {
      "_model_module": "@jupyter-widgets/base",
      "_model_module_version": "1.2.0",
      "_model_name": "LayoutModel",
      "_view_count": null,
      "_view_module": "@jupyter-widgets/base",
      "_view_module_version": "1.2.0",
      "_view_name": "LayoutView",
      "align_content": null,
      "align_items": null,
      "align_self": null,
      "border": null,
      "bottom": null,
      "display": null,
      "flex": null,
      "flex_flow": null,
      "grid_area": null,
      "grid_auto_columns": null,
      "grid_auto_flow": null,
      "grid_auto_rows": null,
      "grid_column": null,
      "grid_gap": null,
      "grid_row": null,
      "grid_template_areas": null,
      "grid_template_columns": null,
      "grid_template_rows": null,
      "height": null,
      "justify_content": null,
      "justify_items": null,
      "left": null,
      "margin": null,
      "max_height": null,
      "max_width": null,
      "min_height": null,
      "min_width": null,
      "object_fit": null,
      "object_position": null,
      "order": null,
      "overflow": null,
      "overflow_x": null,
      "overflow_y": null,
      "padding": null,
      "right": null,
      "top": null,
      "visibility": null,
      "width": null
     }
    },
    "9339c21e45504986bf430499b8fbbca8": {
     "model_module": "@jupyter-widgets/base",
     "model_module_version": "1.2.0",
     "model_name": "LayoutModel",
     "state": {
      "_model_module": "@jupyter-widgets/base",
      "_model_module_version": "1.2.0",
      "_model_name": "LayoutModel",
      "_view_count": null,
      "_view_module": "@jupyter-widgets/base",
      "_view_module_version": "1.2.0",
      "_view_name": "LayoutView",
      "align_content": null,
      "align_items": null,
      "align_self": null,
      "border": null,
      "bottom": null,
      "display": null,
      "flex": null,
      "flex_flow": null,
      "grid_area": null,
      "grid_auto_columns": null,
      "grid_auto_flow": null,
      "grid_auto_rows": null,
      "grid_column": null,
      "grid_gap": null,
      "grid_row": null,
      "grid_template_areas": null,
      "grid_template_columns": null,
      "grid_template_rows": null,
      "height": null,
      "justify_content": null,
      "justify_items": null,
      "left": null,
      "margin": null,
      "max_height": null,
      "max_width": null,
      "min_height": null,
      "min_width": null,
      "object_fit": null,
      "object_position": null,
      "order": null,
      "overflow": null,
      "overflow_x": null,
      "overflow_y": null,
      "padding": null,
      "right": null,
      "top": null,
      "visibility": null,
      "width": null
     }
    },
    "94dc2a3488b044fda0b51cd326788f3d": {
     "model_module": "@jupyter-widgets/controls",
     "model_module_version": "1.5.0",
     "model_name": "HTMLModel",
     "state": {
      "_dom_classes": [],
      "_model_module": "@jupyter-widgets/controls",
      "_model_module_version": "1.5.0",
      "_model_name": "HTMLModel",
      "_view_count": null,
      "_view_module": "@jupyter-widgets/controls",
      "_view_module_version": "1.5.0",
      "_view_name": "HTMLView",
      "description": "",
      "description_tooltip": null,
      "layout": "IPY_MODEL_fbadd2771f1d4483ac1f942443aed528",
      "placeholder": "​",
      "style": "IPY_MODEL_1ac063b4e5c84d86bdce7beea90bfbaa",
      "value": "100%"
     }
    },
    "9783df9e95d74d89a82e67dd39a779b5": {
     "model_module": "@jupyter-widgets/base",
     "model_module_version": "1.2.0",
     "model_name": "LayoutModel",
     "state": {
      "_model_module": "@jupyter-widgets/base",
      "_model_module_version": "1.2.0",
      "_model_name": "LayoutModel",
      "_view_count": null,
      "_view_module": "@jupyter-widgets/base",
      "_view_module_version": "1.2.0",
      "_view_name": "LayoutView",
      "align_content": null,
      "align_items": null,
      "align_self": null,
      "border": null,
      "bottom": null,
      "display": null,
      "flex": null,
      "flex_flow": null,
      "grid_area": null,
      "grid_auto_columns": null,
      "grid_auto_flow": null,
      "grid_auto_rows": null,
      "grid_column": null,
      "grid_gap": null,
      "grid_row": null,
      "grid_template_areas": null,
      "grid_template_columns": null,
      "grid_template_rows": null,
      "height": null,
      "justify_content": null,
      "justify_items": null,
      "left": null,
      "margin": null,
      "max_height": null,
      "max_width": null,
      "min_height": null,
      "min_width": null,
      "object_fit": null,
      "object_position": null,
      "order": null,
      "overflow": null,
      "overflow_x": null,
      "overflow_y": null,
      "padding": null,
      "right": null,
      "top": null,
      "visibility": null,
      "width": null
     }
    },
    "9bdb6ba6066e4c97a1a5dc2925c6971f": {
     "model_module": "@jupyter-widgets/base",
     "model_module_version": "1.2.0",
     "model_name": "LayoutModel",
     "state": {
      "_model_module": "@jupyter-widgets/base",
      "_model_module_version": "1.2.0",
      "_model_name": "LayoutModel",
      "_view_count": null,
      "_view_module": "@jupyter-widgets/base",
      "_view_module_version": "1.2.0",
      "_view_name": "LayoutView",
      "align_content": null,
      "align_items": null,
      "align_self": null,
      "border": null,
      "bottom": null,
      "display": null,
      "flex": null,
      "flex_flow": null,
      "grid_area": null,
      "grid_auto_columns": null,
      "grid_auto_flow": null,
      "grid_auto_rows": null,
      "grid_column": null,
      "grid_gap": null,
      "grid_row": null,
      "grid_template_areas": null,
      "grid_template_columns": null,
      "grid_template_rows": null,
      "height": null,
      "justify_content": null,
      "justify_items": null,
      "left": null,
      "margin": null,
      "max_height": null,
      "max_width": null,
      "min_height": null,
      "min_width": null,
      "object_fit": null,
      "object_position": null,
      "order": null,
      "overflow": null,
      "overflow_x": null,
      "overflow_y": null,
      "padding": null,
      "right": null,
      "top": null,
      "visibility": null,
      "width": null
     }
    },
    "9cbd40493f67488c80b308bf22322faa": {
     "model_module": "@jupyter-widgets/controls",
     "model_module_version": "1.5.0",
     "model_name": "DescriptionStyleModel",
     "state": {
      "_model_module": "@jupyter-widgets/controls",
      "_model_module_version": "1.5.0",
      "_model_name": "DescriptionStyleModel",
      "_view_count": null,
      "_view_module": "@jupyter-widgets/base",
      "_view_module_version": "1.2.0",
      "_view_name": "StyleView",
      "description_width": ""
     }
    },
    "a26242544d6c469c913e0eb5fb272394": {
     "model_module": "@jupyter-widgets/controls",
     "model_module_version": "1.5.0",
     "model_name": "HTMLModel",
     "state": {
      "_dom_classes": [],
      "_model_module": "@jupyter-widgets/controls",
      "_model_module_version": "1.5.0",
      "_model_name": "HTMLModel",
      "_view_count": null,
      "_view_module": "@jupyter-widgets/controls",
      "_view_module_version": "1.5.0",
      "_view_name": "HTMLView",
      "description": "",
      "description_tooltip": null,
      "layout": "IPY_MODEL_edc1303de6fe4c99abc9b19ac9a9b298",
      "placeholder": "​",
      "style": "IPY_MODEL_9cbd40493f67488c80b308bf22322faa",
      "value": " 256/256 [00:00&lt;00:00, 450.87it/s]"
     }
    },
    "aa2270981ede4dc394616e144d28612d": {
     "model_module": "@jupyter-widgets/controls",
     "model_module_version": "1.5.0",
     "model_name": "DescriptionStyleModel",
     "state": {
      "_model_module": "@jupyter-widgets/controls",
      "_model_module_version": "1.5.0",
      "_model_name": "DescriptionStyleModel",
      "_view_count": null,
      "_view_module": "@jupyter-widgets/base",
      "_view_module_version": "1.2.0",
      "_view_name": "StyleView",
      "description_width": ""
     }
    },
    "ad222e6f87c245a8b48857d571f7ad73": {
     "model_module": "@jupyter-widgets/base",
     "model_module_version": "1.2.0",
     "model_name": "LayoutModel",
     "state": {
      "_model_module": "@jupyter-widgets/base",
      "_model_module_version": "1.2.0",
      "_model_name": "LayoutModel",
      "_view_count": null,
      "_view_module": "@jupyter-widgets/base",
      "_view_module_version": "1.2.0",
      "_view_name": "LayoutView",
      "align_content": null,
      "align_items": null,
      "align_self": null,
      "border": null,
      "bottom": null,
      "display": null,
      "flex": null,
      "flex_flow": null,
      "grid_area": null,
      "grid_auto_columns": null,
      "grid_auto_flow": null,
      "grid_auto_rows": null,
      "grid_column": null,
      "grid_gap": null,
      "grid_row": null,
      "grid_template_areas": null,
      "grid_template_columns": null,
      "grid_template_rows": null,
      "height": null,
      "justify_content": null,
      "justify_items": null,
      "left": null,
      "margin": null,
      "max_height": null,
      "max_width": null,
      "min_height": null,
      "min_width": null,
      "object_fit": null,
      "object_position": null,
      "order": null,
      "overflow": null,
      "overflow_x": null,
      "overflow_y": null,
      "padding": null,
      "right": null,
      "top": null,
      "visibility": null,
      "width": null
     }
    },
    "ae6967648f4c46a7931e0bc9e145445b": {
     "model_module": "@jupyter-widgets/controls",
     "model_module_version": "1.5.0",
     "model_name": "HTMLModel",
     "state": {
      "_dom_classes": [],
      "_model_module": "@jupyter-widgets/controls",
      "_model_module_version": "1.5.0",
      "_model_name": "HTMLModel",
      "_view_count": null,
      "_view_module": "@jupyter-widgets/controls",
      "_view_module_version": "1.5.0",
      "_view_name": "HTMLView",
      "description": "",
      "description_tooltip": null,
      "layout": "IPY_MODEL_d90f4509622543a98425bf475dedc8ad",
      "placeholder": "​",
      "style": "IPY_MODEL_e21d01d6f99b485483cbe7d3424e4093",
      "value": "Downloading: 100%"
     }
    },
    "b2789c1fd4c644e8beb418340d912cb4": {
     "model_module": "@jupyter-widgets/base",
     "model_module_version": "1.2.0",
     "model_name": "LayoutModel",
     "state": {
      "_model_module": "@jupyter-widgets/base",
      "_model_module_version": "1.2.0",
      "_model_name": "LayoutModel",
      "_view_count": null,
      "_view_module": "@jupyter-widgets/base",
      "_view_module_version": "1.2.0",
      "_view_name": "LayoutView",
      "align_content": null,
      "align_items": null,
      "align_self": null,
      "border": null,
      "bottom": null,
      "display": null,
      "flex": null,
      "flex_flow": null,
      "grid_area": null,
      "grid_auto_columns": null,
      "grid_auto_flow": null,
      "grid_auto_rows": null,
      "grid_column": null,
      "grid_gap": null,
      "grid_row": null,
      "grid_template_areas": null,
      "grid_template_columns": null,
      "grid_template_rows": null,
      "height": null,
      "justify_content": null,
      "justify_items": null,
      "left": null,
      "margin": null,
      "max_height": null,
      "max_width": null,
      "min_height": null,
      "min_width": null,
      "object_fit": null,
      "object_position": null,
      "order": null,
      "overflow": null,
      "overflow_x": null,
      "overflow_y": null,
      "padding": null,
      "right": null,
      "top": null,
      "visibility": null,
      "width": null
     }
    },
    "bbf42144a15242adb01984d943ae8d1d": {
     "model_module": "@jupyter-widgets/base",
     "model_module_version": "1.2.0",
     "model_name": "LayoutModel",
     "state": {
      "_model_module": "@jupyter-widgets/base",
      "_model_module_version": "1.2.0",
      "_model_name": "LayoutModel",
      "_view_count": null,
      "_view_module": "@jupyter-widgets/base",
      "_view_module_version": "1.2.0",
      "_view_name": "LayoutView",
      "align_content": null,
      "align_items": null,
      "align_self": null,
      "border": null,
      "bottom": null,
      "display": null,
      "flex": null,
      "flex_flow": null,
      "grid_area": null,
      "grid_auto_columns": null,
      "grid_auto_flow": null,
      "grid_auto_rows": null,
      "grid_column": null,
      "grid_gap": null,
      "grid_row": null,
      "grid_template_areas": null,
      "grid_template_columns": null,
      "grid_template_rows": null,
      "height": null,
      "justify_content": null,
      "justify_items": null,
      "left": null,
      "margin": null,
      "max_height": null,
      "max_width": null,
      "min_height": null,
      "min_width": null,
      "object_fit": null,
      "object_position": null,
      "order": null,
      "overflow": null,
      "overflow_x": null,
      "overflow_y": null,
      "padding": null,
      "right": null,
      "top": null,
      "visibility": null,
      "width": null
     }
    },
    "cd86681f9a814914a13d9d5c2204f8e9": {
     "model_module": "@jupyter-widgets/controls",
     "model_module_version": "1.5.0",
     "model_name": "HTMLModel",
     "state": {
      "_dom_classes": [],
      "_model_module": "@jupyter-widgets/controls",
      "_model_module_version": "1.5.0",
      "_model_name": "HTMLModel",
      "_view_count": null,
      "_view_module": "@jupyter-widgets/controls",
      "_view_module_version": "1.5.0",
      "_view_name": "HTMLView",
      "description": "",
      "description_tooltip": null,
      "layout": "IPY_MODEL_9bdb6ba6066e4c97a1a5dc2925c6971f",
      "placeholder": "​",
      "style": "IPY_MODEL_ddde60d75e4e4f64af8cfceae8f001b0",
      "value": "100%"
     }
    },
    "ce18882c12e74faba3c9b724e21f8513": {
     "model_module": "@jupyter-widgets/controls",
     "model_module_version": "1.5.0",
     "model_name": "ProgressStyleModel",
     "state": {
      "_model_module": "@jupyter-widgets/controls",
      "_model_module_version": "1.5.0",
      "_model_name": "ProgressStyleModel",
      "_view_count": null,
      "_view_module": "@jupyter-widgets/base",
      "_view_module_version": "1.2.0",
      "_view_name": "StyleView",
      "bar_color": null,
      "description_width": ""
     }
    },
    "d90f4509622543a98425bf475dedc8ad": {
     "model_module": "@jupyter-widgets/base",
     "model_module_version": "1.2.0",
     "model_name": "LayoutModel",
     "state": {
      "_model_module": "@jupyter-widgets/base",
      "_model_module_version": "1.2.0",
      "_model_name": "LayoutModel",
      "_view_count": null,
      "_view_module": "@jupyter-widgets/base",
      "_view_module_version": "1.2.0",
      "_view_name": "LayoutView",
      "align_content": null,
      "align_items": null,
      "align_self": null,
      "border": null,
      "bottom": null,
      "display": null,
      "flex": null,
      "flex_flow": null,
      "grid_area": null,
      "grid_auto_columns": null,
      "grid_auto_flow": null,
      "grid_auto_rows": null,
      "grid_column": null,
      "grid_gap": null,
      "grid_row": null,
      "grid_template_areas": null,
      "grid_template_columns": null,
      "grid_template_rows": null,
      "height": null,
      "justify_content": null,
      "justify_items": null,
      "left": null,
      "margin": null,
      "max_height": null,
      "max_width": null,
      "min_height": null,
      "min_width": null,
      "object_fit": null,
      "object_position": null,
      "order": null,
      "overflow": null,
      "overflow_x": null,
      "overflow_y": null,
      "padding": null,
      "right": null,
      "top": null,
      "visibility": null,
      "width": null
     }
    },
    "ddde60d75e4e4f64af8cfceae8f001b0": {
     "model_module": "@jupyter-widgets/controls",
     "model_module_version": "1.5.0",
     "model_name": "DescriptionStyleModel",
     "state": {
      "_model_module": "@jupyter-widgets/controls",
      "_model_module_version": "1.5.0",
      "_model_name": "DescriptionStyleModel",
      "_view_count": null,
      "_view_module": "@jupyter-widgets/base",
      "_view_module_version": "1.2.0",
      "_view_name": "StyleView",
      "description_width": ""
     }
    },
    "dfc507b035fb4abb8aec7657c5062e28": {
     "model_module": "@jupyter-widgets/controls",
     "model_module_version": "1.5.0",
     "model_name": "FloatProgressModel",
     "state": {
      "_dom_classes": [],
      "_model_module": "@jupyter-widgets/controls",
      "_model_module_version": "1.5.0",
      "_model_name": "FloatProgressModel",
      "_view_count": null,
      "_view_module": "@jupyter-widgets/controls",
      "_view_module_version": "1.5.0",
      "_view_name": "ProgressView",
      "bar_style": "success",
      "description": "",
      "description_tooltip": null,
      "layout": "IPY_MODEL_4376e6334a76494987ae85d972b1c0bc",
      "max": 256,
      "min": 0,
      "orientation": "horizontal",
      "style": "IPY_MODEL_fe48b10d483748628664e64821345fa2",
      "value": 256
     }
    },
    "e21d01d6f99b485483cbe7d3424e4093": {
     "model_module": "@jupyter-widgets/controls",
     "model_module_version": "1.5.0",
     "model_name": "DescriptionStyleModel",
     "state": {
      "_model_module": "@jupyter-widgets/controls",
      "_model_module_version": "1.5.0",
      "_model_name": "DescriptionStyleModel",
      "_view_count": null,
      "_view_module": "@jupyter-widgets/base",
      "_view_module_version": "1.2.0",
      "_view_name": "StyleView",
      "description_width": ""
     }
    },
    "e46069d00558434fb871b09e431c127b": {
     "model_module": "@jupyter-widgets/controls",
     "model_module_version": "1.5.0",
     "model_name": "HTMLModel",
     "state": {
      "_dom_classes": [],
      "_model_module": "@jupyter-widgets/controls",
      "_model_module_version": "1.5.0",
      "_model_name": "HTMLModel",
      "_view_count": null,
      "_view_module": "@jupyter-widgets/controls",
      "_view_module_version": "1.5.0",
      "_view_name": "HTMLView",
      "description": "",
      "description_tooltip": null,
      "layout": "IPY_MODEL_4d84d12803084eaea6efe35b6effdf6b",
      "placeholder": "​",
      "style": "IPY_MODEL_aa2270981ede4dc394616e144d28612d",
      "value": "100%"
     }
    },
    "e4fedeca26b84decaf09181959268c44": {
     "model_module": "@jupyter-widgets/controls",
     "model_module_version": "1.5.0",
     "model_name": "HBoxModel",
     "state": {
      "_dom_classes": [],
      "_model_module": "@jupyter-widgets/controls",
      "_model_module_version": "1.5.0",
      "_model_name": "HBoxModel",
      "_view_count": null,
      "_view_module": "@jupyter-widgets/controls",
      "_view_module_version": "1.5.0",
      "_view_name": "HBoxView",
      "box_style": "",
      "children": [
       "IPY_MODEL_94dc2a3488b044fda0b51cd326788f3d",
       "IPY_MODEL_2cd5c49c4e44414cac95dc8f564c6447",
       "IPY_MODEL_a26242544d6c469c913e0eb5fb272394"
      ],
      "layout": "IPY_MODEL_9783df9e95d74d89a82e67dd39a779b5"
     }
    },
    "e901d5a0279a42e49269c2465d8985e5": {
     "model_module": "@jupyter-widgets/controls",
     "model_module_version": "1.5.0",
     "model_name": "DescriptionStyleModel",
     "state": {
      "_model_module": "@jupyter-widgets/controls",
      "_model_module_version": "1.5.0",
      "_model_name": "DescriptionStyleModel",
      "_view_count": null,
      "_view_module": "@jupyter-widgets/base",
      "_view_module_version": "1.2.0",
      "_view_name": "StyleView",
      "description_width": ""
     }
    },
    "eb1c1c28d03046019546ac3c873b1570": {
     "model_module": "@jupyter-widgets/base",
     "model_module_version": "1.2.0",
     "model_name": "LayoutModel",
     "state": {
      "_model_module": "@jupyter-widgets/base",
      "_model_module_version": "1.2.0",
      "_model_name": "LayoutModel",
      "_view_count": null,
      "_view_module": "@jupyter-widgets/base",
      "_view_module_version": "1.2.0",
      "_view_name": "LayoutView",
      "align_content": null,
      "align_items": null,
      "align_self": null,
      "border": null,
      "bottom": null,
      "display": null,
      "flex": null,
      "flex_flow": null,
      "grid_area": null,
      "grid_auto_columns": null,
      "grid_auto_flow": null,
      "grid_auto_rows": null,
      "grid_column": null,
      "grid_gap": null,
      "grid_row": null,
      "grid_template_areas": null,
      "grid_template_columns": null,
      "grid_template_rows": null,
      "height": null,
      "justify_content": null,
      "justify_items": null,
      "left": null,
      "margin": null,
      "max_height": null,
      "max_width": null,
      "min_height": null,
      "min_width": null,
      "object_fit": null,
      "object_position": null,
      "order": null,
      "overflow": null,
      "overflow_x": null,
      "overflow_y": null,
      "padding": null,
      "right": null,
      "top": null,
      "visibility": null,
      "width": null
     }
    },
    "edc1303de6fe4c99abc9b19ac9a9b298": {
     "model_module": "@jupyter-widgets/base",
     "model_module_version": "1.2.0",
     "model_name": "LayoutModel",
     "state": {
      "_model_module": "@jupyter-widgets/base",
      "_model_module_version": "1.2.0",
      "_model_name": "LayoutModel",
      "_view_count": null,
      "_view_module": "@jupyter-widgets/base",
      "_view_module_version": "1.2.0",
      "_view_name": "LayoutView",
      "align_content": null,
      "align_items": null,
      "align_self": null,
      "border": null,
      "bottom": null,
      "display": null,
      "flex": null,
      "flex_flow": null,
      "grid_area": null,
      "grid_auto_columns": null,
      "grid_auto_flow": null,
      "grid_auto_rows": null,
      "grid_column": null,
      "grid_gap": null,
      "grid_row": null,
      "grid_template_areas": null,
      "grid_template_columns": null,
      "grid_template_rows": null,
      "height": null,
      "justify_content": null,
      "justify_items": null,
      "left": null,
      "margin": null,
      "max_height": null,
      "max_width": null,
      "min_height": null,
      "min_width": null,
      "object_fit": null,
      "object_position": null,
      "order": null,
      "overflow": null,
      "overflow_x": null,
      "overflow_y": null,
      "padding": null,
      "right": null,
      "top": null,
      "visibility": null,
      "width": null
     }
    },
    "fbadd2771f1d4483ac1f942443aed528": {
     "model_module": "@jupyter-widgets/base",
     "model_module_version": "1.2.0",
     "model_name": "LayoutModel",
     "state": {
      "_model_module": "@jupyter-widgets/base",
      "_model_module_version": "1.2.0",
      "_model_name": "LayoutModel",
      "_view_count": null,
      "_view_module": "@jupyter-widgets/base",
      "_view_module_version": "1.2.0",
      "_view_name": "LayoutView",
      "align_content": null,
      "align_items": null,
      "align_self": null,
      "border": null,
      "bottom": null,
      "display": null,
      "flex": null,
      "flex_flow": null,
      "grid_area": null,
      "grid_auto_columns": null,
      "grid_auto_flow": null,
      "grid_auto_rows": null,
      "grid_column": null,
      "grid_gap": null,
      "grid_row": null,
      "grid_template_areas": null,
      "grid_template_columns": null,
      "grid_template_rows": null,
      "height": null,
      "justify_content": null,
      "justify_items": null,
      "left": null,
      "margin": null,
      "max_height": null,
      "max_width": null,
      "min_height": null,
      "min_width": null,
      "object_fit": null,
      "object_position": null,
      "order": null,
      "overflow": null,
      "overflow_x": null,
      "overflow_y": null,
      "padding": null,
      "right": null,
      "top": null,
      "visibility": null,
      "width": null
     }
    },
    "fe48b10d483748628664e64821345fa2": {
     "model_module": "@jupyter-widgets/controls",
     "model_module_version": "1.5.0",
     "model_name": "ProgressStyleModel",
     "state": {
      "_model_module": "@jupyter-widgets/controls",
      "_model_module_version": "1.5.0",
      "_model_name": "ProgressStyleModel",
      "_view_count": null,
      "_view_module": "@jupyter-widgets/base",
      "_view_module_version": "1.2.0",
      "_view_name": "StyleView",
      "bar_color": null,
      "description_width": ""
     }
    }
   }
  }
 },
 "nbformat": 4,
 "nbformat_minor": 1
}
