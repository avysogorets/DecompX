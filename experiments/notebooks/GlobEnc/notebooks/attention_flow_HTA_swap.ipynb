{
 "cells": [
  {
   "cell_type": "code",
   "execution_count": null,
   "metadata": {
    "id": "MaNQn1FHe5Z1"
   },
   "outputs": [],
   "source": [
    "# !pip install transformers==3.0.0\n",
    "# !pip install datasets\n",
    "# !wget https://raw.githubusercontent.com/gorokoba560/norm-analysis-of-transformer/5dc8fb3b541f696288dec46fbd610d97a1a1ade2/emnlp2021/transformers/src/transformers/modeling_bert.py"
   ]
  },
  {
   "cell_type": "markdown",
   "metadata": {},
   "source": [
    "## Setup"
   ]
  },
  {
   "cell_type": "code",
   "execution_count": 28,
   "metadata": {
    "colab": {
     "base_uri": "https://localhost:8080/"
    },
    "id": "OwASO1dYd74m",
    "outputId": "616291ef-7731-4977-85be-6620c303b75f",
    "pycharm": {
     "is_executing": false
    }
   },
   "outputs": [
    {
     "name": "stdout",
     "output_type": "stream",
     "text": [
      "There are 1 GPU(s) available.\n",
      "We will use the GPU: NVIDIA GeForce GTX 1070\n"
     ]
    },
    {
     "data": {
      "text/plain": [
       "{'MODEL_CHECKPOINT': 'bert-base-uncased',\n",
       " 'MODEL_NAME': 'bert-base-uncased',\n",
       " 'DATASET': 'sst2',\n",
       " 'SALIENCY_BLANK_OUT_PATH': './saliency/sst2_val_sals_normbased_selfFT.npy',\n",
       " 'SALS_MAX_LENGTH': 64,\n",
       " 'HTA_PATH': './HTA/sst2_val256_HTAxInput_undiv_FT_alllayers.npy',\n",
       " 'FLOW_METHOD': 'rollout',\n",
       " 'NUM_CPUS': 12,\n",
       " 'OUTPUT_HIDDEN_STATES': False,\n",
       " 'DATASET_SIZE_LIMIT': None,\n",
       " 'DELETE_SEP': False}"
      ]
     },
     "execution_count": 28,
     "metadata": {},
     "output_type": "execute_result"
    }
   ],
   "source": [
    "import torch\n",
    "import numpy as np\n",
    "# from modeling_bert import BertForSequenceClassification\n",
    "from transformers import BertForSequenceClassification\n",
    "from transformers import BertTokenizer\n",
    "from datasets import load_dataset\n",
    "from tqdm.notebook import tqdm\n",
    "from importlib import reload\n",
    "import pickle\n",
    "import lzma\n",
    "import yaml\n",
    "\n",
    "SELECTED_GPU = 0\n",
    "if torch.cuda.is_available():\n",
    "    # Tell PyTorch to use the GPU.    \n",
    "    device = torch.device(\"cuda:{}\".format(SELECTED_GPU))\n",
    "    print('There are %d GPU(s) available.' % torch.cuda.device_count())\n",
    "    print('We will use the GPU:', torch.cuda.get_device_name(SELECTED_GPU))\n",
    "else:\n",
    "    device = \"cpu\"\n",
    "\n",
    "ATTENTION_NORM_TYPES = {\n",
    "#     \"head_attn_n\": 0,\n",
    "    \"N\": 1,\n",
    "    \"N-Res\": 2,\n",
    "    \"N-ResLN\": 3,\n",
    "    \"N-Enc\": 4\n",
    "#     \"attn_n_ratio\": 5,\n",
    "#     \"attnres_n_ratio\": 6,\n",
    "#     \"attnresln_n_ratio\": 7\n",
    "#     \"N-Enc_ratio\": 8\n",
    "}\n",
    "\n",
    "class FlowMethods:\n",
    "    ROLLOUT = \"rollout\"\n",
    "    MAX_FLOW = \"maxflow\"\n",
    "\n",
    "with open('src/configs/experiments_config.yaml', \"r\") as f:\n",
    "    config = yaml.safe_load(f)\n",
    "    \n",
    "### Editable:\n",
    "config = config[\"SST2\"]  # [SST2, MNLI, HATEXPLAIN] (Load different experiments config i.e. model, dataset and more)\n",
    "\n",
    "config[\"FLOW_METHOD\"] = FlowMethods.ROLLOUT\n",
    "config[\"NUM_CPUS\"] = 12  # If n<2 ? sequential : use p_map\n",
    "config[\"OUTPUT_HIDDEN_STATES\"] = False  # Default: True (Outputs flow up to each layer)\n",
    "config[\"DATASET_SIZE_LIMIT\"] = None  # Default: None (no limit)\n",
    "config[\"DELETE_SEP\"] = False  # Default: False (Visualizations will not work if set to True)\n",
    "\n",
    "config[\"HTA_PATH\"] = './HTA/sst2_val256_HTAxInput_undiv_FT_alllayers.npy'\n",
    "\n",
    "config[\"MODEL_CHECKPOINT\"] = \"bert-base-uncased\"\n",
    "\n",
    "config"
   ]
  },
  {
   "cell_type": "markdown",
   "metadata": {},
   "source": [
    "## Model/Tokenizer/Dataset"
   ]
  },
  {
   "cell_type": "code",
   "execution_count": 29,
   "metadata": {
    "colab": {
     "base_uri": "https://localhost:8080/"
    },
    "id": "bnmZXCdif2dq",
    "outputId": "1f8eeb6a-acd9-471d-f0c2-30f2500668b4"
   },
   "outputs": [
    {
     "name": "stderr",
     "output_type": "stream",
     "text": [
      "Some weights of the model checkpoint at bert-base-uncased were not used when initializing BertForSequenceClassification: ['cls.predictions.bias', 'cls.predictions.transform.dense.weight', 'cls.predictions.transform.dense.bias', 'cls.predictions.decoder.weight', 'cls.seq_relationship.weight', 'cls.seq_relationship.bias', 'cls.predictions.transform.LayerNorm.weight', 'cls.predictions.transform.LayerNorm.bias']\n",
      "- This IS expected if you are initializing BertForSequenceClassification from the checkpoint of a model trained on another task or with another architecture (e.g. initializing a BertForSequenceClassification model from a BertForPretraining model).\n",
      "- This IS NOT expected if you are initializing BertForSequenceClassification from the checkpoint of a model that you expect to be exactly identical (initializing a BertForSequenceClassification model from a BertForSequenceClassification model).\n",
      "Some weights of BertForSequenceClassification were not initialized from the model checkpoint at bert-base-uncased and are newly initialized: ['classifier.weight', 'classifier.bias']\n",
      "You should probably TRAIN this model on a down-stream task to be able to use it for predictions and inference.\n",
      "Reusing dataset glue (C:\\Users\\Mohsen\\.cache\\huggingface\\datasets\\glue\\sst2\\1.0.0\\dacbe3125aa31d7f70367a07a8a9e72a5a0bfeb5fc42e75c9db75b96da6053ad)\n"
     ]
    }
   ],
   "source": [
    "import src.task_loaders\n",
    "reload(src.task_loaders)\n",
    "\n",
    "tokenizer = BertTokenizer.from_pretrained(config[\"MODEL_NAME\"])\n",
    "model = BertForSequenceClassification.from_pretrained(config[\"MODEL_CHECKPOINT\"], local_files_only=False)\n",
    "task_loader = src.task_loaders.TaskLoader(tokenizer, count=config[\"DATASET_SIZE_LIMIT\"], \n",
    "                                          max_length=config[\"SALS_MAX_LENGTH\"])\n",
    "\n",
    "dataset, encoder_func = task_loader.load_task(config[\"DATASET\"])"
   ]
  },
  {
   "cell_type": "markdown",
   "metadata": {},
   "source": [
    "## Extract Attentions"
   ]
  },
  {
   "cell_type": "code",
   "execution_count": 30,
   "metadata": {
    "colab": {
     "base_uri": "https://localhost:8080/",
     "height": 49,
     "referenced_widgets": [
      "6dbf9c19c2f04507809736f2fc2b0204",
      "eb1c1c28d03046019546ac3c873b1570",
      "e46069d00558434fb871b09e431c127b",
      "3285707e45b5465384b973ba6789dd51",
      "5ed2be4b2b644030877b8c8dfff212af",
      "aa2270981ede4dc394616e144d28612d",
      "4d84d12803084eaea6efe35b6effdf6b",
      "35b8fdaa6593485581316b6d387d3ac2",
      "4592fad2c6b944ac95d80ab4ceaba7cd",
      "22975517dd83411ba507a4224d83a929",
      "9339c21e45504986bf430499b8fbbca8"
     ]
    },
    "id": "MxUCCuq0hLYt",
    "outputId": "7076fd09-bce7-4ca9-8adf-162383dc26b4"
   },
   "outputs": [
    {
     "data": {
      "application/vnd.jupyter.widget-view+json": {
       "model_id": "b61241e133434bf39c14b19770a2dae9",
       "version_major": 2,
       "version_minor": 0
      },
      "text/plain": [
       "  0%|          | 0/872 [00:00<?, ?it/s]"
      ]
     },
     "metadata": {},
     "output_type": "display_data"
    },
    {
     "name": "stdout",
     "output_type": "stream",
     "text": [
      "(12, 31, 31) (12, 31, 31)\n"
     ]
    }
   ],
   "source": [
    "import src.model_attentions\n",
    "reload(src.model_attentions)\n",
    "\n",
    "raw_attentions, norms_list = src.model_attentions.extract_attentions(model, encoder_func, len(dataset), device, \n",
    "                                                                     config[\"DELETE_SEP\"])\n",
    "print(raw_attentions[-1].shape, norms_list[3][-1].shape)"
   ]
  },
  {
   "cell_type": "code",
   "execution_count": 31,
   "metadata": {},
   "outputs": [
    {
     "data": {
      "text/plain": [
       "(12, 17)"
      ]
     },
     "execution_count": 31,
     "metadata": {},
     "output_type": "execute_result"
    }
   ],
   "source": [
    "norms_list[6][250].shape"
   ]
  },
  {
   "cell_type": "code",
   "execution_count": 52,
   "metadata": {},
   "outputs": [
    {
     "name": "stdout",
     "output_type": "stream",
     "text": [
      "0    0.31 ± 0.01\n",
      "1    0.26 ± 0.01\n",
      "2    0.26 ± 0.01\n",
      "3    0.25 ± 0.01\n",
      "4    0.24 ± 0.01\n",
      "5    0.23 ± 0.02\n",
      "6    0.24 ± 0.02\n",
      "7    0.23 ± 0.02\n",
      "8    0.22 ± 0.01\n",
      "9    0.24 ± 0.01\n",
      "10   0.20 ± 0.02\n",
      "11   0.17 ± 0.02\n"
     ]
    }
   ],
   "source": [
    "### Ratio Mean in Layers\n",
    "for layer in range(12):\n",
    "    layer_ratios = np.array([np.mean(norm[layer]) for norm in norms_list[6]])\n",
    "#     print(layer_ratios.shape)\n",
    "    print(f\"{layer}\".ljust(4), f\"{np.mean(layer_ratios):.2f}\", f\"± {np.std(layer_ratios):.2f}\")"
   ]
  },
  {
   "cell_type": "code",
   "execution_count": 53,
   "metadata": {},
   "outputs": [
    {
     "data": {
      "application/vnd.jupyter.widget-view+json": {
       "model_id": "d05c279274d5421b8293b52669d4e1db",
       "version_major": 2,
       "version_minor": 0
      },
      "text/plain": [
       "  0%|          | 0/872 [00:00<?, ?it/s]"
      ]
     },
     "metadata": {},
     "output_type": "display_data"
    },
    {
     "data": {
      "text/plain": [
       "(12, 10, 10)"
      ]
     },
     "execution_count": 53,
     "metadata": {},
     "output_type": "execute_result"
    }
   ],
   "source": [
    "import src.model_attentions\n",
    "reload(src.model_attentions)\n",
    "\n",
    "r_ratio_attentions = src.model_attentions.build_ratio_residual_attentions(raw_attentions, norms_list)\n",
    "\n",
    "local_attentions = {\"W\": raw_attentions}\n",
    "for key, attention_mat in r_ratio_attentions.items():\n",
    "    local_attentions[key] = attention_mat\n",
    "for key, value in ATTENTION_NORM_TYPES.items():\n",
    "    local_attentions[key] = norms_list[value]\n",
    "\n",
    "## ADD LOCAL HTA\n",
    "hta = np.load(config[\"HTA_PATH\"])\n",
    "local_attentions[\"HTA\"] = []\n",
    "for i in range(hta.shape[1]):\n",
    "    length = min(len(local_attentions[\"W\"][i][0]), len(hta[0][i]))\n",
    "    local_attentions[\"HTA\"].append(hta[:, i, :length, :length])\n",
    "    \n",
    "local_attentions.keys()\n",
    "local_attentions[\"W\"][1].shape"
   ]
  },
  {
   "cell_type": "markdown",
   "metadata": {},
   "source": [
    "## Compute Attention Rollout/MaxFlow"
   ]
  },
  {
   "cell_type": "code",
   "execution_count": 9,
   "metadata": {
    "colab": {
     "base_uri": "https://localhost:8080/",
     "height": 49,
     "referenced_widgets": [
      "692f6219c44a4671be44fa63ab7f66bb",
      "b2789c1fd4c644e8beb418340d912cb4",
      "cd86681f9a814914a13d9d5c2204f8e9",
      "dfc507b035fb4abb8aec7657c5062e28",
      "062fc07f7b7544c29a66b4a27479c8a3",
      "ddde60d75e4e4f64af8cfceae8f001b0",
      "9bdb6ba6066e4c97a1a5dc2925c6971f",
      "fe48b10d483748628664e64821345fa2",
      "4376e6334a76494987ae85d972b1c0bc",
      "71e163c95217429d81808b11df592487",
      "00b68ecbf8894341b0d68c6382a3408e"
     ]
    },
    "id": "crdogougpJWD",
    "outputId": "d9df4194-6882-465a-aa3a-36c7ebbf672a",
    "scrolled": true
   },
   "outputs": [
    {
     "name": "stdout",
     "output_type": "stream",
     "text": [
      "<bound method AttentionRollout.compute_flows of <src.attention_rollout.AttentionRollout object at 0x000002601A0D0780>>\n"
     ]
    },
    {
     "data": {
      "application/vnd.jupyter.widget-view+json": {
       "model_id": "1cc169b4821c4bcc880badc66fd60bf0",
       "version_major": 2,
       "version_minor": 0
      },
      "text/plain": [
       "W swapped layer 0:   0%|          | 0/256 [00:00<?, ?it/s]"
      ]
     },
     "metadata": {},
     "output_type": "display_data"
    },
    {
     "data": {
      "application/vnd.jupyter.widget-view+json": {
       "model_id": "6d930e1e2de64abebdf0ac099b2f7535",
       "version_major": 2,
       "version_minor": 0
      },
      "text/plain": [
       "W swapped layer 1:   0%|          | 0/256 [00:00<?, ?it/s]"
      ]
     },
     "metadata": {},
     "output_type": "display_data"
    },
    {
     "data": {
      "application/vnd.jupyter.widget-view+json": {
       "model_id": "f65f7d217c3946cab453be2ba72054f5",
       "version_major": 2,
       "version_minor": 0
      },
      "text/plain": [
       "W swapped layer 2:   0%|          | 0/256 [00:00<?, ?it/s]"
      ]
     },
     "metadata": {},
     "output_type": "display_data"
    },
    {
     "data": {
      "application/vnd.jupyter.widget-view+json": {
       "model_id": "10b14d3254f0432eb3476b3c3591157e",
       "version_major": 2,
       "version_minor": 0
      },
      "text/plain": [
       "W swapped layer 3:   0%|          | 0/256 [00:00<?, ?it/s]"
      ]
     },
     "metadata": {},
     "output_type": "display_data"
    },
    {
     "data": {
      "application/vnd.jupyter.widget-view+json": {
       "model_id": "84eb5744bd70404a84ffbce40d7c682a",
       "version_major": 2,
       "version_minor": 0
      },
      "text/plain": [
       "W swapped layer 4:   0%|          | 0/256 [00:00<?, ?it/s]"
      ]
     },
     "metadata": {},
     "output_type": "display_data"
    },
    {
     "data": {
      "application/vnd.jupyter.widget-view+json": {
       "model_id": "1835c77737404d9989a7d25de3772758",
       "version_major": 2,
       "version_minor": 0
      },
      "text/plain": [
       "W swapped layer 5:   0%|          | 0/256 [00:00<?, ?it/s]"
      ]
     },
     "metadata": {},
     "output_type": "display_data"
    },
    {
     "data": {
      "application/vnd.jupyter.widget-view+json": {
       "model_id": "36ff8e429220454a86a0795a53b98c25",
       "version_major": 2,
       "version_minor": 0
      },
      "text/plain": [
       "W swapped layer 6:   0%|          | 0/256 [00:00<?, ?it/s]"
      ]
     },
     "metadata": {},
     "output_type": "display_data"
    },
    {
     "data": {
      "application/vnd.jupyter.widget-view+json": {
       "model_id": "0c59b139a59240738c360e2dcf0e4218",
       "version_major": 2,
       "version_minor": 0
      },
      "text/plain": [
       "W swapped layer 7:   0%|          | 0/256 [00:00<?, ?it/s]"
      ]
     },
     "metadata": {},
     "output_type": "display_data"
    },
    {
     "data": {
      "application/vnd.jupyter.widget-view+json": {
       "model_id": "793e6f985eae47f58a528e93b6bd7325",
       "version_major": 2,
       "version_minor": 0
      },
      "text/plain": [
       "W swapped layer 8:   0%|          | 0/256 [00:00<?, ?it/s]"
      ]
     },
     "metadata": {},
     "output_type": "display_data"
    },
    {
     "data": {
      "application/vnd.jupyter.widget-view+json": {
       "model_id": "491efb584f3042ed8a63f5b131f99723",
       "version_major": 2,
       "version_minor": 0
      },
      "text/plain": [
       "W swapped layer 9:   0%|          | 0/256 [00:00<?, ?it/s]"
      ]
     },
     "metadata": {},
     "output_type": "display_data"
    },
    {
     "data": {
      "application/vnd.jupyter.widget-view+json": {
       "model_id": "30c0ffd2007b4b3bbcc683db760f117e",
       "version_major": 2,
       "version_minor": 0
      },
      "text/plain": [
       "W swapped layer 10:   0%|          | 0/256 [00:00<?, ?it/s]"
      ]
     },
     "metadata": {},
     "output_type": "display_data"
    },
    {
     "data": {
      "application/vnd.jupyter.widget-view+json": {
       "model_id": "643b87ca2dea496b944e2560af385b40",
       "version_major": 2,
       "version_minor": 0
      },
      "text/plain": [
       "W swapped layer 11:   0%|          | 0/256 [00:00<?, ?it/s]"
      ]
     },
     "metadata": {},
     "output_type": "display_data"
    },
    {
     "data": {
      "application/vnd.jupyter.widget-view+json": {
       "model_id": "5ed2ff318e6840b68a8ab265c6b08695",
       "version_major": 2,
       "version_minor": 0
      },
      "text/plain": [
       "W-FixedRes swapped layer 0:   0%|          | 0/256 [00:00<?, ?it/s]"
      ]
     },
     "metadata": {},
     "output_type": "display_data"
    },
    {
     "data": {
      "application/vnd.jupyter.widget-view+json": {
       "model_id": "c900ef8d68c7404199a1bad00a710db9",
       "version_major": 2,
       "version_minor": 0
      },
      "text/plain": [
       "W-FixedRes swapped layer 1:   0%|          | 0/256 [00:00<?, ?it/s]"
      ]
     },
     "metadata": {},
     "output_type": "display_data"
    },
    {
     "data": {
      "application/vnd.jupyter.widget-view+json": {
       "model_id": "0d1d4cfd7dbf4585acf2ff2e86dbe3d1",
       "version_major": 2,
       "version_minor": 0
      },
      "text/plain": [
       "W-FixedRes swapped layer 2:   0%|          | 0/256 [00:00<?, ?it/s]"
      ]
     },
     "metadata": {},
     "output_type": "display_data"
    },
    {
     "data": {
      "application/vnd.jupyter.widget-view+json": {
       "model_id": "897e8f9e937c4daab0e6d4275b3a9adf",
       "version_major": 2,
       "version_minor": 0
      },
      "text/plain": [
       "W-FixedRes swapped layer 3:   0%|          | 0/256 [00:00<?, ?it/s]"
      ]
     },
     "metadata": {},
     "output_type": "display_data"
    },
    {
     "data": {
      "application/vnd.jupyter.widget-view+json": {
       "model_id": "44f3d02b1e4a46698f46988885c42f93",
       "version_major": 2,
       "version_minor": 0
      },
      "text/plain": [
       "W-FixedRes swapped layer 4:   0%|          | 0/256 [00:00<?, ?it/s]"
      ]
     },
     "metadata": {},
     "output_type": "display_data"
    },
    {
     "data": {
      "application/vnd.jupyter.widget-view+json": {
       "model_id": "3e4ab12894c0490888c824b424614885",
       "version_major": 2,
       "version_minor": 0
      },
      "text/plain": [
       "W-FixedRes swapped layer 5:   0%|          | 0/256 [00:00<?, ?it/s]"
      ]
     },
     "metadata": {},
     "output_type": "display_data"
    },
    {
     "data": {
      "application/vnd.jupyter.widget-view+json": {
       "model_id": "b53b54a108e749fba9648ec350a618be",
       "version_major": 2,
       "version_minor": 0
      },
      "text/plain": [
       "W-FixedRes swapped layer 6:   0%|          | 0/256 [00:00<?, ?it/s]"
      ]
     },
     "metadata": {},
     "output_type": "display_data"
    },
    {
     "data": {
      "application/vnd.jupyter.widget-view+json": {
       "model_id": "c482168a1c764fe6bd3506cb6c0b1ccf",
       "version_major": 2,
       "version_minor": 0
      },
      "text/plain": [
       "W-FixedRes swapped layer 7:   0%|          | 0/256 [00:00<?, ?it/s]"
      ]
     },
     "metadata": {},
     "output_type": "display_data"
    },
    {
     "data": {
      "application/vnd.jupyter.widget-view+json": {
       "model_id": "1f9c8b96653146adbef3a5699a606af1",
       "version_major": 2,
       "version_minor": 0
      },
      "text/plain": [
       "W-FixedRes swapped layer 8:   0%|          | 0/256 [00:00<?, ?it/s]"
      ]
     },
     "metadata": {},
     "output_type": "display_data"
    },
    {
     "data": {
      "application/vnd.jupyter.widget-view+json": {
       "model_id": "886404b05aed4d80a19e7bc56b4d4ebc",
       "version_major": 2,
       "version_minor": 0
      },
      "text/plain": [
       "W-FixedRes swapped layer 9:   0%|          | 0/256 [00:00<?, ?it/s]"
      ]
     },
     "metadata": {},
     "output_type": "display_data"
    },
    {
     "data": {
      "application/vnd.jupyter.widget-view+json": {
       "model_id": "e98acd231cc24033b9b644ea8f2b2ad0",
       "version_major": 2,
       "version_minor": 0
      },
      "text/plain": [
       "W-FixedRes swapped layer 10:   0%|          | 0/256 [00:00<?, ?it/s]"
      ]
     },
     "metadata": {},
     "output_type": "display_data"
    },
    {
     "data": {
      "application/vnd.jupyter.widget-view+json": {
       "model_id": "478ca2ebb730411f9f93d55e2945898a",
       "version_major": 2,
       "version_minor": 0
      },
      "text/plain": [
       "W-FixedRes swapped layer 11:   0%|          | 0/256 [00:00<?, ?it/s]"
      ]
     },
     "metadata": {},
     "output_type": "display_data"
    },
    {
     "data": {
      "application/vnd.jupyter.widget-view+json": {
       "model_id": "35cb6262fd264cbcb3beac4af7837b50",
       "version_major": 2,
       "version_minor": 0
      },
      "text/plain": [
       "W-Res swapped layer 0:   0%|          | 0/256 [00:00<?, ?it/s]"
      ]
     },
     "metadata": {},
     "output_type": "display_data"
    },
    {
     "data": {
      "application/vnd.jupyter.widget-view+json": {
       "model_id": "6b22467fd5cc469993e36ead14e6c701",
       "version_major": 2,
       "version_minor": 0
      },
      "text/plain": [
       "W-Res swapped layer 1:   0%|          | 0/256 [00:00<?, ?it/s]"
      ]
     },
     "metadata": {},
     "output_type": "display_data"
    },
    {
     "data": {
      "application/vnd.jupyter.widget-view+json": {
       "model_id": "3b83d7db10f54aa89690263b7d14b984",
       "version_major": 2,
       "version_minor": 0
      },
      "text/plain": [
       "W-Res swapped layer 2:   0%|          | 0/256 [00:00<?, ?it/s]"
      ]
     },
     "metadata": {},
     "output_type": "display_data"
    },
    {
     "data": {
      "application/vnd.jupyter.widget-view+json": {
       "model_id": "3b2322cd89314824a9590cf5f2d6f660",
       "version_major": 2,
       "version_minor": 0
      },
      "text/plain": [
       "W-Res swapped layer 3:   0%|          | 0/256 [00:00<?, ?it/s]"
      ]
     },
     "metadata": {},
     "output_type": "display_data"
    },
    {
     "data": {
      "application/vnd.jupyter.widget-view+json": {
       "model_id": "301de4d824cb4fdfad6d9910d96d3625",
       "version_major": 2,
       "version_minor": 0
      },
      "text/plain": [
       "W-Res swapped layer 4:   0%|          | 0/256 [00:00<?, ?it/s]"
      ]
     },
     "metadata": {},
     "output_type": "display_data"
    },
    {
     "data": {
      "application/vnd.jupyter.widget-view+json": {
       "model_id": "eaf0aa2bd5e147c7884bfb55d5699c00",
       "version_major": 2,
       "version_minor": 0
      },
      "text/plain": [
       "W-Res swapped layer 5:   0%|          | 0/256 [00:00<?, ?it/s]"
      ]
     },
     "metadata": {},
     "output_type": "display_data"
    },
    {
     "data": {
      "application/vnd.jupyter.widget-view+json": {
       "model_id": "230222115d0f49659d724023d978fda8",
       "version_major": 2,
       "version_minor": 0
      },
      "text/plain": [
       "W-Res swapped layer 6:   0%|          | 0/256 [00:00<?, ?it/s]"
      ]
     },
     "metadata": {},
     "output_type": "display_data"
    },
    {
     "data": {
      "application/vnd.jupyter.widget-view+json": {
       "model_id": "c0248a9b2b53429fba2f55aebafb81de",
       "version_major": 2,
       "version_minor": 0
      },
      "text/plain": [
       "W-Res swapped layer 7:   0%|          | 0/256 [00:00<?, ?it/s]"
      ]
     },
     "metadata": {},
     "output_type": "display_data"
    },
    {
     "data": {
      "application/vnd.jupyter.widget-view+json": {
       "model_id": "dc2d70a87cac4ac09170d0f9b4cd5c72",
       "version_major": 2,
       "version_minor": 0
      },
      "text/plain": [
       "W-Res swapped layer 8:   0%|          | 0/256 [00:00<?, ?it/s]"
      ]
     },
     "metadata": {},
     "output_type": "display_data"
    },
    {
     "data": {
      "application/vnd.jupyter.widget-view+json": {
       "model_id": "27606777b1944b7fb963ce3893113175",
       "version_major": 2,
       "version_minor": 0
      },
      "text/plain": [
       "W-Res swapped layer 9:   0%|          | 0/256 [00:00<?, ?it/s]"
      ]
     },
     "metadata": {},
     "output_type": "display_data"
    },
    {
     "data": {
      "application/vnd.jupyter.widget-view+json": {
       "model_id": "23d3ab49b44e4a7ab9ae0a361151862d",
       "version_major": 2,
       "version_minor": 0
      },
      "text/plain": [
       "W-Res swapped layer 10:   0%|          | 0/256 [00:00<?, ?it/s]"
      ]
     },
     "metadata": {},
     "output_type": "display_data"
    },
    {
     "data": {
      "application/vnd.jupyter.widget-view+json": {
       "model_id": "32ae3f1600174ef887b310bafe6a795c",
       "version_major": 2,
       "version_minor": 0
      },
      "text/plain": [
       "W-Res swapped layer 11:   0%|          | 0/256 [00:00<?, ?it/s]"
      ]
     },
     "metadata": {},
     "output_type": "display_data"
    },
    {
     "data": {
      "application/vnd.jupyter.widget-view+json": {
       "model_id": "8f7f61bae4854b378c21542e8b74af39",
       "version_major": 2,
       "version_minor": 0
      },
      "text/plain": [
       "N-FixedRes swapped layer 0:   0%|          | 0/256 [00:00<?, ?it/s]"
      ]
     },
     "metadata": {},
     "output_type": "display_data"
    },
    {
     "data": {
      "application/vnd.jupyter.widget-view+json": {
       "model_id": "2689678fc57d43c79dd4616897ee131a",
       "version_major": 2,
       "version_minor": 0
      },
      "text/plain": [
       "N-FixedRes swapped layer 1:   0%|          | 0/256 [00:00<?, ?it/s]"
      ]
     },
     "metadata": {},
     "output_type": "display_data"
    },
    {
     "data": {
      "application/vnd.jupyter.widget-view+json": {
       "model_id": "e77a97119bf3437da7dfc2d1a2aa9582",
       "version_major": 2,
       "version_minor": 0
      },
      "text/plain": [
       "N-FixedRes swapped layer 2:   0%|          | 0/256 [00:00<?, ?it/s]"
      ]
     },
     "metadata": {},
     "output_type": "display_data"
    },
    {
     "data": {
      "application/vnd.jupyter.widget-view+json": {
       "model_id": "16c58deecd8042b086c154196e3ba36c",
       "version_major": 2,
       "version_minor": 0
      },
      "text/plain": [
       "N-FixedRes swapped layer 3:   0%|          | 0/256 [00:00<?, ?it/s]"
      ]
     },
     "metadata": {},
     "output_type": "display_data"
    },
    {
     "data": {
      "application/vnd.jupyter.widget-view+json": {
       "model_id": "f165e45a633f4f20b6dd33c708d018a5",
       "version_major": 2,
       "version_minor": 0
      },
      "text/plain": [
       "N-FixedRes swapped layer 4:   0%|          | 0/256 [00:00<?, ?it/s]"
      ]
     },
     "metadata": {},
     "output_type": "display_data"
    },
    {
     "data": {
      "application/vnd.jupyter.widget-view+json": {
       "model_id": "de8b4ea9f9924d13abfa70101e21cbbf",
       "version_major": 2,
       "version_minor": 0
      },
      "text/plain": [
       "N-FixedRes swapped layer 5:   0%|          | 0/256 [00:00<?, ?it/s]"
      ]
     },
     "metadata": {},
     "output_type": "display_data"
    },
    {
     "data": {
      "application/vnd.jupyter.widget-view+json": {
       "model_id": "b98e67a7d9a6409b9383f36b12d4b356",
       "version_major": 2,
       "version_minor": 0
      },
      "text/plain": [
       "N-FixedRes swapped layer 6:   0%|          | 0/256 [00:00<?, ?it/s]"
      ]
     },
     "metadata": {},
     "output_type": "display_data"
    },
    {
     "data": {
      "application/vnd.jupyter.widget-view+json": {
       "model_id": "1eb9e865612342cc80f89ebc14708a1a",
       "version_major": 2,
       "version_minor": 0
      },
      "text/plain": [
       "N-FixedRes swapped layer 7:   0%|          | 0/256 [00:00<?, ?it/s]"
      ]
     },
     "metadata": {},
     "output_type": "display_data"
    },
    {
     "data": {
      "application/vnd.jupyter.widget-view+json": {
       "model_id": "41eb1d47430e4355a15a4e47427f050c",
       "version_major": 2,
       "version_minor": 0
      },
      "text/plain": [
       "N-FixedRes swapped layer 8:   0%|          | 0/256 [00:00<?, ?it/s]"
      ]
     },
     "metadata": {},
     "output_type": "display_data"
    },
    {
     "data": {
      "application/vnd.jupyter.widget-view+json": {
       "model_id": "79bd489a866a445babb4623d0beb188f",
       "version_major": 2,
       "version_minor": 0
      },
      "text/plain": [
       "N-FixedRes swapped layer 9:   0%|          | 0/256 [00:00<?, ?it/s]"
      ]
     },
     "metadata": {},
     "output_type": "display_data"
    },
    {
     "data": {
      "application/vnd.jupyter.widget-view+json": {
       "model_id": "5ab9c87927d448eeaaba13f3493124b0",
       "version_major": 2,
       "version_minor": 0
      },
      "text/plain": [
       "N-FixedRes swapped layer 10:   0%|          | 0/256 [00:00<?, ?it/s]"
      ]
     },
     "metadata": {},
     "output_type": "display_data"
    },
    {
     "data": {
      "application/vnd.jupyter.widget-view+json": {
       "model_id": "97965c378e6d4aa4882f0cbd24f812e1",
       "version_major": 2,
       "version_minor": 0
      },
      "text/plain": [
       "N-FixedRes swapped layer 11:   0%|          | 0/256 [00:00<?, ?it/s]"
      ]
     },
     "metadata": {},
     "output_type": "display_data"
    },
    {
     "data": {
      "application/vnd.jupyter.widget-view+json": {
       "model_id": "250eb288dd614676a4dc29a415533dbe",
       "version_major": 2,
       "version_minor": 0
      },
      "text/plain": [
       "N swapped layer 0:   0%|          | 0/256 [00:00<?, ?it/s]"
      ]
     },
     "metadata": {},
     "output_type": "display_data"
    },
    {
     "data": {
      "application/vnd.jupyter.widget-view+json": {
       "model_id": "0b852f831f1f431db04a247683ef1e61",
       "version_major": 2,
       "version_minor": 0
      },
      "text/plain": [
       "N swapped layer 1:   0%|          | 0/256 [00:00<?, ?it/s]"
      ]
     },
     "metadata": {},
     "output_type": "display_data"
    },
    {
     "data": {
      "application/vnd.jupyter.widget-view+json": {
       "model_id": "6396001d475a4e29b264181e0d3e3db8",
       "version_major": 2,
       "version_minor": 0
      },
      "text/plain": [
       "N swapped layer 2:   0%|          | 0/256 [00:00<?, ?it/s]"
      ]
     },
     "metadata": {},
     "output_type": "display_data"
    },
    {
     "data": {
      "application/vnd.jupyter.widget-view+json": {
       "model_id": "d786dbf460cd4b67837bd7a13491333d",
       "version_major": 2,
       "version_minor": 0
      },
      "text/plain": [
       "N swapped layer 3:   0%|          | 0/256 [00:00<?, ?it/s]"
      ]
     },
     "metadata": {},
     "output_type": "display_data"
    },
    {
     "data": {
      "application/vnd.jupyter.widget-view+json": {
       "model_id": "aff3e74409634992a61276b08f892c6a",
       "version_major": 2,
       "version_minor": 0
      },
      "text/plain": [
       "N swapped layer 4:   0%|          | 0/256 [00:00<?, ?it/s]"
      ]
     },
     "metadata": {},
     "output_type": "display_data"
    },
    {
     "data": {
      "application/vnd.jupyter.widget-view+json": {
       "model_id": "ab926862cff24df8b6833f1ddaac2d10",
       "version_major": 2,
       "version_minor": 0
      },
      "text/plain": [
       "N swapped layer 5:   0%|          | 0/256 [00:00<?, ?it/s]"
      ]
     },
     "metadata": {},
     "output_type": "display_data"
    },
    {
     "data": {
      "application/vnd.jupyter.widget-view+json": {
       "model_id": "e1c95f90f1e14eb3a98f60fb038244a7",
       "version_major": 2,
       "version_minor": 0
      },
      "text/plain": [
       "N swapped layer 6:   0%|          | 0/256 [00:00<?, ?it/s]"
      ]
     },
     "metadata": {},
     "output_type": "display_data"
    },
    {
     "data": {
      "application/vnd.jupyter.widget-view+json": {
       "model_id": "49c7b53c54d54b5ebf1abc8d42b05f19",
       "version_major": 2,
       "version_minor": 0
      },
      "text/plain": [
       "N swapped layer 7:   0%|          | 0/256 [00:00<?, ?it/s]"
      ]
     },
     "metadata": {},
     "output_type": "display_data"
    },
    {
     "data": {
      "application/vnd.jupyter.widget-view+json": {
       "model_id": "c01e4838feb844d992e962d852d4371f",
       "version_major": 2,
       "version_minor": 0
      },
      "text/plain": [
       "N swapped layer 8:   0%|          | 0/256 [00:00<?, ?it/s]"
      ]
     },
     "metadata": {},
     "output_type": "display_data"
    },
    {
     "data": {
      "application/vnd.jupyter.widget-view+json": {
       "model_id": "a01701902bd1436990e9f4254f97b675",
       "version_major": 2,
       "version_minor": 0
      },
      "text/plain": [
       "N swapped layer 9:   0%|          | 0/256 [00:00<?, ?it/s]"
      ]
     },
     "metadata": {},
     "output_type": "display_data"
    },
    {
     "data": {
      "application/vnd.jupyter.widget-view+json": {
       "model_id": "aba2712356894d3383345ea45722c136",
       "version_major": 2,
       "version_minor": 0
      },
      "text/plain": [
       "N swapped layer 10:   0%|          | 0/256 [00:00<?, ?it/s]"
      ]
     },
     "metadata": {},
     "output_type": "display_data"
    },
    {
     "data": {
      "application/vnd.jupyter.widget-view+json": {
       "model_id": "5efa37497b2841f7b8f05b79a8b53378",
       "version_major": 2,
       "version_minor": 0
      },
      "text/plain": [
       "N swapped layer 11:   0%|          | 0/256 [00:00<?, ?it/s]"
      ]
     },
     "metadata": {},
     "output_type": "display_data"
    },
    {
     "data": {
      "application/vnd.jupyter.widget-view+json": {
       "model_id": "3450bb86d5a14cb6a7ffe743127268d8",
       "version_major": 2,
       "version_minor": 0
      },
      "text/plain": [
       "N-Res swapped layer 0:   0%|          | 0/256 [00:00<?, ?it/s]"
      ]
     },
     "metadata": {},
     "output_type": "display_data"
    },
    {
     "data": {
      "application/vnd.jupyter.widget-view+json": {
       "model_id": "d408ffc1e9ec410f911f254d48f9b20a",
       "version_major": 2,
       "version_minor": 0
      },
      "text/plain": [
       "N-Res swapped layer 1:   0%|          | 0/256 [00:00<?, ?it/s]"
      ]
     },
     "metadata": {},
     "output_type": "display_data"
    },
    {
     "data": {
      "application/vnd.jupyter.widget-view+json": {
       "model_id": "e9cf751e8f4b46a79fc7a9cd7123f4c0",
       "version_major": 2,
       "version_minor": 0
      },
      "text/plain": [
       "N-Res swapped layer 2:   0%|          | 0/256 [00:00<?, ?it/s]"
      ]
     },
     "metadata": {},
     "output_type": "display_data"
    },
    {
     "data": {
      "application/vnd.jupyter.widget-view+json": {
       "model_id": "d1c8b657bf6b44d59af86f4da19b27e0",
       "version_major": 2,
       "version_minor": 0
      },
      "text/plain": [
       "N-Res swapped layer 3:   0%|          | 0/256 [00:00<?, ?it/s]"
      ]
     },
     "metadata": {},
     "output_type": "display_data"
    },
    {
     "data": {
      "application/vnd.jupyter.widget-view+json": {
       "model_id": "11f7c80783b84b68ad2d942930fdad50",
       "version_major": 2,
       "version_minor": 0
      },
      "text/plain": [
       "N-Res swapped layer 4:   0%|          | 0/256 [00:00<?, ?it/s]"
      ]
     },
     "metadata": {},
     "output_type": "display_data"
    },
    {
     "data": {
      "application/vnd.jupyter.widget-view+json": {
       "model_id": "f37dc50328074f58901cabde04c1cc3e",
       "version_major": 2,
       "version_minor": 0
      },
      "text/plain": [
       "N-Res swapped layer 5:   0%|          | 0/256 [00:00<?, ?it/s]"
      ]
     },
     "metadata": {},
     "output_type": "display_data"
    },
    {
     "data": {
      "application/vnd.jupyter.widget-view+json": {
       "model_id": "0c9bbb28641147698e99295b4d43c244",
       "version_major": 2,
       "version_minor": 0
      },
      "text/plain": [
       "N-Res swapped layer 6:   0%|          | 0/256 [00:00<?, ?it/s]"
      ]
     },
     "metadata": {},
     "output_type": "display_data"
    },
    {
     "data": {
      "application/vnd.jupyter.widget-view+json": {
       "model_id": "88c079faf1f34648ba37a2f467b38178",
       "version_major": 2,
       "version_minor": 0
      },
      "text/plain": [
       "N-Res swapped layer 7:   0%|          | 0/256 [00:00<?, ?it/s]"
      ]
     },
     "metadata": {},
     "output_type": "display_data"
    },
    {
     "data": {
      "application/vnd.jupyter.widget-view+json": {
       "model_id": "9720474d22b6489d828a07c0737e810a",
       "version_major": 2,
       "version_minor": 0
      },
      "text/plain": [
       "N-Res swapped layer 8:   0%|          | 0/256 [00:00<?, ?it/s]"
      ]
     },
     "metadata": {},
     "output_type": "display_data"
    },
    {
     "data": {
      "application/vnd.jupyter.widget-view+json": {
       "model_id": "bfa9b255174441a29ce91762799318d9",
       "version_major": 2,
       "version_minor": 0
      },
      "text/plain": [
       "N-Res swapped layer 9:   0%|          | 0/256 [00:00<?, ?it/s]"
      ]
     },
     "metadata": {},
     "output_type": "display_data"
    },
    {
     "data": {
      "application/vnd.jupyter.widget-view+json": {
       "model_id": "b1f47fae3fcb4d79a1990c463863d718",
       "version_major": 2,
       "version_minor": 0
      },
      "text/plain": [
       "N-Res swapped layer 10:   0%|          | 0/256 [00:00<?, ?it/s]"
      ]
     },
     "metadata": {},
     "output_type": "display_data"
    },
    {
     "data": {
      "application/vnd.jupyter.widget-view+json": {
       "model_id": "8f82816e2bbe40c9a72b063ff10f2f92",
       "version_major": 2,
       "version_minor": 0
      },
      "text/plain": [
       "N-Res swapped layer 11:   0%|          | 0/256 [00:00<?, ?it/s]"
      ]
     },
     "metadata": {},
     "output_type": "display_data"
    },
    {
     "data": {
      "application/vnd.jupyter.widget-view+json": {
       "model_id": "d961690218b94019a83e3f45c0acc361",
       "version_major": 2,
       "version_minor": 0
      },
      "text/plain": [
       "N-ResLN swapped layer 0:   0%|          | 0/256 [00:00<?, ?it/s]"
      ]
     },
     "metadata": {},
     "output_type": "display_data"
    },
    {
     "data": {
      "application/vnd.jupyter.widget-view+json": {
       "model_id": "75ed5200658249b3805106e817ff81fe",
       "version_major": 2,
       "version_minor": 0
      },
      "text/plain": [
       "N-ResLN swapped layer 1:   0%|          | 0/256 [00:00<?, ?it/s]"
      ]
     },
     "metadata": {},
     "output_type": "display_data"
    },
    {
     "data": {
      "application/vnd.jupyter.widget-view+json": {
       "model_id": "7bb2ef188596429aa9cc9755e044949c",
       "version_major": 2,
       "version_minor": 0
      },
      "text/plain": [
       "N-ResLN swapped layer 2:   0%|          | 0/256 [00:00<?, ?it/s]"
      ]
     },
     "metadata": {},
     "output_type": "display_data"
    },
    {
     "data": {
      "application/vnd.jupyter.widget-view+json": {
       "model_id": "31d99edb14894ac2a4e517bb395c4e16",
       "version_major": 2,
       "version_minor": 0
      },
      "text/plain": [
       "N-ResLN swapped layer 3:   0%|          | 0/256 [00:00<?, ?it/s]"
      ]
     },
     "metadata": {},
     "output_type": "display_data"
    },
    {
     "data": {
      "application/vnd.jupyter.widget-view+json": {
       "model_id": "fdfe2727a9cd455689c211f00fc64efb",
       "version_major": 2,
       "version_minor": 0
      },
      "text/plain": [
       "N-ResLN swapped layer 4:   0%|          | 0/256 [00:00<?, ?it/s]"
      ]
     },
     "metadata": {},
     "output_type": "display_data"
    },
    {
     "data": {
      "application/vnd.jupyter.widget-view+json": {
       "model_id": "95e74ce23d85428aa7f35e0974471ec9",
       "version_major": 2,
       "version_minor": 0
      },
      "text/plain": [
       "N-ResLN swapped layer 5:   0%|          | 0/256 [00:00<?, ?it/s]"
      ]
     },
     "metadata": {},
     "output_type": "display_data"
    },
    {
     "data": {
      "application/vnd.jupyter.widget-view+json": {
       "model_id": "04022952ebfa4e49ba83dd84eef726d4",
       "version_major": 2,
       "version_minor": 0
      },
      "text/plain": [
       "N-ResLN swapped layer 6:   0%|          | 0/256 [00:00<?, ?it/s]"
      ]
     },
     "metadata": {},
     "output_type": "display_data"
    },
    {
     "data": {
      "application/vnd.jupyter.widget-view+json": {
       "model_id": "8d7ff1fa60af4860ad38c5e60b0df34b",
       "version_major": 2,
       "version_minor": 0
      },
      "text/plain": [
       "N-ResLN swapped layer 7:   0%|          | 0/256 [00:00<?, ?it/s]"
      ]
     },
     "metadata": {},
     "output_type": "display_data"
    },
    {
     "data": {
      "application/vnd.jupyter.widget-view+json": {
       "model_id": "c195ebab0e7a4558a994fd72e9aec34b",
       "version_major": 2,
       "version_minor": 0
      },
      "text/plain": [
       "N-ResLN swapped layer 8:   0%|          | 0/256 [00:00<?, ?it/s]"
      ]
     },
     "metadata": {},
     "output_type": "display_data"
    },
    {
     "data": {
      "application/vnd.jupyter.widget-view+json": {
       "model_id": "67bbdf0834e04045988d514f4447b7e1",
       "version_major": 2,
       "version_minor": 0
      },
      "text/plain": [
       "N-ResLN swapped layer 9:   0%|          | 0/256 [00:00<?, ?it/s]"
      ]
     },
     "metadata": {},
     "output_type": "display_data"
    },
    {
     "data": {
      "application/vnd.jupyter.widget-view+json": {
       "model_id": "b3cd4b92d30f41078695f9bab8f19ad6",
       "version_major": 2,
       "version_minor": 0
      },
      "text/plain": [
       "N-ResLN swapped layer 10:   0%|          | 0/256 [00:00<?, ?it/s]"
      ]
     },
     "metadata": {},
     "output_type": "display_data"
    },
    {
     "data": {
      "application/vnd.jupyter.widget-view+json": {
       "model_id": "43e876d2fcfe4dc5995b8f7be94a03ad",
       "version_major": 2,
       "version_minor": 0
      },
      "text/plain": [
       "N-ResLN swapped layer 11:   0%|          | 0/256 [00:00<?, ?it/s]"
      ]
     },
     "metadata": {},
     "output_type": "display_data"
    },
    {
     "data": {
      "application/vnd.jupyter.widget-view+json": {
       "model_id": "48752d7c56e34b7d9489b36818e3ca54",
       "version_major": 2,
       "version_minor": 0
      },
      "text/plain": [
       "N-Enc swapped layer 0:   0%|          | 0/256 [00:00<?, ?it/s]"
      ]
     },
     "metadata": {},
     "output_type": "display_data"
    },
    {
     "data": {
      "application/vnd.jupyter.widget-view+json": {
       "model_id": "6f905082e72f4cfd82909e7525c551e4",
       "version_major": 2,
       "version_minor": 0
      },
      "text/plain": [
       "N-Enc swapped layer 1:   0%|          | 0/256 [00:00<?, ?it/s]"
      ]
     },
     "metadata": {},
     "output_type": "display_data"
    },
    {
     "data": {
      "application/vnd.jupyter.widget-view+json": {
       "model_id": "603d69482f3d484abec9a3d5a3dff9e3",
       "version_major": 2,
       "version_minor": 0
      },
      "text/plain": [
       "N-Enc swapped layer 2:   0%|          | 0/256 [00:00<?, ?it/s]"
      ]
     },
     "metadata": {},
     "output_type": "display_data"
    },
    {
     "data": {
      "application/vnd.jupyter.widget-view+json": {
       "model_id": "5e6dfc3a65bb4e5faab5aa599bd27525",
       "version_major": 2,
       "version_minor": 0
      },
      "text/plain": [
       "N-Enc swapped layer 3:   0%|          | 0/256 [00:00<?, ?it/s]"
      ]
     },
     "metadata": {},
     "output_type": "display_data"
    },
    {
     "data": {
      "application/vnd.jupyter.widget-view+json": {
       "model_id": "0eb793eb11f84b169f02bc98396679cb",
       "version_major": 2,
       "version_minor": 0
      },
      "text/plain": [
       "N-Enc swapped layer 4:   0%|          | 0/256 [00:00<?, ?it/s]"
      ]
     },
     "metadata": {},
     "output_type": "display_data"
    },
    {
     "data": {
      "application/vnd.jupyter.widget-view+json": {
       "model_id": "9cc279a65d7443a09b7c1952c1de123b",
       "version_major": 2,
       "version_minor": 0
      },
      "text/plain": [
       "N-Enc swapped layer 5:   0%|          | 0/256 [00:00<?, ?it/s]"
      ]
     },
     "metadata": {},
     "output_type": "display_data"
    },
    {
     "data": {
      "application/vnd.jupyter.widget-view+json": {
       "model_id": "d3e6e447fd314cc39980417863ca9fcb",
       "version_major": 2,
       "version_minor": 0
      },
      "text/plain": [
       "N-Enc swapped layer 6:   0%|          | 0/256 [00:00<?, ?it/s]"
      ]
     },
     "metadata": {},
     "output_type": "display_data"
    },
    {
     "data": {
      "application/vnd.jupyter.widget-view+json": {
       "model_id": "b495aaf5f6c841f38fb21f0eb4e8340d",
       "version_major": 2,
       "version_minor": 0
      },
      "text/plain": [
       "N-Enc swapped layer 7:   0%|          | 0/256 [00:00<?, ?it/s]"
      ]
     },
     "metadata": {},
     "output_type": "display_data"
    },
    {
     "data": {
      "application/vnd.jupyter.widget-view+json": {
       "model_id": "c6b5816ff5454475ae739c8cff8ac2eb",
       "version_major": 2,
       "version_minor": 0
      },
      "text/plain": [
       "N-Enc swapped layer 8:   0%|          | 0/256 [00:00<?, ?it/s]"
      ]
     },
     "metadata": {},
     "output_type": "display_data"
    },
    {
     "data": {
      "application/vnd.jupyter.widget-view+json": {
       "model_id": "9f95c5c16cd04571a74a97cccee3ac63",
       "version_major": 2,
       "version_minor": 0
      },
      "text/plain": [
       "N-Enc swapped layer 9:   0%|          | 0/256 [00:00<?, ?it/s]"
      ]
     },
     "metadata": {},
     "output_type": "display_data"
    },
    {
     "data": {
      "application/vnd.jupyter.widget-view+json": {
       "model_id": "914dfd8e63d54f5185e2160f53b9da08",
       "version_major": 2,
       "version_minor": 0
      },
      "text/plain": [
       "N-Enc swapped layer 10:   0%|          | 0/256 [00:00<?, ?it/s]"
      ]
     },
     "metadata": {},
     "output_type": "display_data"
    },
    {
     "data": {
      "application/vnd.jupyter.widget-view+json": {
       "model_id": "627b4fc273034c3799c93be6d95fd4d1",
       "version_major": 2,
       "version_minor": 0
      },
      "text/plain": [
       "N-Enc swapped layer 11:   0%|          | 0/256 [00:00<?, ?it/s]"
      ]
     },
     "metadata": {},
     "output_type": "display_data"
    },
    {
     "data": {
      "application/vnd.jupyter.widget-view+json": {
       "model_id": "4a5abd8623af47b18bd9f88578ab2a22",
       "version_major": 2,
       "version_minor": 0
      },
      "text/plain": [
       "HTA swapped layer 0:   0%|          | 0/256 [00:00<?, ?it/s]"
      ]
     },
     "metadata": {},
     "output_type": "display_data"
    },
    {
     "data": {
      "application/vnd.jupyter.widget-view+json": {
       "model_id": "7c43ff4fff494cf89c241f4a2418b7c0",
       "version_major": 2,
       "version_minor": 0
      },
      "text/plain": [
       "HTA swapped layer 1:   0%|          | 0/256 [00:00<?, ?it/s]"
      ]
     },
     "metadata": {},
     "output_type": "display_data"
    },
    {
     "data": {
      "application/vnd.jupyter.widget-view+json": {
       "model_id": "04c53169846340c1858ee149a25e0d91",
       "version_major": 2,
       "version_minor": 0
      },
      "text/plain": [
       "HTA swapped layer 2:   0%|          | 0/256 [00:00<?, ?it/s]"
      ]
     },
     "metadata": {},
     "output_type": "display_data"
    },
    {
     "data": {
      "application/vnd.jupyter.widget-view+json": {
       "model_id": "ca64293de2fd4d719388f518329e2c21",
       "version_major": 2,
       "version_minor": 0
      },
      "text/plain": [
       "HTA swapped layer 3:   0%|          | 0/256 [00:00<?, ?it/s]"
      ]
     },
     "metadata": {},
     "output_type": "display_data"
    },
    {
     "data": {
      "application/vnd.jupyter.widget-view+json": {
       "model_id": "93f62043ae7c4ccca065c1b47df9a9dc",
       "version_major": 2,
       "version_minor": 0
      },
      "text/plain": [
       "HTA swapped layer 4:   0%|          | 0/256 [00:00<?, ?it/s]"
      ]
     },
     "metadata": {},
     "output_type": "display_data"
    },
    {
     "data": {
      "application/vnd.jupyter.widget-view+json": {
       "model_id": "4996c95edd6e4d86809012477f9143a6",
       "version_major": 2,
       "version_minor": 0
      },
      "text/plain": [
       "HTA swapped layer 5:   0%|          | 0/256 [00:00<?, ?it/s]"
      ]
     },
     "metadata": {},
     "output_type": "display_data"
    },
    {
     "data": {
      "application/vnd.jupyter.widget-view+json": {
       "model_id": "3ac9085bcab246a58a2cbbcadc1871f6",
       "version_major": 2,
       "version_minor": 0
      },
      "text/plain": [
       "HTA swapped layer 6:   0%|          | 0/256 [00:00<?, ?it/s]"
      ]
     },
     "metadata": {},
     "output_type": "display_data"
    },
    {
     "data": {
      "application/vnd.jupyter.widget-view+json": {
       "model_id": "cf255854ceb64db1a7b94c8084b0aa90",
       "version_major": 2,
       "version_minor": 0
      },
      "text/plain": [
       "HTA swapped layer 7:   0%|          | 0/256 [00:00<?, ?it/s]"
      ]
     },
     "metadata": {},
     "output_type": "display_data"
    },
    {
     "data": {
      "application/vnd.jupyter.widget-view+json": {
       "model_id": "9f30e6306f6443b79d452bdd7ce527a6",
       "version_major": 2,
       "version_minor": 0
      },
      "text/plain": [
       "HTA swapped layer 8:   0%|          | 0/256 [00:00<?, ?it/s]"
      ]
     },
     "metadata": {},
     "output_type": "display_data"
    },
    {
     "data": {
      "application/vnd.jupyter.widget-view+json": {
       "model_id": "876af510aa4d495ebe68ff7ae748c0e2",
       "version_major": 2,
       "version_minor": 0
      },
      "text/plain": [
       "HTA swapped layer 9:   0%|          | 0/256 [00:00<?, ?it/s]"
      ]
     },
     "metadata": {},
     "output_type": "display_data"
    },
    {
     "data": {
      "application/vnd.jupyter.widget-view+json": {
       "model_id": "444a7bc4b6304709b565819d985e410b",
       "version_major": 2,
       "version_minor": 0
      },
      "text/plain": [
       "HTA swapped layer 10:   0%|          | 0/256 [00:00<?, ?it/s]"
      ]
     },
     "metadata": {},
     "output_type": "display_data"
    },
    {
     "data": {
      "application/vnd.jupyter.widget-view+json": {
       "model_id": "b223d14d7aaa4dbf8e5e88bc66e1875b",
       "version_major": 2,
       "version_minor": 0
      },
      "text/plain": [
       "HTA swapped layer 11:   0%|          | 0/256 [00:00<?, ?it/s]"
      ]
     },
     "metadata": {},
     "output_type": "display_data"
    },
    {
     "name": "stdout",
     "output_type": "stream",
     "text": [
      "dict_keys(['W', 'W-FixedRes', 'W-Res', 'N-FixedRes', 'N', 'N-Res', 'N-ResLN', 'N-Enc', 'HTA']) (12, 25, 25)\n"
     ]
    }
   ],
   "source": [
    "import src.attention_flow_abstract\n",
    "reload(src.attention_flow_abstract)\n",
    "import src.attention_rollout\n",
    "reload(src.attention_rollout)\n",
    "import src.attention_max_flow\n",
    "reload(src.attention_max_flow)\n",
    "\n",
    "flow_class = src.attention_rollout.AttentionRollout() if config[\"FLOW_METHOD\"] == FlowMethods.ROLLOUT else src.attention_max_flow.AttentionMaxFlow()\n",
    "flow_function = flow_class.compute_flows\n",
    "print(flow_function)\n",
    "\n",
    "attention_flows = dict()\n",
    "\n",
    "for key, local_attention in local_attentions.items():\n",
    "    layer_swap_flow = []\n",
    "    for layer in range(12):\n",
    "        swapped_maps = [np.copy(att_map) for att_map in local_attentions[\"HTA\"]]\n",
    "        for i in range(len(swapped_maps)):\n",
    "            swapped_maps[i][:layer] = local_attention[i][:layer]  # SWAP\n",
    "            \n",
    "        layer_swap_flow.append(flow_function(swapped_maps,\n",
    "                                             desc=f\"{key} swapped layer {layer}\".ljust(12, '_'),\n",
    "                                             output_hidden_states = config[\"OUTPUT_HIDDEN_STATES\"],\n",
    "                                             num_cpus=config[\"NUM_CPUS\"]))\n",
    "    attention_flows[key] = []\n",
    "    for i in range(len(layer_swap_flow[0])):\n",
    "        attention_flows[key].append(np.array([np.squeeze(layer_swap_flow[layer][i]) for layer in range(12)]))\n",
    "\n",
    "# file_name = f\"{DATASET}_{MODEL_CHECKPOINT.split('/')[-1]}_{FLOW_METHOD}.pickle_lzma\"\n",
    "# with lzma.open(file_name, 'wb') as f:\n",
    "#     print(\"Saving...\")\n",
    "#     pickle.dump(attention_flows, f, protocol=pickle.HIGHEST_PROTOCOL)\n",
    "#     print(f\"Saved attentions to [{file_name}]\")\n",
    "    \n",
    "print(attention_flows.keys(), attention_flows[\"N\"][-1].shape)"
   ]
  },
  {
   "cell_type": "markdown",
   "metadata": {},
   "source": [
    "## Compute Metrics (Compare to saliency)"
   ]
  },
  {
   "cell_type": "markdown",
   "metadata": {},
   "source": [
    "### Flow Correlation"
   ]
  },
  {
   "cell_type": "code",
   "execution_count": 10,
   "metadata": {
    "id": "fB0cUDrziaYx",
    "scrolled": true
   },
   "outputs": [
    {
     "data": {
      "application/vnd.jupyter.widget-view+json": {
       "model_id": "fe0adf06816c47ddaf91072304b2004b",
       "version_major": 2,
       "version_minor": 0
      },
      "text/plain": [
       "W___________:   0%|          | 0/256 [00:00<?, ?it/s]"
      ]
     },
     "metadata": {},
     "output_type": "display_data"
    },
    {
     "data": {
      "application/vnd.jupyter.widget-view+json": {
       "model_id": "4c5ee87487bc4c5e8f518074c29c181c",
       "version_major": 2,
       "version_minor": 0
      },
      "text/plain": [
       "W-FixedRes__:   0%|          | 0/256 [00:00<?, ?it/s]"
      ]
     },
     "metadata": {},
     "output_type": "display_data"
    },
    {
     "data": {
      "application/vnd.jupyter.widget-view+json": {
       "model_id": "6c91beff10d24f469257bf58e58b2ebf",
       "version_major": 2,
       "version_minor": 0
      },
      "text/plain": [
       "W-Res_______:   0%|          | 0/256 [00:00<?, ?it/s]"
      ]
     },
     "metadata": {},
     "output_type": "display_data"
    },
    {
     "data": {
      "application/vnd.jupyter.widget-view+json": {
       "model_id": "f1d290d52d654b3dbc437960b0634c0e",
       "version_major": 2,
       "version_minor": 0
      },
      "text/plain": [
       "N-FixedRes__:   0%|          | 0/256 [00:00<?, ?it/s]"
      ]
     },
     "metadata": {},
     "output_type": "display_data"
    },
    {
     "data": {
      "application/vnd.jupyter.widget-view+json": {
       "model_id": "8ddbc599f60e4ac8a65485b1b598a366",
       "version_major": 2,
       "version_minor": 0
      },
      "text/plain": [
       "N___________:   0%|          | 0/256 [00:00<?, ?it/s]"
      ]
     },
     "metadata": {},
     "output_type": "display_data"
    },
    {
     "data": {
      "application/vnd.jupyter.widget-view+json": {
       "model_id": "8acca8d302c4485b81c4af86b40b4660",
       "version_major": 2,
       "version_minor": 0
      },
      "text/plain": [
       "N-Res_______:   0%|          | 0/256 [00:00<?, ?it/s]"
      ]
     },
     "metadata": {},
     "output_type": "display_data"
    },
    {
     "data": {
      "application/vnd.jupyter.widget-view+json": {
       "model_id": "e7c174b925374cf08a6d329e65c90ec3",
       "version_major": 2,
       "version_minor": 0
      },
      "text/plain": [
       "N-ResLN_____:   0%|          | 0/256 [00:00<?, ?it/s]"
      ]
     },
     "metadata": {},
     "output_type": "display_data"
    },
    {
     "data": {
      "application/vnd.jupyter.widget-view+json": {
       "model_id": "b9d1cc5dcc1140499b6f67ef104d80e3",
       "version_major": 2,
       "version_minor": 0
      },
      "text/plain": [
       "N-Enc_______:   0%|          | 0/256 [00:00<?, ?it/s]"
      ]
     },
     "metadata": {},
     "output_type": "display_data"
    },
    {
     "data": {
      "application/vnd.jupyter.widget-view+json": {
       "model_id": "18f47ec60c954b15be24d5f415f71bf7",
       "version_major": 2,
       "version_minor": 0
      },
      "text/plain": [
       "HTA_________:   0%|          | 0/256 [00:00<?, ?it/s]"
      ]
     },
     "metadata": {},
     "output_type": "display_data"
    },
    {
     "name": "stdout",
     "output_type": "stream",
     "text": [
      "W-L1                    0.80 ± 0.10\n",
      "W-L2                    0.54 ± 0.19\n",
      "W-L3                    0.02 ± 0.25\n",
      "W-L4                    -0.04 ± 0.24\n",
      "W-L5                    -0.07 ± 0.24\n",
      "W-L6                    -0.09 ± 0.24\n",
      "W-L7                    -0.09 ± 0.24\n",
      "W-L8                    -0.09 ± 0.24\n",
      "W-L9                    -0.10 ± 0.24\n",
      "W-L10                   -0.10 ± 0.24\n",
      "W-L11                   -0.10 ± 0.24\n",
      "W-L12                   -0.10 ± 0.24\n",
      "W-FixedRes-L1           0.80 ± 0.10\n",
      "W-FixedRes-L2           0.61 ± 0.15\n",
      "W-FixedRes-L3           0.33 ± 0.23\n",
      "W-FixedRes-L4           0.12 ± 0.26\n",
      "W-FixedRes-L5           -0.01 ± 0.27\n",
      "W-FixedRes-L6           -0.11 ± 0.27\n",
      "W-FixedRes-L7           -0.16 ± 0.26\n",
      "W-FixedRes-L8           -0.18 ± 0.26\n",
      "W-FixedRes-L9           -0.20 ± 0.26\n",
      "W-FixedRes-L10          -0.21 ± 0.26\n",
      "W-FixedRes-L11          -0.22 ± 0.26\n",
      "W-FixedRes-L12          -0.22 ± 0.25\n",
      "W-Res-L1                0.80 ± 0.10\n",
      "W-Res-L2                0.60 ± 0.16\n",
      "W-Res-L3                0.54 ± 0.18\n",
      "W-Res-L4                0.47 ± 0.18\n",
      "W-Res-L5                0.47 ± 0.19\n",
      "W-Res-L6                0.40 ± 0.21\n",
      "W-Res-L7                0.36 ± 0.22\n",
      "W-Res-L8                0.34 ± 0.23\n",
      "W-Res-L9                0.34 ± 0.22\n",
      "W-Res-L10               0.35 ± 0.23\n",
      "W-Res-L11               0.32 ± 0.23\n",
      "W-Res-L12               0.28 ± 0.24\n",
      "N-FixedRes-L1           0.80 ± 0.10\n",
      "N-FixedRes-L2           0.57 ± 0.16\n",
      "N-FixedRes-L3           0.52 ± 0.19\n",
      "N-FixedRes-L4           0.49 ± 0.20\n",
      "N-FixedRes-L5           0.47 ± 0.20\n",
      "N-FixedRes-L6           0.48 ± 0.20\n",
      "N-FixedRes-L7           0.48 ± 0.20\n",
      "N-FixedRes-L8           0.48 ± 0.20\n",
      "N-FixedRes-L9           0.48 ± 0.20\n",
      "N-FixedRes-L10          0.48 ± 0.20\n",
      "N-FixedRes-L11          0.49 ± 0.20\n",
      "N-FixedRes-L12          0.49 ± 0.20\n",
      "N-L1                    0.80 ± 0.10\n",
      "N-L2                    0.48 ± 0.18\n",
      "N-L3                    0.46 ± 0.19\n",
      "N-L4                    0.45 ± 0.19\n",
      "N-L5                    0.45 ± 0.19\n",
      "N-L6                    0.44 ± 0.19\n",
      "N-L7                    0.44 ± 0.19\n",
      "N-L8                    0.44 ± 0.19\n",
      "N-L9                    0.44 ± 0.19\n",
      "N-L10                   0.44 ± 0.19\n",
      "N-L11                   0.44 ± 0.19\n",
      "N-L12                   0.44 ± 0.19\n",
      "N-Res-L1                0.80 ± 0.10\n",
      "N-Res-L2                0.70 ± 0.14\n",
      "N-Res-L3                0.72 ± 0.13\n",
      "N-Res-L4                0.72 ± 0.12\n",
      "N-Res-L5                0.72 ± 0.13\n",
      "N-Res-L6                0.72 ± 0.13\n",
      "N-Res-L7                0.72 ± 0.13\n",
      "N-Res-L8                0.72 ± 0.13\n",
      "N-Res-L9                0.72 ± 0.13\n",
      "N-Res-L10               0.72 ± 0.13\n",
      "N-Res-L11               0.73 ± 0.13\n",
      "N-Res-L12               0.73 ± 0.13\n",
      "N-ResLN-L1              0.80 ± 0.10\n",
      "N-ResLN-L2              0.29 ± 0.22\n",
      "N-ResLN-L3              -0.05 ± 0.25\n",
      "N-ResLN-L4              -0.13 ± 0.26\n",
      "N-ResLN-L5              -0.16 ± 0.26\n",
      "N-ResLN-L6              -0.18 ± 0.26\n",
      "N-ResLN-L7              -0.18 ± 0.27\n",
      "N-ResLN-L8              -0.19 ± 0.27\n",
      "N-ResLN-L9              -0.19 ± 0.26\n",
      "N-ResLN-L10             -0.19 ± 0.26\n",
      "N-ResLN-L11             -0.19 ± 0.26\n",
      "N-ResLN-L12             -0.19 ± 0.26\n",
      "N-Enc-L1                0.80 ± 0.10\n",
      "N-Enc-L2                0.76 ± 0.11\n",
      "N-Enc-L3                0.77 ± 0.11\n",
      "N-Enc-L4                0.76 ± 0.12\n",
      "N-Enc-L5                0.76 ± 0.12\n",
      "N-Enc-L6                0.76 ± 0.12\n",
      "N-Enc-L7                0.76 ± 0.12\n",
      "N-Enc-L8                0.76 ± 0.12\n",
      "N-Enc-L9                0.76 ± 0.12\n",
      "N-Enc-L10               0.77 ± 0.11\n",
      "N-Enc-L11               0.77 ± 0.11\n",
      "N-Enc-L12               0.77 ± 0.11\n",
      "HTA-L1                  0.80 ± 0.10\n",
      "HTA-L2                  0.80 ± 0.10\n",
      "HTA-L3                  0.80 ± 0.10\n",
      "HTA-L4                  0.80 ± 0.10\n",
      "HTA-L5                  0.80 ± 0.10\n",
      "HTA-L6                  0.80 ± 0.10\n",
      "HTA-L7                  0.80 ± 0.10\n",
      "HTA-L8                  0.80 ± 0.10\n",
      "HTA-L9                  0.80 ± 0.10\n",
      "HTA-L10                 0.80 ± 0.10\n",
      "HTA-L11                 0.80 ± 0.10\n",
      "HTA-L12                 0.80 ± 0.10\n"
     ]
    }
   ],
   "source": [
    "import matplotlib.pyplot as plt\n",
    "from matplotlib import cm\n",
    "import seaborn as sns\n",
    "import src.metrics\n",
    "reload(src.metrics)\n",
    "\n",
    "# spearmans_raw_flow = src.metrics.compute_spearman_correlation(raw_attentions_rollouts, \n",
    "#                                                          SALIENCY_BLANK_OUT_PATH)\n",
    "\n",
    "spearmans = dict()  # spearmans[key]: (#batch, #layers, spearman)\n",
    "for key in attention_flows.keys():\n",
    "    spearmans[key] = src.metrics.compute_spearman_correlation(attention_flows[key], \n",
    "                                                              config[\"SALIENCY_BLANK_OUT_PATH\"],\n",
    "                                                              aggregation=\"CLS\",\n",
    "                                                              desc=key.ljust(12, '_'),\n",
    "                                                              max_length=config[\"SALS_MAX_LENGTH\"])\n",
    "\n",
    "\n",
    "# PRINT\n",
    "for key in spearmans.keys():\n",
    "    spearman = np.array(spearmans[key])\n",
    "    max_layer = np.argmax(np.mean(spearman, axis=0))\n",
    "#     print(f\"Max Layer: {max_layer+1}\", f\"{key}\", f\"{np.mean(spearman[:, max_layer]):.2f}\", f\"± {np.std(spearman[:, max_layer]):.2f}\")\n",
    "    layers = spearmans[key][0].shape[0]\n",
    "    for layer in range(layers):\n",
    "        spearman = np.array(spearmans[key])[:, layer]\n",
    "        layer_text = f\"-L{layer+1}\" if layers > 1 else \"\"\n",
    "        print(f\"{key}{layer_text}\".ljust(23), f\"{np.mean(spearman):.2f}\", f\"± {np.std(spearman):.2f}\")"
   ]
  },
  {
   "cell_type": "code",
   "execution_count": 20,
   "metadata": {},
   "outputs": [
    {
     "name": "stdout",
     "output_type": "stream",
     "text": [
      "16.0\n",
      "16.0\n",
      "16.0\n",
      "16.0\n",
      "16.0\n",
      "16.0\n"
     ]
    },
    {
     "data": {
      "image/png": "[encoded data removed]",
      "text/plain": [
       "<Figure size 432x288 with 1 Axes>"
      ]
     },
     "metadata": {
      "needs_background": "light"
     },
     "output_type": "display_data"
    }
   ],
   "source": [
    "# PLOT\n",
    "fig = plt.figure(figsize=(6, 4))\n",
    "cmap = plt.get_cmap(\"tab10\")\n",
    "markers = ['D', 'o', '^', '*', 's', '+', 'x', '.', 'X']\n",
    "c = 0\n",
    "for key in spearmans.keys():\n",
    "    if key in [\"W-Res\", \"W-FixedRes\", \"N-FixedRes\"]:\n",
    "        continue\n",
    "    layers = spearmans[key][0].shape[0]\n",
    "    spearman = np.array(spearmans[key])\n",
    "    print(np.sqrt(len(spearman)))\n",
    "    with plt.style.context(\"ggplot\"):\n",
    "        x = range(1, layers + 1)\n",
    "        plt.plot(x, np.mean(spearman, axis=0), markers[c], label=key, color=cmap(c))\n",
    "        plt.plot(x, np.mean(spearman, axis=0), color=cmap(c))\n",
    "        plt.fill_between(x, \n",
    "                         np.mean(spearman, axis=0) - np.std(spearman, axis=0) * 1.96 / np.sqrt(len(spearman)), \n",
    "                         np.mean(spearman, axis=0) + np.std(spearman, axis=0) * 1.96 / np.sqrt(len(spearman)),\n",
    "                         alpha=0.2, color=cmap(c))\n",
    "        plt.xticks(x)\n",
    "        \n",
    "    c += 1\n",
    "plt.legend(loc=\"lower left\")\n",
    "dataset_name_map = {\"sst2\": \"SST2\", \"mnli\": \"MNLI\", \"hatexplain\": \"HATEXPLAIN\"}\n",
    "plt.title(f\"Attention Rollout SpearmanR Correlation on {dataset_name_map[config['DATASET']]} Dataset\", fontsize=11)\n",
    "plt.ylabel(\"SpearmanR Correlation\")\n",
    "plt.xlabel(\"Layer\")\n",
    "fig.tight_layout()\n",
    "# filename = f'figures/{title}_{model}.pdf' if show_hist else f'figures/compact_{title}_{model}.pdf'\n",
    "file_name = f\"{config['DATASET']}_HTA_swap_beginning_95.pdf\"\n",
    "fig.savefig(file_name, dpi=50)"
   ]
  },
  {
   "cell_type": "markdown",
   "metadata": {},
   "source": [
    "### Single Layers Correlation"
   ]
  },
  {
   "cell_type": "code",
   "execution_count": 70,
   "metadata": {
    "scrolled": true
   },
   "outputs": [
    {
     "data": {
      "application/vnd.jupyter.widget-view+json": {
       "model_id": "d5f9efc840af4c2ba29084392b370477",
       "version_major": 2,
       "version_minor": 0
      },
      "text/plain": [
       "raw 0_________:   0%|          | 0/872 [00:00<?, ?it/s]"
      ]
     },
     "metadata": {},
     "output_type": "display_data"
    },
    {
     "data": {
      "application/vnd.jupyter.widget-view+json": {
       "model_id": "a997a13fd5684493b32bd39a33a69037",
       "version_major": 2,
       "version_minor": 0
      },
      "text/plain": [
       "N 0___________:   0%|          | 0/872 [00:00<?, ?it/s]"
      ]
     },
     "metadata": {},
     "output_type": "display_data"
    },
    {
     "data": {
      "application/vnd.jupyter.widget-view+json": {
       "model_id": "fc2edc3e61c64788956e00d6986d7467",
       "version_major": 2,
       "version_minor": 0
      },
      "text/plain": [
       "N-Res 0_______:   0%|          | 0/872 [00:00<?, ?it/s]"
      ]
     },
     "metadata": {},
     "output_type": "display_data"
    },
    {
     "data": {
      "application/vnd.jupyter.widget-view+json": {
       "model_id": "275a366f484d4573987ae594fac34b54",
       "version_major": 2,
       "version_minor": 0
      },
      "text/plain": [
       "N-ResLN 0_____:   0%|          | 0/872 [00:00<?, ?it/s]"
      ]
     },
     "metadata": {},
     "output_type": "display_data"
    },
    {
     "data": {
      "application/vnd.jupyter.widget-view+json": {
       "model_id": "49060f1cdf4e4a3089d3077e9b01d3b4",
       "version_major": 2,
       "version_minor": 0
      },
      "text/plain": [
       "N-Enc 0_______:   0%|          | 0/872 [00:00<?, ?it/s]"
      ]
     },
     "metadata": {},
     "output_type": "display_data"
    },
    {
     "data": {
      "application/vnd.jupyter.widget-view+json": {
       "model_id": "ea60d8c982d746a2a3e6e1a5290afc7f",
       "version_major": 2,
       "version_minor": 0
      },
      "text/plain": [
       "raw 1_________:   0%|          | 0/872 [00:00<?, ?it/s]"
      ]
     },
     "metadata": {},
     "output_type": "display_data"
    },
    {
     "data": {
      "application/vnd.jupyter.widget-view+json": {
       "model_id": "083e6824efdf4ecca60a53588e94c507",
       "version_major": 2,
       "version_minor": 0
      },
      "text/plain": [
       "N 1___________:   0%|          | 0/872 [00:00<?, ?it/s]"
      ]
     },
     "metadata": {},
     "output_type": "display_data"
    },
    {
     "data": {
      "application/vnd.jupyter.widget-view+json": {
       "model_id": "6f18981326de44c996c11704be0a6faa",
       "version_major": 2,
       "version_minor": 0
      },
      "text/plain": [
       "N-Res 1_______:   0%|          | 0/872 [00:00<?, ?it/s]"
      ]
     },
     "metadata": {},
     "output_type": "display_data"
    },
    {
     "data": {
      "application/vnd.jupyter.widget-view+json": {
       "model_id": "e2953d9c762a4d169f8f6b45bbadff88",
       "version_major": 2,
       "version_minor": 0
      },
      "text/plain": [
       "N-ResLN 1_____:   0%|          | 0/872 [00:00<?, ?it/s]"
      ]
     },
     "metadata": {},
     "output_type": "display_data"
    },
    {
     "data": {
      "application/vnd.jupyter.widget-view+json": {
       "model_id": "03cadcda91124087b790a4d6b5e5763e",
       "version_major": 2,
       "version_minor": 0
      },
      "text/plain": [
       "N-Enc 1_______:   0%|          | 0/872 [00:00<?, ?it/s]"
      ]
     },
     "metadata": {},
     "output_type": "display_data"
    },
    {
     "data": {
      "application/vnd.jupyter.widget-view+json": {
       "model_id": "7910e9bc2bee46c99925927103f340cd",
       "version_major": 2,
       "version_minor": 0
      },
      "text/plain": [
       "raw 2_________:   0%|          | 0/872 [00:00<?, ?it/s]"
      ]
     },
     "metadata": {},
     "output_type": "display_data"
    },
    {
     "data": {
      "application/vnd.jupyter.widget-view+json": {
       "model_id": "47d332206e604e6695511e516bcc8d45",
       "version_major": 2,
       "version_minor": 0
      },
      "text/plain": [
       "N 2___________:   0%|          | 0/872 [00:00<?, ?it/s]"
      ]
     },
     "metadata": {},
     "output_type": "display_data"
    },
    {
     "data": {
      "application/vnd.jupyter.widget-view+json": {
       "model_id": "64a2b631343e4da793ec2098da14b9a7",
       "version_major": 2,
       "version_minor": 0
      },
      "text/plain": [
       "N-Res 2_______:   0%|          | 0/872 [00:00<?, ?it/s]"
      ]
     },
     "metadata": {},
     "output_type": "display_data"
    },
    {
     "data": {
      "application/vnd.jupyter.widget-view+json": {
       "model_id": "172ad44d05d34291a08f2887f26c7931",
       "version_major": 2,
       "version_minor": 0
      },
      "text/plain": [
       "N-ResLN 2_____:   0%|          | 0/872 [00:00<?, ?it/s]"
      ]
     },
     "metadata": {},
     "output_type": "display_data"
    },
    {
     "data": {
      "application/vnd.jupyter.widget-view+json": {
       "model_id": "7242f5c8d2a846bbaee2cc48837cd9c1",
       "version_major": 2,
       "version_minor": 0
      },
      "text/plain": [
       "N-Enc 2_______:   0%|          | 0/872 [00:00<?, ?it/s]"
      ]
     },
     "metadata": {},
     "output_type": "display_data"
    },
    {
     "data": {
      "application/vnd.jupyter.widget-view+json": {
       "model_id": "6d1cefa0c4bf4ca5accba6b00017bd5e",
       "version_major": 2,
       "version_minor": 0
      },
      "text/plain": [
       "raw 3_________:   0%|          | 0/872 [00:00<?, ?it/s]"
      ]
     },
     "metadata": {},
     "output_type": "display_data"
    },
    {
     "data": {
      "application/vnd.jupyter.widget-view+json": {
       "model_id": "7b910d84fc6a451ea484ebc93fe35556",
       "version_major": 2,
       "version_minor": 0
      },
      "text/plain": [
       "N 3___________:   0%|          | 0/872 [00:00<?, ?it/s]"
      ]
     },
     "metadata": {},
     "output_type": "display_data"
    },
    {
     "data": {
      "application/vnd.jupyter.widget-view+json": {
       "model_id": "afdf9f5507554066916222e95ba6e037",
       "version_major": 2,
       "version_minor": 0
      },
      "text/plain": [
       "N-Res 3_______:   0%|          | 0/872 [00:00<?, ?it/s]"
      ]
     },
     "metadata": {},
     "output_type": "display_data"
    },
    {
     "data": {
      "application/vnd.jupyter.widget-view+json": {
       "model_id": "97b2b81c2bfc47beb7cee49ee310b0ac",
       "version_major": 2,
       "version_minor": 0
      },
      "text/plain": [
       "N-ResLN 3_____:   0%|          | 0/872 [00:00<?, ?it/s]"
      ]
     },
     "metadata": {},
     "output_type": "display_data"
    },
    {
     "data": {
      "application/vnd.jupyter.widget-view+json": {
       "model_id": "709d463fbf4742628c00d0aa5c744dea",
       "version_major": 2,
       "version_minor": 0
      },
      "text/plain": [
       "N-Enc 3_______:   0%|          | 0/872 [00:00<?, ?it/s]"
      ]
     },
     "metadata": {},
     "output_type": "display_data"
    },
    {
     "data": {
      "application/vnd.jupyter.widget-view+json": {
       "model_id": "f60f18f88dd4485b9d752d7e8c263e81",
       "version_major": 2,
       "version_minor": 0
      },
      "text/plain": [
       "raw 4_________:   0%|          | 0/872 [00:00<?, ?it/s]"
      ]
     },
     "metadata": {},
     "output_type": "display_data"
    },
    {
     "data": {
      "application/vnd.jupyter.widget-view+json": {
       "model_id": "285da639937c4d8896248fab35d5f9eb",
       "version_major": 2,
       "version_minor": 0
      },
      "text/plain": [
       "N 4___________:   0%|          | 0/872 [00:00<?, ?it/s]"
      ]
     },
     "metadata": {},
     "output_type": "display_data"
    },
    {
     "data": {
      "application/vnd.jupyter.widget-view+json": {
       "model_id": "795ace6d736c4b7aba7eeaf1874447f9",
       "version_major": 2,
       "version_minor": 0
      },
      "text/plain": [
       "N-Res 4_______:   0%|          | 0/872 [00:00<?, ?it/s]"
      ]
     },
     "metadata": {},
     "output_type": "display_data"
    },
    {
     "data": {
      "application/vnd.jupyter.widget-view+json": {
       "model_id": "83522b6b7e8743cb9fb496d91cb77a7e",
       "version_major": 2,
       "version_minor": 0
      },
      "text/plain": [
       "N-ResLN 4_____:   0%|          | 0/872 [00:00<?, ?it/s]"
      ]
     },
     "metadata": {},
     "output_type": "display_data"
    },
    {
     "data": {
      "application/vnd.jupyter.widget-view+json": {
       "model_id": "2b1fc55dda4649cd8907660238466648",
       "version_major": 2,
       "version_minor": 0
      },
      "text/plain": [
       "N-Enc 4_______:   0%|          | 0/872 [00:00<?, ?it/s]"
      ]
     },
     "metadata": {},
     "output_type": "display_data"
    },
    {
     "data": {
      "application/vnd.jupyter.widget-view+json": {
       "model_id": "259df995da944e5888debc347b422ed2",
       "version_major": 2,
       "version_minor": 0
      },
      "text/plain": [
       "raw 5_________:   0%|          | 0/872 [00:00<?, ?it/s]"
      ]
     },
     "metadata": {},
     "output_type": "display_data"
    },
    {
     "data": {
      "application/vnd.jupyter.widget-view+json": {
       "model_id": "a2f29372b2cd48d2991a8c950e1dfbc7",
       "version_major": 2,
       "version_minor": 0
      },
      "text/plain": [
       "N 5___________:   0%|          | 0/872 [00:00<?, ?it/s]"
      ]
     },
     "metadata": {},
     "output_type": "display_data"
    },
    {
     "data": {
      "application/vnd.jupyter.widget-view+json": {
       "model_id": "c0eeb1e504c749dfacf0e478cfdcb4d2",
       "version_major": 2,
       "version_minor": 0
      },
      "text/plain": [
       "N-Res 5_______:   0%|          | 0/872 [00:00<?, ?it/s]"
      ]
     },
     "metadata": {},
     "output_type": "display_data"
    },
    {
     "data": {
      "application/vnd.jupyter.widget-view+json": {
       "model_id": "54c3599c128546e8a3317f86392d8358",
       "version_major": 2,
       "version_minor": 0
      },
      "text/plain": [
       "N-ResLN 5_____:   0%|          | 0/872 [00:00<?, ?it/s]"
      ]
     },
     "metadata": {},
     "output_type": "display_data"
    },
    {
     "data": {
      "application/vnd.jupyter.widget-view+json": {
       "model_id": "ac3be48d87cb4dd6bb1c5a04c0976a9c",
       "version_major": 2,
       "version_minor": 0
      },
      "text/plain": [
       "N-Enc 5_______:   0%|          | 0/872 [00:00<?, ?it/s]"
      ]
     },
     "metadata": {},
     "output_type": "display_data"
    },
    {
     "data": {
      "application/vnd.jupyter.widget-view+json": {
       "model_id": "082265ab5315427581bbca2bd829268b",
       "version_major": 2,
       "version_minor": 0
      },
      "text/plain": [
       "raw 6_________:   0%|          | 0/872 [00:00<?, ?it/s]"
      ]
     },
     "metadata": {},
     "output_type": "display_data"
    },
    {
     "data": {
      "application/vnd.jupyter.widget-view+json": {
       "model_id": "bea42a597fd64c0a9d2143ce17f6ad3f",
       "version_major": 2,
       "version_minor": 0
      },
      "text/plain": [
       "N 6___________:   0%|          | 0/872 [00:00<?, ?it/s]"
      ]
     },
     "metadata": {},
     "output_type": "display_data"
    },
    {
     "data": {
      "application/vnd.jupyter.widget-view+json": {
       "model_id": "7cd8c5040cfd41e19b7568cd50a3bf02",
       "version_major": 2,
       "version_minor": 0
      },
      "text/plain": [
       "N-Res 6_______:   0%|          | 0/872 [00:00<?, ?it/s]"
      ]
     },
     "metadata": {},
     "output_type": "display_data"
    },
    {
     "data": {
      "application/vnd.jupyter.widget-view+json": {
       "model_id": "2c4b7808774442a0b68e1a47093ff1fd",
       "version_major": 2,
       "version_minor": 0
      },
      "text/plain": [
       "N-ResLN 6_____:   0%|          | 0/872 [00:00<?, ?it/s]"
      ]
     },
     "metadata": {},
     "output_type": "display_data"
    },
    {
     "data": {
      "application/vnd.jupyter.widget-view+json": {
       "model_id": "88c55ad4a6a64f9795d2e0577cf78b8e",
       "version_major": 2,
       "version_minor": 0
      },
      "text/plain": [
       "N-Enc 6_______:   0%|          | 0/872 [00:00<?, ?it/s]"
      ]
     },
     "metadata": {},
     "output_type": "display_data"
    },
    {
     "data": {
      "application/vnd.jupyter.widget-view+json": {
       "model_id": "10c831d8c57248ea9cbd47a29a9299e7",
       "version_major": 2,
       "version_minor": 0
      },
      "text/plain": [
       "raw 7_________:   0%|          | 0/872 [00:00<?, ?it/s]"
      ]
     },
     "metadata": {},
     "output_type": "display_data"
    },
    {
     "data": {
      "application/vnd.jupyter.widget-view+json": {
       "model_id": "bc344036b5bd4070b70e875ce9bd0059",
       "version_major": 2,
       "version_minor": 0
      },
      "text/plain": [
       "N 7___________:   0%|          | 0/872 [00:00<?, ?it/s]"
      ]
     },
     "metadata": {},
     "output_type": "display_data"
    },
    {
     "data": {
      "application/vnd.jupyter.widget-view+json": {
       "model_id": "e16108aca8fd4d82a568b6af0c39927d",
       "version_major": 2,
       "version_minor": 0
      },
      "text/plain": [
       "N-Res 7_______:   0%|          | 0/872 [00:00<?, ?it/s]"
      ]
     },
     "metadata": {},
     "output_type": "display_data"
    },
    {
     "data": {
      "application/vnd.jupyter.widget-view+json": {
       "model_id": "130d018c3b2a4f05a2a01c6c72358479",
       "version_major": 2,
       "version_minor": 0
      },
      "text/plain": [
       "N-ResLN 7_____:   0%|          | 0/872 [00:00<?, ?it/s]"
      ]
     },
     "metadata": {},
     "output_type": "display_data"
    },
    {
     "data": {
      "application/vnd.jupyter.widget-view+json": {
       "model_id": "8d5315cd7da54dcfa01a63893208dc0b",
       "version_major": 2,
       "version_minor": 0
      },
      "text/plain": [
       "N-Enc 7_______:   0%|          | 0/872 [00:00<?, ?it/s]"
      ]
     },
     "metadata": {},
     "output_type": "display_data"
    },
    {
     "data": {
      "application/vnd.jupyter.widget-view+json": {
       "model_id": "783b7fa967414e0d9df3af6a904d0b4a",
       "version_major": 2,
       "version_minor": 0
      },
      "text/plain": [
       "raw 8_________:   0%|          | 0/872 [00:00<?, ?it/s]"
      ]
     },
     "metadata": {},
     "output_type": "display_data"
    },
    {
     "data": {
      "application/vnd.jupyter.widget-view+json": {
       "model_id": "61e56adeb648435394bc637a73b467cd",
       "version_major": 2,
       "version_minor": 0
      },
      "text/plain": [
       "N 8___________:   0%|          | 0/872 [00:00<?, ?it/s]"
      ]
     },
     "metadata": {},
     "output_type": "display_data"
    },
    {
     "data": {
      "application/vnd.jupyter.widget-view+json": {
       "model_id": "34dd09a87e6e490abf76986f215caee7",
       "version_major": 2,
       "version_minor": 0
      },
      "text/plain": [
       "N-Res 8_______:   0%|          | 0/872 [00:00<?, ?it/s]"
      ]
     },
     "metadata": {},
     "output_type": "display_data"
    },
    {
     "data": {
      "application/vnd.jupyter.widget-view+json": {
       "model_id": "1dfb85a636144c01bde5982def9fd098",
       "version_major": 2,
       "version_minor": 0
      },
      "text/plain": [
       "N-ResLN 8_____:   0%|          | 0/872 [00:00<?, ?it/s]"
      ]
     },
     "metadata": {},
     "output_type": "display_data"
    },
    {
     "data": {
      "application/vnd.jupyter.widget-view+json": {
       "model_id": "ed7f8b3a85b94e37841ac4522bbac29b",
       "version_major": 2,
       "version_minor": 0
      },
      "text/plain": [
       "N-Enc 8_______:   0%|          | 0/872 [00:00<?, ?it/s]"
      ]
     },
     "metadata": {},
     "output_type": "display_data"
    },
    {
     "data": {
      "application/vnd.jupyter.widget-view+json": {
       "model_id": "062a0096a8344dfb9dded1fd8b580378",
       "version_major": 2,
       "version_minor": 0
      },
      "text/plain": [
       "raw 9_________:   0%|          | 0/872 [00:00<?, ?it/s]"
      ]
     },
     "metadata": {},
     "output_type": "display_data"
    },
    {
     "data": {
      "application/vnd.jupyter.widget-view+json": {
       "model_id": "4b7b2c5767c84fdc8534af0a4c6b392f",
       "version_major": 2,
       "version_minor": 0
      },
      "text/plain": [
       "N 9___________:   0%|          | 0/872 [00:00<?, ?it/s]"
      ]
     },
     "metadata": {},
     "output_type": "display_data"
    },
    {
     "data": {
      "application/vnd.jupyter.widget-view+json": {
       "model_id": "04f1458c4a9649a8a74e47b56454d302",
       "version_major": 2,
       "version_minor": 0
      },
      "text/plain": [
       "N-Res 9_______:   0%|          | 0/872 [00:00<?, ?it/s]"
      ]
     },
     "metadata": {},
     "output_type": "display_data"
    },
    {
     "data": {
      "application/vnd.jupyter.widget-view+json": {
       "model_id": "41e211903f4c45eeb2bc3e62e38bbacb",
       "version_major": 2,
       "version_minor": 0
      },
      "text/plain": [
       "N-ResLN 9_____:   0%|          | 0/872 [00:00<?, ?it/s]"
      ]
     },
     "metadata": {},
     "output_type": "display_data"
    },
    {
     "data": {
      "application/vnd.jupyter.widget-view+json": {
       "model_id": "19b0965992224aa2b1c7be918e5f6478",
       "version_major": 2,
       "version_minor": 0
      },
      "text/plain": [
       "N-Enc 9_______:   0%|          | 0/872 [00:00<?, ?it/s]"
      ]
     },
     "metadata": {},
     "output_type": "display_data"
    },
    {
     "data": {
      "application/vnd.jupyter.widget-view+json": {
       "model_id": "567cf67fe02e4ba190ce56bbe89e975d",
       "version_major": 2,
       "version_minor": 0
      },
      "text/plain": [
       "raw 10________:   0%|          | 0/872 [00:00<?, ?it/s]"
      ]
     },
     "metadata": {},
     "output_type": "display_data"
    },
    {
     "data": {
      "application/vnd.jupyter.widget-view+json": {
       "model_id": "aa5b351a03d64010aaa92e0d568b3e2c",
       "version_major": 2,
       "version_minor": 0
      },
      "text/plain": [
       "N 10__________:   0%|          | 0/872 [00:00<?, ?it/s]"
      ]
     },
     "metadata": {},
     "output_type": "display_data"
    },
    {
     "data": {
      "application/vnd.jupyter.widget-view+json": {
       "model_id": "3c9e017005b64dafa9c6bae30df025c5",
       "version_major": 2,
       "version_minor": 0
      },
      "text/plain": [
       "N-Res 10______:   0%|          | 0/872 [00:00<?, ?it/s]"
      ]
     },
     "metadata": {},
     "output_type": "display_data"
    },
    {
     "data": {
      "application/vnd.jupyter.widget-view+json": {
       "model_id": "908dd8ab4fc7443d8f8206a52fded910",
       "version_major": 2,
       "version_minor": 0
      },
      "text/plain": [
       "N-ResLN 10____:   0%|          | 0/872 [00:00<?, ?it/s]"
      ]
     },
     "metadata": {},
     "output_type": "display_data"
    },
    {
     "data": {
      "application/vnd.jupyter.widget-view+json": {
       "model_id": "833d5cb71f2f4a36bd0459a0aee1dddf",
       "version_major": 2,
       "version_minor": 0
      },
      "text/plain": [
       "N-Enc 10______:   0%|          | 0/872 [00:00<?, ?it/s]"
      ]
     },
     "metadata": {},
     "output_type": "display_data"
    },
    {
     "data": {
      "application/vnd.jupyter.widget-view+json": {
       "model_id": "8f184f66575743949f28ccad6fdd1f34",
       "version_major": 2,
       "version_minor": 0
      },
      "text/plain": [
       "raw 11________:   0%|          | 0/872 [00:00<?, ?it/s]"
      ]
     },
     "metadata": {},
     "output_type": "display_data"
    },
    {
     "data": {
      "application/vnd.jupyter.widget-view+json": {
       "model_id": "28947f0766044cfc9ddfcb22beb2affe",
       "version_major": 2,
       "version_minor": 0
      },
      "text/plain": [
       "N 11__________:   0%|          | 0/872 [00:00<?, ?it/s]"
      ]
     },
     "metadata": {},
     "output_type": "display_data"
    },
    {
     "data": {
      "application/vnd.jupyter.widget-view+json": {
       "model_id": "56d15856043c4aa8ab3eaa4f949b61bb",
       "version_major": 2,
       "version_minor": 0
      },
      "text/plain": [
       "N-Res 11______:   0%|          | 0/872 [00:00<?, ?it/s]"
      ]
     },
     "metadata": {},
     "output_type": "display_data"
    },
    {
     "data": {
      "application/vnd.jupyter.widget-view+json": {
       "model_id": "7439a734e70b45058e827bf7244584a1",
       "version_major": 2,
       "version_minor": 0
      },
      "text/plain": [
       "N-ResLN 11____:   0%|          | 0/872 [00:00<?, ?it/s]"
      ]
     },
     "metadata": {},
     "output_type": "display_data"
    },
    {
     "data": {
      "application/vnd.jupyter.widget-view+json": {
       "model_id": "2a315ddc75ac4fa8aba6070998e36946",
       "version_major": 2,
       "version_minor": 0
      },
      "text/plain": [
       "N-Enc 11______:   0%|          | 0/872 [00:00<?, ?it/s]"
      ]
     },
     "metadata": {},
     "output_type": "display_data"
    },
    {
     "name": "stdout",
     "output_type": "stream",
     "text": [
      "Max Layer: 5 raw 0.31 ± 0.23\n",
      "1 raw          -0.52 ± 0.17\n",
      "2 raw          -0.40 ± 0.22\n",
      "3 raw          -0.16 ± 0.26\n",
      "4 raw          0.12 ± 0.26\n",
      "5 raw          0.31 ± 0.23\n",
      "6 raw          0.17 ± 0.25\n",
      "7 raw          0.11 ± 0.25\n",
      "8 raw          0.12 ± 0.25\n",
      "9 raw          0.08 ± 0.23\n",
      "10 raw         0.14 ± 0.23\n",
      "11 raw         0.05 ± 0.24\n",
      "12 raw         0.14 ± 0.25\n",
      "Max Layer: 5 N 0.41 ± 0.21\n",
      "1 N            -0.50 ± 0.18\n",
      "2 N            -0.33 ± 0.23\n",
      "3 N            0.11 ± 0.26\n",
      "4 N            0.38 ± 0.21\n",
      "5 N            0.41 ± 0.21\n",
      "6 N            0.28 ± 0.23\n",
      "7 N            0.17 ± 0.24\n",
      "8 N            0.21 ± 0.23\n",
      "9 N            0.18 ± 0.23\n",
      "10 N           0.26 ± 0.22\n",
      "11 N           0.27 ± 0.22\n",
      "12 N           0.40 ± 0.21\n",
      "Max Layer: 12 N-Res 0.41 ± 0.19\n",
      "1 N-Res        -0.48 ± 0.18\n",
      "2 N-Res        -0.33 ± 0.23\n",
      "3 N-Res        0.11 ± 0.26\n",
      "4 N-Res        0.38 ± 0.21\n",
      "5 N-Res        0.41 ± 0.21\n",
      "6 N-Res        0.29 ± 0.24\n",
      "7 N-Res        0.21 ± 0.24\n",
      "8 N-Res        0.23 ± 0.23\n",
      "9 N-Res        0.22 ± 0.23\n",
      "10 N-Res       0.29 ± 0.22\n",
      "11 N-Res       0.30 ± 0.21\n",
      "12 N-Res       0.41 ± 0.19\n",
      "Max Layer: 12 N-ResLN 0.41 ± 0.19\n",
      "1 N-ResLN      -0.48 ± 0.18\n",
      "2 N-ResLN      -0.33 ± 0.23\n",
      "3 N-ResLN      0.14 ± 0.25\n",
      "4 N-ResLN      0.39 ± 0.21\n",
      "5 N-ResLN      0.40 ± 0.21\n",
      "6 N-ResLN      0.28 ± 0.24\n",
      "7 N-ResLN      0.20 ± 0.24\n",
      "8 N-ResLN      0.22 ± 0.23\n",
      "9 N-ResLN      0.22 ± 0.23\n",
      "10 N-ResLN     0.29 ± 0.22\n",
      "11 N-ResLN     0.29 ± 0.21\n",
      "12 N-ResLN     0.41 ± 0.19\n",
      "Max Layer: 12 N-Enc 0.41 ± 0.19\n",
      "1 N-Enc        -0.47 ± 0.18\n",
      "2 N-Enc        -0.33 ± 0.23\n",
      "3 N-Enc        0.14 ± 0.25\n",
      "4 N-Enc        0.39 ± 0.21\n",
      "5 N-Enc        0.41 ± 0.21\n",
      "6 N-Enc        0.29 ± 0.24\n",
      "7 N-Enc        0.21 ± 0.24\n",
      "8 N-Enc        0.22 ± 0.23\n",
      "9 N-Enc        0.22 ± 0.23\n",
      "10 N-Enc       0.29 ± 0.22\n",
      "11 N-Enc       0.29 ± 0.21\n",
      "12 N-Enc       0.41 ± 0.19\n"
     ]
    },
    {
     "data": {
      "text/plain": [
       "<matplotlib.legend.Legend at 0x2789135a400>"
      ]
     },
     "execution_count": 70,
     "metadata": {},
     "output_type": "execute_result"
    },
    {
     "data": {
      "image/png": "[encoded data removed]",
      "text/plain": [
       "<Figure size 1152x432 with 1 Axes>"
      ]
     },
     "metadata": {
      "needs_background": "light"
     },
     "output_type": "display_data"
    }
   ],
   "source": [
    "import src.metrics\n",
    "reload(src.metrics)\n",
    "\n",
    "spearmans_attentions = dict()\n",
    "spearmans_attentions[\"raw\"] = []\n",
    "for key, value in ATTENTION_NORM_TYPES.items():\n",
    "    spearmans_attentions[key] = []\n",
    "\n",
    "for layer in range(12):\n",
    "    spearmans_attentions[\"raw\"].append(src.metrics.compute_spearman_correlation([r[layer] for r in raw_attentions], \n",
    "                                                                                config[\"SALIENCY_BLANK_OUT_PATH\"],\n",
    "                                                                                desc=f\"raw {layer}\".ljust(14, '_'),\n",
    "                                                                                max_length=config[\"SALS_MAX_LENGTH\"]))\n",
    "    \n",
    "    for key, value in ATTENTION_NORM_TYPES.items():\n",
    "        spearmans_attentions[key].append(src.metrics.compute_spearman_correlation([n[layer] for n in norms_list[value]], \n",
    "                                                                                  config[\"SALIENCY_BLANK_OUT_PATH\"],\n",
    "                                                                                  desc=f\"{key} {layer}\".ljust(14, '_'),\n",
    "                                                                                  max_length=config[\"SALS_MAX_LENGTH\"]))\n",
    "#PRINT\n",
    "for key, value in spearmans_attentions.items():\n",
    "    spearmans = np.array(spearmans_attentions[key])\n",
    "    max_layer = np.argmax(np.mean(spearmans_attentions[key], axis=1))\n",
    "    print(f\"Max Layer: {max_layer+1}\", f\"{key}\", f\"{np.mean(spearmans_attentions[key][max_layer]):.2f}\", f\"± {np.std(spearmans_attentions[key][max_layer]):.2f}\")\n",
    "    for layer in range(12):\n",
    "        print(f\"{layer+1} {key}\".ljust(14), \n",
    "              f\"{np.mean(spearmans_attentions[key][layer]):.2f}\",\n",
    "              f\"± {np.std(spearmans_attentions[key][layer]):.2f}\")\n",
    "\n",
    "# PLOT\n",
    "plt.figure(figsize=(16, 6))\n",
    "colors = [\"b\", \"g\", \"r\", \"c\", \"m\"]\n",
    "markers = ['D', 'o', '^', 's', '*']\n",
    "c = 0\n",
    "for key, value in spearmans_attentions.items():\n",
    "    y_mean = []\n",
    "    y_std = []\n",
    "    for layer in range(12):\n",
    "        y_mean.append(np.mean(spearmans_attentions[key][layer]))\n",
    "        y_std.append(np.std(spearmans_attentions[key][layer]))\n",
    "    y_mean = np.array(y_mean)\n",
    "    y_std = np.array(y_std)\n",
    "    plt.plot(range(12), y_mean, markers[c], label=key, color=colors[c])\n",
    "    plt.plot(range(12), y_mean, color=colors[c])\n",
    "    plt.fill_between(range(12), \n",
    "                     y_mean - y_std, \n",
    "                     y_mean + y_std,\n",
    "                     alpha=0.2, color=colors[c])\n",
    "    c += 1\n",
    "plt.legend(loc=\"upper left\")"
   ]
  },
  {
   "cell_type": "markdown",
   "metadata": {},
   "source": [
    "## Visualization"
   ]
  },
  {
   "cell_type": "code",
   "execution_count": 82,
   "metadata": {},
   "outputs": [],
   "source": [
    "import seaborn as sns\n",
    "import pandas as pd\n",
    "import numpy as np\n",
    "import matplotlib.pyplot as plt\n",
    "import matplotlib.gridspec as gridspec\n",
    "\n",
    "def plot_heatmap(norm, tokenized_text, title=\"\"):\n",
    "    df = pd.DataFrame(norm, columns=tokenized_text, index=tokenized_text)\n",
    "    sns.heatmap(df,cmap=\"Reds\",square=True)\n",
    "    plt.title(title)\n",
    "    plt.gcf().subplots_adjust(bottom=0.2)"
   ]
  },
  {
   "cell_type": "markdown",
   "metadata": {},
   "source": [
    "### Attention Flow"
   ]
  },
  {
   "cell_type": "code",
   "execution_count": 87,
   "metadata": {
    "scrolled": false
   },
   "outputs": [
    {
     "name": "stderr",
     "output_type": "stream",
     "text": [
      "C:\\Users\\Mohsen\\Anaconda3\\envs\\attention-env\\lib\\site-packages\\ipykernel_launcher.py:24: RuntimeWarning: invalid value encountered in true_divide\n",
      "C:\\Users\\Mohsen\\Anaconda3\\envs\\attention-env\\lib\\site-packages\\seaborn\\matrix.py:198: RuntimeWarning: All-NaN slice encountered\n",
      "  vmin = np.nanmin(calc_data)\n",
      "C:\\Users\\Mohsen\\Anaconda3\\envs\\attention-env\\lib\\site-packages\\seaborn\\matrix.py:203: RuntimeWarning: All-NaN slice encountered\n",
      "  vmax = np.nanmax(calc_data)\n"
     ]
    },
    {
     "data": {
      "image/png": "[encoded data removed]",
      "text/plain": [
       "<Figure size 432x432 with 2 Axes>"
      ]
     },
     "metadata": {
      "needs_background": "light"
     },
     "output_type": "display_data"
    }
   ],
   "source": [
    "### 12 Layers in One (Just CLS)\n",
    "import matplotlib.backends.backend_pdf\n",
    "\n",
    "def plot_flow_heatmaps_cls(idx, specific_method=None):\n",
    "    encoded = encoder_func(idx)\n",
    "    tokenized_text = tokenizer.convert_ids_to_tokens(encoded[\"input_ids\"][0])\n",
    "    if specific_method is None:\n",
    "        plt.figure(figsize=(22, 17))\n",
    "    else:\n",
    "        plt.figure(figsize=(6, 6))\n",
    "    c = 1\n",
    "    for key in attention_flows.keys():\n",
    "        # N-Enc, N-Res\n",
    "        if specific_method is not None and key != specific_method:\n",
    "            continue\n",
    "        if specific_method is None:\n",
    "            plt.subplot(2, 4, c)\n",
    "            c += 1\n",
    "        else:\n",
    "            plt.subplot(1, 1, c)\n",
    "        norm_cls = attention_flows[key][idx][:, 0, :]\n",
    "        norm_cls = np.flip(norm_cls, axis=0)\n",
    "        row_sums = norm_cls.max(axis=1)\n",
    "        norm_cls = norm_cls / row_sums[:, np.newaxis]\n",
    "        \n",
    "        df = pd.DataFrame(norm_cls, columns=tokenized_text, index=range(12, 0, -1))\n",
    "        sns.heatmap(df,cmap=\"Reds\",square=True)\n",
    "        plt.title(key, fontsize=16)\n",
    "        plt.ylabel(\"Layer\", fontsize=16)\n",
    "        plt.xticks(rotation = 90, fontsize=16)\n",
    "        plt.yticks(fontsize=13)\n",
    "        plt.gcf().subplots_adjust(bottom=0.2)\n",
    "        \n",
    "# 320, 493, 599, 746\n",
    "idx = 195\n",
    "pdf = matplotlib.backends.backend_pdf.PdfPages(f\"{config['DATASET']}_{idx}_rollout_cls.pdf\")\n",
    "plot_flow_heatmaps_cls(idx, specific_method=\"N-Enc\")\n",
    "# plot_flow_heatmaps_cls(idx, specific_method=None)\n",
    "fig.tight_layout()\n",
    "plt.savefig(pdf, format='pdf')\n",
    "pdf.close()\n",
    "\n",
    "\n",
    "# for i in range(800):\n",
    "#     test_idx = i\n",
    "#     encoded = encoder_func(test_idx)\n",
    "#     tokenized_text = tokenizer.convert_ids_to_tokens(encoded[\"input_ids\"][0])\n",
    "#     if 5 < len(tokenized_text) < 12 and \"#\" not in \"\".join(tokenized_text):\n",
    "#         print(\"idx =\", i)\n",
    "#         plot_flow_heatmaps_cls(test_idx, specific_method=\"N-Res\")\n",
    "#         plt.show()"
   ]
  },
  {
   "cell_type": "code",
   "execution_count": 14,
   "metadata": {
    "id": "oeHyiUtkzUeH",
    "scrolled": false
   },
   "outputs": [
    {
     "data": {
      "image/png": "[encoded data removed]",
      "text/plain": [
       "<Figure size 1584x936 with 16 Axes>"
      ]
     },
     "metadata": {
      "needs_background": "light"
     },
     "output_type": "display_data"
    }
   ],
   "source": [
    "import matplotlib.backends.backend_pdf\n",
    "\n",
    "def plot_flow_heatmaps(idx, layer=-1):\n",
    "    encoded = encoder_func(idx)\n",
    "    tokenized_text = tokenizer.convert_ids_to_tokens(encoded[\"input_ids\"][0])\n",
    "    plt.figure(figsize=(22, 13))\n",
    "    c = 1\n",
    "    for key in attention_flows.keys():\n",
    "        plt.subplot(2, 4, c)\n",
    "        c += 1\n",
    "        norm = attention_flows[key][idx][layer] / np.max(attention_flows[key][idx][layer])\n",
    "        plot_heatmap(norm, tokenized_text, key)\n",
    "        plt.xticks(rotation = 90, fontsize=16)\n",
    "        plt.title(key, fontsize=16)\n",
    "        plt.yticks(rotation = 0, fontsize=16)\n",
    "        plt.yticks(fontsize=12)\n",
    "        \n",
    "\n",
    "# for i in range(800):\n",
    "#     test_idx = i\n",
    "#     encoded = encoder_func(test_idx)\n",
    "#     tokenized_text = tokenizer.convert_ids_to_tokens(encoded[\"input_ids\"][0])\n",
    "#     if 2 < len(tokenized_text) < 5:\n",
    "#         print(\"idx =\", i)\n",
    "#         plot_flow_heatmaps(test_idx)\n",
    "#         plt.show()\n",
    "\n",
    "pdf = matplotlib.backends.backend_pdf.PdfPages(f\"{config['DATASET']}_{idx}_rollout12_tokens.pdf\")\n",
    "plot_flow_heatmaps(idx=112)\n",
    "fig.tight_layout()\n",
    "plt.savefig(pdf, format='pdf')\n",
    "pdf.close()\n",
    "\n",
    "# pdf = matplotlib.backends.backend_pdf.PdfPages(f\"{config['DATASET']}_flow_aggregate_layers.pdf\")\n",
    "# for layer in range(len(attention_flows[\"W\"][0])):\n",
    "#     plot_flow_heatmaps(idx=32, layer=layer)\n",
    "#     plt.suptitle(f\"Layer {layer}\", fontsize=12)\n",
    "#     plt.savefig(pdf, format='pdf')\n",
    "# pdf.close()"
   ]
  },
  {
   "cell_type": "code",
   "execution_count": null,
   "metadata": {},
   "outputs": [],
   "source": [
    "# attention_flows[\"attnresln_n\"][0][-1]/1e19"
   ]
  },
  {
   "cell_type": "markdown",
   "metadata": {},
   "source": [
    "### Attention in single layers (w/o flow)"
   ]
  },
  {
   "cell_type": "code",
   "execution_count": null,
   "metadata": {
    "colab": {
     "base_uri": "https://localhost:8080/",
     "height": 282
    },
    "id": "tYZnfOGovfiD",
    "outputId": "971bf810-79fc-43b6-f69e-08823f73d11d",
    "scrolled": true
   },
   "outputs": [],
   "source": [
    "import matplotlib.backends.backend_pdf\n",
    "\n",
    "def plot_layers_heatmap(idx, layer):\n",
    "    encoded = encoder_func(idx)\n",
    "    tokenized_text = tokenizer.convert_ids_to_tokens(encoded[\"input_ids\"][0])\n",
    "    plt.figure(figsize=(25, 6))\n",
    "    # Plot Raw Attention\n",
    "    plt.subplot(1, 4, 1)\n",
    "    norm = raw_attentions[idx][layer]\n",
    "    plot_heatmap(norm, tokenized_text, \"Attn-W\")\n",
    "    # Plot Norm Attentions\n",
    "    c = 2\n",
    "    for key, value in ATTENTION_NORM_TYPES.items():\n",
    "        plt.subplot(1, 4, c)\n",
    "        c += 1\n",
    "        norm = norms_list[value][idx][layer]\n",
    "        plot_heatmap(norm, tokenized_text, key)\n",
    "\n",
    "test_idx = 32\n",
    "pdf = matplotlib.backends.backend_pdf.PdfPages(\"layers.pdf\")\n",
    "for layer in range(12):\n",
    "    plot_layers_heatmap(test_idx, layer)\n",
    "    plt.suptitle(f\"Layer {layer}\", fontsize=12)\n",
    "    plt.savefig(pdf, format='pdf')\n",
    "pdf.close()"
   ]
  },
  {
   "cell_type": "code",
   "execution_count": null,
   "metadata": {},
   "outputs": [],
   "source": []
  },
  {
   "cell_type": "code",
   "execution_count": null,
   "metadata": {},
   "outputs": [],
   "source": []
  }
 ],
 "metadata": {
  "accelerator": "GPU",
  "colab": {
   "name": "AttentionRolloutCheck.ipynb",
   "provenance": []
  },
  "kernelspec": {
   "display_name": "Python 3",
   "language": "python",
   "name": "python3"
  },
  "language_info": {
   "codemirror_mode": {
    "name": "ipython",
    "version": 3
   },
   "file_extension": ".py",
   "mimetype": "text/x-python",
   "name": "python",
   "nbconvert_exporter": "python",
   "pygments_lexer": "ipython3",
   "version": "3.6.15"
  },
  "pycharm": {
   "stem_cell": {
    "cell_type": "raw",
    "metadata": {
     "collapsed": false
    },
    "source": []
   }
  },
  "widgets": {
   "application/vnd.jupyter.widget-state+json": {
    "00b68ecbf8894341b0d68c6382a3408e": {
     "model_module": "@jupyter-widgets/base",
     "model_module_version": "1.2.0",
     "model_name": "LayoutModel",
     "state": {
      "_model_module": "@jupyter-widgets/base",
      "_model_module_version": "1.2.0",
      "_model_name": "LayoutModel",
      "_view_count": null,
      "_view_module": "@jupyter-widgets/base",
      "_view_module_version": "1.2.0",
      "_view_name": "LayoutView",
      "align_content": null,
      "align_items": null,
      "align_self": null,
      "border": null,
      "bottom": null,
      "display": null,
      "flex": null,
      "flex_flow": null,
      "grid_area": null,
      "grid_auto_columns": null,
      "grid_auto_flow": null,
      "grid_auto_rows": null,
      "grid_column": null,
      "grid_gap": null,
      "grid_row": null,
      "grid_template_areas": null,
      "grid_template_columns": null,
      "grid_template_rows": null,
      "height": null,
      "justify_content": null,
      "justify_items": null,
      "left": null,
      "margin": null,
      "max_height": null,
      "max_width": null,
      "min_height": null,
      "min_width": null,
      "object_fit": null,
      "object_position": null,
      "order": null,
      "overflow": null,
      "overflow_x": null,
      "overflow_y": null,
      "padding": null,
      "right": null,
      "top": null,
      "visibility": null,
      "width": null
     }
    },
    "062fc07f7b7544c29a66b4a27479c8a3": {
     "model_module": "@jupyter-widgets/controls",
     "model_module_version": "1.5.0",
     "model_name": "HTMLModel",
     "state": {
      "_dom_classes": [],
      "_model_module": "@jupyter-widgets/controls",
      "_model_module_version": "1.5.0",
      "_model_name": "HTMLModel",
      "_view_count": null,
      "_view_module": "@jupyter-widgets/controls",
      "_view_module_version": "1.5.0",
      "_view_name": "HTMLView",
      "description": "",
      "description_tooltip": null,
      "layout": "IPY_MODEL_00b68ecbf8894341b0d68c6382a3408e",
      "placeholder": "​",
      "style": "IPY_MODEL_71e163c95217429d81808b11df592487",
      "value": " 256/256 [00:00&lt;00:00, 1285.46it/s]"
     }
    },
    "13c3f45eb5a447dda29d89aa4eac1563": {
     "model_module": "@jupyter-widgets/base",
     "model_module_version": "1.2.0",
     "model_name": "LayoutModel",
     "state": {
      "_model_module": "@jupyter-widgets/base",
      "_model_module_version": "1.2.0",
      "_model_name": "LayoutModel",
      "_view_count": null,
      "_view_module": "@jupyter-widgets/base",
      "_view_module_version": "1.2.0",
      "_view_name": "LayoutView",
      "align_content": null,
      "align_items": null,
      "align_self": null,
      "border": null,
      "bottom": null,
      "display": null,
      "flex": null,
      "flex_flow": null,
      "grid_area": null,
      "grid_auto_columns": null,
      "grid_auto_flow": null,
      "grid_auto_rows": null,
      "grid_column": null,
      "grid_gap": null,
      "grid_row": null,
      "grid_template_areas": null,
      "grid_template_columns": null,
      "grid_template_rows": null,
      "height": null,
      "justify_content": null,
      "justify_items": null,
      "left": null,
      "margin": null,
      "max_height": null,
      "max_width": null,
      "min_height": null,
      "min_width": null,
      "object_fit": null,
      "object_position": null,
      "order": null,
      "overflow": null,
      "overflow_x": null,
      "overflow_y": null,
      "padding": null,
      "right": null,
      "top": null,
      "visibility": null,
      "width": null
     }
    },
    "1ac063b4e5c84d86bdce7beea90bfbaa": {
     "model_module": "@jupyter-widgets/controls",
     "model_module_version": "1.5.0",
     "model_name": "DescriptionStyleModel",
     "state": {
      "_model_module": "@jupyter-widgets/controls",
      "_model_module_version": "1.5.0",
      "_model_name": "DescriptionStyleModel",
      "_view_count": null,
      "_view_module": "@jupyter-widgets/base",
      "_view_module_version": "1.2.0",
      "_view_name": "StyleView",
      "description_width": ""
     }
    },
    "22975517dd83411ba507a4224d83a929": {
     "model_module": "@jupyter-widgets/controls",
     "model_module_version": "1.5.0",
     "model_name": "DescriptionStyleModel",
     "state": {
      "_model_module": "@jupyter-widgets/controls",
      "_model_module_version": "1.5.0",
      "_model_name": "DescriptionStyleModel",
      "_view_count": null,
      "_view_module": "@jupyter-widgets/base",
      "_view_module_version": "1.2.0",
      "_view_name": "StyleView",
      "description_width": ""
     }
    },
    "2cd5c49c4e44414cac95dc8f564c6447": {
     "model_module": "@jupyter-widgets/controls",
     "model_module_version": "1.5.0",
     "model_name": "FloatProgressModel",
     "state": {
      "_dom_classes": [],
      "_model_module": "@jupyter-widgets/controls",
      "_model_module_version": "1.5.0",
      "_model_name": "FloatProgressModel",
      "_view_count": null,
      "_view_module": "@jupyter-widgets/controls",
      "_view_module_version": "1.5.0",
      "_view_name": "ProgressView",
      "bar_style": "success",
      "description": "",
      "description_tooltip": null,
      "layout": "IPY_MODEL_ad222e6f87c245a8b48857d571f7ad73",
      "max": 256,
      "min": 0,
      "orientation": "horizontal",
      "style": "IPY_MODEL_64b2691bc5fb440d8bd75f4b05c6afd6",
      "value": 256
     }
    },
    "3285707e45b5465384b973ba6789dd51": {
     "model_module": "@jupyter-widgets/controls",
     "model_module_version": "1.5.0",
     "model_name": "FloatProgressModel",
     "state": {
      "_dom_classes": [],
      "_model_module": "@jupyter-widgets/controls",
      "_model_module_version": "1.5.0",
      "_model_name": "FloatProgressModel",
      "_view_count": null,
      "_view_module": "@jupyter-widgets/controls",
      "_view_module_version": "1.5.0",
      "_view_name": "ProgressView",
      "bar_style": "success",
      "description": "",
      "description_tooltip": null,
      "layout": "IPY_MODEL_4592fad2c6b944ac95d80ab4ceaba7cd",
      "max": 256,
      "min": 0,
      "orientation": "horizontal",
      "style": "IPY_MODEL_35b8fdaa6593485581316b6d387d3ac2",
      "value": 256
     }
    },
    "35b8fdaa6593485581316b6d387d3ac2": {
     "model_module": "@jupyter-widgets/controls",
     "model_module_version": "1.5.0",
     "model_name": "ProgressStyleModel",
     "state": {
      "_model_module": "@jupyter-widgets/controls",
      "_model_module_version": "1.5.0",
      "_model_name": "ProgressStyleModel",
      "_view_count": null,
      "_view_module": "@jupyter-widgets/base",
      "_view_module_version": "1.2.0",
      "_view_name": "StyleView",
      "bar_color": null,
      "description_width": ""
     }
    },
    "4376e6334a76494987ae85d972b1c0bc": {
     "model_module": "@jupyter-widgets/base",
     "model_module_version": "1.2.0",
     "model_name": "LayoutModel",
     "state": {
      "_model_module": "@jupyter-widgets/base",
      "_model_module_version": "1.2.0",
      "_model_name": "LayoutModel",
      "_view_count": null,
      "_view_module": "@jupyter-widgets/base",
      "_view_module_version": "1.2.0",
      "_view_name": "LayoutView",
      "align_content": null,
      "align_items": null,
      "align_self": null,
      "border": null,
      "bottom": null,
      "display": null,
      "flex": null,
      "flex_flow": null,
      "grid_area": null,
      "grid_auto_columns": null,
      "grid_auto_flow": null,
      "grid_auto_rows": null,
      "grid_column": null,
      "grid_gap": null,
      "grid_row": null,
      "grid_template_areas": null,
      "grid_template_columns": null,
      "grid_template_rows": null,
      "height": null,
      "justify_content": null,
      "justify_items": null,
      "left": null,
      "margin": null,
      "max_height": null,
      "max_width": null,
      "min_height": null,
      "min_width": null,
      "object_fit": null,
      "object_position": null,
      "order": null,
      "overflow": null,
      "overflow_x": null,
      "overflow_y": null,
      "padding": null,
      "right": null,
      "top": null,
      "visibility": null,
      "width": null
     }
    },
    "44e2bfe4ba5e47fb8bd7488774c55feb": {
     "model_module": "@jupyter-widgets/controls",
     "model_module_version": "1.5.0",
     "model_name": "HTMLModel",
     "state": {
      "_dom_classes": [],
      "_model_module": "@jupyter-widgets/controls",
      "_model_module_version": "1.5.0",
      "_model_name": "HTMLModel",
      "_view_count": null,
      "_view_module": "@jupyter-widgets/controls",
      "_view_module_version": "1.5.0",
      "_view_name": "HTMLView",
      "description": "",
      "description_tooltip": null,
      "layout": "IPY_MODEL_bbf42144a15242adb01984d943ae8d1d",
      "placeholder": "​",
      "style": "IPY_MODEL_e901d5a0279a42e49269c2465d8985e5",
      "value": " 232k/232k [00:00&lt;00:00, 563kB/s]"
     }
    },
    "4592fad2c6b944ac95d80ab4ceaba7cd": {
     "model_module": "@jupyter-widgets/base",
     "model_module_version": "1.2.0",
     "model_name": "LayoutModel",
     "state": {
      "_model_module": "@jupyter-widgets/base",
      "_model_module_version": "1.2.0",
      "_model_name": "LayoutModel",
      "_view_count": null,
      "_view_module": "@jupyter-widgets/base",
      "_view_module_version": "1.2.0",
      "_view_name": "LayoutView",
      "align_content": null,
      "align_items": null,
      "align_self": null,
      "border": null,
      "bottom": null,
      "display": null,
      "flex": null,
      "flex_flow": null,
      "grid_area": null,
      "grid_auto_columns": null,
      "grid_auto_flow": null,
      "grid_auto_rows": null,
      "grid_column": null,
      "grid_gap": null,
      "grid_row": null,
      "grid_template_areas": null,
      "grid_template_columns": null,
      "grid_template_rows": null,
      "height": null,
      "justify_content": null,
      "justify_items": null,
      "left": null,
      "margin": null,
      "max_height": null,
      "max_width": null,
      "min_height": null,
      "min_width": null,
      "object_fit": null,
      "object_position": null,
      "order": null,
      "overflow": null,
      "overflow_x": null,
      "overflow_y": null,
      "padding": null,
      "right": null,
      "top": null,
      "visibility": null,
      "width": null
     }
    },
    "4d84d12803084eaea6efe35b6effdf6b": {
     "model_module": "@jupyter-widgets/base",
     "model_module_version": "1.2.0",
     "model_name": "LayoutModel",
     "state": {
      "_model_module": "@jupyter-widgets/base",
      "_model_module_version": "1.2.0",
      "_model_name": "LayoutModel",
      "_view_count": null,
      "_view_module": "@jupyter-widgets/base",
      "_view_module_version": "1.2.0",
      "_view_name": "LayoutView",
      "align_content": null,
      "align_items": null,
      "align_self": null,
      "border": null,
      "bottom": null,
      "display": null,
      "flex": null,
      "flex_flow": null,
      "grid_area": null,
      "grid_auto_columns": null,
      "grid_auto_flow": null,
      "grid_auto_rows": null,
      "grid_column": null,
      "grid_gap": null,
      "grid_row": null,
      "grid_template_areas": null,
      "grid_template_columns": null,
      "grid_template_rows": null,
      "height": null,
      "justify_content": null,
      "justify_items": null,
      "left": null,
      "margin": null,
      "max_height": null,
      "max_width": null,
      "min_height": null,
      "min_width": null,
      "object_fit": null,
      "object_position": null,
      "order": null,
      "overflow": null,
      "overflow_x": null,
      "overflow_y": null,
      "padding": null,
      "right": null,
      "top": null,
      "visibility": null,
      "width": null
     }
    },
    "4f20da76f18d40089837d5b6363d2c7c": {
     "model_module": "@jupyter-widgets/controls",
     "model_module_version": "1.5.0",
     "model_name": "HBoxModel",
     "state": {
      "_dom_classes": [],
      "_model_module": "@jupyter-widgets/controls",
      "_model_module_version": "1.5.0",
      "_model_name": "HBoxModel",
      "_view_count": null,
      "_view_module": "@jupyter-widgets/controls",
      "_view_module_version": "1.5.0",
      "_view_name": "HBoxView",
      "box_style": "",
      "children": [
       "IPY_MODEL_ae6967648f4c46a7931e0bc9e145445b",
       "IPY_MODEL_703e144da8344b8db7c92e67a7f67097",
       "IPY_MODEL_44e2bfe4ba5e47fb8bd7488774c55feb"
      ],
      "layout": "IPY_MODEL_13c3f45eb5a447dda29d89aa4eac1563"
     }
    },
    "5ed2be4b2b644030877b8c8dfff212af": {
     "model_module": "@jupyter-widgets/controls",
     "model_module_version": "1.5.0",
     "model_name": "HTMLModel",
     "state": {
      "_dom_classes": [],
      "_model_module": "@jupyter-widgets/controls",
      "_model_module_version": "1.5.0",
      "_model_name": "HTMLModel",
      "_view_count": null,
      "_view_module": "@jupyter-widgets/controls",
      "_view_module_version": "1.5.0",
      "_view_name": "HTMLView",
      "description": "",
      "description_tooltip": null,
      "layout": "IPY_MODEL_9339c21e45504986bf430499b8fbbca8",
      "placeholder": "​",
      "style": "IPY_MODEL_22975517dd83411ba507a4224d83a929",
      "value": " 256/256 [00:12&lt;00:00, 21.64it/s]"
     }
    },
    "64b2691bc5fb440d8bd75f4b05c6afd6": {
     "model_module": "@jupyter-widgets/controls",
     "model_module_version": "1.5.0",
     "model_name": "ProgressStyleModel",
     "state": {
      "_model_module": "@jupyter-widgets/controls",
      "_model_module_version": "1.5.0",
      "_model_name": "ProgressStyleModel",
      "_view_count": null,
      "_view_module": "@jupyter-widgets/base",
      "_view_module_version": "1.2.0",
      "_view_name": "StyleView",
      "bar_color": null,
      "description_width": ""
     }
    },
    "692f6219c44a4671be44fa63ab7f66bb": {
     "model_module": "@jupyter-widgets/controls",
     "model_module_version": "1.5.0",
     "model_name": "HBoxModel",
     "state": {
      "_dom_classes": [],
      "_model_module": "@jupyter-widgets/controls",
      "_model_module_version": "1.5.0",
      "_model_name": "HBoxModel",
      "_view_count": null,
      "_view_module": "@jupyter-widgets/controls",
      "_view_module_version": "1.5.0",
      "_view_name": "HBoxView",
      "box_style": "",
      "children": [
       "IPY_MODEL_cd86681f9a814914a13d9d5c2204f8e9",
       "IPY_MODEL_dfc507b035fb4abb8aec7657c5062e28",
       "IPY_MODEL_062fc07f7b7544c29a66b4a27479c8a3"
      ],
      "layout": "IPY_MODEL_b2789c1fd4c644e8beb418340d912cb4"
     }
    },
    "6dbf9c19c2f04507809736f2fc2b0204": {
     "model_module": "@jupyter-widgets/controls",
     "model_module_version": "1.5.0",
     "model_name": "HBoxModel",
     "state": {
      "_dom_classes": [],
      "_model_module": "@jupyter-widgets/controls",
      "_model_module_version": "1.5.0",
      "_model_name": "HBoxModel",
      "_view_count": null,
      "_view_module": "@jupyter-widgets/controls",
      "_view_module_version": "1.5.0",
      "_view_name": "HBoxView",
      "box_style": "",
      "children": [
       "IPY_MODEL_e46069d00558434fb871b09e431c127b",
       "IPY_MODEL_3285707e45b5465384b973ba6789dd51",
       "IPY_MODEL_5ed2be4b2b644030877b8c8dfff212af"
      ],
      "layout": "IPY_MODEL_eb1c1c28d03046019546ac3c873b1570"
     }
    },
    "703e144da8344b8db7c92e67a7f67097": {
     "model_module": "@jupyter-widgets/controls",
     "model_module_version": "1.5.0",
     "model_name": "FloatProgressModel",
     "state": {
      "_dom_classes": [],
      "_model_module": "@jupyter-widgets/controls",
      "_model_module_version": "1.5.0",
      "_model_name": "FloatProgressModel",
      "_view_count": null,
      "_view_module": "@jupyter-widgets/controls",
      "_view_module_version": "1.5.0",
      "_view_name": "ProgressView",
      "bar_style": "success",
      "description": "",
      "description_tooltip": null,
      "layout": "IPY_MODEL_760407cb1c4648f198eafc76b6b99bbd",
      "max": 231508,
      "min": 0,
      "orientation": "horizontal",
      "style": "IPY_MODEL_ce18882c12e74faba3c9b724e21f8513",
      "value": 231508
     }
    },
    "71e163c95217429d81808b11df592487": {
     "model_module": "@jupyter-widgets/controls",
     "model_module_version": "1.5.0",
     "model_name": "DescriptionStyleModel",
     "state": {
      "_model_module": "@jupyter-widgets/controls",
      "_model_module_version": "1.5.0",
      "_model_name": "DescriptionStyleModel",
      "_view_count": null,
      "_view_module": "@jupyter-widgets/base",
      "_view_module_version": "1.2.0",
      "_view_name": "StyleView",
      "description_width": ""
     }
    },
    "760407cb1c4648f198eafc76b6b99bbd": {
     "model_module": "@jupyter-widgets/base",
     "model_module_version": "1.2.0",
     "model_name": "LayoutModel",
     "state": {
      "_model_module": "@jupyter-widgets/base",
      "_model_module_version": "1.2.0",
      "_model_name": "LayoutModel",
      "_view_count": null,
      "_view_module": "@jupyter-widgets/base",
      "_view_module_version": "1.2.0",
      "_view_name": "LayoutView",
      "align_content": null,
      "align_items": null,
      "align_self": null,
      "border": null,
      "bottom": null,
      "display": null,
      "flex": null,
      "flex_flow": null,
      "grid_area": null,
      "grid_auto_columns": null,
      "grid_auto_flow": null,
      "grid_auto_rows": null,
      "grid_column": null,
      "grid_gap": null,
      "grid_row": null,
      "grid_template_areas": null,
      "grid_template_columns": null,
      "grid_template_rows": null,
      "height": null,
      "justify_content": null,
      "justify_items": null,
      "left": null,
      "margin": null,
      "max_height": null,
      "max_width": null,
      "min_height": null,
      "min_width": null,
      "object_fit": null,
      "object_position": null,
      "order": null,
      "overflow": null,
      "overflow_x": null,
      "overflow_y": null,
      "padding": null,
      "right": null,
      "top": null,
      "visibility": null,
      "width": null
     }
    },
    "9339c21e45504986bf430499b8fbbca8": {
     "model_module": "@jupyter-widgets/base",
     "model_module_version": "1.2.0",
     "model_name": "LayoutModel",
     "state": {
      "_model_module": "@jupyter-widgets/base",
      "_model_module_version": "1.2.0",
      "_model_name": "LayoutModel",
      "_view_count": null,
      "_view_module": "@jupyter-widgets/base",
      "_view_module_version": "1.2.0",
      "_view_name": "LayoutView",
      "align_content": null,
      "align_items": null,
      "align_self": null,
      "border": null,
      "bottom": null,
      "display": null,
      "flex": null,
      "flex_flow": null,
      "grid_area": null,
      "grid_auto_columns": null,
      "grid_auto_flow": null,
      "grid_auto_rows": null,
      "grid_column": null,
      "grid_gap": null,
      "grid_row": null,
      "grid_template_areas": null,
      "grid_template_columns": null,
      "grid_template_rows": null,
      "height": null,
      "justify_content": null,
      "justify_items": null,
      "left": null,
      "margin": null,
      "max_height": null,
      "max_width": null,
      "min_height": null,
      "min_width": null,
      "object_fit": null,
      "object_position": null,
      "order": null,
      "overflow": null,
      "overflow_x": null,
      "overflow_y": null,
      "padding": null,
      "right": null,
      "top": null,
      "visibility": null,
      "width": null
     }
    },
    "94dc2a3488b044fda0b51cd326788f3d": {
     "model_module": "@jupyter-widgets/controls",
     "model_module_version": "1.5.0",
     "model_name": "HTMLModel",
     "state": {
      "_dom_classes": [],
      "_model_module": "@jupyter-widgets/controls",
      "_model_module_version": "1.5.0",
      "_model_name": "HTMLModel",
      "_view_count": null,
      "_view_module": "@jupyter-widgets/controls",
      "_view_module_version": "1.5.0",
      "_view_name": "HTMLView",
      "description": "",
      "description_tooltip": null,
      "layout": "IPY_MODEL_fbadd2771f1d4483ac1f942443aed528",
      "placeholder": "​",
      "style": "IPY_MODEL_1ac063b4e5c84d86bdce7beea90bfbaa",
      "value": "100%"
     }
    },
    "9783df9e95d74d89a82e67dd39a779b5": {
     "model_module": "@jupyter-widgets/base",
     "model_module_version": "1.2.0",
     "model_name": "LayoutModel",
     "state": {
      "_model_module": "@jupyter-widgets/base",
      "_model_module_version": "1.2.0",
      "_model_name": "LayoutModel",
      "_view_count": null,
      "_view_module": "@jupyter-widgets/base",
      "_view_module_version": "1.2.0",
      "_view_name": "LayoutView",
      "align_content": null,
      "align_items": null,
      "align_self": null,
      "border": null,
      "bottom": null,
      "display": null,
      "flex": null,
      "flex_flow": null,
      "grid_area": null,
      "grid_auto_columns": null,
      "grid_auto_flow": null,
      "grid_auto_rows": null,
      "grid_column": null,
      "grid_gap": null,
      "grid_row": null,
      "grid_template_areas": null,
      "grid_template_columns": null,
      "grid_template_rows": null,
      "height": null,
      "justify_content": null,
      "justify_items": null,
      "left": null,
      "margin": null,
      "max_height": null,
      "max_width": null,
      "min_height": null,
      "min_width": null,
      "object_fit": null,
      "object_position": null,
      "order": null,
      "overflow": null,
      "overflow_x": null,
      "overflow_y": null,
      "padding": null,
      "right": null,
      "top": null,
      "visibility": null,
      "width": null
     }
    },
    "9bdb6ba6066e4c97a1a5dc2925c6971f": {
     "model_module": "@jupyter-widgets/base",
     "model_module_version": "1.2.0",
     "model_name": "LayoutModel",
     "state": {
      "_model_module": "@jupyter-widgets/base",
      "_model_module_version": "1.2.0",
      "_model_name": "LayoutModel",
      "_view_count": null,
      "_view_module": "@jupyter-widgets/base",
      "_view_module_version": "1.2.0",
      "_view_name": "LayoutView",
      "align_content": null,
      "align_items": null,
      "align_self": null,
      "border": null,
      "bottom": null,
      "display": null,
      "flex": null,
      "flex_flow": null,
      "grid_area": null,
      "grid_auto_columns": null,
      "grid_auto_flow": null,
      "grid_auto_rows": null,
      "grid_column": null,
      "grid_gap": null,
      "grid_row": null,
      "grid_template_areas": null,
      "grid_template_columns": null,
      "grid_template_rows": null,
      "height": null,
      "justify_content": null,
      "justify_items": null,
      "left": null,
      "margin": null,
      "max_height": null,
      "max_width": null,
      "min_height": null,
      "min_width": null,
      "object_fit": null,
      "object_position": null,
      "order": null,
      "overflow": null,
      "overflow_x": null,
      "overflow_y": null,
      "padding": null,
      "right": null,
      "top": null,
      "visibility": null,
      "width": null
     }
    },
    "9cbd40493f67488c80b308bf22322faa": {
     "model_module": "@jupyter-widgets/controls",
     "model_module_version": "1.5.0",
     "model_name": "DescriptionStyleModel",
     "state": {
      "_model_module": "@jupyter-widgets/controls",
      "_model_module_version": "1.5.0",
      "_model_name": "DescriptionStyleModel",
      "_view_count": null,
      "_view_module": "@jupyter-widgets/base",
      "_view_module_version": "1.2.0",
      "_view_name": "StyleView",
      "description_width": ""
     }
    },
    "a26242544d6c469c913e0eb5fb272394": {
     "model_module": "@jupyter-widgets/controls",
     "model_module_version": "1.5.0",
     "model_name": "HTMLModel",
     "state": {
      "_dom_classes": [],
      "_model_module": "@jupyter-widgets/controls",
      "_model_module_version": "1.5.0",
      "_model_name": "HTMLModel",
      "_view_count": null,
      "_view_module": "@jupyter-widgets/controls",
      "_view_module_version": "1.5.0",
      "_view_name": "HTMLView",
      "description": "",
      "description_tooltip": null,
      "layout": "IPY_MODEL_edc1303de6fe4c99abc9b19ac9a9b298",
      "placeholder": "​",
      "style": "IPY_MODEL_9cbd40493f67488c80b308bf22322faa",
      "value": " 256/256 [00:00&lt;00:00, 450.87it/s]"
     }
    },
    "aa2270981ede4dc394616e144d28612d": {
     "model_module": "@jupyter-widgets/controls",
     "model_module_version": "1.5.0",
     "model_name": "DescriptionStyleModel",
     "state": {
      "_model_module": "@jupyter-widgets/controls",
      "_model_module_version": "1.5.0",
      "_model_name": "DescriptionStyleModel",
      "_view_count": null,
      "_view_module": "@jupyter-widgets/base",
      "_view_module_version": "1.2.0",
      "_view_name": "StyleView",
      "description_width": ""
     }
    },
    "ad222e6f87c245a8b48857d571f7ad73": {
     "model_module": "@jupyter-widgets/base",
     "model_module_version": "1.2.0",
     "model_name": "LayoutModel",
     "state": {
      "_model_module": "@jupyter-widgets/base",
      "_model_module_version": "1.2.0",
      "_model_name": "LayoutModel",
      "_view_count": null,
      "_view_module": "@jupyter-widgets/base",
      "_view_module_version": "1.2.0",
      "_view_name": "LayoutView",
      "align_content": null,
      "align_items": null,
      "align_self": null,
      "border": null,
      "bottom": null,
      "display": null,
      "flex": null,
      "flex_flow": null,
      "grid_area": null,
      "grid_auto_columns": null,
      "grid_auto_flow": null,
      "grid_auto_rows": null,
      "grid_column": null,
      "grid_gap": null,
      "grid_row": null,
      "grid_template_areas": null,
      "grid_template_columns": null,
      "grid_template_rows": null,
      "height": null,
      "justify_content": null,
      "justify_items": null,
      "left": null,
      "margin": null,
      "max_height": null,
      "max_width": null,
      "min_height": null,
      "min_width": null,
      "object_fit": null,
      "object_position": null,
      "order": null,
      "overflow": null,
      "overflow_x": null,
      "overflow_y": null,
      "padding": null,
      "right": null,
      "top": null,
      "visibility": null,
      "width": null
     }
    },
    "ae6967648f4c46a7931e0bc9e145445b": {
     "model_module": "@jupyter-widgets/controls",
     "model_module_version": "1.5.0",
     "model_name": "HTMLModel",
     "state": {
      "_dom_classes": [],
      "_model_module": "@jupyter-widgets/controls",
      "_model_module_version": "1.5.0",
      "_model_name": "HTMLModel",
      "_view_count": null,
      "_view_module": "@jupyter-widgets/controls",
      "_view_module_version": "1.5.0",
      "_view_name": "HTMLView",
      "description": "",
      "description_tooltip": null,
      "layout": "IPY_MODEL_d90f4509622543a98425bf475dedc8ad",
      "placeholder": "​",
      "style": "IPY_MODEL_e21d01d6f99b485483cbe7d3424e4093",
      "value": "Downloading: 100%"
     }
    },
    "b2789c1fd4c644e8beb418340d912cb4": {
     "model_module": "@jupyter-widgets/base",
     "model_module_version": "1.2.0",
     "model_name": "LayoutModel",
     "state": {
      "_model_module": "@jupyter-widgets/base",
      "_model_module_version": "1.2.0",
      "_model_name": "LayoutModel",
      "_view_count": null,
      "_view_module": "@jupyter-widgets/base",
      "_view_module_version": "1.2.0",
      "_view_name": "LayoutView",
      "align_content": null,
      "align_items": null,
      "align_self": null,
      "border": null,
      "bottom": null,
      "display": null,
      "flex": null,
      "flex_flow": null,
      "grid_area": null,
      "grid_auto_columns": null,
      "grid_auto_flow": null,
      "grid_auto_rows": null,
      "grid_column": null,
      "grid_gap": null,
      "grid_row": null,
      "grid_template_areas": null,
      "grid_template_columns": null,
      "grid_template_rows": null,
      "height": null,
      "justify_content": null,
      "justify_items": null,
      "left": null,
      "margin": null,
      "max_height": null,
      "max_width": null,
      "min_height": null,
      "min_width": null,
      "object_fit": null,
      "object_position": null,
      "order": null,
      "overflow": null,
      "overflow_x": null,
      "overflow_y": null,
      "padding": null,
      "right": null,
      "top": null,
      "visibility": null,
      "width": null
     }
    },
    "bbf42144a15242adb01984d943ae8d1d": {
     "model_module": "@jupyter-widgets/base",
     "model_module_version": "1.2.0",
     "model_name": "LayoutModel",
     "state": {
      "_model_module": "@jupyter-widgets/base",
      "_model_module_version": "1.2.0",
      "_model_name": "LayoutModel",
      "_view_count": null,
      "_view_module": "@jupyter-widgets/base",
      "_view_module_version": "1.2.0",
      "_view_name": "LayoutView",
      "align_content": null,
      "align_items": null,
      "align_self": null,
      "border": null,
      "bottom": null,
      "display": null,
      "flex": null,
      "flex_flow": null,
      "grid_area": null,
      "grid_auto_columns": null,
      "grid_auto_flow": null,
      "grid_auto_rows": null,
      "grid_column": null,
      "grid_gap": null,
      "grid_row": null,
      "grid_template_areas": null,
      "grid_template_columns": null,
      "grid_template_rows": null,
      "height": null,
      "justify_content": null,
      "justify_items": null,
      "left": null,
      "margin": null,
      "max_height": null,
      "max_width": null,
      "min_height": null,
      "min_width": null,
      "object_fit": null,
      "object_position": null,
      "order": null,
      "overflow": null,
      "overflow_x": null,
      "overflow_y": null,
      "padding": null,
      "right": null,
      "top": null,
      "visibility": null,
      "width": null
     }
    },
    "cd86681f9a814914a13d9d5c2204f8e9": {
     "model_module": "@jupyter-widgets/controls",
     "model_module_version": "1.5.0",
     "model_name": "HTMLModel",
     "state": {
      "_dom_classes": [],
      "_model_module": "@jupyter-widgets/controls",
      "_model_module_version": "1.5.0",
      "_model_name": "HTMLModel",
      "_view_count": null,
      "_view_module": "@jupyter-widgets/controls",
      "_view_module_version": "1.5.0",
      "_view_name": "HTMLView",
      "description": "",
      "description_tooltip": null,
      "layout": "IPY_MODEL_9bdb6ba6066e4c97a1a5dc2925c6971f",
      "placeholder": "​",
      "style": "IPY_MODEL_ddde60d75e4e4f64af8cfceae8f001b0",
      "value": "100%"
     }
    },
    "ce18882c12e74faba3c9b724e21f8513": {
     "model_module": "@jupyter-widgets/controls",
     "model_module_version": "1.5.0",
     "model_name": "ProgressStyleModel",
     "state": {
      "_model_module": "@jupyter-widgets/controls",
      "_model_module_version": "1.5.0",
      "_model_name": "ProgressStyleModel",
      "_view_count": null,
      "_view_module": "@jupyter-widgets/base",
      "_view_module_version": "1.2.0",
      "_view_name": "StyleView",
      "bar_color": null,
      "description_width": ""
     }
    },
    "d90f4509622543a98425bf475dedc8ad": {
     "model_module": "@jupyter-widgets/base",
     "model_module_version": "1.2.0",
     "model_name": "LayoutModel",
     "state": {
      "_model_module": "@jupyter-widgets/base",
      "_model_module_version": "1.2.0",
      "_model_name": "LayoutModel",
      "_view_count": null,
      "_view_module": "@jupyter-widgets/base",
      "_view_module_version": "1.2.0",
      "_view_name": "LayoutView",
      "align_content": null,
      "align_items": null,
      "align_self": null,
      "border": null,
      "bottom": null,
      "display": null,
      "flex": null,
      "flex_flow": null,
      "grid_area": null,
      "grid_auto_columns": null,
      "grid_auto_flow": null,
      "grid_auto_rows": null,
      "grid_column": null,
      "grid_gap": null,
      "grid_row": null,
      "grid_template_areas": null,
      "grid_template_columns": null,
      "grid_template_rows": null,
      "height": null,
      "justify_content": null,
      "justify_items": null,
      "left": null,
      "margin": null,
      "max_height": null,
      "max_width": null,
      "min_height": null,
      "min_width": null,
      "object_fit": null,
      "object_position": null,
      "order": null,
      "overflow": null,
      "overflow_x": null,
      "overflow_y": null,
      "padding": null,
      "right": null,
      "top": null,
      "visibility": null,
      "width": null
     }
    },
    "ddde60d75e4e4f64af8cfceae8f001b0": {
     "model_module": "@jupyter-widgets/controls",
     "model_module_version": "1.5.0",
     "model_name": "DescriptionStyleModel",
     "state": {
      "_model_module": "@jupyter-widgets/controls",
      "_model_module_version": "1.5.0",
      "_model_name": "DescriptionStyleModel",
      "_view_count": null,
      "_view_module": "@jupyter-widgets/base",
      "_view_module_version": "1.2.0",
      "_view_name": "StyleView",
      "description_width": ""
     }
    },
    "dfc507b035fb4abb8aec7657c5062e28": {
     "model_module": "@jupyter-widgets/controls",
     "model_module_version": "1.5.0",
     "model_name": "FloatProgressModel",
     "state": {
      "_dom_classes": [],
      "_model_module": "@jupyter-widgets/controls",
      "_model_module_version": "1.5.0",
      "_model_name": "FloatProgressModel",
      "_view_count": null,
      "_view_module": "@jupyter-widgets/controls",
      "_view_module_version": "1.5.0",
      "_view_name": "ProgressView",
      "bar_style": "success",
      "description": "",
      "description_tooltip": null,
      "layout": "IPY_MODEL_4376e6334a76494987ae85d972b1c0bc",
      "max": 256,
      "min": 0,
      "orientation": "horizontal",
      "style": "IPY_MODEL_fe48b10d483748628664e64821345fa2",
      "value": 256
     }
    },
    "e21d01d6f99b485483cbe7d3424e4093": {
     "model_module": "@jupyter-widgets/controls",
     "model_module_version": "1.5.0",
     "model_name": "DescriptionStyleModel",
     "state": {
      "_model_module": "@jupyter-widgets/controls",
      "_model_module_version": "1.5.0",
      "_model_name": "DescriptionStyleModel",
      "_view_count": null,
      "_view_module": "@jupyter-widgets/base",
      "_view_module_version": "1.2.0",
      "_view_name": "StyleView",
      "description_width": ""
     }
    },
    "e46069d00558434fb871b09e431c127b": {
     "model_module": "@jupyter-widgets/controls",
     "model_module_version": "1.5.0",
     "model_name": "HTMLModel",
     "state": {
      "_dom_classes": [],
      "_model_module": "@jupyter-widgets/controls",
      "_model_module_version": "1.5.0",
      "_model_name": "HTMLModel",
      "_view_count": null,
      "_view_module": "@jupyter-widgets/controls",
      "_view_module_version": "1.5.0",
      "_view_name": "HTMLView",
      "description": "",
      "description_tooltip": null,
      "layout": "IPY_MODEL_4d84d12803084eaea6efe35b6effdf6b",
      "placeholder": "​",
      "style": "IPY_MODEL_aa2270981ede4dc394616e144d28612d",
      "value": "100%"
     }
    },
    "e4fedeca26b84decaf09181959268c44": {
     "model_module": "@jupyter-widgets/controls",
     "model_module_version": "1.5.0",
     "model_name": "HBoxModel",
     "state": {
      "_dom_classes": [],
      "_model_module": "@jupyter-widgets/controls",
      "_model_module_version": "1.5.0",
      "_model_name": "HBoxModel",
      "_view_count": null,
      "_view_module": "@jupyter-widgets/controls",
      "_view_module_version": "1.5.0",
      "_view_name": "HBoxView",
      "box_style": "",
      "children": [
       "IPY_MODEL_94dc2a3488b044fda0b51cd326788f3d",
       "IPY_MODEL_2cd5c49c4e44414cac95dc8f564c6447",
       "IPY_MODEL_a26242544d6c469c913e0eb5fb272394"
      ],
      "layout": "IPY_MODEL_9783df9e95d74d89a82e67dd39a779b5"
     }
    },
    "e901d5a0279a42e49269c2465d8985e5": {
     "model_module": "@jupyter-widgets/controls",
     "model_module_version": "1.5.0",
     "model_name": "DescriptionStyleModel",
     "state": {
      "_model_module": "@jupyter-widgets/controls",
      "_model_module_version": "1.5.0",
      "_model_name": "DescriptionStyleModel",
      "_view_count": null,
      "_view_module": "@jupyter-widgets/base",
      "_view_module_version": "1.2.0",
      "_view_name": "StyleView",
      "description_width": ""
     }
    },
    "eb1c1c28d03046019546ac3c873b1570": {
     "model_module": "@jupyter-widgets/base",
     "model_module_version": "1.2.0",
     "model_name": "LayoutModel",
     "state": {
      "_model_module": "@jupyter-widgets/base",
      "_model_module_version": "1.2.0",
      "_model_name": "LayoutModel",
      "_view_count": null,
      "_view_module": "@jupyter-widgets/base",
      "_view_module_version": "1.2.0",
      "_view_name": "LayoutView",
      "align_content": null,
      "align_items": null,
      "align_self": null,
      "border": null,
      "bottom": null,
      "display": null,
      "flex": null,
      "flex_flow": null,
      "grid_area": null,
      "grid_auto_columns": null,
      "grid_auto_flow": null,
      "grid_auto_rows": null,
      "grid_column": null,
      "grid_gap": null,
      "grid_row": null,
      "grid_template_areas": null,
      "grid_template_columns": null,
      "grid_template_rows": null,
      "height": null,
      "justify_content": null,
      "justify_items": null,
      "left": null,
      "margin": null,
      "max_height": null,
      "max_width": null,
      "min_height": null,
      "min_width": null,
      "object_fit": null,
      "object_position": null,
      "order": null,
      "overflow": null,
      "overflow_x": null,
      "overflow_y": null,
      "padding": null,
      "right": null,
      "top": null,
      "visibility": null,
      "width": null
     }
    },
    "edc1303de6fe4c99abc9b19ac9a9b298": {
     "model_module": "@jupyter-widgets/base",
     "model_module_version": "1.2.0",
     "model_name": "LayoutModel",
     "state": {
      "_model_module": "@jupyter-widgets/base",
      "_model_module_version": "1.2.0",
      "_model_name": "LayoutModel",
      "_view_count": null,
      "_view_module": "@jupyter-widgets/base",
      "_view_module_version": "1.2.0",
      "_view_name": "LayoutView",
      "align_content": null,
      "align_items": null,
      "align_self": null,
      "border": null,
      "bottom": null,
      "display": null,
      "flex": null,
      "flex_flow": null,
      "grid_area": null,
      "grid_auto_columns": null,
      "grid_auto_flow": null,
      "grid_auto_rows": null,
      "grid_column": null,
      "grid_gap": null,
      "grid_row": null,
      "grid_template_areas": null,
      "grid_template_columns": null,
      "grid_template_rows": null,
      "height": null,
      "justify_content": null,
      "justify_items": null,
      "left": null,
      "margin": null,
      "max_height": null,
      "max_width": null,
      "min_height": null,
      "min_width": null,
      "object_fit": null,
      "object_position": null,
      "order": null,
      "overflow": null,
      "overflow_x": null,
      "overflow_y": null,
      "padding": null,
      "right": null,
      "top": null,
      "visibility": null,
      "width": null
     }
    },
    "fbadd2771f1d4483ac1f942443aed528": {
     "model_module": "@jupyter-widgets/base",
     "model_module_version": "1.2.0",
     "model_name": "LayoutModel",
     "state": {
      "_model_module": "@jupyter-widgets/base",
      "_model_module_version": "1.2.0",
      "_model_name": "LayoutModel",
      "_view_count": null,
      "_view_module": "@jupyter-widgets/base",
      "_view_module_version": "1.2.0",
      "_view_name": "LayoutView",
      "align_content": null,
      "align_items": null,
      "align_self": null,
      "border": null,
      "bottom": null,
      "display": null,
      "flex": null,
      "flex_flow": null,
      "grid_area": null,
      "grid_auto_columns": null,
      "grid_auto_flow": null,
      "grid_auto_rows": null,
      "grid_column": null,
      "grid_gap": null,
      "grid_row": null,
      "grid_template_areas": null,
      "grid_template_columns": null,
      "grid_template_rows": null,
      "height": null,
      "justify_content": null,
      "justify_items": null,
      "left": null,
      "margin": null,
      "max_height": null,
      "max_width": null,
      "min_height": null,
      "min_width": null,
      "object_fit": null,
      "object_position": null,
      "order": null,
      "overflow": null,
      "overflow_x": null,
      "overflow_y": null,
      "padding": null,
      "right": null,
      "top": null,
      "visibility": null,
      "width": null
     }
    },
    "fe48b10d483748628664e64821345fa2": {
     "model_module": "@jupyter-widgets/controls",
     "model_module_version": "1.5.0",
     "model_name": "ProgressStyleModel",
     "state": {
      "_model_module": "@jupyter-widgets/controls",
      "_model_module_version": "1.5.0",
      "_model_name": "ProgressStyleModel",
      "_view_count": null,
      "_view_module": "@jupyter-widgets/base",
      "_view_module_version": "1.2.0",
      "_view_name": "StyleView",
      "bar_color": null,
      "description_width": ""
     }
    }
   }
  }
 },
 "nbformat": 4,
 "nbformat_minor": 1
}
