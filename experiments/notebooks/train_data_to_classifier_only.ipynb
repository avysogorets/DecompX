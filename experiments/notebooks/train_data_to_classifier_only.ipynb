{
 "cells": [
  {
   "cell_type": "code",
   "execution_count": 1,
   "metadata": {},
   "outputs": [],
   "source": [
    "import pickle"
   ]
  },
  {
   "cell_type": "code",
   "execution_count": 2,
   "metadata": {},
   "outputs": [],
   "source": [
    "def load(path):\n",
    "    with open(path, \"rb\") as f:\n",
    "        data = pickle.load(f)\n",
    "    return data\n",
    "\n",
    "def save(data, path):\n",
    "    print(path)\n",
    "    with open(path, \"wb\") as f:\n",
    "        pickle.dump(data, f)"
   ]
  },
  {
   "cell_type": "code",
   "execution_count": 3,
   "metadata": {},
   "outputs": [],
   "source": [
    "paths = [\n",
    "\"/home/modaresi/projects/globenc_analysis/outputs/globencs_v3/[hatexplain]_[train]_[output_hatexplain_bert-base-uncased_0001_SEED0042-checkpoint-2405]_[Decomposition AbsDot Bias].pkl\",\n",
    "# \"/home/modaresi/projects/globenc_analysis/outputs/globencs_v3/[hatexplain]_[train]_[output_hatexplain_bert-base-uncased_0001_SEED0042-checkpoint-2405]_[GlobEnc No Bias FFN].pkl\",\n",
    "\"/home/modaresi/projects/globenc_analysis/outputs/globencs_v3/[mnli]_[train]_[output_mnli_bert-base-uncased_0001_SEED0042-checkpoint-61360]_[Decomposition AbsDot Bias].pkl\",\n",
    "# \"/home/modaresi/projects/globenc_analysis/outputs/globencs_v3/[mnli]_[train]_[output_mnli_bert-base-uncased_0001_SEED0042-checkpoint-61360]_[GlobEnc No Bias FFN].pkl\",\n",
    "\"/home/modaresi/projects/globenc_analysis/outputs/globencs_v3/[qnli]_[train]_[output_qnli_bert-base-uncased_0001_SEED0042-checkpoint-16370]_[Decomposition AbsDot Bias].pkl\",\n",
    "# \"/home/modaresi/projects/globenc_analysis/outputs/globencs_v3/[qnli]_[train]_[output_qnli_bert-base-uncased_0001_SEED0042-checkpoint-16370]_[GlobEnc No Bias FFN].pkl\",\n",
    "\"/home/modaresi/projects/globenc_analysis/outputs/globencs_v3/[sst2]_[train]_[output_sst2_bert-base-uncased_0001_SEED0042-checkpoint-10525]_[Decomposition AbsDot Bias].pkl\",\n",
    "# \"/home/modaresi/projects/globenc_analysis/outputs/globencs_v3/[sst2]_[train]_[output_sst2_bert-base-uncased_0001_SEED0042-checkpoint-10525]_[GlobEnc No Bias FFN].pkl\"\n",
    "]"
   ]
  },
  {
   "cell_type": "code",
   "execution_count": 4,
   "metadata": {},
   "outputs": [
    {
     "name": "stdout",
     "output_type": "stream",
     "text": [
      "/home/modaresi/projects/globenc_analysis/outputs/globencs_v3/compact_trains/[hatexplain]_[train]_[output_hatexplain_bert-base-uncased_0001_SEED0042-checkpoint-2405]_[Decomposition AbsDot Bias]_ONLYCLASSIFIERDATA.pkl\n",
      "/home/modaresi/projects/globenc_analysis/outputs/globencs_v3/compact_trains/[mnli]_[train]_[output_mnli_bert-base-uncased_0001_SEED0042-checkpoint-61360]_[Decomposition AbsDot Bias]_ONLYCLASSIFIERDATA.pkl\n",
      "/home/modaresi/projects/globenc_analysis/outputs/globencs_v3/compact_trains/[qnli]_[train]_[output_qnli_bert-base-uncased_0001_SEED0042-checkpoint-16370]_[Decomposition AbsDot Bias]_ONLYCLASSIFIERDATA.pkl\n",
      "/home/modaresi/projects/globenc_analysis/outputs/globencs_v3/compact_trains/[sst2]_[train]_[output_sst2_bert-base-uncased_0001_SEED0042-checkpoint-10525]_[Decomposition AbsDot Bias]_ONLYCLASSIFIERDATA.pkl\n"
     ]
    }
   ],
   "source": [
    "import os\n",
    "\n",
    "for path in paths:\n",
    "    data = load(path)\n",
    "    dir_path = os.path.dirname(path)\n",
    "    filename = os.path.basename(path)\n",
    "    filename = os.path.splitext(filename)[0]\n",
    "    # print(filename)\n",
    "    new_path = os.path.join(*[dir_path,\"compact_trains/\"+filename+\"_ONLYCLASSIFIERDATA.pkl\"])\n",
    "    # break\n",
    "    new_data = data[['importance_last_layer_classifier', 'logits']].copy()\n",
    "    save(new_data, new_path)"
   ]
  },
  {
   "cell_type": "code",
   "execution_count": 5,
   "metadata": {},
   "outputs": [],
   "source": [
    "paths = [\n",
    "# \"/home/modaresi/projects/globenc_analysis/outputs/globencs_v3/[hatexplain]_[train]_[output_hatexplain_bert-base-uncased_0001_SEED0042-checkpoint-2405]_[Decomposition AbsDot Bias].pkl\",\n",
    "\"/home/modaresi/projects/globenc_analysis/outputs/globencs_v3/[hatexplain]_[train]_[output_hatexplain_bert-base-uncased_0001_SEED0042-checkpoint-2405]_[GlobEnc No Bias FFN].pkl\",\n",
    "# \"/home/modaresi/projects/globenc_analysis/outputs/globencs_v3/[mnli]_[train]_[output_mnli_bert-base-uncased_0001_SEED0042-checkpoint-61360]_[Decomposition AbsDot Bias].pkl\",\n",
    "\"/home/modaresi/projects/globenc_analysis/outputs/globencs_v3/[mnli]_[train]_[output_mnli_bert-base-uncased_0001_SEED0042-checkpoint-61360]_[GlobEnc No Bias FFN].pkl\",\n",
    "# \"/home/modaresi/projects/globenc_analysis/outputs/globencs_v3/[qnli]_[train]_[output_qnli_bert-base-uncased_0001_SEED0042-checkpoint-16370]_[Decomposition AbsDot Bias].pkl\",\n",
    "\"/home/modaresi/projects/globenc_analysis/outputs/globencs_v3/[qnli]_[train]_[output_qnli_bert-base-uncased_0001_SEED0042-checkpoint-16370]_[GlobEnc No Bias FFN].pkl\",\n",
    "# \"/home/modaresi/projects/globenc_analysis/outputs/globencs_v3/[sst2]_[train]_[output_sst2_bert-base-uncased_0001_SEED0042-checkpoint-10525]_[Decomposition AbsDot Bias].pkl\",\n",
    "\"/home/modaresi/projects/globenc_analysis/outputs/globencs_v3/[sst2]_[train]_[output_sst2_bert-base-uncased_0001_SEED0042-checkpoint-10525]_[GlobEnc No Bias FFN].pkl\"\n",
    "]"
   ]
  },
  {
   "cell_type": "code",
   "execution_count": 3,
   "metadata": {},
   "outputs": [],
   "source": [
    "paths = [\n",
    "    \"/home/modaresi/projects/globenc_analysis/outputs/globencs_v3_old/[hatexplain]_[train]_[output_hatexplain_bert-base-uncased_0001_SEED0042-checkpoint-2405]_[GlobEnc].pkl\"\n",
    "]"
   ]
  },
  {
   "cell_type": "code",
   "execution_count": 5,
   "metadata": {},
   "outputs": [
    {
     "name": "stdout",
     "output_type": "stream",
     "text": [
      "/home/modaresi/projects/globenc_analysis/outputs/globencs_v3_old/compact_trains/[hatexplain]_[train]_[output_hatexplain_bert-base-uncased_0001_SEED0042-checkpoint-2405]_[GlobEnc]_ONLYAGGREGATED_CLS_DATA.pkl\n"
     ]
    }
   ],
   "source": [
    "import os\n",
    "\n",
    "for path in paths:\n",
    "    data = load(path)\n",
    "    dir_path = os.path.dirname(path)\n",
    "    filename = os.path.basename(path)\n",
    "    filename = os.path.splitext(filename)[0]\n",
    "    # print(filename)\n",
    "    new_path = os.path.join(*[dir_path,\"compact_trains/\"+filename+\"_ONLYAGGREGATED_CLS_DATA.pkl\"])\n",
    "    # break\n",
    "    new_data = data[['importance_last_layer_aggregated']].copy()\n",
    "    new_data['importance_last_layer_aggregated'] = new_data['importance_last_layer_aggregated'].apply(lambda x: x[0])\n",
    "    save(new_data, new_path)"
   ]
  },
  {
   "cell_type": "code",
   "execution_count": 24,
   "metadata": {},
   "outputs": [],
   "source": []
  },
  {
   "cell_type": "code",
   "execution_count": null,
   "metadata": {},
   "outputs": [],
   "source": []
  }
 ],
 "metadata": {
  "kernelspec": {
   "display_name": "globenc-venv",
   "language": "python",
   "name": "python3"
  },
  "language_info": {
   "codemirror_mode": {
    "name": "ipython",
    "version": 3
   },
   "file_extension": ".py",
   "mimetype": "text/x-python",
   "name": "python",
   "nbconvert_exporter": "python",
   "pygments_lexer": "ipython3",
   "version": "3.7.13"
  },
  "orig_nbformat": 4,
  "vscode": {
   "interpreter": {
    "hash": "ad96aab5654ccd4e66bf13bd728d9d4512a27ebcee40fc973a7275c9c55ebd75"
   }
  }
 },
 "nbformat": 4,
 "nbformat_minor": 2
}
