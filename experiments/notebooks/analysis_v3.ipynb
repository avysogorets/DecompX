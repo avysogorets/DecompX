{
 "cells": [
  {
   "cell_type": "code",
   "execution_count": 22,
   "id": "317fb3d8",
   "metadata": {},
   "outputs": [],
   "source": [
    "import torch\n",
    "import numpy as np\n",
    "import datasets\n",
    "import pickle\n",
    "import pathlib\n",
    "import os\n",
    "from scipy import stats\n",
    "from scipy.spatial import distance\n",
    "from tqdm.auto import tqdm\n",
    "import seaborn as sns\n",
    "import matplotlib.pyplot as plt\n",
    "import pandas as pd\n",
    "from IPython.display import display, HTML\n",
    "from datasets import load_dataset\n",
    "import sklearn.metrics\n",
    "from WeightedCorr import WeightedCorr\n",
    "\n",
    "globencs_dir = \"/home/modaresi/projects/globenc_analysis/outputs/globencs\"\n",
    "models_dir = \"/home/modaresi/projects/globenc_analysis/outputs/models\"\n",
    "configs = {\n",
    "    \"sst2\": {\n",
    "        \"globenc_path\": lambda epoch : f\"{globencs_dir}/sst2-e{epoch}_train_bert-base-uncased.pickle\",\n",
    "        \"logits_path\": f\"{models_dir}/output_sst2_bert-base-uncased_0001_SEED0042/training_dynamics_after_step/\",\n",
    "        \"hf_ds\": \"sst2\",\n",
    "    },\n",
    "    \"sst2-large\": {\n",
    "        \"globenc_path\": lambda epoch : f\"{globencs_dir}/sst2-e{epoch}_train_bert-large-uncased.pickle\",\n",
    "        \"logits_path\": f\"{models_dir}/output_sst2_bert-large-uncased_0001_SEED0042/training_dynamics_after_step/\",\n",
    "        \"hf_ds\": \"sst2\",\n",
    "    },\n",
    "    \"mnli\": {\n",
    "        \"globenc_path\": lambda epoch : f\"{globencs_dir}/mnli-e{epoch}_train_bert-base-uncased.pickle\",\n",
    "        \"logits_path\": f\"{models_dir}/output_mnli_bert-base-uncased_0001_SEED0042/training_dynamics_after_epoch\",\n",
    "        \"hf_ds\": \"mnli\",\n",
    "    },\n",
    "    \"mnli-val\": {\n",
    "        \"globenc_path\": lambda epoch : f\"{globencs_dir}/mnli-e{epoch}_validation_matched.pickle\",\n",
    "        \"logits_path\": f\"{models_dir}/output_mnli_bert-base-uncased_0001_SEED0042/training_dynamics_after_epoch\",\n",
    "        \"hf_ds\": \"mnli\",\n",
    "    },\n",
    "    \"cola\": {\n",
    "        \"globenc_path\": lambda epoch : f\"{globencs_dir}/cola-e{epoch}_train_bert-base-uncased.pickle\",\n",
    "        \"logits_path\": f\"{models_dir}/output_cola_bert-base-uncased_0001_SEED0042/training_dynamics_after_epoch\",\n",
    "        \"hf_ds\": \"cola\",\n",
    "    },\n",
    "    \"mrpc\": {\n",
    "        \"globenc_path\": lambda epoch : f\"{globencs_dir}/mrpc-e{epoch}_train_bert-base-uncased.pickle\",\n",
    "        \"logits_path\": f\"{models_dir}/output_mrpc_bert-base-uncased_0001_SEED0042/training_dynamics_after_step\",\n",
    "        \"hf_ds\": \"mrpc\",\n",
    "    },\n",
    "    \"qnli\": {\n",
    "        \"globenc_path\": lambda epoch : f\"{globencs_dir}/qnli-e{epoch}_train_bert-base-uncased.pickle\",\n",
    "        \"logits_path\": f\"{models_dir}/output_qnli_bert-base-uncased_0001_SEED0042/training_dynamics_after_epoch\",\n",
    "        \"hf_ds\": \"qnli\",\n",
    "    },\n",
    "    \n",
    "    \"multibert-seed-qnli\": {\n",
    "        \"globenc_path\": lambda seed : f\"{globencs_dir}/multibert-qnli-s{seed}_train_google-multiberts-seed_0.pickle\",\n",
    "#         \"logits_path\": f\"{models_dir}/output_qnli_bert-base-uncased_0001_SEED0042/training_dynamics_after_epoch\",\n",
    "        \"hf_ds\": \"qnli\",\n",
    "    },\n",
    "    \n",
    "    \"multibert-seed-sst2\": {\n",
    "        \"globenc_path\": lambda seed : f\"{globencs_dir}/multibert-sst2-s{seed}_train_google-multiberts-seed_0.pickle\",\n",
    "#         \"logits_path\": f\"{models_dir}/output_qnli_bert-base-uncased_0001_SEED0042/training_dynamics_after_epoch\",\n",
    "        \"hf_ds\": \"sst2\",\n",
    "    },\n",
    "    \"multibert-seed-cola\": {\n",
    "        \"globenc_path\": lambda seed : f\"{globencs_dir}/multibert-cola-s{seed}_train_google-multiberts-seed_0.pickle\",\n",
    "#         \"logits_path\": f\"{models_dir}/output_qnli_bert-base-uncased_0001_SEED0042/training_dynamics_after_epoch\",\n",
    "        \"hf_ds\": \"cola\",\n",
    "    },\n",
    "    \"multibert-step20k-sst2\": {\n",
    "        \"globenc_path\": lambda step : f\"{globencs_dir}/multibert-sst2-e{step}-20k_train_google-multiberts-seed_0-step_0k.pickle\",\n",
    "#         \"logits_path\": f\"{models_dir}/output_qnli_bert-base-uncased_0001_SEED0042/training_dynamics_after_epoch\",\n",
    "        \"hf_ds\": \"sst2\",\n",
    "    },\n",
    "    \"multibert-step400k-sst2\": {\n",
    "        \"globenc_path\": lambda step : f\"{globencs_dir}/multibert-sst2-e{step}-400k_train_google-multiberts-seed_0-step_0k.pickle\",\n",
    "#         \"logits_path\": f\"{models_dir}/output_qnli_bert-base-uncased_0001_SEED0042/training_dynamics_after_epoch\",\n",
    "        \"hf_ds\": \"sst2\",\n",
    "    },\n",
    "}\n",
    "\n",
    "CONFIG_NAME = \"mnli\"\n",
    "CONFIG = configs[CONFIG_NAME]  # sst2/mnli/cola/mrpc"
   ]
  },
  {
   "cell_type": "code",
   "execution_count": 29,
   "id": "dd4cd445",
   "metadata": {},
   "outputs": [],
   "source": [
    "CORR = \"w_corr\""
   ]
  },
  {
   "cell_type": "code",
   "execution_count": 24,
   "id": "b3e35339",
   "metadata": {},
   "outputs": [],
   "source": [
    "def load_pickle(path):\n",
    "    with open(path, 'rb') as f:\n",
    "        data = pickle.load(f)\n",
    "    print(f\"Read {path}\")\n",
    "    return data"
   ]
  },
  {
   "cell_type": "code",
   "execution_count": 25,
   "id": "06004008",
   "metadata": {
    "scrolled": true
   },
   "outputs": [
    {
     "data": {
      "application/vnd.jupyter.widget-view+json": {
       "model_id": "28c51f29dbe9435ca32b46c262587757",
       "version_major": 2,
       "version_minor": 0
      },
      "text/plain": [
       "  0%|          | 0/6 [00:00<?, ?it/s]"
      ]
     },
     "metadata": {},
     "output_type": "display_data"
    },
    {
     "name": "stdout",
     "output_type": "stream",
     "text": [
      "Read /home/modaresi/projects/globenc_analysis/outputs/globencs/mnli-e0_train_bert-base-uncased.pickle\n",
      "Read /home/modaresi/projects/globenc_analysis/outputs/globencs/mnli-e1_train_bert-base-uncased.pickle\n",
      "Read /home/modaresi/projects/globenc_analysis/outputs/globencs/mnli-e2_train_bert-base-uncased.pickle\n",
      "Read /home/modaresi/projects/globenc_analysis/outputs/globencs/mnli-e3_train_bert-base-uncased.pickle\n",
      "Read /home/modaresi/projects/globenc_analysis/outputs/globencs/mnli-e4_train_bert-base-uncased.pickle\n",
      "Read /home/modaresi/projects/globenc_analysis/outputs/globencs/mnli-e5_train_bert-base-uncased.pickle\n"
     ]
    },
    {
     "data": {
      "text/html": [
       "<div>\n",
       "<style scoped>\n",
       "    .dataframe tbody tr th:only-of-type {\n",
       "        vertical-align: middle;\n",
       "    }\n",
       "\n",
       "    .dataframe tbody tr th {\n",
       "        vertical-align: top;\n",
       "    }\n",
       "\n",
       "    .dataframe thead th {\n",
       "        text-align: right;\n",
       "    }\n",
       "</style>\n",
       "<table border=\"1\" class=\"dataframe\">\n",
       "  <thead>\n",
       "    <tr style=\"text-align: right;\">\n",
       "      <th></th>\n",
       "      <th>globenc</th>\n",
       "      <th>tokens</th>\n",
       "      <th>cls</th>\n",
       "    </tr>\n",
       "  </thead>\n",
       "  <tbody>\n",
       "    <tr>\n",
       "      <th>0</th>\n",
       "      <td>[[5738267000000000.0, 5472449000000000.0, 4251...</td>\n",
       "      <td>[[CLS], conceptual, ##ly, cream, ski, ##mming,...</td>\n",
       "      <td>[-0.9452542, 0.12105372, -0.60921425, -0.48833...</td>\n",
       "    </tr>\n",
       "    <tr>\n",
       "      <th>1</th>\n",
       "      <td>[[1.2718785e+16, 5933184000000000.0, 545253300...</td>\n",
       "      <td>[[CLS], you, know, during, the, season, and, i...</td>\n",
       "      <td>[-0.64641106, 0.13749051, -0.5467298, -0.08347...</td>\n",
       "    </tr>\n",
       "    <tr>\n",
       "      <th>2</th>\n",
       "      <td>[[3467725700000000.0, 1976973400000000.0, 1788...</td>\n",
       "      <td>[[CLS], one, of, our, number, will, carry, out...</td>\n",
       "      <td>[-0.44309825, 0.3751391, -0.65025914, -0.06511...</td>\n",
       "    </tr>\n",
       "    <tr>\n",
       "      <th>3</th>\n",
       "      <td>[[2842100400000000.0, 2623708000000000.0, 1724...</td>\n",
       "      <td>[[CLS], how, do, you, know, ?, all, this, is, ...</td>\n",
       "      <td>[-0.20789751, 0.60683304, -0.22151911, -0.1110...</td>\n",
       "    </tr>\n",
       "    <tr>\n",
       "      <th>4</th>\n",
       "      <td>[[5153049000000000.0, 4442750000000000.0, 2845...</td>\n",
       "      <td>[[CLS], yeah, i, tell, you, what, though, if, ...</td>\n",
       "      <td>[-0.3337493, 0.29966134, -0.5045794, -0.232158...</td>\n",
       "    </tr>\n",
       "    <tr>\n",
       "      <th>...</th>\n",
       "      <td>...</td>\n",
       "      <td>...</td>\n",
       "      <td>...</td>\n",
       "    </tr>\n",
       "    <tr>\n",
       "      <th>392697</th>\n",
       "      <td>[[4231117800000000.0, 4725140500000000.0, 2591...</td>\n",
       "      <td>[[CLS], clearly, ,, california, can, -, and, m...</td>\n",
       "      <td>[-0.64128923, 0.21204619, -0.9020296, -0.48419...</td>\n",
       "    </tr>\n",
       "    <tr>\n",
       "      <th>392698</th>\n",
       "      <td>[[6258556000000000.0, 2422252800000000.0, 2963...</td>\n",
       "      <td>[[CLS], it, was, once, regarded, as, the, most...</td>\n",
       "      <td>[-0.9453015, 0.21021597, -0.252484, -0.3474131...</td>\n",
       "    </tr>\n",
       "    <tr>\n",
       "      <th>392699</th>\n",
       "      <td>[[4160070400000000.0, 3252803400000000.0, 5302...</td>\n",
       "      <td>[[CLS], house, ##boats, are, a, beautifully, p...</td>\n",
       "      <td>[-0.5665779, 0.26888448, -0.7841134, -0.428683...</td>\n",
       "    </tr>\n",
       "    <tr>\n",
       "      <th>392700</th>\n",
       "      <td>[[5954601000000000.0, 3971444900000000.0, 3418...</td>\n",
       "      <td>[[CLS], ob, ##it, ##uaries, fond, ##ly, recall...</td>\n",
       "      <td>[-0.81801647, 0.21685575, -0.6798471, -0.10737...</td>\n",
       "    </tr>\n",
       "    <tr>\n",
       "      <th>392701</th>\n",
       "      <td>[[1.1355301e+16, 3205956600000000.0, 356676180...</td>\n",
       "      <td>[[CLS], in, that, other, you, know, uh, that, ...</td>\n",
       "      <td>[-0.35033798, 0.2422759, -0.31451675, -0.22870...</td>\n",
       "    </tr>\n",
       "  </tbody>\n",
       "</table>\n",
       "<p>392702 rows × 3 columns</p>\n",
       "</div>"
      ],
      "text/plain": [
       "                                                  globenc  \\\n",
       "0       [[5738267000000000.0, 5472449000000000.0, 4251...   \n",
       "1       [[1.2718785e+16, 5933184000000000.0, 545253300...   \n",
       "2       [[3467725700000000.0, 1976973400000000.0, 1788...   \n",
       "3       [[2842100400000000.0, 2623708000000000.0, 1724...   \n",
       "4       [[5153049000000000.0, 4442750000000000.0, 2845...   \n",
       "...                                                   ...   \n",
       "392697  [[4231117800000000.0, 4725140500000000.0, 2591...   \n",
       "392698  [[6258556000000000.0, 2422252800000000.0, 2963...   \n",
       "392699  [[4160070400000000.0, 3252803400000000.0, 5302...   \n",
       "392700  [[5954601000000000.0, 3971444900000000.0, 3418...   \n",
       "392701  [[1.1355301e+16, 3205956600000000.0, 356676180...   \n",
       "\n",
       "                                                   tokens  \\\n",
       "0       [[CLS], conceptual, ##ly, cream, ski, ##mming,...   \n",
       "1       [[CLS], you, know, during, the, season, and, i...   \n",
       "2       [[CLS], one, of, our, number, will, carry, out...   \n",
       "3       [[CLS], how, do, you, know, ?, all, this, is, ...   \n",
       "4       [[CLS], yeah, i, tell, you, what, though, if, ...   \n",
       "...                                                   ...   \n",
       "392697  [[CLS], clearly, ,, california, can, -, and, m...   \n",
       "392698  [[CLS], it, was, once, regarded, as, the, most...   \n",
       "392699  [[CLS], house, ##boats, are, a, beautifully, p...   \n",
       "392700  [[CLS], ob, ##it, ##uaries, fond, ##ly, recall...   \n",
       "392701  [[CLS], in, that, other, you, know, uh, that, ...   \n",
       "\n",
       "                                                      cls  \n",
       "0       [-0.9452542, 0.12105372, -0.60921425, -0.48833...  \n",
       "1       [-0.64641106, 0.13749051, -0.5467298, -0.08347...  \n",
       "2       [-0.44309825, 0.3751391, -0.65025914, -0.06511...  \n",
       "3       [-0.20789751, 0.60683304, -0.22151911, -0.1110...  \n",
       "4       [-0.3337493, 0.29966134, -0.5045794, -0.232158...  \n",
       "...                                                   ...  \n",
       "392697  [-0.64128923, 0.21204619, -0.9020296, -0.48419...  \n",
       "392698  [-0.9453015, 0.21021597, -0.252484, -0.3474131...  \n",
       "392699  [-0.5665779, 0.26888448, -0.7841134, -0.428683...  \n",
       "392700  [-0.81801647, 0.21685575, -0.6798471, -0.10737...  \n",
       "392701  [-0.35033798, 0.2422759, -0.31451675, -0.22870...  \n",
       "\n",
       "[392702 rows x 3 columns]"
      ]
     },
     "execution_count": 25,
     "metadata": {},
     "output_type": "execute_result"
    }
   ],
   "source": [
    "globencs = list()  # [epoch, {globenc, tokens}, #]\n",
    "for epoch in tqdm(range(6)):\n",
    "    data = load_pickle(CONFIG[\"globenc_path\"](epoch))\n",
    "    globencs.append(data)\n",
    "    \n",
    "pd.DataFrame(globencs[0])"
   ]
  },
  {
   "cell_type": "code",
   "execution_count": 28,
   "id": "943db3cf",
   "metadata": {},
   "outputs": [],
   "source": [
    "def w_corr(x, y, w=None):\n",
    "    x = np.array(x) / np.max(x); y = np.array(y) / np.max(y); \n",
    "#     w = np.array(w) / np.max(w)\n",
    "    w = (x + y) ** 10\n",
    "    x_bar = np.average(x, weights=w)\n",
    "    y_bar = np.average(y, weights=w)\n",
    "    numerator = np.sum(w*(x-x_bar)*(y-y_bar))\n",
    "    denominator = np.sqrt(np.sum(w*((x-x_bar)**2)) * np.sum(w*((y-y_bar)**2)))\n",
    "    return numerator / denominator"
   ]
  },
  {
   "cell_type": "code",
   "execution_count": 10,
   "id": "2cac9cf8",
   "metadata": {},
   "outputs": [],
   "source": [
    "def compute_corr_one(a, b, corr):\n",
    "#     corr = stats.spearmanr(globenc1[i][\"globenc\"][-1, 0, :], globenc2[i][\"globenc\"][-1, 0, :]).correlation\n",
    "    if corr == \"corr\":\n",
    "        corr = stats.pearsonr(a, b)[0]\n",
    "    if corr == \"w_corr\":\n",
    "        corr = w_corr(a, b)\n",
    "    if corr == \"top_k_corr\":\n",
    "        corr = top_k_corr(a, b)\n",
    "    if corr == \"top_k_dist\":\n",
    "        corr = top_k_dist(a, b)\n",
    "    if corr == \"jensenshannon\":\n",
    "        return -distance.jensenshannon(a, b)\n",
    "#     corr = stats.kendalltau(a, b)[0]\n",
    "    return corr"
   ]
  },
  {
   "cell_type": "code",
   "execution_count": 9,
   "id": "38a93428",
   "metadata": {},
   "outputs": [],
   "source": [
    "def compute_corr(globenc1, globenc2, corr=\"corr\", disable_tqdm=False):\n",
    "    \"\"\"globenc1&2 must be [#, {globenc, token}]\"\"\"\n",
    "    spearmans = list()\n",
    "    for i in tqdm(range(len(globenc1[\"globenc\"])), disable=disable_tqdm):\n",
    "        spearmans.append(  # Last layer & CLS\n",
    "            compute_corr_one(globenc1[\"globenc\"][i][0, :], globenc2[\"globenc\"][i][0, :], corr)\n",
    "        )\n",
    "    return spearmans"
   ]
  },
  {
   "cell_type": "code",
   "execution_count": 11,
   "id": "c8a1771e",
   "metadata": {},
   "outputs": [],
   "source": [
    "def compute_cosine_similarity(globenc1, globenc2):\n",
    "    cos = list()\n",
    "    for i in tqdm(range(len(globenc1[\"cls\"]))):\n",
    "        cos.append(\n",
    "            sklearn.metrics.pairwise.cosine_similarity([globenc1[\"cls\"][i]], [globenc2[\"cls\"][i]])[0][0]\n",
    "        )\n",
    "    return cos"
   ]
  },
  {
   "cell_type": "code",
   "execution_count": 30,
   "id": "0c188d23",
   "metadata": {},
   "outputs": [
    {
     "data": {
      "application/vnd.jupyter.widget-view+json": {
       "model_id": "883b4e5c8a9943fb9e67502e34bda9ef",
       "version_major": 2,
       "version_minor": 0
      },
      "text/plain": [
       "  0%|          | 0/392702 [00:00<?, ?it/s]"
      ]
     },
     "metadata": {},
     "output_type": "display_data"
    },
    {
     "data": {
      "application/vnd.jupyter.widget-view+json": {
       "model_id": "ffcf767bbe694fc59f0fc1236062603f",
       "version_major": 2,
       "version_minor": 0
      },
      "text/plain": [
       "  0%|          | 0/392702 [00:00<?, ?it/s]"
      ]
     },
     "metadata": {},
     "output_type": "display_data"
    }
   ],
   "source": [
    "g_corr = compute_corr(globencs[0], globencs[-1], CORR)\n",
    "cls_cos = compute_cosine_similarity(globencs[0], globencs[-1])"
   ]
  },
  {
   "cell_type": "code",
   "execution_count": 31,
   "id": "11e0fede",
   "metadata": {},
   "outputs": [
    {
     "name": "stderr",
     "output_type": "stream",
     "text": [
      "Reusing dataset glue (/opt/huggingface/datasets/glue/mnli/1.0.0/dacbe3125aa31d7f70367a07a8a9e72a5a0bfeb5fc42e75c9db75b96da6053ad)\n"
     ]
    },
    {
     "name": "stdout",
     "output_type": "stream",
     "text": [
      "392702 392702\n"
     ]
    },
    {
     "data": {
      "image/png": "[encoded data removed]",
      "text/plain": [
       "<Figure size 864x288 with 2 Axes>"
      ]
     },
     "metadata": {
      "needs_background": "light"
     },
     "output_type": "display_data"
    }
   ],
   "source": [
    "ds = load_dataset(\"glue\", CONFIG[\"hf_ds\"], split=\"train\")\n",
    "print(len(g_corr), len(ds['label']))\n",
    "plt.figure(figsize=(12, 4))\n",
    "\n",
    "plt.subplot(1, 2, 1)\n",
    "df = pd.DataFrame({\"g_corr\": g_corr, \"label\": ds['label']})\n",
    "df.boxplot(by='label', ax=plt.gca())\n",
    "plt.subplot(1, 2, 2)\n",
    "\n",
    "df = pd.DataFrame({\"cls cos\": cls_cos, \"label\": ds['label']})\n",
    "df.boxplot(by='label', ax=plt.gca())\n",
    "plt.tight_layout()"
   ]
  },
  {
   "cell_type": "code",
   "execution_count": null,
   "id": "e52a2ff2",
   "metadata": {},
   "outputs": [],
   "source": []
  }
 ],
 "metadata": {
  "kernelspec": {
   "display_name": "Python 3 (ipykernel)",
   "language": "python",
   "name": "python3"
  },
  "language_info": {
   "codemirror_mode": {
    "name": "ipython",
    "version": 3
   },
   "file_extension": ".py",
   "mimetype": "text/x-python",
   "name": "python",
   "nbconvert_exporter": "python",
   "pygments_lexer": "ipython3",
   "version": "3.7.13"
  }
 },
 "nbformat": 4,
 "nbformat_minor": 5
}
