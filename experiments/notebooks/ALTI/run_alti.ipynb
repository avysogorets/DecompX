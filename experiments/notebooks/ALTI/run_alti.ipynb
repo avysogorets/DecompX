{
 "cells": [
  {
   "cell_type": "code",
   "execution_count": null,
   "id": "30d49b36",
   "metadata": {},
   "outputs": [],
   "source": [
    "! git clone https://github.com/mt-upc/transformer-contributions\n",
    "! pip install python-dotenv\n",
    "! pip install pyaml_env\n",
    "! pip install captum"
   ]
  },
  {
   "cell_type": "code",
   "execution_count": null,
   "id": "4cb30549",
   "metadata": {
    "scrolled": true
   },
   "outputs": [],
   "source": [
    "! cd transformer-contributions/ && python ./attributions.py --model bert --dataset sst2"
   ]
  },
  {
   "cell_type": "code",
   "execution_count": null,
   "id": "59fb9253",
   "metadata": {},
   "outputs": [],
   "source": [
    "! cd transformer-contributions/ && python ./attributions.py --model bert --dataset qnli"
   ]
  },
  {
   "cell_type": "code",
   "execution_count": null,
   "id": "e01e7b68",
   "metadata": {
    "scrolled": true
   },
   "outputs": [],
   "source": [
    "! cd transformer-contributions/ && python ./attributions.py --model bert --dataset hatexplain"
   ]
  },
  {
   "cell_type": "code",
   "execution_count": null,
   "id": "5daee398",
   "metadata": {},
   "outputs": [],
   "source": [
    "! cd transformer-contributions/ && python ./attributions.py --model bert --dataset mnli"
   ]
  },
  {
   "cell_type": "code",
   "execution_count": null,
   "id": "ad311e77",
   "metadata": {},
   "outputs": [],
   "source": [
    "from datasets import load_dataset\n",
    "\n",
    "ds = load_dataset(\"hatexplain\")"
   ]
  },
  {
   "cell_type": "code",
   "execution_count": null,
   "id": "dc0c7f8f",
   "metadata": {},
   "outputs": [],
   "source": [
    "ds"
   ]
  },
  {
   "cell_type": "code",
   "execution_count": null,
   "id": "db00ff66",
   "metadata": {},
   "outputs": [],
   "source": []
  }
 ],
 "metadata": {
  "kernelspec": {
   "display_name": "Python 3 (ipykernel)",
   "language": "python",
   "name": "python3"
  },
  "language_info": {
   "codemirror_mode": {
    "name": "ipython",
    "version": 3
   },
   "file_extension": ".py",
   "mimetype": "text/x-python",
   "name": "python",
   "nbconvert_exporter": "python",
   "pygments_lexer": "ipython3",
   "version": "3.7.13"
  }
 },
 "nbformat": 4,
 "nbformat_minor": 5
}
