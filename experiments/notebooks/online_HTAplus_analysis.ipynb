{
 "cells": [
  {
   "cell_type": "code",
   "execution_count": 1,
   "metadata": {},
   "outputs": [
    {
     "name": "stderr",
     "output_type": "stream",
     "text": [
      "2022-11-25 21:02:50.012977: I tensorflow/core/platform/cpu_feature_guard.cc:193] This TensorFlow binary is optimized with oneAPI Deep Neural Network Library (oneDNN) to use the following CPU instructions in performance-critical operations:  AVX2 AVX512F AVX512_VNNI FMA\n",
      "To enable them in other operations, rebuild TensorFlow with the appropriate compiler flags.\n",
      "2022-11-25 21:02:50.144960: I tensorflow/core/util/port.cc:104] oneDNN custom operations are on. You may see slightly different numerical results due to floating-point round-off errors from different computation orders. To turn them off, set the environment variable `TF_ENABLE_ONEDNN_OPTS=0`.\n",
      "2022-11-25 21:02:50.763830: W tensorflow/compiler/xla/stream_executor/platform/default/dso_loader.cc:64] Could not load dynamic library 'libnvinfer.so.7'; dlerror: libnvinfer.so.7: cannot open shared object file: No such file or directory; LD_LIBRARY_PATH: :/home/modaresi/.conda/envs/globenc-venv/lib/\n",
      "2022-11-25 21:02:50.763939: W tensorflow/compiler/xla/stream_executor/platform/default/dso_loader.cc:64] Could not load dynamic library 'libnvinfer_plugin.so.7'; dlerror: libnvinfer_plugin.so.7: cannot open shared object file: No such file or directory; LD_LIBRARY_PATH: :/home/modaresi/.conda/envs/globenc-venv/lib/\n",
      "2022-11-25 21:02:50.763945: W tensorflow/compiler/tf2tensorrt/utils/py_utils.cc:38] TF-TRT Warning: Cannot dlopen some TensorRT libraries. If you would like to use Nvidia GPU with TensorRT, please make sure the missing libraries mentioned above are installed properly.\n"
     ]
    },
    {
     "name": "stdout",
     "output_type": "stream",
     "text": [
      "PhysicalDevice(name='/physical_device:GPU:0', device_type='GPU')\n"
     ]
    },
    {
     "name": "stderr",
     "output_type": "stream",
     "text": [
      "2022-11-25 21:02:51.692057: I tensorflow/compiler/xla/stream_executor/cuda/cuda_gpu_executor.cc:981] successful NUMA node read from SysFS had negative value (-1), but there must be at least one NUMA node, so returning NUMA node zero\n",
      "2022-11-25 21:02:51.699162: I tensorflow/compiler/xla/stream_executor/cuda/cuda_gpu_executor.cc:981] successful NUMA node read from SysFS had negative value (-1), but there must be at least one NUMA node, so returning NUMA node zero\n",
      "2022-11-25 21:02:51.699311: I tensorflow/compiler/xla/stream_executor/cuda/cuda_gpu_executor.cc:981] successful NUMA node read from SysFS had negative value (-1), but there must be at least one NUMA node, so returning NUMA node zero\n"
     ]
    }
   ],
   "source": [
    "import os\n",
    "import numpy as np\n",
    "import tensorflow as tf\n",
    "\n",
    "gpus = tf.config.experimental.list_physical_devices('GPU')\n",
    "if gpus:\n",
    "    try:\n",
    "        tf.config.set_logical_device_configuration(\n",
    "        gpus[int(0)],\n",
    "        [tf.config.LogicalDeviceConfiguration(memory_limit=15000)])\n",
    "        tf.config.experimental.set_visible_devices(gpus[int(0)], 'GPU')\n",
    "        # tf.config.experimental.set_memory_growth(gpus[int(SELECTED_GPU)], True)\n",
    "        # tf.config.experimental.se.set_per_process_memory_fraction(0.92)\n",
    "        print(gpus[int(0)])\n",
    "    except RuntimeError as e:\n",
    "        print(e)\n",
    "else:\n",
    "    print('GPU not found!')\n",
    "\n",
    "# import matplotlib.pyplot as plt\n",
    "\n",
    "from scipy.stats import pearsonr, spearmanr\n",
    "\n",
    "import datasets\n",
    "from tqdm.auto import tqdm\n",
    "\n",
    "from transformers import (\n",
    "    AutoTokenizer,\n",
    "    TFBertForSequenceClassification\n",
    ")"
   ]
  },
  {
   "cell_type": "code",
   "execution_count": 2,
   "metadata": {},
   "outputs": [],
   "source": [
    "MODELS = {\n",
    "    \"mnli-e0\": \"bert-base-uncased\",\n",
    "    \"mnli-e1\": \"/home/modaresi/projects/globenc_analysis/outputs/models/output_mnli_bert-base-uncased_0001_SEED0042/checkpoint-12272\",\n",
    "    \"mnli-e2\": \"/home/modaresi/projects/globenc_analysis/outputs/models/output_mnli_bert-base-uncased_0001_SEED0042/checkpoint-24544\",\n",
    "    \"mnli-e3\": \"/home/modaresi/projects/globenc_analysis/outputs/models/output_mnli_bert-base-uncased_0001_SEED0042/checkpoint-36816\",\n",
    "    \"mnli-e4\": \"/home/modaresi/projects/globenc_analysis/outputs/models/output_mnli_bert-base-uncased_0001_SEED0042/checkpoint-49088\",\n",
    "    \"mnli-e5\": \"/home/modaresi/projects/globenc_analysis/outputs/models/output_mnli_bert-base-uncased_0001_SEED0042/checkpoint-61360\",\n",
    "}\n",
    "\n",
    "TASK = \"mnli\"\n",
    " \n",
    "SET = \"train\"  # train/validation/validation_matched"
   ]
  },
  {
   "cell_type": "code",
   "execution_count": 3,
   "metadata": {},
   "outputs": [
    {
     "name": "stderr",
     "output_type": "stream",
     "text": [
      "Reusing dataset glue (/opt/huggingface/datasets/glue/mnli/1.0.0/dacbe3125aa31d7f70367a07a8a9e72a5a0bfeb5fc42e75c9db75b96da6053ad)\n"
     ]
    },
    {
     "data": {
      "application/vnd.jupyter.widget-view+json": {
       "model_id": "6e2048439dae4f4fb32a0f4c63719920",
       "version_major": 2,
       "version_minor": 0
      },
      "text/plain": [
       "  0%|          | 0/5 [00:00<?, ?it/s]"
      ]
     },
     "metadata": {},
     "output_type": "display_data"
    },
    {
     "data": {
      "text/plain": [
       "DatasetDict({\n",
       "    train: Dataset({\n",
       "        features: ['premise', 'hypothesis', 'label', 'idx'],\n",
       "        num_rows: 392702\n",
       "    })\n",
       "    validation_matched: Dataset({\n",
       "        features: ['premise', 'hypothesis', 'label', 'idx'],\n",
       "        num_rows: 9815\n",
       "    })\n",
       "    validation_mismatched: Dataset({\n",
       "        features: ['premise', 'hypothesis', 'label', 'idx'],\n",
       "        num_rows: 9832\n",
       "    })\n",
       "    test_matched: Dataset({\n",
       "        features: ['premise', 'hypothesis', 'label', 'idx'],\n",
       "        num_rows: 9796\n",
       "    })\n",
       "    test_mismatched: Dataset({\n",
       "        features: ['premise', 'hypothesis', 'label', 'idx'],\n",
       "        num_rows: 9847\n",
       "    })\n",
       "})"
      ]
     },
     "execution_count": 3,
     "metadata": {},
     "output_type": "execute_result"
    }
   ],
   "source": [
    "GLUE_TASKS = [\"cola\", \"mnli\", \"mnli-mm\", \"mrpc\", \"qnli\", \"qqp\", \"rte\", \"sst2\", \"stsb\", \"wnli\"]\n",
    "\n",
    "MAX_LENGTH = 128\n",
    "\n",
    "actual_task = \"mnli\" if TASK == \"mnli-mm\" else TASK\n",
    "dataset = datasets.load_dataset(\"glue\", actual_task)\n",
    "# metric = datasets.load_metric('glue', actual_task)\n",
    "task_to_keys = {\n",
    "    \"cola\": (\"sentence\", None),\n",
    "    \"mnli\": (\"premise\", \"hypothesis\"),\n",
    "    \"mnli-mm\": (\"premise\", \"hypothesis\"),\n",
    "    \"mrpc\": (\"sentence1\", \"sentence2\"),\n",
    "    \"qnli\": (\"question\", \"sentence\"),\n",
    "    \"qqp\": (\"question1\", \"question2\"),\n",
    "    \"rte\": (\"sentence1\", \"sentence2\"),\n",
    "    \"sst2\": (\"sentence\", None),\n",
    "    \"stsb\": (\"sentence1\", \"sentence2\"),\n",
    "    \"wnli\": (\"sentence1\", \"sentence2\"),\n",
    "}\n",
    "SENTENCE1_KEY, SENTENCE2_KEY = task_to_keys[TASK]\n",
    "tokenizer = None\n",
    "sel_dataset = None\n",
    "dataset"
   ]
  },
  {
   "cell_type": "code",
   "execution_count": 4,
   "metadata": {},
   "outputs": [],
   "source": [
    "def preprocess_function_wrapped(tokenizer):\n",
    "    def preprocess_function(examples):\n",
    "        # Tokenize the texts\n",
    "        args = (\n",
    "            (examples[SENTENCE1_KEY],) if SENTENCE2_KEY is None else (examples[SENTENCE1_KEY], examples[SENTENCE2_KEY])\n",
    "        )\n",
    "        result = tokenizer(*args, padding=False, max_length=MAX_LENGTH, truncation=True)\n",
    "        return result\n",
    "    return preprocess_function\n",
    "\n",
    "def token_id_to_tokens_mapper(tokenizer, sample):\n",
    "    length = len(sample[\"input_ids\"])\n",
    "    return tokenizer.convert_ids_to_tokens(sample[\"input_ids\"])[:length], length\n",
    "\n",
    "from IPython.display import display, HTML\n",
    "# def print_globenc(globenc, tokenized_text, discrete=False, prefix=\"\"): \n",
    "#     if len(globenc.shape) == 2: \n",
    "#         globenc = np.expand_dims(globenc, axis=0) \n",
    "#     # norm_cls = globenc\n",
    "#     # norm_cls = np.flip(norm_cls, axis=0) \n",
    "#     # row_sums = norm_cls.max(axis=1) \n",
    "#     # norm_cls = norm_cls / row_sums[:, np.newaxis] \n",
    "#     html = prefix \n",
    "#     if discrete: \n",
    "#         cls_attention = np.argsort(np.argsort(norm_cls[0, :])) / len(norm_cls[0, :]) \n",
    "#     else: \n",
    "#         cls_attention = globenc / globenc.max()\n",
    "#     for i in range(len(tokenized_text)): \n",
    "#         html += (f\"<span style='background-color: rgba(10, {cls_attention[i]*255}, 10, {cls_attention[i] / 1.5}); \" \n",
    "#                  f\"font-size: {int(cls_attention[i]*18 + 1)}px; \" \n",
    "#                  f\"font-weight: {int(cls_attention[i]*900)};'>\") \n",
    "#         html += tokenized_text[i] \n",
    "#         html += \"</span> \" \n",
    "#     display(HTML(html))\n",
    "\n",
    "def print_globenc(globenc, tokenized_text, discrete=False, prefix=\"\", no_cls=False):\n",
    "    # if len(globenc.shape) == 2:\n",
    "    #     globenc = np.expand_dims(globenc, axis=0)\n",
    "    # norm_cls = globenc[:, 0, :]\n",
    "    # norm_cls = np.flip(norm_cls, axis=0)\n",
    "    # row_sums = norm_cls.max(axis=1)\n",
    "    # norm_cls = norm_cls / row_sums[:, np.newaxis]\n",
    "    html = prefix\n",
    "    if discrete:\n",
    "        cls_attention = np.argsort(np.argsort(norm_cls[0, :])) / len(norm_cls[0, :])\n",
    "    else:\n",
    "        cls_attention = globenc / globenc.max()\n",
    "    for i in range(len(tokenized_text)):\n",
    "        html += (f\"<span style='\"\n",
    "                 f\"background-color: rgba({cls_attention[i]*255}, {cls_attention[i]*255}, 0, {cls_attention[i] / 1.5}); \"\n",
    "#                  f\"background-color: rgba(200, {cls_attention[i]*255}, 10, 1.0); \"\n",
    "#                  f\"font-size: {int(cls_attention[i]*18 + 1)}px; \"\n",
    "#                  f\"font-weight: {int(cls_attention[i]*900)};\"\n",
    "                 f\"font-weight: {int(800)};\"\n",
    "                 \"'>\")\n",
    "        html += tokenized_text[i]\n",
    "        html += \"</span> \"\n",
    "    display(HTML(html))"
   ]
  },
  {
   "cell_type": "code",
   "execution_count": 12,
   "metadata": {},
   "outputs": [
    {
     "data": {
      "application/vnd.jupyter.widget-view+json": {
       "model_id": "7f6e3032e7194417ba79672b5838582a",
       "version_major": 2,
       "version_minor": 0
      },
      "text/plain": [
       "Models:   0%|          | 0/6 [00:00<?, ?it/s]"
      ]
     },
     "metadata": {},
     "output_type": "display_data"
    },
    {
     "name": "stderr",
     "output_type": "stream",
     "text": [
      "All PyTorch model weights were used when initializing TFBertForSequenceClassification.\n",
      "\n",
      "Some weights or buffers of the TF 2.0 model TFBertForSequenceClassification were not initialized from the PyTorch model and are newly initialized: ['classifier.weight', 'classifier.bias']\n",
      "You should probably TRAIN this model on a down-stream task to be able to use it for predictions and inference.\n"
     ]
    },
    {
     "data": {
      "application/vnd.jupyter.widget-view+json": {
       "model_id": "be592e5b4ab542b8b00adfed56d14dee",
       "version_major": 2,
       "version_minor": 0
      },
      "text/plain": [
       "  0%|          | 0/29 [00:00<?, ?it/s]"
      ]
     },
     "metadata": {},
     "output_type": "display_data"
    },
    {
     "name": "stdout",
     "output_type": "stream",
     "text": [
      "Tensor(\"Reshape_2:0\", shape=(1, 768, None, 768), dtype=float32)\n"
     ]
    },
    {
     "name": "stderr",
     "output_type": "stream",
     "text": [
      "Some weights of the PyTorch model were not used when initializing the TF 2.0 model TFBertForSequenceClassification: ['bert.embeddings.position_ids']\n",
      "- This IS expected if you are initializing TFBertForSequenceClassification from a PyTorch model trained on another task or with another architecture (e.g. initializing a TFBertForSequenceClassification model from a BertForPreTraining model).\n",
      "- This IS NOT expected if you are initializing TFBertForSequenceClassification from a PyTorch model that you expect to be exactly identical (e.g. initializing a TFBertForSequenceClassification model from a BertForSequenceClassification model).\n",
      "All the weights of TFBertForSequenceClassification were initialized from the PyTorch model.\n",
      "If your task is similar to the task the model of the checkpoint was trained on, you can already use TFBertForSequenceClassification for predictions without further training.\n"
     ]
    },
    {
     "data": {
      "application/vnd.jupyter.widget-view+json": {
       "model_id": "3059bb014bef448e8a1a1ecc95020081",
       "version_major": 2,
       "version_minor": 0
      },
      "text/plain": [
       "  0%|          | 0/29 [00:00<?, ?it/s]"
      ]
     },
     "metadata": {},
     "output_type": "display_data"
    },
    {
     "name": "stdout",
     "output_type": "stream",
     "text": [
      "Tensor(\"Reshape_2:0\", shape=(1, 768, None, 768), dtype=float32)\n"
     ]
    },
    {
     "name": "stderr",
     "output_type": "stream",
     "text": [
      "Some weights of the PyTorch model were not used when initializing the TF 2.0 model TFBertForSequenceClassification: ['bert.embeddings.position_ids']\n",
      "- This IS expected if you are initializing TFBertForSequenceClassification from a PyTorch model trained on another task or with another architecture (e.g. initializing a TFBertForSequenceClassification model from a BertForPreTraining model).\n",
      "- This IS NOT expected if you are initializing TFBertForSequenceClassification from a PyTorch model that you expect to be exactly identical (e.g. initializing a TFBertForSequenceClassification model from a BertForSequenceClassification model).\n",
      "All the weights of TFBertForSequenceClassification were initialized from the PyTorch model.\n",
      "If your task is similar to the task the model of the checkpoint was trained on, you can already use TFBertForSequenceClassification for predictions without further training.\n"
     ]
    },
    {
     "data": {
      "application/vnd.jupyter.widget-view+json": {
       "model_id": "2682cfc8a1974454819e17843f70c651",
       "version_major": 2,
       "version_minor": 0
      },
      "text/plain": [
       "  0%|          | 0/29 [00:00<?, ?it/s]"
      ]
     },
     "metadata": {},
     "output_type": "display_data"
    },
    {
     "name": "stdout",
     "output_type": "stream",
     "text": [
      "Tensor(\"Reshape_2:0\", shape=(1, 768, None, 768), dtype=float32)\n"
     ]
    },
    {
     "name": "stderr",
     "output_type": "stream",
     "text": [
      "Some weights of the PyTorch model were not used when initializing the TF 2.0 model TFBertForSequenceClassification: ['bert.embeddings.position_ids']\n",
      "- This IS expected if you are initializing TFBertForSequenceClassification from a PyTorch model trained on another task or with another architecture (e.g. initializing a TFBertForSequenceClassification model from a BertForPreTraining model).\n",
      "- This IS NOT expected if you are initializing TFBertForSequenceClassification from a PyTorch model that you expect to be exactly identical (e.g. initializing a TFBertForSequenceClassification model from a BertForSequenceClassification model).\n",
      "All the weights of TFBertForSequenceClassification were initialized from the PyTorch model.\n",
      "If your task is similar to the task the model of the checkpoint was trained on, you can already use TFBertForSequenceClassification for predictions without further training.\n"
     ]
    },
    {
     "data": {
      "application/vnd.jupyter.widget-view+json": {
       "model_id": "3120ecd297d24de18b117eee7a3830e2",
       "version_major": 2,
       "version_minor": 0
      },
      "text/plain": [
       "  0%|          | 0/29 [00:00<?, ?it/s]"
      ]
     },
     "metadata": {},
     "output_type": "display_data"
    },
    {
     "name": "stdout",
     "output_type": "stream",
     "text": [
      "Tensor(\"Reshape_2:0\", shape=(1, 768, None, 768), dtype=float32)\n"
     ]
    },
    {
     "name": "stderr",
     "output_type": "stream",
     "text": [
      "Some weights of the PyTorch model were not used when initializing the TF 2.0 model TFBertForSequenceClassification: ['bert.embeddings.position_ids']\n",
      "- This IS expected if you are initializing TFBertForSequenceClassification from a PyTorch model trained on another task or with another architecture (e.g. initializing a TFBertForSequenceClassification model from a BertForPreTraining model).\n",
      "- This IS NOT expected if you are initializing TFBertForSequenceClassification from a PyTorch model that you expect to be exactly identical (e.g. initializing a TFBertForSequenceClassification model from a BertForSequenceClassification model).\n",
      "All the weights of TFBertForSequenceClassification were initialized from the PyTorch model.\n",
      "If your task is similar to the task the model of the checkpoint was trained on, you can already use TFBertForSequenceClassification for predictions without further training.\n"
     ]
    },
    {
     "data": {
      "application/vnd.jupyter.widget-view+json": {
       "model_id": "62bb37d092154ec69eba077608deae0a",
       "version_major": 2,
       "version_minor": 0
      },
      "text/plain": [
       "  0%|          | 0/29 [00:00<?, ?it/s]"
      ]
     },
     "metadata": {},
     "output_type": "display_data"
    },
    {
     "name": "stdout",
     "output_type": "stream",
     "text": [
      "Tensor(\"Reshape_2:0\", shape=(1, 768, None, 768), dtype=float32)\n"
     ]
    },
    {
     "name": "stderr",
     "output_type": "stream",
     "text": [
      "Some weights of the PyTorch model were not used when initializing the TF 2.0 model TFBertForSequenceClassification: ['bert.embeddings.position_ids']\n",
      "- This IS expected if you are initializing TFBertForSequenceClassification from a PyTorch model trained on another task or with another architecture (e.g. initializing a TFBertForSequenceClassification model from a BertForPreTraining model).\n",
      "- This IS NOT expected if you are initializing TFBertForSequenceClassification from a PyTorch model that you expect to be exactly identical (e.g. initializing a TFBertForSequenceClassification model from a BertForSequenceClassification model).\n",
      "All the weights of TFBertForSequenceClassification were initialized from the PyTorch model.\n",
      "If your task is similar to the task the model of the checkpoint was trained on, you can already use TFBertForSequenceClassification for predictions without further training.\n"
     ]
    },
    {
     "data": {
      "application/vnd.jupyter.widget-view+json": {
       "model_id": "8be956237e7a41fea4ea0df6156fa745",
       "version_major": 2,
       "version_minor": 0
      },
      "text/plain": [
       "  0%|          | 0/29 [00:00<?, ?it/s]"
      ]
     },
     "metadata": {},
     "output_type": "display_data"
    },
    {
     "name": "stdout",
     "output_type": "stream",
     "text": [
      "Tensor(\"Reshape_2:0\", shape=(1, 768, None, 768), dtype=float32)\n"
     ]
    }
   ],
   "source": [
    "idx = 192454\n",
    "HTAs = []\n",
    "HTAs_angular = []\n",
    "for name, path in tqdm(MODELS.items(), desc=\"Models\"):\n",
    "    model = TFBertForSequenceClassification.from_pretrained(path, from_pt=True, output_hidden_states=True)\n",
    "    tokenizer = AutoTokenizer.from_pretrained(path, use_fast=True, max_length=128) if tokenizer is None else tokenizer\n",
    "    sel_dataset = dataset[SET].map(preprocess_function_wrapped(tokenizer), batched=True, batch_size=1024) if sel_dataset is None else sel_dataset\n",
    "    dataset_size = len(sel_dataset)\n",
    "\n",
    "    tokens, length = token_id_to_tokens_mapper(tokenizer, sel_dataset[idx])\n",
    "    @tf.function(input_signature=[{'input_ids': tf.TensorSpec(shape=[1, None], dtype=tf.int32),\n",
    "             'token_type_ids': tf.TensorSpec(shape=[1, None], dtype=tf.int32),\n",
    "             'attention_mask': tf.TensorSpec(shape=[1, None], dtype=tf.int32)}, \n",
    "             tf.TensorSpec(shape=(1,), dtype=tf.int32)])\n",
    "    def get_grads(inputs, i):\n",
    "        with tf.GradientTape() as tape:\n",
    "            outputs = model(inputs)\n",
    "            input_embeds = outputs.hidden_states[0]\n",
    "            out_embeds = tf.gather(outputs.hidden_states[-1], i, batch_dims=1)\n",
    "\n",
    "        grads = tape.batch_jacobian(out_embeds, input_embeds)\n",
    "        print(grads)\n",
    "        return grads * tf.expand_dims(input_embeds, axis=1)\n",
    "    \n",
    "    hta = np.zeros((length, length), dtype=np.float32)\n",
    "    hta_angular = np.zeros((length, length), dtype=np.float32)\n",
    "\n",
    "    for i in tqdm(range(length)):\n",
    "        feats = {\n",
    "            'input_ids': tf.constant([sel_dataset[idx]['input_ids']], dtype=tf.int32),\n",
    "            'attention_mask': tf.constant([sel_dataset[idx]['attention_mask']], dtype=tf.int32),\n",
    "            'token_type_ids': tf.constant([sel_dataset[idx]['token_type_ids']], dtype=tf.int32),\n",
    "        }\n",
    "        grads = get_grads(feats, tf.constant([i])) \n",
    "        hta[i, :length] = np.linalg.norm(grads, axis=(1,3))\n",
    "        hta_angular[i, :length] = np.sum(grads, axis=(1,3))\n",
    "    HTAs.append(hta)\n",
    "    HTAs_angular.append(hta_angular)\n",
    "    # if prev_HTA is not None:\n",
    "    #     print(\"Corr:\", pearsonr(prev_HTA[0], hta[0])[0])\n",
    "    # prev_HTA = hta\n",
    "    # print_globenc(hta[0], tokens, prefix=name + \" \")"
   ]
  },
  {
   "cell_type": "code",
   "execution_count": 20,
   "metadata": {},
   "outputs": [
    {
     "name": "stdout",
     "output_type": "stream",
     "text": [
      "### 132919 ###\n"
     ]
    },
    {
     "data": {
      "text/html": [
       "Epoch 0<span style='background-color: rgba(128.08428704738617, 128.08428704738617, 0, 0.334860881169637); font-weight: 800;'>[CLS]</span> <span style='background-color: rgba(35.86951285600662, 35.86951285600662, 0, 0.09377650419871013); font-weight: 800;'>the</span> <span style='background-color: rgba(160.00835001468658, 160.00835001468658, 0, 0.41832248369852704); font-weight: 800;'>climax</span> <span style='background-color: rgba(45.55627226829529, 45.55627226829529, 0, 0.11910136540730794); font-weight: 800;'>is</span> <span style='background-color: rgba(25.31575206667185, 25.31575206667185, 0, 0.06618497272332509); font-weight: 800;'>the</span> <span style='background-color: rgba(73.86295974254608, 73.86295974254608, 0, 0.19310577710469565); font-weight: 800;'>movie</span> <span style='background-color: rgba(75.47916501760483, 75.47916501760483, 0, 0.1973311503728231); font-weight: 800;'>starring</span> <span style='background-color: rgba(45.41668675839901, 45.41668675839901, 0, 0.11873643596967061); font-weight: 800;'>john</span> <span style='background-color: rgba(59.580020159482956, 59.580020159482956, 0, 0.15576475858688354); font-weight: 800;'>tr</span> <span style='background-color: rgba(97.07589134573936, 97.07589134573936, 0, 0.2537931799888611); font-weight: 800;'>##av</span> <span style='background-color: rgba(219.05705988407135, 219.05705988407135, 0, 0.57269819577535); font-weight: 800;'>##olt</span> <span style='background-color: rgba(51.03515647351742, 51.03515647351742, 0, 0.13342524568239847); font-weight: 800;'>##a</span> <span style='background-color: rgba(26.702100075781345, 26.702100075781345, 0, 0.06980941196282704); font-weight: 800;'>.</span> <span style='background-color: rgba(30.393501296639442, 30.393501296639442, 0, 0.07946013410886128); font-weight: 800;'>[SEP]</span> <span style='background-color: rgba(24.330200850963593, 24.330200850963593, 0, 0.06360836823781331); font-weight: 800;'>the</span> <span style='background-color: rgba(76.18904292583466, 76.18904292583466, 0, 0.1991870403289795); font-weight: 800;'>movie</span> <span style='background-color: rgba(87.90862485766411, 87.90862485766411, 0, 0.22982647021611533); font-weight: 800;'>stars</span> <span style='background-color: rgba(52.46147073805332, 52.46147073805332, 0, 0.13715417186419168); font-weight: 800;'>john</span> <span style='background-color: rgba(77.69533529877663, 77.69533529877663, 0, 0.20312505960464478); font-weight: 800;'>tr</span> <span style='background-color: rgba(96.48040249943733, 96.48040249943733, 0, 0.25223634640375775); font-weight: 800;'>##av</span> <span style='background-color: rgba(255.0, 255.0, 0, 0.6666666666666666); font-weight: 800;'>##olt</span> <span style='background-color: rgba(55.54533965885639, 55.54533965885639, 0, 0.14521657427152); font-weight: 800;'>##a</span> <span style='background-color: rgba(25.438280291855335, 25.438280291855335, 0, 0.06650530795256297); font-weight: 800;'>.</span> <span style='background-color: rgba(23.44115875661373, 23.44115875661373, 0, 0.06128407518068949); font-weight: 800;'>[SEP]</span> "
      ],
      "text/plain": [
       "<IPython.core.display.HTML object>"
      ]
     },
     "metadata": {},
     "output_type": "display_data"
    },
    {
     "name": "stdout",
     "output_type": "stream",
     "text": [
      "Corr: 0.3138103142287821\n"
     ]
    },
    {
     "data": {
      "text/html": [
       "Epoch 1<span style='background-color: rgba(114.248416274786, 114.248416274786, 0, 0.2986886699994405); font-weight: 800;'>[CLS]</span> <span style='background-color: rgba(23.385396748781204, 23.385396748781204, 0, 0.06113829215367635); font-weight: 800;'>the</span> <span style='background-color: rgba(178.42386424541473, 178.42386424541473, 0, 0.46646761894226074); font-weight: 800;'>climax</span> <span style='background-color: rgba(45.119337514042854, 45.119337514042854, 0, 0.11795905232429504); font-weight: 800;'>is</span> <span style='background-color: rgba(28.812219947576523, 28.812219947576523, 0, 0.07532606522242229); font-weight: 800;'>the</span> <span style='background-color: rgba(79.95755910873413, 79.95755910873413, 0, 0.20903937021891275); font-weight: 800;'>movie</span> <span style='background-color: rgba(214.37519431114197, 214.37519431114197, 0, 0.5604580243428549); font-weight: 800;'>starring</span> <span style='background-color: rgba(47.846641167998314, 47.846641167998314, 0, 0.12508925795555115); font-weight: 800;'>john</span> <span style='background-color: rgba(33.042935729026794, 33.042935729026794, 0, 0.08638676007588704); font-weight: 800;'>tr</span> <span style='background-color: rgba(33.09600368142128, 33.09600368142128, 0, 0.08652549982070923); font-weight: 800;'>##av</span> <span style='background-color: rgba(56.741606667637825, 56.741606667637825, 0, 0.14834406971931458); font-weight: 800;'>##olt</span> <span style='background-color: rgba(24.223954752087593, 24.223954752087593, 0, 0.06333060065905254); font-weight: 800;'>##a</span> <span style='background-color: rgba(27.017382457852364, 27.017382457852364, 0, 0.07063367962837219); font-weight: 800;'>.</span> <span style='background-color: rgba(29.04854256659746, 29.04854256659746, 0, 0.07594390213489532); font-weight: 800;'>[SEP]</span> <span style='background-color: rgba(28.65525797009468, 28.65525797009468, 0, 0.07491570711135864); font-weight: 800;'>the</span> <span style='background-color: rgba(115.40734648704529, 115.40734648704529, 0, 0.3017185529073079); font-weight: 800;'>movie</span> <span style='background-color: rgba(255.0, 255.0, 0, 0.6666666666666666); font-weight: 800;'>stars</span> <span style='background-color: rgba(67.51908615231514, 67.51908615231514, 0, 0.17652048667271933); font-weight: 800;'>john</span> <span style='background-color: rgba(36.4929986000061, 36.4929986000061, 0, 0.09540653228759766); font-weight: 800;'>tr</span> <span style='background-color: rgba(36.978870928287506, 36.978870928287506, 0, 0.09667678674062093); font-weight: 800;'>##av</span> <span style='background-color: rgba(64.71397787332535, 64.71397787332535, 0, 0.16918687025705972); font-weight: 800;'>##olt</span> <span style='background-color: rgba(23.638419471681118, 23.638419471681118, 0, 0.061799789468447365); font-weight: 800;'>##a</span> <span style='background-color: rgba(33.90520825982094, 33.90520825982094, 0, 0.08864106734593709); font-weight: 800;'>.</span> <span style='background-color: rgba(22.58380886167288, 22.58380886167288, 0, 0.0590426375468572); font-weight: 800;'>[SEP]</span> "
      ],
      "text/plain": [
       "<IPython.core.display.HTML object>"
      ]
     },
     "metadata": {},
     "output_type": "display_data"
    },
    {
     "name": "stdout",
     "output_type": "stream",
     "text": [
      "Corr: 0.9636677276493726\n"
     ]
    },
    {
     "data": {
      "text/html": [
       "Epoch 2<span style='background-color: rgba(68.4550367295742, 68.4550367295742, 0, 0.1789674162864685); font-weight: 800;'>[CLS]</span> <span style='background-color: rgba(24.378137178719044, 24.378137178719044, 0, 0.06373369197050731); font-weight: 800;'>the</span> <span style='background-color: rgba(232.4931237101555, 232.4931237101555, 0, 0.6078251600265503); font-weight: 800;'>climax</span> <span style='background-color: rgba(48.41595321893692, 48.41595321893692, 0, 0.12657765547434488); font-weight: 800;'>is</span> <span style='background-color: rgba(26.858005709946156, 26.858005709946156, 0, 0.0702170083920161); font-weight: 800;'>the</span> <span style='background-color: rgba(81.88989222049713, 81.88989222049713, 0, 0.21409122149149576); font-weight: 800;'>movie</span> <span style='background-color: rgba(200.86138665676117, 200.86138665676117, 0, 0.5251278082529703); font-weight: 800;'>starring</span> <span style='background-color: rgba(49.853457883000374, 49.853457883000374, 0, 0.13033583760261536); font-weight: 800;'>john</span> <span style='background-color: rgba(33.72206948697567, 33.72206948697567, 0, 0.08816227316856384); font-weight: 800;'>tr</span> <span style='background-color: rgba(40.00697024166584, 40.00697024166584, 0, 0.10459338625272115); font-weight: 800;'>##av</span> <span style='background-color: rgba(94.29797440767288, 94.29797440767288, 0, 0.2465306520462036); font-weight: 800;'>##olt</span> <span style='background-color: rgba(35.08648507297039, 35.08648507297039, 0, 0.09172937273979187); font-weight: 800;'>##a</span> <span style='background-color: rgba(26.114666797220707, 26.114666797220707, 0, 0.06827363868554433); font-weight: 800;'>.</span> <span style='background-color: rgba(25.774436853826046, 25.774436853826046, 0, 0.06738414863745372); font-weight: 800;'>[SEP]</span> <span style='background-color: rgba(27.107739709317684, 27.107739709317684, 0, 0.07086990773677826); font-weight: 800;'>the</span> <span style='background-color: rgba(130.08377015590668, 130.08377015590668, 0, 0.3400882879892985); font-weight: 800;'>movie</span> <span style='background-color: rgba(255.0, 255.0, 0, 0.6666666666666666); font-weight: 800;'>stars</span> <span style='background-color: rgba(66.17135927081108, 66.17135927081108, 0, 0.1729970177014669); font-weight: 800;'>john</span> <span style='background-color: rgba(38.90581972897053, 38.90581972897053, 0, 0.10171456138292949); font-weight: 800;'>tr</span> <span style='background-color: rgba(40.93620277941227, 40.93620277941227, 0, 0.10702275236447652); font-weight: 800;'>##av</span> <span style='background-color: rgba(90.10963395237923, 90.10963395237923, 0, 0.23558074235916138); font-weight: 800;'>##olt</span> <span style='background-color: rgba(35.47189839184284, 35.47189839184284, 0, 0.09273698925971985); font-weight: 800;'>##a</span> <span style='background-color: rgba(37.13726542890072, 37.13726542890072, 0, 0.09709089001019795); font-weight: 800;'>.</span> <span style='background-color: rgba(23.972970619797707, 23.972970619797707, 0, 0.06267443299293518); font-weight: 800;'>[SEP]</span> "
      ],
      "text/plain": [
       "<IPython.core.display.HTML object>"
      ]
     },
     "metadata": {},
     "output_type": "display_data"
    },
    {
     "name": "stdout",
     "output_type": "stream",
     "text": [
      "Corr: 0.979306589060537\n"
     ]
    },
    {
     "data": {
      "text/html": [
       "Epoch 3<span style='background-color: rgba(75.97243934869766, 75.97243934869766, 0, 0.19862075646718344); font-weight: 800;'>[CLS]</span> <span style='background-color: rgba(24.035978838801384, 24.035978838801384, 0, 0.06283916036287944); font-weight: 800;'>the</span> <span style='background-color: rgba(246.68487578630447, 246.68487578630447, 0, 0.6449277798334757); font-weight: 800;'>climax</span> <span style='background-color: rgba(51.23361982405186, 51.23361982405186, 0, 0.13394410411516824); font-weight: 800;'>is</span> <span style='background-color: rgba(28.939152136445045, 28.939152136445045, 0, 0.07565791408220927); font-weight: 800;'>the</span> <span style='background-color: rgba(92.20522150397301, 92.20522150397301, 0, 0.24105940262476602); font-weight: 800;'>movie</span> <span style='background-color: rgba(255.0, 255.0, 0, 0.6666666666666666); font-weight: 800;'>starring</span> <span style='background-color: rgba(54.26527954638004, 54.26527954638004, 0, 0.1418700118859609); font-weight: 800;'>john</span> <span style='background-color: rgba(31.515041515231133, 31.515041515231133, 0, 0.08239226539929707); font-weight: 800;'>tr</span> <span style='background-color: rgba(35.569864735007286, 35.569864735007286, 0, 0.0929931104183197); font-weight: 800;'>##av</span> <span style='background-color: rgba(82.9180334508419, 82.9180334508419, 0, 0.2167791724205017); font-weight: 800;'>##olt</span> <span style='background-color: rgba(29.946305193006992, 29.946305193006992, 0, 0.07829099396864574); font-weight: 800;'>##a</span> <span style='background-color: rgba(25.588833913207054, 25.588833913207054, 0, 0.06689891219139099); font-weight: 800;'>.</span> <span style='background-color: rgba(21.056222431361675, 21.056222431361675, 0, 0.0550489475329717); font-weight: 800;'>[SEP]</span> <span style='background-color: rgba(22.93691821396351, 22.93691821396351, 0, 0.05996579925219218); font-weight: 800;'>the</span> <span style='background-color: rgba(104.32194292545319, 104.32194292545319, 0, 0.2727371056874593); font-weight: 800;'>movie</span> <span style='background-color: rgba(233.97173076868057, 233.97173076868057, 0, 0.6116907993952433); font-weight: 800;'>stars</span> <span style='background-color: rgba(62.40492157638073, 62.40492157638073, 0, 0.16315012176831564); font-weight: 800;'>john</span> <span style='background-color: rgba(33.588130474090576, 33.588130474090576, 0, 0.08781210581461589); font-weight: 800;'>tr</span> <span style='background-color: rgba(37.10858076810837, 37.10858076810837, 0, 0.09701589743296306); font-weight: 800;'>##av</span> <span style='background-color: rgba(73.73124361038208, 73.73124361038208, 0, 0.19276142120361328); font-weight: 800;'>##olt</span> <span style='background-color: rgba(25.903688818216324, 25.903688818216324, 0, 0.0677220622698466); font-weight: 800;'>##a</span> <span style='background-color: rgba(28.865021914243698, 28.865021914243698, 0, 0.07546410957972209); font-weight: 800;'>.</span> <span style='background-color: rgba(18.27280718833208, 18.27280718833208, 0, 0.047772044936815895); font-weight: 800;'>[SEP]</span> "
      ],
      "text/plain": [
       "<IPython.core.display.HTML object>"
      ]
     },
     "metadata": {},
     "output_type": "display_data"
    },
    {
     "name": "stdout",
     "output_type": "stream",
     "text": [
      "Corr: 0.9261533454221914\n"
     ]
    },
    {
     "data": {
      "text/html": [
       "Epoch 4<span style='background-color: rgba(68.35108950734138, 68.35108950734138, 0, 0.17869565884272257); font-weight: 800;'>[CLS]</span> <span style='background-color: rgba(19.81744710355997, 19.81744710355997, 0, 0.051810319224993386); font-weight: 800;'>the</span> <span style='background-color: rgba(172.98482090234756, 172.98482090234756, 0, 0.4522478977839152); font-weight: 800;'>climax</span> <span style='background-color: rgba(36.27031534910202, 36.27031534910202, 0, 0.0948243538538615); font-weight: 800;'>is</span> <span style='background-color: rgba(23.71431279927492, 23.71431279927492, 0, 0.06199820339679718); font-weight: 800;'>the</span> <span style='background-color: rgba(78.70421916246414, 78.70421916246414, 0, 0.20576266447703043); font-weight: 800;'>movie</span> <span style='background-color: rgba(255.0, 255.0, 0, 0.6666666666666666); font-weight: 800;'>starring</span> <span style='background-color: rgba(52.98568680882454, 52.98568680882454, 0, 0.13852467139561972); font-weight: 800;'>john</span> <span style='background-color: rgba(41.515014320611954, 41.515014320611954, 0, 0.10853598515192668); font-weight: 800;'>tr</span> <span style='background-color: rgba(57.52347931265831, 57.52347931265831, 0, 0.1503881812095642); font-weight: 800;'>##av</span> <span style='background-color: rgba(164.86780285835266, 164.86780285835266, 0, 0.4310269355773926); font-weight: 800;'>##olt</span> <span style='background-color: rgba(40.554688051342964, 40.554688051342964, 0, 0.10602532823880513); font-weight: 800;'>##a</span> <span style='background-color: rgba(21.566880829632282, 21.566880829632282, 0, 0.05638400216897329); font-weight: 800;'>.</span> <span style='background-color: rgba(21.17982029914856, 21.17982029914856, 0, 0.05537207921346029); font-weight: 800;'>[SEP]</span> <span style='background-color: rgba(22.933279909193516, 22.933279909193516, 0, 0.059956287344296776); font-weight: 800;'>the</span> <span style='background-color: rgba(107.10641071200371, 107.10641071200371, 0, 0.28001676003138226); font-weight: 800;'>movie</span> <span style='background-color: rgba(239.1359120607376, 239.1359120607376, 0, 0.6251919269561768); font-weight: 800;'>stars</span> <span style='background-color: rgba(64.21395510435104, 64.21395510435104, 0, 0.16787962118784586); font-weight: 800;'>john</span> <span style='background-color: rgba(43.813191801309586, 43.813191801309586, 0, 0.11454429229100545); font-weight: 800;'>tr</span> <span style='background-color: rgba(50.32370164990425, 50.32370164990425, 0, 0.1315652330716451); font-weight: 800;'>##av</span> <span style='background-color: rgba(133.70021849870682, 133.70021849870682, 0, 0.3495430548985799); font-weight: 800;'>##olt</span> <span style='background-color: rgba(36.08834311366081, 36.08834311366081, 0, 0.09434860944747925); font-weight: 800;'>##a</span> <span style='background-color: rgba(27.26834189146757, 27.26834189146757, 0, 0.07128978272279103); font-weight: 800;'>.</span> <span style='background-color: rgba(18.75288102775812, 18.75288102775812, 0, 0.049027139941851296); font-weight: 800;'>[SEP]</span> "
      ],
      "text/plain": [
       "<IPython.core.display.HTML object>"
      ]
     },
     "metadata": {},
     "output_type": "display_data"
    },
    {
     "name": "stdout",
     "output_type": "stream",
     "text": [
      "Corr: 0.9722983159460893\n"
     ]
    },
    {
     "data": {
      "text/html": [
       "Epoch 5<span style='background-color: rgba(82.73350015282631, 82.73350015282631, 0, 0.2162967324256897); font-weight: 800;'>[CLS]</span> <span style='background-color: rgba(24.199611358344555, 24.199611358344555, 0, 0.06326695779959361); font-weight: 800;'>the</span> <span style='background-color: rgba(211.4061400294304, 211.4061400294304, 0, 0.5526957909266154); font-weight: 800;'>climax</span> <span style='background-color: rgba(44.331183806061745, 44.331183806061745, 0, 0.11589851975440979); font-weight: 800;'>is</span> <span style='background-color: rgba(27.949101962149143, 27.949101962149143, 0, 0.07306954761346181); font-weight: 800;'>the</span> <span style='background-color: rgba(90.52609160542488, 90.52609160542488, 0, 0.2366695205370585); font-weight: 800;'>movie</span> <span style='background-color: rgba(255.0, 255.0, 0, 0.6666666666666666); font-weight: 800;'>starring</span> <span style='background-color: rgba(63.29203337430954, 63.29203337430954, 0, 0.16546936829884848); font-weight: 800;'>john</span> <span style='background-color: rgba(56.11829191446304, 56.11829191446304, 0, 0.14671448866526285); font-weight: 800;'>tr</span> <span style='background-color: rgba(83.33502307534218, 83.33502307534218, 0, 0.2178693413734436); font-weight: 800;'>##av</span> <span style='background-color: rgba(247.3951032757759, 247.3951032757759, 0, 0.6467845837275187); font-weight: 800;'>##olt</span> <span style='background-color: rgba(58.234546557068825, 58.234546557068825, 0, 0.1522471805413564); font-weight: 800;'>##a</span> <span style='background-color: rgba(26.0982383787632, 26.0982383787632, 0, 0.06823068857192993); font-weight: 800;'>.</span> <span style='background-color: rgba(24.50984761118889, 24.50984761118889, 0, 0.06407803297042847); font-weight: 800;'>[SEP]</span> <span style='background-color: rgba(24.260582886636257, 24.260582886636257, 0, 0.06342636048793793); font-weight: 800;'>the</span> <span style='background-color: rgba(111.68340191245079, 111.68340191245079, 0, 0.2919827500979106); font-weight: 800;'>movie</span> <span style='background-color: rgba(239.47389632463455, 239.47389632463455, 0, 0.626075545946757); font-weight: 800;'>stars</span> <span style='background-color: rgba(72.18419462442398, 72.18419462442398, 0, 0.18871684869130453); font-weight: 800;'>john</span> <span style='background-color: rgba(57.10940033197403, 57.10940033197403, 0, 0.14930562178293863); font-weight: 800;'>tr</span> <span style='background-color: rgba(63.32133360207081, 63.32133360207081, 0, 0.1655459702014923); font-weight: 800;'>##av</span> <span style='background-color: rgba(187.54822343587875, 187.54822343587875, 0, 0.49032215277353924); font-weight: 800;'>##olt</span> <span style='background-color: rgba(48.60558584332466, 48.60558584332466, 0, 0.12707342704137167); font-weight: 800;'>##a</span> <span style='background-color: rgba(31.510909236967564, 31.510909236967564, 0, 0.08238146205743153); font-weight: 800;'>.</span> <span style='background-color: rgba(20.672800205647945, 20.672800205647945, 0, 0.0540465364853541); font-weight: 800;'>[SEP]</span> "
      ],
      "text/plain": [
       "<IPython.core.display.HTML object>"
      ]
     },
     "metadata": {},
     "output_type": "display_data"
    }
   ],
   "source": [
    "prev_HTA = None\n",
    "print(f\"### {idx} ###\")\n",
    "for e_no, hta in enumerate(HTAs):\n",
    "    if prev_HTA is not None:\n",
    "        print(\"Corr:\", pearsonr(prev_HTA[0], hta[0])[0])\n",
    "    prev_HTA = hta\n",
    "    print_globenc(hta[0], tokens, prefix=f\"Epoch {e_no}\")"
   ]
  },
  {
   "cell_type": "code",
   "execution_count": 18,
   "metadata": {},
   "outputs": [
    {
     "name": "stdout",
     "output_type": "stream",
     "text": [
      "### 61630 ###\n"
     ]
    },
    {
     "data": {
      "text/html": [
       "Epoch 0<span style='background-color: rgba(159.81451481580734, 159.81451481580734, 0, 0.41781572500864667); font-weight: 800;'>[CLS]</span> <span style='background-color: rgba(57.933720499277115, 57.933720499277115, 0, 0.1514607071876526); font-weight: 800;'>how</span> <span style='background-color: rgba(41.60082891583443, 41.60082891583443, 0, 0.10876033703486125); font-weight: 800;'>about</span> <span style='background-color: rgba(94.0760663151741, 94.0760663151741, 0, 0.2459505001703898); font-weight: 800;'>joining</span> <span style='background-color: rgba(58.897914960980415, 58.897914960980415, 0, 0.15398147702217102); font-weight: 800;'>us</span> <span style='background-color: rgba(33.01226757466793, 33.01226757466793, 0, 0.08630658189455669); font-weight: 800;'>,</span> <span style='background-color: rgba(98.81675273180008, 98.81675273180008, 0, 0.25834445158640545); font-weight: 800;'>mr</span> <span style='background-color: rgba(53.82999390363693, 53.82999390363693, 0, 0.14073201020558676); font-weight: 800;'>.</span> <span style='background-color: rgba(255.0, 255.0, 0, 0.6666666666666666); font-weight: 800;'>gates</span> <span style='background-color: rgba(61.12125925719738, 61.12125925719738, 0, 0.15979414184888205); font-weight: 800;'>?</span> <span style='background-color: rgba(59.47279751300812, 59.47279751300812, 0, 0.15548443794250488); font-weight: 800;'>[SEP]</span> <span style='background-color: rgba(111.6823835670948, 111.6823835670948, 0, 0.2919800877571106); font-weight: 800;'>mr</span> <span style='background-color: rgba(59.94736544787884, 59.94736544787884, 0, 0.15672513842582703); font-weight: 800;'>.</span> <span style='background-color: rgba(246.71522855758667, 246.71522855758667, 0, 0.6450071334838867); font-weight: 800;'>gates</span> <span style='background-color: rgba(99.39049914479256, 99.39049914479256, 0, 0.259844442208608); font-weight: 800;'>is</span> <span style='background-color: rgba(144.29833620786667, 144.29833620786667, 0, 0.3772505521774292); font-weight: 800;'>asked</span> <span style='background-color: rgba(61.772350519895554, 61.772350519895554, 0, 0.1614963412284851); font-weight: 800;'>to</span> <span style='background-color: rgba(137.636898458004, 137.636898458004, 0, 0.35983502864837646); font-weight: 800;'>join</span> <span style='background-color: rgba(93.90601024031639, 93.90601024031639, 0, 0.24550590912501016); font-weight: 800;'>us</span> <span style='background-color: rgba(44.48084257543087, 44.48084257543087, 0, 0.11628978451093037); font-weight: 800;'>.</span> <span style='background-color: rgba(57.50519469380379, 57.50519469380379, 0, 0.15034037828445435); font-weight: 800;'>[SEP]</span> "
      ],
      "text/plain": [
       "<IPython.core.display.HTML object>"
      ]
     },
     "metadata": {},
     "output_type": "display_data"
    },
    {
     "name": "stdout",
     "output_type": "stream",
     "text": [
      "Corr: 0.2706520938194725\n"
     ]
    },
    {
     "data": {
      "text/html": [
       "Epoch 1<span style='background-color: rgba(79.35656815767288, 79.35656815767288, 0, 0.2074681520462036); font-weight: 800;'>[CLS]</span> <span style='background-color: rgba(86.30648642778397, 86.30648642778397, 0, 0.2256378730138143); font-weight: 800;'>how</span> <span style='background-color: rgba(59.132685363292694, 59.132685363292694, 0, 0.1545952558517456); font-weight: 800;'>about</span> <span style='background-color: rgba(76.64181143045425, 76.64181143045425, 0, 0.2003707488377889); font-weight: 800;'>joining</span> <span style='background-color: rgba(42.39464811980724, 42.39464811980724, 0, 0.11083568135897319); font-weight: 800;'>us</span> <span style='background-color: rgba(25.192137099802494, 25.192137099802494, 0, 0.06586179633935292); font-weight: 800;'>,</span> <span style='background-color: rgba(47.1415776014328, 47.1415776014328, 0, 0.1232459545135498); font-weight: 800;'>mr</span> <span style='background-color: rgba(21.412854194641113, 21.412854194641113, 0, 0.05598131815592448); font-weight: 800;'>.</span> <span style='background-color: rgba(50.30922442674637, 50.30922442674637, 0, 0.13152738412221274); font-weight: 800;'>gates</span> <span style='background-color: rgba(74.97026592493057, 74.97026592493057, 0, 0.19600069522857666); font-weight: 800;'>?</span> <span style='background-color: rgba(30.49313575029373, 30.49313575029373, 0, 0.07972061634063721); font-weight: 800;'>[SEP]</span> <span style='background-color: rgba(48.355863243341446, 48.355863243341446, 0, 0.12642055749893188); font-weight: 800;'>mr</span> <span style='background-color: rgba(22.65278846025467, 22.65278846025467, 0, 0.05922297636667887); font-weight: 800;'>.</span> <span style='background-color: rgba(54.019523933529854, 54.019523933529854, 0, 0.14122751355171204); font-weight: 800;'>gates</span> <span style='background-color: rgba(59.571478217840195, 59.571478217840195, 0, 0.1557424267133077); font-weight: 800;'>is</span> <span style='background-color: rgba(255.0, 255.0, 0, 0.6666666666666666); font-weight: 800;'>asked</span> <span style='background-color: rgba(77.41769939661026, 77.41769939661026, 0, 0.202399214108785); font-weight: 800;'>to</span> <span style='background-color: rgba(84.90202099084854, 84.90202099084854, 0, 0.22196606794993082); font-weight: 800;'>join</span> <span style='background-color: rgba(48.33401441574097, 48.33401441574097, 0, 0.12636343638102213); font-weight: 800;'>us</span> <span style='background-color: rgba(29.052916131913662, 29.052916131913662, 0, 0.07595533629258473); font-weight: 800;'>.</span> <span style='background-color: rgba(32.716054469347, 32.716054469347, 0, 0.08553216854731242); font-weight: 800;'>[SEP]</span> "
      ],
      "text/plain": [
       "<IPython.core.display.HTML object>"
      ]
     },
     "metadata": {},
     "output_type": "display_data"
    },
    {
     "name": "stdout",
     "output_type": "stream",
     "text": [
      "Corr: 0.9808144908140684\n"
     ]
    },
    {
     "data": {
      "text/html": [
       "Epoch 2<span style='background-color: rgba(58.702529445290565, 58.702529445290565, 0, 0.15347066521644592); font-weight: 800;'>[CLS]</span> <span style='background-color: rgba(101.75405591726303, 101.75405591726303, 0, 0.2660236756006877); font-weight: 800;'>how</span> <span style='background-color: rgba(64.13679644465446, 64.13679644465446, 0, 0.16767789920171103); font-weight: 800;'>about</span> <span style='background-color: rgba(94.57775339484215, 94.57775339484215, 0, 0.24726210037867227); font-weight: 800;'>joining</span> <span style='background-color: rgba(52.98689894378185, 52.98689894378185, 0, 0.13852784037590027); font-weight: 800;'>us</span> <span style='background-color: rgba(26.58854316920042, 26.58854316920042, 0, 0.06951253116130829); font-weight: 800;'>,</span> <span style='background-color: rgba(53.8761006295681, 53.8761006295681, 0, 0.1408525506655375); font-weight: 800;'>mr</span> <span style='background-color: rgba(25.97620602697134, 25.97620602697134, 0, 0.06791164974371593); font-weight: 800;'>.</span> <span style='background-color: rgba(72.3935253918171, 72.3935253918171, 0, 0.18926411867141724); font-weight: 800;'>gates</span> <span style='background-color: rgba(70.35533756017685, 70.35533756017685, 0, 0.1839355230331421); font-weight: 800;'>?</span> <span style='background-color: rgba(28.826550878584385, 28.826550878584385, 0, 0.07536353170871735); font-weight: 800;'>[SEP]</span> <span style='background-color: rgba(57.65316255390644, 57.65316255390644, 0, 0.15072722236315408); font-weight: 800;'>mr</span> <span style='background-color: rgba(33.50853614509106, 33.50853614509106, 0, 0.08760401606559753); font-weight: 800;'>.</span> <span style='background-color: rgba(72.30584129691124, 72.30584129691124, 0, 0.18903487920761108); font-weight: 800;'>gates</span> <span style='background-color: rgba(61.04213610291481, 61.04213610291481, 0, 0.15958728392918906); font-weight: 800;'>is</span> <span style='background-color: rgba(255.0, 255.0, 0, 0.6666666666666666); font-weight: 800;'>asked</span> <span style='background-color: rgba(82.36479833722115, 82.36479833722115, 0, 0.21533280611038208); font-weight: 800;'>to</span> <span style='background-color: rgba(94.16603788733482, 94.16603788733482, 0, 0.24618571996688843); font-weight: 800;'>join</span> <span style='background-color: rgba(53.087745532393456, 53.087745532393456, 0, 0.13879149158795676); font-weight: 800;'>us</span> <span style='background-color: rgba(35.06292253732681, 35.06292253732681, 0, 0.0916677713394165); font-weight: 800;'>.</span> <span style='background-color: rgba(25.723378993570805, 25.723378993570805, 0, 0.06725066403547923); font-weight: 800;'>[SEP]</span> "
      ],
      "text/plain": [
       "<IPython.core.display.HTML object>"
      ]
     },
     "metadata": {},
     "output_type": "display_data"
    },
    {
     "name": "stdout",
     "output_type": "stream",
     "text": [
      "Corr: 0.9911796638662177\n"
     ]
    },
    {
     "data": {
      "text/html": [
       "Epoch 3<span style='background-color: rgba(81.55267551541328, 81.55267551541328, 0, 0.21320960919062296); font-weight: 800;'>[CLS]</span> <span style='background-color: rgba(101.14745646715164, 101.14745646715164, 0, 0.26443779468536377); font-weight: 800;'>how</span> <span style='background-color: rgba(70.73773384094238, 70.73773384094238, 0, 0.18493525187174478); font-weight: 800;'>about</span> <span style='background-color: rgba(111.67343124747276, 111.67343124747276, 0, 0.2919566829999288); font-weight: 800;'>joining</span> <span style='background-color: rgba(53.49460870027542, 53.49460870027542, 0, 0.1398551861445109); font-weight: 800;'>us</span> <span style='background-color: rgba(33.00339885056019, 33.00339885056019, 0, 0.08628339568773906); font-weight: 800;'>,</span> <span style='background-color: rgba(62.561336383223534, 62.561336383223534, 0, 0.16355904936790466); font-weight: 800;'>mr</span> <span style='background-color: rgba(31.203758418560028, 31.203758418560028, 0, 0.08157845338185628); font-weight: 800;'>.</span> <span style='background-color: rgba(69.5790696144104, 69.5790696144104, 0, 0.18190606435139975); font-weight: 800;'>gates</span> <span style='background-color: rgba(72.03578218817711, 72.03578218817711, 0, 0.18832884232203165); font-weight: 800;'>?</span> <span style='background-color: rgba(28.550448194146156, 28.550448194146156, 0, 0.0746416946252187); font-weight: 800;'>[SEP]</span> <span style='background-color: rgba(61.19910567998886, 61.19910567998886, 0, 0.15999766190846762); font-weight: 800;'>mr</span> <span style='background-color: rgba(35.40018104016781, 35.40018104016781, 0, 0.09254949291547139); font-weight: 800;'>.</span> <span style='background-color: rgba(70.28716161847115, 70.28716161847115, 0, 0.18375728527704874); font-weight: 800;'>gates</span> <span style='background-color: rgba(70.5461785197258, 70.5461785197258, 0, 0.18443445364634195); font-weight: 800;'>is</span> <span style='background-color: rgba(255.0, 255.0, 0, 0.6666666666666666); font-weight: 800;'>asked</span> <span style='background-color: rgba(85.68686127662659, 85.68686127662659, 0, 0.22401793797810873); font-weight: 800;'>to</span> <span style='background-color: rgba(107.20763728022575, 107.20763728022575, 0, 0.280281404654185); font-weight: 800;'>join</span> <span style='background-color: rgba(60.623482167720795, 60.623482167720795, 0, 0.15849276383717856); font-weight: 800;'>us</span> <span style='background-color: rgba(44.83008563518524, 44.83008563518524, 0, 0.1172028382619222); font-weight: 800;'>.</span> <span style='background-color: rgba(28.404378332197666, 28.404378332197666, 0, 0.07425981263319652); font-weight: 800;'>[SEP]</span> "
      ],
      "text/plain": [
       "<IPython.core.display.HTML object>"
      ]
     },
     "metadata": {},
     "output_type": "display_data"
    },
    {
     "name": "stdout",
     "output_type": "stream",
     "text": [
      "Corr: 0.8457896193430214\n"
     ]
    },
    {
     "data": {
      "text/html": [
       "Epoch 4<span style='background-color: rgba(73.8148695230484, 73.8148695230484, 0, 0.19298005104064941); font-weight: 800;'>[CLS]</span> <span style='background-color: rgba(120.99553942680359, 120.99553942680359, 0, 0.3163282076517741); font-weight: 800;'>how</span> <span style='background-color: rgba(86.6381174325943, 86.6381174325943, 0, 0.22650488217671713); font-weight: 800;'>about</span> <span style='background-color: rgba(130.55751353502274, 130.55751353502274, 0, 0.34132683277130127); font-weight: 800;'>joining</span> <span style='background-color: rgba(66.06404542922974, 66.06404542922974, 0, 0.17271645863850912); font-weight: 800;'>us</span> <span style='background-color: rgba(39.03771065175533, 39.03771065175533, 0, 0.10205937425295512); font-weight: 800;'>,</span> <span style='background-color: rgba(100.24315819144249, 100.24315819144249, 0, 0.26207361618677777); font-weight: 800;'>mr</span> <span style='background-color: rgba(49.6009424328804, 49.6009424328804, 0, 0.12967566649119058); font-weight: 800;'>.</span> <span style='background-color: rgba(169.33795899152756, 169.33795899152756, 0, 0.4427136182785034); font-weight: 800;'>gates</span> <span style='background-color: rgba(78.65763366222382, 78.65763366222382, 0, 0.2056408723195394); font-weight: 800;'>?</span> <span style='background-color: rgba(37.789637222886086, 37.789637222886086, 0, 0.09879643718401591); font-weight: 800;'>[SEP]</span> <span style='background-color: rgba(93.27673360705376, 93.27673360705376, 0, 0.2438607414563497); font-weight: 800;'>mr</span> <span style='background-color: rgba(54.80724446475506, 54.80724446475506, 0, 0.14328691363334656); font-weight: 800;'>.</span> <span style='background-color: rgba(169.36747580766678, 169.36747580766678, 0, 0.44279078642527264); font-weight: 800;'>gates</span> <span style='background-color: rgba(81.9360901415348, 81.9360901415348, 0, 0.21421200037002563); font-weight: 800;'>is</span> <span style='background-color: rgba(255.0, 255.0, 0, 0.6666666666666666); font-weight: 800;'>asked</span> <span style='background-color: rgba(75.85614278912544, 75.85614278912544, 0, 0.19831671317418417); font-weight: 800;'>to</span> <span style='background-color: rgba(119.76126685738564, 119.76126685738564, 0, 0.3131013512611389); font-weight: 800;'>join</span> <span style='background-color: rgba(65.39255306124687, 65.39255306124687, 0, 0.17096092303593954); font-weight: 800;'>us</span> <span style='background-color: rgba(38.05646650493145, 38.05646650493145, 0, 0.09949403007825215); font-weight: 800;'>.</span> <span style='background-color: rgba(33.15792515873909, 33.15792515873909, 0, 0.08668738603591919); font-weight: 800;'>[SEP]</span> "
      ],
      "text/plain": [
       "<IPython.core.display.HTML object>"
      ]
     },
     "metadata": {},
     "output_type": "display_data"
    },
    {
     "name": "stdout",
     "output_type": "stream",
     "text": [
      "Corr: 0.9826494119924254\n"
     ]
    },
    {
     "data": {
      "text/html": [
       "Epoch 5<span style='background-color: rgba(80.94758078455925, 80.94758078455925, 0, 0.21162766218185425); font-weight: 800;'>[CLS]</span> <span style='background-color: rgba(126.50392904877663, 126.50392904877663, 0, 0.33072922627131146); font-weight: 800;'>how</span> <span style='background-color: rgba(94.24515724182129, 94.24515724182129, 0, 0.24639256795247397); font-weight: 800;'>about</span> <span style='background-color: rgba(155.8651739358902, 155.8651739358902, 0, 0.40749065081278485); font-weight: 800;'>joining</span> <span style='background-color: rgba(78.29155370593071, 78.29155370593071, 0, 0.20468380053838095); font-weight: 800;'>us</span> <span style='background-color: rgba(45.508239045739174, 45.508239045739174, 0, 0.11897578835487366); font-weight: 800;'>,</span> <span style='background-color: rgba(116.32494404911995, 116.32494404911995, 0, 0.30411750078201294); font-weight: 800;'>mr</span> <span style='background-color: rgba(54.358047768473625, 54.358047768473625, 0, 0.14211254318555197); font-weight: 800;'>.</span> <span style='background-color: rgba(211.22724562883377, 211.22724562883377, 0, 0.5522280931472778); font-weight: 800;'>gates</span> <span style='background-color: rgba(86.87209367752075, 86.87209367752075, 0, 0.22711658477783203); font-weight: 800;'>?</span> <span style='background-color: rgba(42.68905632197857, 42.68905632197857, 0, 0.11160537600517273); font-weight: 800;'>[SEP]</span> <span style='background-color: rgba(104.62402671575546, 104.62402671575546, 0, 0.2735268672307332); font-weight: 800;'>mr</span> <span style='background-color: rgba(60.72536610066891, 60.72536610066891, 0, 0.1587591270605723); font-weight: 800;'>.</span> <span style='background-color: rgba(216.16299837827682, 216.16299837827682, 0, 0.5651320219039917); font-weight: 800;'>gates</span> <span style='background-color: rgba(80.43210804462433, 80.43210804462433, 0, 0.2102800210316976); font-weight: 800;'>is</span> <span style='background-color: rgba(255.0, 255.0, 0, 0.6666666666666666); font-weight: 800;'>asked</span> <span style='background-color: rgba(73.28438758850098, 73.28438758850098, 0, 0.19159317016601562); font-weight: 800;'>to</span> <span style='background-color: rgba(133.4661814570427, 133.4661814570427, 0, 0.3489311933517456); font-weight: 800;'>join</span> <span style='background-color: rgba(73.76449182629585, 73.76449182629585, 0, 0.19284834464391074); font-weight: 800;'>us</span> <span style='background-color: rgba(41.11165836453438, 41.11165836453438, 0, 0.10748145977656047); font-weight: 800;'>.</span> <span style='background-color: rgba(35.752703323960304, 35.752703323960304, 0, 0.09347111980120341); font-weight: 800;'>[SEP]</span> "
      ],
      "text/plain": [
       "<IPython.core.display.HTML object>"
      ]
     },
     "metadata": {},
     "output_type": "display_data"
    }
   ],
   "source": [
    "prev_HTA = None\n",
    "print(f\"### {idx} ###\")\n",
    "for e_no, hta in enumerate(HTAs):\n",
    "    if prev_HTA is not None:\n",
    "        print(\"Corr:\", pearsonr(prev_HTA[0], hta[0])[0])\n",
    "    prev_HTA = hta\n",
    "    print_globenc(hta[0], tokens, prefix=f\"Epoch {e_no}\")"
   ]
  },
  {
   "cell_type": "code",
   "execution_count": 16,
   "metadata": {},
   "outputs": [
    {
     "name": "stdout",
     "output_type": "stream",
     "text": [
      "### 223115 ###\n"
     ]
    },
    {
     "data": {
      "text/html": [
       "Epoch 0<span style='background-color: rgba(245.04526376724243, 245.04526376724243, 0, 0.6406412124633789); font-weight: 800;'>[CLS]</span> <span style='background-color: rgba(175.89751660823822, 175.89751660823822, 0, 0.45986278851826984); font-weight: 800;'>damp</span> <span style='background-color: rgba(112.88975358009338, 112.88975358009338, 0, 0.2951366106669108); font-weight: 800;'>cold</span> <span style='background-color: rgba(111.13987147808075, 111.13987147808075, 0, 0.2905617554982503); font-weight: 800;'>warm</span> <span style='background-color: rgba(107.71758511662483, 107.71758511662483, 0, 0.28161460161209106); font-weight: 800;'>[SEP]</span> <span style='background-color: rgba(255.0, 255.0, 0, 0.6666666666666666); font-weight: 800;'>moist</span> <span style='background-color: rgba(223.36311042308807, 223.36311042308807, 0, 0.5839558442433676); font-weight: 800;'>chilly</span> <span style='background-color: rgba(96.11303061246872, 96.11303061246872, 0, 0.251275897026062); font-weight: 800;'>not</span> <span style='background-color: rgba(98.23388680815697, 98.23388680815697, 0, 0.2568206191062927); font-weight: 800;'>cold</span> <span style='background-color: rgba(74.92710784077644, 74.92710784077644, 0, 0.19588786363601685); font-weight: 800;'>[SEP]</span> "
      ],
      "text/plain": [
       "<IPython.core.display.HTML object>"
      ]
     },
     "metadata": {},
     "output_type": "display_data"
    },
    {
     "name": "stdout",
     "output_type": "stream",
     "text": [
      "Corr: 0.7521692099234305\n"
     ]
    },
    {
     "data": {
      "text/html": [
       "Epoch 1<span style='background-color: rgba(129.41532522439957, 129.41532522439957, 0, 0.3383407195409139); font-weight: 800;'>[CLS]</span> <span style='background-color: rgba(206.4254280924797, 206.4254280924797, 0, 0.5396743218104044); font-weight: 800;'>damp</span> <span style='background-color: rgba(124.71728771924973, 124.71728771924973, 0, 0.3260582685470581); font-weight: 800;'>cold</span> <span style='background-color: rgba(130.640409886837, 130.640409886837, 0, 0.3415435552597046); font-weight: 800;'>warm</span> <span style='background-color: rgba(59.52247604727745, 59.52247604727745, 0, 0.15561431646347046); font-weight: 800;'>[SEP]</span> <span style='background-color: rgba(255.0, 255.0, 0, 0.6666666666666666); font-weight: 800;'>moist</span> <span style='background-color: rgba(251.96657717227936, 251.96657717227936, 0, 0.6587361494700114); font-weight: 800;'>chilly</span> <span style='background-color: rgba(126.79424867033958, 126.79424867033958, 0, 0.3314882318178813); font-weight: 800;'>not</span> <span style='background-color: rgba(140.4435494542122, 140.4435494542122, 0, 0.36717267831166583); font-weight: 800;'>cold</span> <span style='background-color: rgba(67.51407042145729, 67.51407042145729, 0, 0.17650737365086874); font-weight: 800;'>[SEP]</span> "
      ],
      "text/plain": [
       "<IPython.core.display.HTML object>"
      ]
     },
     "metadata": {},
     "output_type": "display_data"
    },
    {
     "name": "stdout",
     "output_type": "stream",
     "text": [
      "Corr: 0.971653861606745\n"
     ]
    },
    {
     "data": {
      "text/html": [
       "Epoch 2<span style='background-color: rgba(119.8801700770855, 119.8801700770855, 0, 0.3134122093518575); font-weight: 800;'>[CLS]</span> <span style='background-color: rgba(197.67905741930008, 197.67905741930008, 0, 0.5168079932530721); font-weight: 800;'>damp</span> <span style='background-color: rgba(143.55573445558548, 143.55573445558548, 0, 0.3753091096878052); font-weight: 800;'>cold</span> <span style='background-color: rgba(154.4846472144127, 154.4846472144127, 0, 0.4038814306259155); font-weight: 800;'>warm</span> <span style='background-color: rgba(60.20543619990349, 60.20543619990349, 0, 0.15739983320236206); font-weight: 800;'>[SEP]</span> <span style='background-color: rgba(222.88872867822647, 222.88872867822647, 0, 0.582715630531311); font-weight: 800;'>moist</span> <span style='background-color: rgba(255.0, 255.0, 0, 0.6666666666666666); font-weight: 800;'>chilly</span> <span style='background-color: rgba(124.03625026345253, 124.03625026345253, 0, 0.32427777846654254); font-weight: 800;'>not</span> <span style='background-color: rgba(151.48250430822372, 151.48250430822372, 0, 0.3960326910018921); font-weight: 800;'>cold</span> <span style='background-color: rgba(57.094828113913536, 57.094828113913536, 0, 0.1492675244808197); font-weight: 800;'>[SEP]</span> "
      ],
      "text/plain": [
       "<IPython.core.display.HTML object>"
      ]
     },
     "metadata": {},
     "output_type": "display_data"
    },
    {
     "name": "stdout",
     "output_type": "stream",
     "text": [
      "Corr: 0.8519427756798851\n"
     ]
    },
    {
     "data": {
      "text/html": [
       "Epoch 3<span style='background-color: rgba(91.09663099050522, 91.09663099050522, 0, 0.23816112677256265); font-weight: 800;'>[CLS]</span> <span style='background-color: rgba(201.96141242980957, 201.96141242980957, 0, 0.5280036926269531); font-weight: 800;'>damp</span> <span style='background-color: rgba(122.99163311719894, 122.99163311719894, 0, 0.3215467532475789); font-weight: 800;'>cold</span> <span style='background-color: rgba(111.24305114150047, 111.24305114150047, 0, 0.2908315062522888); font-weight: 800;'>warm</span> <span style='background-color: rgba(52.93056316673756, 52.93056316673756, 0, 0.13838055729866028); font-weight: 800;'>[SEP]</span> <span style='background-color: rgba(255.0, 255.0, 0, 0.6666666666666666); font-weight: 800;'>moist</span> <span style='background-color: rgba(162.2544702887535, 162.2544702887535, 0, 0.42419469356536865); font-weight: 800;'>chilly</span> <span style='background-color: rgba(90.33683896064758, 90.33683896064758, 0, 0.23617474238077799); font-weight: 800;'>not</span> <span style='background-color: rgba(118.65842923521996, 118.65842923521996, 0, 0.31021811564763385); font-weight: 800;'>cold</span> <span style='background-color: rgba(68.3104620873928, 68.3104620873928, 0, 0.17858944336573282); font-weight: 800;'>[SEP]</span> "
      ],
      "text/plain": [
       "<IPython.core.display.HTML object>"
      ]
     },
     "metadata": {},
     "output_type": "display_data"
    },
    {
     "name": "stdout",
     "output_type": "stream",
     "text": [
      "Corr: 0.8611374043680651\n"
     ]
    },
    {
     "data": {
      "text/html": [
       "Epoch 4<span style='background-color: rgba(183.3550876379013, 183.3550876379013, 0, 0.4793597062428792); font-weight: 800;'>[CLS]</span> <span style='background-color: rgba(230.42927205562592, 230.42927205562592, 0, 0.602429469426473); font-weight: 800;'>damp</span> <span style='background-color: rgba(174.59172427654266, 174.59172427654266, 0, 0.4564489523569743); font-weight: 800;'>cold</span> <span style='background-color: rgba(187.32202917337418, 187.32202917337418, 0, 0.48973079522450763); font-weight: 800;'>warm</span> <span style='background-color: rgba(60.621741861104965, 60.621741861104965, 0, 0.1584882140159607); font-weight: 800;'>[SEP]</span> <span style='background-color: rgba(255.0, 255.0, 0, 0.6666666666666666); font-weight: 800;'>moist</span> <span style='background-color: rgba(243.09916019439697, 243.09916019439697, 0, 0.6355533599853516); font-weight: 800;'>chilly</span> <span style='background-color: rgba(114.06737118959427, 114.06737118959427, 0, 0.2982153495152791); font-weight: 800;'>not</span> <span style='background-color: rgba(143.56988489627838, 143.56988489627838, 0, 0.3753461043039958); font-weight: 800;'>cold</span> <span style='background-color: rgba(57.300381883978844, 57.300381883978844, 0, 0.14980491995811462); font-weight: 800;'>[SEP]</span> "
      ],
      "text/plain": [
       "<IPython.core.display.HTML object>"
      ]
     },
     "metadata": {},
     "output_type": "display_data"
    },
    {
     "name": "stdout",
     "output_type": "stream",
     "text": [
      "Corr: 0.9782125558850623\n"
     ]
    },
    {
     "data": {
      "text/html": [
       "Epoch 5<span style='background-color: rgba(139.2772400379181, 139.2772400379181, 0, 0.36412350336710614); font-weight: 800;'>[CLS]</span> <span style='background-color: rgba(230.61298459768295, 230.61298459768295, 0, 0.6029097636540731); font-weight: 800;'>damp</span> <span style='background-color: rgba(155.7198241353035, 155.7198241353035, 0, 0.40711065133412677); font-weight: 800;'>cold</span> <span style='background-color: rgba(153.00686091184616, 153.00686091184616, 0, 0.4000179370244344); font-weight: 800;'>warm</span> <span style='background-color: rgba(56.744384318590164, 56.744384318590164, 0, 0.14835133155186972); font-weight: 800;'>[SEP]</span> <span style='background-color: rgba(255.0, 255.0, 0, 0.6666666666666666); font-weight: 800;'>moist</span> <span style='background-color: rgba(232.48017400503159, 232.48017400503159, 0, 0.6077913045883179); font-weight: 800;'>chilly</span> <span style='background-color: rgba(100.10303691029549, 100.10303691029549, 0, 0.2617072860399882); font-weight: 800;'>not</span> <span style='background-color: rgba(120.7825380563736, 120.7825380563736, 0, 0.31577134132385254); font-weight: 800;'>cold</span> <span style='background-color: rgba(52.19458445906639, 52.19458445906639, 0, 0.1364564299583435); font-weight: 800;'>[SEP]</span> "
      ],
      "text/plain": [
       "<IPython.core.display.HTML object>"
      ]
     },
     "metadata": {},
     "output_type": "display_data"
    }
   ],
   "source": [
    "prev_HTA = None\n",
    "print(f\"### {idx} ###\")\n",
    "for e_no, hta in enumerate(HTAs):\n",
    "    if prev_HTA is not None:\n",
    "        print(\"Corr:\", pearsonr(prev_HTA[0], hta[0])[0])\n",
    "    prev_HTA = hta\n",
    "    print_globenc(hta[0], tokens, prefix=f\"Epoch {e_no}\")"
   ]
  },
  {
   "cell_type": "code",
   "execution_count": 14,
   "metadata": {},
   "outputs": [
    {
     "name": "stdout",
     "output_type": "stream",
     "text": [
      "### 113001 ###\n"
     ]
    },
    {
     "data": {
      "text/html": [
       "Epoch 0<span style='background-color: rgba(166.01687639951706, 166.01687639951706, 0, 0.43403104941050213); font-weight: 800;'>[CLS]</span> <span style='background-color: rgba(122.09397688508034, 122.09397688508034, 0, 0.31919993956883747); font-weight: 800;'>friend</span> <span style='background-color: rgba(62.471752390265465, 62.471752390265465, 0, 0.16332484285036722); font-weight: 800;'>,</span> <span style='background-color: rgba(97.74252757430077, 97.74252757430077, 0, 0.2555360198020935); font-weight: 800;'>said</span> <span style='background-color: rgba(186.5708550810814, 186.5708550810814, 0, 0.48776694138844806); font-weight: 800;'>jon</span> <span style='background-color: rgba(52.10786171257496, 52.10786171257496, 0, 0.13622970382372537); font-weight: 800;'>.</span> <span style='background-color: rgba(61.987631767988205, 61.987631767988205, 0, 0.1620591680208842); font-weight: 800;'>[SEP]</span> <span style='background-color: rgba(255.0, 255.0, 0, 0.6666666666666666); font-weight: 800;'>jon</span> <span style='background-color: rgba(135.50179302692413, 135.50179302692413, 0, 0.35425305366516113); font-weight: 800;'>said</span> <span style='background-color: rgba(151.89087599515915, 151.89087599515915, 0, 0.3971003293991089); font-weight: 800;'>friend</span> <span style='background-color: rgba(48.54826971888542, 48.54826971888542, 0, 0.12692358096440634); font-weight: 800;'>.</span> <span style='background-color: rgba(62.55332261323929, 62.55332261323929, 0, 0.1635380983352661); font-weight: 800;'>[SEP]</span> "
      ],
      "text/plain": [
       "<IPython.core.display.HTML object>"
      ]
     },
     "metadata": {},
     "output_type": "display_data"
    },
    {
     "name": "stdout",
     "output_type": "stream",
     "text": [
      "Corr: 0.6653317691578715\n"
     ]
    },
    {
     "data": {
      "text/html": [
       "Epoch 1<span style='background-color: rgba(129.5257169008255, 129.5257169008255, 0, 0.3386293252309163); font-weight: 800;'>[CLS]</span> <span style='background-color: rgba(238.0536237359047, 238.0536237359047, 0, 0.6223624149958292); font-weight: 800;'>friend</span> <span style='background-color: rgba(78.36445659399033, 78.36445659399033, 0, 0.20487439632415771); font-weight: 800;'>,</span> <span style='background-color: rgba(116.10687375068665, 116.10687375068665, 0, 0.30354738235473633); font-weight: 800;'>said</span> <span style='background-color: rgba(142.9835307598114, 142.9835307598114, 0, 0.3738131523132324); font-weight: 800;'>jon</span> <span style='background-color: rgba(48.968508169054985, 48.968508169054985, 0, 0.12802224357922873); font-weight: 800;'>.</span> <span style='background-color: rgba(66.10238537192345, 66.10238537192345, 0, 0.1728166937828064); font-weight: 800;'>[SEP]</span> <span style='background-color: rgba(183.83059412240982, 183.83059412240982, 0, 0.48060286045074463); font-weight: 800;'>jon</span> <span style='background-color: rgba(205.3766691684723, 205.3766691684723, 0, 0.5369324684143066); font-weight: 800;'>said</span> <span style='background-color: rgba(255.0, 255.0, 0, 0.6666666666666666); font-weight: 800;'>friend</span> <span style='background-color: rgba(67.73553773760796, 67.73553773760796, 0, 0.1770863731702169); font-weight: 800;'>.</span> <span style='background-color: rgba(65.56760966777802, 65.56760966777802, 0, 0.1714185873667399); font-weight: 800;'>[SEP]</span> "
      ],
      "text/plain": [
       "<IPython.core.display.HTML object>"
      ]
     },
     "metadata": {},
     "output_type": "display_data"
    },
    {
     "name": "stdout",
     "output_type": "stream",
     "text": [
      "Corr: 0.9222954141695432\n"
     ]
    },
    {
     "data": {
      "text/html": [
       "Epoch 2<span style='background-color: rgba(119.36380058526993, 119.36380058526993, 0, 0.31206222375233966); font-weight: 800;'>[CLS]</span> <span style='background-color: rgba(194.98906016349792, 194.98906016349792, 0, 0.5097753206888834); font-weight: 800;'>friend</span> <span style='background-color: rgba(99.92953822016716, 99.92953822016716, 0, 0.2612536946932475); font-weight: 800;'>,</span> <span style='background-color: rgba(147.559412419796, 147.559412419796, 0, 0.38577624162038165); font-weight: 800;'>said</span> <span style='background-color: rgba(180.6556060910225, 180.6556060910225, 0, 0.47230223814646405); font-weight: 800;'>jon</span> <span style='background-color: rgba(97.90126785635948, 97.90126785635948, 0, 0.25595102707544964); font-weight: 800;'>.</span> <span style='background-color: rgba(54.86114837229252, 54.86114837229252, 0, 0.14342783888181052); font-weight: 800;'>[SEP]</span> <span style='background-color: rgba(210.8755213022232, 210.8755213022232, 0, 0.5513085524241129); font-weight: 800;'>jon</span> <span style='background-color: rgba(255.0, 255.0, 0, 0.6666666666666666); font-weight: 800;'>said</span> <span style='background-color: rgba(248.79896074533463, 248.79896074533463, 0, 0.6504547993342081); font-weight: 800;'>friend</span> <span style='background-color: rgba(85.7954366505146, 85.7954366505146, 0, 0.22430179516474405); font-weight: 800;'>.</span> <span style='background-color: rgba(64.41206887364388, 64.41206887364388, 0, 0.1683975656827291); font-weight: 800;'>[SEP]</span> "
      ],
      "text/plain": [
       "<IPython.core.display.HTML object>"
      ]
     },
     "metadata": {},
     "output_type": "display_data"
    },
    {
     "name": "stdout",
     "output_type": "stream",
     "text": [
      "Corr: 0.9633811836065308\n"
     ]
    },
    {
     "data": {
      "text/html": [
       "Epoch 3<span style='background-color: rgba(103.17962542176247, 103.17962542176247, 0, 0.2697506546974182); font-weight: 800;'>[CLS]</span> <span style='background-color: rgba(186.024110019207, 186.024110019207, 0, 0.4863375425338745); font-weight: 800;'>friend</span> <span style='background-color: rgba(124.37307178974152, 124.37307178974152, 0, 0.32515835762023926); font-weight: 800;'>,</span> <span style='background-color: rgba(159.19248819351196, 159.19248819351196, 0, 0.4161895116170247); font-weight: 800;'>said</span> <span style='background-color: rgba(178.8150304555893, 178.8150304555893, 0, 0.467490275700887); font-weight: 800;'>jon</span> <span style='background-color: rgba(129.71207410097122, 129.71207410097122, 0, 0.33911653359731037); font-weight: 800;'>.</span> <span style='background-color: rgba(60.16640089452267, 60.16640089452267, 0, 0.15729778011639914); font-weight: 800;'>[SEP]</span> <span style='background-color: rgba(194.99270796775818, 194.99270796775818, 0, 0.5097848574320475); font-weight: 800;'>jon</span> <span style='background-color: rgba(255.0, 255.0, 0, 0.6666666666666666); font-weight: 800;'>said</span> <span style='background-color: rgba(221.60400241613388, 221.60400241613388, 0, 0.579356869061788); font-weight: 800;'>friend</span> <span style='background-color: rgba(120.58588340878487, 120.58588340878487, 0, 0.3152572115262349); font-weight: 800;'>.</span> <span style='background-color: rgba(56.58784791827202, 56.58784791827202, 0, 0.1479420860608419); font-weight: 800;'>[SEP]</span> "
      ],
      "text/plain": [
       "<IPython.core.display.HTML object>"
      ]
     },
     "metadata": {},
     "output_type": "display_data"
    },
    {
     "name": "stdout",
     "output_type": "stream",
     "text": [
      "Corr: 0.8521806895455177\n"
     ]
    },
    {
     "data": {
      "text/html": [
       "Epoch 4<span style='background-color: rgba(98.08617353439331, 98.08617353439331, 0, 0.25643444061279297); font-weight: 800;'>[CLS]</span> <span style='background-color: rgba(157.85707265138626, 157.85707265138626, 0, 0.412698229153951); font-weight: 800;'>friend</span> <span style='background-color: rgba(101.6833645105362, 101.6833645105362, 0, 0.2658388614654541); font-weight: 800;'>,</span> <span style='background-color: rgba(146.2027484178543, 146.2027484178543, 0, 0.38222940762837726); font-weight: 800;'>said</span> <span style='background-color: rgba(237.6085764169693, 237.6085764169693, 0, 0.6211988925933838); font-weight: 800;'>jon</span> <span style='background-color: rgba(62.09089122712612, 62.09089122712612, 0, 0.1623291273911794); font-weight: 800;'>.</span> <span style='background-color: rgba(48.5192696750164, 48.5192696750164, 0, 0.12684776385625204); font-weight: 800;'>[SEP]</span> <span style='background-color: rgba(255.0, 255.0, 0, 0.6666666666666666); font-weight: 800;'>jon</span> <span style='background-color: rgba(207.38744527101517, 207.38744527101517, 0, 0.5421893994013468); font-weight: 800;'>said</span> <span style='background-color: rgba(204.861219227314, 204.861219227314, 0, 0.5355848868687948); font-weight: 800;'>friend</span> <span style='background-color: rgba(61.44064351916313, 61.44064351916313, 0, 0.16062913338343301); font-weight: 800;'>.</span> <span style='background-color: rgba(54.43267576396465, 54.43267576396465, 0, 0.14230764905611673); font-weight: 800;'>[SEP]</span> "
      ],
      "text/plain": [
       "<IPython.core.display.HTML object>"
      ]
     },
     "metadata": {},
     "output_type": "display_data"
    },
    {
     "name": "stdout",
     "output_type": "stream",
     "text": [
      "Corr: 0.9635059556718347\n"
     ]
    },
    {
     "data": {
      "text/html": [
       "Epoch 5<span style='background-color: rgba(102.53775626420975, 102.53775626420975, 0, 0.26807256539662677); font-weight: 800;'>[CLS]</span> <span style='background-color: rgba(197.968647480011, 197.968647480011, 0, 0.5175650914510092); font-weight: 800;'>friend</span> <span style='background-color: rgba(92.33661085367203, 92.33661085367203, 0, 0.2414029041926066); font-weight: 800;'>,</span> <span style='background-color: rgba(154.1147294640541, 154.1147294640541, 0, 0.4029143253962199); font-weight: 800;'>said</span> <span style='background-color: rgba(218.33991676568985, 218.33991676568985, 0, 0.5708233118057251); font-weight: 800;'>jon</span> <span style='background-color: rgba(63.04329112172127, 63.04329112172127, 0, 0.16481906175613403); font-weight: 800;'>.</span> <span style='background-color: rgba(50.618847012519836, 50.618847012519836, 0, 0.13233685493469238); font-weight: 800;'>[SEP]</span> <span style='background-color: rgba(239.54618364572525, 239.54618364572525, 0, 0.6262645324071249); font-weight: 800;'>jon</span> <span style='background-color: rgba(242.93013006448746, 242.93013006448746, 0, 0.6351114511489868); font-weight: 800;'>said</span> <span style='background-color: rgba(255.0, 255.0, 0, 0.6666666666666666); font-weight: 800;'>friend</span> <span style='background-color: rgba(66.12469777464867, 66.12469777464867, 0, 0.17287502686182657); font-weight: 800;'>.</span> <span style='background-color: rgba(61.09766252338886, 61.09766252338886, 0, 0.15973245104153952); font-weight: 800;'>[SEP]</span> "
      ],
      "text/plain": [
       "<IPython.core.display.HTML object>"
      ]
     },
     "metadata": {},
     "output_type": "display_data"
    }
   ],
   "source": [
    "prev_HTA = None\n",
    "print(f\"### {idx} ###\")\n",
    "for e_no, hta in enumerate(HTAs):\n",
    "    if prev_HTA is not None:\n",
    "        print(\"Corr:\", pearsonr(prev_HTA[0], hta[0])[0])\n",
    "    prev_HTA = hta\n",
    "    print_globenc(hta[0], tokens, prefix=f\"Epoch {e_no}\")"
   ]
  },
  {
   "cell_type": "code",
   "execution_count": 10,
   "metadata": {},
   "outputs": [
    {
     "name": "stdout",
     "output_type": "stream",
     "text": [
      "### 364274 ###\n"
     ]
    },
    {
     "data": {
      "text/html": [
       "Epoch 0<span style='background-color: rgba(255.0, 255.0, 0, 0.6666666666666666); font-weight: 800;'>[CLS]</span> <span style='background-color: rgba(195.32788038253784, 195.32788038253784, 0, 0.5106611251831055); font-weight: 800;'>ad</span> <span style='background-color: rgba(172.01348662376404, 172.01348662376404, 0, 0.4497084617614746); font-weight: 800;'>##rin</span> <span style='background-color: rgba(159.99505072832108, 159.99505072832108, 0, 0.418287714322408); font-weight: 800;'>whistled</span> <span style='background-color: rgba(61.58396042883396, 61.58396042883396, 0, 0.1610038181145986); font-weight: 800;'>and</span> <span style='background-color: rgba(46.89574979245663, 46.89574979245663, 0, 0.12260326743125916); font-weight: 800;'>the</span> <span style='background-color: rgba(77.16294586658478, 77.16294586658478, 0, 0.2017331918080648); font-weight: 800;'>sound</span> <span style='background-color: rgba(125.20689144730568, 125.20689144730568, 0, 0.3273382782936096); font-weight: 800;'>startled</span> <span style='background-color: rgba(121.38970747590065, 121.38970747590065, 0, 0.31735871235529584); font-weight: 800;'>ca</span> <span style='background-color: rgba(78.90487119555473, 78.90487119555473, 0, 0.20628724495569864); font-weight: 800;'>'</span> <span style='background-color: rgba(161.47502571344376, 161.47502571344376, 0, 0.4221569299697876); font-weight: 800;'>da</span> <span style='background-color: rgba(98.60274821519852, 98.60274821519852, 0, 0.25778496265411377); font-weight: 800;'>##an</span> <span style='background-color: rgba(75.30466318130493, 75.30466318130493, 0, 0.19687493642171225); font-weight: 800;'>.</span> <span style='background-color: rgba(63.54684390127659, 63.54684390127659, 0, 0.16613553961118063); font-weight: 800;'>[SEP]</span> <span style='background-color: rgba(122.37550377845764, 122.37550377845764, 0, 0.31993595759073895); font-weight: 800;'>ca</span> <span style='background-color: rgba(88.1967405974865, 88.1967405974865, 0, 0.23057971398035684); font-weight: 800;'>'</span> <span style='background-color: rgba(145.39840757846832, 145.39840757846832, 0, 0.3801265557607015); font-weight: 800;'>da</span> <span style='background-color: rgba(93.86559560894966, 93.86559560894966, 0, 0.24540024995803833); font-weight: 800;'>##an</span> <span style='background-color: rgba(185.874565243721, 185.874565243721, 0, 0.4859465758005778); font-weight: 800;'>whistled</span> <span style='background-color: rgba(67.9984076321125, 67.9984076321125, 0, 0.17777361472447714); font-weight: 800;'>and</span> <span style='background-color: rgba(187.47569292783737, 187.47569292783737, 0, 0.49013253053029376); font-weight: 800;'>startled</span> <span style='background-color: rgba(228.74146342277527, 228.74146342277527, 0, 0.5980168978373209); font-weight: 800;'>ad</span> <span style='background-color: rgba(228.9642834663391, 228.9642834663391, 0, 0.5985994338989258); font-weight: 800;'>##rin</span> <span style='background-color: rgba(67.2985003888607, 67.2985003888607, 0, 0.1759437918663025); font-weight: 800;'>.</span> <span style='background-color: rgba(54.500163942575455, 54.500163942575455, 0, 0.14248408873875937); font-weight: 800;'>[SEP]</span> "
      ],
      "text/plain": [
       "<IPython.core.display.HTML object>"
      ]
     },
     "metadata": {},
     "output_type": "display_data"
    },
    {
     "name": "stdout",
     "output_type": "stream",
     "text": [
      "Corr: 0.4760787503330629\n"
     ]
    },
    {
     "data": {
      "text/html": [
       "Epoch 1<span style='background-color: rgba(138.4931445121765, 138.4931445121765, 0, 0.3620735804239909); font-weight: 800;'>[CLS]</span> <span style='background-color: rgba(87.80475363135338, 87.80475363135338, 0, 0.22955491145451865); font-weight: 800;'>ad</span> <span style='background-color: rgba(97.5593090057373, 97.5593090057373, 0, 0.25505701700846356); font-weight: 800;'>##rin</span> <span style='background-color: rgba(177.3731142282486, 177.3731142282486, 0, 0.46372056007385254); font-weight: 800;'>whistled</span> <span style='background-color: rgba(100.24353057146072, 100.24353057146072, 0, 0.2620745897293091); font-weight: 800;'>and</span> <span style='background-color: rgba(44.048330783843994, 44.048330783843994, 0, 0.1151590347290039); font-weight: 800;'>the</span> <span style='background-color: rgba(104.42083641886711, 104.42083641886711, 0, 0.27299565076828003); font-weight: 800;'>sound</span> <span style='background-color: rgba(196.24936133623123, 196.24936133623123, 0, 0.5130702257156372); font-weight: 800;'>startled</span> <span style='background-color: rgba(63.16309869289398, 63.16309869289398, 0, 0.1651322841644287); font-weight: 800;'>ca</span> <span style='background-color: rgba(39.64949682354927, 39.64949682354927, 0, 0.10365881522496541); font-weight: 800;'>'</span> <span style='background-color: rgba(54.28586684167385, 54.28586684167385, 0, 0.14192383488019308); font-weight: 800;'>da</span> <span style='background-color: rgba(60.06012819707394, 60.06012819707394, 0, 0.1570199429988861); font-weight: 800;'>##an</span> <span style='background-color: rgba(39.07444708049297, 39.07444708049297, 0, 0.1021554172039032); font-weight: 800;'>.</span> <span style='background-color: rgba(42.0515189319849, 42.0515189319849, 0, 0.10993861158688863); font-weight: 800;'>[SEP]</span> <span style='background-color: rgba(67.61625453829765, 67.61625453829765, 0, 0.17677452166875204); font-weight: 800;'>ca</span> <span style='background-color: rgba(51.69161684811115, 51.69161684811115, 0, 0.13514148195584616); font-weight: 800;'>'</span> <span style='background-color: rgba(91.99206054210663, 91.99206054210663, 0, 0.24050211906433105); font-weight: 800;'>da</span> <span style='background-color: rgba(101.43262356519699, 101.43262356519699, 0, 0.26518332958221436); font-weight: 800;'>##an</span> <span style='background-color: rgba(218.39057564735413, 218.39057564735413, 0, 0.570955753326416); font-weight: 800;'>whistled</span> <span style='background-color: rgba(143.31619530916214, 143.31619530916214, 0, 0.37468286355336505); font-weight: 800;'>and</span> <span style='background-color: rgba(255.0, 255.0, 0, 0.6666666666666666); font-weight: 800;'>startled</span> <span style='background-color: rgba(84.93933498859406, 84.93933498859406, 0, 0.22206362088521323); font-weight: 800;'>ad</span> <span style='background-color: rgba(104.7790963947773, 104.7790963947773, 0, 0.2739322781562805); font-weight: 800;'>##rin</span> <span style='background-color: rgba(53.73824782669544, 53.73824782669544, 0, 0.1404921511809031); font-weight: 800;'>.</span> <span style='background-color: rgba(34.27620515227318, 34.27620515227318, 0, 0.0896109938621521); font-weight: 800;'>[SEP]</span> "
      ],
      "text/plain": [
       "<IPython.core.display.HTML object>"
      ]
     },
     "metadata": {},
     "output_type": "display_data"
    },
    {
     "name": "stdout",
     "output_type": "stream",
     "text": [
      "Corr: 0.9329211157773295\n"
     ]
    },
    {
     "data": {
      "text/html": [
       "Epoch 2<span style='background-color: rgba(134.1350519657135, 134.1350519657135, 0, 0.350679874420166); font-weight: 800;'>[CLS]</span> <span style='background-color: rgba(145.7875218987465, 145.7875218987465, 0, 0.38114384810129803); font-weight: 800;'>ad</span> <span style='background-color: rgba(203.32906544208527, 203.32906544208527, 0, 0.5315792560577393); font-weight: 800;'>##rin</span> <span style='background-color: rgba(218.4291511774063, 218.4291511774063, 0, 0.571056604385376); font-weight: 800;'>whistled</span> <span style='background-color: rgba(118.34429249167442, 118.34429249167442, 0, 0.3093968431154887); font-weight: 800;'>and</span> <span style='background-color: rgba(63.79744425415993, 63.79744425415993, 0, 0.16679070393244425); font-weight: 800;'>the</span> <span style='background-color: rgba(133.24637085199356, 133.24637085199356, 0, 0.34835652510325116); font-weight: 800;'>sound</span> <span style='background-color: rgba(221.41156554222107, 221.41156554222107, 0, 0.5788537661234537); font-weight: 800;'>startled</span> <span style='background-color: rgba(70.32582834362984, 70.32582834362984, 0, 0.1838583747545878); font-weight: 800;'>ca</span> <span style='background-color: rgba(43.87650020420551, 43.87650020420551, 0, 0.11470980445543925); font-weight: 800;'>'</span> <span style='background-color: rgba(60.8074264973402, 60.8074264973402, 0, 0.15897366404533386); font-weight: 800;'>da</span> <span style='background-color: rgba(69.93767157196999, 69.93767157196999, 0, 0.18284358580907187); font-weight: 800;'>##an</span> <span style='background-color: rgba(61.54225006699562, 61.54225006699562, 0, 0.16089477141698202); font-weight: 800;'>.</span> <span style='background-color: rgba(38.432099148631096, 38.432099148631096, 0, 0.10047607620557149); font-weight: 800;'>[SEP]</span> <span style='background-color: rgba(75.87469339370728, 75.87469339370728, 0, 0.1983652114868164); font-weight: 800;'>ca</span> <span style='background-color: rgba(56.88043601810932, 56.88043601810932, 0, 0.14870702226956686); font-weight: 800;'>'</span> <span style='background-color: rgba(98.99649828672409, 98.99649828672409, 0, 0.25881437460581463); font-weight: 800;'>da</span> <span style='background-color: rgba(126.81006342172623, 126.81006342172623, 0, 0.33152957757314044); font-weight: 800;'>##an</span> <span style='background-color: rgba(255.0, 255.0, 0, 0.6666666666666666); font-weight: 800;'>whistled</span> <span style='background-color: rgba(191.42360508441925, 191.42360508441925, 0, 0.5004538695017496); font-weight: 800;'>and</span> <span style='background-color: rgba(239.6370443701744, 239.6370443701744, 0, 0.6265020767847697); font-weight: 800;'>startled</span> <span style='background-color: rgba(99.42478090524673, 99.42478090524673, 0, 0.25993406772613525); font-weight: 800;'>ad</span> <span style='background-color: rgba(127.76169955730438, 127.76169955730438, 0, 0.3340175151824951); font-weight: 800;'>##rin</span> <span style='background-color: rgba(59.56130616366863, 59.56130616366863, 0, 0.1557158331076304); font-weight: 800;'>.</span> <span style='background-color: rgba(36.98580175638199, 36.98580175638199, 0, 0.09669490655263265); font-weight: 800;'>[SEP]</span> "
      ],
      "text/plain": [
       "<IPython.core.display.HTML object>"
      ]
     },
     "metadata": {},
     "output_type": "display_data"
    },
    {
     "name": "stdout",
     "output_type": "stream",
     "text": [
      "Corr: 0.7850461788517407\n"
     ]
    },
    {
     "data": {
      "text/html": [
       "Epoch 3<span style='background-color: rgba(81.65528520941734, 81.65528520941734, 0, 0.21347786982854208); font-weight: 800;'>[CLS]</span> <span style='background-color: rgba(185.9595286846161, 185.9595286846161, 0, 0.48616870244344074); font-weight: 800;'>ad</span> <span style='background-color: rgba(255.0, 255.0, 0, 0.6666666666666666); font-weight: 800;'>##rin</span> <span style='background-color: rgba(172.47812569141388, 172.47812569141388, 0, 0.45092320442199707); font-weight: 800;'>whistled</span> <span style='background-color: rgba(64.48747962713242, 64.48747962713242, 0, 0.16859471797943115); font-weight: 800;'>and</span> <span style='background-color: rgba(31.059244573116302, 31.059244573116302, 0, 0.08120063940684001); font-weight: 800;'>the</span> <span style='background-color: rgba(74.90740209817886, 74.90740209817886, 0, 0.19583634535471597); font-weight: 800;'>sound</span> <span style='background-color: rgba(124.77890521287918, 124.77890521287918, 0, 0.3262193600336711); font-weight: 800;'>startled</span> <span style='background-color: rgba(60.314414352178574, 60.314414352178574, 0, 0.15768474340438843); font-weight: 800;'>ca</span> <span style='background-color: rgba(36.6364561021328, 36.6364561021328, 0, 0.09578158458073933); font-weight: 800;'>'</span> <span style='background-color: rgba(64.51354622840881, 64.51354622840881, 0, 0.16866286595662436); font-weight: 800;'>da</span> <span style='background-color: rgba(67.26133838295937, 67.26133838295937, 0, 0.1758466362953186); font-weight: 800;'>##an</span> <span style='background-color: rgba(30.471100732684135, 30.471100732684135, 0, 0.07966300845146179); font-weight: 800;'>.</span> <span style='background-color: rgba(27.23910056054592, 27.23910056054592, 0, 0.07121333479881287); font-weight: 800;'>[SEP]</span> <span style='background-color: rgba(69.44528639316559, 69.44528639316559, 0, 0.18155630429585776); font-weight: 800;'>ca</span> <span style='background-color: rgba(56.697829216718674, 56.697829216718674, 0, 0.14822961886723837); font-weight: 800;'>'</span> <span style='background-color: rgba(123.97685945034027, 123.97685945034027, 0, 0.32412250836690265); font-weight: 800;'>da</span> <span style='background-color: rgba(154.7543567419052, 154.7543567419052, 0, 0.4045865535736084); font-weight: 800;'>##an</span> <span style='background-color: rgba(177.10142880678177, 177.10142880678177, 0, 0.4630102713902791); font-weight: 800;'>whistled</span> <span style='background-color: rgba(68.79437372088432, 68.79437372088432, 0, 0.17985457181930542); font-weight: 800;'>and</span> <span style='background-color: rgba(148.962844312191, 148.962844312191, 0, 0.38944534460703534); font-weight: 800;'>startled</span> <span style='background-color: rgba(76.38242974877357, 76.38242974877357, 0, 0.1996926267941793); font-weight: 800;'>ad</span> <span style='background-color: rgba(98.17676067352295, 98.17676067352295, 0, 0.2566712697347005); font-weight: 800;'>##rin</span> <span style='background-color: rgba(30.157429464161396, 30.157429464161396, 0, 0.07884295284748077); font-weight: 800;'>.</span> <span style='background-color: rgba(24.08527359366417, 24.08527359366417, 0, 0.06296803553899129); font-weight: 800;'>[SEP]</span> "
      ],
      "text/plain": [
       "<IPython.core.display.HTML object>"
      ]
     },
     "metadata": {},
     "output_type": "display_data"
    },
    {
     "name": "stdout",
     "output_type": "stream",
     "text": [
      "Corr: 0.9809180133618233\n"
     ]
    },
    {
     "data": {
      "text/html": [
       "Epoch 4<span style='background-color: rgba(74.7140684723854, 74.7140684723854, 0, 0.19533089796702066); font-weight: 800;'>[CLS]</span> <span style='background-color: rgba(191.6111022233963, 191.6111022233963, 0, 0.5009440581003824); font-weight: 800;'>ad</span> <span style='background-color: rgba(255.0, 255.0, 0, 0.6666666666666666); font-weight: 800;'>##rin</span> <span style='background-color: rgba(158.56672257184982, 158.56672257184982, 0, 0.41455352306365967); font-weight: 800;'>whistled</span> <span style='background-color: rgba(57.703236266970634, 57.703236266970634, 0, 0.15085813403129578); font-weight: 800;'>and</span> <span style='background-color: rgba(31.802072413265705, 31.802072413265705, 0, 0.08314267297585805); font-weight: 800;'>the</span> <span style='background-color: rgba(75.55161952972412, 75.55161952972412, 0, 0.19752057393391928); font-weight: 800;'>sound</span> <span style='background-color: rgba(141.20402544736862, 141.20402544736862, 0, 0.36916085084279376); font-weight: 800;'>startled</span> <span style='background-color: rgba(61.66492648422718, 61.66492648422718, 0, 0.16121549407641092); font-weight: 800;'>ca</span> <span style='background-color: rgba(37.572186291217804, 37.572186291217804, 0, 0.09822793801625569); font-weight: 800;'>'</span> <span style='background-color: rgba(60.72803355753422, 60.72803355753422, 0, 0.15876610080401102); font-weight: 800;'>da</span> <span style='background-color: rgba(66.23211801052094, 66.23211801052094, 0, 0.1731558640797933); font-weight: 800;'>##an</span> <span style='background-color: rgba(28.063120543956757, 28.063120543956757, 0, 0.07336763540903728); font-weight: 800;'>.</span> <span style='background-color: rgba(25.719930678606033, 25.719930678606033, 0, 0.06724164883295695); font-weight: 800;'>[SEP]</span> <span style='background-color: rgba(59.85902778804302, 59.85902778804302, 0, 0.15649419029553732); font-weight: 800;'>ca</span> <span style='background-color: rgba(43.49248141050339, 43.49248141050339, 0, 0.11370583375295003); font-weight: 800;'>'</span> <span style='background-color: rgba(99.07424971461296, 99.07424971461296, 0, 0.2590176463127136); font-weight: 800;'>da</span> <span style='background-color: rgba(127.07521319389343, 127.07521319389343, 0, 0.33222277959187824); font-weight: 800;'>##an</span> <span style='background-color: rgba(150.53222090005875, 150.53222090005875, 0, 0.3935482899347941); font-weight: 800;'>whistled</span> <span style='background-color: rgba(71.3593652844429, 71.3593652844429, 0, 0.18656043211619058); font-weight: 800;'>and</span> <span style='background-color: rgba(161.96139961481094, 161.96139961481094, 0, 0.4234284957249959); font-weight: 800;'>startled</span> <span style='background-color: rgba(87.54981011152267, 87.54981011152267, 0, 0.2288883924484253); font-weight: 800;'>ad</span> <span style='background-color: rgba(113.97026360034943, 113.97026360034943, 0, 0.2979614734649658); font-weight: 800;'>##rin</span> <span style='background-color: rgba(28.340055383741856, 28.340055383741856, 0, 0.0740916480620702); font-weight: 800;'>.</span> <span style='background-color: rgba(23.161218278110027, 23.161218278110027, 0, 0.060552204648653664); font-weight: 800;'>[SEP]</span> "
      ],
      "text/plain": [
       "<IPython.core.display.HTML object>"
      ]
     },
     "metadata": {},
     "output_type": "display_data"
    },
    {
     "name": "stdout",
     "output_type": "stream",
     "text": [
      "Corr: 0.9974738718404607\n"
     ]
    },
    {
     "data": {
      "text/html": [
       "Epoch 5<span style='background-color: rgba(72.21917554736137, 72.21917554736137, 0, 0.1888083020846049); font-weight: 800;'>[CLS]</span> <span style='background-color: rgba(189.02424663305283, 189.02424663305283, 0, 0.4941810369491577); font-weight: 800;'>ad</span> <span style='background-color: rgba(255.0, 255.0, 0, 0.6666666666666666); font-weight: 800;'>##rin</span> <span style='background-color: rgba(161.18567883968353, 161.18567883968353, 0, 0.4214004675547282); font-weight: 800;'>whistled</span> <span style='background-color: rgba(60.022232830524445, 60.022232830524445, 0, 0.15692087014516196); font-weight: 800;'>and</span> <span style='background-color: rgba(31.58959161490202, 31.58959161490202, 0, 0.08258716762065887); font-weight: 800;'>the</span> <span style='background-color: rgba(74.83579114079475, 74.83579114079475, 0, 0.19564912716547647); font-weight: 800;'>sound</span> <span style='background-color: rgba(138.25699478387833, 138.25699478387833, 0, 0.3614561955134074); font-weight: 800;'>startled</span> <span style='background-color: rgba(61.927184611558914, 61.927184611558914, 0, 0.16190113623936972); font-weight: 800;'>ca</span> <span style='background-color: rgba(38.631121069192886, 38.631121069192886, 0, 0.10099639495213826); font-weight: 800;'>'</span> <span style='background-color: rgba(62.03008309006691, 62.03008309006691, 0, 0.16217015186945596); font-weight: 800;'>da</span> <span style='background-color: rgba(61.1121017485857, 61.1121017485857, 0, 0.15977020064989725); font-weight: 800;'>##an</span> <span style='background-color: rgba(24.69102568924427, 24.69102568924427, 0, 0.06455170114835103); font-weight: 800;'>.</span> <span style='background-color: rgba(24.463531896471977, 24.463531896471977, 0, 0.06395694613456726); font-weight: 800;'>[SEP]</span> <span style='background-color: rgba(65.02687588334084, 65.02687588334084, 0, 0.17000490427017212); font-weight: 800;'>ca</span> <span style='background-color: rgba(44.06931705772877, 44.06931705772877, 0, 0.11521390080451965); font-weight: 800;'>'</span> <span style='background-color: rgba(99.84758421778679, 99.84758421778679, 0, 0.2610394358634949); font-weight: 800;'>da</span> <span style='background-color: rgba(112.1938969194889, 112.1938969194889, 0, 0.29331737756729126); font-weight: 800;'>##an</span> <span style='background-color: rgba(150.54925918579102, 150.54925918579102, 0, 0.39359283447265625); font-weight: 800;'>whistled</span> <span style='background-color: rgba(62.96963207423687, 62.96963207423687, 0, 0.1646264890829722); font-weight: 800;'>and</span> <span style='background-color: rgba(156.51767492294312, 156.51767492294312, 0, 0.40919653574625653); font-weight: 800;'>startled</span> <span style='background-color: rgba(78.4316673874855, 78.4316673874855, 0, 0.20505011081695557); font-weight: 800;'>ad</span> <span style='background-color: rgba(111.63449853658676, 111.63449853658676, 0, 0.29185489813486737); font-weight: 800;'>##rin</span> <span style='background-color: rgba(26.568436548113823, 26.568436548113823, 0, 0.06945996483167012); font-weight: 800;'>.</span> <span style='background-color: rgba(23.63468237221241, 23.63468237221241, 0, 0.061790019273757935); font-weight: 800;'>[SEP]</span> "
      ],
      "text/plain": [
       "<IPython.core.display.HTML object>"
      ]
     },
     "metadata": {},
     "output_type": "display_data"
    }
   ],
   "source": [
    "prev_HTA = None\n",
    "print(f\"### {idx} ###\")\n",
    "for e_no, hta in enumerate(HTAs):\n",
    "    if prev_HTA is not None:\n",
    "        print(\"Corr:\", pearsonr(prev_HTA[0], hta[0])[0])\n",
    "    prev_HTA = hta\n",
    "    print_globenc(hta[0], tokens, prefix=f\"Epoch {e_no}\")"
   ]
  },
  {
   "cell_type": "code",
   "execution_count": 6,
   "metadata": {},
   "outputs": [
    {
     "name": "stdout",
     "output_type": "stream",
     "text": [
      "### 81139 ###\n"
     ]
    },
    {
     "data": {
      "text/html": [
       "Epoch 0<span style='background-color: rgba(232.93326169252396, 232.93326169252396, 0, 0.6089758475621542); font-weight: 800;'>[CLS]</span> <span style='background-color: rgba(90.54542496800423, 90.54542496800423, 0, 0.23672006527582803); font-weight: 800;'>three</span> <span style='background-color: rgba(140.26319593191147, 140.26319593191147, 0, 0.3667011658350627); font-weight: 800;'>hours</span> <span style='background-color: rgba(57.673738449811935, 57.673738449811935, 0, 0.15078101555506387); font-weight: 800;'>was</span> <span style='background-color: rgba(54.96963255107403, 54.96963255107403, 0, 0.14371145764986673); font-weight: 800;'>more</span> <span style='background-color: rgba(60.76730065047741, 60.76730065047741, 0, 0.15886875987052917); font-weight: 800;'>than</span> <span style='background-color: rgba(98.27588975429535, 98.27588975429535, 0, 0.2569304307301839); font-weight: 800;'>enough</span> <span style='background-color: rgba(44.218892231583595, 44.218892231583595, 0, 0.11560494701067607); font-weight: 800;'>for</span> <span style='background-color: rgba(157.17525243759155, 157.17525243759155, 0, 0.41091569264729816); font-weight: 800;'>mr</span> <span style='background-color: rgba(55.89822672307491, 55.89822672307491, 0, 0.1461391548315684); font-weight: 800;'>.</span> <span style='background-color: rgba(255.0, 255.0, 0, 0.6666666666666666); font-weight: 800;'>brown</span> <span style='background-color: rgba(69.31322827935219, 69.31322827935219, 0, 0.18121105432510376); font-weight: 800;'>.</span> <span style='background-color: rgba(68.32919508218765, 68.32919508218765, 0, 0.17863841851552328); font-weight: 800;'>[SEP]</span> <span style='background-color: rgba(157.91444957256317, 157.91444957256317, 0, 0.41284823417663574); font-weight: 800;'>mr</span> <span style='background-color: rgba(59.00214336812496, 59.00214336812496, 0, 0.15425396958986917); font-weight: 800;'>.</span> <span style='background-color: rgba(199.6624293923378, 199.6624293923378, 0, 0.5219932794570923); font-weight: 800;'>brown</span> <span style='background-color: rgba(157.68103569746017, 157.68103569746017, 0, 0.4122380018234253); font-weight: 800;'>felt</span> <span style='background-color: rgba(73.56782957911491, 73.56782957911491, 0, 0.19233419497807822); font-weight: 800;'>that</span> <span style='background-color: rgba(136.48467868566513, 136.48467868566513, 0, 0.3568226893742879); font-weight: 800;'>three</span> <span style='background-color: rgba(154.67706888914108, 154.67706888914108, 0, 0.4043844938278198); font-weight: 800;'>hours</span> <span style='background-color: rgba(56.8895061314106, 56.8895061314106, 0, 0.14873073498408); font-weight: 800;'>was</span> <span style='background-color: rgba(60.6227146089077, 60.6227146089077, 0, 0.1584907571474711); font-weight: 800;'>more</span> <span style='background-color: rgba(67.4654558300972, 67.4654558300972, 0, 0.17638027667999268); font-weight: 800;'>than</span> <span style='background-color: rgba(100.28750941157341, 100.28750941157341, 0, 0.2621895670890808); font-weight: 800;'>enough</span> <span style='background-color: rgba(43.86973276734352, 43.86973276734352, 0, 0.11469211181004842); font-weight: 800;'>for</span> <span style='background-color: rgba(65.07671400904655, 65.07671400904655, 0, 0.17013520002365112); font-weight: 800;'>him</span> <span style='background-color: rgba(56.994395703077316, 56.994395703077316, 0, 0.14900495608647665); font-weight: 800;'>.</span> <span style='background-color: rgba(60.65793111920357, 60.65793111920357, 0, 0.15858282645543417); font-weight: 800;'>[SEP]</span> "
      ],
      "text/plain": [
       "<IPython.core.display.HTML object>"
      ]
     },
     "metadata": {},
     "output_type": "display_data"
    },
    {
     "name": "stdout",
     "output_type": "stream",
     "text": [
      "Corr: 0.5240994060964408\n"
     ]
    },
    {
     "data": {
      "text/html": [
       "Epoch 1<span style='background-color: rgba(136.2971967458725, 136.2971967458725, 0, 0.35633254051208496); font-weight: 800;'>[CLS]</span> <span style='background-color: rgba(157.30943083763123, 157.30943083763123, 0, 0.4112664858500163); font-weight: 800;'>three</span> <span style='background-color: rgba(136.81141555309296, 136.81141555309296, 0, 0.357676903406779); font-weight: 800;'>hours</span> <span style='background-color: rgba(103.27006056904793, 103.27006056904793, 0, 0.2699870864550273); font-weight: 800;'>was</span> <span style='background-color: rgba(60.86240194737911, 60.86240194737911, 0, 0.15911739071210226); font-weight: 800;'>more</span> <span style='background-color: rgba(66.51473924517632, 66.51473924517632, 0, 0.17389474312464395); font-weight: 800;'>than</span> <span style='background-color: rgba(107.16311886906624, 107.16311886906624, 0, 0.28016501665115356); font-weight: 800;'>enough</span> <span style='background-color: rgba(49.71268683671951, 49.71268683671951, 0, 0.1299678087234497); font-weight: 800;'>for</span> <span style='background-color: rgba(64.28379535675049, 64.28379535675049, 0, 0.1680622100830078); font-weight: 800;'>mr</span> <span style='background-color: rgba(35.650393813848495, 35.650393813848495, 0, 0.09320364395777385); font-weight: 800;'>.</span> <span style='background-color: rgba(77.69758477807045, 77.69758477807045, 0, 0.2031309405962626); font-weight: 800;'>brown</span> <span style='background-color: rgba(26.297739073634148, 26.297739073634148, 0, 0.06875225901603699); font-weight: 800;'>.</span> <span style='background-color: rgba(36.39101207256317, 36.39101207256317, 0, 0.09513990084330241); font-weight: 800;'>[SEP]</span> <span style='background-color: rgba(85.85947841405869, 85.85947841405869, 0, 0.22446922461191812); font-weight: 800;'>mr</span> <span style='background-color: rgba(34.744940400123596, 34.744940400123596, 0, 0.09083644549051921); font-weight: 800;'>.</span> <span style='background-color: rgba(108.63430112600327, 108.63430112600327, 0, 0.28401124477386475); font-weight: 800;'>brown</span> <span style='background-color: rgba(255.0, 255.0, 0, 0.6666666666666666); font-weight: 800;'>felt</span> <span style='background-color: rgba(73.73290792107582, 73.73290792107582, 0, 0.19276577234268188); font-weight: 800;'>that</span> <span style='background-color: rgba(150.1809373497963, 150.1809373497963, 0, 0.3926299015680949); font-weight: 800;'>three</span> <span style='background-color: rgba(133.22004586458206, 133.22004586458206, 0, 0.3482877016067505); font-weight: 800;'>hours</span> <span style='background-color: rgba(70.63909873366356, 70.63909873366356, 0, 0.18467738231023154); font-weight: 800;'>was</span> <span style='background-color: rgba(69.20130148530006, 69.20130148530006, 0, 0.18091843525568643); font-weight: 800;'>more</span> <span style='background-color: rgba(72.62632369995117, 72.62632369995117, 0, 0.18987274169921875); font-weight: 800;'>than</span> <span style='background-color: rgba(113.95134061574936, 113.95134061574936, 0, 0.29791200160980225); font-weight: 800;'>enough</span> <span style='background-color: rgba(43.514767214655876, 43.514767214655876, 0, 0.11376409729321797); font-weight: 800;'>for</span> <span style='background-color: rgba(73.54287251830101, 73.54287251830101, 0, 0.19226894776026407); font-weight: 800;'>him</span> <span style='background-color: rgba(39.71022516489029, 39.71022516489029, 0, 0.10381758213043213); font-weight: 800;'>.</span> <span style='background-color: rgba(31.05189386755228, 31.05189386755228, 0, 0.08118142187595367); font-weight: 800;'>[SEP]</span> "
      ],
      "text/plain": [
       "<IPython.core.display.HTML object>"
      ]
     },
     "metadata": {},
     "output_type": "display_data"
    },
    {
     "name": "stdout",
     "output_type": "stream",
     "text": [
      "Corr: 0.6566756440413792\n"
     ]
    },
    {
     "data": {
      "text/html": [
       "Epoch 2<span style='background-color: rgba(125.88765531778336, 125.88765531778336, 0, 0.3291180531183879); font-weight: 800;'>[CLS]</span> <span style='background-color: rgba(96.24068096280098, 96.24068096280098, 0, 0.2516096234321594); font-weight: 800;'>three</span> <span style='background-color: rgba(106.02305844426155, 106.02305844426155, 0, 0.27718446652094525); font-weight: 800;'>hours</span> <span style='background-color: rgba(95.61743080615997, 95.61743080615997, 0, 0.24998021125793457); font-weight: 800;'>was</span> <span style='background-color: rgba(56.99903145432472, 56.99903145432472, 0, 0.14901707569758096); font-weight: 800;'>more</span> <span style='background-color: rgba(68.05918157100677, 68.05918157100677, 0, 0.1779325008392334); font-weight: 800;'>than</span> <span style='background-color: rgba(113.86357292532921, 113.86357292532921, 0, 0.2976825435956319); font-weight: 800;'>enough</span> <span style='background-color: rgba(53.32679830491543, 53.32679830491543, 0, 0.13941646615664163); font-weight: 800;'>for</span> <span style='background-color: rgba(142.00151145458221, 142.00151145458221, 0, 0.3712457815806071); font-weight: 800;'>mr</span> <span style='background-color: rgba(46.078482046723366, 46.078482046723366, 0, 0.12046661972999573); font-weight: 800;'>.</span> <span style='background-color: rgba(170.98959356546402, 170.98959356546402, 0, 0.4470316171646118); font-weight: 800;'>brown</span> <span style='background-color: rgba(44.92289565503597, 44.92289565503597, 0, 0.11744547883669536); font-weight: 800;'>.</span> <span style='background-color: rgba(43.93720954656601, 43.93720954656601, 0, 0.11486852169036865); font-weight: 800;'>[SEP]</span> <span style='background-color: rgba(161.68278336524963, 161.68278336524963, 0, 0.4227000872294108); font-weight: 800;'>mr</span> <span style='background-color: rgba(151.1362212896347, 151.1362212896347, 0, 0.3951273759206136); font-weight: 800;'>.</span> <span style='background-color: rgba(210.19157320261002, 210.19157320261002, 0, 0.5495204528172811); font-weight: 800;'>brown</span> <span style='background-color: rgba(255.0, 255.0, 0, 0.6666666666666666); font-weight: 800;'>felt</span> <span style='background-color: rgba(94.64699327945709, 94.64699327945709, 0, 0.24744311968485513); font-weight: 800;'>that</span> <span style='background-color: rgba(90.57819440960884, 90.57819440960884, 0, 0.2368057370185852); font-weight: 800;'>three</span> <span style='background-color: rgba(106.75578072667122, 106.75578072667122, 0, 0.27910008033116657); font-weight: 800;'>hours</span> <span style='background-color: rgba(64.8043218255043, 64.8043218255043, 0, 0.1694230635960897); font-weight: 800;'>was</span> <span style='background-color: rgba(63.13325509428978, 63.13325509428978, 0, 0.16505426168441772); font-weight: 800;'>more</span> <span style='background-color: rgba(58.8121497631073, 58.8121497631073, 0, 0.15375725428263345); font-weight: 800;'>than</span> <span style='background-color: rgba(115.28046369552612, 115.28046369552612, 0, 0.30138683319091797); font-weight: 800;'>enough</span> <span style='background-color: rgba(53.07244375348091, 53.07244375348091, 0, 0.138751486937205); font-weight: 800;'>for</span> <span style='background-color: rgba(93.8230910897255, 93.8230910897255, 0, 0.24528912703196207); font-weight: 800;'>him</span> <span style='background-color: rgba(48.24293330311775, 48.24293330311775, 0, 0.12612531582514444); font-weight: 800;'>.</span> <span style='background-color: rgba(31.52589563280344, 31.52589563280344, 0, 0.0824206421772639); font-weight: 800;'>[SEP]</span> "
      ],
      "text/plain": [
       "<IPython.core.display.HTML object>"
      ]
     },
     "metadata": {},
     "output_type": "display_data"
    },
    {
     "name": "stdout",
     "output_type": "stream",
     "text": [
      "Corr: 0.9580572241879687\n"
     ]
    },
    {
     "data": {
      "text/html": [
       "Epoch 3<span style='background-color: rgba(126.92067548632622, 126.92067548632622, 0, 0.33181875944137573); font-weight: 800;'>[CLS]</span> <span style='background-color: rgba(112.57358014583588, 112.57358014583588, 0, 0.2943100134531657); font-weight: 800;'>three</span> <span style='background-color: rgba(103.07232677936554, 103.07232677936554, 0, 0.2694701353708903); font-weight: 800;'>hours</span> <span style='background-color: rgba(65.8013579249382, 65.8013579249382, 0, 0.17202969392140707); font-weight: 800;'>was</span> <span style='background-color: rgba(56.1852291226387, 56.1852291226387, 0, 0.1468894879023234); font-weight: 800;'>more</span> <span style='background-color: rgba(64.74876880645752, 64.74876880645752, 0, 0.16927782694498697); font-weight: 800;'>than</span> <span style='background-color: rgba(129.04925286769867, 129.04925286769867, 0, 0.3373836676279704); font-weight: 800;'>enough</span> <span style='background-color: rgba(63.41734305024147, 63.41734305024147, 0, 0.16579697529474893); font-weight: 800;'>for</span> <span style='background-color: rgba(133.63463401794434, 133.63463401794434, 0, 0.34937159220377606); font-weight: 800;'>mr</span> <span style='background-color: rgba(47.283218801021576, 47.283218801021576, 0, 0.12361625830332439); font-weight: 800;'>.</span> <span style='background-color: rgba(185.93194216489792, 185.93194216489792, 0, 0.4860965808232625); font-weight: 800;'>brown</span> <span style='background-color: rgba(43.31014059484005, 43.31014059484005, 0, 0.11322912573814392); font-weight: 800;'>.</span> <span style='background-color: rgba(51.50363713502884, 51.50363713502884, 0, 0.13465003172556558); font-weight: 800;'>[SEP]</span> <span style='background-color: rgba(145.07027238607407, 145.07027238607407, 0, 0.37926868597666424); font-weight: 800;'>mr</span> <span style='background-color: rgba(93.06898355484009, 93.06898355484009, 0, 0.2433176040649414); font-weight: 800;'>.</span> <span style='background-color: rgba(217.45014131069183, 217.45014131069183, 0, 0.568497101465861); font-weight: 800;'>brown</span> <span style='background-color: rgba(255.0, 255.0, 0, 0.6666666666666666); font-weight: 800;'>felt</span> <span style='background-color: rgba(94.98562350869179, 94.98562350869179, 0, 0.248328427473704); font-weight: 800;'>that</span> <span style='background-color: rgba(94.40887525677681, 94.40887525677681, 0, 0.24682058890660605); font-weight: 800;'>three</span> <span style='background-color: rgba(110.31616687774658, 110.31616687774658, 0, 0.2884082794189453); font-weight: 800;'>hours</span> <span style='background-color: rgba(56.74695298075676, 56.74695298075676, 0, 0.1483580470085144); font-weight: 800;'>was</span> <span style='background-color: rgba(55.769789814949036, 55.769789814949036, 0, 0.14580337206522623); font-weight: 800;'>more</span> <span style='background-color: rgba(54.29541192948818, 54.29541192948818, 0, 0.14194878935813904); font-weight: 800;'>than</span> <span style='background-color: rgba(109.02325585484505, 109.02325585484505, 0, 0.2850281198819478); font-weight: 800;'>enough</span> <span style='background-color: rgba(54.11461763083935, 54.11461763083935, 0, 0.1414761245250702); font-weight: 800;'>for</span> <span style='background-color: rgba(101.67627409100533, 101.67627409100533, 0, 0.26582032442092896); font-weight: 800;'>him</span> <span style='background-color: rgba(75.79606041312218, 75.79606041312218, 0, 0.19815963506698608); font-weight: 800;'>.</span> <span style='background-color: rgba(31.046828739345074, 31.046828739345074, 0, 0.08116817971070607); font-weight: 800;'>[SEP]</span> "
      ],
      "text/plain": [
       "<IPython.core.display.HTML object>"
      ]
     },
     "metadata": {},
     "output_type": "display_data"
    },
    {
     "name": "stdout",
     "output_type": "stream",
     "text": [
      "Corr: 0.6978351736216577\n"
     ]
    },
    {
     "data": {
      "text/html": [
       "Epoch 4<span style='background-color: rgba(110.74378833174706, 110.74378833174706, 0, 0.28952624400456745); font-weight: 800;'>[CLS]</span> <span style='background-color: rgba(255.0, 255.0, 0, 0.6666666666666666); font-weight: 800;'>three</span> <span style='background-color: rgba(157.2257897257805, 157.2257897257805, 0, 0.4110478162765503); font-weight: 800;'>hours</span> <span style='background-color: rgba(78.86612087488174, 78.86612087488174, 0, 0.2061859369277954); font-weight: 800;'>was</span> <span style='background-color: rgba(75.29784634709358, 75.29784634709358, 0, 0.1968571146329244); font-weight: 800;'>more</span> <span style='background-color: rgba(81.89447477459908, 81.89447477459908, 0, 0.2141032020250956); font-weight: 800;'>than</span> <span style='background-color: rgba(146.80503129959106, 146.80503129959106, 0, 0.3838040033976237); font-weight: 800;'>enough</span> <span style='background-color: rgba(53.967918902635574, 53.967918902635574, 0, 0.14109259843826294); font-weight: 800;'>for</span> <span style='background-color: rgba(96.75654888153076, 96.75654888153076, 0, 0.2529582977294922); font-weight: 800;'>mr</span> <span style='background-color: rgba(35.56303650140762, 35.56303650140762, 0, 0.09297525882720947); font-weight: 800;'>.</span> <span style='background-color: rgba(142.60388553142548, 142.60388553142548, 0, 0.3728206157684326); font-weight: 800;'>brown</span> <span style='background-color: rgba(42.158806174993515, 42.158806174993515, 0, 0.11021910111109416); font-weight: 800;'>.</span> <span style='background-color: rgba(41.366244703531265, 41.366244703531265, 0, 0.10814704497655232); font-weight: 800;'>[SEP]</span> <span style='background-color: rgba(102.34136000275612, 102.34136000275612, 0, 0.26755911111831665); font-weight: 800;'>mr</span> <span style='background-color: rgba(49.20148506760597, 49.20148506760597, 0, 0.12863133351008096); font-weight: 800;'>.</span> <span style='background-color: rgba(152.11333125829697, 152.11333125829697, 0, 0.3976819117863973); font-weight: 800;'>brown</span> <span style='background-color: rgba(230.37332385778427, 230.37332385778427, 0, 0.6022831996281942); font-weight: 800;'>felt</span> <span style='background-color: rgba(104.1514004766941, 104.1514004766941, 0, 0.27229124307632446); font-weight: 800;'>that</span> <span style='background-color: rgba(203.69933277368546, 203.69933277368546, 0, 0.5325472752253214); font-weight: 800;'>three</span> <span style='background-color: rgba(153.0002948641777, 153.0002948641777, 0, 0.4000007708867391); font-weight: 800;'>hours</span> <span style='background-color: rgba(73.85783761739731, 73.85783761739731, 0, 0.1930923859278361); font-weight: 800;'>was</span> <span style='background-color: rgba(72.64365077018738, 72.64365077018738, 0, 0.18991804122924805); font-weight: 800;'>more</span> <span style='background-color: rgba(68.4414790570736, 68.4414790570736, 0, 0.17893197139104208); font-weight: 800;'>than</span> <span style='background-color: rgba(142.80398279428482, 142.80398279428482, 0, 0.3733437458674113); font-weight: 800;'>enough</span> <span style='background-color: rgba(50.73208473622799, 50.73208473622799, 0, 0.1326329012711843); font-weight: 800;'>for</span> <span style='background-color: rgba(82.30809018015862, 82.30809018015862, 0, 0.21518454949061075); font-weight: 800;'>him</span> <span style='background-color: rgba(54.942840188741684, 54.942840188741684, 0, 0.1436414122581482); font-weight: 800;'>.</span> <span style='background-color: rgba(38.37571777403355, 38.37571777403355, 0, 0.10032867391904195); font-weight: 800;'>[SEP]</span> "
      ],
      "text/plain": [
       "<IPython.core.display.HTML object>"
      ]
     },
     "metadata": {},
     "output_type": "display_data"
    },
    {
     "name": "stdout",
     "output_type": "stream",
     "text": [
      "Corr: 0.9967892772357397\n"
     ]
    },
    {
     "data": {
      "text/html": [
       "Epoch 5<span style='background-color: rgba(104.93412047624588, 104.93412047624588, 0, 0.27433756987253827); font-weight: 800;'>[CLS]</span> <span style='background-color: rgba(255.0, 255.0, 0, 0.6666666666666666); font-weight: 800;'>three</span> <span style='background-color: rgba(155.41615962982178, 155.41615962982178, 0, 0.40631675720214844); font-weight: 800;'>hours</span> <span style='background-color: rgba(70.3432922065258, 70.3432922065258, 0, 0.18390403191248575); font-weight: 800;'>was</span> <span style='background-color: rgba(73.75881493091583, 73.75881493091583, 0, 0.19283350308736166); font-weight: 800;'>more</span> <span style='background-color: rgba(85.33575251698494, 85.33575251698494, 0, 0.22310000658035278); font-weight: 800;'>than</span> <span style='background-color: rgba(156.10564023256302, 156.10564023256302, 0, 0.4081193208694458); font-weight: 800;'>enough</span> <span style='background-color: rgba(57.790395990014076, 57.790395990014076, 0, 0.1510860025882721); font-weight: 800;'>for</span> <span style='background-color: rgba(96.80251121520996, 96.80251121520996, 0, 0.2530784606933594); font-weight: 800;'>mr</span> <span style='background-color: rgba(37.44633324444294, 37.44633324444294, 0, 0.09789891044298808); font-weight: 800;'>.</span> <span style='background-color: rgba(152.80753880739212, 152.80753880739212, 0, 0.3994968334833781); font-weight: 800;'>brown</span> <span style='background-color: rgba(41.15902282297611, 41.15902282297611, 0, 0.10760528842608134); font-weight: 800;'>.</span> <span style='background-color: rgba(39.557454362511635, 39.557454362511635, 0, 0.1034181813398997); font-weight: 800;'>[SEP]</span> <span style='background-color: rgba(101.9424270093441, 101.9424270093441, 0, 0.26651614904403687); font-weight: 800;'>mr</span> <span style='background-color: rgba(48.904409408569336, 48.904409408569336, 0, 0.12785466512044272); font-weight: 800;'>.</span> <span style='background-color: rgba(149.09218937158585, 149.09218937158585, 0, 0.38978350162506104); font-weight: 800;'>brown</span> <span style='background-color: rgba(221.15599125623703, 221.15599125623703, 0, 0.5781855980555216); font-weight: 800;'>felt</span> <span style='background-color: rgba(94.44341540336609, 94.44341540336609, 0, 0.24691088994344076); font-weight: 800;'>that</span> <span style='background-color: rgba(202.0157191157341, 202.0157191157341, 0, 0.5281456708908081); font-weight: 800;'>three</span> <span style='background-color: rgba(147.98178255558014, 147.98178255558014, 0, 0.38688047726949054); font-weight: 800;'>hours</span> <span style='background-color: rgba(71.07755720615387, 71.07755720615387, 0, 0.18582367897033691); font-weight: 800;'>was</span> <span style='background-color: rgba(69.71013218164444, 69.71013218164444, 0, 0.18224871158599854); font-weight: 800;'>more</span> <span style='background-color: rgba(70.2354083955288, 70.2354083955288, 0, 0.1836219827334086); font-weight: 800;'>than</span> <span style='background-color: rgba(147.6341012120247, 147.6341012120247, 0, 0.38597150643666583); font-weight: 800;'>enough</span> <span style='background-color: rgba(54.155047461390495, 54.155047461390495, 0, 0.1415818234284719); font-weight: 800;'>for</span> <span style='background-color: rgba(84.56212922930717, 84.56212922930717, 0, 0.2210774620374044); font-weight: 800;'>him</span> <span style='background-color: rgba(54.765454307198524, 54.765454307198524, 0, 0.14317765831947327); font-weight: 800;'>.</span> <span style='background-color: rgba(38.24885778129101, 38.24885778129101, 0, 0.09999701380729675); font-weight: 800;'>[SEP]</span> "
      ],
      "text/plain": [
       "<IPython.core.display.HTML object>"
      ]
     },
     "metadata": {},
     "output_type": "display_data"
    }
   ],
   "source": [
    "prev_HTA = None\n",
    "print(f\"### {idx} ###\")\n",
    "for e_no, hta in enumerate(HTAs):\n",
    "    if prev_HTA is not None:\n",
    "        print(\"Corr:\", pearsonr(prev_HTA[0], hta[0])[0])\n",
    "    prev_HTA = hta\n",
    "    print_globenc(hta[0], tokens, prefix=f\"Epoch {e_no}\")"
   ]
  },
  {
   "cell_type": "code",
   "execution_count": 8,
   "metadata": {},
   "outputs": [
    {
     "name": "stdout",
     "output_type": "stream",
     "text": [
      "### 314093 ###\n"
     ]
    },
    {
     "data": {
      "text/html": [
       "Epoch 0<span style='background-color: rgba(255.0, 255.0, 0, 0.6666666666666666); font-weight: 800;'>[CLS]</span> <span style='background-color: rgba(57.92749643325806, 57.92749643325806, 0, 0.1514444351196289); font-weight: 800;'>he</span> <span style='background-color: rgba(88.0486549437046, 88.0486549437046, 0, 0.23019256194432577); font-weight: 800;'>sat</span> <span style='background-color: rgba(73.47377702593803, 73.47377702593803, 0, 0.1920883059501648); font-weight: 800;'>down</span> <span style='background-color: rgba(40.33734351396561, 40.33734351396561, 0, 0.10545710722605388); font-weight: 800;'>in</span> <span style='background-color: rgba(48.52126456797123, 48.52126456797123, 0, 0.1268529792626699); font-weight: 800;'>one</span> <span style='background-color: rgba(33.24430592358112, 33.24430592358112, 0, 0.08691321810086568); font-weight: 800;'>of</span> <span style='background-color: rgba(42.03023247420788, 42.03023247420788, 0, 0.10988296071688335); font-weight: 800;'>the</span> <span style='background-color: rgba(141.83073341846466, 141.83073341846466, 0, 0.37079930305480957); font-weight: 800;'>big</span> <span style='background-color: rgba(179.3155699968338, 179.3155699968338, 0, 0.4687988758087158); font-weight: 800;'>arm</span> <span style='background-color: rgba(117.82923012971878, 117.82923012971878, 0, 0.308050274848938); font-weight: 800;'>-</span> <span style='background-color: rgba(199.4666486978531, 199.4666486978531, 0, 0.521481434504191); font-weight: 800;'>chairs</span> <span style='background-color: rgba(181.69086813926697, 181.69086813926697, 0, 0.4750088055928548); font-weight: 800;'>facing</span> <span style='background-color: rgba(48.14479976892471, 48.14479976892471, 0, 0.12586875756581625); font-weight: 800;'>the</span> <span style='background-color: rgba(187.25840538740158, 187.25840538740158, 0, 0.4895644585291545); font-weight: 800;'>couch</span> <span style='background-color: rgba(73.99502545595169, 73.99502545595169, 0, 0.19345104694366455); font-weight: 800;'>.</span> <span style='background-color: rgba(72.47940078377724, 72.47940078377724, 0, 0.1894886295000712); font-weight: 800;'>[SEP]</span> <span style='background-color: rgba(84.14227455854416, 84.14227455854416, 0, 0.2199798027674357); font-weight: 800;'>he</span> <span style='background-color: rgba(108.7621034681797, 108.7621034681797, 0, 0.2843453685442607); font-weight: 800;'>sat</span> <span style='background-color: rgba(85.21783724427223, 85.21783724427223, 0, 0.22279173135757446); font-weight: 800;'>down</span> <span style='background-color: rgba(53.94596368074417, 53.94596368074417, 0, 0.14103519916534424); font-weight: 800;'>on</span> <span style='background-color: rgba(48.571501672267914, 48.571501672267914, 0, 0.12698431809743246); font-weight: 800;'>the</span> <span style='background-color: rgba(222.37178921699524, 222.37178921699524, 0, 0.5813641548156738); font-weight: 800;'>couch</span> <span style='background-color: rgba(98.78317773342133, 98.78317773342133, 0, 0.2582566738128662); font-weight: 800;'>that</span> <span style='background-color: rgba(185.5098608136177, 185.5098608136177, 0, 0.4849931001663208); font-weight: 800;'>faced</span> <span style='background-color: rgba(46.775387451052666, 46.775387451052666, 0, 0.12228859464327495); font-weight: 800;'>a</span> <span style='background-color: rgba(108.79531368613243, 108.79531368613243, 0, 0.28443219264348346); font-weight: 800;'>chair</span> <span style='background-color: rgba(53.22947412729263, 53.22947412729263, 0, 0.13916202386220297); font-weight: 800;'>.</span> <span style='background-color: rgba(50.884540155529976, 50.884540155529976, 0, 0.13303147753079733); font-weight: 800;'>[SEP]</span> "
      ],
      "text/plain": [
       "<IPython.core.display.HTML object>"
      ]
     },
     "metadata": {},
     "output_type": "display_data"
    },
    {
     "name": "stdout",
     "output_type": "stream",
     "text": [
      "Corr: 0.7074305929199067\n"
     ]
    },
    {
     "data": {
      "text/html": [
       "Epoch 1<span style='background-color: rgba(109.50607314705849, 109.50607314705849, 0, 0.2862903873125712); font-weight: 800;'>[CLS]</span> <span style='background-color: rgba(36.37399658560753, 36.37399658560753, 0, 0.09509541591008504); font-weight: 800;'>he</span> <span style='background-color: rgba(77.76535794138908, 77.76535794138908, 0, 0.20330812533696493); font-weight: 800;'>sat</span> <span style='background-color: rgba(59.47831101715565, 59.47831101715565, 0, 0.15549885233243307); font-weight: 800;'>down</span> <span style='background-color: rgba(54.882575422525406, 54.882575422525406, 0, 0.1434838573137919); font-weight: 800;'>in</span> <span style='background-color: rgba(57.17395506799221, 57.17395506799221, 0, 0.14947439233462015); font-weight: 800;'>one</span> <span style='background-color: rgba(29.505116567015648, 29.505116567015648, 0, 0.07713755965232849); font-weight: 800;'>of</span> <span style='background-color: rgba(26.402799636125565, 26.402799636125565, 0, 0.06902692715326945); font-weight: 800;'>the</span> <span style='background-color: rgba(62.584112361073494, 62.584112361073494, 0, 0.16361859440803528); font-weight: 800;'>big</span> <span style='background-color: rgba(95.6109331548214, 95.6109331548214, 0, 0.24996322393417358); font-weight: 800;'>arm</span> <span style='background-color: rgba(56.15696243941784, 56.15696243941784, 0, 0.1468155880769094); font-weight: 800;'>-</span> <span style='background-color: rgba(251.0315689444542, 251.0315689444542, 0, 0.656291683514913); font-weight: 800;'>chairs</span> <span style='background-color: rgba(151.17800384759903, 151.17800384759903, 0, 0.395236611366272); font-weight: 800;'>facing</span> <span style='background-color: rgba(30.406519398093224, 30.406519398093224, 0, 0.07949416836102803); font-weight: 800;'>the</span> <span style='background-color: rgba(138.4785532951355, 138.4785532951355, 0, 0.36203543345133465); font-weight: 800;'>couch</span> <span style='background-color: rgba(30.005804300308228, 30.005804300308228, 0, 0.07844654719034831); font-weight: 800;'>.</span> <span style='background-color: rgba(46.269391402602196, 46.269391402602196, 0, 0.12096572915712993); font-weight: 800;'>[SEP]</span> <span style='background-color: rgba(41.52330547571182, 41.52330547571182, 0, 0.10855766137440999); font-weight: 800;'>he</span> <span style='background-color: rgba(90.98084360361099, 90.98084360361099, 0, 0.23785841464996338); font-weight: 800;'>sat</span> <span style='background-color: rgba(61.18646755814552, 61.18646755814552, 0, 0.15996462106704712); font-weight: 800;'>down</span> <span style='background-color: rgba(52.188284397125244, 52.188284397125244, 0, 0.13643995920817056); font-weight: 800;'>on</span> <span style='background-color: rgba(36.35706089437008, 36.35706089437008, 0, 0.09505113959312439); font-weight: 800;'>the</span> <span style='background-color: rgba(189.9176698923111, 189.9176698923111, 0, 0.49651678403218585); font-weight: 800;'>couch</span> <span style='background-color: rgba(93.30941945314407, 93.30941945314407, 0, 0.24394619464874268); font-weight: 800;'>that</span> <span style='background-color: rgba(210.2427640557289, 210.2427640557289, 0, 0.5496542851130167); font-weight: 800;'>faced</span> <span style='background-color: rgba(83.2601746916771, 83.2601746916771, 0, 0.217673659324646); font-weight: 800;'>a</span> <span style='background-color: rgba(255.0, 255.0, 0, 0.6666666666666666); font-weight: 800;'>chair</span> <span style='background-color: rgba(47.96019047498703, 47.96019047498703, 0, 0.12538611888885498); font-weight: 800;'>.</span> <span style='background-color: rgba(40.350642800331116, 40.350642800331116, 0, 0.10549187660217285); font-weight: 800;'>[SEP]</span> "
      ],
      "text/plain": [
       "<IPython.core.display.HTML object>"
      ]
     },
     "metadata": {},
     "output_type": "display_data"
    },
    {
     "name": "stdout",
     "output_type": "stream",
     "text": [
      "Corr: 0.9521136091294028\n"
     ]
    },
    {
     "data": {
      "text/html": [
       "Epoch 2<span style='background-color: rgba(56.34379081428051, 56.34379081428051, 0, 0.14730402827262878); font-weight: 800;'>[CLS]</span> <span style='background-color: rgba(21.06477577239275, 21.06477577239275, 0, 0.055071309208869934); font-weight: 800;'>he</span> <span style='background-color: rgba(44.553958252072334, 44.553958252072334, 0, 0.11648093660672505); font-weight: 800;'>sat</span> <span style='background-color: rgba(46.42603799700737, 46.42603799700737, 0, 0.12137526273727417); font-weight: 800;'>down</span> <span style='background-color: rgba(23.341575600206852, 23.341575600206852, 0, 0.06102372705936432); font-weight: 800;'>in</span> <span style='background-color: rgba(21.165724955499172, 21.165724955499172, 0, 0.055335228641827904); font-weight: 800;'>one</span> <span style='background-color: rgba(14.617277942597866, 14.617277942597866, 0, 0.038215105732282005); font-weight: 800;'>of</span> <span style='background-color: rgba(12.239206898957491, 12.239206898957491, 0, 0.0319979265332222); font-weight: 800;'>the</span> <span style='background-color: rgba(37.514562383294106, 37.514562383294106, 0, 0.09807728727658589); font-weight: 800;'>big</span> <span style='background-color: rgba(58.11673767864704, 58.11673767864704, 0, 0.15193918347358704); font-weight: 800;'>arm</span> <span style='background-color: rgba(28.300319015979767, 28.300319015979767, 0, 0.07398776213328044); font-weight: 800;'>-</span> <span style='background-color: rgba(178.48341464996338, 178.48341464996338, 0, 0.46662330627441406); font-weight: 800;'>chairs</span> <span style='background-color: rgba(89.14744198322296, 89.14744198322296, 0, 0.23306520779927573); font-weight: 800;'>facing</span> <span style='background-color: rgba(20.34481130540371, 20.34481130540371, 0, 0.05318904916445414); font-weight: 800;'>the</span> <span style='background-color: rgba(136.2893843650818, 136.2893843650818, 0, 0.3563121159871419); font-weight: 800;'>couch</span> <span style='background-color: rgba(18.19408681243658, 18.19408681243658, 0, 0.04756624003251394); font-weight: 800;'>.</span> <span style='background-color: rgba(20.875078551471233, 20.875078551471233, 0, 0.054575368762016296); font-weight: 800;'>[SEP]</span> <span style='background-color: rgba(23.158336132764816, 23.158336132764816, 0, 0.06054466962814331); font-weight: 800;'>he</span> <span style='background-color: rgba(49.37228970229626, 49.37228970229626, 0, 0.12907788157463074); font-weight: 800;'>sat</span> <span style='background-color: rgba(42.31590874493122, 42.31590874493122, 0, 0.11062982678413391); font-weight: 800;'>down</span> <span style='background-color: rgba(27.340720407664776, 27.340720407664776, 0, 0.07147900760173798); font-weight: 800;'>on</span> <span style='background-color: rgba(17.705427333712578, 17.705427333712578, 0, 0.04628869891166687); font-weight: 800;'>the</span> <span style='background-color: rgba(139.759601354599, 139.759601354599, 0, 0.365384578704834); font-weight: 800;'>couch</span> <span style='background-color: rgba(41.533348336815834, 41.533348336815834, 0, 0.10858391722043355); font-weight: 800;'>that</span> <span style='background-color: rgba(123.03299009799957, 123.03299009799957, 0, 0.3216548760732015); font-weight: 800;'>faced</span> <span style='background-color: rgba(49.820152670145035, 49.820152670145035, 0, 0.13024876515070596); font-weight: 800;'>a</span> <span style='background-color: rgba(255.0, 255.0, 0, 0.6666666666666666); font-weight: 800;'>chair</span> <span style='background-color: rgba(33.76242712140083, 33.76242712140083, 0, 0.08826778332392375); font-weight: 800;'>.</span> <span style='background-color: rgba(24.001020714640617, 24.001020714640617, 0, 0.06274776657422383); font-weight: 800;'>[SEP]</span> "
      ],
      "text/plain": [
       "<IPython.core.display.HTML object>"
      ]
     },
     "metadata": {},
     "output_type": "display_data"
    },
    {
     "name": "stdout",
     "output_type": "stream",
     "text": [
      "Corr: 0.9896806422009397\n"
     ]
    },
    {
     "data": {
      "text/html": [
       "Epoch 3<span style='background-color: rgba(62.173088416457176, 62.173088416457176, 0, 0.1625440220038096); font-weight: 800;'>[CLS]</span> <span style='background-color: rgba(24.742488227784634, 24.742488227784634, 0, 0.06468624373277028); font-weight: 800;'>he</span> <span style='background-color: rgba(48.48447494208813, 48.48447494208813, 0, 0.12675679723421732); font-weight: 800;'>sat</span> <span style='background-color: rgba(35.947857052087784, 35.947857052087784, 0, 0.09398132562637329); font-weight: 800;'>down</span> <span style='background-color: rgba(27.863042280077934, 27.863042280077934, 0, 0.0728445549805959); font-weight: 800;'>in</span> <span style='background-color: rgba(35.14784038066864, 35.14784038066864, 0, 0.09188977877298991); font-weight: 800;'>one</span> <span style='background-color: rgba(22.880445644259453, 22.880445644259453, 0, 0.059818158547083534); font-weight: 800;'>of</span> <span style='background-color: rgba(16.857972107827663, 16.857972107827663, 0, 0.04407312969366709); font-weight: 800;'>the</span> <span style='background-color: rgba(51.08405604958534, 51.08405604958534, 0, 0.13355308771133423); font-weight: 800;'>big</span> <span style='background-color: rgba(60.68537324666977, 60.68537324666977, 0, 0.1586545705795288); font-weight: 800;'>arm</span> <span style='background-color: rgba(33.27457509934902, 33.27457509934902, 0, 0.08699235320091248); font-weight: 800;'>-</span> <span style='background-color: rgba(204.60237711668015, 204.60237711668015, 0, 0.5349081754684448); font-weight: 800;'>chairs</span> <span style='background-color: rgba(101.59507244825363, 101.59507244825363, 0, 0.2656080325444539); font-weight: 800;'>facing</span> <span style='background-color: rgba(18.99358671158552, 18.99358671158552, 0, 0.04965643584728241); font-weight: 800;'>the</span> <span style='background-color: rgba(120.6655803322792, 120.6655803322792, 0, 0.3154655694961548); font-weight: 800;'>couch</span> <span style='background-color: rgba(26.25364623963833, 26.25364623963833, 0, 0.06863698363304138); font-weight: 800;'>.</span> <span style='background-color: rgba(22.1404467523098, 22.1404467523098, 0, 0.05788352092107137); font-weight: 800;'>[SEP]</span> <span style='background-color: rgba(26.700481362640858, 26.700481362640858, 0, 0.06980518003304799); font-weight: 800;'>he</span> <span style='background-color: rgba(56.45648516714573, 56.45648516714573, 0, 0.14759865403175354); font-weight: 800;'>sat</span> <span style='background-color: rgba(42.44976036250591, 42.44976036250591, 0, 0.11097976565361023); font-weight: 800;'>down</span> <span style='background-color: rgba(32.64957323670387, 32.64957323670387, 0, 0.08535836140314738); font-weight: 800;'>on</span> <span style='background-color: rgba(22.57779948413372, 22.57779948413372, 0, 0.05902692675590515); font-weight: 800;'>the</span> <span style='background-color: rgba(138.3395567536354, 138.3395567536354, 0, 0.361672043800354); font-weight: 800;'>couch</span> <span style='background-color: rgba(52.68176011741161, 52.68176011741161, 0, 0.13773009181022644); font-weight: 800;'>that</span> <span style='background-color: rgba(147.80918061733246, 147.80918061733246, 0, 0.386429230372111); font-weight: 800;'>faced</span> <span style='background-color: rgba(60.35335846245289, 60.35335846245289, 0, 0.15778655807177225); font-weight: 800;'>a</span> <span style='background-color: rgba(255.0, 255.0, 0, 0.6666666666666666); font-weight: 800;'>chair</span> <span style='background-color: rgba(41.126876547932625, 41.126876547932625, 0, 0.10752124587694804); font-weight: 800;'>.</span> <span style='background-color: rgba(29.196474328637123, 29.196474328637123, 0, 0.07633065183957417); font-weight: 800;'>[SEP]</span> "
      ],
      "text/plain": [
       "<IPython.core.display.HTML object>"
      ]
     },
     "metadata": {},
     "output_type": "display_data"
    },
    {
     "name": "stdout",
     "output_type": "stream",
     "text": [
      "Corr: 0.9790491184104891\n"
     ]
    },
    {
     "data": {
      "text/html": [
       "Epoch 4<span style='background-color: rgba(57.61011466383934, 57.61011466383934, 0, 0.1506146788597107); font-weight: 800;'>[CLS]</span> <span style='background-color: rgba(16.041291430592537, 16.041291430592537, 0, 0.04193801681200663); font-weight: 800;'>he</span> <span style='background-color: rgba(38.005834221839905, 38.005834221839905, 0, 0.09936165809631348); font-weight: 800;'>sat</span> <span style='background-color: rgba(22.554126754403114, 22.554126754403114, 0, 0.05896503726641337); font-weight: 800;'>down</span> <span style='background-color: rgba(21.596262753009796, 21.596262753009796, 0, 0.056460817654927574); font-weight: 800;'>in</span> <span style='background-color: rgba(20.748353451490402, 20.748353451490402, 0, 0.05424406131108602); font-weight: 800;'>one</span> <span style='background-color: rgba(16.18369448930025, 16.18369448930025, 0, 0.042310312390327454); font-weight: 800;'>of</span> <span style='background-color: rgba(12.788538672029972, 12.788538672029972, 0, 0.033434088031450905); font-weight: 800;'>the</span> <span style='background-color: rgba(32.126052528619766, 32.126052528619766, 0, 0.08398967981338501); font-weight: 800;'>big</span> <span style='background-color: rgba(50.150176361203194, 50.150176361203194, 0, 0.13111157218615213); font-weight: 800;'>arm</span> <span style='background-color: rgba(31.189613677561283, 31.189613677561283, 0, 0.08154147366682689); font-weight: 800;'>-</span> <span style='background-color: rgba(219.65254873037338, 219.65254873037338, 0, 0.5742550293604533); font-weight: 800;'>chairs</span> <span style='background-color: rgba(83.79871979355812, 83.79871979355812, 0, 0.21908162037531534); font-weight: 800;'>facing</span> <span style='background-color: rgba(13.698465395718813, 13.698465395718813, 0, 0.03581298142671585); font-weight: 800;'>the</span> <span style='background-color: rgba(97.53100052475929, 97.53100052475929, 0, 0.25498300790786743); font-weight: 800;'>couch</span> <span style='background-color: rgba(21.880060024559498, 21.880060024559498, 0, 0.0572027713060379); font-weight: 800;'>.</span> <span style='background-color: rgba(21.8506496027112, 21.8506496027112, 0, 0.05712588131427765); font-weight: 800;'>[SEP]</span> <span style='background-color: rgba(16.212521642446518, 16.212521642446518, 0, 0.0423856774965922); font-weight: 800;'>he</span> <span style='background-color: rgba(42.948126420378685, 42.948126420378685, 0, 0.11228268345197041); font-weight: 800;'>sat</span> <span style='background-color: rgba(25.480716414749622, 25.480716414749622, 0, 0.0666162520647049); font-weight: 800;'>down</span> <span style='background-color: rgba(20.34258272498846, 20.34258272498846, 0, 0.053183222810427346); font-weight: 800;'>on</span> <span style='background-color: rgba(15.049879029393196, 15.049879029393196, 0, 0.03934608896573385); font-weight: 800;'>the</span> <span style='background-color: rgba(118.34049269556999, 118.34049269556999, 0, 0.3093869090080261); font-weight: 800;'>couch</span> <span style='background-color: rgba(35.47780707478523, 35.47780707478523, 0, 0.09275243679682414); font-weight: 800;'>that</span> <span style='background-color: rgba(89.68100175261497, 89.68100175261497, 0, 0.2344601353009542); font-weight: 800;'>faced</span> <span style='background-color: rgba(50.52549362182617, 50.52549362182617, 0, 0.1320927937825521); font-weight: 800;'>a</span> <span style='background-color: rgba(255.0, 255.0, 0, 0.6666666666666666); font-weight: 800;'>chair</span> <span style='background-color: rgba(26.682101748883724, 26.682101748883724, 0, 0.06975712875525157); font-weight: 800;'>.</span> <span style='background-color: rgba(27.95265667140484, 27.95265667140484, 0, 0.07307884097099304); font-weight: 800;'>[SEP]</span> "
      ],
      "text/plain": [
       "<IPython.core.display.HTML object>"
      ]
     },
     "metadata": {},
     "output_type": "display_data"
    },
    {
     "name": "stdout",
     "output_type": "stream",
     "text": [
      "Corr: 0.9993519332837945\n"
     ]
    },
    {
     "data": {
      "text/html": [
       "Epoch 5<span style='background-color: rgba(61.53590440750122, 61.53590440750122, 0, 0.16087818145751953); font-weight: 800;'>[CLS]</span> <span style='background-color: rgba(17.014690898358822, 17.014690898358822, 0, 0.04448285202185313); font-weight: 800;'>he</span> <span style='background-color: rgba(40.40478229522705, 40.40478229522705, 0, 0.10563341776529948); font-weight: 800;'>sat</span> <span style='background-color: rgba(23.07296421378851, 23.07296421378851, 0, 0.06032147506872813); font-weight: 800;'>down</span> <span style='background-color: rgba(22.8431848436594, 22.8431848436594, 0, 0.059720744689305626); font-weight: 800;'>in</span> <span style='background-color: rgba(20.601331740617752, 20.601331740617752, 0, 0.05385969082514445); font-weight: 800;'>one</span> <span style='background-color: rgba(16.486941017210484, 16.486941017210484, 0, 0.043103113770484924); font-weight: 800;'>of</span> <span style='background-color: rgba(12.869405932724476, 12.869405932724476, 0, 0.033645505706469216); font-weight: 800;'>the</span> <span style='background-color: rgba(33.91147792339325, 33.91147792339325, 0, 0.08865745862325032); font-weight: 800;'>big</span> <span style='background-color: rgba(53.74075189232826, 53.74075189232826, 0, 0.14049869775772095); font-weight: 800;'>arm</span> <span style='background-color: rgba(30.599539540708065, 30.599539540708065, 0, 0.07999879618485768); font-weight: 800;'>-</span> <span style='background-color: rgba(221.2275642156601, 221.2275642156601, 0, 0.5783727169036865); font-weight: 800;'>chairs</span> <span style='background-color: rgba(84.57126393914223, 84.57126393914223, 0, 0.22110134363174438); font-weight: 800;'>facing</span> <span style='background-color: rgba(14.158738497644663, 14.158738497644663, 0, 0.037016309797763824); font-weight: 800;'>the</span> <span style='background-color: rgba(100.11047691106796, 100.11047691106796, 0, 0.2617267370223999); font-weight: 800;'>couch</span> <span style='background-color: rgba(22.26691346615553, 22.26691346615553, 0, 0.05821415285269419); font-weight: 800;'>.</span> <span style='background-color: rgba(21.81101582944393, 21.81101582944393, 0, 0.057022263606389366); font-weight: 800;'>[SEP]</span> <span style='background-color: rgba(17.22962636500597, 17.22962636500597, 0, 0.04504477481047312); font-weight: 800;'>he</span> <span style='background-color: rgba(45.219994112849236, 45.219994112849236, 0, 0.1182222068309784); font-weight: 800;'>sat</span> <span style='background-color: rgba(26.318668350577354, 26.318668350577354, 0, 0.0688069760799408); font-weight: 800;'>down</span> <span style='background-color: rgba(21.423128843307495, 21.423128843307495, 0, 0.05600817998250326); font-weight: 800;'>on</span> <span style='background-color: rgba(16.35463021695614, 16.35463021695614, 0, 0.04275720318158468); font-weight: 800;'>the</span> <span style='background-color: rgba(124.99138981103897, 124.99138981103897, 0, 0.3267748753229777); font-weight: 800;'>couch</span> <span style='background-color: rgba(39.87398877739906, 39.87398877739906, 0, 0.10424572229385376); font-weight: 800;'>that</span> <span style='background-color: rgba(97.84921824932098, 97.84921824932098, 0, 0.2558149496714274); font-weight: 800;'>faced</span> <span style='background-color: rgba(53.21104131639004, 53.21104131639004, 0, 0.13911383350690207); font-weight: 800;'>a</span> <span style='background-color: rgba(255.0, 255.0, 0, 0.6666666666666666); font-weight: 800;'>chair</span> <span style='background-color: rgba(25.0777917355299, 25.0777917355299, 0, 0.06556285421053569); font-weight: 800;'>.</span> <span style='background-color: rgba(26.308458298444748, 26.308458298444748, 0, 0.06878028313318889); font-weight: 800;'>[SEP]</span> "
      ],
      "text/plain": [
       "<IPython.core.display.HTML object>"
      ]
     },
     "metadata": {},
     "output_type": "display_data"
    }
   ],
   "source": [
    "prev_HTA = None\n",
    "print(f\"### {idx} ###\")\n",
    "for e_no, hta in enumerate(HTAs):\n",
    "    if prev_HTA is not None:\n",
    "        print(\"Corr:\", pearsonr(prev_HTA[0], hta[0])[0])\n",
    "    prev_HTA = hta\n",
    "    print_globenc(hta[0], tokens, prefix=f\"Epoch {e_no}\")"
   ]
  },
  {
   "cell_type": "code",
   "execution_count": 12,
   "metadata": {},
   "outputs": [
    {
     "name": "stdout",
     "output_type": "stream",
     "text": [
      "### 24638 ###\n"
     ]
    },
    {
     "data": {
      "text/html": [
       "Epoch 0<span style='background-color: rgba(255.0, 255.0, 0, 0.6666666666666666); font-weight: 800;'>[CLS]</span> <span style='background-color: rgba(133.34677666425705, 133.34677666425705, 0, 0.348619023958842); font-weight: 800;'>yeah</span> <span style='background-color: rgba(48.6935169249773, 48.6935169249773, 0, 0.12730331222216287); font-weight: 800;'>i</span> <span style='background-color: rgba(73.10306131839752, 73.10306131839752, 0, 0.191119114557902); font-weight: 800;'>tell</span> <span style='background-color: rgba(55.9411758184433, 55.9411758184433, 0, 0.14625144004821777); font-weight: 800;'>you</span> <span style='background-color: rgba(87.07963854074478, 87.07963854074478, 0, 0.22765918572743735); font-weight: 800;'>what</span> <span style='background-color: rgba(48.00575003027916, 48.00575003027916, 0, 0.12550522883733115); font-weight: 800;'>the</span> <span style='background-color: rgba(76.35867342352867, 76.35867342352867, 0, 0.19963051875432333); font-weight: 800;'>first</span> <span style='background-color: rgba(104.95820358395576, 104.95820358395576, 0, 0.274400532245636); font-weight: 800;'>three</span> <span style='background-color: rgba(105.66100627183914, 105.66100627183914, 0, 0.2762379248936971); font-weight: 800;'>days</span> <span style='background-color: rgba(59.15334105491638, 59.15334105491638, 0, 0.1546492576599121); font-weight: 800;'>i</span> <span style='background-color: rgba(48.18193897604942, 48.18193897604942, 0, 0.12596585353215536); font-weight: 800;'>was</span> <span style='background-color: rgba(186.50005728006363, 186.50005728006363, 0, 0.48758184909820557); font-weight: 800;'>glued</span> <span style='background-color: rgba(34.595490619540215, 34.595490619540215, 0, 0.09044572710990906); font-weight: 800;'>to</span> <span style='background-color: rgba(47.38718502223492, 47.38718502223492, 0, 0.12388806541760762); font-weight: 800;'>the</span> <span style='background-color: rgba(147.0061621069908, 147.0061621069908, 0, 0.3843298355738322); font-weight: 800;'>television</span> <span style='background-color: rgba(87.99327671527863, 87.99327671527863, 0, 0.23004778226216635); font-weight: 800;'>[SEP]</span> <span style='background-color: rgba(59.43592809140682, 59.43592809140682, 0, 0.15538804729779562); font-weight: 800;'>i</span> <span style='background-color: rgba(120.2911788225174, 120.2911788225174, 0, 0.3144867420196533); font-weight: 800;'>watched</span> <span style='background-color: rgba(169.18923497200012, 169.18923497200012, 0, 0.44232479731241864); font-weight: 800;'>tv</span> <span style='background-color: rgba(56.892367377877235, 56.892367377877235, 0, 0.1487382153669993); font-weight: 800;'>on</span> <span style='background-color: rgba(46.66780762374401, 46.66780762374401, 0, 0.1220073401927948); font-weight: 800;'>and</span> <span style='background-color: rgba(64.08633515238762, 64.08633515238762, 0, 0.16754597425460815); font-weight: 800;'>off</span> <span style='background-color: rgba(48.2969968020916, 48.2969968020916, 0, 0.12626665830612183); font-weight: 800;'>for</span> <span style='background-color: rgba(81.58590853214264, 81.58590853214264, 0, 0.21329649289449057); font-weight: 800;'>three</span> <span style='background-color: rgba(98.38225364685059, 98.38225364685059, 0, 0.25720850626627606); font-weight: 800;'>days</span> <span style='background-color: rgba(97.92351946234703, 97.92351946234703, 0, 0.2560092012087504); font-weight: 800;'>.</span> <span style='background-color: rgba(40.777549892663956, 40.777549892663956, 0, 0.10660797357559204); font-weight: 800;'>[SEP]</span> "
      ],
      "text/plain": [
       "<IPython.core.display.HTML object>"
      ]
     },
     "metadata": {},
     "output_type": "display_data"
    },
    {
     "name": "stdout",
     "output_type": "stream",
     "text": [
      "Corr: 0.5136071945680656\n"
     ]
    },
    {
     "data": {
      "text/html": [
       "Epoch 1<span style='background-color: rgba(93.73216196894646, 93.73216196894646, 0, 0.2450514038403829); font-weight: 800;'>[CLS]</span> <span style='background-color: rgba(29.104070886969566, 29.104070886969566, 0, 0.07608907421429952); font-weight: 800;'>yeah</span> <span style='background-color: rgba(18.2609898224473, 18.2609898224473, 0, 0.04774114986260732); font-weight: 800;'>i</span> <span style='background-color: rgba(30.93131873756647, 30.93131873756647, 0, 0.08086619277795155); font-weight: 800;'>tell</span> <span style='background-color: rgba(22.275647297501564, 22.275647297501564, 0, 0.0582369863986969); font-weight: 800;'>you</span> <span style='background-color: rgba(44.95073676109314, 44.95073676109314, 0, 0.11751826604207356); font-weight: 800;'>what</span> <span style='background-color: rgba(23.4232959151268, 23.4232959151268, 0, 0.06123737494150797); font-weight: 800;'>the</span> <span style='background-color: rgba(64.86946552991867, 64.86946552991867, 0, 0.1695933739344279); font-weight: 800;'>first</span> <span style='background-color: rgba(74.31375235319138, 74.31375235319138, 0, 0.1942843198776245); font-weight: 800;'>three</span> <span style='background-color: rgba(74.57340002059937, 74.57340002059937, 0, 0.1949631373087565); font-weight: 800;'>days</span> <span style='background-color: rgba(36.741072088479996, 36.741072088479996, 0, 0.09605509042739868); font-weight: 800;'>i</span> <span style='background-color: rgba(35.01745417714119, 35.01745417714119, 0, 0.09154889980951945); font-weight: 800;'>was</span> <span style='background-color: rgba(255.0, 255.0, 0, 0.6666666666666666); font-weight: 800;'>glued</span> <span style='background-color: rgba(28.14011011272669, 28.14011011272669, 0, 0.07356891532739003); font-weight: 800;'>to</span> <span style='background-color: rgba(18.828325979411602, 18.828325979411602, 0, 0.04922438164552053); font-weight: 800;'>the</span> <span style='background-color: rgba(95.66277757287025, 95.66277757287025, 0, 0.2500987648963928); font-weight: 800;'>television</span> <span style='background-color: rgba(29.50724635273218, 29.50724635273218, 0, 0.07714312771956126); font-weight: 800;'>[SEP]</span> <span style='background-color: rgba(38.758976608514786, 38.758976608514786, 0, 0.10133065780003865); font-weight: 800;'>i</span> <span style='background-color: rgba(98.65659892559052, 98.65659892559052, 0, 0.25792574882507324); font-weight: 800;'>watched</span> <span style='background-color: rgba(76.98779046535492, 76.98779046535492, 0, 0.20127526919047037); font-weight: 800;'>tv</span> <span style='background-color: rgba(69.1886405646801, 69.1886405646801, 0, 0.18088533480962118); font-weight: 800;'>on</span> <span style='background-color: rgba(116.13630697131157, 116.13630697131157, 0, 0.30362433195114136); font-weight: 800;'>and</span> <span style='background-color: rgba(148.03867310285568, 148.03867310285568, 0, 0.3870292107264201); font-weight: 800;'>off</span> <span style='background-color: rgba(56.569760888814926, 56.569760888814926, 0, 0.14789479970932007); font-weight: 800;'>for</span> <span style='background-color: rgba(80.20156681537628, 80.20156681537628, 0, 0.20967729886372885); font-weight: 800;'>three</span> <span style='background-color: rgba(87.24613800644875, 87.24613800644875, 0, 0.22809447844823202); font-weight: 800;'>days</span> <span style='background-color: rgba(20.163819417357445, 20.163819417357445, 0, 0.05271586775779724); font-weight: 800;'>.</span> <span style='background-color: rgba(19.91264719516039, 19.91264719516039, 0, 0.052059208353360496); font-weight: 800;'>[SEP]</span> "
      ],
      "text/plain": [
       "<IPython.core.display.HTML object>"
      ]
     },
     "metadata": {},
     "output_type": "display_data"
    },
    {
     "name": "stdout",
     "output_type": "stream",
     "text": [
      "Corr: 0.9703191507966203\n"
     ]
    },
    {
     "data": {
      "text/html": [
       "Epoch 2<span style='background-color: rgba(94.96776446700096, 94.96776446700096, 0, 0.24828173716862997); font-weight: 800;'>[CLS]</span> <span style='background-color: rgba(37.13653586804867, 37.13653586804867, 0, 0.09708898266156514); font-weight: 800;'>yeah</span> <span style='background-color: rgba(20.162535086274147, 20.162535086274147, 0, 0.05271251002947489); font-weight: 800;'>i</span> <span style='background-color: rgba(37.02759951353073, 37.02759951353073, 0, 0.09680418173472087); font-weight: 800;'>tell</span> <span style='background-color: rgba(27.395602762699127, 27.395602762699127, 0, 0.07162249088287354); font-weight: 800;'>you</span> <span style='background-color: rgba(51.556963473558426, 51.556963473558426, 0, 0.13478944698969522); font-weight: 800;'>what</span> <span style='background-color: rgba(26.469790041446686, 26.469790041446686, 0, 0.06920206546783447); font-weight: 800;'>the</span> <span style='background-color: rgba(74.7035962343216, 74.7035962343216, 0, 0.19530351956685385); font-weight: 800;'>first</span> <span style='background-color: rgba(71.6147343814373, 71.6147343814373, 0, 0.18722806374231973); font-weight: 800;'>three</span> <span style='background-color: rgba(103.01957041025162, 103.01957041025162, 0, 0.26933221022288006); font-weight: 800;'>days</span> <span style='background-color: rgba(41.012415289878845, 41.012415289878845, 0, 0.1072220007578532); font-weight: 800;'>i</span> <span style='background-color: rgba(35.12588895857334, 35.12588895857334, 0, 0.09183238943417867); font-weight: 800;'>was</span> <span style='background-color: rgba(255.0, 255.0, 0, 0.6666666666666666); font-weight: 800;'>glued</span> <span style='background-color: rgba(42.65722543001175, 42.65722543001175, 0, 0.11152215798695882); font-weight: 800;'>to</span> <span style='background-color: rgba(24.058378636837006, 24.058378636837006, 0, 0.06289772192637126); font-weight: 800;'>the</span> <span style='background-color: rgba(120.89919179677963, 120.89919179677963, 0, 0.3160763184229533); font-weight: 800;'>television</span> <span style='background-color: rgba(36.728422567248344, 36.728422567248344, 0, 0.09602201978365581); font-weight: 800;'>[SEP]</span> <span style='background-color: rgba(53.12258966267109, 53.12258966267109, 0, 0.13888258735338846); font-weight: 800;'>i</span> <span style='background-color: rgba(132.2274935245514, 132.2274935245514, 0, 0.34569279352823895); font-weight: 800;'>watched</span> <span style='background-color: rgba(115.18242135643959, 115.18242135643959, 0, 0.3011305133501689); font-weight: 800;'>tv</span> <span style='background-color: rgba(95.95536187291145, 95.95536187291145, 0, 0.2508636911710103); font-weight: 800;'>on</span> <span style='background-color: rgba(126.9675649702549, 126.9675649702549, 0, 0.3319413463274638); font-weight: 800;'>and</span> <span style='background-color: rgba(209.7760882973671, 209.7760882973671, 0, 0.5484342177708944); font-weight: 800;'>off</span> <span style='background-color: rgba(76.18372321128845, 76.18372321128845, 0, 0.1991731325785319); font-weight: 800;'>for</span> <span style='background-color: rgba(84.77791965007782, 84.77791965007782, 0, 0.22164162000020346); font-weight: 800;'>three</span> <span style='background-color: rgba(109.77845013141632, 109.77845013141632, 0, 0.2870024840037028); font-weight: 800;'>days</span> <span style='background-color: rgba(28.91878142952919, 28.91878142952919, 0, 0.07560465733210246); font-weight: 800;'>.</span> <span style='background-color: rgba(21.507972590625286, 21.507972590625286, 0, 0.05622999370098114); font-weight: 800;'>[SEP]</span> "
      ],
      "text/plain": [
       "<IPython.core.display.HTML object>"
      ]
     },
     "metadata": {},
     "output_type": "display_data"
    },
    {
     "name": "stdout",
     "output_type": "stream",
     "text": [
      "Corr: 0.9483345963657646\n"
     ]
    },
    {
     "data": {
      "text/html": [
       "Epoch 3<span style='background-color: rgba(62.22775608301163, 62.22775608301163, 0, 0.16268694400787354); font-weight: 800;'>[CLS]</span> <span style='background-color: rgba(32.45522886514664, 32.45522886514664, 0, 0.08485027154286702); font-weight: 800;'>yeah</span> <span style='background-color: rgba(16.852787286043167, 16.852787286043167, 0, 0.044059574604034424); font-weight: 800;'>i</span> <span style='background-color: rgba(31.71856239438057, 31.71856239438057, 0, 0.08292434612909953); font-weight: 800;'>tell</span> <span style='background-color: rgba(21.28628108650446, 21.28628108650446, 0, 0.0556504080692927); font-weight: 800;'>you</span> <span style='background-color: rgba(42.108812257647514, 42.108812257647514, 0, 0.11008839805920918); font-weight: 800;'>what</span> <span style='background-color: rgba(20.67552275955677, 20.67552275955677, 0, 0.054053654273351036); font-weight: 800;'>the</span> <span style='background-color: rgba(60.36449186503887, 60.36449186503887, 0, 0.15781566500663757); font-weight: 800;'>first</span> <span style='background-color: rgba(65.80601647496223, 65.80601647496223, 0, 0.17204187313715616); font-weight: 800;'>three</span> <span style='background-color: rgba(73.49505588412285, 73.49505588412285, 0, 0.19214393695195517); font-weight: 800;'>days</span> <span style='background-color: rgba(33.01273874938488, 33.01273874938488, 0, 0.08630781372388203); font-weight: 800;'>i</span> <span style='background-color: rgba(27.66262773424387, 27.66262773424387, 0, 0.0723205953836441); font-weight: 800;'>was</span> <span style='background-color: rgba(255.0, 255.0, 0, 0.6666666666666666); font-weight: 800;'>glued</span> <span style='background-color: rgba(35.4428755491972, 35.4428755491972, 0, 0.09266111254692078); font-weight: 800;'>to</span> <span style='background-color: rgba(21.319616697728634, 21.319616697728634, 0, 0.05573755999406179); font-weight: 800;'>the</span> <span style='background-color: rgba(107.15904548764229, 107.15904548764229, 0, 0.2801543672879537); font-weight: 800;'>television</span> <span style='background-color: rgba(25.096110552549362, 25.096110552549362, 0, 0.06561074654261272); font-weight: 800;'>[SEP]</span> <span style='background-color: rgba(50.05481667816639, 50.05481667816639, 0, 0.1308622658252716); font-weight: 800;'>i</span> <span style='background-color: rgba(90.7416844367981, 90.7416844367981, 0, 0.23723316192626953); font-weight: 800;'>watched</span> <span style='background-color: rgba(89.90392059087753, 89.90392059087753, 0, 0.23504292964935303); font-weight: 800;'>tv</span> <span style='background-color: rgba(63.92594575881958, 63.92594575881958, 0, 0.16712665557861328); font-weight: 800;'>on</span> <span style='background-color: rgba(124.64045584201813, 124.64045584201813, 0, 0.32585740089416504); font-weight: 800;'>and</span> <span style='background-color: rgba(117.85039499402046, 117.85039499402046, 0, 0.30810560782750446); font-weight: 800;'>off</span> <span style='background-color: rgba(58.14121976494789, 58.14121976494789, 0, 0.15200318892796835); font-weight: 800;'>for</span> <span style='background-color: rgba(77.28757917881012, 77.28757917881012, 0, 0.20205903053283691); font-weight: 800;'>three</span> <span style='background-color: rgba(82.62006863951683, 82.62006863951683, 0, 0.2160001794497172); font-weight: 800;'>days</span> <span style='background-color: rgba(20.175594985485077, 20.175594985485077, 0, 0.05274665355682373); font-weight: 800;'>.</span> <span style='background-color: rgba(15.8175765350461, 15.8175765350461, 0, 0.04135314126809438); font-weight: 800;'>[SEP]</span> "
      ],
      "text/plain": [
       "<IPython.core.display.HTML object>"
      ]
     },
     "metadata": {},
     "output_type": "display_data"
    },
    {
     "name": "stdout",
     "output_type": "stream",
     "text": [
      "Corr: 0.9794906825233944\n"
     ]
    },
    {
     "data": {
      "text/html": [
       "Epoch 4<span style='background-color: rgba(57.53213904798031, 57.53213904798031, 0, 0.1504108210404714); font-weight: 800;'>[CLS]</span> <span style='background-color: rgba(31.61433208733797, 31.61433208733797, 0, 0.08265184859434764); font-weight: 800;'>yeah</span> <span style='background-color: rgba(17.99709778279066, 17.99709778279066, 0, 0.047051236033439636); font-weight: 800;'>i</span> <span style='background-color: rgba(30.97832791507244, 30.97832791507244, 0, 0.08098909258842468); font-weight: 800;'>tell</span> <span style='background-color: rgba(20.030511170625687, 20.030511170625687, 0, 0.05236734946568807); font-weight: 800;'>you</span> <span style='background-color: rgba(43.45702551305294, 43.45702551305294, 0, 0.11361313859621684); font-weight: 800;'>what</span> <span style='background-color: rgba(21.020466350018978, 21.020466350018978, 0, 0.05495546758174896); font-weight: 800;'>the</span> <span style='background-color: rgba(63.926774114370346, 63.926774114370346, 0, 0.16712882121404013); font-weight: 800;'>first</span> <span style='background-color: rgba(65.34573957324028, 65.34573957324028, 0, 0.17083853483200073); font-weight: 800;'>three</span> <span style='background-color: rgba(71.93760305643082, 71.93760305643082, 0, 0.1880721648534139); font-weight: 800;'>days</span> <span style='background-color: rgba(35.611229315400124, 35.611229315400124, 0, 0.09310125311215718); font-weight: 800;'>i</span> <span style='background-color: rgba(30.12048214673996, 30.12048214673996, 0, 0.07874635855356853); font-weight: 800;'>was</span> <span style='background-color: rgba(255.0, 255.0, 0, 0.6666666666666666); font-weight: 800;'>glued</span> <span style='background-color: rgba(35.041495487093925, 35.041495487093925, 0, 0.0916117529074351); font-weight: 800;'>to</span> <span style='background-color: rgba(20.49242578446865, 20.49242578446865, 0, 0.053574969371159874); font-weight: 800;'>the</span> <span style='background-color: rgba(104.12449032068253, 104.12449032068253, 0, 0.2722208897272746); font-weight: 800;'>television</span> <span style='background-color: rgba(25.24932213127613, 25.24932213127613, 0, 0.0660112996896108); font-weight: 800;'>[SEP]</span> <span style='background-color: rgba(47.57931791245937, 47.57931791245937, 0, 0.12439037362734477); font-weight: 800;'>i</span> <span style='background-color: rgba(93.22919815778732, 93.22919815778732, 0, 0.243736465771993); font-weight: 800;'>watched</span> <span style='background-color: rgba(97.53634303808212, 97.53634303808212, 0, 0.2549969752629598); font-weight: 800;'>tv</span> <span style='background-color: rgba(78.22240501642227, 78.22240501642227, 0, 0.2045030196507772); font-weight: 800;'>on</span> <span style='background-color: rgba(79.91913557052612, 79.91913557052612, 0, 0.2089389165242513); font-weight: 800;'>and</span> <span style='background-color: rgba(134.44774478673935, 134.44774478673935, 0, 0.3514973719914754); font-weight: 800;'>off</span> <span style='background-color: rgba(64.1942797601223, 64.1942797601223, 0, 0.1678281823794047); font-weight: 800;'>for</span> <span style='background-color: rgba(80.52125886082649, 80.52125886082649, 0, 0.21051309506098428); font-weight: 800;'>three</span> <span style='background-color: rgba(87.7319647371769, 87.7319647371769, 0, 0.22936461369196573); font-weight: 800;'>days</span> <span style='background-color: rgba(18.219851329922676, 18.219851329922676, 0, 0.04763359824816386); font-weight: 800;'>.</span> <span style='background-color: rgba(18.38898215442896, 18.38898215442896, 0, 0.048075770338376365); font-weight: 800;'>[SEP]</span> "
      ],
      "text/plain": [
       "<IPython.core.display.HTML object>"
      ]
     },
     "metadata": {},
     "output_type": "display_data"
    },
    {
     "name": "stdout",
     "output_type": "stream",
     "text": [
      "Corr: 0.9981393079170179\n"
     ]
    },
    {
     "data": {
      "text/html": [
       "Epoch 5<span style='background-color: rgba(58.132974207401276, 58.132974207401276, 0, 0.15198163191477457); font-weight: 800;'>[CLS]</span> <span style='background-color: rgba(28.71411681175232, 28.71411681175232, 0, 0.07506958643595378); font-weight: 800;'>yeah</span> <span style='background-color: rgba(15.750255547463894, 15.750255547463894, 0, 0.041177138686180115); font-weight: 800;'>i</span> <span style='background-color: rgba(27.210856676101685, 27.210856676101685, 0, 0.07113949457804362); font-weight: 800;'>tell</span> <span style='background-color: rgba(18.225134946405888, 18.225134946405888, 0, 0.047647411624590554); font-weight: 800;'>you</span> <span style='background-color: rgba(35.60462526977062, 35.60462526977062, 0, 0.09308398763338725); font-weight: 800;'>what</span> <span style='background-color: rgba(18.678237833082676, 18.678237833082676, 0, 0.04883199433485667); font-weight: 800;'>the</span> <span style='background-color: rgba(55.697586089372635, 55.697586089372635, 0, 0.14561460415522257); font-weight: 800;'>first</span> <span style='background-color: rgba(58.2539939135313, 58.2539939135313, 0, 0.15229802330334982); font-weight: 800;'>three</span> <span style='background-color: rgba(61.651775389909744, 61.651775389909744, 0, 0.161181112130483); font-weight: 800;'>days</span> <span style='background-color: rgba(31.23654305934906, 31.23654305934906, 0, 0.08166416486104329); font-weight: 800;'>i</span> <span style='background-color: rgba(27.909411191940308, 27.909411191940308, 0, 0.0729657808939616); font-weight: 800;'>was</span> <span style='background-color: rgba(255.0, 255.0, 0, 0.6666666666666666); font-weight: 800;'>glued</span> <span style='background-color: rgba(33.07002067565918, 33.07002067565918, 0, 0.0864575703938802); font-weight: 800;'>to</span> <span style='background-color: rgba(19.5463240519166, 19.5463240519166, 0, 0.05110150078932444); font-weight: 800;'>the</span> <span style='background-color: rgba(97.94268563389778, 97.94268563389778, 0, 0.25605930884679157); font-weight: 800;'>television</span> <span style='background-color: rgba(23.677469976246357, 23.677469976246357, 0, 0.06190188229084015); font-weight: 800;'>[SEP]</span> <span style='background-color: rgba(41.93744145333767, 41.93744145333767, 0, 0.1096403698126475); font-weight: 800;'>i</span> <span style='background-color: rgba(89.08674404025078, 89.08674404025078, 0, 0.2329065203666687); font-weight: 800;'>watched</span> <span style='background-color: rgba(94.02963280677795, 94.02963280677795, 0, 0.24582910537719727); font-weight: 800;'>tv</span> <span style='background-color: rgba(70.64378008246422, 70.64378008246422, 0, 0.1846896211306254); font-weight: 800;'>on</span> <span style='background-color: rgba(76.33686259388924, 76.33686259388924, 0, 0.1995734969774882); font-weight: 800;'>and</span> <span style='background-color: rgba(128.12439769506454, 128.12439769506454, 0, 0.3349657456080119); font-weight: 800;'>off</span> <span style='background-color: rgba(58.31779628992081, 58.31779628992081, 0, 0.15246482690175375); font-weight: 800;'>for</span> <span style='background-color: rgba(76.70206859707832, 76.70206859707832, 0, 0.20052828391393027); font-weight: 800;'>three</span> <span style='background-color: rgba(76.8975605070591, 76.8975605070591, 0, 0.2010393738746643); font-weight: 800;'>days</span> <span style='background-color: rgba(17.288568802177906, 17.288568802177906, 0, 0.045198872685432434); font-weight: 800;'>.</span> <span style='background-color: rgba(16.85072399675846, 16.85072399675846, 0, 0.04405418038368225); font-weight: 800;'>[SEP]</span> "
      ],
      "text/plain": [
       "<IPython.core.display.HTML object>"
      ]
     },
     "metadata": {},
     "output_type": "display_data"
    }
   ],
   "source": [
    "prev_HTA = None\n",
    "print(f\"### {idx} ###\")\n",
    "for e_no, hta in enumerate(HTAs):\n",
    "    if prev_HTA is not None:\n",
    "        print(\"Corr:\", pearsonr(prev_HTA[0], hta[0])[0])\n",
    "    prev_HTA = hta\n",
    "    print_globenc(hta[0], tokens, prefix=f\"Epoch {e_no}\")"
   ]
  },
  {
   "cell_type": "code",
   "execution_count": 10,
   "metadata": {},
   "outputs": [
    {
     "data": {
      "text/plain": [
       "array([2.3919744 , 1.6143422 , 1.4383541 , 1.6806723 , 1.6584038 ,\n",
       "       2.1515262 , 2.461934  , 2.2538314 , 1.6900308 , 1.3193939 ,\n",
       "       2.0133724 , 2.0184886 , 1.7156214 , 2.6452494 , 1.548722  ,\n",
       "       1.7915325 , 1.6018206 , 1.5491389 , 2.184195  , 0.11396325,\n",
       "       1.9367687 , 1.6886852 , 1.8591691 , 2.245592  , 2.0483835 ,\n",
       "       1.6859921 , 0.        , 2.0205436 , 1.1432397 ], dtype=float32)"
      ]
     },
     "execution_count": 10,
     "metadata": {},
     "output_type": "execute_result"
    }
   ],
   "source": [
    "hta[0] - hta[0].min()"
   ]
  },
  {
   "cell_type": "code",
   "execution_count": 23,
   "metadata": {},
   "outputs": [
    {
     "data": {
      "text/plain": [
       "array([0.85667294, 0.5133918 , 0.5688279 , 0.5069518 , 0.36562893,\n",
       "       0.5855837 , 0.77655613, 0.5806771 , 3.1768572 , 0.98984784,\n",
       "       0.54174685, 0.5073529 , 0.53512627, 0.6214964 , 0.42636976,\n",
       "       0.62936515, 0.64160085, 3.2990708 , 0.8523279 , 1.3776093 ,\n",
       "       0.6884577 , 0.416046  , 0.36505693, 0.55093414, 0.68505704,\n",
       "       0.3553516 , 2.4756973 , 0.8500618 , 0.34904358], dtype=float32)"
      ]
     },
     "execution_count": 23,
     "metadata": {},
     "output_type": "execute_result"
    }
   ],
   "source": [
    "hta[0]"
   ]
  },
  {
   "cell_type": "code",
   "execution_count": 27,
   "metadata": {},
   "outputs": [
    {
     "name": "stdout",
     "output_type": "stream",
     "text": [
      "### 192454 ###\n"
     ]
    },
    {
     "data": {
      "text/html": [
       "Epoch 0<span style='background-color: rgba(0.0, 0.0, 0, 0.0); font-weight: 800;'>[CLS]</span> <span style='background-color: rgba(54.18316975235939, 54.18316975235939, 0, 0.14165534575780234); font-weight: 800;'>no</span> <span style='background-color: rgba(74.13785219192505, 74.13785219192505, 0, 0.19382445017496744); font-weight: 800;'>!</span> <span style='background-color: rgba(41.98270842432976, 41.98270842432976, 0, 0.10975871483484904); font-weight: 800;'>we</span> <span style='background-color: rgba(59.15788181126118, 59.15788181126118, 0, 0.15466112891832987); font-weight: 800;'>have</span> <span style='background-color: rgba(89.32079628109932, 89.32079628109932, 0, 0.23351842164993286); font-weight: 800;'>other</span> <span style='background-color: rgba(7.36075222492218, 7.36075222492218, 0, 0.019243796666463215); font-weight: 800;'>things</span> <span style='background-color: rgba(24.772039242088795, 24.772039242088795, 0, 0.06476350128650665); font-weight: 800;'>to</span> <span style='background-color: rgba(255.0, 255.0, 0, 0.6666666666666666); font-weight: 800;'>buy</span> <span style='background-color: rgba(137.04405426979065, 137.04405426979065, 0, 0.3582851092020671); font-weight: 800;'>!</span> <span style='background-color: rgba(47.0411641895771, 47.0411641895771, 0, 0.12298343578974406); font-weight: 800;'>'</span> <span style='background-color: rgba(51.41702838242054, 51.41702838242054, 0, 0.13442360361417136); font-weight: 800;'>[SEP]</span> <span style='background-color: rgba(82.59445041418076, 82.59445041418076, 0, 0.2159332036972046); font-weight: 800;'>no</span> <span style='background-color: rgba(115.1266099512577, 115.1266099512577, 0, 0.3009846011797587); font-weight: 800;'>!</span> <span style='background-color: rgba(49.90788996219635, 49.90788996219635, 0, 0.1304781436920166); font-weight: 800;'>we</span> <span style='background-color: rgba(43.58941800892353, 43.58941800892353, 0, 0.11395926276842754); font-weight: 800;'>need</span> <span style='background-color: rgba(60.998244658112526, 60.998244658112526, 0, 0.15947253505388895); font-weight: 800;'>to</span> <span style='background-color: rgba(54.17267471551895, 54.17267471551895, 0, 0.14162790775299072); font-weight: 800;'>save</span> <span style='background-color: rgba(70.87924584746361, 70.87924584746361, 0, 0.18530521790186563); font-weight: 800;'>our</span> <span style='background-color: rgba(47.771181017160416, 47.771181017160416, 0, 0.12489197651545207); font-weight: 800;'>money</span> <span style='background-color: rgba(60.53692661225796, 60.53692661225796, 0, 0.1582664748032888); font-weight: 800;'>because</span> <span style='background-color: rgba(50.735082775354385, 50.735082775354385, 0, 0.13264073928197226); font-weight: 800;'>we</span> <span style='background-color: rgba(48.88793729245663, 48.88793729245663, 0, 0.1278116007645925); font-weight: 800;'>have</span> <span style='background-color: rgba(15.035857781767845, 15.035857781767845, 0, 0.03930943210919698); font-weight: 800;'>other</span> <span style='background-color: rgba(34.00802694261074, 34.00802694261074, 0, 0.08890987435976665); font-weight: 800;'>things</span> <span style='background-color: rgba(63.2734789699316, 63.2734789699316, 0, 0.16542086005210876); font-weight: 800;'>to</span> <span style='background-color: rgba(60.86644493043423, 60.86644493043423, 0, 0.15912796060244241); font-weight: 800;'>buy</span> <span style='background-color: rgba(27.3619232699275, 27.3619232699275, 0, 0.07153443992137909); font-weight: 800;'>.</span> <span style='background-color: rgba(40.207360088825226, 40.207360088825226, 0, 0.10511728127797444); font-weight: 800;'>[SEP]</span> "
      ],
      "text/plain": [
       "<IPython.core.display.HTML object>"
      ]
     },
     "metadata": {},
     "output_type": "display_data"
    },
    {
     "name": "stdout",
     "output_type": "stream",
     "text": [
      "Corr: 0.08134321569262973\n"
     ]
    },
    {
     "data": {
      "text/html": [
       "Epoch 1<span style='background-color: rgba(106.37604430317879, 106.37604430317879, 0, 0.27810730536778766); font-weight: 800;'>[CLS]</span> <span style='background-color: rgba(139.44452226161957, 139.44452226161957, 0, 0.3645608425140381); font-weight: 800;'>no</span> <span style='background-color: rgba(206.41927242279053, 206.41927242279053, 0, 0.5396582285563151); font-weight: 800;'>!</span> <span style='background-color: rgba(159.46095138788223, 159.46095138788223, 0, 0.4168913761774699); font-weight: 800;'>we</span> <span style='background-color: rgba(131.8522408604622, 131.8522408604622, 0, 0.34471174081166583); font-weight: 800;'>have</span> <span style='background-color: rgba(79.69910457730293, 79.69910457730293, 0, 0.20836367209752402); font-weight: 800;'>other</span> <span style='background-color: rgba(120.93452990055084, 120.93452990055084, 0, 0.31616870562235516); font-weight: 800;'>things</span> <span style='background-color: rgba(144.2466589808464, 144.2466589808464, 0, 0.3771154483159383); font-weight: 800;'>to</span> <span style='background-color: rgba(100.86713030934334, 100.86713030934334, 0, 0.2637049158414205); font-weight: 800;'>buy</span> <span style='background-color: rgba(184.08092468976974, 184.08092468976974, 0, 0.4812573194503784); font-weight: 800;'>!</span> <span style='background-color: rgba(145.5999791622162, 145.5999791622162, 0, 0.38065354029337567); font-weight: 800;'>'</span> <span style='background-color: rgba(89.37194153666496, 89.37194153666496, 0, 0.233652134736379); font-weight: 800;'>[SEP]</span> <span style='background-color: rgba(143.85488480329514, 143.85488480329514, 0, 0.376091202100118); font-weight: 800;'>no</span> <span style='background-color: rgba(202.69168764352798, 202.69168764352798, 0, 0.5299129088719686); font-weight: 800;'>!</span> <span style='background-color: rgba(126.69535517692566, 126.69535517692566, 0, 0.33122968673706055); font-weight: 800;'>we</span> <span style='background-color: rgba(69.24903452396393, 69.24903452396393, 0, 0.1810432275136312); font-weight: 800;'>need</span> <span style='background-color: rgba(97.55272775888443, 97.55272775888443, 0, 0.2550398111343384); font-weight: 800;'>to</span> <span style='background-color: rgba(14.901528339833021, 14.901528339833021, 0, 0.038958244025707245); font-weight: 800;'>save</span> <span style='background-color: rgba(255.0, 255.0, 0, 0.6666666666666666); font-weight: 800;'>our</span> <span style='background-color: rgba(0.0, 0.0, 0, 0.0); font-weight: 800;'>money</span> <span style='background-color: rgba(159.21290069818497, 159.21290069818497, 0, 0.41624287764231366); font-weight: 800;'>because</span> <span style='background-color: rgba(159.26485151052475, 159.26485151052475, 0, 0.4163786967595418); font-weight: 800;'>we</span> <span style='background-color: rgba(147.60043501853943, 147.60043501853943, 0, 0.38588349024454754); font-weight: 800;'>have</span> <span style='background-color: rgba(101.52508020401001, 101.52508020401001, 0, 0.26542504628499347); font-weight: 800;'>other</span> <span style='background-color: rgba(190.29384970664978, 190.29384970664978, 0, 0.4975002606709798); font-weight: 800;'>things</span> <span style='background-color: rgba(140.7384592294693, 140.7384592294693, 0, 0.3679436842600505); font-weight: 800;'>to</span> <span style='background-color: rgba(112.90369123220444, 112.90369123220444, 0, 0.2951730489730835); font-weight: 800;'>buy</span> <span style='background-color: rgba(157.68412113189697, 157.68412113189697, 0, 0.4122460683186849); font-weight: 800;'>.</span> <span style='background-color: rgba(158.57298463582993, 158.57298463582993, 0, 0.414569894472758); font-weight: 800;'>[SEP]</span> "
      ],
      "text/plain": [
       "<IPython.core.display.HTML object>"
      ]
     },
     "metadata": {},
     "output_type": "display_data"
    },
    {
     "name": "stdout",
     "output_type": "stream",
     "text": [
      "Corr: 0.41049485720212947\n"
     ]
    },
    {
     "data": {
      "text/html": [
       "Epoch 2<span style='background-color: rgba(210.9502100944519, 210.9502100944519, 0, 0.5515038172403971); font-weight: 800;'>[CLS]</span> <span style='background-color: rgba(223.81850838661194, 223.81850838661194, 0, 0.585146427154541); font-weight: 800;'>no</span> <span style='background-color: rgba(255.0, 255.0, 0, 0.6666666666666666); font-weight: 800;'>!</span> <span style='background-color: rgba(232.67615228891373, 232.67615228891373, 0, 0.6083036661148071); font-weight: 800;'>we</span> <span style='background-color: rgba(228.54685306549072, 228.54685306549072, 0, 0.5975081125895182); font-weight: 800;'>have</span> <span style='background-color: rgba(201.65250420570374, 201.65250420570374, 0, 0.5271960894266764); font-weight: 800;'>other</span> <span style='background-color: rgba(196.65786981582642, 196.65786981582642, 0, 0.5141382217407227); font-weight: 800;'>things</span> <span style='background-color: rgba(223.17983865737915, 223.17983865737915, 0, 0.583476702372233); font-weight: 800;'>to</span> <span style='background-color: rgba(0.0, 0.0, 0, 0.0); font-weight: 800;'>buy</span> <span style='background-color: rgba(247.73934960365295, 247.73934960365295, 0, 0.6476845741271973); font-weight: 800;'>!</span> <span style='background-color: rgba(228.3805587887764, 228.3805587887764, 0, 0.5970733563105265); font-weight: 800;'>'</span> <span style='background-color: rgba(250.39759576320648, 250.39759576320648, 0, 0.6546342372894287); font-weight: 800;'>[SEP]</span> <span style='background-color: rgba(222.5317758321762, 222.5317758321762, 0, 0.5817824204762777); font-weight: 800;'>no</span> <span style='background-color: rgba(239.9816858768463, 239.9816858768463, 0, 0.6274031003316244); font-weight: 800;'>!</span> <span style='background-color: rgba(221.32453501224518, 221.32453501224518, 0, 0.5786262353261312); font-weight: 800;'>we</span> <span style='background-color: rgba(218.15051972866058, 218.15051972866058, 0, 0.570328156153361); font-weight: 800;'>need</span> <span style='background-color: rgba(206.46558433771133, 206.46558433771133, 0, 0.5397793054580688); font-weight: 800;'>to</span> <span style='background-color: rgba(240.07212102413177, 240.07212102413177, 0, 0.6276395320892334); font-weight: 800;'>save</span> <span style='background-color: rgba(242.63468831777573, 242.63468831777573, 0, 0.6343390544255575); font-weight: 800;'>our</span> <span style='background-color: rgba(136.9518256187439, 136.9518256187439, 0, 0.35804398854573566); font-weight: 800;'>money</span> <span style='background-color: rgba(226.6121032834053, 226.6121032834053, 0, 0.592449943224589); font-weight: 800;'>because</span> <span style='background-color: rgba(225.64557194709778, 225.64557194709778, 0, 0.5899230639139811); font-weight: 800;'>we</span> <span style='background-color: rgba(221.13174855709076, 221.13174855709076, 0, 0.5781222184499105); font-weight: 800;'>have</span> <span style='background-color: rgba(210.76689273118973, 210.76689273118973, 0, 0.5510245561599731); font-weight: 800;'>other</span> <span style='background-color: rgba(252.98350900411606, 252.98350900411606, 0, 0.6613947947820028); font-weight: 800;'>things</span> <span style='background-color: rgba(230.97727864980698, 230.97727864980698, 0, 0.6038621664047241); font-weight: 800;'>to</span> <span style='background-color: rgba(183.08542370796204, 183.08542370796204, 0, 0.4786547025044759); font-weight: 800;'>buy</span> <span style='background-color: rgba(235.1984417438507, 235.1984417438507, 0, 0.614897886912028); font-weight: 800;'>.</span> <span style='background-color: rgba(240.00922679901123, 240.00922679901123, 0, 0.6274751027425131); font-weight: 800;'>[SEP]</span> "
      ],
      "text/plain": [
       "<IPython.core.display.HTML object>"
      ]
     },
     "metadata": {},
     "output_type": "display_data"
    },
    {
     "name": "stdout",
     "output_type": "stream",
     "text": [
      "Corr: 0.4518017572843218\n"
     ]
    },
    {
     "data": {
      "text/html": [
       "Epoch 3<span style='background-color: rgba(154.27828788757324, 154.27828788757324, 0, 0.40334192911783856); font-weight: 800;'>[CLS]</span> <span style='background-color: rgba(149.34027045965195, 149.34027045965195, 0, 0.39043207963307697); font-weight: 800;'>no</span> <span style='background-color: rgba(178.72556805610657, 178.72556805610657, 0, 0.4672563870747884); font-weight: 800;'>!</span> <span style='background-color: rgba(153.46914410591125, 153.46914410591125, 0, 0.4012265205383301); font-weight: 800;'>we</span> <span style='background-color: rgba(156.31181716918945, 156.31181716918945, 0, 0.40865834554036456); font-weight: 800;'>have</span> <span style='background-color: rgba(137.21030294895172, 137.21030294895172, 0, 0.3587197462717692); font-weight: 800;'>other</span> <span style='background-color: rgba(135.32431215047836, 135.32431215047836, 0, 0.3537890513737996); font-weight: 800;'>things</span> <span style='background-color: rgba(152.4505251646042, 152.4505251646042, 0, 0.3985634644826253); font-weight: 800;'>to</span> <span style='background-color: rgba(0.0, 0.0, 0, 0.0); font-weight: 800;'>buy</span> <span style='background-color: rgba(182.99562692642212, 182.99562692642212, 0, 0.4784199396769206); font-weight: 800;'>!</span> <span style='background-color: rgba(154.533269405365, 154.533269405365, 0, 0.40400854746500653); font-weight: 800;'>'</span> <span style='background-color: rgba(149.78723287582397, 149.78723287582397, 0, 0.3916006088256836); font-weight: 800;'>[SEP]</span> <span style='background-color: rgba(150.90715438127518, 150.90715438127518, 0, 0.39452850818634033); font-weight: 800;'>no</span> <span style='background-color: rgba(163.9159083366394, 163.9159083366394, 0, 0.42853832244873047); font-weight: 800;'>!</span> <span style='background-color: rgba(149.02488738298416, 149.02488738298416, 0, 0.3896075487136841); font-weight: 800;'>we</span> <span style='background-color: rgba(150.725037753582, 150.725037753582, 0, 0.3940523862838745); font-weight: 800;'>need</span> <span style='background-color: rgba(85.06601259112358, 85.06601259112358, 0, 0.2223948041598002); font-weight: 800;'>to</span> <span style='background-color: rgba(140.20031690597534, 140.20031690597534, 0, 0.36653677622477215); font-weight: 800;'>save</span> <span style='background-color: rgba(123.49825233221054, 123.49825233221054, 0, 0.32287124792734784); font-weight: 800;'>our</span> <span style='background-color: rgba(245.41708141565323, 245.41708141565323, 0, 0.6416132847468058); font-weight: 800;'>money</span> <span style='background-color: rgba(157.0613345503807, 157.0613345503807, 0, 0.4106178681055705); font-weight: 800;'>because</span> <span style='background-color: rgba(156.9689691066742, 156.9689691066742, 0, 0.4103763898213704); font-weight: 800;'>we</span> <span style='background-color: rgba(152.05729186534882, 152.05729186534882, 0, 0.39753540356953937); font-weight: 800;'>have</span> <span style='background-color: rgba(144.89765524864197, 144.89765524864197, 0, 0.3788173993428548); font-weight: 800;'>other</span> <span style='background-color: rgba(158.96877139806747, 158.96877139806747, 0, 0.4156046311060588); font-weight: 800;'>things</span> <span style='background-color: rgba(161.30087345838547, 161.30087345838547, 0, 0.4217016299565633); font-weight: 800;'>to</span> <span style='background-color: rgba(255.0, 255.0, 0, 0.6666666666666666); font-weight: 800;'>buy</span> <span style='background-color: rgba(178.04271429777145, 178.04271429777145, 0, 0.46547114849090576); font-weight: 800;'>.</span> <span style='background-color: rgba(165.58012783527374, 165.58012783527374, 0, 0.4328892230987549); font-weight: 800;'>[SEP]</span> "
      ],
      "text/plain": [
       "<IPython.core.display.HTML object>"
      ]
     },
     "metadata": {},
     "output_type": "display_data"
    },
    {
     "name": "stdout",
     "output_type": "stream",
     "text": [
      "Corr: -0.7352775066821189\n"
     ]
    },
    {
     "data": {
      "text/html": [
       "Epoch 4<span style='background-color: rgba(195.05733489990234, 195.05733489990234, 0, 0.5099538167317709); font-weight: 800;'>[CLS]</span> <span style='background-color: rgba(174.65691357851028, 174.65691357851028, 0, 0.45661938190460205); font-weight: 800;'>no</span> <span style='background-color: rgba(156.29295498132706, 156.29295498132706, 0, 0.4086090326309204); font-weight: 800;'>!</span> <span style='background-color: rgba(172.32955366373062, 172.32955366373062, 0, 0.45053478082021076); font-weight: 800;'>we</span> <span style='background-color: rgba(173.4625008702278, 173.4625008702278, 0, 0.4534967343012492); font-weight: 800;'>have</span> <span style='background-color: rgba(184.25489455461502, 184.25489455461502, 0, 0.4817121426264445); font-weight: 800;'>other</span> <span style='background-color: rgba(189.93201792240143, 189.93201792240143, 0, 0.49655429522196454); font-weight: 800;'>things</span> <span style='background-color: rgba(195.41097432374954, 195.41097432374954, 0, 0.5108783642450968); font-weight: 800;'>to</span> <span style='background-color: rgba(255.0, 255.0, 0, 0.6666666666666666); font-weight: 800;'>buy</span> <span style='background-color: rgba(150.02461373806, 150.02461373806, 0, 0.39222121238708496); font-weight: 800;'>!</span> <span style='background-color: rgba(177.3316052556038, 177.3316052556038, 0, 0.46361203988393146); font-weight: 800;'>'</span> <span style='background-color: rgba(176.2681943178177, 176.2681943178177, 0, 0.460831880569458); font-weight: 800;'>[SEP]</span> <span style='background-color: rgba(173.5750812292099, 173.5750812292099, 0, 0.4537910620371501); font-weight: 800;'>no</span> <span style='background-color: rgba(192.14006423950195, 192.14006423950195, 0, 0.5023269653320312); font-weight: 800;'>!</span> <span style='background-color: rgba(173.394575715065, 173.394575715065, 0, 0.45331915219624835); font-weight: 800;'>we</span> <span style='background-color: rgba(167.87081211805344, 167.87081211805344, 0, 0.4388779401779175); font-weight: 800;'>need</span> <span style='background-color: rgba(156.63062006235123, 156.63062006235123, 0, 0.4094918171564738); font-weight: 800;'>to</span> <span style='background-color: rgba(123.02507132291794, 123.02507132291794, 0, 0.3216341733932495); font-weight: 800;'>save</span> <span style='background-color: rgba(180.36347776651382, 180.36347776651382, 0, 0.471538503964742); font-weight: 800;'>our</span> <span style='background-color: rgba(119.36527490615845, 119.36527490615845, 0, 0.31206607818603516); font-weight: 800;'>money</span> <span style='background-color: rgba(175.49692690372467, 175.49692690372467, 0, 0.4588154951731364); font-weight: 800;'>because</span> <span style='background-color: rgba(172.4946168065071, 172.4946168065071, 0, 0.4509663184483846); font-weight: 800;'>we</span> <span style='background-color: rgba(175.4404467344284, 175.4404467344284, 0, 0.4586678345998128); font-weight: 800;'>have</span> <span style='background-color: rgba(181.63856774568558, 181.63856774568558, 0, 0.47487207253774005); font-weight: 800;'>other</span> <span style='background-color: rgba(174.46219682693481, 174.46219682693481, 0, 0.45611031850179035); font-weight: 800;'>things</span> <span style='background-color: rgba(172.34379529953003, 172.34379529953003, 0, 0.45057201385498047); font-weight: 800;'>to</span> <span style='background-color: rgba(0.0, 0.0, 0, 0.0); font-weight: 800;'>buy</span> <span style='background-color: rgba(172.22793191671371, 172.22793191671371, 0, 0.45026910305023193); font-weight: 800;'>.</span> <span style='background-color: rgba(167.47613489627838, 167.47613489627838, 0, 0.4378461043039958); font-weight: 800;'>[SEP]</span> "
      ],
      "text/plain": [
       "<IPython.core.display.HTML object>"
      ]
     },
     "metadata": {},
     "output_type": "display_data"
    },
    {
     "name": "stdout",
     "output_type": "stream",
     "text": [
      "Corr: 0.8611231998650992\n"
     ]
    },
    {
     "data": {
      "text/html": [
       "Epoch 5<span style='background-color: rgba(253.41347873210907, 253.41347873210907, 0, 0.6625188986460367); font-weight: 800;'>[CLS]</span> <span style='background-color: rgba(224.20356452465057, 224.20356452465057, 0, 0.5861531098683676); font-weight: 800;'>no</span> <span style='background-color: rgba(218.51122677326202, 218.51122677326202, 0, 0.5712711811065674); font-weight: 800;'>!</span> <span style='background-color: rgba(225.9673234820366, 225.9673234820366, 0, 0.5907642443974813); font-weight: 800;'>we</span> <span style='background-color: rgba(226.80996626615524, 226.80996626615524, 0, 0.5929672320683798); font-weight: 800;'>have</span> <span style='background-color: rgba(239.09093767404556, 239.09093767404556, 0, 0.6250743468602499); font-weight: 800;'>other</span> <span style='background-color: rgba(253.98922383785248, 253.98922383785248, 0, 0.6640241146087646); font-weight: 800;'>things</span> <span style='background-color: rgba(241.99601858854294, 241.99601858854294, 0, 0.6326693296432495); font-weight: 800;'>to</span> <span style='background-color: rgba(203.82875382900238, 203.82875382900238, 0, 0.5328856309254965); font-weight: 800;'>buy</span> <span style='background-color: rgba(203.77000898122787, 203.77000898122787, 0, 0.5327320496241251); font-weight: 800;'>!</span> <span style='background-color: rgba(234.69311445951462, 234.69311445951462, 0, 0.6135767698287964); font-weight: 800;'>'</span> <span style='background-color: rgba(234.55405712127686, 234.55405712127686, 0, 0.6132132212320963); font-weight: 800;'>[SEP]</span> <span style='background-color: rgba(226.65536016225815, 226.65536016225815, 0, 0.5925630331039429); font-weight: 800;'>no</span> <span style='background-color: rgba(255.0, 255.0, 0, 0.6666666666666666); font-weight: 800;'>!</span> <span style='background-color: rgba(223.86070132255554, 223.86070132255554, 0, 0.5852567354838053); font-weight: 800;'>we</span> <span style='background-color: rgba(228.38096916675568, 228.38096916675568, 0, 0.5970744291941324); font-weight: 800;'>need</span> <span style='background-color: rgba(222.24001228809357, 222.24001228809357, 0, 0.5810196399688721); font-weight: 800;'>to</span> <span style='background-color: rgba(179.50776368379593, 179.50776368379593, 0, 0.46930134296417236); font-weight: 800;'>save</span> <span style='background-color: rgba(244.4208660721779, 244.4208660721779, 0, 0.6390088001887003); font-weight: 800;'>our</span> <span style='background-color: rgba(110.08590683341026, 110.08590683341026, 0, 0.2878062923749288); font-weight: 800;'>money</span> <span style='background-color: rgba(233.1978490948677, 233.1978490948677, 0, 0.6096675793329874); font-weight: 800;'>because</span> <span style='background-color: rgba(226.93893134593964, 226.93893134593964, 0, 0.5933043956756592); font-weight: 800;'>we</span> <span style='background-color: rgba(230.4890352487564, 230.4890352487564, 0, 0.6025857130686442); font-weight: 800;'>have</span> <span style='background-color: rgba(241.17732971906662, 241.17732971906662, 0, 0.630528966585795); font-weight: 800;'>other</span> <span style='background-color: rgba(237.01665937900543, 237.01665937900543, 0, 0.6196513970692953); font-weight: 800;'>things</span> <span style='background-color: rgba(227.4037528038025, 227.4037528038025, 0, 0.5945196151733398); font-weight: 800;'>to</span> <span style='background-color: rgba(0.0, 0.0, 0, 0.0); font-weight: 800;'>buy</span> <span style='background-color: rgba(237.41123020648956, 237.41123020648956, 0, 0.620682954788208); font-weight: 800;'>.</span> <span style='background-color: rgba(217.96280980110168, 217.96280980110168, 0, 0.5698374112447103); font-weight: 800;'>[SEP]</span> "
      ],
      "text/plain": [
       "<IPython.core.display.HTML object>"
      ]
     },
     "metadata": {},
     "output_type": "display_data"
    }
   ],
   "source": [
    "prev_HTA = None\n",
    "print(f\"### {idx} ###\")\n",
    "for e_no, hta in enumerate(HTAs):\n",
    "    mix_hta = hta[0] * HTAs_angular[e_no][0]\n",
    "    if prev_HTA is not None:\n",
    "        print(\"Corr:\", pearsonr(prev_HTA, mix_hta)[0])\n",
    "    prev_HTA = mix_hta\n",
    "    print_globenc(mix_hta - mix_hta.min(), tokens, prefix=f\"Epoch {e_no}\")"
   ]
  },
  {
   "cell_type": "code",
   "execution_count": 11,
   "metadata": {},
   "outputs": [
    {
     "name": "stdout",
     "output_type": "stream",
     "text": [
      "### 192454 ###\n"
     ]
    },
    {
     "data": {
      "text/html": [
       "Epoch 0<span style='background-color: rgba(67.61168718338013, 67.61168718338013, 0, 0.17676258087158203); font-weight: 800;'>[CLS]</span> <span style='background-color: rgba(93.27024355530739, 93.27024355530739, 0, 0.24384377400080362); font-weight: 800;'>no</span> <span style='background-color: rgba(133.66155177354813, 133.66155177354813, 0, 0.34944196542104083); font-weight: 800;'>!</span> <span style='background-color: rgba(55.584967732429504, 55.584967732429504, 0, 0.14532017707824707); font-weight: 800;'>we</span> <span style='background-color: rgba(110.66535294055939, 110.66535294055939, 0, 0.2893211841583252); font-weight: 800;'>have</span> <span style='background-color: rgba(142.90739804506302, 142.90739804506302, 0, 0.3736141125361125); font-weight: 800;'>other</span> <span style='background-color: rgba(18.97279992699623, 18.97279992699623, 0, 0.04960209131240845); font-weight: 800;'>things</span> <span style='background-color: rgba(0.0, 0.0, 0, 0.0); font-weight: 800;'>to</span> <span style='background-color: rgba(255.0, 255.0, 0, 0.6666666666666666); font-weight: 800;'>buy</span> <span style='background-color: rgba(205.53545504808426, 205.53545504808426, 0, 0.5373475948969523); font-weight: 800;'>!</span> <span style='background-color: rgba(84.51264828443527, 84.51264828443527, 0, 0.22094810009002686); font-weight: 800;'>'</span> <span style='background-color: rgba(87.60838776826859, 87.60838776826859, 0, 0.2290415366490682); font-weight: 800;'>[SEP]</span> <span style='background-color: rgba(133.91688287258148, 133.91688287258148, 0, 0.3501094977060954); font-weight: 800;'>no</span> <span style='background-color: rgba(165.5326607823372, 165.5326607823372, 0, 0.4327651262283325); font-weight: 800;'>!</span> <span style='background-color: rgba(80.32183796167374, 80.32183796167374, 0, 0.20999173323313394); font-weight: 800;'>we</span> <span style='background-color: rgba(70.39480224251747, 70.39480224251747, 0, 0.1840386986732483); font-weight: 800;'>need</span> <span style='background-color: rgba(128.8127687573433, 128.8127687573433, 0, 0.3367654085159302); font-weight: 800;'>to</span> <span style='background-color: rgba(91.93471401929855, 91.93471401929855, 0, 0.240352193514506); font-weight: 800;'>save</span> <span style='background-color: rgba(150.9865853190422, 150.9865853190422, 0, 0.3947361707687378); font-weight: 800;'>our</span> <span style='background-color: rgba(83.34543451666832, 83.34543451666832, 0, 0.21789656082789102); font-weight: 800;'>money</span> <span style='background-color: rgba(107.11575821042061, 107.11575821042061, 0, 0.28004119793574017); font-weight: 800;'>because</span> <span style='background-color: rgba(81.89717262983322, 81.89717262983322, 0, 0.21411025524139404); font-weight: 800;'>we</span> <span style='background-color: rgba(76.02757439017296, 76.02757439017296, 0, 0.19876490036646524); font-weight: 800;'>have</span> <span style='background-color: rgba(30.914008766412735, 30.914008766412735, 0, 0.08082093795140584); font-weight: 800;'>other</span> <span style='background-color: rgba(54.79645684361458, 54.79645684361458, 0, 0.14325871070226034); font-weight: 800;'>things</span> <span style='background-color: rgba(133.09237271547318, 133.09237271547318, 0, 0.3479539155960083); font-weight: 800;'>to</span> <span style='background-color: rgba(98.51373419165611, 98.51373419165611, 0, 0.25755224625269574); font-weight: 800;'>buy</span> <span style='background-color: rgba(45.7211834192276, 45.7211834192276, 0, 0.11953250567118327); font-weight: 800;'>.</span> <span style='background-color: rgba(46.88888356089592, 46.88888356089592, 0, 0.1225853164990743); font-weight: 800;'>[SEP]</span> "
      ],
      "text/plain": [
       "<IPython.core.display.HTML object>"
      ]
     },
     "metadata": {},
     "output_type": "display_data"
    },
    {
     "name": "stdout",
     "output_type": "stream",
     "text": [
      "Corr: 0.14754363123060987\n"
     ]
    },
    {
     "data": {
      "text/html": [
       "Epoch 1<span style='background-color: rgba(73.5857418179512, 73.5857418179512, 0, 0.19238102436065674); font-weight: 800;'>[CLS]</span> <span style='background-color: rgba(104.70716625452042, 104.70716625452042, 0, 0.27374422550201416); font-weight: 800;'>no</span> <span style='background-color: rgba(233.76608580350876, 233.76608580350876, 0, 0.6111531654993693); font-weight: 800;'>!</span> <span style='background-color: rgba(143.09532076120377, 143.09532076120377, 0, 0.37410541375478107); font-weight: 800;'>we</span> <span style='background-color: rgba(85.73742896318436, 85.73742896318436, 0, 0.22415014108022055); font-weight: 800;'>have</span> <span style='background-color: rgba(43.672489151358604, 43.672489151358604, 0, 0.11417644222577412); font-weight: 800;'>other</span> <span style='background-color: rgba(76.18352562189102, 76.18352562189102, 0, 0.19917261600494385); font-weight: 800;'>things</span> <span style='background-color: rgba(115.58471336960793, 115.58471336960793, 0, 0.30218225717544556); font-weight: 800;'>to</span> <span style='background-color: rgba(80.68455889821053, 80.68455889821053, 0, 0.2109400232632955); font-weight: 800;'>buy</span> <span style='background-color: rgba(179.49631869792938, 179.49631869792938, 0, 0.4692714214324951); font-weight: 800;'>!</span> <span style='background-color: rgba(117.20126822590828, 117.20126822590828, 0, 0.30640854438145954); font-weight: 800;'>'</span> <span style='background-color: rgba(0.0, 0.0, 0, 0.0); font-weight: 800;'>[SEP]</span> <span style='background-color: rgba(113.53767961263657, 113.53767961263657, 0, 0.29683053493499756); font-weight: 800;'>no</span> <span style='background-color: rgba(188.5783937573433, 188.5783937573433, 0, 0.4930154085159302); font-weight: 800;'>!</span> <span style='background-color: rgba(75.65028503537178, 75.65028503537178, 0, 0.19777852296829224); font-weight: 800;'>we</span> <span style='background-color: rgba(37.250780537724495, 37.250780537724495, 0, 0.09738766153653462); font-weight: 800;'>need</span> <span style='background-color: rgba(14.865359980612993, 14.865359980612993, 0, 0.03886368622382482); font-weight: 800;'>to</span> <span style='background-color: rgba(57.894077226519585, 57.894077226519585, 0, 0.15135706464449564); font-weight: 800;'>save</span> <span style='background-color: rgba(255.0, 255.0, 0, 0.6666666666666666); font-weight: 800;'>our</span> <span style='background-color: rgba(17.36058633774519, 17.36058633774519, 0, 0.04538715382417043); font-weight: 800;'>money</span> <span style='background-color: rgba(131.14769786596298, 131.14769786596298, 0, 0.3428697983423869); font-weight: 800;'>because</span> <span style='background-color: rgba(148.6828449368477, 148.6828449368477, 0, 0.3887133200963338); font-weight: 800;'>we</span> <span style='background-color: rgba(121.90645694732666, 121.90645694732666, 0, 0.3187096913655599); font-weight: 800;'>have</span> <span style='background-color: rgba(60.82809738814831, 60.82809738814831, 0, 0.1590277055899302); font-weight: 800;'>other</span> <span style='background-color: rgba(198.52495282888412, 198.52495282888412, 0, 0.5190194845199585); font-weight: 800;'>things</span> <span style='background-color: rgba(106.0339942574501, 106.0339942574501, 0, 0.2772130568822225); font-weight: 800;'>to</span> <span style='background-color: rgba(69.16057527065277, 69.16057527065277, 0, 0.18081196149190268); font-weight: 800;'>buy</span> <span style='background-color: rgba(151.3318955898285, 151.3318955898285, 0, 0.39563894271850586); font-weight: 800;'>.</span> <span style='background-color: rgba(175.41881829500198, 175.41881829500198, 0, 0.4586112896601359); font-weight: 800;'>[SEP]</span> "
      ],
      "text/plain": [
       "<IPython.core.display.HTML object>"
      ]
     },
     "metadata": {},
     "output_type": "display_data"
    },
    {
     "name": "stdout",
     "output_type": "stream",
     "text": [
      "Corr: 0.5902791736872869\n"
     ]
    },
    {
     "data": {
      "text/html": [
       "Epoch 2<span style='background-color: rgba(106.00691691040993, 106.00691691040993, 0, 0.2771422664324443); font-weight: 800;'>[CLS]</span> <span style='background-color: rgba(135.5873492360115, 135.5873492360115, 0, 0.35447673002878827); font-weight: 800;'>no</span> <span style='background-color: rgba(255.0, 255.0, 0, 0.6666666666666666); font-weight: 800;'>!</span> <span style='background-color: rgba(170.1247599720955, 170.1247599720955, 0, 0.444770614306132); font-weight: 800;'>we</span> <span style='background-color: rgba(160.2788347005844, 160.2788347005844, 0, 0.41902963320414227); font-weight: 800;'>have</span> <span style='background-color: rgba(80.88686764240265, 80.88686764240265, 0, 0.21146893501281738); font-weight: 800;'>other</span> <span style='background-color: rgba(63.01934860646725, 63.01934860646725, 0, 0.16475646694501242); font-weight: 800;'>things</span> <span style='background-color: rgba(134.2793682217598, 134.2793682217598, 0, 0.35105717182159424); font-weight: 800;'>to</span> <span style='background-color: rgba(0.0, 0.0, 0, 0.0); font-weight: 800;'>buy</span> <span style='background-color: rgba(203.00963938236237, 203.00963938236237, 0, 0.5307441552480062); font-weight: 800;'>!</span> <span style='background-color: rgba(160.50173074007034, 160.50173074007034, 0, 0.4196123679478963); font-weight: 800;'>'</span> <span style='background-color: rgba(250.41349411010742, 250.41349411010742, 0, 0.6546758015950521); font-weight: 800;'>[SEP]</span> <span style='background-color: rgba(131.59639298915863, 131.59639298915863, 0, 0.3440428574879964); font-weight: 800;'>no</span> <span style='background-color: rgba(192.1745663881302, 192.1745663881302, 0, 0.5024171670277914); font-weight: 800;'>!</span> <span style='background-color: rgba(125.7308529317379, 125.7308529317379, 0, 0.32870811223983765); font-weight: 800;'>we</span> <span style='background-color: rgba(126.28280371427536, 126.28280371427536, 0, 0.33015112082163495); font-weight: 800;'>need</span> <span style='background-color: rgba(63.40856932103634, 63.40856932103634, 0, 0.1657740374406179); font-weight: 800;'>to</span> <span style='background-color: rgba(157.30035692453384, 157.30035692453384, 0, 0.4112427632013957); font-weight: 800;'>save</span> <span style='background-color: rgba(181.98231250047684, 181.98231250047684, 0, 0.4757707516352336); font-weight: 800;'>our</span> <span style='background-color: rgba(67.44992986321449, 67.44992986321449, 0, 0.17633968591690063); font-weight: 800;'>money</span> <span style='background-color: rgba(148.98193448781967, 148.98193448781967, 0, 0.38949525356292725); font-weight: 800;'>because</span> <span style='background-color: rgba(145.06458789110184, 145.06458789110184, 0, 0.3792538245519002); font-weight: 800;'>we</span> <span style='background-color: rgba(119.40967172384262, 119.40967172384262, 0, 0.31218214829762775); font-weight: 800;'>have</span> <span style='background-color: rgba(96.69060721993446, 96.69060721993446, 0, 0.25278590122858685); font-weight: 800;'>other</span> <span style='background-color: rgba(242.48883694410324, 242.48883694410324, 0, 0.6339577436447144); font-weight: 800;'>things</span> <span style='background-color: rgba(166.70728415250778, 166.70728415250778, 0, 0.4358360370000203); font-weight: 800;'>to</span> <span style='background-color: rgba(96.1700427532196, 96.1700427532196, 0, 0.25142494837443036); font-weight: 800;'>buy</span> <span style='background-color: rgba(178.1393963098526, 178.1393963098526, 0, 0.4657239119211833); font-weight: 800;'>.</span> <span style='background-color: rgba(226.77233308553696, 226.77233308553696, 0, 0.5928688446680704); font-weight: 800;'>[SEP]</span> "
      ],
      "text/plain": [
       "<IPython.core.display.HTML object>"
      ]
     },
     "metadata": {},
     "output_type": "display_data"
    },
    {
     "name": "stdout",
     "output_type": "stream",
     "text": [
      "Corr: 0.500454555960453\n"
     ]
    },
    {
     "data": {
      "text/html": [
       "Epoch 3<span style='background-color: rgba(168.67673367261887, 168.67673367261887, 0, 0.44098492463429767); font-weight: 800;'>[CLS]</span> <span style='background-color: rgba(151.84918463230133, 151.84918463230133, 0, 0.3969913323720296); font-weight: 800;'>no</span> <span style='background-color: rgba(255.0, 255.0, 0, 0.6666666666666666); font-weight: 800;'>!</span> <span style='background-color: rgba(168.79282504320145, 168.79282504320145, 0, 0.44128843148549396); font-weight: 800;'>we</span> <span style='background-color: rgba(185.91826289892197, 185.91826289892197, 0, 0.4860608180363973); font-weight: 800;'>have</span> <span style='background-color: rgba(109.96338620781898, 109.96338620781898, 0, 0.2874859770139058); font-weight: 800;'>other</span> <span style='background-color: rgba(120.44480457901955, 120.44480457901955, 0, 0.3148883779843648); font-weight: 800;'>things</span> <span style='background-color: rgba(165.1473918557167, 165.1473918557167, 0, 0.4317578872044881); font-weight: 800;'>to</span> <span style='background-color: rgba(83.0776096880436, 83.0776096880436, 0, 0.2171963651974996); font-weight: 800;'>buy</span> <span style='background-color: rgba(231.22432619333267, 231.22432619333267, 0, 0.6045080423355103); font-weight: 800;'>!</span> <span style='background-color: rgba(174.1987493634224, 174.1987493634224, 0, 0.4554215669631958); font-weight: 800;'>'</span> <span style='background-color: rgba(153.32532942295074, 153.32532942295074, 0, 0.4008505344390869); font-weight: 800;'>[SEP]</span> <span style='background-color: rgba(158.52566957473755, 158.52566957473755, 0, 0.4144461949666341); font-weight: 800;'>no</span> <span style='background-color: rgba(203.35598319768906, 203.35598319768906, 0, 0.531649629275004); font-weight: 800;'>!</span> <span style='background-color: rgba(147.61194080114365, 147.61194080114365, 0, 0.38591357072194415); font-weight: 800;'>we</span> <span style='background-color: rgba(159.4156578183174, 159.4156578183174, 0, 0.4167729616165161); font-weight: 800;'>need</span> <span style='background-color: rgba(0.0, 0.0, 0, 0.0); font-weight: 800;'>to</span> <span style='background-color: rgba(159.8575285077095, 159.8575285077095, 0, 0.41792817910512287); font-weight: 800;'>save</span> <span style='background-color: rgba(105.5548095703125, 105.5548095703125, 0, 0.2759602864583333); font-weight: 800;'>our</span> <span style='background-color: rgba(253.34321290254593, 253.34321290254593, 0, 0.662335197130839); font-weight: 800;'>money</span> <span style='background-color: rgba(179.19344455003738, 179.19344455003738, 0, 0.46847959359486896); font-weight: 800;'>because</span> <span style='background-color: rgba(187.47380822896957, 187.47380822896957, 0, 0.49012760321299237); font-weight: 800;'>we</span> <span style='background-color: rgba(161.79168552160263, 161.79168552160263, 0, 0.4229847987492879); font-weight: 800;'>have</span> <span style='background-color: rgba(132.51187026500702, 132.51187026500702, 0, 0.3464362621307373); font-weight: 800;'>other</span> <span style='background-color: rgba(188.33886981010437, 188.33886981010437, 0, 0.4923892021179199); font-weight: 800;'>things</span> <span style='background-color: rgba(208.82987827062607, 208.82987827062607, 0, 0.5459604660669962); font-weight: 800;'>to</span> <span style='background-color: rgba(254.90913927555084, 254.90913927555084, 0, 0.6664291222890218); font-weight: 800;'>buy</span> <span style='background-color: rgba(207.93779253959656, 207.93779253959656, 0, 0.5436282157897949); font-weight: 800;'>.</span> <span style='background-color: rgba(228.61845642328262, 228.61845642328262, 0, 0.5976953109105428); font-weight: 800;'>[SEP]</span> "
      ],
      "text/plain": [
       "<IPython.core.display.HTML object>"
      ]
     },
     "metadata": {},
     "output_type": "display_data"
    },
    {
     "name": "stdout",
     "output_type": "stream",
     "text": [
      "Corr: -0.44109499859960094\n"
     ]
    },
    {
     "data": {
      "text/html": [
       "Epoch 4<span style='background-color: rgba(232.78354972600937, 232.78354972600937, 0, 0.608584443728129); font-weight: 800;'>[CLS]</span> <span style='background-color: rgba(175.307514667511, 175.307514667511, 0, 0.45832029978434247); font-weight: 800;'>no</span> <span style='background-color: rgba(97.87716954946518, 97.87716954946518, 0, 0.25588802496592206); font-weight: 800;'>!</span> <span style='background-color: rgba(164.70322608947754, 164.70322608947754, 0, 0.43059666951497394); font-weight: 800;'>we</span> <span style='background-color: rgba(164.985414147377, 164.985414147377, 0, 0.4313344160715739); font-weight: 800;'>have</span> <span style='background-color: rgba(217.05709040164948, 217.05709040164948, 0, 0.5674695173899332); font-weight: 800;'>other</span> <span style='background-color: rgba(224.6508613228798, 224.6508613228798, 0, 0.5873225132624308); font-weight: 800;'>things</span> <span style='background-color: rgba(255.0, 255.0, 0, 0.6666666666666666); font-weight: 800;'>to</span> <span style='background-color: rgba(237.33947485685349, 237.33947485685349, 0, 0.6204953591028849); font-weight: 800;'>buy</span> <span style='background-color: rgba(118.7624828517437, 118.7624828517437, 0, 0.31049015124638873); font-weight: 800;'>!</span> <span style='background-color: rgba(188.82214307785034, 188.82214307785034, 0, 0.4936526616414388); font-weight: 800;'>'</span> <span style='background-color: rgba(183.30713421106339, 183.30713421106339, 0, 0.47923433780670166); font-weight: 800;'>[SEP]</span> <span style='background-color: rgba(170.18785178661346, 170.18785178661346, 0, 0.44493556022644043); font-weight: 800;'>no</span> <span style='background-color: rgba(249.02006328105927, 249.02006328105927, 0, 0.6510328451792399); font-weight: 800;'>!</span> <span style='background-color: rgba(166.84618949890137, 166.84618949890137, 0, 0.4361991882324219); font-weight: 800;'>we</span> <span style='background-color: rgba(147.76048243045807, 147.76048243045807, 0, 0.3863019148508708); font-weight: 800;'>need</span> <span style='background-color: rgba(112.1390962600708, 112.1390962600708, 0, 0.2931741078694661); font-weight: 800;'>to</span> <span style='background-color: rgba(142.90791481733322, 142.90791481733322, 0, 0.37361546357472736); font-weight: 800;'>save</span> <span style='background-color: rgba(193.2048887014389, 193.2048887014389, 0, 0.5051108201344808); font-weight: 800;'>our</span> <span style='background-color: rgba(87.03757479786873, 87.03757479786873, 0, 0.22754921515782675); font-weight: 800;'>money</span> <span style='background-color: rgba(179.7876414656639, 179.7876414656639, 0, 0.47003304958343506); font-weight: 800;'>because</span> <span style='background-color: rgba(160.14628261327744, 160.14628261327744, 0, 0.41868309179941815); font-weight: 800;'>we</span> <span style='background-color: rgba(178.54299545288086, 178.54299545288086, 0, 0.46677907307942706); font-weight: 800;'>have</span> <span style='background-color: rgba(208.57974529266357, 208.57974529266357, 0, 0.5453065236409506); font-weight: 800;'>other</span> <span style='background-color: rgba(176.01015776395798, 176.01015776395798, 0, 0.46015727519989014); font-weight: 800;'>things</span> <span style='background-color: rgba(156.65525794029236, 156.65525794029236, 0, 0.40955622990926105); font-weight: 800;'>to</span> <span style='background-color: rgba(0.0, 0.0, 0, 0.0); font-weight: 800;'>buy</span> <span style='background-color: rgba(170.64075708389282, 170.64075708389282, 0, 0.44611962636311847); font-weight: 800;'>.</span> <span style='background-color: rgba(120.63068300485611, 120.63068300485611, 0, 0.31537433465321857); font-weight: 800;'>[SEP]</span> "
      ],
      "text/plain": [
       "<IPython.core.display.HTML object>"
      ]
     },
     "metadata": {},
     "output_type": "display_data"
    },
    {
     "name": "stdout",
     "output_type": "stream",
     "text": [
      "Corr: 0.8838220579893918\n"
     ]
    },
    {
     "data": {
      "text/html": [
       "Epoch 5<span style='background-color: rgba(230.58448612689972, 230.58448612689972, 0, 0.6028352578481039); font-weight: 800;'>[CLS]</span> <span style='background-color: rgba(155.62134861946106, 155.62134861946106, 0, 0.40685319900512695); font-weight: 800;'>no</span> <span style='background-color: rgba(138.6562317609787, 138.6562317609787, 0, 0.3624999523162842); font-weight: 800;'>!</span> <span style='background-color: rgba(162.01550871133804, 162.01550871133804, 0, 0.4235699574152629); font-weight: 800;'>we</span> <span style='background-color: rgba(159.8688367009163, 159.8688367009163, 0, 0.41795774300893146); font-weight: 800;'>have</span> <span style='background-color: rgba(207.4054715037346, 207.4054715037346, 0, 0.5422365268071493); font-weight: 800;'>other</span> <span style='background-color: rgba(237.32854664325714, 237.32854664325714, 0, 0.6204667886098226); font-weight: 800;'>things</span> <span style='background-color: rgba(217.26761430501938, 217.26761430501938, 0, 0.5680199066797892); font-weight: 800;'>to</span> <span style='background-color: rgba(162.9176715016365, 162.9176715016365, 0, 0.4259285529454549); font-weight: 800;'>buy</span> <span style='background-color: rgba(127.1885535120964, 127.1885535120964, 0, 0.33251909414927167); font-weight: 800;'>!</span> <span style='background-color: rgba(194.08755093812943, 194.08755093812943, 0, 0.5074184338251749); font-weight: 800;'>'</span> <span style='background-color: rgba(194.58074927330017, 194.58074927330017, 0, 0.5087078412373861); font-weight: 800;'>[SEP]</span> <span style='background-color: rgba(165.3845751285553, 165.3845751285553, 0, 0.43237797419230145); font-weight: 800;'>no</span> <span style='background-color: rgba(255.0, 255.0, 0, 0.6666666666666666); font-weight: 800;'>!</span> <span style='background-color: rgba(149.29561525583267, 149.29561525583267, 0, 0.39031533400217694); font-weight: 800;'>we</span> <span style='background-color: rgba(172.70235925912857, 172.70235925912857, 0, 0.45150943597157794); font-weight: 800;'>need</span> <span style='background-color: rgba(154.41427499055862, 154.41427499055862, 0, 0.4036974509557088); font-weight: 800;'>to</span> <span style='background-color: rgba(149.33580189943314, 149.33580189943314, 0, 0.390420397122701); font-weight: 800;'>save</span> <span style='background-color: rgba(210.5547121167183, 210.5547121167183, 0, 0.5504698355992635); font-weight: 800;'>our</span> <span style='background-color: rgba(10.985969547182322, 10.985969547182322, 0, 0.028721489012241364); font-weight: 800;'>money</span> <span style='background-color: rgba(186.7030119895935, 186.7030119895935, 0, 0.4881124496459961); font-weight: 800;'>because</span> <span style='background-color: rgba(162.78794646263123, 162.78794646263123, 0, 0.4255894025166829); font-weight: 800;'>we</span> <span style='background-color: rgba(179.22247499227524, 179.22247499227524, 0, 0.468555490175883); font-weight: 800;'>have</span> <span style='background-color: rgba(216.47335052490234, 216.47335052490234, 0, 0.5659434000651041); font-weight: 800;'>other</span> <span style='background-color: rgba(197.46259063482285, 197.46259063482285, 0, 0.5162420670191447); font-weight: 800;'>things</span> <span style='background-color: rgba(162.5283443927765, 162.5283443927765, 0, 0.4249107042948405); font-weight: 800;'>to</span> <span style='background-color: rgba(0.0, 0.0, 0, 0.0); font-weight: 800;'>buy</span> <span style='background-color: rgba(194.77884024381638, 194.77884024381638, 0, 0.5092257261276245); font-weight: 800;'>.</span> <span style='background-color: rgba(110.20743191242218, 110.20743191242218, 0, 0.28812400499979657); font-weight: 800;'>[SEP]</span> "
      ],
      "text/plain": [
       "<IPython.core.display.HTML object>"
      ]
     },
     "metadata": {},
     "output_type": "display_data"
    }
   ],
   "source": [
    "prev_HTA = None\n",
    "print(f\"### {idx} ###\")\n",
    "for e_no, hta in enumerate(HTAs):\n",
    "    if prev_HTA is not None:\n",
    "        print(\"Corr:\", pearsonr(prev_HTA[0], hta[0])[0])\n",
    "    prev_HTA = hta\n",
    "    print_globenc(hta[0] - hta[0].min(), tokens, prefix=f\"Epoch {e_no}\")"
   ]
  },
  {
   "cell_type": "code",
   "execution_count": 18,
   "metadata": {},
   "outputs": [
    {
     "name": "stdout",
     "output_type": "stream",
     "text": [
      "### 192454 ###\n"
     ]
    },
    {
     "data": {
      "text/html": [
       "Epoch 0<span style='background-color: rgba(255.0, 255.0, 0, 0.6666666666666666); font-weight: 800;'>[CLS]</span> <span style='background-color: rgba(44.451226964592934, 44.451226964592934, 0, 0.11621235807736714); font-weight: 800;'>no</span> <span style='background-color: rgba(51.74078240990639, 51.74078240990639, 0, 0.1352700193723043); font-weight: 800;'>!</span> <span style='background-color: rgba(33.22968810796738, 33.22968810796738, 0, 0.0868750015894572); font-weight: 800;'>we</span> <span style='background-color: rgba(32.857505679130554, 32.857505679130554, 0, 0.08590197563171387); font-weight: 800;'>have</span> <span style='background-color: rgba(72.9487743973732, 72.9487743973732, 0, 0.19071575005849203); font-weight: 800;'>other</span> <span style='background-color: rgba(68.06779950857162, 68.06779950857162, 0, 0.1779550313949585); font-weight: 800;'>things</span> <span style='background-color: rgba(32.996414825320244, 32.996414825320244, 0, 0.08626513679822286); font-weight: 800;'>to</span> <span style='background-color: rgba(129.76417690515518, 129.76417690515518, 0, 0.3392527500788371); font-weight: 800;'>buy</span> <span style='background-color: rgba(77.21637099981308, 77.21637099981308, 0, 0.20187286535898843); font-weight: 800;'>!</span> <span style='background-color: rgba(118.33435222506523, 118.33435222506523, 0, 0.30937085549036664); font-weight: 800;'>'</span> <span style='background-color: rgba(66.55731216073036, 66.55731216073036, 0, 0.17400604486465454); font-weight: 800;'>[SEP]</span> <span style='background-color: rgba(71.64579391479492, 71.64579391479492, 0, 0.18730926513671875); font-weight: 800;'>no</span> <span style='background-color: rgba(87.25491553544998, 87.25491553544998, 0, 0.22811742623647055); font-weight: 800;'>!</span> <span style='background-color: rgba(31.167525462806225, 31.167525462806225, 0, 0.08148372670014699); font-weight: 800;'>we</span> <span style='background-color: rgba(50.064236372709274, 50.064236372709274, 0, 0.1308868924776713); font-weight: 800;'>need</span> <span style='background-color: rgba(22.65700813382864, 22.65700813382864, 0, 0.05923400819301605); font-weight: 800;'>to</span> <span style='background-color: rgba(68.38477849960327, 68.38477849960327, 0, 0.1787837346394857); font-weight: 800;'>save</span> <span style='background-color: rgba(31.53814047574997, 31.53814047574997, 0, 0.08245265483856201); font-weight: 800;'>our</span> <span style='background-color: rgba(83.31076517701149, 83.31076517701149, 0, 0.2178059220314026); font-weight: 800;'>money</span> <span style='background-color: rgba(47.78561644256115, 47.78561644256115, 0, 0.12492971618970235); font-weight: 800;'>because</span> <span style='background-color: rgba(26.08148317784071, 26.08148317784071, 0, 0.06818688412507375); font-weight: 800;'>we</span> <span style='background-color: rgba(29.266246184706688, 29.266246184706688, 0, 0.0765130619208018); font-weight: 800;'>have</span> <span style='background-color: rgba(68.04083615541458, 68.04083615541458, 0, 0.17788453896840414); font-weight: 800;'>other</span> <span style='background-color: rgba(56.85719646513462, 56.85719646513462, 0, 0.1486462652683258); font-weight: 800;'>things</span> <span style='background-color: rgba(25.97091481089592, 25.97091481089592, 0, 0.0678978164990743); font-weight: 800;'>to</span> <span style='background-color: rgba(97.27205201983452, 97.27205201983452, 0, 0.25430601835250854); font-weight: 800;'>buy</span> <span style='background-color: rgba(61.17910735309124, 61.17910735309124, 0, 0.15994537870089212); font-weight: 800;'>.</span> <span style='background-color: rgba(30.86909517645836, 30.86909517645836, 0, 0.08070351680119832); font-weight: 800;'>[SEP]</span> "
      ],
      "text/plain": [
       "<IPython.core.display.HTML object>"
      ]
     },
     "metadata": {},
     "output_type": "display_data"
    },
    {
     "name": "stdout",
     "output_type": "stream",
     "text": [
      "Corr: 0.3436310163785424\n"
     ]
    },
    {
     "data": {
      "text/html": [
       "Epoch 1<span style='background-color: rgba(102.81387984752655, 102.81387984752655, 0, 0.2687944571177165); font-weight: 800;'>[CLS]</span> <span style='background-color: rgba(53.12053397297859, 53.12053397297859, 0, 0.13887721300125122); font-weight: 800;'>no</span> <span style='background-color: rgba(56.4207024872303, 56.4207024872303, 0, 0.14750510454177856); font-weight: 800;'>!</span> <span style='background-color: rgba(57.338585034012794, 57.338585034012794, 0, 0.14990479747454324); font-weight: 800;'>we</span> <span style='background-color: rgba(46.18109934031963, 46.18109934031963, 0, 0.12073490023612976); font-weight: 800;'>have</span> <span style='background-color: rgba(100.11870726943016, 100.11870726943016, 0, 0.2617482542991638); font-weight: 800;'>other</span> <span style='background-color: rgba(66.65093913674355, 66.65093913674355, 0, 0.17425082127253214); font-weight: 800;'>things</span> <span style='background-color: rgba(34.96955394744873, 34.96955394744873, 0, 0.09142367045084636); font-weight: 800;'>to</span> <span style='background-color: rgba(144.6267145872116, 144.6267145872116, 0, 0.37810905774434406); font-weight: 800;'>buy</span> <span style='background-color: rgba(65.98754793405533, 65.98754793405533, 0, 0.17251646518707275); font-weight: 800;'>!</span> <span style='background-color: rgba(53.78876991569996, 53.78876991569996, 0, 0.14062423507372537); font-weight: 800;'>'</span> <span style='background-color: rgba(51.90050683915615, 51.90050683915615, 0, 0.1356875995794932); font-weight: 800;'>[SEP]</span> <span style='background-color: rgba(60.90340934693813, 60.90340934693813, 0, 0.15922459959983826); font-weight: 800;'>no</span> <span style='background-color: rgba(84.59229961037636, 84.59229961037636, 0, 0.22115633885065714); font-weight: 800;'>!</span> <span style='background-color: rgba(48.70724178850651, 48.70724178850651, 0, 0.12733919421831766); font-weight: 800;'>we</span> <span style='background-color: rgba(106.62780359387398, 106.62780359387398, 0, 0.2787654995918274); font-weight: 800;'>need</span> <span style='background-color: rgba(50.72364158928394, 50.72364158928394, 0, 0.13261082768440247); font-weight: 800;'>to</span> <span style='background-color: rgba(255.0, 255.0, 0, 0.6666666666666666); font-weight: 800;'>save</span> <span style='background-color: rgba(84.93187218904495, 84.93187218904495, 0, 0.22204411029815674); font-weight: 800;'>our</span> <span style='background-color: rgba(163.24554830789566, 163.24554830789566, 0, 0.42678574721018475); font-weight: 800;'>money</span> <span style='background-color: rgba(92.4724991619587, 92.4724991619587, 0, 0.24175816774368286); font-weight: 800;'>because</span> <span style='background-color: rgba(47.919281870126724, 47.919281870126724, 0, 0.125279168287913); font-weight: 800;'>we</span> <span style='background-color: rgba(49.95909221470356, 49.95909221470356, 0, 0.13061200579007468); font-weight: 800;'>have</span> <span style='background-color: rgba(87.57523074746132, 87.57523074746132, 0, 0.22895485162734985); font-weight: 800;'>other</span> <span style='background-color: rgba(59.222622737288475, 59.222622737288475, 0, 0.15483038624127707); font-weight: 800;'>things</span> <span style='background-color: rgba(42.195044830441475, 42.195044830441475, 0, 0.11031384269396464); font-weight: 800;'>to</span> <span style='background-color: rgba(75.94471603631973, 75.94471603631973, 0, 0.19854827721913657); font-weight: 800;'>buy</span> <span style='background-color: rgba(40.25698162615299, 40.25698162615299, 0, 0.10524701078732808); font-weight: 800;'>.</span> <span style='background-color: rgba(26.395089849829674, 26.395089849829674, 0, 0.0690067708492279); font-weight: 800;'>[SEP]</span> "
      ],
      "text/plain": [
       "<IPython.core.display.HTML object>"
      ]
     },
     "metadata": {},
     "output_type": "display_data"
    },
    {
     "name": "stdout",
     "output_type": "stream",
     "text": [
      "Corr: 0.8465793280696551\n"
     ]
    },
    {
     "data": {
      "text/html": [
       "Epoch 2<span style='background-color: rgba(60.8651378005743, 60.8651378005743, 0, 0.1591245432694753); font-weight: 800;'>[CLS]</span> <span style='background-color: rgba(31.962623298168182, 31.962623298168182, 0, 0.08356241385142009); font-weight: 800;'>no</span> <span style='background-color: rgba(44.6050389111042, 44.6050389111042, 0, 0.11661448081334432); font-weight: 800;'>!</span> <span style='background-color: rgba(48.01515832543373, 48.01515832543373, 0, 0.12552982568740845); font-weight: 800;'>we</span> <span style='background-color: rgba(31.66670087724924, 31.66670087724924, 0, 0.08278876046339671); font-weight: 800;'>have</span> <span style='background-color: rgba(61.096473187208176, 61.096473187208176, 0, 0.15972934166590372); font-weight: 800;'>other</span> <span style='background-color: rgba(57.98497594892979, 57.98497594892979, 0, 0.15159470836321512); font-weight: 800;'>things</span> <span style='background-color: rgba(36.919761300086975, 36.919761300086975, 0, 0.09652225176493327); font-weight: 800;'>to</span> <span style='background-color: rgba(255.0, 255.0, 0, 0.6666666666666666); font-weight: 800;'>buy</span> <span style='background-color: rgba(64.56526145339012, 64.56526145339012, 0, 0.16879806915918985); font-weight: 800;'>!</span> <span style='background-color: rgba(29.050733149051666, 29.050733149051666, 0, 0.07594962914784749); font-weight: 800;'>'</span> <span style='background-color: rgba(39.17856529355049, 39.17856529355049, 0, 0.10242762168248494); font-weight: 800;'>[SEP]</span> <span style='background-color: rgba(37.468573451042175, 37.468573451042175, 0, 0.09795705477396648); font-weight: 800;'>no</span> <span style='background-color: rgba(51.457705199718475, 51.457705199718475, 0, 0.1345299482345581); font-weight: 800;'>!</span> <span style='background-color: rgba(36.573349088430405, 36.573349088430405, 0, 0.09561659892400105); font-weight: 800;'>we</span> <span style='background-color: rgba(62.686243280768394, 62.686243280768394, 0, 0.1638856033484141); font-weight: 800;'>need</span> <span style='background-color: rgba(38.82339455187321, 38.82339455187321, 0, 0.10149907072385152); font-weight: 800;'>to</span> <span style='background-color: rgba(231.40702039003372, 231.40702039003372, 0, 0.6049856742223104); font-weight: 800;'>save</span> <span style='background-color: rgba(79.24046918749809, 79.24046918749809, 0, 0.2071646253267924); font-weight: 800;'>our</span> <span style='background-color: rgba(185.48347502946854, 185.48347502946854, 0, 0.48492411772410077); font-weight: 800;'>money</span> <span style='background-color: rgba(52.607800886034966, 52.607800886034966, 0, 0.13753673434257507); font-weight: 800;'>because</span> <span style='background-color: rgba(31.712340228259563, 31.712340228259563, 0, 0.08290807902812958); font-weight: 800;'>we</span> <span style='background-color: rgba(29.417945444583893, 29.417945444583893, 0, 0.07690966129302979); font-weight: 800;'>have</span> <span style='background-color: rgba(50.25090515613556, 50.25090515613556, 0, 0.1313749154408773); font-weight: 800;'>other</span> <span style='background-color: rgba(46.94782979786396, 46.94782979786396, 0, 0.12273942430814107); font-weight: 800;'>things</span> <span style='background-color: rgba(41.94824807345867, 41.94824807345867, 0, 0.10966862241427104); font-weight: 800;'>to</span> <span style='background-color: rgba(139.758583009243, 139.758583009243, 0, 0.365381916364034); font-weight: 800;'>buy</span> <span style='background-color: rgba(49.1192726790905, 49.1192726790905, 0, 0.1284163991610209); font-weight: 800;'>.</span> <span style='background-color: rgba(29.129145741462708, 29.129145741462708, 0, 0.07615462938944499); font-weight: 800;'>[SEP]</span> "
      ],
      "text/plain": [
       "<IPython.core.display.HTML object>"
      ]
     },
     "metadata": {},
     "output_type": "display_data"
    },
    {
     "name": "stdout",
     "output_type": "stream",
     "text": [
      "Corr: 0.965153608197307\n"
     ]
    },
    {
     "data": {
      "text/html": [
       "Epoch 3<span style='background-color: rgba(72.52137333154678, 72.52137333154678, 0, 0.1895983616511027); font-weight: 800;'>[CLS]</span> <span style='background-color: rgba(29.640626795589924, 29.640626795589924, 0, 0.07749183475971222); font-weight: 800;'>no</span> <span style='background-color: rgba(36.414631605148315, 36.414631605148315, 0, 0.09520165125528972); font-weight: 800;'>!</span> <span style='background-color: rgba(33.92483800649643, 33.92483800649643, 0, 0.0886923869450887); font-weight: 800;'>we</span> <span style='background-color: rgba(22.556345835328102, 22.556345835328102, 0, 0.05897083878517151); font-weight: 800;'>have</span> <span style='background-color: rgba(34.45379242300987, 34.45379242300987, 0, 0.09007527430852254); font-weight: 800;'>other</span> <span style='background-color: rgba(47.54887394607067, 47.54887394607067, 0, 0.12431078155835469); font-weight: 800;'>things</span> <span style='background-color: rgba(37.87416748702526, 37.87416748702526, 0, 0.09901743133862813); font-weight: 800;'>to</span> <span style='background-color: rgba(229.49715167284012, 229.49715167284012, 0, 0.599992553393046); font-weight: 800;'>buy</span> <span style='background-color: rgba(57.83182516694069, 57.83182516694069, 0, 0.15119431416193643); font-weight: 800;'>!</span> <span style='background-color: rgba(27.752002738416195, 27.752002738416195, 0, 0.0725542555252711); font-weight: 800;'>'</span> <span style='background-color: rgba(28.69700063019991, 28.69700063019991, 0, 0.07502483824888866); font-weight: 800;'>[SEP]</span> <span style='background-color: rgba(30.004438273608685, 30.004438273608685, 0, 0.07844297587871552); font-weight: 800;'>no</span> <span style='background-color: rgba(37.37004093825817, 37.37004093825817, 0, 0.09769945343335469); font-weight: 800;'>!</span> <span style='background-color: rgba(24.93755266070366, 24.93755266070366, 0, 0.0651962161064148); font-weight: 800;'>we</span> <span style='background-color: rgba(37.547559812664986, 37.547559812664986, 0, 0.09816355506579082); font-weight: 800;'>need</span> <span style='background-color: rgba(50.765078365802765, 50.765078365802765, 0, 0.13271915912628174); font-weight: 800;'>to</span> <span style='background-color: rgba(255.0, 255.0, 0, 0.6666666666666666); font-weight: 800;'>save</span> <span style='background-color: rgba(60.215912237763405, 60.215912237763405, 0, 0.15742722153663635); font-weight: 800;'>our</span> <span style='background-color: rgba(132.18286871910095, 132.18286871910095, 0, 0.34557612737019855); font-weight: 800;'>money</span> <span style='background-color: rgba(41.07855834066868, 41.07855834066868, 0, 0.10739492376645406); font-weight: 800;'>because</span> <span style='background-color: rgba(24.7308399528265, 24.7308399528265, 0, 0.0646557907263438); font-weight: 800;'>we</span> <span style='background-color: rgba(19.149427749216557, 19.149427749216557, 0, 0.05006386339664459); font-weight: 800;'>have</span> <span style='background-color: rgba(29.050406366586685, 29.050406366586685, 0, 0.07594877481460571); font-weight: 800;'>other</span> <span style='background-color: rgba(34.90815684199333, 34.90815684199333, 0, 0.09126315514246623); font-weight: 800;'>things</span> <span style='background-color: rgba(24.998687580227852, 24.998687580227852, 0, 0.06535604596138); font-weight: 800;'>to</span> <span style='background-color: rgba(143.2769814133644, 143.2769814133644, 0, 0.3745803435643514); font-weight: 800;'>buy</span> <span style='background-color: rgba(75.21629512310028, 75.21629512310028, 0, 0.19664390881856283); font-weight: 800;'>.</span> <span style='background-color: rgba(25.611336305737495, 25.611336305737495, 0, 0.0669577419757843); font-weight: 800;'>[SEP]</span> "
      ],
      "text/plain": [
       "<IPython.core.display.HTML object>"
      ]
     },
     "metadata": {},
     "output_type": "display_data"
    },
    {
     "name": "stdout",
     "output_type": "stream",
     "text": [
      "Corr: 0.9861460380876459\n"
     ]
    },
    {
     "data": {
      "text/html": [
       "Epoch 4<span style='background-color: rgba(67.58450344204903, 67.58450344204903, 0, 0.17669151226679483); font-weight: 800;'>[CLS]</span> <span style='background-color: rgba(36.70938938856125, 36.70938938856125, 0, 0.09597225983937581); font-weight: 800;'>no</span> <span style='background-color: rgba(42.80646622180939, 42.80646622180939, 0, 0.11191232999165852); font-weight: 800;'>!</span> <span style='background-color: rgba(38.89603525400162, 38.89603525400162, 0, 0.10168898105621338); font-weight: 800;'>we</span> <span style='background-color: rgba(26.440505012869835, 26.440505012869835, 0, 0.06912550330162048); font-weight: 800;'>have</span> <span style='background-color: rgba(42.671774849295616, 42.671774849295616, 0, 0.11156019568443298); font-weight: 800;'>other</span> <span style='background-color: rgba(58.837604597210884, 58.837604597210884, 0, 0.15382380286852518); font-weight: 800;'>things</span> <span style='background-color: rgba(48.24785403907299, 48.24785403907299, 0, 0.12613818049430847); font-weight: 800;'>to</span> <span style='background-color: rgba(255.0, 255.0, 0, 0.6666666666666666); font-weight: 800;'>buy</span> <span style='background-color: rgba(75.69650575518608, 75.69650575518608, 0, 0.1978993614514669); font-weight: 800;'>!</span> <span style='background-color: rgba(35.654603987932205, 35.654603987932205, 0, 0.09321465094884236); font-weight: 800;'>'</span> <span style='background-color: rgba(36.72308385372162, 36.72308385372162, 0, 0.0960080623626709); font-weight: 800;'>[SEP]</span> <span style='background-color: rgba(37.590873688459396, 37.590873688459396, 0, 0.09827679395675659); font-weight: 800;'>no</span> <span style='background-color: rgba(43.74530844390392, 43.74530844390392, 0, 0.11436681946118672); font-weight: 800;'>!</span> <span style='background-color: rgba(30.890668518841267, 30.890668518841267, 0, 0.08075991769631703); font-weight: 800;'>we</span> <span style='background-color: rgba(43.56492832303047, 43.56492832303047, 0, 0.1138952374458313); font-weight: 800;'>need</span> <span style='background-color: rgba(50.81517107784748, 50.81517107784748, 0, 0.13285012046496072); font-weight: 800;'>to</span> <span style='background-color: rgba(254.35792565345764, 254.35792565345764, 0, 0.6649880409240723); font-weight: 800;'>save</span> <span style='background-color: rgba(67.31091812252998, 67.31091812252998, 0, 0.17597625652949014); font-weight: 800;'>our</span> <span style='background-color: rgba(109.72867280244827, 109.72867280244827, 0, 0.2868723471959432); font-weight: 800;'>money</span> <span style='background-color: rgba(49.374413788318634, 49.374413788318634, 0, 0.1290834347407023); font-weight: 800;'>because</span> <span style='background-color: rgba(28.800681866705418, 28.800681866705418, 0, 0.0752959003051122); font-weight: 800;'>we</span> <span style='background-color: rgba(25.476321950554848, 25.476321950554848, 0, 0.06660476326942444); font-weight: 800;'>have</span> <span style='background-color: rgba(38.544117137789726, 38.544117137789726, 0, 0.10076893369356792); font-weight: 800;'>other</span> <span style='background-color: rgba(49.82251614332199, 49.82251614332199, 0, 0.1302549441655477); font-weight: 800;'>things</span> <span style='background-color: rgba(25.760362409055233, 25.760362409055233, 0, 0.06734735270341237); font-weight: 800;'>to</span> <span style='background-color: rgba(177.28784680366516, 177.28784680366516, 0, 0.4634976387023926); font-weight: 800;'>buy</span> <span style='background-color: rgba(63.73648792505264, 63.73648792505264, 0, 0.16663134098052979); font-weight: 800;'>.</span> <span style='background-color: rgba(25.08180432021618, 25.08180432021618, 0, 0.06557334462801616); font-weight: 800;'>[SEP]</span> "
      ],
      "text/plain": [
       "<IPython.core.display.HTML object>"
      ]
     },
     "metadata": {},
     "output_type": "display_data"
    },
    {
     "name": "stdout",
     "output_type": "stream",
     "text": [
      "Corr: 0.9980208082363609\n"
     ]
    },
    {
     "data": {
      "text/html": [
       "Epoch 5<span style='background-color: rgba(66.21609807014465, 66.21609807014465, 0, 0.1731139818827311); font-weight: 800;'>[CLS]</span> <span style='background-color: rgba(39.68235746026039, 39.68235746026039, 0, 0.10374472538630168); font-weight: 800;'>no</span> <span style='background-color: rgba(43.96726593375206, 43.96726593375206, 0, 0.11494710048039754); font-weight: 800;'>!</span> <span style='background-color: rgba(39.184580370783806, 39.184580370783806, 0, 0.10244334737459819); font-weight: 800;'>we</span> <span style='background-color: rgba(28.261101320385933, 28.261101320385933, 0, 0.0738852322101593); font-weight: 800;'>have</span> <span style='background-color: rgba(45.26239223778248, 45.26239223778248, 0, 0.1183330516020457); font-weight: 800;'>other</span> <span style='background-color: rgba(60.02350956201553, 60.02350956201553, 0, 0.15692420800526938); font-weight: 800;'>things</span> <span style='background-color: rgba(44.88313838839531, 44.88313838839531, 0, 0.11734153827031453); font-weight: 800;'>to</span> <span style='background-color: rgba(245.55355489253998, 245.55355489253998, 0, 0.6419700781504313); font-weight: 800;'>buy</span> <span style='background-color: rgba(76.50978371500969, 76.50978371500969, 0, 0.20002557833989462); font-weight: 800;'>!</span> <span style='background-color: rgba(41.87404565513134, 41.87404565513134, 0, 0.10947462916374207); font-weight: 800;'>'</span> <span style='background-color: rgba(39.21558290719986, 39.21558290719986, 0, 0.10252439975738525); font-weight: 800;'>[SEP]</span> <span style='background-color: rgba(41.36231191456318, 41.36231191456318, 0, 0.10813676317532857); font-weight: 800;'>no</span> <span style='background-color: rgba(48.038245886564255, 48.038245886564255, 0, 0.12559018532435098); font-weight: 800;'>!</span> <span style='background-color: rgba(32.956034392118454, 32.956034392118454, 0, 0.08615956703821818); font-weight: 800;'>we</span> <span style='background-color: rgba(48.64646025002003, 48.64646025002003, 0, 0.12718028823534647); font-weight: 800;'>need</span> <span style='background-color: rgba(49.59221050143242, 49.59221050143242, 0, 0.1296528379122416); font-weight: 800;'>to</span> <span style='background-color: rgba(255.0, 255.0, 0, 0.6666666666666666); font-weight: 800;'>save</span> <span style='background-color: rgba(65.8802492916584, 65.8802492916584, 0, 0.17223594586054483); font-weight: 800;'>our</span> <span style='background-color: rgba(106.48160263895988, 106.48160263895988, 0, 0.2783832748730977); font-weight: 800;'>money</span> <span style='background-color: rgba(53.213989958167076, 53.213989958167076, 0, 0.139121542374293); font-weight: 800;'>because</span> <span style='background-color: rgba(32.158062011003494, 32.158062011003494, 0, 0.08407336473464966); font-weight: 800;'>we</span> <span style='background-color: rgba(28.216888792812824, 28.216888792812824, 0, 0.07376964390277863); font-weight: 800;'>have</span> <span style='background-color: rgba(42.58417434990406, 42.58417434990406, 0, 0.11133117477099101); font-weight: 800;'>other</span> <span style='background-color: rgba(52.95113526284695, 52.95113526284695, 0, 0.13843434055646262); font-weight: 800;'>things</span> <span style='background-color: rgba(27.466721646487713, 27.466721646487713, 0, 0.07180842260519664); font-weight: 800;'>to</span> <span style='background-color: rgba(191.35776221752167, 191.35776221752167, 0, 0.5002817312876383); font-weight: 800;'>buy</span> <span style='background-color: rgba(65.70509389042854, 65.70509389042854, 0, 0.17177802324295044); font-weight: 800;'>.</span> <span style='background-color: rgba(26.979145109653473, 26.979145109653473, 0, 0.0705337127049764); font-weight: 800;'>[SEP]</span> "
      ],
      "text/plain": [
       "<IPython.core.display.HTML object>"
      ]
     },
     "metadata": {},
     "output_type": "display_data"
    }
   ],
   "source": [
    "prev_HTA = None\n",
    "print(f\"### {idx} ###\")\n",
    "for e_no, hta in enumerate(HTAs):\n",
    "    if prev_HTA is not None:\n",
    "        print(\"Corr:\", pearsonr(prev_HTA[0], hta[0])[0])\n",
    "    prev_HTA = hta\n",
    "    print_globenc(hta[0], tokens, prefix=f\"Epoch {e_no}\")"
   ]
  },
  {
   "cell_type": "code",
   "execution_count": null,
   "metadata": {},
   "outputs": [],
   "source": []
  }
 ],
 "metadata": {
  "kernelspec": {
   "display_name": "Python 3.7.13 ('globenc-venv')",
   "language": "python",
   "name": "python3"
  },
  "language_info": {
   "codemirror_mode": {
    "name": "ipython",
    "version": 3
   },
   "file_extension": ".py",
   "mimetype": "text/x-python",
   "name": "python",
   "nbconvert_exporter": "python",
   "pygments_lexer": "ipython3",
   "version": "3.7.13"
  },
  "vscode": {
   "interpreter": {
    "hash": "ad96aab5654ccd4e66bf13bd728d9d4512a27ebcee40fc973a7275c9c55ebd75"
   }
  }
 },
 "nbformat": 4,
 "nbformat_minor": 2
}
