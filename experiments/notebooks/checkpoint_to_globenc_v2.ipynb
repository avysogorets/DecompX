{
 "cells": [
  {
   "cell_type": "code",
   "execution_count": null,
   "metadata": {
    "scrolled": true
   },
   "outputs": [],
   "source": [
    "# ! pip install datasets==1.18.3\n",
    "# ! pip install transformers==4.18.0\n",
    "! git clone https://github.com/mohsenfayyaz/GlobEnc"
   ]
  },
  {
   "cell_type": "code",
   "execution_count": 2,
   "metadata": {},
   "outputs": [],
   "source": [
    "import torch\n",
    "import numpy as np\n",
    "import datasets\n",
    "import pickle\n",
    "import pathlib\n",
    "import os\n",
    "from importlib import reload\n",
    "\n",
    "from tqdm.auto import tqdm\n",
    "from transformers import AutoTokenizer\n",
    "from torch.utils.data import DataLoader\n",
    "from transformers import DataCollatorWithPadding\n",
    "from transformers.trainer_pt_utils import LengthGroupedSampler\n",
    "\n",
    "from GlobEnc.src.modeling.modeling_bert import BertForSequenceClassification\n",
    "from GlobEnc.src.modeling.modeling_electra import ElectraForSequenceClassification\n",
    "from GlobEnc.src.attention_rollout import AttentionRollout"
   ]
  },
  {
   "cell_type": "code",
   "execution_count": 7,
   "metadata": {},
   "outputs": [
    {
     "data": {
      "text/plain": [
       "'cuda'"
      ]
     },
     "execution_count": 7,
     "metadata": {},
     "output_type": "execute_result"
    }
   ],
   "source": [
    "ROOT_DIR = \"/home/modaresi/projects/globenc_analysis/outputs/globencs\"\n",
    "MODELS = {\n",
    "#     \"sst2-e0\": \"bert-large-uncased\",\n",
    "#     \"sst2-e1\": \"/home/modaresi/projects/globenc_extension/outputs/output_sst2_bert-large-uncased_0001_SEED0042/checkpoint-2105\",\n",
    "#     \"sst2-e2\": \"/home/modaresi/projects/globenc_extension/outputs/output_sst2_bert-large-uncased_0001_SEED0042/checkpoint-4210\",\n",
    "#     \"sst2-e3\": \"/home/modaresi/projects/globenc_extension/outputs/output_sst2_bert-large-uncased_0001_SEED0042/checkpoint-6315\",\n",
    "#     \"sst2-e4\": \"/home/modaresi/projects/globenc_extension/outputs/output_sst2_bert-large-uncased_0001_SEED0042/checkpoint-8420\",\n",
    "    \"sst2-e5\": \"/home/modaresi/projects/globenc_analysis/outputs/models/output_sst2_bert-large-uncased_0001_SEED0042/checkpoint-10525\",\n",
    "}\n",
    "# MODELS = {\n",
    "#     \"sst2-e0\": \"bert-base-uncased\",\n",
    "#     \"sst2-e1\": \"/home/modaresi/projects/globenc_extension/outputs/output_sst2_bert-base-uncased_0001_SEED0042/checkpoint-2105\",\n",
    "#     \"sst2-e2\": \"/home/modaresi/projects/globenc_extension/outputs/output_sst2_bert-base-uncased_0001_SEED0042/checkpoint-4210\",\n",
    "#     \"sst2-e3\": \"/home/modaresi/projects/globenc_extension/outputs/output_sst2_bert-base-uncased_0001_SEED0042/checkpoint-6315\",\n",
    "#     \"sst2-e4\": \"/home/modaresi/projects/globenc_extension/outputs/output_sst2_bert-base-uncased_0001_SEED0042/checkpoint-8420\",\n",
    "#     \"sst2-e5\": \"/home/modaresi/projects/globenc_extension/outputs/output_sst2_bert-base-uncased_0001_SEED0042/checkpoint-10525\",\n",
    "# }\n",
    "# MODELS = {\n",
    "#     \"mnli-e0\": \"bert-base-uncased\",\n",
    "#     \"mnli-e1\": \"/home/modaresi/projects/globenc_extension/outputs/output_mnli_bert-base-uncased_0001_SEED0042/checkpoint-12272\",\n",
    "#     \"mnli-e2\": \"/home/modaresi/projects/globenc_extension/outputs/output_mnli_bert-base-uncased_0001_SEED0042/checkpoint-24544\",\n",
    "#     \"mnli-e3\": \"/home/modaresi/projects/globenc_extension/outputs/output_mnli_bert-base-uncased_0001_SEED0042/checkpoint-36816\",\n",
    "#     \"mnli-e4\": \"/home/modaresi/projects/globenc_extension/outputs/output_mnli_bert-base-uncased_0001_SEED0042/checkpoint-49088\",\n",
    "#     \"mnli-e5\": \"/home/modaresi/projects/globenc_analysis/outputs/models/output_mnli_bert-base-uncased_0001_SEED0042/checkpoint-61360\",\n",
    "# }\n",
    "# MODELS = {\n",
    "#     \"cola-e0\": \"bert-base-uncased\",\n",
    "#     \"cola-e1\": \"/home/modaresi/projects/globenc_extension/outputs/output_cola_bert-base-uncased_0001_SEED0042/checkpoint-268\",\n",
    "#     \"cola-e2\": \"/home/modaresi/projects/globenc_extension/outputs/output_cola_bert-base-uncased_0001_SEED0042/checkpoint-536\",\n",
    "#     \"cola-e3\": \"/home/modaresi/projects/globenc_extension/outputs/output_cola_bert-base-uncased_0001_SEED0042/checkpoint-804\",\n",
    "#     \"cola-e4\": \"/home/modaresi/projects/globenc_extension/outputs/output_cola_bert-base-uncased_0001_SEED0042/checkpoint-1072\",\n",
    "#     \"cola-e5\": \"/home/modaresi/projects/globenc_extension/outputs/output_cola_bert-base-uncased_0001_SEED0042/checkpoint-1340\",\n",
    "# }\n",
    "# MODELS = {\n",
    "#     \"mrpc-e0\": \"bert-base-uncased\",\n",
    "#     \"mrpc-e1\": \"/home/modaresi/projects/globenc_extension/outputs/output_mrpc_bert-base-uncased_0001_SEED0042/checkpoint-115\",\n",
    "#     \"mrpc-e2\": \"/home/modaresi/projects/globenc_extension/outputs/output_mrpc_bert-base-uncased_0001_SEED0042/checkpoint-230\",\n",
    "#     \"mrpc-e3\": \"/home/modaresi/projects/globenc_extension/outputs/output_mrpc_bert-base-uncased_0001_SEED0042/checkpoint-345\",\n",
    "#     \"mrpc-e4\": \"/home/modaresi/projects/globenc_extension/outputs/output_mrpc_bert-base-uncased_0001_SEED0042/checkpoint-460\",\n",
    "#     \"mrpc-e5\": \"/home/modaresi/projects/globenc_extension/outputs/output_mrpc_bert-base-uncased_0001_SEED0042/checkpoint-575\",\n",
    "# }\n",
    "# MODELS = {\n",
    "#     \"qnli-e0\": \"bert-base-uncased\",\n",
    "#     \"qnli-e1\": \"/home/modaresi/projects/globenc_extension/outputs/output_qnli_bert-base-uncased_0001_SEED0042/checkpoint-3274\",\n",
    "#     \"qnli-e2\": \"/home/modaresi/projects/globenc_extension/outputs/output_qnli_bert-base-uncased_0001_SEED0042/checkpoint-6548\",\n",
    "#     \"qnli-e3\": \"/home/modaresi/projects/globenc_extension/outputs/output_qnli_bert-base-uncased_0001_SEED0042/checkpoint-9822\",\n",
    "#     \"qnli-e4\": \"/home/modaresi/projects/globenc_extension/outputs/output_qnli_bert-base-uncased_0001_SEED0042/checkpoint-13096\",\n",
    "#     \"qnli-e5\": \"/home/modaresi/projects/globenc_extension/outputs/output_qnli_bert-base-uncased_0001_SEED0042/checkpoint-16370\",\n",
    "# }\n",
    "\n",
    "# MULTI BERT\n",
    "# MODELS = {\n",
    "#     \"multibert-qnli-s0\": \"google/multiberts-seed_0\",\n",
    "#     \"multibert-qnli-s1\": \"google/multiberts-seed_1\",\n",
    "#     \"multibert-qnli-s2\": \"google/multiberts-seed_2\",\n",
    "#     \"multibert-qnli-s3\": \"google/multiberts-seed_3\",\n",
    "#     \"multibert-qnli-s4\": \"google/multiberts-seed_4\",\n",
    "#     \"multibert-qnli-s5\": \"google/multiberts-seed_5\",\n",
    "# }\n",
    "\n",
    "# MODELS = {\n",
    "#     \"multibert-mrpc-s0\": \"google/multiberts-seed_0\",\n",
    "#     \"multibert-mrpc-s1\": \"google/multiberts-seed_1\",\n",
    "#     \"multibert-mrpc-s2\": \"google/multiberts-seed_2\",\n",
    "#     \"multibert-mrpc-s3\": \"google/multiberts-seed_3\",\n",
    "#     \"multibert-mrpc-s4\": \"google/multiberts-seed_4\",\n",
    "#     \"multibert-mrpc-s5\": \"google/multiberts-seed_5\",\n",
    "# }\n",
    "\n",
    "# MODELS = {\n",
    "#     \"multibert-cola-s0\": \"google/multiberts-seed_0\",\n",
    "#     \"multibert-cola-s1\": \"google/multiberts-seed_1\",\n",
    "#     \"multibert-cola-s2\": \"google/multiberts-seed_2\",\n",
    "#     \"multibert-cola-s3\": \"google/multiberts-seed_3\",\n",
    "#     \"multibert-cola-s4\": \"google/multiberts-seed_4\",\n",
    "#     \"multibert-cola-s5\": \"google/multiberts-seed_5\",\n",
    "# }\n",
    "\n",
    "# MODELS = {\n",
    "#     \"multibert-qnli-e0\": \"google/multiberts-seed_0-step_0k\",\n",
    "#     \"multibert-qnli-e1\": \"google/multiberts-seed_0-step_400k\",\n",
    "#     \"multibert-qnli-e2\": \"google/multiberts-seed_0-step_800k\",\n",
    "#     \"multibert-qnli-e3\": \"google/multiberts-seed_0-step_1200k\",\n",
    "#     \"multibert-qnli-e4\": \"google/multiberts-seed_0-step_1600k\",\n",
    "#     \"multibert-qnli-e5\": \"google/multiberts-seed_0-step_2000k\",\n",
    "# }\n",
    "\n",
    "# MODELS = {\n",
    "#     \"multibert-sst2-e0-20k\": \"google/multiberts-seed_0-step_0k\",\n",
    "#     \"multibert-sst2-e1-20k\": \"google/multiberts-seed_0-step_20k\",\n",
    "#     \"multibert-sst2-e2-20k\": \"google/multiberts-seed_0-step_40k\",\n",
    "#     \"multibert-sst2-e3-20k\": \"google/multiberts-seed_0-step_60k\",\n",
    "#     \"multibert-sst2-e4-20k\": \"google/multiberts-seed_0-step_80k\",\n",
    "#     \"multibert-sst2-e5-20k\": \"google/multiberts-seed_0-step_100k\",\n",
    "# }\n",
    "\n",
    "# MODELS = {\n",
    "#     \"multibert-sst2-e0-400k\": \"google/multiberts-seed_0-step_0k\",\n",
    "#     \"multibert-sst2-e1-400k\": \"google/multiberts-seed_0-step_400k\",\n",
    "#     \"multibert-sst2-e2-400k\": \"google/multiberts-seed_0-step_800k\",\n",
    "#     \"multibert-sst2-e3-400k\": \"google/multiberts-seed_0-step_1200k\",\n",
    "#     \"multibert-sst2-e4-400k\": \"google/multiberts-seed_0-step_1600k\",\n",
    "#     \"multibert-sst2-e5-400k\": \"google/multiberts-seed_0-step_2000k\",\n",
    "# }\n",
    "\n",
    "TASK = \"sst2\"\n",
    "\n",
    "SET = \"validation\"  # train/validation/validation_matched\n",
    "SAVE_CLS = True\n",
    "\n",
    "DEVICE = 'cuda' if torch.cuda.is_available() else 'cpu'\n",
    "DEVICE"
   ]
  },
  {
   "cell_type": "code",
   "execution_count": 4,
   "metadata": {},
   "outputs": [
    {
     "name": "stderr",
     "output_type": "stream",
     "text": [
      "Reusing dataset glue (/opt/huggingface/datasets/glue/sst2/1.0.0/dacbe3125aa31d7f70367a07a8a9e72a5a0bfeb5fc42e75c9db75b96da6053ad)\n"
     ]
    },
    {
     "data": {
      "application/vnd.jupyter.widget-view+json": {
       "model_id": "f319a32be73246ed9069dc44672f3517",
       "version_major": 2,
       "version_minor": 0
      },
      "text/plain": [
       "  0%|          | 0/3 [00:00<?, ?it/s]"
      ]
     },
     "metadata": {},
     "output_type": "display_data"
    },
    {
     "data": {
      "text/plain": [
       "DatasetDict({\n",
       "    train: Dataset({\n",
       "        features: ['sentence', 'label', 'idx'],\n",
       "        num_rows: 67349\n",
       "    })\n",
       "    validation: Dataset({\n",
       "        features: ['sentence', 'label', 'idx'],\n",
       "        num_rows: 872\n",
       "    })\n",
       "    test: Dataset({\n",
       "        features: ['sentence', 'label', 'idx'],\n",
       "        num_rows: 1821\n",
       "    })\n",
       "})"
      ]
     },
     "execution_count": 4,
     "metadata": {},
     "output_type": "execute_result"
    }
   ],
   "source": [
    "GLUE_TASKS = [\"cola\", \"mnli\", \"mnli-mm\", \"mrpc\", \"qnli\", \"qqp\", \"rte\", \"sst2\", \"stsb\", \"wnli\"]\n",
    "\n",
    "BATCH_SIZE = 24\n",
    "MAX_LENGTH = 128\n",
    "\n",
    "actual_task = \"mnli\" if TASK == \"mnli-mm\" else TASK\n",
    "dataset = datasets.load_dataset(\"glue\", actual_task)\n",
    "metric = datasets.load_metric('glue', actual_task)\n",
    "task_to_keys = {\n",
    "    \"cola\": (\"sentence\", None),\n",
    "    \"mnli\": (\"premise\", \"hypothesis\"),\n",
    "    \"mnli-mm\": (\"premise\", \"hypothesis\"),\n",
    "    \"mrpc\": (\"sentence1\", \"sentence2\"),\n",
    "    \"qnli\": (\"question\", \"sentence\"),\n",
    "    \"qqp\": (\"question1\", \"question2\"),\n",
    "    \"rte\": (\"sentence1\", \"sentence2\"),\n",
    "    \"sst2\": (\"sentence\", None),\n",
    "    \"stsb\": (\"sentence1\", \"sentence2\"),\n",
    "    \"wnli\": (\"sentence1\", \"sentence2\"),\n",
    "}\n",
    "SENTENCE1_KEY, SENTENCE2_KEY = task_to_keys[TASK]\n",
    "dataset"
   ]
  },
  {
   "cell_type": "code",
   "execution_count": 5,
   "metadata": {},
   "outputs": [],
   "source": [
    "def preprocess_function_wrapped(tokenizer):\n",
    "    def preprocess_function(examples):\n",
    "        # Tokenize the texts\n",
    "        args = (\n",
    "            (examples[SENTENCE1_KEY],) if SENTENCE2_KEY is None else (examples[SENTENCE1_KEY], examples[SENTENCE2_KEY])\n",
    "        )\n",
    "        result = tokenizer(*args, padding=False, max_length=MAX_LENGTH, truncation=True)\n",
    "        return result\n",
    "    return preprocess_function\n",
    "\n",
    "def token_id_to_tokens_mapper(tokenizer, sample):\n",
    "    length = len(sample[\"input_ids\"])\n",
    "    return tokenizer.convert_ids_to_tokens(sample[\"input_ids\"])[:length], length\n",
    "\n",
    "def save_pickle(obj, path):\n",
    "    pathlib.Path(os.path.dirname(path)).mkdir(parents=True, exist_ok=True) \n",
    "    with open(path, 'wb') as f:\n",
    "        pickle.dump(obj, f, protocol=pickle.HIGHEST_PROTOCOL)\n",
    "    print(f\"Saved {path}\")"
   ]
  },
  {
   "cell_type": "code",
   "execution_count": 8,
   "metadata": {
    "scrolled": false
   },
   "outputs": [
    {
     "data": {
      "application/vnd.jupyter.widget-view+json": {
       "model_id": "67e46e234591435cbac538de8e1473d7",
       "version_major": 2,
       "version_minor": 0
      },
      "text/plain": [
       "Models:   0%|          | 0/1 [00:00<?, ?it/s]"
      ]
     },
     "metadata": {},
     "output_type": "display_data"
    },
    {
     "name": "stderr",
     "output_type": "stream",
     "text": [
      "Parameter 'function'=<function preprocess_function_wrapped.<locals>.preprocess_function at 0x7f252731f710> of the transform datasets.arrow_dataset.Dataset._map_single couldn't be hashed properly, a random hash was used instead. Make sure your transforms and parameters are serializable with pickle or dill for the dataset fingerprinting and caching to work. If you reuse this transform, the caching mechanism will consider it to be different from the previous calls and recompute everything. This warning is only showed once. Subsequent hashing failures won't be showed.\n"
     ]
    },
    {
     "data": {
      "application/vnd.jupyter.widget-view+json": {
       "model_id": "0c05b1e419f949a48ddbffcd32925b5b",
       "version_major": 2,
       "version_minor": 0
      },
      "text/plain": [
       "  0%|          | 0/1 [00:00<?, ?ba/s]"
      ]
     },
     "metadata": {},
     "output_type": "display_data"
    },
    {
     "data": {
      "application/vnd.jupyter.widget-view+json": {
       "model_id": "17998f4301454403ac7ae765be64b589",
       "version_major": 2,
       "version_minor": 0
      },
      "text/plain": [
       "Tokenize:   0%|          | 0/872 [00:00<?, ?it/s]"
      ]
     },
     "metadata": {},
     "output_type": "display_data"
    },
    {
     "data": {
      "application/vnd.jupyter.widget-view+json": {
       "model_id": "2891980241954c44877ab89fdef89e8a",
       "version_major": 2,
       "version_minor": 0
      },
      "text/plain": [
       "GlobEnc:   0%|          | 0/37 [00:00<?, ?it/s]"
      ]
     },
     "metadata": {},
     "output_type": "display_data"
    }
   ],
   "source": [
    "for name, path in tqdm(MODELS.items(), desc=\"Models\"):\n",
    "    model = BertForSequenceClassification.from_pretrained(path)\n",
    "    tokenizer = AutoTokenizer.from_pretrained(path, use_fast=True, max_length=128)\n",
    "\n",
    "    sel_dataset = dataset[SET].map(preprocess_function_wrapped(tokenizer), batched=True, batch_size=1024)\n",
    "    dataset_size = len(sel_dataset)\n",
    "    steps = int(np.ceil(dataset_size / BATCH_SIZE))\n",
    "\n",
    "    globencs = {\"globenc\": [], \"tokens\": [], \"cls\": []}\n",
    "    lengths = []\n",
    "\n",
    "    for i in tqdm(range(dataset_size), desc=\"Tokenize\"):\n",
    "        tokens, length = token_id_to_tokens_mapper(tokenizer, sel_dataset[i])\n",
    "        globencs[\"tokens\"].append(tokens)\n",
    "        lengths.append(length)\n",
    "\n",
    "    generator = torch.Generator()\n",
    "    generator.manual_seed(int(torch.empty((), dtype=torch.int64).random_().item()))\n",
    "\n",
    "    sampler = LengthGroupedSampler(\n",
    "        BATCH_SIZE,\n",
    "        lengths=lengths,\n",
    "        model_input_name=tokenizer.model_input_names[0],\n",
    "        generator=generator,\n",
    "    )\n",
    "\n",
    "    collator = DataCollatorWithPadding(\n",
    "        tokenizer=tokenizer\n",
    "    )\n",
    "\n",
    "    sel_dataset = sel_dataset.add_column(\"length\", lengths)\n",
    "    sel_dataset.set_format(type=\"torch\", columns=[\"input_ids\", \"token_type_ids\", \"attention_mask\", \"length\", \"idx\"])\n",
    "\n",
    "    dataloader = DataLoader(\n",
    "                sel_dataset,\n",
    "                batch_size=BATCH_SIZE,\n",
    "                sampler=sampler,\n",
    "                collate_fn=collator\n",
    "    )\n",
    "\n",
    "    model.to(DEVICE)\n",
    "\n",
    "    it = iter(dataloader)\n",
    "\n",
    "    idxes = []\n",
    "    shuffled_globencs, shuffled_cls = [], []\n",
    "    with torch.no_grad():\n",
    "        for i in tqdm(range(steps), desc=\"GlobEnc\"):\n",
    "            batch = next(it)\n",
    "            input_batch = {k: batch[k].to(DEVICE) for k in [\"input_ids\", \"token_type_ids\", \"attention_mask\"]}\n",
    "            if SAVE_CLS:\n",
    "                logits, hidden_states, norms = model(**input_batch, output_attentions=False, output_norms=False, \n",
    "                                                     return_dict=False, output_globenc=True, output_hidden_states=True)\n",
    "            else:\n",
    "                logits, norms = model(**input_batch, output_attentions=False, output_norms=False, \n",
    "                                                     return_dict=False, output_globenc=True, output_hidden_states=False)\n",
    "            globenc = norms.squeeze().cpu().numpy()\n",
    "            batch_lengths = batch[\"length\"].numpy()\n",
    "            idxes.extend(batch['idx'].tolist())\n",
    "            shuffled_globencs.extend([globenc[j][:batch_lengths[j],:batch_lengths[j]] for j in range(len(globenc))])\n",
    "            \n",
    "            if SAVE_CLS:\n",
    "                cls_repr = hidden_states[-1][:, 0, :].cpu().numpy()  # [13, batch, len, 768]\n",
    "                shuffled_cls.extend(cls_repr)\n",
    "\n",
    "    inverse_idxes = np.argsort(idxes)\n",
    "    globencs[\"globenc\"] = [shuffled_globencs[inverse_idxes[i]] for i in range(dataset_size)]\n",
    "    if SAVE_CLS:\n",
    "        globencs[\"cls\"] = [shuffled_cls[inverse_idxes[i]] for i in range(dataset_size)]\n",
    "#     save_pickle(globencs, f\"{ROOT_DIR}/{name}_{SET}_{list(MODELS.values())[0].replace('/', '-')}.pickle\")"
   ]
  },
  {
   "cell_type": "code",
   "execution_count": 6,
   "metadata": {},
   "outputs": [
    {
     "name": "stdout",
     "output_type": "stream",
     "text": [
      "{'sentence': 'hide new secretions from the parental units ', 'label': 0, 'idx': 0}\n",
      "['[CLS]', 'hide', 'new', 'secret', '##ions', 'from', 'the', 'parental', 'units', '[SEP]']\n"
     ]
    },
    {
     "data": {
      "text/plain": [
       "<AxesSubplot:>"
      ]
     },
     "execution_count": 6,
     "metadata": {},
     "output_type": "execute_result"
    },
    {
     "data": {
      "image/png": "[encoded data removed]",
      "text/plain": [
       "<Figure size 432x288 with 2 Axes>"
      ]
     },
     "metadata": {
      "needs_background": "light"
     },
     "output_type": "display_data"
    }
   ],
   "source": [
    "from seaborn import heatmap\n",
    "print(dataset[SET][0])\n",
    "print(globencs[\"tokens\"][0])\n",
    "heatmap(globencs[\"globenc\"][0])"
   ]
  },
  {
   "cell_type": "code",
   "execution_count": null,
   "metadata": {},
   "outputs": [],
   "source": [
    "! nvidia-smi"
   ]
  },
  {
   "cell_type": "code",
   "execution_count": 9,
   "metadata": {},
   "outputs": [
    {
     "data": {
      "text/plain": [
       "'-home-modaresi-projects-globenc_analysis-outputs-models-output_mnli_bert-base-uncased_0001_SEED0042-checkpoint-61360'"
      ]
     },
     "execution_count": 9,
     "metadata": {},
     "output_type": "execute_result"
    }
   ],
   "source": [
    "list(MODELS.values())[0].replace('/', '-')"
   ]
  },
  {
   "cell_type": "code",
   "execution_count": 9,
   "metadata": {},
   "outputs": [
    {
     "name": "stdout",
     "output_type": "stream",
     "text": [
      "Saved /home/modaresi/projects/globenc_analysis/outputs/globencs/sst2-e5_validation_bert-base-uncased.pickle\n"
     ]
    }
   ],
   "source": [
    "save_pickle(globencs, f\"{ROOT_DIR}/sst2-e5_validation_bert-base-uncased.pickle\")"
   ]
  },
  {
   "cell_type": "code",
   "execution_count": null,
   "metadata": {},
   "outputs": [],
   "source": []
  }
 ],
 "metadata": {
  "kernelspec": {
   "display_name": "Python 3 (ipykernel)",
   "language": "python",
   "name": "python3"
  },
  "language_info": {
   "codemirror_mode": {
    "name": "ipython",
    "version": 3
   },
   "file_extension": ".py",
   "mimetype": "text/x-python",
   "name": "python",
   "nbconvert_exporter": "python",
   "pygments_lexer": "ipython3",
   "version": "3.7.13"
  },
  "vscode": {
   "interpreter": {
    "hash": "1cd93310a71f16e81be1dbd6c904ba848ce7a975428d0edc0e47b90d6154f7f9"
   }
  }
 },
 "nbformat": 4,
 "nbformat_minor": 2
}
