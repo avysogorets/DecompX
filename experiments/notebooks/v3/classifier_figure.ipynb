{
 "cells": [
  {
   "cell_type": "code",
   "execution_count": 26,
   "id": "1ee12fe9",
   "metadata": {},
   "outputs": [],
   "source": [
    "import torch\n",
    "import numpy as np\n",
    "import datasets\n",
    "import pickle\n",
    "import pathlib\n",
    "import os\n",
    "from importlib import reload\n",
    "import sys\n",
    "import pandas as pd\n",
    "from IPython.display import display, HTML\n",
    "import json\n",
    "import sklearn\n",
    "import scipy\n",
    "import matplotlib.pyplot as plt\n",
    "import matplotlib\n",
    "\n",
    "from tqdm.auto import tqdm\n",
    "from transformers import AutoTokenizer\n",
    "from torch.utils.data import DataLoader\n",
    "from transformers import DataCollatorWithPadding\n",
    "from transformers.trainer_pt_utils import LengthGroupedSampler\n",
    "from transformers import (\n",
    "    AutoTokenizer,\n",
    "    AutoModelForSequenceClassification,\n",
    "    DataCollatorWithPadding\n",
    ")\n",
    "\n",
    "# For Imports\n",
    "module_path = os.path.abspath(os.path.join('..'))\n",
    "if module_path not in sys.path:\n",
    "    sys.path.append(module_path)\n",
    "# print(\"sys.path:\", sys.path)\n",
    "plt.style.use(\"ggplot\")\n",
    "plt.rcParams.update({'font.size': 16})"
   ]
  },
  {
   "cell_type": "code",
   "execution_count": 50,
   "id": "2dbd26a6",
   "metadata": {},
   "outputs": [],
   "source": [
    "MODELS_DIR = \"/home/modaresi/projects/globenc_analysis/outputs/models\"\n",
    "OUTPUT_DIR = \"/home/modaresi/projects/globenc_analysis/outputs/globencs_v3\"\n",
    "ALTI_OUTPUT_DIR = \"/home/modaresi/projects/globenc_analysis/outputs/ALTI\"\n",
    "IG_OUTPUT_DIR = \"/home/modaresi/projects/globenc_analysis/outputs/integrated_saliencies\"\n",
    "\n",
    "MODEL_DATASET_SET = [\n",
    "#     (f\"{MODELS_DIR}/output_cola_bert-base-uncased_0001_SEED0042/checkpoint-1340\", \"cola\", \"validation\"),\n",
    "    (OUTPUT_DIR, f\"{MODELS_DIR}/output_sst2_bert-base-uncased_0001_SEED0042/checkpoint-10525\", \"sst2\", \"validation\"),\n",
    "#     (f\"{MODELS_DIR}/output_mrpc_bert-base-uncased_0001_SEED0042/checkpoint-575\", \"mrpc\", \"validation\"),\n",
    "#     (f\"{MODELS_DIR}/output_qnli_bert-base-uncased_0001_SEED0042/checkpoint-16370\", \"qnli\", \"validation\"),\n",
    "#     (f\"{MODELS_DIR}/output_mnli_bert-base-uncased_0001_SEED0042/checkpoint-61360\", \"mnli\", \"validation_matched\"),\n",
    "#     (f\"{MODELS_DIR}/output_sst2_bert-large-uncased_0001_SEED0042/checkpoint-10525\", \"sst2\", \"validation\"),\n",
    "    (ALTI_OUTPUT_DIR, f\"{MODELS_DIR}/output_sst2_bert-base-uncased_0001_SEED0042/checkpoint-10525\", \"sst2\", \"validation\"),\n",
    "    (IG_OUTPUT_DIR, f\"{MODELS_DIR}/output_sst2_bert-base-uncased_0001_SEED0042/checkpoint-10525\", \"sst2\", \"validation\"),\n",
    "]\n",
    "\n",
    "GLOBENC_CONFIG_NAMES = [\n",
    "#     \"Decomposition LinearApproximation\", \n",
    "    \"Decomposition AbsDot Bias\", \n",
    "    \"GlobEnc\",\n",
    "#     \"GlobEnc FFN LinearApproximation\",\n",
    "#     \"GlobEnc FFN ZeroOriginApproximation\",\n",
    "    \"ALTI\",\n",
    "    \"IG_ALL_ZERO_SUM_prediction_based\",\n",
    "    \"IG_ALL_ZERO_NORM_prediction_based\",\n",
    "]"
   ]
  },
  {
   "cell_type": "code",
   "execution_count": 32,
   "id": "e5e3f228",
   "metadata": {},
   "outputs": [],
   "source": [
    "def print_importance(importance, tokenized_text, discrete=False, prefix=\"\", no_cls_sep=False):\n",
    "    \"\"\"\n",
    "    importance: (sent_len)\n",
    "    \"\"\"\n",
    "    if no_cls_sep:\n",
    "        importance = importance[1:-1]\n",
    "        tokenized_text = tokenized_text[1:-1]\n",
    "    importance = importance / importance.max()  # Normalize\n",
    "    if discrete:\n",
    "        importance = np.argsort(np.argsort(importance)) / len(importance)\n",
    "    \n",
    "    html = \"<pre>\"+prefix\n",
    "    for i in range(len(tokenized_text)):\n",
    "        rgba = matplotlib.cm.get_cmap('Wistia')(importance[i])   # Wistia\n",
    "        color = f\"background-color: rgba({rgba[0]*255}, {rgba[1]*255}, {rgba[2]*255}, {rgba[3]}); \"\n",
    "        html += (f\"<span style='\"\n",
    "                 f\"{color}\"\n",
    "                 f\"font-weight: {int(800)};\"\n",
    "                 \"'>\")\n",
    "        html += tokenized_text[i]\n",
    "        html += \"</span> \"\n",
    "    display(HTML(html))"
   ]
  },
  {
   "cell_type": "code",
   "execution_count": 34,
   "id": "caa18431",
   "metadata": {},
   "outputs": [
    {
     "data": {
      "application/vnd.jupyter.widget-view+json": {
       "model_id": "0243be7040984f2eb44ca9edb4f2ff71",
       "version_major": 2,
       "version_minor": 0
      },
      "text/plain": [
       "Models_Dataset_Sets:   0%|          | 0/2 [00:00<?, ?it/s]"
      ]
     },
     "metadata": {},
     "output_type": "display_data"
    },
    {
     "data": {
      "application/vnd.jupyter.widget-view+json": {
       "model_id": "4067b84ba6264b3f97b855b435dd9048",
       "version_major": 2,
       "version_minor": 0
      },
      "text/plain": [
       "Configs:   0%|          | 0/3 [00:00<?, ?it/s]"
      ]
     },
     "metadata": {},
     "output_type": "display_data"
    },
    {
     "name": "stdout",
     "output_type": "stream",
     "text": [
      "[sst2]_[validation]_[output_sst2_bert-base-uncased_0001_SEED0042-checkpoint-10525]_[Decomposition AbsDot Bias]\n"
     ]
    },
    {
     "data": {
      "text/html": [
       "<pre>aggregated:         <span style='background-color: rgba(255.0, 231.83137254901962, 25.898039215686275, 1.0); font-weight: 800;'>it</span> <span style='background-color: rgba(232.23529411764707, 251.3921568627451, 106.94117647058825, 1.0); font-weight: 800;'>'</span> <span style='background-color: rgba(244.5176470588235, 240.9294117647059, 63.27058823529412, 1.0); font-weight: 800;'>s</span> <span style='background-color: rgba(236.89411764705883, 247.4235294117647, 90.3764705882353, 1.0); font-weight: 800;'>a</span> <span style='background-color: rgba(252.0, 127.0, 0.0, 1.0); font-weight: 800;'>charming</span> <span style='background-color: rgba(231.38823529411766, 252.11372549019606, 109.95294117647059, 1.0); font-weight: 800;'>and</span> <span style='background-color: rgba(251.71764705882353, 234.79607843137254, 37.67058823529413, 1.0); font-weight: 800;'>often</span> <span style='background-color: rgba(255.0, 206.2, 10.4, 1.0); font-weight: 800;'>affecting</span> <span style='background-color: rgba(255.0, 196.75686274509803, 4.690196078431373, 1.0); font-weight: 800;'>journey</span> <span style='background-color: rgba(255.0, 212.27058823529413, 14.070588235294117, 1.0); font-weight: 800;'>.</span> "
      ],
      "text/plain": [
       "<IPython.core.display.HTML object>"
      ]
     },
     "metadata": {},
     "output_type": "display_data"
    },
    {
     "data": {
      "text/html": [
       "<pre>classifierL0|L=1:   <span style='background-color: rgba(255.0, 171.48627450980393, 0.0, 1.0); font-weight: 800;'>it</span> <span style='background-color: rgba(238.16470588235296, 246.3411764705882, 85.85882352941178, 1.0); font-weight: 800;'>'</span> <span style='background-color: rgba(255.0, 207.54901960784315, 11.215686274509803, 1.0); font-weight: 800;'>s</span> <span style='background-color: rgba(250.4470588235294, 235.87843137254902, 42.18823529411766, 1.0); font-weight: 800;'>a</span> <span style='background-color: rgba(228.0, 255.0, 122.0, 1.0); font-weight: 800;'>charming</span> <span style='background-color: rgba(228.0, 255.0, 122.0, 1.0); font-weight: 800;'>and</span> <span style='background-color: rgba(255.0, 184.2235294117647, 0.0, 1.0); font-weight: 800;'>often</span> <span style='background-color: rgba(228.0, 255.0, 122.0, 1.0); font-weight: 800;'>affecting</span> <span style='background-color: rgba(228.0, 255.0, 122.0, 1.0); font-weight: 800;'>journey</span> <span style='background-color: rgba(252.0, 127.0, 0.0, 1.0); font-weight: 800;'>.</span> "
      ],
      "text/plain": [
       "<IPython.core.display.HTML object>"
      ]
     },
     "metadata": {},
     "output_type": "display_data"
    },
    {
     "data": {
      "text/html": [
       "<pre>classifierL1|L=1:   <span style='background-color: rgba(228.0, 255.0, 122.0, 1.0); font-weight: 800;'>it</span> <span style='background-color: rgba(228.0, 255.0, 122.0, 1.0); font-weight: 800;'>'</span> <span style='background-color: rgba(228.0, 255.0, 122.0, 1.0); font-weight: 800;'>s</span> <span style='background-color: rgba(228.0, 255.0, 122.0, 1.0); font-weight: 800;'>a</span> <span style='background-color: rgba(252.0, 127.0, 0.0, 1.0); font-weight: 800;'>charming</span> <span style='background-color: rgba(230.96470588235297, 252.47450980392156, 111.45882352941177, 1.0); font-weight: 800;'>and</span> <span style='background-color: rgba(228.0, 255.0, 122.0, 1.0); font-weight: 800;'>often</span> <span style='background-color: rgba(255.0, 206.2, 10.4, 1.0); font-weight: 800;'>affecting</span> <span style='background-color: rgba(255.0, 196.08235294117645, 4.2823529411764705, 1.0); font-weight: 800;'>journey</span> <span style='background-color: rgba(228.0, 255.0, 122.0, 1.0); font-weight: 800;'>.</span> "
      ],
      "text/plain": [
       "<IPython.core.display.HTML object>"
      ]
     },
     "metadata": {},
     "output_type": "display_data"
    },
    {
     "name": "stdout",
     "output_type": "stream",
     "text": [
      "[sst2]_[validation]_[output_sst2_bert-base-uncased_0001_SEED0042-checkpoint-10525]_[GlobEnc]\n"
     ]
    },
    {
     "data": {
      "text/html": [
       "<pre>aggregated:         <span style='background-color: rgba(255.0, 198.78039215686275, 5.913725490196077, 1.0); font-weight: 800;'>it</span> <span style='background-color: rgba(255.0, 212.94509803921568, 14.47843137254902, 1.0); font-weight: 800;'>'</span> <span style='background-color: rgba(255.0, 206.87450980392157, 10.8078431372549, 1.0); font-weight: 800;'>s</span> <span style='background-color: rgba(255.0, 208.2235294117647, 11.623529411764704, 1.0); font-weight: 800;'>a</span> <span style='background-color: rgba(252.0, 127.0, 0.0, 1.0); font-weight: 800;'>charming</span> <span style='background-color: rgba(255.0, 194.05882352941177, 3.0588235294117667, 1.0); font-weight: 800;'>and</span> <span style='background-color: rgba(254.96470588235294, 159.61176470588234, 0.0, 1.0); font-weight: 800;'>often</span> <span style='background-color: rgba(252.3294117647059, 130.6235294117647, 0.0, 1.0); font-weight: 800;'>affecting</span> <span style='background-color: rgba(252.65882352941176, 134.24705882352941, 0.0, 1.0); font-weight: 800;'>journey</span> <span style='background-color: rgba(255.0, 206.87450980392157, 10.8078431372549, 1.0); font-weight: 800;'>.</span> "
      ],
      "text/plain": [
       "<IPython.core.display.HTML object>"
      ]
     },
     "metadata": {},
     "output_type": "display_data"
    },
    {
     "data": {
      "application/vnd.jupyter.widget-view+json": {
       "model_id": "4952ae6f8f3c4e6099a5ce7ac12e22d6",
       "version_major": 2,
       "version_minor": 0
      },
      "text/plain": [
       "Configs:   0%|          | 0/3 [00:00<?, ?it/s]"
      ]
     },
     "metadata": {},
     "output_type": "display_data"
    },
    {
     "name": "stdout",
     "output_type": "stream",
     "text": [
      "[sst2]_[validation]_[output_sst2_bert-base-uncased_0001_SEED0042-checkpoint-10525]_[ALTI]\n"
     ]
    },
    {
     "data": {
      "text/html": [
       "<pre>aggregated:         <span style='background-color: rgba(251.2941176470588, 235.15686274509804, 39.1764705882353, 1.0); font-weight: 800;'>it</span> <span style='background-color: rgba(244.5176470588235, 240.9294117647059, 63.27058823529412, 1.0); font-weight: 800;'>'</span> <span style='background-color: rgba(252.98823529411766, 233.71372549019605, 33.152941176470584, 1.0); font-weight: 800;'>s</span> <span style='background-color: rgba(253.83529411764704, 232.9921568627451, 30.141176470588253, 1.0); font-weight: 800;'>a</span> <span style='background-color: rgba(252.0, 127.0, 0.0, 1.0); font-weight: 800;'>charming</span> <span style='background-color: rgba(252.14117647058825, 234.43529411764706, 36.16470588235295, 1.0); font-weight: 800;'>and</span> <span style='background-color: rgba(255.0, 206.2, 10.4, 1.0); font-weight: 800;'>often</span> <span style='background-color: rgba(255.0, 162.84313725490196, 0.0, 1.0); font-weight: 800;'>affecting</span> <span style='background-color: rgba(255.0, 187.4078431372549, 0.0, 1.0); font-weight: 800;'>journey</span> <span style='background-color: rgba(237.31764705882352, 247.06274509803922, 88.87058823529412, 1.0); font-weight: 800;'>.</span> "
      ],
      "text/plain": [
       "<IPython.core.display.HTML object>"
      ]
     },
     "metadata": {},
     "output_type": "display_data"
    },
    {
     "ename": "KeyError",
     "evalue": "'importance_last_layer_classifier'",
     "output_type": "error",
     "traceback": [
      "\u001b[0;31m---------------------------------------------------------------------------\u001b[0m",
      "\u001b[0;31mKeyError\u001b[0m                                  Traceback (most recent call last)",
      "\u001b[0;32m~/.conda/envs/globenc-venv/lib/python3.7/site-packages/pandas/core/indexes/base.py\u001b[0m in \u001b[0;36mget_loc\u001b[0;34m(self, key, method, tolerance)\u001b[0m\n\u001b[1;32m   3360\u001b[0m             \u001b[0;32mtry\u001b[0m\u001b[0;34m:\u001b[0m\u001b[0;34m\u001b[0m\u001b[0;34m\u001b[0m\u001b[0m\n\u001b[0;32m-> 3361\u001b[0;31m                 \u001b[0;32mreturn\u001b[0m \u001b[0mself\u001b[0m\u001b[0;34m.\u001b[0m\u001b[0m_engine\u001b[0m\u001b[0;34m.\u001b[0m\u001b[0mget_loc\u001b[0m\u001b[0;34m(\u001b[0m\u001b[0mcasted_key\u001b[0m\u001b[0;34m)\u001b[0m\u001b[0;34m\u001b[0m\u001b[0;34m\u001b[0m\u001b[0m\n\u001b[0m\u001b[1;32m   3362\u001b[0m             \u001b[0;32mexcept\u001b[0m \u001b[0mKeyError\u001b[0m \u001b[0;32mas\u001b[0m \u001b[0merr\u001b[0m\u001b[0;34m:\u001b[0m\u001b[0;34m\u001b[0m\u001b[0;34m\u001b[0m\u001b[0m\n",
      "\u001b[0;32m~/.conda/envs/globenc-venv/lib/python3.7/site-packages/pandas/_libs/index.pyx\u001b[0m in \u001b[0;36mpandas._libs.index.IndexEngine.get_loc\u001b[0;34m()\u001b[0m\n",
      "\u001b[0;32m~/.conda/envs/globenc-venv/lib/python3.7/site-packages/pandas/_libs/index.pyx\u001b[0m in \u001b[0;36mpandas._libs.index.IndexEngine.get_loc\u001b[0;34m()\u001b[0m\n",
      "\u001b[0;32mpandas/_libs/hashtable_class_helper.pxi\u001b[0m in \u001b[0;36mpandas._libs.hashtable.PyObjectHashTable.get_item\u001b[0;34m()\u001b[0m\n",
      "\u001b[0;32mpandas/_libs/hashtable_class_helper.pxi\u001b[0m in \u001b[0;36mpandas._libs.hashtable.PyObjectHashTable.get_item\u001b[0;34m()\u001b[0m\n",
      "\u001b[0;31mKeyError\u001b[0m: 'importance_last_layer_classifier'",
      "\nThe above exception was the direct cause of the following exception:\n",
      "\u001b[0;31mKeyError\u001b[0m                                  Traceback (most recent call last)",
      "\u001b[0;32m/tmp/ipykernel_2373665/3762064183.py\u001b[0m in \u001b[0;36m<module>\u001b[0;34m\u001b[0m\n\u001b[1;32m     14\u001b[0m         \u001b[0midx\u001b[0m \u001b[0;34m=\u001b[0m \u001b[0;36m0\u001b[0m\u001b[0;34m\u001b[0m\u001b[0;34m\u001b[0m\u001b[0m\n\u001b[1;32m     15\u001b[0m         \u001b[0;32mfor\u001b[0m \u001b[0mcol\u001b[0m \u001b[0;32min\u001b[0m \u001b[0;34m[\u001b[0m\u001b[0;34m\"importance_last_layer_aggregated\"\u001b[0m\u001b[0;34m,\u001b[0m \u001b[0;34m\"importance_last_layer_classifier\"\u001b[0m\u001b[0;34m,\u001b[0m \u001b[0;34m\"importance_last_layer_pooler\"\u001b[0m\u001b[0;34m]\u001b[0m\u001b[0;34m:\u001b[0m\u001b[0;34m\u001b[0m\u001b[0;34m\u001b[0m\u001b[0m\n\u001b[0;32m---> 16\u001b[0;31m             \u001b[0;32mif\u001b[0m \u001b[0mdf\u001b[0m\u001b[0;34m[\u001b[0m\u001b[0mcol\u001b[0m\u001b[0;34m]\u001b[0m\u001b[0;34m[\u001b[0m\u001b[0midx\u001b[0m\u001b[0;34m]\u001b[0m \u001b[0;32mis\u001b[0m \u001b[0;32mnot\u001b[0m \u001b[0;32mNone\u001b[0m\u001b[0;34m:\u001b[0m\u001b[0;34m\u001b[0m\u001b[0;34m\u001b[0m\u001b[0m\n\u001b[0m\u001b[1;32m     17\u001b[0m                 \u001b[0;32mif\u001b[0m \u001b[0;34m\"aggregated\"\u001b[0m \u001b[0;32min\u001b[0m \u001b[0mcol\u001b[0m\u001b[0;34m:\u001b[0m\u001b[0;34m\u001b[0m\u001b[0;34m\u001b[0m\u001b[0m\n\u001b[1;32m     18\u001b[0m                     \u001b[0msentence_importance\u001b[0m \u001b[0;34m=\u001b[0m \u001b[0mdf\u001b[0m\u001b[0;34m[\u001b[0m\u001b[0mcol\u001b[0m\u001b[0;34m]\u001b[0m\u001b[0;34m.\u001b[0m\u001b[0miloc\u001b[0m\u001b[0;34m[\u001b[0m\u001b[0midx\u001b[0m\u001b[0;34m]\u001b[0m\u001b[0;34m[\u001b[0m\u001b[0;36m0\u001b[0m\u001b[0;34m,\u001b[0m \u001b[0;34m:\u001b[0m\u001b[0;34m]\u001b[0m\u001b[0;34m\u001b[0m\u001b[0;34m\u001b[0m\u001b[0m\n",
      "\u001b[0;32m~/.conda/envs/globenc-venv/lib/python3.7/site-packages/pandas/core/frame.py\u001b[0m in \u001b[0;36m__getitem__\u001b[0;34m(self, key)\u001b[0m\n\u001b[1;32m   3456\u001b[0m             \u001b[0;32mif\u001b[0m \u001b[0mself\u001b[0m\u001b[0;34m.\u001b[0m\u001b[0mcolumns\u001b[0m\u001b[0;34m.\u001b[0m\u001b[0mnlevels\u001b[0m \u001b[0;34m>\u001b[0m \u001b[0;36m1\u001b[0m\u001b[0;34m:\u001b[0m\u001b[0;34m\u001b[0m\u001b[0;34m\u001b[0m\u001b[0m\n\u001b[1;32m   3457\u001b[0m                 \u001b[0;32mreturn\u001b[0m \u001b[0mself\u001b[0m\u001b[0;34m.\u001b[0m\u001b[0m_getitem_multilevel\u001b[0m\u001b[0;34m(\u001b[0m\u001b[0mkey\u001b[0m\u001b[0;34m)\u001b[0m\u001b[0;34m\u001b[0m\u001b[0;34m\u001b[0m\u001b[0m\n\u001b[0;32m-> 3458\u001b[0;31m             \u001b[0mindexer\u001b[0m \u001b[0;34m=\u001b[0m \u001b[0mself\u001b[0m\u001b[0;34m.\u001b[0m\u001b[0mcolumns\u001b[0m\u001b[0;34m.\u001b[0m\u001b[0mget_loc\u001b[0m\u001b[0;34m(\u001b[0m\u001b[0mkey\u001b[0m\u001b[0;34m)\u001b[0m\u001b[0;34m\u001b[0m\u001b[0;34m\u001b[0m\u001b[0m\n\u001b[0m\u001b[1;32m   3459\u001b[0m             \u001b[0;32mif\u001b[0m \u001b[0mis_integer\u001b[0m\u001b[0;34m(\u001b[0m\u001b[0mindexer\u001b[0m\u001b[0;34m)\u001b[0m\u001b[0;34m:\u001b[0m\u001b[0;34m\u001b[0m\u001b[0;34m\u001b[0m\u001b[0m\n\u001b[1;32m   3460\u001b[0m                 \u001b[0mindexer\u001b[0m \u001b[0;34m=\u001b[0m \u001b[0;34m[\u001b[0m\u001b[0mindexer\u001b[0m\u001b[0;34m]\u001b[0m\u001b[0;34m\u001b[0m\u001b[0;34m\u001b[0m\u001b[0m\n",
      "\u001b[0;32m~/.conda/envs/globenc-venv/lib/python3.7/site-packages/pandas/core/indexes/base.py\u001b[0m in \u001b[0;36mget_loc\u001b[0;34m(self, key, method, tolerance)\u001b[0m\n\u001b[1;32m   3361\u001b[0m                 \u001b[0;32mreturn\u001b[0m \u001b[0mself\u001b[0m\u001b[0;34m.\u001b[0m\u001b[0m_engine\u001b[0m\u001b[0;34m.\u001b[0m\u001b[0mget_loc\u001b[0m\u001b[0;34m(\u001b[0m\u001b[0mcasted_key\u001b[0m\u001b[0;34m)\u001b[0m\u001b[0;34m\u001b[0m\u001b[0;34m\u001b[0m\u001b[0m\n\u001b[1;32m   3362\u001b[0m             \u001b[0;32mexcept\u001b[0m \u001b[0mKeyError\u001b[0m \u001b[0;32mas\u001b[0m \u001b[0merr\u001b[0m\u001b[0;34m:\u001b[0m\u001b[0;34m\u001b[0m\u001b[0;34m\u001b[0m\u001b[0m\n\u001b[0;32m-> 3363\u001b[0;31m                 \u001b[0;32mraise\u001b[0m \u001b[0mKeyError\u001b[0m\u001b[0;34m(\u001b[0m\u001b[0mkey\u001b[0m\u001b[0;34m)\u001b[0m \u001b[0;32mfrom\u001b[0m \u001b[0merr\u001b[0m\u001b[0;34m\u001b[0m\u001b[0;34m\u001b[0m\u001b[0m\n\u001b[0m\u001b[1;32m   3364\u001b[0m \u001b[0;34m\u001b[0m\u001b[0m\n\u001b[1;32m   3365\u001b[0m         \u001b[0;32mif\u001b[0m \u001b[0mis_scalar\u001b[0m\u001b[0;34m(\u001b[0m\u001b[0mkey\u001b[0m\u001b[0;34m)\u001b[0m \u001b[0;32mand\u001b[0m \u001b[0misna\u001b[0m\u001b[0;34m(\u001b[0m\u001b[0mkey\u001b[0m\u001b[0;34m)\u001b[0m \u001b[0;32mand\u001b[0m \u001b[0;32mnot\u001b[0m \u001b[0mself\u001b[0m\u001b[0;34m.\u001b[0m\u001b[0mhasnans\u001b[0m\u001b[0;34m:\u001b[0m\u001b[0;34m\u001b[0m\u001b[0;34m\u001b[0m\u001b[0m\n",
      "\u001b[0;31mKeyError\u001b[0m: 'importance_last_layer_classifier'"
     ]
    }
   ],
   "source": [
    "# Read Globencs\n",
    "# globencs = dict()\n",
    "for dir_model_dataset_set in tqdm(MODEL_DATASET_SET, desc=\"Models_Dataset_Sets\"):\n",
    "    dir, model_checkpoint, task_name, set_of_data = dir_model_dataset_set\n",
    "    for cfg_name in tqdm(GLOBENC_CONFIG_NAMES, desc=\"Configs\"):\n",
    "        file_name = f\"[{task_name}]_[{set_of_data}]_[{'-'.join(model_checkpoint.split('/')[-2:])}]_[{cfg_name}]\"\n",
    "        \n",
    "        try:\n",
    "            df = pd.read_pickle(f\"{dir}/{file_name}.pkl\")\n",
    "        except Exception as e:\n",
    "            continue\n",
    "        \n",
    "        print(file_name)\n",
    "        idx = 0\n",
    "        for col in [\"importance_last_layer_aggregated\", \"importance_last_layer_classifier\", \"importance_last_layer_pooler\"]:\n",
    "            if df[col][idx] is not None:\n",
    "                if \"aggregated\" in col:\n",
    "                    sentence_importance = df[col].iloc[idx][0, :]\n",
    "                if \"classifier\" in col:\n",
    "                    for label in range(df[col].iloc[idx].shape[-1]):\n",
    "                        sentence_importance = df[col].iloc[idx][:, label]\n",
    "                        print_importance(\n",
    "                            sentence_importance,\n",
    "                            df[\"tokens\"].iloc[idx], \n",
    "                            prefix=f\"{col.split('_')[-1]}L{label}|L={df['label'].iloc[idx]}:\".ljust(20),\n",
    "                            no_cls_sep=True,\n",
    "                            discrete=False\n",
    "                        )\n",
    "                    break\n",
    "                    sentence_importance = df[col].iloc[idx][:, df[\"label\"].iloc[idx]]\n",
    "                if \"pooler\" in col:\n",
    "                    sentence_importance = df[col].iloc[idx]\n",
    "                print_importance(\n",
    "                    sentence_importance,\n",
    "                    df[\"tokens\"].iloc[idx], \n",
    "                    prefix=f\"{col.split('_')[-1]}:\".ljust(20),\n",
    "                    no_cls_sep=True,\n",
    "                    discrete=False\n",
    "                )\n",
    "df.head(1)"
   ]
  },
  {
   "cell_type": "code",
   "execution_count": 54,
   "id": "47d45b70",
   "metadata": {
    "scrolled": false
   },
   "outputs": [
    {
     "data": {
      "application/vnd.jupyter.widget-view+json": {
       "model_id": "c84b84938ab04b78899607a66846e1bb",
       "version_major": 2,
       "version_minor": 0
      },
      "text/plain": [
       "Models_Dataset_Sets:   0%|          | 0/3 [00:00<?, ?it/s]"
      ]
     },
     "metadata": {},
     "output_type": "display_data"
    },
    {
     "data": {
      "application/vnd.jupyter.widget-view+json": {
       "model_id": "e1ec87212ccb4a9393d3b54cea6ee9d9",
       "version_major": 2,
       "version_minor": 0
      },
      "text/plain": [
       "Configs:   0%|          | 0/5 [00:00<?, ?it/s]"
      ]
     },
     "metadata": {},
     "output_type": "display_data"
    },
    {
     "name": "stdout",
     "output_type": "stream",
     "text": [
      "['a', 'good', 'piece', 'of', 'work', 'more', 'often', 'than', 'not', '.']\n"
     ]
    },
    {
     "data": {
      "image/png": "[encoded data removed]",
      "text/plain": [
       "<Figure size 324x360 with 1 Axes>"
      ]
     },
     "metadata": {},
     "output_type": "display_data"
    },
    {
     "name": "stdout",
     "output_type": "stream",
     "text": [
      "['a', 'good', 'piece', 'of', 'work', 'more', 'often', 'than', 'not', '.']\n"
     ]
    },
    {
     "data": {
      "image/png": "[encoded data removed]",
      "text/plain": [
       "<Figure size 216x360 with 1 Axes>"
      ]
     },
     "metadata": {},
     "output_type": "display_data"
    },
    {
     "data": {
      "application/vnd.jupyter.widget-view+json": {
       "model_id": "6a9edfccb69a41cab67df820758983ff",
       "version_major": 2,
       "version_minor": 0
      },
      "text/plain": [
       "Configs:   0%|          | 0/5 [00:00<?, ?it/s]"
      ]
     },
     "metadata": {},
     "output_type": "display_data"
    },
    {
     "name": "stdout",
     "output_type": "stream",
     "text": [
      "['a', 'good', 'piece', 'of', 'work', 'more', 'often', 'than', 'not', '.']\n"
     ]
    },
    {
     "data": {
      "image/png": "[encoded data removed]",
      "text/plain": [
       "<Figure size 216x360 with 1 Axes>"
      ]
     },
     "metadata": {},
     "output_type": "display_data"
    },
    {
     "data": {
      "application/vnd.jupyter.widget-view+json": {
       "model_id": "3505f188e1af4160ab12892253e2e1fa",
       "version_major": 2,
       "version_minor": 0
      },
      "text/plain": [
       "Configs:   0%|          | 0/5 [00:00<?, ?it/s]"
      ]
     },
     "metadata": {},
     "output_type": "display_data"
    },
    {
     "name": "stdout",
     "output_type": "stream",
     "text": [
      "['     ', '     ', '     ', '     ', '     ', '     ', '     ', '     ', '     ', '     ']\n"
     ]
    },
    {
     "data": {
      "image/png": "[encoded data removed]",
      "text/plain": [
       "<Figure size 216x360 with 1 Axes>"
      ]
     },
     "metadata": {},
     "output_type": "display_data"
    },
    {
     "name": "stdout",
     "output_type": "stream",
     "text": [
      "['     ', '     ', '     ', '     ', '     ', '     ', '     ', '     ', '     ', '     ']\n"
     ]
    },
    {
     "data": {
      "image/png": "[encoded data removed]",
      "text/plain": [
       "<Figure size 216x360 with 1 Axes>"
      ]
     },
     "metadata": {},
     "output_type": "display_data"
    }
   ],
   "source": [
    "def plot_clf(tokens, logits, label_names, title=\"\", file_name=None):\n",
    "    print(tokens)\n",
    "    if not \"DecompX\" in title:\n",
    "        plt.figure(figsize=(3.0, 5))\n",
    "    else:\n",
    "        plt.figure(figsize=(4.5, 5))\n",
    "    colors = [\"#019875\" if l else \"#B8293D\" for l in (logits >= 0)]\n",
    "    plt.barh(range(len(tokens)), logits, color=colors)\n",
    "    plt.axvline(0, color='black', ls='-', lw=2, alpha=0.2)\n",
    "    plt.gca().invert_yaxis()\n",
    "    \n",
    "    max_limit = np.max(np.abs(logits)) + 0.2\n",
    "    min_limit = -0.01 if np.min(logits) > 0 else -max_limit\n",
    "    plt.xlim(min_limit, max_limit)\n",
    "    plt.gca().set_xticks([min_limit, max_limit])\n",
    "    plt.gca().set_xticklabels(label_names)\n",
    "    plt.gca().set_yticks(range(len(tokens)))\n",
    "    plt.gca().set_yticklabels(tokens)\n",
    "\n",
    "    plt.gca().yaxis.tick_right()\n",
    "    for xtick, color in zip(plt.gca().get_yticklabels(), colors):\n",
    "        xtick.set_color(color)\n",
    "        xtick.set_fontweight(\"bold\")\n",
    "        xtick.set_verticalalignment(\"center\")\n",
    "    #     xtick.set_horizontalalignment(\"left\")\n",
    "    #     xtick.set_x(-0.2)\n",
    "\n",
    "    for xtick, color in zip(plt.gca().get_xticklabels(), [\"#B8293D\", \"#019875\"]):\n",
    "        xtick.set_color(color)\n",
    "    if not \"DecompX\" in title:\n",
    "        plt.title(title, fontsize=14)\n",
    "    else:\n",
    "        plt.title(title, fontsize=14, fontweight=\"bold\")\n",
    "    plt.tight_layout()\n",
    "    if file_name:\n",
    "        plt.savefig(f\"figs/{file_name}.pdf\", bbox_inches='tight')\n",
    "    plt.show()\n",
    "\n",
    "# SST2\n",
    "idx = 424  # 424\n",
    "for dir_model_dataset_set in tqdm(MODEL_DATASET_SET, desc=\"Models_Dataset_Sets\"):\n",
    "    dir, model_checkpoint, task_name, set_of_data = dir_model_dataset_set\n",
    "    for cfg_name in tqdm(GLOBENC_CONFIG_NAMES, desc=\"Configs\"):\n",
    "        file_name = f\"[{task_name}]_[{set_of_data}]_[{'-'.join(model_checkpoint.split('/')[-2:])}]_[{cfg_name}]\"\n",
    "        try:\n",
    "            df = pd.read_pickle(f\"{dir}/{file_name}.pkl\")\n",
    "        except Exception as e:\n",
    "            continue\n",
    "        try:\n",
    "            label0 = df.iloc[idx][\"importance_last_layer_classifier\"][:, 0]\n",
    "            label1 = df.iloc[idx][\"importance_last_layer_classifier\"][:, 1]\n",
    "            tokens = df.iloc[idx][\"tokens\"][1:-1]\n",
    "            label1 = label1[1:-1]\n",
    "            label1 = label1 / np.max(np.abs(label1))\n",
    "            plot_clf(tokens, label1, ['Negative','Positive'], title=\"DecompX\", file_name=\"example_sst2_our_method\")\n",
    "        except Exception as e:\n",
    "            if \"GlobEnc\" in cfg_name:\n",
    "                globenc = df.iloc[idx][\"importance_last_layer_aggregated\"][0, :][1:-1]\n",
    "                globenc = globenc / np.max(globenc)\n",
    "                tokens = df.iloc[idx][\"tokens\"][1:-1]\n",
    "                plot_clf(tokens, globenc, ['','Important'], title=\"GlobEnc\", file_name=\"example_sst2_globenc\")\n",
    "            elif \"ALTI\" in cfg_name:\n",
    "                globenc = df.iloc[idx][\"importance_last_layer_aggregated\"][0, :][1:-1]\n",
    "                globenc = globenc / np.max(globenc)\n",
    "                tokens = df.iloc[idx][\"tokens\"][1:-1]\n",
    "                plot_clf(tokens, globenc, ['','Important'], title=\"ALTI\", file_name=\"example_sst2_alti\")\n",
    "            else:\n",
    "                globenc = df.iloc[idx][\"importance_last_layer_aggregated\"][0, :][1:-1]\n",
    "                globenc = globenc / np.max(globenc)\n",
    "                tokens = df.iloc[idx][\"tokens\"][1:-1]\n",
    "                plot_clf(tokens, globenc, ['','Important'], title=\"IG Zero Sum\", file_name=\"example_sst2_igzerosum\")"
   ]
  },
  {
   "cell_type": "code",
   "execution_count": 5,
   "id": "c1053d58",
   "metadata": {},
   "outputs": [
    {
     "ename": "NameError",
     "evalue": "name 'df' is not defined",
     "output_type": "error",
     "traceback": [
      "\u001b[0;31m---------------------------------------------------------------------------\u001b[0m",
      "\u001b[0;31mNameError\u001b[0m                                 Traceback (most recent call last)",
      "\u001b[0;32m/tmp/ipykernel_2373665/168678135.py\u001b[0m in \u001b[0;36m<module>\u001b[0;34m\u001b[0m\n\u001b[1;32m      1\u001b[0m \u001b[0;31m# qnli\u001b[0m\u001b[0;34m\u001b[0m\u001b[0;34m\u001b[0m\u001b[0;34m\u001b[0m\u001b[0m\n\u001b[1;32m      2\u001b[0m \u001b[0midx\u001b[0m \u001b[0;34m=\u001b[0m \u001b[0;36m3933\u001b[0m\u001b[0;34m\u001b[0m\u001b[0;34m\u001b[0m\u001b[0m\n\u001b[0;32m----> 3\u001b[0;31m \u001b[0mlabel0\u001b[0m \u001b[0;34m=\u001b[0m \u001b[0mdf\u001b[0m\u001b[0;34m.\u001b[0m\u001b[0miloc\u001b[0m\u001b[0;34m[\u001b[0m\u001b[0midx\u001b[0m\u001b[0;34m]\u001b[0m\u001b[0;34m[\u001b[0m\u001b[0;34m\"importance_last_layer_classifier\"\u001b[0m\u001b[0;34m]\u001b[0m\u001b[0;34m[\u001b[0m\u001b[0;34m:\u001b[0m\u001b[0;34m,\u001b[0m \u001b[0;36m0\u001b[0m\u001b[0;34m]\u001b[0m\u001b[0;34m\u001b[0m\u001b[0;34m\u001b[0m\u001b[0m\n\u001b[0m\u001b[1;32m      4\u001b[0m \u001b[0mlabel1\u001b[0m \u001b[0;34m=\u001b[0m \u001b[0mdf\u001b[0m\u001b[0;34m.\u001b[0m\u001b[0miloc\u001b[0m\u001b[0;34m[\u001b[0m\u001b[0midx\u001b[0m\u001b[0;34m]\u001b[0m\u001b[0;34m[\u001b[0m\u001b[0;34m\"importance_last_layer_classifier\"\u001b[0m\u001b[0;34m]\u001b[0m\u001b[0;34m[\u001b[0m\u001b[0;34m:\u001b[0m\u001b[0;34m,\u001b[0m \u001b[0;36m1\u001b[0m\u001b[0;34m]\u001b[0m\u001b[0;34m\u001b[0m\u001b[0;34m\u001b[0m\u001b[0m\n\u001b[1;32m      5\u001b[0m \u001b[0;34m\u001b[0m\u001b[0m\n",
      "\u001b[0;31mNameError\u001b[0m: name 'df' is not defined"
     ]
    }
   ],
   "source": [
    "# qnli\n",
    "idx = 3933\n",
    "label0 = df.iloc[idx][\"importance_last_layer_classifier\"][:, 0]\n",
    "label1 = df.iloc[idx][\"importance_last_layer_classifier\"][:, 1]\n",
    "\n",
    "tokens = df.iloc[idx][\"tokens\"][1:-1]\n",
    "plot_clf(tokens, label0[1:-1], ['Not Entailment','Entailment'])\n",
    "print(GLOBENC_CONFIG_NAMES)"
   ]
  },
  {
   "cell_type": "code",
   "execution_count": null,
   "id": "e2a473de",
   "metadata": {},
   "outputs": [],
   "source": [
    "pd.set_option('display.max_colwidth', None)\n",
    "df[(df[\"label\"] == 0) & (df[\"tokens\"].str.len() < 22)][[\"tokens\", \"logits\"]]"
   ]
  },
  {
   "cell_type": "code",
   "execution_count": null,
   "id": "292a54a5",
   "metadata": {},
   "outputs": [],
   "source": [
    "label0"
   ]
  },
  {
   "cell_type": "code",
   "execution_count": null,
   "id": "fa395d79",
   "metadata": {},
   "outputs": [],
   "source": []
  }
 ],
 "metadata": {
  "kernelspec": {
   "display_name": "Python 3 (ipykernel)",
   "language": "python",
   "name": "python3"
  },
  "language_info": {
   "codemirror_mode": {
    "name": "ipython",
    "version": 3
   },
   "file_extension": ".py",
   "mimetype": "text/x-python",
   "name": "python",
   "nbconvert_exporter": "python",
   "pygments_lexer": "ipython3",
   "version": "3.7.13"
  }
 },
 "nbformat": 4,
 "nbformat_minor": 5
}
