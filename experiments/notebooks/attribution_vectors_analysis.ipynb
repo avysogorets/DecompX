{
 "cells": [
  {
   "cell_type": "code",
   "execution_count": 1,
   "metadata": {},
   "outputs": [
    {
     "name": "stderr",
     "output_type": "stream",
     "text": [
      "2022-11-30 10:41:09.016647: I tensorflow/core/platform/cpu_feature_guard.cc:193] This TensorFlow binary is optimized with oneAPI Deep Neural Network Library (oneDNN) to use the following CPU instructions in performance-critical operations:  AVX2 AVX512F AVX512_VNNI FMA\n",
      "To enable them in other operations, rebuild TensorFlow with the appropriate compiler flags.\n",
      "2022-11-30 10:41:09.163114: I tensorflow/core/util/port.cc:104] oneDNN custom operations are on. You may see slightly different numerical results due to floating-point round-off errors from different computation orders. To turn them off, set the environment variable `TF_ENABLE_ONEDNN_OPTS=0`.\n",
      "2022-11-30 10:41:09.884315: W tensorflow/compiler/xla/stream_executor/platform/default/dso_loader.cc:64] Could not load dynamic library 'libnvinfer.so.7'; dlerror: libnvinfer.so.7: cannot open shared object file: No such file or directory; LD_LIBRARY_PATH: :/home/modaresi/.conda/envs/globenc-venv/lib/\n",
      "2022-11-30 10:41:09.884419: W tensorflow/compiler/xla/stream_executor/platform/default/dso_loader.cc:64] Could not load dynamic library 'libnvinfer_plugin.so.7'; dlerror: libnvinfer_plugin.so.7: cannot open shared object file: No such file or directory; LD_LIBRARY_PATH: :/home/modaresi/.conda/envs/globenc-venv/lib/\n",
      "2022-11-30 10:41:09.884427: W tensorflow/compiler/tf2tensorrt/utils/py_utils.cc:38] TF-TRT Warning: Cannot dlopen some TensorRT libraries. If you would like to use Nvidia GPU with TensorRT, please make sure the missing libraries mentioned above are installed properly.\n"
     ]
    }
   ],
   "source": [
    "import torch\n",
    "import numpy as np\n",
    "import datasets\n",
    "import pickle\n",
    "import pathlib\n",
    "import os\n",
    "from importlib import reload\n",
    "\n",
    "from tqdm.auto import tqdm\n",
    "from transformers import AutoTokenizer\n",
    "from torch.utils.data import DataLoader\n",
    "from transformers import DataCollatorWithPadding\n",
    "from transformers.trainer_pt_utils import LengthGroupedSampler\n",
    "\n",
    "from GlobEnc.src.modeling.modeling_bert_elementwise import BertForSequenceClassification\n",
    "# from GlobEnc.src.modeling.modeling_electra import ElectraForSequenceClassification\n",
    "# from GlobEnc.src.attention_rollout import AttentionRollout"
   ]
  },
  {
   "cell_type": "code",
   "execution_count": 2,
   "metadata": {},
   "outputs": [
    {
     "data": {
      "text/plain": [
       "'cuda'"
      ]
     },
     "execution_count": 2,
     "metadata": {},
     "output_type": "execute_result"
    }
   ],
   "source": [
    "ROOT_DIR = \"/home/modaresi/projects/globenc_analysis/outputs/globencs_elementwise\"\n",
    "# MODELS = {\n",
    "#     \"sst2-e0\": \"bert-large-uncased\",\n",
    "#     \"sst2-e1\": \"/home/modaresi/projects/globenc_analysis/outputs/models/output_sst2_bert-large-uncased_0001_SEED0042/checkpoint-2105\",\n",
    "#     \"sst2-e2\": \"/home/modaresi/projects/globenc_analysis/outputs/models/output_sst2_bert-large-uncased_0001_SEED0042/checkpoint-4210\",\n",
    "#     \"sst2-e3\": \"/home/modaresi/projects/globenc_analysis/outputs/models/output_sst2_bert-large-uncased_0001_SEED0042/checkpoint-6315\",\n",
    "#     \"sst2-e4\": \"/home/modaresi/projects/globenc_analysis/outputs/models/output_sst2_bert-large-uncased_0001_SEED0042/checkpoint-8420\",\n",
    "#     \"sst2-e5\": \"/home/modaresi/projects/globenc_analysis/outputs/models/output_sst2_bert-large-uncased_0001_SEED0042/checkpoint-10525\",\n",
    "# }\n",
    "MODELS = {\n",
    "#     \"sst2-e0\": \"bert-base-uncased\",\n",
    "#     \"sst2-e1\": \"/home/modaresi/projects/globenc_analysis/outputs/models/output_sst2_bert-base-uncased_0001_SEED0042/checkpoint-2105\",\n",
    "#     \"sst2-e2\": \"/home/modaresi/projects/globenc_analysis/outputs/models/output_sst2_bert-base-uncased_0001_SEED0042/checkpoint-4210\",\n",
    "#     \"sst2-e3\": \"/home/modaresi/projects/globenc_analysis/outputs/models/output_sst2_bert-base-uncased_0001_SEED0042/checkpoint-6315\",\n",
    "#     \"sst2-e4\": \"/home/modaresi/projects/globenc_analysis/outputs/models/output_sst2_bert-base-uncased_0001_SEED0042/checkpoint-8420\",\n",
    "    \"sst2-e5\": \"/home/modaresi/projects/globenc_analysis/outputs/models/output_sst2_bert-base-uncased_0001_SEED0042/checkpoint-10525\",\n",
    "}\n",
    "# MODELS = {\n",
    "#     \"mnli-e0\": \"bert-base-uncased\",\n",
    "#     \"mnli-e1\": \"/home/modaresi/projects/globenc_analysis/outputs/models/output_mnli_bert-base-uncased_0001_SEED0042/checkpoint-12272\",\n",
    "#     \"mnli-e2\": \"/home/modaresi/projects/globenc_analysis/outputs/models/output_mnli_bert-base-uncased_0001_SEED0042/checkpoint-24544\",\n",
    "#     \"mnli-e3\": \"/home/modaresi/projects/globenc_analysis/outputs/models/output_mnli_bert-base-uncased_0001_SEED0042/checkpoint-36816\",\n",
    "#     \"mnli-e4\": \"/home/modaresi/projects/globenc_analysis/outputs/models/output_mnli_bert-base-uncased_0001_SEED0042/checkpoint-49088\",\n",
    "#     \"mnli-e5\": \"/home/modaresi/projects/globenc_analysis/outputs/models/output_mnli_bert-base-uncased_0001_SEED0042/checkpoint-61360\",\n",
    "# }\n",
    "# MODELS = {\n",
    "#     \"cola-e0\": \"bert-base-uncased\",\n",
    "#     \"cola-e1\": \"/home/modaresi/projects/globenc_analysis/outputs/models/output_cola_bert-base-uncased_0001_SEED0042/checkpoint-268\",\n",
    "#     \"cola-e2\": \"/home/modaresi/projects/globenc_analysis/outputs/models/output_cola_bert-base-uncased_0001_SEED0042/checkpoint-536\",\n",
    "#     \"cola-e3\": \"/home/modaresi/projects/globenc_analysis/outputs/models/output_cola_bert-base-uncased_0001_SEED0042/checkpoint-804\",\n",
    "#     \"cola-e4\": \"/home/modaresi/projects/globenc_analysis/outputs/models/output_cola_bert-base-uncased_0001_SEED0042/checkpoint-1072\",\n",
    "#     \"cola-e5\": \"/home/modaresi/projects/globenc_analysis/outputs/models/output_cola_bert-base-uncased_0001_SEED0042/checkpoint-1340\",\n",
    "# }\n",
    "# MODELS = {\n",
    "#     \"mrpc-e0\": \"bert-base-uncased\",\n",
    "#     \"mrpc-e1\": \"/home/modaresi/projects/globenc_analysis/outputs/models/output_mrpc_bert-base-uncased_0001_SEED0042/checkpoint-115\",\n",
    "#     \"mrpc-e2\": \"/home/modaresi/projects/globenc_analysis/outputs/models/output_mrpc_bert-base-uncased_0001_SEED0042/checkpoint-230\",\n",
    "#     \"mrpc-e3\": \"/home/modaresi/projects/globenc_analysis/outputs/models/output_mrpc_bert-base-uncased_0001_SEED0042/checkpoint-345\",\n",
    "#     \"mrpc-e4\": \"/home/modaresi/projects/globenc_analysis/outputs/models/output_mrpc_bert-base-uncased_0001_SEED0042/checkpoint-460\",\n",
    "#     \"mrpc-e5\": \"/home/modaresi/projects/globenc_analysis/outputs/models/output_mrpc_bert-base-uncased_0001_SEED0042/checkpoint-575\",\n",
    "# }\n",
    "# MODELS = {\n",
    "#     \"qnli-e0\": \"bert-base-uncased\",\n",
    "#     \"qnli-e1\": \"/home/modaresi/projects/globenc_analysis/outputs/models/output_qnli_bert-base-uncased_0001_SEED0042/checkpoint-3274\",\n",
    "#     \"qnli-e2\": \"/home/modaresi/projects/globenc_analysis/outputs/models/output_qnli_bert-base-uncased_0001_SEED0042/checkpoint-6548\",\n",
    "#     \"qnli-e3\": \"/home/modaresi/projects/globenc_analysis/outputs/models/output_qnli_bert-base-uncased_0001_SEED0042/checkpoint-9822\",\n",
    "#     \"qnli-e4\": \"/home/modaresi/projects/globenc_analysis/outputs/models/output_qnli_bert-base-uncased_0001_SEED0042/checkpoint-13096\",\n",
    "#     \"qnli-e5\": \"/home/modaresi/projects/globenc_analysis/outputs/models/output_qnli_bert-base-uncased_0001_SEED0042/checkpoint-16370\",\n",
    "# }\n",
    "\n",
    "# MULTI BERT\n",
    "# MODELS = {\n",
    "#     \"multibert-qnli-s0\": \"google/multiberts-seed_0\",\n",
    "#     \"multibert-qnli-s1\": \"google/multiberts-seed_1\",\n",
    "#     \"multibert-qnli-s2\": \"google/multiberts-seed_2\",\n",
    "#     \"multibert-qnli-s3\": \"google/multiberts-seed_3\",\n",
    "#     \"multibert-qnli-s4\": \"google/multiberts-seed_4\",\n",
    "#     \"multibert-qnli-s5\": \"google/multiberts-seed_5\",\n",
    "# }\n",
    "\n",
    "# MODELS = {\n",
    "#     \"multibert-mrpc-s0\": \"google/multiberts-seed_0\",\n",
    "#     \"multibert-mrpc-s1\": \"google/multiberts-seed_1\",\n",
    "#     \"multibert-mrpc-s2\": \"google/multiberts-seed_2\",\n",
    "#     \"multibert-mrpc-s3\": \"google/multiberts-seed_3\",\n",
    "#     \"multibert-mrpc-s4\": \"google/multiberts-seed_4\",\n",
    "#     \"multibert-mrpc-s5\": \"google/multiberts-seed_5\",\n",
    "# }\n",
    "\n",
    "# MODELS = {\n",
    "#     \"multibert-cola-s0\": \"google/multiberts-seed_0\",\n",
    "#     \"multibert-cola-s1\": \"google/multiberts-seed_1\",\n",
    "#     \"multibert-cola-s2\": \"google/multiberts-seed_2\",\n",
    "#     \"multibert-cola-s3\": \"google/multiberts-seed_3\",\n",
    "#     \"multibert-cola-s4\": \"google/multiberts-seed_4\",\n",
    "#     \"multibert-cola-s5\": \"google/multiberts-seed_5\",\n",
    "# }\n",
    "\n",
    "# MODELS = {\n",
    "#     \"multibert-qnli-e0\": \"google/multiberts-seed_0-step_0k\",\n",
    "#     \"multibert-qnli-e1\": \"google/multiberts-seed_0-step_400k\",\n",
    "#     \"multibert-qnli-e2\": \"google/multiberts-seed_0-step_800k\",\n",
    "#     \"multibert-qnli-e3\": \"google/multiberts-seed_0-step_1200k\",\n",
    "#     \"multibert-qnli-e4\": \"google/multiberts-seed_0-step_1600k\",\n",
    "#     \"multibert-qnli-e5\": \"google/multiberts-seed_0-step_2000k\",\n",
    "# }\n",
    "\n",
    "# MODELS = {\n",
    "#     \"multibert-sst2-e0-20k\": \"google/multiberts-seed_0-step_0k\",\n",
    "#     \"multibert-sst2-e1-20k\": \"google/multiberts-seed_0-step_20k\",\n",
    "#     \"multibert-sst2-e2-20k\": \"google/multiberts-seed_0-step_40k\",\n",
    "#     \"multibert-sst2-e3-20k\": \"google/multiberts-seed_0-step_60k\",\n",
    "#     \"multibert-sst2-e4-20k\": \"google/multiberts-seed_0-step_80k\",\n",
    "#     \"multibert-sst2-e5-20k\": \"google/multiberts-seed_0-step_100k\",\n",
    "# }\n",
    "\n",
    "# MODELS = {\n",
    "#     \"multibert-sst2-e0-400k\": \"google/multiberts-seed_0-step_0k\",\n",
    "#     \"multibert-sst2-e1-400k\": \"google/multiberts-seed_0-step_400k\",\n",
    "#     \"multibert-sst2-e2-400k\": \"google/multiberts-seed_0-step_800k\",\n",
    "#     \"multibert-sst2-e3-400k\": \"google/multiberts-seed_0-step_1200k\",\n",
    "#     \"multibert-sst2-e4-400k\": \"google/multiberts-seed_0-step_1600k\",\n",
    "#     \"multibert-sst2-e5-400k\": \"google/multiberts-seed_0-step_2000k\",\n",
    "# }\n",
    "\n",
    "TASK = \"sst2\"\n",
    " \n",
    "SET = \"validation\"  # train/validation/validation_matched\n",
    "SAVE_CLS = True\n",
    "\n",
    "DEVICE = 'cuda' if torch.cuda.is_available() else 'cpu'\n",
    "DEVICE"
   ]
  },
  {
   "cell_type": "code",
   "execution_count": 3,
   "metadata": {},
   "outputs": [
    {
     "name": "stderr",
     "output_type": "stream",
     "text": [
      "Reusing dataset glue (/opt/huggingface/datasets/glue/sst2/1.0.0/dacbe3125aa31d7f70367a07a8a9e72a5a0bfeb5fc42e75c9db75b96da6053ad)\n"
     ]
    },
    {
     "data": {
      "application/vnd.jupyter.widget-view+json": {
       "model_id": "cf5895082ba3430aab418c16ccfe4859",
       "version_major": 2,
       "version_minor": 0
      },
      "text/plain": [
       "  0%|          | 0/3 [00:00<?, ?it/s]"
      ]
     },
     "metadata": {},
     "output_type": "display_data"
    },
    {
     "data": {
      "text/plain": [
       "DatasetDict({\n",
       "    train: Dataset({\n",
       "        features: ['sentence', 'label', 'idx'],\n",
       "        num_rows: 67349\n",
       "    })\n",
       "    validation: Dataset({\n",
       "        features: ['sentence', 'label', 'idx'],\n",
       "        num_rows: 872\n",
       "    })\n",
       "    test: Dataset({\n",
       "        features: ['sentence', 'label', 'idx'],\n",
       "        num_rows: 1821\n",
       "    })\n",
       "})"
      ]
     },
     "execution_count": 3,
     "metadata": {},
     "output_type": "execute_result"
    }
   ],
   "source": [
    "GLUE_TASKS = [\"cola\", \"mnli\", \"mnli-mm\", \"mrpc\", \"qnli\", \"qqp\", \"rte\", \"sst2\", \"stsb\", \"wnli\"]\n",
    "\n",
    "BATCH_SIZE = 8\n",
    "MAX_LENGTH = 128\n",
    "\n",
    "actual_task = \"mnli\" if TASK == \"mnli-mm\" else TASK\n",
    "dataset = datasets.load_dataset(\"glue\", actual_task)\n",
    "metric = datasets.load_metric('glue', actual_task)\n",
    "task_to_keys = {\n",
    "    \"cola\": (\"sentence\", None),\n",
    "    \"mnli\": (\"premise\", \"hypothesis\"),\n",
    "    \"mnli-mm\": (\"premise\", \"hypothesis\"),\n",
    "    \"mrpc\": (\"sentence1\", \"sentence2\"),\n",
    "    \"qnli\": (\"question\", \"sentence\"),\n",
    "    \"qqp\": (\"question1\", \"question2\"),\n",
    "    \"rte\": (\"sentence1\", \"sentence2\"),\n",
    "    \"sst2\": (\"sentence\", None),\n",
    "    \"stsb\": (\"sentence1\", \"sentence2\"),\n",
    "    \"wnli\": (\"sentence1\", \"sentence2\"),\n",
    "}\n",
    "SENTENCE1_KEY, SENTENCE2_KEY = task_to_keys[TASK]\n",
    "dataset"
   ]
  },
  {
   "cell_type": "code",
   "execution_count": 4,
   "metadata": {},
   "outputs": [],
   "source": [
    "def preprocess_function_wrapped(tokenizer):\n",
    "    def preprocess_function(examples):\n",
    "        # Tokenize the texts\n",
    "        args = (\n",
    "            (examples[SENTENCE1_KEY],) if SENTENCE2_KEY is None else (examples[SENTENCE1_KEY], examples[SENTENCE2_KEY])\n",
    "        )\n",
    "        result = tokenizer(*args, padding=False, max_length=MAX_LENGTH, truncation=True)\n",
    "        return result\n",
    "    return preprocess_function\n",
    "\n",
    "def token_id_to_tokens_mapper(tokenizer, sample):\n",
    "    length = len(sample[\"input_ids\"])\n",
    "    return tokenizer.convert_ids_to_tokens(sample[\"input_ids\"])[:length], length"
   ]
  },
  {
   "cell_type": "code",
   "execution_count": 5,
   "metadata": {},
   "outputs": [
    {
     "name": "stderr",
     "output_type": "stream",
     "text": [
      "Parameter 'function'=<function preprocess_function_wrapped.<locals>.preprocess_function at 0x7fe2910a5b90> of the transform datasets.arrow_dataset.Dataset._map_single couldn't be hashed properly, a random hash was used instead. Make sure your transforms and parameters are serializable with pickle or dill for the dataset fingerprinting and caching to work. If you reuse this transform, the caching mechanism will consider it to be different from the previous calls and recompute everything. This warning is only showed once. Subsequent hashing failures won't be showed.\n"
     ]
    },
    {
     "data": {
      "application/vnd.jupyter.widget-view+json": {
       "model_id": "4f5a6089662c49c4b8f795440bcc7947",
       "version_major": 2,
       "version_minor": 0
      },
      "text/plain": [
       "  0%|          | 0/1 [00:00<?, ?ba/s]"
      ]
     },
     "metadata": {},
     "output_type": "display_data"
    }
   ],
   "source": [
    "path = MODELS[\"sst2-e5\"]\n",
    "model = BertForSequenceClassification.from_pretrained(path)\n",
    "tokenizer = AutoTokenizer.from_pretrained(path, use_fast=True, max_length=MAX_LENGTH)\n",
    "\n",
    "sel_dataset = dataset[SET].map(preprocess_function_wrapped(tokenizer), batched=True, batch_size=1024)\n",
    "dataset_size = len(sel_dataset)\n",
    "steps = int(np.ceil(dataset_size / BATCH_SIZE))"
   ]
  },
  {
   "cell_type": "code",
   "execution_count": 6,
   "metadata": {},
   "outputs": [
    {
     "data": {
      "application/vnd.jupyter.widget-view+json": {
       "model_id": "b570cbcbbc344fdba3abc8ef0f6f32a7",
       "version_major": 2,
       "version_minor": 0
      },
      "text/plain": [
       "Tokenize:   0%|          | 0/872 [00:00<?, ?it/s]"
      ]
     },
     "metadata": {},
     "output_type": "display_data"
    }
   ],
   "source": [
    "globencs = {\"globenc\": [], \"tokens\": [], \"cls\": []}\n",
    "lengths = []\n",
    "\n",
    "for i in tqdm(range(dataset_size), desc=\"Tokenize\"):\n",
    "    tokens, length = token_id_to_tokens_mapper(tokenizer, sel_dataset[i])\n",
    "    globencs[\"tokens\"].append(tokens)\n",
    "    lengths.append(length)"
   ]
  },
  {
   "cell_type": "code",
   "execution_count": 7,
   "metadata": {},
   "outputs": [],
   "source": [
    "sel_dataset = sel_dataset.add_column(\"length\", lengths)\n",
    "sel_dataset.set_format(type=\"torch\", columns=[\"input_ids\", \"token_type_ids\", \"attention_mask\", \"length\", \"idx\"])"
   ]
  },
  {
   "cell_type": "code",
   "execution_count": 22,
   "metadata": {},
   "outputs": [
    {
     "data": {
      "application/vnd.jupyter.widget-view+json": {
       "model_id": "59543705a2d249baa31b2ea729a75347",
       "version_major": 2,
       "version_minor": 0
      },
      "text/plain": [
       "  0%|          | 0/256 [00:00<?, ?it/s]"
      ]
     },
     "metadata": {},
     "output_type": "display_data"
    }
   ],
   "source": [
    "N = 256\n",
    "sims_mean = np.zeros((N, 12))\n",
    "sims_mean_tokens = np.zeros((N, 12))\n",
    "sims_cls = np.zeros((N, 12))\n",
    "sims_sep = np.zeros((N, 12))\n",
    "for idx in tqdm(range(N)):\n",
    "    with torch.no_grad():\n",
    "        batch = sel_dataset[idx]\n",
    "        input_batch = {k: batch[k].unsqueeze(dim=0) for k in [\"input_ids\", \"token_type_ids\", \"attention_mask\"]}\n",
    "        logits, hidden_states, norms, attribution_vectors = model(**input_batch, output_attentions=False, output_norms=False, \n",
    "                                                        return_dict=False, output_globenc=True, output_hidden_states=True, output_globenc_vectors=True)\n",
    "        for l in range(12):\n",
    "            all_sims = torch.nn.functional.cosine_similarity(hidden_states[l+1][0], attribution_vectors[l][0].sum(dim=1), dim=-1)\n",
    "            sims_mean_tokens[idx, l] = all_sims[1:-1].mean().numpy()\n",
    "            sims_mean[idx, l] = all_sims.mean().numpy()\n",
    "            sims_cls[idx, l] = all_sims[0].numpy()\n",
    "            sims_sep[idx, l] = all_sims[-1].numpy()"
   ]
  },
  {
   "cell_type": "code",
   "execution_count": 24,
   "metadata": {},
   "outputs": [
    {
     "data": {
      "image/png": "[encoded data removed]",
      "text/plain": [
       "<Figure size 432x288 with 1 Axes>"
      ]
     },
     "metadata": {
      "needs_background": "light"
     },
     "output_type": "display_data"
    }
   ],
   "source": [
    "import matplotlib.pyplot as plt\n",
    "plt.plot(sims_mean.mean(axis=0), label=\"AVG\")\n",
    "plt.plot(sims_mean_tokens.mean(axis=0), label=\"AVG w.o. SEP & CLS\")\n",
    "plt.plot(sims_cls.mean(axis=0), label=\"[CLS]\")\n",
    "plt.plot(sims_sep.mean(axis=0), label=\"[SEP]\")\n",
    "plt.xlabel(\"Layer\")\n",
    "plt.xticks(np.arange(0,12),np.arange(1,13))\n",
    "plt.ylabel(\"Cosine Sim.\")\n",
    "plt.legend()\n",
    "plt.grid(\"on\")\n",
    "plt.show()"
   ]
  },
  {
   "cell_type": "code",
   "execution_count": 35,
   "metadata": {},
   "outputs": [
    {
     "data": {
      "application/vnd.jupyter.widget-view+json": {
       "model_id": "88508c4990554307b807b08899728ddd",
       "version_major": 2,
       "version_minor": 0
      },
      "text/plain": [
       "  0%|          | 0/100 [00:00<?, ?it/s]"
      ]
     },
     "metadata": {},
     "output_type": "display_data"
    }
   ],
   "source": [
    "N = 100\n",
    "sims_mean = np.zeros((N, 12))\n",
    "sims_mean_tokens = np.zeros((N, 12))\n",
    "sims_cls = np.zeros((N, 12))\n",
    "sims_sep = np.zeros((N, 12))\n",
    "for idx in tqdm(range(N)):\n",
    "    with torch.no_grad():\n",
    "        batch = sel_dataset[idx]\n",
    "        input_batch = {k: batch[k].unsqueeze(dim=0) for k in [\"input_ids\", \"token_type_ids\", \"attention_mask\"]}\n",
    "        logits, hidden_states, norms, attribution_vectors = model(**input_batch, output_attentions=False, output_norms=False, \n",
    "                                                        return_dict=False, output_globenc=True, output_hidden_states=True, output_globenc_vectors=True)\n",
    "        for l in range(12):\n",
    "            all_sims = torch.nn.functional.cosine_similarity(model.bert.encoder.layer[l].output.LayerNorm.bias, attribution_vectors[l][0].sum(dim=1), dim=-1).abs()\n",
    "            sims_mean_tokens[idx, l] = all_sims[1:-1].mean().numpy()\n",
    "            sims_mean[idx, l] = all_sims.mean().numpy()\n",
    "            sims_cls[idx, l] = all_sims[0].numpy()\n",
    "            sims_sep[idx, l] = all_sims[-1].numpy()"
   ]
  },
  {
   "cell_type": "code",
   "execution_count": 36,
   "metadata": {},
   "outputs": [
    {
     "data": {
      "image/png": "[encoded data removed]",
      "text/plain": [
       "<Figure size 432x288 with 1 Axes>"
      ]
     },
     "metadata": {
      "needs_background": "light"
     },
     "output_type": "display_data"
    }
   ],
   "source": [
    "import matplotlib.pyplot as plt\n",
    "plt.plot(sims_mean.mean(axis=0), label=\"AVG\")\n",
    "plt.plot(sims_mean_tokens.mean(axis=0), label=\"AVG w.o. SEP & CLS\")\n",
    "plt.plot(sims_cls.mean(axis=0), label=\"[CLS]\")\n",
    "plt.plot(sims_sep.mean(axis=0), label=\"[SEP]\")\n",
    "plt.xlabel(\"Layer\")\n",
    "plt.xticks(np.arange(0,12),np.arange(1,13))\n",
    "plt.ylabel(\"Cosine Sim.\")\n",
    "plt.legend()\n",
    "plt.grid(\"on\")\n",
    "plt.title(\"LayerNorm Bias similarity\")\n",
    "plt.show()"
   ]
  },
  {
   "cell_type": "code",
   "execution_count": null,
   "metadata": {},
   "outputs": [],
   "source": []
  }
 ],
 "metadata": {
  "kernelspec": {
   "display_name": "Python 3.7.13 ('globenc-venv')",
   "language": "python",
   "name": "python3"
  },
  "language_info": {
   "codemirror_mode": {
    "name": "ipython",
    "version": 3
   },
   "file_extension": ".py",
   "mimetype": "text/x-python",
   "name": "python",
   "nbconvert_exporter": "python",
   "pygments_lexer": "ipython3",
   "version": "3.7.13 (default, Mar 29 2022, 02:18:16) \n[GCC 7.5.0]"
  },
  "orig_nbformat": 4,
  "vscode": {
   "interpreter": {
    "hash": "ad96aab5654ccd4e66bf13bd728d9d4512a27ebcee40fc973a7275c9c55ebd75"
   }
  }
 },
 "nbformat": 4,
 "nbformat_minor": 2
}
